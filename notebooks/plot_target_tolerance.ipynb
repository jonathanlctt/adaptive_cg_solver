{
 "cells": [
  {
   "cell_type": "code",
   "execution_count": 1,
   "metadata": {},
   "outputs": [
    {
     "data": {
      "text/html": [
       "<style>.container { width:85% !important; }</style>"
      ],
      "text/plain": [
       "<IPython.core.display.HTML object>"
      ]
     },
     "metadata": {},
     "output_type": "display_data"
    }
   ],
   "source": [
    "from IPython.display import display, HTML\n",
    "display(HTML(\"<style>.container { width:85% !important; }</style>\"))\n",
    "\n",
    "import warnings\n",
    "warnings.filterwarnings('ignore')\n",
    "\n",
    "%reload_ext autoreload\n",
    "%autoreload 2"
   ]
  },
  {
   "cell_type": "code",
   "execution_count": null,
   "metadata": {},
   "outputs": [],
   "source": []
  },
  {
   "cell_type": "code",
   "execution_count": 2,
   "metadata": {},
   "outputs": [],
   "source": [
    "import os\n",
    "from pathlib import Path\n",
    "\n",
    "import pandas as pd\n",
    "import torch\n",
    "import numpy as np \n",
    "import scipy\n",
    "\n",
    "import plotly.express as px\n",
    "\n",
    "from timeit import default_timer as time"
   ]
  },
  {
   "cell_type": "code",
   "execution_count": 3,
   "metadata": {
    "scrolled": true
   },
   "outputs": [],
   "source": [
    "dataset_name = 'synthetic'\n",
    "xp_name = '1114_0238'\n",
    "xp_dir = Path(f'/Users/jonathanlacotte/code/numerical_results/effective_dimension_solver/{dataset_name}/target_tolerance') / xp_name\n",
    "\n",
    "df = pd.read_parquet(xp_dir)\n",
    "\n",
    "try:\n",
    "    df = df.sort_values(['n', 'd', 'cn', 'method', 'sketch_fn'])\n",
    "except:\n",
    "    df = df.sort_values(['tolerance', 'reg_param', 'method', 'sketch_fn'])"
   ]
  },
  {
   "cell_type": "code",
   "execution_count": 5,
   "metadata": {
    "scrolled": false
   },
   "outputs": [
    {
     "name": "stdout",
     "output_type": "stream",
     "text": [
      "d=8192\n"
     ]
    },
    {
     "data": {
      "application/vnd.plotly.v1+json": {
       "config": {
        "plotlyServerURL": "https://plot.ly"
       },
       "data": [
        {
         "alignmentgroup": "True",
         "bingroup": "x",
         "cliponaxis": false,
         "histfunc": "sum",
         "hovertemplate": "method=adacg<br>sketch_fn=%{x}<br>n=8192<br>deff=32<br>sum of time=%{y}<extra></extra>",
         "legendgroup": "adacg, gaussian",
         "marker": {
          "color": "#636efa",
          "pattern": {
           "shape": ""
          }
         },
         "name": "adacg, gaussian",
         "offsetgroup": "adacg, gaussian",
         "orientation": "v",
         "showlegend": true,
         "textangle": 0,
         "textposition": "outside",
         "texttemplate": "%{value:.2s}",
         "type": "histogram",
         "x": [
          "gaussian"
         ],
         "xaxis": "x",
         "y": [
          0.5042257863333361
         ],
         "yaxis": "y"
        },
        {
         "alignmentgroup": "True",
         "bingroup": "x",
         "cliponaxis": false,
         "histfunc": "sum",
         "hovertemplate": "method=adacg<br>sketch_fn=%{x}<br>n=8192<br>deff=64<br>sum of time=%{y}<extra></extra>",
         "legendgroup": "adacg, gaussian",
         "marker": {
          "color": "#636efa",
          "pattern": {
           "shape": ""
          }
         },
         "name": "adacg, gaussian",
         "offsetgroup": "adacg, gaussian",
         "orientation": "v",
         "showlegend": false,
         "textangle": 0,
         "textposition": "outside",
         "texttemplate": "%{value:.2s}",
         "type": "histogram",
         "x": [
          "gaussian"
         ],
         "xaxis": "x2",
         "y": [
          0.43788390233263874
         ],
         "yaxis": "y2"
        },
        {
         "alignmentgroup": "True",
         "bingroup": "x",
         "cliponaxis": false,
         "histfunc": "sum",
         "hovertemplate": "method=adacg<br>sketch_fn=%{x}<br>n=8192<br>deff=128<br>sum of time=%{y}<extra></extra>",
         "legendgroup": "adacg, gaussian",
         "marker": {
          "color": "#636efa",
          "pattern": {
           "shape": ""
          }
         },
         "name": "adacg, gaussian",
         "offsetgroup": "adacg, gaussian",
         "orientation": "v",
         "showlegend": false,
         "textangle": 0,
         "textposition": "outside",
         "texttemplate": "%{value:.2s}",
         "type": "histogram",
         "x": [
          "gaussian"
         ],
         "xaxis": "x3",
         "y": [
          8.276255361000949
         ],
         "yaxis": "y3"
        },
        {
         "alignmentgroup": "True",
         "bingroup": "x",
         "cliponaxis": false,
         "histfunc": "sum",
         "hovertemplate": "method=adacg<br>sketch_fn=%{x}<br>n=8192<br>deff=256<br>sum of time=%{y}<extra></extra>",
         "legendgroup": "adacg, gaussian",
         "marker": {
          "color": "#636efa",
          "pattern": {
           "shape": ""
          }
         },
         "name": "adacg, gaussian",
         "offsetgroup": "adacg, gaussian",
         "orientation": "v",
         "showlegend": false,
         "textangle": 0,
         "textposition": "outside",
         "texttemplate": "%{value:.2s}",
         "type": "histogram",
         "x": [
          "gaussian"
         ],
         "xaxis": "x4",
         "y": [
          8.432833448333742
         ],
         "yaxis": "y4"
        },
        {
         "alignmentgroup": "True",
         "bingroup": "x",
         "cliponaxis": false,
         "histfunc": "sum",
         "hovertemplate": "method=adacg<br>sketch_fn=%{x}<br>n=8192<br>deff=512<br>sum of time=%{y}<extra></extra>",
         "legendgroup": "adacg, gaussian",
         "marker": {
          "color": "#636efa",
          "pattern": {
           "shape": ""
          }
         },
         "name": "adacg, gaussian",
         "offsetgroup": "adacg, gaussian",
         "orientation": "v",
         "showlegend": false,
         "textangle": 0,
         "textposition": "outside",
         "texttemplate": "%{value:.2s}",
         "type": "histogram",
         "x": [
          "gaussian"
         ],
         "xaxis": "x5",
         "y": [
          8.906965404334187
         ],
         "yaxis": "y5"
        },
        {
         "alignmentgroup": "True",
         "bingroup": "x",
         "cliponaxis": false,
         "histfunc": "sum",
         "hovertemplate": "method=adacg<br>sketch_fn=%{x}<br>n=8192<br>deff=1024<br>sum of time=%{y}<extra></extra>",
         "legendgroup": "adacg, gaussian",
         "marker": {
          "color": "#636efa",
          "pattern": {
           "shape": ""
          }
         },
         "name": "adacg, gaussian",
         "offsetgroup": "adacg, gaussian",
         "orientation": "v",
         "showlegend": false,
         "textangle": 0,
         "textposition": "outside",
         "texttemplate": "%{value:.2s}",
         "type": "histogram",
         "x": [
          "gaussian"
         ],
         "xaxis": "x6",
         "y": [
          15.042728947665939
         ],
         "yaxis": "y6"
        },
        {
         "alignmentgroup": "True",
         "bingroup": "x",
         "cliponaxis": false,
         "histfunc": "sum",
         "hovertemplate": "method=adacg<br>sketch_fn=%{x}<br>n=8192<br>deff=2048<br>sum of time=%{y}<extra></extra>",
         "legendgroup": "adacg, gaussian",
         "marker": {
          "color": "#636efa",
          "pattern": {
           "shape": ""
          }
         },
         "name": "adacg, gaussian",
         "offsetgroup": "adacg, gaussian",
         "orientation": "v",
         "showlegend": false,
         "textangle": 0,
         "textposition": "outside",
         "texttemplate": "%{value:.2s}",
         "type": "histogram",
         "x": [
          "gaussian"
         ],
         "xaxis": "x7",
         "y": [
          17.911279951998342
         ],
         "yaxis": "y7"
        },
        {
         "alignmentgroup": "True",
         "bingroup": "x",
         "cliponaxis": false,
         "histfunc": "sum",
         "hovertemplate": "method=adacg<br>sketch_fn=%{x}<br>n=8192<br>deff=4096<br>sum of time=%{y}<extra></extra>",
         "legendgroup": "adacg, gaussian",
         "marker": {
          "color": "#636efa",
          "pattern": {
           "shape": ""
          }
         },
         "name": "adacg, gaussian",
         "offsetgroup": "adacg, gaussian",
         "orientation": "v",
         "showlegend": false,
         "textangle": 0,
         "textposition": "outside",
         "texttemplate": "%{value:.2s}",
         "type": "histogram",
         "x": [
          "gaussian"
         ],
         "xaxis": "x8",
         "y": [
          31.7019457819988
         ],
         "yaxis": "y8"
        },
        {
         "alignmentgroup": "True",
         "bingroup": "x",
         "cliponaxis": false,
         "histfunc": "sum",
         "hovertemplate": "method=adacg<br>sketch_fn=%{x}<br>n=8192<br>deff=8192<br>sum of time=%{y}<extra></extra>",
         "legendgroup": "adacg, gaussian",
         "marker": {
          "color": "#636efa",
          "pattern": {
           "shape": ""
          }
         },
         "name": "adacg, gaussian",
         "offsetgroup": "adacg, gaussian",
         "orientation": "v",
         "showlegend": false,
         "textangle": 0,
         "textposition": "outside",
         "texttemplate": "%{value:.2s}",
         "type": "histogram",
         "x": [
          "gaussian"
         ],
         "xaxis": "x9",
         "y": [
          30.839008439333455
         ],
         "yaxis": "y9"
        },
        {
         "alignmentgroup": "True",
         "bingroup": "x",
         "cliponaxis": false,
         "histfunc": "sum",
         "hovertemplate": "method=adacg<br>sketch_fn=%{x}<br>n=8192<br>deff=32<br>sum of time=%{y}<extra></extra>",
         "legendgroup": "adacg, sjlt",
         "marker": {
          "color": "#636efa",
          "pattern": {
           "shape": "/"
          }
         },
         "name": "adacg, sjlt",
         "offsetgroup": "adacg, sjlt",
         "orientation": "v",
         "showlegend": true,
         "textangle": 0,
         "textposition": "outside",
         "texttemplate": "%{value:.2s}",
         "type": "histogram",
         "x": [
          "sjlt"
         ],
         "xaxis": "x",
         "y": [
          0.5759460223331795
         ],
         "yaxis": "y"
        },
        {
         "alignmentgroup": "True",
         "bingroup": "x",
         "cliponaxis": false,
         "histfunc": "sum",
         "hovertemplate": "method=adacg<br>sketch_fn=%{x}<br>n=8192<br>deff=64<br>sum of time=%{y}<extra></extra>",
         "legendgroup": "adacg, sjlt",
         "marker": {
          "color": "#636efa",
          "pattern": {
           "shape": "/"
          }
         },
         "name": "adacg, sjlt",
         "offsetgroup": "adacg, sjlt",
         "orientation": "v",
         "showlegend": false,
         "textangle": 0,
         "textposition": "outside",
         "texttemplate": "%{value:.2s}",
         "type": "histogram",
         "x": [
          "sjlt"
         ],
         "xaxis": "x2",
         "y": [
          0.5259269536672946
         ],
         "yaxis": "y2"
        },
        {
         "alignmentgroup": "True",
         "bingroup": "x",
         "cliponaxis": false,
         "histfunc": "sum",
         "hovertemplate": "method=adacg<br>sketch_fn=%{x}<br>n=8192<br>deff=128<br>sum of time=%{y}<extra></extra>",
         "legendgroup": "adacg, sjlt",
         "marker": {
          "color": "#636efa",
          "pattern": {
           "shape": "/"
          }
         },
         "name": "adacg, sjlt",
         "offsetgroup": "adacg, sjlt",
         "orientation": "v",
         "showlegend": false,
         "textangle": 0,
         "textposition": "outside",
         "texttemplate": "%{value:.2s}",
         "type": "histogram",
         "x": [
          "sjlt"
         ],
         "xaxis": "x3",
         "y": [
          7.049390928333498
         ],
         "yaxis": "y3"
        },
        {
         "alignmentgroup": "True",
         "bingroup": "x",
         "cliponaxis": false,
         "histfunc": "sum",
         "hovertemplate": "method=adacg<br>sketch_fn=%{x}<br>n=8192<br>deff=256<br>sum of time=%{y}<extra></extra>",
         "legendgroup": "adacg, sjlt",
         "marker": {
          "color": "#636efa",
          "pattern": {
           "shape": "/"
          }
         },
         "name": "adacg, sjlt",
         "offsetgroup": "adacg, sjlt",
         "orientation": "v",
         "showlegend": false,
         "textangle": 0,
         "textposition": "outside",
         "texttemplate": "%{value:.2s}",
         "type": "histogram",
         "x": [
          "sjlt"
         ],
         "xaxis": "x4",
         "y": [
          7.221864040666938
         ],
         "yaxis": "y4"
        },
        {
         "alignmentgroup": "True",
         "bingroup": "x",
         "cliponaxis": false,
         "histfunc": "sum",
         "hovertemplate": "method=adacg<br>sketch_fn=%{x}<br>n=8192<br>deff=512<br>sum of time=%{y}<extra></extra>",
         "legendgroup": "adacg, sjlt",
         "marker": {
          "color": "#636efa",
          "pattern": {
           "shape": "/"
          }
         },
         "name": "adacg, sjlt",
         "offsetgroup": "adacg, sjlt",
         "orientation": "v",
         "showlegend": false,
         "textangle": 0,
         "textposition": "outside",
         "texttemplate": "%{value:.2s}",
         "type": "histogram",
         "x": [
          "sjlt"
         ],
         "xaxis": "x5",
         "y": [
          16.6297401473336
         ],
         "yaxis": "y5"
        },
        {
         "alignmentgroup": "True",
         "bingroup": "x",
         "cliponaxis": false,
         "histfunc": "sum",
         "hovertemplate": "method=adacg<br>sketch_fn=%{x}<br>n=8192<br>deff=1024<br>sum of time=%{y}<extra></extra>",
         "legendgroup": "adacg, sjlt",
         "marker": {
          "color": "#636efa",
          "pattern": {
           "shape": "/"
          }
         },
         "name": "adacg, sjlt",
         "offsetgroup": "adacg, sjlt",
         "orientation": "v",
         "showlegend": false,
         "textangle": 0,
         "textposition": "outside",
         "texttemplate": "%{value:.2s}",
         "type": "histogram",
         "x": [
          "sjlt"
         ],
         "xaxis": "x6",
         "y": [
          17.05473553866735
         ],
         "yaxis": "y6"
        },
        {
         "alignmentgroup": "True",
         "bingroup": "x",
         "cliponaxis": false,
         "histfunc": "sum",
         "hovertemplate": "method=adacg<br>sketch_fn=%{x}<br>n=8192<br>deff=2048<br>sum of time=%{y}<extra></extra>",
         "legendgroup": "adacg, sjlt",
         "marker": {
          "color": "#636efa",
          "pattern": {
           "shape": "/"
          }
         },
         "name": "adacg, sjlt",
         "offsetgroup": "adacg, sjlt",
         "orientation": "v",
         "showlegend": false,
         "textangle": 0,
         "textposition": "outside",
         "texttemplate": "%{value:.2s}",
         "type": "histogram",
         "x": [
          "sjlt"
         ],
         "xaxis": "x7",
         "y": [
          19.262119168333204
         ],
         "yaxis": "y7"
        },
        {
         "alignmentgroup": "True",
         "bingroup": "x",
         "cliponaxis": false,
         "histfunc": "sum",
         "hovertemplate": "method=adacg<br>sketch_fn=%{x}<br>n=8192<br>deff=4096<br>sum of time=%{y}<extra></extra>",
         "legendgroup": "adacg, sjlt",
         "marker": {
          "color": "#636efa",
          "pattern": {
           "shape": "/"
          }
         },
         "name": "adacg, sjlt",
         "offsetgroup": "adacg, sjlt",
         "orientation": "v",
         "showlegend": false,
         "textangle": 0,
         "textposition": "outside",
         "texttemplate": "%{value:.2s}",
         "type": "histogram",
         "x": [
          "sjlt"
         ],
         "xaxis": "x8",
         "y": [
          30.676149574000494
         ],
         "yaxis": "y8"
        },
        {
         "alignmentgroup": "True",
         "bingroup": "x",
         "cliponaxis": false,
         "histfunc": "sum",
         "hovertemplate": "method=adacg<br>sketch_fn=%{x}<br>n=8192<br>deff=8192<br>sum of time=%{y}<extra></extra>",
         "legendgroup": "adacg, sjlt",
         "marker": {
          "color": "#636efa",
          "pattern": {
           "shape": "/"
          }
         },
         "name": "adacg, sjlt",
         "offsetgroup": "adacg, sjlt",
         "orientation": "v",
         "showlegend": false,
         "textangle": 0,
         "textposition": "outside",
         "texttemplate": "%{value:.2s}",
         "type": "histogram",
         "x": [
          "sjlt"
         ],
         "xaxis": "x9",
         "y": [
          30.458514743666456
         ],
         "yaxis": "y9"
        },
        {
         "alignmentgroup": "True",
         "bingroup": "x",
         "cliponaxis": false,
         "histfunc": "sum",
         "hovertemplate": "method=adacg<br>sketch_fn=%{x}<br>n=8192<br>deff=32<br>sum of time=%{y}<extra></extra>",
         "legendgroup": "adacg, srht",
         "marker": {
          "color": "#636efa",
          "pattern": {
           "shape": "\\"
          }
         },
         "name": "adacg, srht",
         "offsetgroup": "adacg, srht",
         "orientation": "v",
         "showlegend": true,
         "textangle": 0,
         "textposition": "outside",
         "texttemplate": "%{value:.2s}",
         "type": "histogram",
         "x": [
          "srht"
         ],
         "xaxis": "x",
         "y": [
          0.6363546860005347
         ],
         "yaxis": "y"
        },
        {
         "alignmentgroup": "True",
         "bingroup": "x",
         "cliponaxis": false,
         "histfunc": "sum",
         "hovertemplate": "method=adacg<br>sketch_fn=%{x}<br>n=8192<br>deff=64<br>sum of time=%{y}<extra></extra>",
         "legendgroup": "adacg, srht",
         "marker": {
          "color": "#636efa",
          "pattern": {
           "shape": "\\"
          }
         },
         "name": "adacg, srht",
         "offsetgroup": "adacg, srht",
         "orientation": "v",
         "showlegend": false,
         "textangle": 0,
         "textposition": "outside",
         "texttemplate": "%{value:.2s}",
         "type": "histogram",
         "x": [
          "srht"
         ],
         "xaxis": "x2",
         "y": [
          0.5718859796664522
         ],
         "yaxis": "y2"
        },
        {
         "alignmentgroup": "True",
         "bingroup": "x",
         "cliponaxis": false,
         "histfunc": "sum",
         "hovertemplate": "method=adacg<br>sketch_fn=%{x}<br>n=8192<br>deff=128<br>sum of time=%{y}<extra></extra>",
         "legendgroup": "adacg, srht",
         "marker": {
          "color": "#636efa",
          "pattern": {
           "shape": "\\"
          }
         },
         "name": "adacg, srht",
         "offsetgroup": "adacg, srht",
         "orientation": "v",
         "showlegend": false,
         "textangle": 0,
         "textposition": "outside",
         "texttemplate": "%{value:.2s}",
         "type": "histogram",
         "x": [
          "srht"
         ],
         "xaxis": "x3",
         "y": [
          6.529526948333416
         ],
         "yaxis": "y3"
        },
        {
         "alignmentgroup": "True",
         "bingroup": "x",
         "cliponaxis": false,
         "histfunc": "sum",
         "hovertemplate": "method=adacg<br>sketch_fn=%{x}<br>n=8192<br>deff=256<br>sum of time=%{y}<extra></extra>",
         "legendgroup": "adacg, srht",
         "marker": {
          "color": "#636efa",
          "pattern": {
           "shape": "\\"
          }
         },
         "name": "adacg, srht",
         "offsetgroup": "adacg, srht",
         "orientation": "v",
         "showlegend": false,
         "textangle": 0,
         "textposition": "outside",
         "texttemplate": "%{value:.2s}",
         "type": "histogram",
         "x": [
          "srht"
         ],
         "xaxis": "x4",
         "y": [
          6.516502405333691
         ],
         "yaxis": "y4"
        },
        {
         "alignmentgroup": "True",
         "bingroup": "x",
         "cliponaxis": false,
         "histfunc": "sum",
         "hovertemplate": "method=adacg<br>sketch_fn=%{x}<br>n=8192<br>deff=512<br>sum of time=%{y}<extra></extra>",
         "legendgroup": "adacg, srht",
         "marker": {
          "color": "#636efa",
          "pattern": {
           "shape": "\\"
          }
         },
         "name": "adacg, srht",
         "offsetgroup": "adacg, srht",
         "orientation": "v",
         "showlegend": false,
         "textangle": 0,
         "textposition": "outside",
         "texttemplate": "%{value:.2s}",
         "type": "histogram",
         "x": [
          "srht"
         ],
         "xaxis": "x5",
         "y": [
          6.512589532666121
         ],
         "yaxis": "y5"
        },
        {
         "alignmentgroup": "True",
         "bingroup": "x",
         "cliponaxis": false,
         "histfunc": "sum",
         "hovertemplate": "method=adacg<br>sketch_fn=%{x}<br>n=8192<br>deff=1024<br>sum of time=%{y}<extra></extra>",
         "legendgroup": "adacg, srht",
         "marker": {
          "color": "#636efa",
          "pattern": {
           "shape": "\\"
          }
         },
         "name": "adacg, srht",
         "offsetgroup": "adacg, srht",
         "orientation": "v",
         "showlegend": false,
         "textangle": 0,
         "textposition": "outside",
         "texttemplate": "%{value:.2s}",
         "type": "histogram",
         "x": [
          "srht"
         ],
         "xaxis": "x6",
         "y": [
          11.848907098998703
         ],
         "yaxis": "y6"
        },
        {
         "alignmentgroup": "True",
         "bingroup": "x",
         "cliponaxis": false,
         "histfunc": "sum",
         "hovertemplate": "method=adacg<br>sketch_fn=%{x}<br>n=8192<br>deff=2048<br>sum of time=%{y}<extra></extra>",
         "legendgroup": "adacg, srht",
         "marker": {
          "color": "#636efa",
          "pattern": {
           "shape": "\\"
          }
         },
         "name": "adacg, srht",
         "offsetgroup": "adacg, srht",
         "orientation": "v",
         "showlegend": false,
         "textangle": 0,
         "textposition": "outside",
         "texttemplate": "%{value:.2s}",
         "type": "histogram",
         "x": [
          "srht"
         ],
         "xaxis": "x7",
         "y": [
          21.860534941999504
         ],
         "yaxis": "y7"
        },
        {
         "alignmentgroup": "True",
         "bingroup": "x",
         "cliponaxis": false,
         "histfunc": "sum",
         "hovertemplate": "method=adacg<br>sketch_fn=%{x}<br>n=8192<br>deff=4096<br>sum of time=%{y}<extra></extra>",
         "legendgroup": "adacg, srht",
         "marker": {
          "color": "#636efa",
          "pattern": {
           "shape": "\\"
          }
         },
         "name": "adacg, srht",
         "offsetgroup": "adacg, srht",
         "orientation": "v",
         "showlegend": false,
         "textangle": 0,
         "textposition": "outside",
         "texttemplate": "%{value:.2s}",
         "type": "histogram",
         "x": [
          "srht"
         ],
         "xaxis": "x8",
         "y": [
          22.355365581667378
         ],
         "yaxis": "y8"
        },
        {
         "alignmentgroup": "True",
         "bingroup": "x",
         "cliponaxis": false,
         "histfunc": "sum",
         "hovertemplate": "method=adacg<br>sketch_fn=%{x}<br>n=8192<br>deff=8192<br>sum of time=%{y}<extra></extra>",
         "legendgroup": "adacg, srht",
         "marker": {
          "color": "#636efa",
          "pattern": {
           "shape": "\\"
          }
         },
         "name": "adacg, srht",
         "offsetgroup": "adacg, srht",
         "orientation": "v",
         "showlegend": false,
         "textangle": 0,
         "textposition": "outside",
         "texttemplate": "%{value:.2s}",
         "type": "histogram",
         "x": [
          "srht"
         ],
         "xaxis": "x9",
         "y": [
          32.578846002332284
         ],
         "yaxis": "y9"
        },
        {
         "alignmentgroup": "True",
         "bingroup": "x",
         "cliponaxis": false,
         "histfunc": "sum",
         "hovertemplate": "method=cg<br>sketch_fn=%{x}<br>n=8192<br>deff=32<br>sum of time=%{y}<extra></extra>",
         "legendgroup": "cg, none",
         "marker": {
          "color": "#EF553B",
          "pattern": {
           "shape": "x"
          }
         },
         "name": "cg, none",
         "offsetgroup": "cg, none",
         "orientation": "v",
         "showlegend": true,
         "textangle": 0,
         "textposition": "outside",
         "texttemplate": "%{value:.2s}",
         "type": "histogram",
         "x": [
          "none"
         ],
         "xaxis": "x",
         "y": [
          0.38602155400015664
         ],
         "yaxis": "y"
        },
        {
         "alignmentgroup": "True",
         "bingroup": "x",
         "cliponaxis": false,
         "histfunc": "sum",
         "hovertemplate": "method=cg<br>sketch_fn=%{x}<br>n=8192<br>deff=64<br>sum of time=%{y}<extra></extra>",
         "legendgroup": "cg, none",
         "marker": {
          "color": "#EF553B",
          "pattern": {
           "shape": "x"
          }
         },
         "name": "cg, none",
         "offsetgroup": "cg, none",
         "orientation": "v",
         "showlegend": false,
         "textangle": 0,
         "textposition": "outside",
         "texttemplate": "%{value:.2s}",
         "type": "histogram",
         "x": [
          "none"
         ],
         "xaxis": "x2",
         "y": [
          0.34526225166761526
         ],
         "yaxis": "y2"
        },
        {
         "alignmentgroup": "True",
         "bingroup": "x",
         "cliponaxis": false,
         "histfunc": "sum",
         "hovertemplate": "method=cg<br>sketch_fn=%{x}<br>n=8192<br>deff=128<br>sum of time=%{y}<extra></extra>",
         "legendgroup": "cg, none",
         "marker": {
          "color": "#EF553B",
          "pattern": {
           "shape": "x"
          }
         },
         "name": "cg, none",
         "offsetgroup": "cg, none",
         "orientation": "v",
         "showlegend": false,
         "textangle": 0,
         "textposition": "outside",
         "texttemplate": "%{value:.2s}",
         "type": "histogram",
         "x": [
          "none"
         ],
         "xaxis": "x3",
         "y": [
          9.37041172599917
         ],
         "yaxis": "y3"
        },
        {
         "alignmentgroup": "True",
         "bingroup": "x",
         "cliponaxis": false,
         "histfunc": "sum",
         "hovertemplate": "method=cg<br>sketch_fn=%{x}<br>n=8192<br>deff=256<br>sum of time=%{y}<extra></extra>",
         "legendgroup": "cg, none",
         "marker": {
          "color": "#EF553B",
          "pattern": {
           "shape": "x"
          }
         },
         "name": "cg, none",
         "offsetgroup": "cg, none",
         "orientation": "v",
         "showlegend": false,
         "textangle": 0,
         "textposition": "outside",
         "texttemplate": "%{value:.2s}",
         "type": "histogram",
         "x": [
          "none"
         ],
         "xaxis": "x4",
         "y": [
          28.48013367766604
         ],
         "yaxis": "y4"
        },
        {
         "alignmentgroup": "True",
         "bingroup": "x",
         "cliponaxis": false,
         "histfunc": "sum",
         "hovertemplate": "method=cg<br>sketch_fn=%{x}<br>n=8192<br>deff=512<br>sum of time=%{y}<extra></extra>",
         "legendgroup": "cg, none",
         "marker": {
          "color": "#EF553B",
          "pattern": {
           "shape": "x"
          }
         },
         "name": "cg, none",
         "offsetgroup": "cg, none",
         "orientation": "v",
         "showlegend": false,
         "textangle": 0,
         "textposition": "outside",
         "texttemplate": "%{value:.2s}",
         "type": "histogram",
         "x": [
          "none"
         ],
         "xaxis": "x5",
         "y": [
          65.38878629666699
         ],
         "yaxis": "y5"
        },
        {
         "alignmentgroup": "True",
         "bingroup": "x",
         "cliponaxis": false,
         "histfunc": "sum",
         "hovertemplate": "method=cg<br>sketch_fn=%{x}<br>n=8192<br>deff=1024<br>sum of time=%{y}<extra></extra>",
         "legendgroup": "cg, none",
         "marker": {
          "color": "#EF553B",
          "pattern": {
           "shape": "x"
          }
         },
         "name": "cg, none",
         "offsetgroup": "cg, none",
         "orientation": "v",
         "showlegend": false,
         "textangle": 0,
         "textposition": "outside",
         "texttemplate": "%{value:.2s}",
         "type": "histogram",
         "x": [
          "none"
         ],
         "xaxis": "x6",
         "y": [
          85.6102528003333
         ],
         "yaxis": "y6"
        },
        {
         "alignmentgroup": "True",
         "bingroup": "x",
         "cliponaxis": false,
         "histfunc": "sum",
         "hovertemplate": "method=cg<br>sketch_fn=%{x}<br>n=8192<br>deff=2048<br>sum of time=%{y}<extra></extra>",
         "legendgroup": "cg, none",
         "marker": {
          "color": "#EF553B",
          "pattern": {
           "shape": "x"
          }
         },
         "name": "cg, none",
         "offsetgroup": "cg, none",
         "orientation": "v",
         "showlegend": false,
         "textangle": 0,
         "textposition": "outside",
         "texttemplate": "%{value:.2s}",
         "type": "histogram",
         "x": [
          "none"
         ],
         "xaxis": "x7",
         "y": [
          103.52154419699946
         ],
         "yaxis": "y7"
        },
        {
         "alignmentgroup": "True",
         "bingroup": "x",
         "cliponaxis": false,
         "histfunc": "sum",
         "hovertemplate": "method=cg<br>sketch_fn=%{x}<br>n=8192<br>deff=4096<br>sum of time=%{y}<extra></extra>",
         "legendgroup": "cg, none",
         "marker": {
          "color": "#EF553B",
          "pattern": {
           "shape": "x"
          }
         },
         "name": "cg, none",
         "offsetgroup": "cg, none",
         "orientation": "v",
         "showlegend": false,
         "textangle": 0,
         "textposition": "outside",
         "texttemplate": "%{value:.2s}",
         "type": "histogram",
         "x": [
          "none"
         ],
         "xaxis": "x8",
         "y": [
          103.30154553866669
         ],
         "yaxis": "y8"
        },
        {
         "alignmentgroup": "True",
         "bingroup": "x",
         "cliponaxis": false,
         "histfunc": "sum",
         "hovertemplate": "method=cg<br>sketch_fn=%{x}<br>n=8192<br>deff=8192<br>sum of time=%{y}<extra></extra>",
         "legendgroup": "cg, none",
         "marker": {
          "color": "#EF553B",
          "pattern": {
           "shape": "x"
          }
         },
         "name": "cg, none",
         "offsetgroup": "cg, none",
         "orientation": "v",
         "showlegend": false,
         "textangle": 0,
         "textposition": "outside",
         "texttemplate": "%{value:.2s}",
         "type": "histogram",
         "x": [
          "none"
         ],
         "xaxis": "x9",
         "y": [
          100.76732386866811
         ],
         "yaxis": "y9"
        },
        {
         "alignmentgroup": "True",
         "bingroup": "x",
         "cliponaxis": false,
         "histfunc": "sum",
         "hovertemplate": "method=dm<br>sketch_fn=%{x}<br>n=8192<br>deff=32<br>sum of time=%{y}<extra></extra>",
         "legendgroup": "dm, none",
         "marker": {
          "color": "#00cc96",
          "pattern": {
           "shape": "x"
          }
         },
         "name": "dm, none",
         "offsetgroup": "dm, none",
         "orientation": "v",
         "showlegend": true,
         "textangle": 0,
         "textposition": "outside",
         "texttemplate": "%{value:.2s}",
         "type": "histogram",
         "x": [
          "none"
         ],
         "xaxis": "x",
         "y": [
          20.36028287299996
         ],
         "yaxis": "y"
        },
        {
         "alignmentgroup": "True",
         "bingroup": "x",
         "cliponaxis": false,
         "histfunc": "sum",
         "hovertemplate": "method=dm<br>sketch_fn=%{x}<br>n=8192<br>deff=64<br>sum of time=%{y}<extra></extra>",
         "legendgroup": "dm, none",
         "marker": {
          "color": "#00cc96",
          "pattern": {
           "shape": "x"
          }
         },
         "name": "dm, none",
         "offsetgroup": "dm, none",
         "orientation": "v",
         "showlegend": false,
         "textangle": 0,
         "textposition": "outside",
         "texttemplate": "%{value:.2s}",
         "type": "histogram",
         "x": [
          "none"
         ],
         "xaxis": "x2",
         "y": [
          20.359075803999076
         ],
         "yaxis": "y2"
        },
        {
         "alignmentgroup": "True",
         "bingroup": "x",
         "cliponaxis": false,
         "histfunc": "sum",
         "hovertemplate": "method=dm<br>sketch_fn=%{x}<br>n=8192<br>deff=128<br>sum of time=%{y}<extra></extra>",
         "legendgroup": "dm, none",
         "marker": {
          "color": "#00cc96",
          "pattern": {
           "shape": "x"
          }
         },
         "name": "dm, none",
         "offsetgroup": "dm, none",
         "orientation": "v",
         "showlegend": false,
         "textangle": 0,
         "textposition": "outside",
         "texttemplate": "%{value:.2s}",
         "type": "histogram",
         "x": [
          "none"
         ],
         "xaxis": "x3",
         "y": [
          20.64453695100019
         ],
         "yaxis": "y3"
        },
        {
         "alignmentgroup": "True",
         "bingroup": "x",
         "cliponaxis": false,
         "histfunc": "sum",
         "hovertemplate": "method=dm<br>sketch_fn=%{x}<br>n=8192<br>deff=256<br>sum of time=%{y}<extra></extra>",
         "legendgroup": "dm, none",
         "marker": {
          "color": "#00cc96",
          "pattern": {
           "shape": "x"
          }
         },
         "name": "dm, none",
         "offsetgroup": "dm, none",
         "orientation": "v",
         "showlegend": false,
         "textangle": 0,
         "textposition": "outside",
         "texttemplate": "%{value:.2s}",
         "type": "histogram",
         "x": [
          "none"
         ],
         "xaxis": "x4",
         "y": [
          20.671141857999828
         ],
         "yaxis": "y4"
        },
        {
         "alignmentgroup": "True",
         "bingroup": "x",
         "cliponaxis": false,
         "histfunc": "sum",
         "hovertemplate": "method=dm<br>sketch_fn=%{x}<br>n=8192<br>deff=512<br>sum of time=%{y}<extra></extra>",
         "legendgroup": "dm, none",
         "marker": {
          "color": "#00cc96",
          "pattern": {
           "shape": "x"
          }
         },
         "name": "dm, none",
         "offsetgroup": "dm, none",
         "orientation": "v",
         "showlegend": false,
         "textangle": 0,
         "textposition": "outside",
         "texttemplate": "%{value:.2s}",
         "type": "histogram",
         "x": [
          "none"
         ],
         "xaxis": "x5",
         "y": [
          20.580792643999303
         ],
         "yaxis": "y5"
        },
        {
         "alignmentgroup": "True",
         "bingroup": "x",
         "cliponaxis": false,
         "histfunc": "sum",
         "hovertemplate": "method=dm<br>sketch_fn=%{x}<br>n=8192<br>deff=1024<br>sum of time=%{y}<extra></extra>",
         "legendgroup": "dm, none",
         "marker": {
          "color": "#00cc96",
          "pattern": {
           "shape": "x"
          }
         },
         "name": "dm, none",
         "offsetgroup": "dm, none",
         "orientation": "v",
         "showlegend": false,
         "textangle": 0,
         "textposition": "outside",
         "texttemplate": "%{value:.2s}",
         "type": "histogram",
         "x": [
          "none"
         ],
         "xaxis": "x6",
         "y": [
          20.67445468599908
         ],
         "yaxis": "y6"
        },
        {
         "alignmentgroup": "True",
         "bingroup": "x",
         "cliponaxis": false,
         "histfunc": "sum",
         "hovertemplate": "method=dm<br>sketch_fn=%{x}<br>n=8192<br>deff=2048<br>sum of time=%{y}<extra></extra>",
         "legendgroup": "dm, none",
         "marker": {
          "color": "#00cc96",
          "pattern": {
           "shape": "x"
          }
         },
         "name": "dm, none",
         "offsetgroup": "dm, none",
         "orientation": "v",
         "showlegend": false,
         "textangle": 0,
         "textposition": "outside",
         "texttemplate": "%{value:.2s}",
         "type": "histogram",
         "x": [
          "none"
         ],
         "xaxis": "x7",
         "y": [
          20.612157667997963
         ],
         "yaxis": "y7"
        },
        {
         "alignmentgroup": "True",
         "bingroup": "x",
         "cliponaxis": false,
         "histfunc": "sum",
         "hovertemplate": "method=dm<br>sketch_fn=%{x}<br>n=8192<br>deff=4096<br>sum of time=%{y}<extra></extra>",
         "legendgroup": "dm, none",
         "marker": {
          "color": "#00cc96",
          "pattern": {
           "shape": "x"
          }
         },
         "name": "dm, none",
         "offsetgroup": "dm, none",
         "orientation": "v",
         "showlegend": false,
         "textangle": 0,
         "textposition": "outside",
         "texttemplate": "%{value:.2s}",
         "type": "histogram",
         "x": [
          "none"
         ],
         "xaxis": "x8",
         "y": [
          20.623164653999993
         ],
         "yaxis": "y8"
        },
        {
         "alignmentgroup": "True",
         "bingroup": "x",
         "cliponaxis": false,
         "histfunc": "sum",
         "hovertemplate": "method=dm<br>sketch_fn=%{x}<br>n=8192<br>deff=8192<br>sum of time=%{y}<extra></extra>",
         "legendgroup": "dm, none",
         "marker": {
          "color": "#00cc96",
          "pattern": {
           "shape": "x"
          }
         },
         "name": "dm, none",
         "offsetgroup": "dm, none",
         "orientation": "v",
         "showlegend": false,
         "textangle": 0,
         "textposition": "outside",
         "texttemplate": "%{value:.2s}",
         "type": "histogram",
         "x": [
          "none"
         ],
         "xaxis": "x9",
         "y": [
          20.80669911699806
         ],
         "yaxis": "y9"
        },
        {
         "alignmentgroup": "True",
         "bingroup": "x",
         "cliponaxis": false,
         "histfunc": "sum",
         "hovertemplate": "method=pcg<br>sketch_fn=%{x}<br>n=8192<br>deff=32<br>sum of time=%{y}<extra></extra>",
         "legendgroup": "pcg, gaussian",
         "marker": {
          "color": "#ab63fa",
          "pattern": {
           "shape": ""
          }
         },
         "name": "pcg, gaussian",
         "offsetgroup": "pcg, gaussian",
         "orientation": "v",
         "showlegend": true,
         "textangle": 0,
         "textposition": "outside",
         "texttemplate": "%{value:.2s}",
         "type": "histogram",
         "x": [
          "gaussian"
         ],
         "xaxis": "x",
         "y": [
          39.02788059033264
         ],
         "yaxis": "y"
        },
        {
         "alignmentgroup": "True",
         "bingroup": "x",
         "cliponaxis": false,
         "histfunc": "sum",
         "hovertemplate": "method=pcg<br>sketch_fn=%{x}<br>n=8192<br>deff=64<br>sum of time=%{y}<extra></extra>",
         "legendgroup": "pcg, gaussian",
         "marker": {
          "color": "#ab63fa",
          "pattern": {
           "shape": ""
          }
         },
         "name": "pcg, gaussian",
         "offsetgroup": "pcg, gaussian",
         "orientation": "v",
         "showlegend": false,
         "textangle": 0,
         "textposition": "outside",
         "texttemplate": "%{value:.2s}",
         "type": "histogram",
         "x": [
          "gaussian"
         ],
         "xaxis": "x2",
         "y": [
          39.068595563000294
         ],
         "yaxis": "y2"
        },
        {
         "alignmentgroup": "True",
         "bingroup": "x",
         "cliponaxis": false,
         "histfunc": "sum",
         "hovertemplate": "method=pcg<br>sketch_fn=%{x}<br>n=8192<br>deff=128<br>sum of time=%{y}<extra></extra>",
         "legendgroup": "pcg, gaussian",
         "marker": {
          "color": "#ab63fa",
          "pattern": {
           "shape": ""
          }
         },
         "name": "pcg, gaussian",
         "offsetgroup": "pcg, gaussian",
         "orientation": "v",
         "showlegend": false,
         "textangle": 0,
         "textposition": "outside",
         "texttemplate": "%{value:.2s}",
         "type": "histogram",
         "x": [
          "gaussian"
         ],
         "xaxis": "x3",
         "y": [
          39.1145689056666
         ],
         "yaxis": "y3"
        },
        {
         "alignmentgroup": "True",
         "bingroup": "x",
         "cliponaxis": false,
         "histfunc": "sum",
         "hovertemplate": "method=pcg<br>sketch_fn=%{x}<br>n=8192<br>deff=256<br>sum of time=%{y}<extra></extra>",
         "legendgroup": "pcg, gaussian",
         "marker": {
          "color": "#ab63fa",
          "pattern": {
           "shape": ""
          }
         },
         "name": "pcg, gaussian",
         "offsetgroup": "pcg, gaussian",
         "orientation": "v",
         "showlegend": false,
         "textangle": 0,
         "textposition": "outside",
         "texttemplate": "%{value:.2s}",
         "type": "histogram",
         "x": [
          "gaussian"
         ],
         "xaxis": "x4",
         "y": [
          39.353303788333506
         ],
         "yaxis": "y4"
        },
        {
         "alignmentgroup": "True",
         "bingroup": "x",
         "cliponaxis": false,
         "histfunc": "sum",
         "hovertemplate": "method=pcg<br>sketch_fn=%{x}<br>n=8192<br>deff=512<br>sum of time=%{y}<extra></extra>",
         "legendgroup": "pcg, gaussian",
         "marker": {
          "color": "#ab63fa",
          "pattern": {
           "shape": ""
          }
         },
         "name": "pcg, gaussian",
         "offsetgroup": "pcg, gaussian",
         "orientation": "v",
         "showlegend": false,
         "textangle": 0,
         "textposition": "outside",
         "texttemplate": "%{value:.2s}",
         "type": "histogram",
         "x": [
          "gaussian"
         ],
         "xaxis": "x5",
         "y": [
          39.41987739233324
         ],
         "yaxis": "y5"
        },
        {
         "alignmentgroup": "True",
         "bingroup": "x",
         "cliponaxis": false,
         "histfunc": "sum",
         "hovertemplate": "method=pcg<br>sketch_fn=%{x}<br>n=8192<br>deff=1024<br>sum of time=%{y}<extra></extra>",
         "legendgroup": "pcg, gaussian",
         "marker": {
          "color": "#ab63fa",
          "pattern": {
           "shape": ""
          }
         },
         "name": "pcg, gaussian",
         "offsetgroup": "pcg, gaussian",
         "orientation": "v",
         "showlegend": false,
         "textangle": 0,
         "textposition": "outside",
         "texttemplate": "%{value:.2s}",
         "type": "histogram",
         "x": [
          "gaussian"
         ],
         "xaxis": "x6",
         "y": [
          39.778073915001485
         ],
         "yaxis": "y6"
        },
        {
         "alignmentgroup": "True",
         "bingroup": "x",
         "cliponaxis": false,
         "histfunc": "sum",
         "hovertemplate": "method=pcg<br>sketch_fn=%{x}<br>n=8192<br>deff=2048<br>sum of time=%{y}<extra></extra>",
         "legendgroup": "pcg, gaussian",
         "marker": {
          "color": "#ab63fa",
          "pattern": {
           "shape": ""
          }
         },
         "name": "pcg, gaussian",
         "offsetgroup": "pcg, gaussian",
         "orientation": "v",
         "showlegend": false,
         "textangle": 0,
         "textposition": "outside",
         "texttemplate": "%{value:.2s}",
         "type": "histogram",
         "x": [
          "gaussian"
         ],
         "xaxis": "x7",
         "y": [
          40.3513736003321
         ],
         "yaxis": "y7"
        },
        {
         "alignmentgroup": "True",
         "bingroup": "x",
         "cliponaxis": false,
         "histfunc": "sum",
         "hovertemplate": "method=pcg<br>sketch_fn=%{x}<br>n=8192<br>deff=4096<br>sum of time=%{y}<extra></extra>",
         "legendgroup": "pcg, gaussian",
         "marker": {
          "color": "#ab63fa",
          "pattern": {
           "shape": ""
          }
         },
         "name": "pcg, gaussian",
         "offsetgroup": "pcg, gaussian",
         "orientation": "v",
         "showlegend": false,
         "textangle": 0,
         "textposition": "outside",
         "texttemplate": "%{value:.2s}",
         "type": "histogram",
         "x": [
          "gaussian"
         ],
         "xaxis": "x8",
         "y": [
          40.71355051266801
         ],
         "yaxis": "y8"
        },
        {
         "alignmentgroup": "True",
         "bingroup": "x",
         "cliponaxis": false,
         "histfunc": "sum",
         "hovertemplate": "method=pcg<br>sketch_fn=%{x}<br>n=8192<br>deff=8192<br>sum of time=%{y}<extra></extra>",
         "legendgroup": "pcg, gaussian",
         "marker": {
          "color": "#ab63fa",
          "pattern": {
           "shape": ""
          }
         },
         "name": "pcg, gaussian",
         "offsetgroup": "pcg, gaussian",
         "orientation": "v",
         "showlegend": false,
         "textangle": 0,
         "textposition": "outside",
         "texttemplate": "%{value:.2s}",
         "type": "histogram",
         "x": [
          "gaussian"
         ],
         "xaxis": "x9",
         "y": [
          79.30891382599899
         ],
         "yaxis": "y9"
        },
        {
         "alignmentgroup": "True",
         "bingroup": "x",
         "cliponaxis": false,
         "histfunc": "sum",
         "hovertemplate": "method=pcg<br>sketch_fn=%{x}<br>n=8192<br>deff=32<br>sum of time=%{y}<extra></extra>",
         "legendgroup": "pcg, sjlt",
         "marker": {
          "color": "#ab63fa",
          "pattern": {
           "shape": "/"
          }
         },
         "name": "pcg, sjlt",
         "offsetgroup": "pcg, sjlt",
         "orientation": "v",
         "showlegend": true,
         "textangle": 0,
         "textposition": "outside",
         "texttemplate": "%{value:.2s}",
         "type": "histogram",
         "x": [
          "sjlt"
         ],
         "xaxis": "x",
         "y": [
          21.28722956633343
         ],
         "yaxis": "y"
        },
        {
         "alignmentgroup": "True",
         "bingroup": "x",
         "cliponaxis": false,
         "histfunc": "sum",
         "hovertemplate": "method=pcg<br>sketch_fn=%{x}<br>n=8192<br>deff=64<br>sum of time=%{y}<extra></extra>",
         "legendgroup": "pcg, sjlt",
         "marker": {
          "color": "#ab63fa",
          "pattern": {
           "shape": "/"
          }
         },
         "name": "pcg, sjlt",
         "offsetgroup": "pcg, sjlt",
         "orientation": "v",
         "showlegend": false,
         "textangle": 0,
         "textposition": "outside",
         "texttemplate": "%{value:.2s}",
         "type": "histogram",
         "x": [
          "sjlt"
         ],
         "xaxis": "x2",
         "y": [
          21.335139267333336
         ],
         "yaxis": "y2"
        },
        {
         "alignmentgroup": "True",
         "bingroup": "x",
         "cliponaxis": false,
         "histfunc": "sum",
         "hovertemplate": "method=pcg<br>sketch_fn=%{x}<br>n=8192<br>deff=128<br>sum of time=%{y}<extra></extra>",
         "legendgroup": "pcg, sjlt",
         "marker": {
          "color": "#ab63fa",
          "pattern": {
           "shape": "/"
          }
         },
         "name": "pcg, sjlt",
         "offsetgroup": "pcg, sjlt",
         "orientation": "v",
         "showlegend": false,
         "textangle": 0,
         "textposition": "outside",
         "texttemplate": "%{value:.2s}",
         "type": "histogram",
         "x": [
          "sjlt"
         ],
         "xaxis": "x3",
         "y": [
          21.473741289333702
         ],
         "yaxis": "y3"
        },
        {
         "alignmentgroup": "True",
         "bingroup": "x",
         "cliponaxis": false,
         "histfunc": "sum",
         "hovertemplate": "method=pcg<br>sketch_fn=%{x}<br>n=8192<br>deff=256<br>sum of time=%{y}<extra></extra>",
         "legendgroup": "pcg, sjlt",
         "marker": {
          "color": "#ab63fa",
          "pattern": {
           "shape": "/"
          }
         },
         "name": "pcg, sjlt",
         "offsetgroup": "pcg, sjlt",
         "orientation": "v",
         "showlegend": false,
         "textangle": 0,
         "textposition": "outside",
         "texttemplate": "%{value:.2s}",
         "type": "histogram",
         "x": [
          "sjlt"
         ],
         "xaxis": "x4",
         "y": [
          21.65948470233343
         ],
         "yaxis": "y4"
        },
        {
         "alignmentgroup": "True",
         "bingroup": "x",
         "cliponaxis": false,
         "histfunc": "sum",
         "hovertemplate": "method=pcg<br>sketch_fn=%{x}<br>n=8192<br>deff=512<br>sum of time=%{y}<extra></extra>",
         "legendgroup": "pcg, sjlt",
         "marker": {
          "color": "#ab63fa",
          "pattern": {
           "shape": "/"
          }
         },
         "name": "pcg, sjlt",
         "offsetgroup": "pcg, sjlt",
         "orientation": "v",
         "showlegend": false,
         "textangle": 0,
         "textposition": "outside",
         "texttemplate": "%{value:.2s}",
         "type": "histogram",
         "x": [
          "sjlt"
         ],
         "xaxis": "x5",
         "y": [
          22.00608200333469
         ],
         "yaxis": "y5"
        },
        {
         "alignmentgroup": "True",
         "bingroup": "x",
         "cliponaxis": false,
         "histfunc": "sum",
         "hovertemplate": "method=pcg<br>sketch_fn=%{x}<br>n=8192<br>deff=1024<br>sum of time=%{y}<extra></extra>",
         "legendgroup": "pcg, sjlt",
         "marker": {
          "color": "#ab63fa",
          "pattern": {
           "shape": "/"
          }
         },
         "name": "pcg, sjlt",
         "offsetgroup": "pcg, sjlt",
         "orientation": "v",
         "showlegend": false,
         "textangle": 0,
         "textposition": "outside",
         "texttemplate": "%{value:.2s}",
         "type": "histogram",
         "x": [
          "sjlt"
         ],
         "xaxis": "x6",
         "y": [
          22.556813018333436
         ],
         "yaxis": "y6"
        },
        {
         "alignmentgroup": "True",
         "bingroup": "x",
         "cliponaxis": false,
         "histfunc": "sum",
         "hovertemplate": "method=pcg<br>sketch_fn=%{x}<br>n=8192<br>deff=2048<br>sum of time=%{y}<extra></extra>",
         "legendgroup": "pcg, sjlt",
         "marker": {
          "color": "#ab63fa",
          "pattern": {
           "shape": "/"
          }
         },
         "name": "pcg, sjlt",
         "offsetgroup": "pcg, sjlt",
         "orientation": "v",
         "showlegend": false,
         "textangle": 0,
         "textposition": "outside",
         "texttemplate": "%{value:.2s}",
         "type": "histogram",
         "x": [
          "sjlt"
         ],
         "xaxis": "x7",
         "y": [
          24.074787922334508
         ],
         "yaxis": "y7"
        },
        {
         "alignmentgroup": "True",
         "bingroup": "x",
         "cliponaxis": false,
         "histfunc": "sum",
         "hovertemplate": "method=pcg<br>sketch_fn=%{x}<br>n=8192<br>deff=4096<br>sum of time=%{y}<extra></extra>",
         "legendgroup": "pcg, sjlt",
         "marker": {
          "color": "#ab63fa",
          "pattern": {
           "shape": "/"
          }
         },
         "name": "pcg, sjlt",
         "offsetgroup": "pcg, sjlt",
         "orientation": "v",
         "showlegend": false,
         "textangle": 0,
         "textposition": "outside",
         "texttemplate": "%{value:.2s}",
         "type": "histogram",
         "x": [
          "sjlt"
         ],
         "xaxis": "x8",
         "y": [
          29.51277430699944
         ],
         "yaxis": "y8"
        },
        {
         "alignmentgroup": "True",
         "bingroup": "x",
         "cliponaxis": false,
         "histfunc": "sum",
         "hovertemplate": "method=pcg<br>sketch_fn=%{x}<br>n=8192<br>deff=8192<br>sum of time=%{y}<extra></extra>",
         "legendgroup": "pcg, sjlt",
         "marker": {
          "color": "#ab63fa",
          "pattern": {
           "shape": "/"
          }
         },
         "name": "pcg, sjlt",
         "offsetgroup": "pcg, sjlt",
         "orientation": "v",
         "showlegend": false,
         "textangle": 0,
         "textposition": "outside",
         "texttemplate": "%{value:.2s}",
         "type": "histogram",
         "x": [
          "sjlt"
         ],
         "xaxis": "x9",
         "y": [
          151.66898644566874
         ],
         "yaxis": "y9"
        },
        {
         "alignmentgroup": "True",
         "bingroup": "x",
         "cliponaxis": false,
         "histfunc": "sum",
         "hovertemplate": "method=pcg<br>sketch_fn=%{x}<br>n=8192<br>deff=32<br>sum of time=%{y}<extra></extra>",
         "legendgroup": "pcg, srht",
         "marker": {
          "color": "#ab63fa",
          "pattern": {
           "shape": "\\"
          }
         },
         "name": "pcg, srht",
         "offsetgroup": "pcg, srht",
         "orientation": "v",
         "showlegend": true,
         "textangle": 0,
         "textposition": "outside",
         "texttemplate": "%{value:.2s}",
         "type": "histogram",
         "x": [
          "srht"
         ],
         "xaxis": "x",
         "y": [
          23.858533297999504
         ],
         "yaxis": "y"
        },
        {
         "alignmentgroup": "True",
         "bingroup": "x",
         "cliponaxis": false,
         "histfunc": "sum",
         "hovertemplate": "method=pcg<br>sketch_fn=%{x}<br>n=8192<br>deff=64<br>sum of time=%{y}<extra></extra>",
         "legendgroup": "pcg, srht",
         "marker": {
          "color": "#ab63fa",
          "pattern": {
           "shape": "\\"
          }
         },
         "name": "pcg, srht",
         "offsetgroup": "pcg, srht",
         "orientation": "v",
         "showlegend": false,
         "textangle": 0,
         "textposition": "outside",
         "texttemplate": "%{value:.2s}",
         "type": "histogram",
         "x": [
          "srht"
         ],
         "xaxis": "x2",
         "y": [
          23.79711109566718
         ],
         "yaxis": "y2"
        },
        {
         "alignmentgroup": "True",
         "bingroup": "x",
         "cliponaxis": false,
         "histfunc": "sum",
         "hovertemplate": "method=pcg<br>sketch_fn=%{x}<br>n=8192<br>deff=128<br>sum of time=%{y}<extra></extra>",
         "legendgroup": "pcg, srht",
         "marker": {
          "color": "#ab63fa",
          "pattern": {
           "shape": "\\"
          }
         },
         "name": "pcg, srht",
         "offsetgroup": "pcg, srht",
         "orientation": "v",
         "showlegend": false,
         "textangle": 0,
         "textposition": "outside",
         "texttemplate": "%{value:.2s}",
         "type": "histogram",
         "x": [
          "srht"
         ],
         "xaxis": "x3",
         "y": [
          23.819908802999635
         ],
         "yaxis": "y3"
        },
        {
         "alignmentgroup": "True",
         "bingroup": "x",
         "cliponaxis": false,
         "histfunc": "sum",
         "hovertemplate": "method=pcg<br>sketch_fn=%{x}<br>n=8192<br>deff=256<br>sum of time=%{y}<extra></extra>",
         "legendgroup": "pcg, srht",
         "marker": {
          "color": "#ab63fa",
          "pattern": {
           "shape": "\\"
          }
         },
         "name": "pcg, srht",
         "offsetgroup": "pcg, srht",
         "orientation": "v",
         "showlegend": false,
         "textangle": 0,
         "textposition": "outside",
         "texttemplate": "%{value:.2s}",
         "type": "histogram",
         "x": [
          "srht"
         ],
         "xaxis": "x4",
         "y": [
          24.02037961366659
         ],
         "yaxis": "y4"
        },
        {
         "alignmentgroup": "True",
         "bingroup": "x",
         "cliponaxis": false,
         "histfunc": "sum",
         "hovertemplate": "method=pcg<br>sketch_fn=%{x}<br>n=8192<br>deff=512<br>sum of time=%{y}<extra></extra>",
         "legendgroup": "pcg, srht",
         "marker": {
          "color": "#ab63fa",
          "pattern": {
           "shape": "\\"
          }
         },
         "name": "pcg, srht",
         "offsetgroup": "pcg, srht",
         "orientation": "v",
         "showlegend": false,
         "textangle": 0,
         "textposition": "outside",
         "texttemplate": "%{value:.2s}",
         "type": "histogram",
         "x": [
          "srht"
         ],
         "xaxis": "x5",
         "y": [
          23.930937863666863
         ],
         "yaxis": "y5"
        },
        {
         "alignmentgroup": "True",
         "bingroup": "x",
         "cliponaxis": false,
         "histfunc": "sum",
         "hovertemplate": "method=pcg<br>sketch_fn=%{x}<br>n=8192<br>deff=1024<br>sum of time=%{y}<extra></extra>",
         "legendgroup": "pcg, srht",
         "marker": {
          "color": "#ab63fa",
          "pattern": {
           "shape": "\\"
          }
         },
         "name": "pcg, srht",
         "offsetgroup": "pcg, srht",
         "orientation": "v",
         "showlegend": false,
         "textangle": 0,
         "textposition": "outside",
         "texttemplate": "%{value:.2s}",
         "type": "histogram",
         "x": [
          "srht"
         ],
         "xaxis": "x6",
         "y": [
          24.199415235332708
         ],
         "yaxis": "y6"
        },
        {
         "alignmentgroup": "True",
         "bingroup": "x",
         "cliponaxis": false,
         "histfunc": "sum",
         "hovertemplate": "method=pcg<br>sketch_fn=%{x}<br>n=8192<br>deff=2048<br>sum of time=%{y}<extra></extra>",
         "legendgroup": "pcg, srht",
         "marker": {
          "color": "#ab63fa",
          "pattern": {
           "shape": "\\"
          }
         },
         "name": "pcg, srht",
         "offsetgroup": "pcg, srht",
         "orientation": "v",
         "showlegend": false,
         "textangle": 0,
         "textposition": "outside",
         "texttemplate": "%{value:.2s}",
         "type": "histogram",
         "x": [
          "srht"
         ],
         "xaxis": "x7",
         "y": [
          24.125518821333873
         ],
         "yaxis": "y7"
        },
        {
         "alignmentgroup": "True",
         "bingroup": "x",
         "cliponaxis": false,
         "histfunc": "sum",
         "hovertemplate": "method=pcg<br>sketch_fn=%{x}<br>n=8192<br>deff=4096<br>sum of time=%{y}<extra></extra>",
         "legendgroup": "pcg, srht",
         "marker": {
          "color": "#ab63fa",
          "pattern": {
           "shape": "\\"
          }
         },
         "name": "pcg, srht",
         "offsetgroup": "pcg, srht",
         "orientation": "v",
         "showlegend": false,
         "textangle": 0,
         "textposition": "outside",
         "texttemplate": "%{value:.2s}",
         "type": "histogram",
         "x": [
          "srht"
         ],
         "xaxis": "x8",
         "y": [
          24.058159174665583
         ],
         "yaxis": "y8"
        },
        {
         "alignmentgroup": "True",
         "bingroup": "x",
         "cliponaxis": false,
         "histfunc": "sum",
         "hovertemplate": "method=pcg<br>sketch_fn=%{x}<br>n=8192<br>deff=8192<br>sum of time=%{y}<extra></extra>",
         "legendgroup": "pcg, srht",
         "marker": {
          "color": "#ab63fa",
          "pattern": {
           "shape": "\\"
          }
         },
         "name": "pcg, srht",
         "offsetgroup": "pcg, srht",
         "orientation": "v",
         "showlegend": false,
         "textangle": 0,
         "textposition": "outside",
         "texttemplate": "%{value:.2s}",
         "type": "histogram",
         "x": [
          "srht"
         ],
         "xaxis": "x9",
         "y": [
          24.23967356100062
         ],
         "yaxis": "y9"
        }
       ],
       "layout": {
        "annotations": [
         {
          "font": {},
          "showarrow": false,
          "text": "deff=32",
          "x": 0.04555555555555555,
          "xanchor": "center",
          "xref": "paper",
          "y": 1,
          "yanchor": "bottom",
          "yref": "paper"
         },
         {
          "font": {},
          "showarrow": false,
          "text": "deff=64",
          "x": 0.15666666666666665,
          "xanchor": "center",
          "xref": "paper",
          "y": 1,
          "yanchor": "bottom",
          "yref": "paper"
         },
         {
          "font": {},
          "showarrow": false,
          "text": "deff=128",
          "x": 0.2677777777777778,
          "xanchor": "center",
          "xref": "paper",
          "y": 1,
          "yanchor": "bottom",
          "yref": "paper"
         },
         {
          "font": {},
          "showarrow": false,
          "text": "deff=256",
          "x": 0.37888888888888883,
          "xanchor": "center",
          "xref": "paper",
          "y": 1,
          "yanchor": "bottom",
          "yref": "paper"
         },
         {
          "font": {},
          "showarrow": false,
          "text": "deff=512",
          "x": 0.49,
          "xanchor": "center",
          "xref": "paper",
          "y": 1,
          "yanchor": "bottom",
          "yref": "paper"
         },
         {
          "font": {},
          "showarrow": false,
          "text": "deff=1024",
          "x": 0.601111111111111,
          "xanchor": "center",
          "xref": "paper",
          "y": 1,
          "yanchor": "bottom",
          "yref": "paper"
         },
         {
          "font": {},
          "showarrow": false,
          "text": "deff=2048",
          "x": 0.7122222222222222,
          "xanchor": "center",
          "xref": "paper",
          "y": 1,
          "yanchor": "bottom",
          "yref": "paper"
         },
         {
          "font": {},
          "showarrow": false,
          "text": "deff=4096",
          "x": 0.8233333333333334,
          "xanchor": "center",
          "xref": "paper",
          "y": 1,
          "yanchor": "bottom",
          "yref": "paper"
         },
         {
          "font": {},
          "showarrow": false,
          "text": "deff=8192",
          "x": 0.9344444444444445,
          "xanchor": "center",
          "xref": "paper",
          "y": 1,
          "yanchor": "bottom",
          "yref": "paper"
         },
         {
          "font": {},
          "showarrow": false,
          "text": "n=8192",
          "textangle": 90,
          "x": 0.9800000000000001,
          "xanchor": "left",
          "xref": "paper",
          "y": 0.5,
          "yanchor": "middle",
          "yref": "paper"
         }
        ],
        "barmode": "group",
        "height": 700,
        "legend": {
         "title": {
          "text": "method, sketch_fn"
         },
         "tracegroupgap": 0
        },
        "margin": {
         "t": 60
        },
        "template": {
         "data": {
          "bar": [
           {
            "error_x": {
             "color": "#2a3f5f"
            },
            "error_y": {
             "color": "#2a3f5f"
            },
            "marker": {
             "line": {
              "color": "#E5ECF6",
              "width": 0.5
             },
             "pattern": {
              "fillmode": "overlay",
              "size": 10,
              "solidity": 0.2
             }
            },
            "type": "bar"
           }
          ],
          "barpolar": [
           {
            "marker": {
             "line": {
              "color": "#E5ECF6",
              "width": 0.5
             },
             "pattern": {
              "fillmode": "overlay",
              "size": 10,
              "solidity": 0.2
             }
            },
            "type": "barpolar"
           }
          ],
          "carpet": [
           {
            "aaxis": {
             "endlinecolor": "#2a3f5f",
             "gridcolor": "white",
             "linecolor": "white",
             "minorgridcolor": "white",
             "startlinecolor": "#2a3f5f"
            },
            "baxis": {
             "endlinecolor": "#2a3f5f",
             "gridcolor": "white",
             "linecolor": "white",
             "minorgridcolor": "white",
             "startlinecolor": "#2a3f5f"
            },
            "type": "carpet"
           }
          ],
          "choropleth": [
           {
            "colorbar": {
             "outlinewidth": 0,
             "ticks": ""
            },
            "type": "choropleth"
           }
          ],
          "contour": [
           {
            "colorbar": {
             "outlinewidth": 0,
             "ticks": ""
            },
            "colorscale": [
             [
              0,
              "#0d0887"
             ],
             [
              0.1111111111111111,
              "#46039f"
             ],
             [
              0.2222222222222222,
              "#7201a8"
             ],
             [
              0.3333333333333333,
              "#9c179e"
             ],
             [
              0.4444444444444444,
              "#bd3786"
             ],
             [
              0.5555555555555556,
              "#d8576b"
             ],
             [
              0.6666666666666666,
              "#ed7953"
             ],
             [
              0.7777777777777778,
              "#fb9f3a"
             ],
             [
              0.8888888888888888,
              "#fdca26"
             ],
             [
              1,
              "#f0f921"
             ]
            ],
            "type": "contour"
           }
          ],
          "contourcarpet": [
           {
            "colorbar": {
             "outlinewidth": 0,
             "ticks": ""
            },
            "type": "contourcarpet"
           }
          ],
          "heatmap": [
           {
            "colorbar": {
             "outlinewidth": 0,
             "ticks": ""
            },
            "colorscale": [
             [
              0,
              "#0d0887"
             ],
             [
              0.1111111111111111,
              "#46039f"
             ],
             [
              0.2222222222222222,
              "#7201a8"
             ],
             [
              0.3333333333333333,
              "#9c179e"
             ],
             [
              0.4444444444444444,
              "#bd3786"
             ],
             [
              0.5555555555555556,
              "#d8576b"
             ],
             [
              0.6666666666666666,
              "#ed7953"
             ],
             [
              0.7777777777777778,
              "#fb9f3a"
             ],
             [
              0.8888888888888888,
              "#fdca26"
             ],
             [
              1,
              "#f0f921"
             ]
            ],
            "type": "heatmap"
           }
          ],
          "heatmapgl": [
           {
            "colorbar": {
             "outlinewidth": 0,
             "ticks": ""
            },
            "colorscale": [
             [
              0,
              "#0d0887"
             ],
             [
              0.1111111111111111,
              "#46039f"
             ],
             [
              0.2222222222222222,
              "#7201a8"
             ],
             [
              0.3333333333333333,
              "#9c179e"
             ],
             [
              0.4444444444444444,
              "#bd3786"
             ],
             [
              0.5555555555555556,
              "#d8576b"
             ],
             [
              0.6666666666666666,
              "#ed7953"
             ],
             [
              0.7777777777777778,
              "#fb9f3a"
             ],
             [
              0.8888888888888888,
              "#fdca26"
             ],
             [
              1,
              "#f0f921"
             ]
            ],
            "type": "heatmapgl"
           }
          ],
          "histogram": [
           {
            "marker": {
             "pattern": {
              "fillmode": "overlay",
              "size": 10,
              "solidity": 0.2
             }
            },
            "type": "histogram"
           }
          ],
          "histogram2d": [
           {
            "colorbar": {
             "outlinewidth": 0,
             "ticks": ""
            },
            "colorscale": [
             [
              0,
              "#0d0887"
             ],
             [
              0.1111111111111111,
              "#46039f"
             ],
             [
              0.2222222222222222,
              "#7201a8"
             ],
             [
              0.3333333333333333,
              "#9c179e"
             ],
             [
              0.4444444444444444,
              "#bd3786"
             ],
             [
              0.5555555555555556,
              "#d8576b"
             ],
             [
              0.6666666666666666,
              "#ed7953"
             ],
             [
              0.7777777777777778,
              "#fb9f3a"
             ],
             [
              0.8888888888888888,
              "#fdca26"
             ],
             [
              1,
              "#f0f921"
             ]
            ],
            "type": "histogram2d"
           }
          ],
          "histogram2dcontour": [
           {
            "colorbar": {
             "outlinewidth": 0,
             "ticks": ""
            },
            "colorscale": [
             [
              0,
              "#0d0887"
             ],
             [
              0.1111111111111111,
              "#46039f"
             ],
             [
              0.2222222222222222,
              "#7201a8"
             ],
             [
              0.3333333333333333,
              "#9c179e"
             ],
             [
              0.4444444444444444,
              "#bd3786"
             ],
             [
              0.5555555555555556,
              "#d8576b"
             ],
             [
              0.6666666666666666,
              "#ed7953"
             ],
             [
              0.7777777777777778,
              "#fb9f3a"
             ],
             [
              0.8888888888888888,
              "#fdca26"
             ],
             [
              1,
              "#f0f921"
             ]
            ],
            "type": "histogram2dcontour"
           }
          ],
          "mesh3d": [
           {
            "colorbar": {
             "outlinewidth": 0,
             "ticks": ""
            },
            "type": "mesh3d"
           }
          ],
          "parcoords": [
           {
            "line": {
             "colorbar": {
              "outlinewidth": 0,
              "ticks": ""
             }
            },
            "type": "parcoords"
           }
          ],
          "pie": [
           {
            "automargin": true,
            "type": "pie"
           }
          ],
          "scatter": [
           {
            "fillpattern": {
             "fillmode": "overlay",
             "size": 10,
             "solidity": 0.2
            },
            "type": "scatter"
           }
          ],
          "scatter3d": [
           {
            "line": {
             "colorbar": {
              "outlinewidth": 0,
              "ticks": ""
             }
            },
            "marker": {
             "colorbar": {
              "outlinewidth": 0,
              "ticks": ""
             }
            },
            "type": "scatter3d"
           }
          ],
          "scattercarpet": [
           {
            "marker": {
             "colorbar": {
              "outlinewidth": 0,
              "ticks": ""
             }
            },
            "type": "scattercarpet"
           }
          ],
          "scattergeo": [
           {
            "marker": {
             "colorbar": {
              "outlinewidth": 0,
              "ticks": ""
             }
            },
            "type": "scattergeo"
           }
          ],
          "scattergl": [
           {
            "marker": {
             "colorbar": {
              "outlinewidth": 0,
              "ticks": ""
             }
            },
            "type": "scattergl"
           }
          ],
          "scattermapbox": [
           {
            "marker": {
             "colorbar": {
              "outlinewidth": 0,
              "ticks": ""
             }
            },
            "type": "scattermapbox"
           }
          ],
          "scatterpolar": [
           {
            "marker": {
             "colorbar": {
              "outlinewidth": 0,
              "ticks": ""
             }
            },
            "type": "scatterpolar"
           }
          ],
          "scatterpolargl": [
           {
            "marker": {
             "colorbar": {
              "outlinewidth": 0,
              "ticks": ""
             }
            },
            "type": "scatterpolargl"
           }
          ],
          "scatterternary": [
           {
            "marker": {
             "colorbar": {
              "outlinewidth": 0,
              "ticks": ""
             }
            },
            "type": "scatterternary"
           }
          ],
          "surface": [
           {
            "colorbar": {
             "outlinewidth": 0,
             "ticks": ""
            },
            "colorscale": [
             [
              0,
              "#0d0887"
             ],
             [
              0.1111111111111111,
              "#46039f"
             ],
             [
              0.2222222222222222,
              "#7201a8"
             ],
             [
              0.3333333333333333,
              "#9c179e"
             ],
             [
              0.4444444444444444,
              "#bd3786"
             ],
             [
              0.5555555555555556,
              "#d8576b"
             ],
             [
              0.6666666666666666,
              "#ed7953"
             ],
             [
              0.7777777777777778,
              "#fb9f3a"
             ],
             [
              0.8888888888888888,
              "#fdca26"
             ],
             [
              1,
              "#f0f921"
             ]
            ],
            "type": "surface"
           }
          ],
          "table": [
           {
            "cells": {
             "fill": {
              "color": "#EBF0F8"
             },
             "line": {
              "color": "white"
             }
            },
            "header": {
             "fill": {
              "color": "#C8D4E3"
             },
             "line": {
              "color": "white"
             }
            },
            "type": "table"
           }
          ]
         },
         "layout": {
          "annotationdefaults": {
           "arrowcolor": "#2a3f5f",
           "arrowhead": 0,
           "arrowwidth": 1
          },
          "autotypenumbers": "strict",
          "coloraxis": {
           "colorbar": {
            "outlinewidth": 0,
            "ticks": ""
           }
          },
          "colorscale": {
           "diverging": [
            [
             0,
             "#8e0152"
            ],
            [
             0.1,
             "#c51b7d"
            ],
            [
             0.2,
             "#de77ae"
            ],
            [
             0.3,
             "#f1b6da"
            ],
            [
             0.4,
             "#fde0ef"
            ],
            [
             0.5,
             "#f7f7f7"
            ],
            [
             0.6,
             "#e6f5d0"
            ],
            [
             0.7,
             "#b8e186"
            ],
            [
             0.8,
             "#7fbc41"
            ],
            [
             0.9,
             "#4d9221"
            ],
            [
             1,
             "#276419"
            ]
           ],
           "sequential": [
            [
             0,
             "#0d0887"
            ],
            [
             0.1111111111111111,
             "#46039f"
            ],
            [
             0.2222222222222222,
             "#7201a8"
            ],
            [
             0.3333333333333333,
             "#9c179e"
            ],
            [
             0.4444444444444444,
             "#bd3786"
            ],
            [
             0.5555555555555556,
             "#d8576b"
            ],
            [
             0.6666666666666666,
             "#ed7953"
            ],
            [
             0.7777777777777778,
             "#fb9f3a"
            ],
            [
             0.8888888888888888,
             "#fdca26"
            ],
            [
             1,
             "#f0f921"
            ]
           ],
           "sequentialminus": [
            [
             0,
             "#0d0887"
            ],
            [
             0.1111111111111111,
             "#46039f"
            ],
            [
             0.2222222222222222,
             "#7201a8"
            ],
            [
             0.3333333333333333,
             "#9c179e"
            ],
            [
             0.4444444444444444,
             "#bd3786"
            ],
            [
             0.5555555555555556,
             "#d8576b"
            ],
            [
             0.6666666666666666,
             "#ed7953"
            ],
            [
             0.7777777777777778,
             "#fb9f3a"
            ],
            [
             0.8888888888888888,
             "#fdca26"
            ],
            [
             1,
             "#f0f921"
            ]
           ]
          },
          "colorway": [
           "#636efa",
           "#EF553B",
           "#00cc96",
           "#ab63fa",
           "#FFA15A",
           "#19d3f3",
           "#FF6692",
           "#B6E880",
           "#FF97FF",
           "#FECB52"
          ],
          "font": {
           "color": "#2a3f5f"
          },
          "geo": {
           "bgcolor": "white",
           "lakecolor": "white",
           "landcolor": "#E5ECF6",
           "showlakes": true,
           "showland": true,
           "subunitcolor": "white"
          },
          "hoverlabel": {
           "align": "left"
          },
          "hovermode": "closest",
          "mapbox": {
           "style": "light"
          },
          "paper_bgcolor": "white",
          "plot_bgcolor": "#E5ECF6",
          "polar": {
           "angularaxis": {
            "gridcolor": "white",
            "linecolor": "white",
            "ticks": ""
           },
           "bgcolor": "#E5ECF6",
           "radialaxis": {
            "gridcolor": "white",
            "linecolor": "white",
            "ticks": ""
           }
          },
          "scene": {
           "xaxis": {
            "backgroundcolor": "#E5ECF6",
            "gridcolor": "white",
            "gridwidth": 2,
            "linecolor": "white",
            "showbackground": true,
            "ticks": "",
            "zerolinecolor": "white"
           },
           "yaxis": {
            "backgroundcolor": "#E5ECF6",
            "gridcolor": "white",
            "gridwidth": 2,
            "linecolor": "white",
            "showbackground": true,
            "ticks": "",
            "zerolinecolor": "white"
           },
           "zaxis": {
            "backgroundcolor": "#E5ECF6",
            "gridcolor": "white",
            "gridwidth": 2,
            "linecolor": "white",
            "showbackground": true,
            "ticks": "",
            "zerolinecolor": "white"
           }
          },
          "shapedefaults": {
           "line": {
            "color": "#2a3f5f"
           }
          },
          "ternary": {
           "aaxis": {
            "gridcolor": "white",
            "linecolor": "white",
            "ticks": ""
           },
           "baxis": {
            "gridcolor": "white",
            "linecolor": "white",
            "ticks": ""
           },
           "bgcolor": "#E5ECF6",
           "caxis": {
            "gridcolor": "white",
            "linecolor": "white",
            "ticks": ""
           }
          },
          "title": {
           "x": 0.05
          },
          "xaxis": {
           "automargin": true,
           "gridcolor": "white",
           "linecolor": "white",
           "ticks": "",
           "title": {
            "standoff": 15
           },
           "zerolinecolor": "white",
           "zerolinewidth": 2
          },
          "yaxis": {
           "automargin": true,
           "gridcolor": "white",
           "linecolor": "white",
           "ticks": "",
           "title": {
            "standoff": 15
           },
           "zerolinecolor": "white",
           "zerolinewidth": 2
          }
         }
        },
        "xaxis": {
         "anchor": "y",
         "categoryarray": [
          "gaussian",
          "sjlt",
          "srht",
          "none"
         ],
         "categoryorder": "array",
         "domain": [
          0,
          0.0911111111111111
         ],
         "title": {
          "text": "sketch_fn"
         }
        },
        "xaxis2": {
         "anchor": "y2",
         "categoryarray": [
          "gaussian",
          "sjlt",
          "srht",
          "none"
         ],
         "categoryorder": "array",
         "domain": [
          0.1111111111111111,
          0.2022222222222222
         ],
         "matches": "x",
         "title": {
          "text": "sketch_fn"
         }
        },
        "xaxis3": {
         "anchor": "y3",
         "categoryarray": [
          "gaussian",
          "sjlt",
          "srht",
          "none"
         ],
         "categoryorder": "array",
         "domain": [
          0.2222222222222222,
          0.3133333333333333
         ],
         "matches": "x",
         "title": {
          "text": "sketch_fn"
         }
        },
        "xaxis4": {
         "anchor": "y4",
         "categoryarray": [
          "gaussian",
          "sjlt",
          "srht",
          "none"
         ],
         "categoryorder": "array",
         "domain": [
          0.3333333333333333,
          0.4244444444444444
         ],
         "matches": "x",
         "title": {
          "text": "sketch_fn"
         }
        },
        "xaxis5": {
         "anchor": "y5",
         "categoryarray": [
          "gaussian",
          "sjlt",
          "srht",
          "none"
         ],
         "categoryorder": "array",
         "domain": [
          0.4444444444444444,
          0.5355555555555556
         ],
         "matches": "x",
         "title": {
          "text": "sketch_fn"
         }
        },
        "xaxis6": {
         "anchor": "y6",
         "categoryarray": [
          "gaussian",
          "sjlt",
          "srht",
          "none"
         ],
         "categoryorder": "array",
         "domain": [
          0.5555555555555555,
          0.6466666666666666
         ],
         "matches": "x",
         "title": {
          "text": "sketch_fn"
         }
        },
        "xaxis7": {
         "anchor": "y7",
         "categoryarray": [
          "gaussian",
          "sjlt",
          "srht",
          "none"
         ],
         "categoryorder": "array",
         "domain": [
          0.6666666666666666,
          0.7577777777777778
         ],
         "matches": "x",
         "title": {
          "text": "sketch_fn"
         }
        },
        "xaxis8": {
         "anchor": "y8",
         "categoryarray": [
          "gaussian",
          "sjlt",
          "srht",
          "none"
         ],
         "categoryorder": "array",
         "domain": [
          0.7777777777777778,
          0.8688888888888889
         ],
         "matches": "x",
         "title": {
          "text": "sketch_fn"
         }
        },
        "xaxis9": {
         "anchor": "y9",
         "categoryarray": [
          "gaussian",
          "sjlt",
          "srht",
          "none"
         ],
         "categoryorder": "array",
         "domain": [
          0.888888888888889,
          0.9800000000000001
         ],
         "matches": "x",
         "title": {
          "text": "sketch_fn"
         }
        },
        "yaxis": {
         "anchor": "x",
         "domain": [
          0,
          1
         ],
         "title": {
          "text": "sum of time"
         }
        },
        "yaxis2": {
         "anchor": "x2",
         "domain": [
          0,
          1
         ],
         "matches": "y",
         "showticklabels": false
        },
        "yaxis3": {
         "anchor": "x3",
         "domain": [
          0,
          1
         ],
         "matches": "y",
         "showticklabels": false
        },
        "yaxis4": {
         "anchor": "x4",
         "domain": [
          0,
          1
         ],
         "matches": "y",
         "showticklabels": false
        },
        "yaxis5": {
         "anchor": "x5",
         "domain": [
          0,
          1
         ],
         "matches": "y",
         "showticklabels": false
        },
        "yaxis6": {
         "anchor": "x6",
         "domain": [
          0,
          1
         ],
         "matches": "y",
         "showticklabels": false
        },
        "yaxis7": {
         "anchor": "x7",
         "domain": [
          0,
          1
         ],
         "matches": "y",
         "showticklabels": false
        },
        "yaxis8": {
         "anchor": "x8",
         "domain": [
          0,
          1
         ],
         "matches": "y",
         "showticklabels": false
        },
        "yaxis9": {
         "anchor": "x9",
         "domain": [
          0,
          1
         ],
         "matches": "y",
         "showticklabels": false
        }
       }
      },
      "text/html": [
       "<div>                            <div id=\"738f5a9f-0bf4-4775-bcc0-e3b5b4ffb2c6\" class=\"plotly-graph-div\" style=\"height:700px; width:100%;\"></div>            <script type=\"text/javascript\">                require([\"plotly\"], function(Plotly) {                    window.PLOTLYENV=window.PLOTLYENV || {};                                    if (document.getElementById(\"738f5a9f-0bf4-4775-bcc0-e3b5b4ffb2c6\")) {                    Plotly.newPlot(                        \"738f5a9f-0bf4-4775-bcc0-e3b5b4ffb2c6\",                        [{\"alignmentgroup\":\"True\",\"bingroup\":\"x\",\"histfunc\":\"sum\",\"hovertemplate\":\"method=adacg\\u003cbr\\u003esketch_fn=%{x}\\u003cbr\\u003en=8192\\u003cbr\\u003edeff=32\\u003cbr\\u003esum of time=%{y}\\u003cextra\\u003e\\u003c\\u002fextra\\u003e\",\"legendgroup\":\"adacg, gaussian\",\"marker\":{\"color\":\"#636efa\",\"pattern\":{\"shape\":\"\"}},\"name\":\"adacg, gaussian\",\"offsetgroup\":\"adacg, gaussian\",\"orientation\":\"v\",\"showlegend\":true,\"texttemplate\":\"%{value:.2s}\",\"x\":[\"gaussian\"],\"xaxis\":\"x\",\"y\":[0.5042257863333361],\"yaxis\":\"y\",\"type\":\"histogram\",\"cliponaxis\":false,\"textangle\":0,\"textposition\":\"outside\"},{\"alignmentgroup\":\"True\",\"bingroup\":\"x\",\"histfunc\":\"sum\",\"hovertemplate\":\"method=adacg\\u003cbr\\u003esketch_fn=%{x}\\u003cbr\\u003en=8192\\u003cbr\\u003edeff=64\\u003cbr\\u003esum of time=%{y}\\u003cextra\\u003e\\u003c\\u002fextra\\u003e\",\"legendgroup\":\"adacg, gaussian\",\"marker\":{\"color\":\"#636efa\",\"pattern\":{\"shape\":\"\"}},\"name\":\"adacg, gaussian\",\"offsetgroup\":\"adacg, gaussian\",\"orientation\":\"v\",\"showlegend\":false,\"texttemplate\":\"%{value:.2s}\",\"x\":[\"gaussian\"],\"xaxis\":\"x2\",\"y\":[0.43788390233263874],\"yaxis\":\"y2\",\"type\":\"histogram\",\"cliponaxis\":false,\"textangle\":0,\"textposition\":\"outside\"},{\"alignmentgroup\":\"True\",\"bingroup\":\"x\",\"histfunc\":\"sum\",\"hovertemplate\":\"method=adacg\\u003cbr\\u003esketch_fn=%{x}\\u003cbr\\u003en=8192\\u003cbr\\u003edeff=128\\u003cbr\\u003esum of time=%{y}\\u003cextra\\u003e\\u003c\\u002fextra\\u003e\",\"legendgroup\":\"adacg, gaussian\",\"marker\":{\"color\":\"#636efa\",\"pattern\":{\"shape\":\"\"}},\"name\":\"adacg, gaussian\",\"offsetgroup\":\"adacg, gaussian\",\"orientation\":\"v\",\"showlegend\":false,\"texttemplate\":\"%{value:.2s}\",\"x\":[\"gaussian\"],\"xaxis\":\"x3\",\"y\":[8.276255361000949],\"yaxis\":\"y3\",\"type\":\"histogram\",\"cliponaxis\":false,\"textangle\":0,\"textposition\":\"outside\"},{\"alignmentgroup\":\"True\",\"bingroup\":\"x\",\"histfunc\":\"sum\",\"hovertemplate\":\"method=adacg\\u003cbr\\u003esketch_fn=%{x}\\u003cbr\\u003en=8192\\u003cbr\\u003edeff=256\\u003cbr\\u003esum of time=%{y}\\u003cextra\\u003e\\u003c\\u002fextra\\u003e\",\"legendgroup\":\"adacg, gaussian\",\"marker\":{\"color\":\"#636efa\",\"pattern\":{\"shape\":\"\"}},\"name\":\"adacg, gaussian\",\"offsetgroup\":\"adacg, gaussian\",\"orientation\":\"v\",\"showlegend\":false,\"texttemplate\":\"%{value:.2s}\",\"x\":[\"gaussian\"],\"xaxis\":\"x4\",\"y\":[8.432833448333742],\"yaxis\":\"y4\",\"type\":\"histogram\",\"cliponaxis\":false,\"textangle\":0,\"textposition\":\"outside\"},{\"alignmentgroup\":\"True\",\"bingroup\":\"x\",\"histfunc\":\"sum\",\"hovertemplate\":\"method=adacg\\u003cbr\\u003esketch_fn=%{x}\\u003cbr\\u003en=8192\\u003cbr\\u003edeff=512\\u003cbr\\u003esum of time=%{y}\\u003cextra\\u003e\\u003c\\u002fextra\\u003e\",\"legendgroup\":\"adacg, gaussian\",\"marker\":{\"color\":\"#636efa\",\"pattern\":{\"shape\":\"\"}},\"name\":\"adacg, gaussian\",\"offsetgroup\":\"adacg, gaussian\",\"orientation\":\"v\",\"showlegend\":false,\"texttemplate\":\"%{value:.2s}\",\"x\":[\"gaussian\"],\"xaxis\":\"x5\",\"y\":[8.906965404334187],\"yaxis\":\"y5\",\"type\":\"histogram\",\"cliponaxis\":false,\"textangle\":0,\"textposition\":\"outside\"},{\"alignmentgroup\":\"True\",\"bingroup\":\"x\",\"histfunc\":\"sum\",\"hovertemplate\":\"method=adacg\\u003cbr\\u003esketch_fn=%{x}\\u003cbr\\u003en=8192\\u003cbr\\u003edeff=1024\\u003cbr\\u003esum of time=%{y}\\u003cextra\\u003e\\u003c\\u002fextra\\u003e\",\"legendgroup\":\"adacg, gaussian\",\"marker\":{\"color\":\"#636efa\",\"pattern\":{\"shape\":\"\"}},\"name\":\"adacg, gaussian\",\"offsetgroup\":\"adacg, gaussian\",\"orientation\":\"v\",\"showlegend\":false,\"texttemplate\":\"%{value:.2s}\",\"x\":[\"gaussian\"],\"xaxis\":\"x6\",\"y\":[15.042728947665939],\"yaxis\":\"y6\",\"type\":\"histogram\",\"cliponaxis\":false,\"textangle\":0,\"textposition\":\"outside\"},{\"alignmentgroup\":\"True\",\"bingroup\":\"x\",\"histfunc\":\"sum\",\"hovertemplate\":\"method=adacg\\u003cbr\\u003esketch_fn=%{x}\\u003cbr\\u003en=8192\\u003cbr\\u003edeff=2048\\u003cbr\\u003esum of time=%{y}\\u003cextra\\u003e\\u003c\\u002fextra\\u003e\",\"legendgroup\":\"adacg, gaussian\",\"marker\":{\"color\":\"#636efa\",\"pattern\":{\"shape\":\"\"}},\"name\":\"adacg, gaussian\",\"offsetgroup\":\"adacg, gaussian\",\"orientation\":\"v\",\"showlegend\":false,\"texttemplate\":\"%{value:.2s}\",\"x\":[\"gaussian\"],\"xaxis\":\"x7\",\"y\":[17.911279951998342],\"yaxis\":\"y7\",\"type\":\"histogram\",\"cliponaxis\":false,\"textangle\":0,\"textposition\":\"outside\"},{\"alignmentgroup\":\"True\",\"bingroup\":\"x\",\"histfunc\":\"sum\",\"hovertemplate\":\"method=adacg\\u003cbr\\u003esketch_fn=%{x}\\u003cbr\\u003en=8192\\u003cbr\\u003edeff=4096\\u003cbr\\u003esum of time=%{y}\\u003cextra\\u003e\\u003c\\u002fextra\\u003e\",\"legendgroup\":\"adacg, gaussian\",\"marker\":{\"color\":\"#636efa\",\"pattern\":{\"shape\":\"\"}},\"name\":\"adacg, gaussian\",\"offsetgroup\":\"adacg, gaussian\",\"orientation\":\"v\",\"showlegend\":false,\"texttemplate\":\"%{value:.2s}\",\"x\":[\"gaussian\"],\"xaxis\":\"x8\",\"y\":[31.7019457819988],\"yaxis\":\"y8\",\"type\":\"histogram\",\"cliponaxis\":false,\"textangle\":0,\"textposition\":\"outside\"},{\"alignmentgroup\":\"True\",\"bingroup\":\"x\",\"histfunc\":\"sum\",\"hovertemplate\":\"method=adacg\\u003cbr\\u003esketch_fn=%{x}\\u003cbr\\u003en=8192\\u003cbr\\u003edeff=8192\\u003cbr\\u003esum of time=%{y}\\u003cextra\\u003e\\u003c\\u002fextra\\u003e\",\"legendgroup\":\"adacg, gaussian\",\"marker\":{\"color\":\"#636efa\",\"pattern\":{\"shape\":\"\"}},\"name\":\"adacg, gaussian\",\"offsetgroup\":\"adacg, gaussian\",\"orientation\":\"v\",\"showlegend\":false,\"texttemplate\":\"%{value:.2s}\",\"x\":[\"gaussian\"],\"xaxis\":\"x9\",\"y\":[30.839008439333455],\"yaxis\":\"y9\",\"type\":\"histogram\",\"cliponaxis\":false,\"textangle\":0,\"textposition\":\"outside\"},{\"alignmentgroup\":\"True\",\"bingroup\":\"x\",\"histfunc\":\"sum\",\"hovertemplate\":\"method=adacg\\u003cbr\\u003esketch_fn=%{x}\\u003cbr\\u003en=8192\\u003cbr\\u003edeff=32\\u003cbr\\u003esum of time=%{y}\\u003cextra\\u003e\\u003c\\u002fextra\\u003e\",\"legendgroup\":\"adacg, sjlt\",\"marker\":{\"color\":\"#636efa\",\"pattern\":{\"shape\":\"\\u002f\"}},\"name\":\"adacg, sjlt\",\"offsetgroup\":\"adacg, sjlt\",\"orientation\":\"v\",\"showlegend\":true,\"texttemplate\":\"%{value:.2s}\",\"x\":[\"sjlt\"],\"xaxis\":\"x\",\"y\":[0.5759460223331795],\"yaxis\":\"y\",\"type\":\"histogram\",\"cliponaxis\":false,\"textangle\":0,\"textposition\":\"outside\"},{\"alignmentgroup\":\"True\",\"bingroup\":\"x\",\"histfunc\":\"sum\",\"hovertemplate\":\"method=adacg\\u003cbr\\u003esketch_fn=%{x}\\u003cbr\\u003en=8192\\u003cbr\\u003edeff=64\\u003cbr\\u003esum of time=%{y}\\u003cextra\\u003e\\u003c\\u002fextra\\u003e\",\"legendgroup\":\"adacg, sjlt\",\"marker\":{\"color\":\"#636efa\",\"pattern\":{\"shape\":\"\\u002f\"}},\"name\":\"adacg, sjlt\",\"offsetgroup\":\"adacg, sjlt\",\"orientation\":\"v\",\"showlegend\":false,\"texttemplate\":\"%{value:.2s}\",\"x\":[\"sjlt\"],\"xaxis\":\"x2\",\"y\":[0.5259269536672946],\"yaxis\":\"y2\",\"type\":\"histogram\",\"cliponaxis\":false,\"textangle\":0,\"textposition\":\"outside\"},{\"alignmentgroup\":\"True\",\"bingroup\":\"x\",\"histfunc\":\"sum\",\"hovertemplate\":\"method=adacg\\u003cbr\\u003esketch_fn=%{x}\\u003cbr\\u003en=8192\\u003cbr\\u003edeff=128\\u003cbr\\u003esum of time=%{y}\\u003cextra\\u003e\\u003c\\u002fextra\\u003e\",\"legendgroup\":\"adacg, sjlt\",\"marker\":{\"color\":\"#636efa\",\"pattern\":{\"shape\":\"\\u002f\"}},\"name\":\"adacg, sjlt\",\"offsetgroup\":\"adacg, sjlt\",\"orientation\":\"v\",\"showlegend\":false,\"texttemplate\":\"%{value:.2s}\",\"x\":[\"sjlt\"],\"xaxis\":\"x3\",\"y\":[7.049390928333498],\"yaxis\":\"y3\",\"type\":\"histogram\",\"cliponaxis\":false,\"textangle\":0,\"textposition\":\"outside\"},{\"alignmentgroup\":\"True\",\"bingroup\":\"x\",\"histfunc\":\"sum\",\"hovertemplate\":\"method=adacg\\u003cbr\\u003esketch_fn=%{x}\\u003cbr\\u003en=8192\\u003cbr\\u003edeff=256\\u003cbr\\u003esum of time=%{y}\\u003cextra\\u003e\\u003c\\u002fextra\\u003e\",\"legendgroup\":\"adacg, sjlt\",\"marker\":{\"color\":\"#636efa\",\"pattern\":{\"shape\":\"\\u002f\"}},\"name\":\"adacg, sjlt\",\"offsetgroup\":\"adacg, sjlt\",\"orientation\":\"v\",\"showlegend\":false,\"texttemplate\":\"%{value:.2s}\",\"x\":[\"sjlt\"],\"xaxis\":\"x4\",\"y\":[7.221864040666938],\"yaxis\":\"y4\",\"type\":\"histogram\",\"cliponaxis\":false,\"textangle\":0,\"textposition\":\"outside\"},{\"alignmentgroup\":\"True\",\"bingroup\":\"x\",\"histfunc\":\"sum\",\"hovertemplate\":\"method=adacg\\u003cbr\\u003esketch_fn=%{x}\\u003cbr\\u003en=8192\\u003cbr\\u003edeff=512\\u003cbr\\u003esum of time=%{y}\\u003cextra\\u003e\\u003c\\u002fextra\\u003e\",\"legendgroup\":\"adacg, sjlt\",\"marker\":{\"color\":\"#636efa\",\"pattern\":{\"shape\":\"\\u002f\"}},\"name\":\"adacg, sjlt\",\"offsetgroup\":\"adacg, sjlt\",\"orientation\":\"v\",\"showlegend\":false,\"texttemplate\":\"%{value:.2s}\",\"x\":[\"sjlt\"],\"xaxis\":\"x5\",\"y\":[16.6297401473336],\"yaxis\":\"y5\",\"type\":\"histogram\",\"cliponaxis\":false,\"textangle\":0,\"textposition\":\"outside\"},{\"alignmentgroup\":\"True\",\"bingroup\":\"x\",\"histfunc\":\"sum\",\"hovertemplate\":\"method=adacg\\u003cbr\\u003esketch_fn=%{x}\\u003cbr\\u003en=8192\\u003cbr\\u003edeff=1024\\u003cbr\\u003esum of time=%{y}\\u003cextra\\u003e\\u003c\\u002fextra\\u003e\",\"legendgroup\":\"adacg, sjlt\",\"marker\":{\"color\":\"#636efa\",\"pattern\":{\"shape\":\"\\u002f\"}},\"name\":\"adacg, sjlt\",\"offsetgroup\":\"adacg, sjlt\",\"orientation\":\"v\",\"showlegend\":false,\"texttemplate\":\"%{value:.2s}\",\"x\":[\"sjlt\"],\"xaxis\":\"x6\",\"y\":[17.05473553866735],\"yaxis\":\"y6\",\"type\":\"histogram\",\"cliponaxis\":false,\"textangle\":0,\"textposition\":\"outside\"},{\"alignmentgroup\":\"True\",\"bingroup\":\"x\",\"histfunc\":\"sum\",\"hovertemplate\":\"method=adacg\\u003cbr\\u003esketch_fn=%{x}\\u003cbr\\u003en=8192\\u003cbr\\u003edeff=2048\\u003cbr\\u003esum of time=%{y}\\u003cextra\\u003e\\u003c\\u002fextra\\u003e\",\"legendgroup\":\"adacg, sjlt\",\"marker\":{\"color\":\"#636efa\",\"pattern\":{\"shape\":\"\\u002f\"}},\"name\":\"adacg, sjlt\",\"offsetgroup\":\"adacg, sjlt\",\"orientation\":\"v\",\"showlegend\":false,\"texttemplate\":\"%{value:.2s}\",\"x\":[\"sjlt\"],\"xaxis\":\"x7\",\"y\":[19.262119168333204],\"yaxis\":\"y7\",\"type\":\"histogram\",\"cliponaxis\":false,\"textangle\":0,\"textposition\":\"outside\"},{\"alignmentgroup\":\"True\",\"bingroup\":\"x\",\"histfunc\":\"sum\",\"hovertemplate\":\"method=adacg\\u003cbr\\u003esketch_fn=%{x}\\u003cbr\\u003en=8192\\u003cbr\\u003edeff=4096\\u003cbr\\u003esum of time=%{y}\\u003cextra\\u003e\\u003c\\u002fextra\\u003e\",\"legendgroup\":\"adacg, sjlt\",\"marker\":{\"color\":\"#636efa\",\"pattern\":{\"shape\":\"\\u002f\"}},\"name\":\"adacg, sjlt\",\"offsetgroup\":\"adacg, sjlt\",\"orientation\":\"v\",\"showlegend\":false,\"texttemplate\":\"%{value:.2s}\",\"x\":[\"sjlt\"],\"xaxis\":\"x8\",\"y\":[30.676149574000494],\"yaxis\":\"y8\",\"type\":\"histogram\",\"cliponaxis\":false,\"textangle\":0,\"textposition\":\"outside\"},{\"alignmentgroup\":\"True\",\"bingroup\":\"x\",\"histfunc\":\"sum\",\"hovertemplate\":\"method=adacg\\u003cbr\\u003esketch_fn=%{x}\\u003cbr\\u003en=8192\\u003cbr\\u003edeff=8192\\u003cbr\\u003esum of time=%{y}\\u003cextra\\u003e\\u003c\\u002fextra\\u003e\",\"legendgroup\":\"adacg, sjlt\",\"marker\":{\"color\":\"#636efa\",\"pattern\":{\"shape\":\"\\u002f\"}},\"name\":\"adacg, sjlt\",\"offsetgroup\":\"adacg, sjlt\",\"orientation\":\"v\",\"showlegend\":false,\"texttemplate\":\"%{value:.2s}\",\"x\":[\"sjlt\"],\"xaxis\":\"x9\",\"y\":[30.458514743666456],\"yaxis\":\"y9\",\"type\":\"histogram\",\"cliponaxis\":false,\"textangle\":0,\"textposition\":\"outside\"},{\"alignmentgroup\":\"True\",\"bingroup\":\"x\",\"histfunc\":\"sum\",\"hovertemplate\":\"method=adacg\\u003cbr\\u003esketch_fn=%{x}\\u003cbr\\u003en=8192\\u003cbr\\u003edeff=32\\u003cbr\\u003esum of time=%{y}\\u003cextra\\u003e\\u003c\\u002fextra\\u003e\",\"legendgroup\":\"adacg, srht\",\"marker\":{\"color\":\"#636efa\",\"pattern\":{\"shape\":\"\\\\\"}},\"name\":\"adacg, srht\",\"offsetgroup\":\"adacg, srht\",\"orientation\":\"v\",\"showlegend\":true,\"texttemplate\":\"%{value:.2s}\",\"x\":[\"srht\"],\"xaxis\":\"x\",\"y\":[0.6363546860005347],\"yaxis\":\"y\",\"type\":\"histogram\",\"cliponaxis\":false,\"textangle\":0,\"textposition\":\"outside\"},{\"alignmentgroup\":\"True\",\"bingroup\":\"x\",\"histfunc\":\"sum\",\"hovertemplate\":\"method=adacg\\u003cbr\\u003esketch_fn=%{x}\\u003cbr\\u003en=8192\\u003cbr\\u003edeff=64\\u003cbr\\u003esum of time=%{y}\\u003cextra\\u003e\\u003c\\u002fextra\\u003e\",\"legendgroup\":\"adacg, srht\",\"marker\":{\"color\":\"#636efa\",\"pattern\":{\"shape\":\"\\\\\"}},\"name\":\"adacg, srht\",\"offsetgroup\":\"adacg, srht\",\"orientation\":\"v\",\"showlegend\":false,\"texttemplate\":\"%{value:.2s}\",\"x\":[\"srht\"],\"xaxis\":\"x2\",\"y\":[0.5718859796664522],\"yaxis\":\"y2\",\"type\":\"histogram\",\"cliponaxis\":false,\"textangle\":0,\"textposition\":\"outside\"},{\"alignmentgroup\":\"True\",\"bingroup\":\"x\",\"histfunc\":\"sum\",\"hovertemplate\":\"method=adacg\\u003cbr\\u003esketch_fn=%{x}\\u003cbr\\u003en=8192\\u003cbr\\u003edeff=128\\u003cbr\\u003esum of time=%{y}\\u003cextra\\u003e\\u003c\\u002fextra\\u003e\",\"legendgroup\":\"adacg, srht\",\"marker\":{\"color\":\"#636efa\",\"pattern\":{\"shape\":\"\\\\\"}},\"name\":\"adacg, srht\",\"offsetgroup\":\"adacg, srht\",\"orientation\":\"v\",\"showlegend\":false,\"texttemplate\":\"%{value:.2s}\",\"x\":[\"srht\"],\"xaxis\":\"x3\",\"y\":[6.529526948333416],\"yaxis\":\"y3\",\"type\":\"histogram\",\"cliponaxis\":false,\"textangle\":0,\"textposition\":\"outside\"},{\"alignmentgroup\":\"True\",\"bingroup\":\"x\",\"histfunc\":\"sum\",\"hovertemplate\":\"method=adacg\\u003cbr\\u003esketch_fn=%{x}\\u003cbr\\u003en=8192\\u003cbr\\u003edeff=256\\u003cbr\\u003esum of time=%{y}\\u003cextra\\u003e\\u003c\\u002fextra\\u003e\",\"legendgroup\":\"adacg, srht\",\"marker\":{\"color\":\"#636efa\",\"pattern\":{\"shape\":\"\\\\\"}},\"name\":\"adacg, srht\",\"offsetgroup\":\"adacg, srht\",\"orientation\":\"v\",\"showlegend\":false,\"texttemplate\":\"%{value:.2s}\",\"x\":[\"srht\"],\"xaxis\":\"x4\",\"y\":[6.516502405333691],\"yaxis\":\"y4\",\"type\":\"histogram\",\"cliponaxis\":false,\"textangle\":0,\"textposition\":\"outside\"},{\"alignmentgroup\":\"True\",\"bingroup\":\"x\",\"histfunc\":\"sum\",\"hovertemplate\":\"method=adacg\\u003cbr\\u003esketch_fn=%{x}\\u003cbr\\u003en=8192\\u003cbr\\u003edeff=512\\u003cbr\\u003esum of time=%{y}\\u003cextra\\u003e\\u003c\\u002fextra\\u003e\",\"legendgroup\":\"adacg, srht\",\"marker\":{\"color\":\"#636efa\",\"pattern\":{\"shape\":\"\\\\\"}},\"name\":\"adacg, srht\",\"offsetgroup\":\"adacg, srht\",\"orientation\":\"v\",\"showlegend\":false,\"texttemplate\":\"%{value:.2s}\",\"x\":[\"srht\"],\"xaxis\":\"x5\",\"y\":[6.512589532666121],\"yaxis\":\"y5\",\"type\":\"histogram\",\"cliponaxis\":false,\"textangle\":0,\"textposition\":\"outside\"},{\"alignmentgroup\":\"True\",\"bingroup\":\"x\",\"histfunc\":\"sum\",\"hovertemplate\":\"method=adacg\\u003cbr\\u003esketch_fn=%{x}\\u003cbr\\u003en=8192\\u003cbr\\u003edeff=1024\\u003cbr\\u003esum of time=%{y}\\u003cextra\\u003e\\u003c\\u002fextra\\u003e\",\"legendgroup\":\"adacg, srht\",\"marker\":{\"color\":\"#636efa\",\"pattern\":{\"shape\":\"\\\\\"}},\"name\":\"adacg, srht\",\"offsetgroup\":\"adacg, srht\",\"orientation\":\"v\",\"showlegend\":false,\"texttemplate\":\"%{value:.2s}\",\"x\":[\"srht\"],\"xaxis\":\"x6\",\"y\":[11.848907098998703],\"yaxis\":\"y6\",\"type\":\"histogram\",\"cliponaxis\":false,\"textangle\":0,\"textposition\":\"outside\"},{\"alignmentgroup\":\"True\",\"bingroup\":\"x\",\"histfunc\":\"sum\",\"hovertemplate\":\"method=adacg\\u003cbr\\u003esketch_fn=%{x}\\u003cbr\\u003en=8192\\u003cbr\\u003edeff=2048\\u003cbr\\u003esum of time=%{y}\\u003cextra\\u003e\\u003c\\u002fextra\\u003e\",\"legendgroup\":\"adacg, srht\",\"marker\":{\"color\":\"#636efa\",\"pattern\":{\"shape\":\"\\\\\"}},\"name\":\"adacg, srht\",\"offsetgroup\":\"adacg, srht\",\"orientation\":\"v\",\"showlegend\":false,\"texttemplate\":\"%{value:.2s}\",\"x\":[\"srht\"],\"xaxis\":\"x7\",\"y\":[21.860534941999504],\"yaxis\":\"y7\",\"type\":\"histogram\",\"cliponaxis\":false,\"textangle\":0,\"textposition\":\"outside\"},{\"alignmentgroup\":\"True\",\"bingroup\":\"x\",\"histfunc\":\"sum\",\"hovertemplate\":\"method=adacg\\u003cbr\\u003esketch_fn=%{x}\\u003cbr\\u003en=8192\\u003cbr\\u003edeff=4096\\u003cbr\\u003esum of time=%{y}\\u003cextra\\u003e\\u003c\\u002fextra\\u003e\",\"legendgroup\":\"adacg, srht\",\"marker\":{\"color\":\"#636efa\",\"pattern\":{\"shape\":\"\\\\\"}},\"name\":\"adacg, srht\",\"offsetgroup\":\"adacg, srht\",\"orientation\":\"v\",\"showlegend\":false,\"texttemplate\":\"%{value:.2s}\",\"x\":[\"srht\"],\"xaxis\":\"x8\",\"y\":[22.355365581667378],\"yaxis\":\"y8\",\"type\":\"histogram\",\"cliponaxis\":false,\"textangle\":0,\"textposition\":\"outside\"},{\"alignmentgroup\":\"True\",\"bingroup\":\"x\",\"histfunc\":\"sum\",\"hovertemplate\":\"method=adacg\\u003cbr\\u003esketch_fn=%{x}\\u003cbr\\u003en=8192\\u003cbr\\u003edeff=8192\\u003cbr\\u003esum of time=%{y}\\u003cextra\\u003e\\u003c\\u002fextra\\u003e\",\"legendgroup\":\"adacg, srht\",\"marker\":{\"color\":\"#636efa\",\"pattern\":{\"shape\":\"\\\\\"}},\"name\":\"adacg, srht\",\"offsetgroup\":\"adacg, srht\",\"orientation\":\"v\",\"showlegend\":false,\"texttemplate\":\"%{value:.2s}\",\"x\":[\"srht\"],\"xaxis\":\"x9\",\"y\":[32.578846002332284],\"yaxis\":\"y9\",\"type\":\"histogram\",\"cliponaxis\":false,\"textangle\":0,\"textposition\":\"outside\"},{\"alignmentgroup\":\"True\",\"bingroup\":\"x\",\"histfunc\":\"sum\",\"hovertemplate\":\"method=cg\\u003cbr\\u003esketch_fn=%{x}\\u003cbr\\u003en=8192\\u003cbr\\u003edeff=32\\u003cbr\\u003esum of time=%{y}\\u003cextra\\u003e\\u003c\\u002fextra\\u003e\",\"legendgroup\":\"cg, none\",\"marker\":{\"color\":\"#EF553B\",\"pattern\":{\"shape\":\"x\"}},\"name\":\"cg, none\",\"offsetgroup\":\"cg, none\",\"orientation\":\"v\",\"showlegend\":true,\"texttemplate\":\"%{value:.2s}\",\"x\":[\"none\"],\"xaxis\":\"x\",\"y\":[0.38602155400015664],\"yaxis\":\"y\",\"type\":\"histogram\",\"cliponaxis\":false,\"textangle\":0,\"textposition\":\"outside\"},{\"alignmentgroup\":\"True\",\"bingroup\":\"x\",\"histfunc\":\"sum\",\"hovertemplate\":\"method=cg\\u003cbr\\u003esketch_fn=%{x}\\u003cbr\\u003en=8192\\u003cbr\\u003edeff=64\\u003cbr\\u003esum of time=%{y}\\u003cextra\\u003e\\u003c\\u002fextra\\u003e\",\"legendgroup\":\"cg, none\",\"marker\":{\"color\":\"#EF553B\",\"pattern\":{\"shape\":\"x\"}},\"name\":\"cg, none\",\"offsetgroup\":\"cg, none\",\"orientation\":\"v\",\"showlegend\":false,\"texttemplate\":\"%{value:.2s}\",\"x\":[\"none\"],\"xaxis\":\"x2\",\"y\":[0.34526225166761526],\"yaxis\":\"y2\",\"type\":\"histogram\",\"cliponaxis\":false,\"textangle\":0,\"textposition\":\"outside\"},{\"alignmentgroup\":\"True\",\"bingroup\":\"x\",\"histfunc\":\"sum\",\"hovertemplate\":\"method=cg\\u003cbr\\u003esketch_fn=%{x}\\u003cbr\\u003en=8192\\u003cbr\\u003edeff=128\\u003cbr\\u003esum of time=%{y}\\u003cextra\\u003e\\u003c\\u002fextra\\u003e\",\"legendgroup\":\"cg, none\",\"marker\":{\"color\":\"#EF553B\",\"pattern\":{\"shape\":\"x\"}},\"name\":\"cg, none\",\"offsetgroup\":\"cg, none\",\"orientation\":\"v\",\"showlegend\":false,\"texttemplate\":\"%{value:.2s}\",\"x\":[\"none\"],\"xaxis\":\"x3\",\"y\":[9.37041172599917],\"yaxis\":\"y3\",\"type\":\"histogram\",\"cliponaxis\":false,\"textangle\":0,\"textposition\":\"outside\"},{\"alignmentgroup\":\"True\",\"bingroup\":\"x\",\"histfunc\":\"sum\",\"hovertemplate\":\"method=cg\\u003cbr\\u003esketch_fn=%{x}\\u003cbr\\u003en=8192\\u003cbr\\u003edeff=256\\u003cbr\\u003esum of time=%{y}\\u003cextra\\u003e\\u003c\\u002fextra\\u003e\",\"legendgroup\":\"cg, none\",\"marker\":{\"color\":\"#EF553B\",\"pattern\":{\"shape\":\"x\"}},\"name\":\"cg, none\",\"offsetgroup\":\"cg, none\",\"orientation\":\"v\",\"showlegend\":false,\"texttemplate\":\"%{value:.2s}\",\"x\":[\"none\"],\"xaxis\":\"x4\",\"y\":[28.48013367766604],\"yaxis\":\"y4\",\"type\":\"histogram\",\"cliponaxis\":false,\"textangle\":0,\"textposition\":\"outside\"},{\"alignmentgroup\":\"True\",\"bingroup\":\"x\",\"histfunc\":\"sum\",\"hovertemplate\":\"method=cg\\u003cbr\\u003esketch_fn=%{x}\\u003cbr\\u003en=8192\\u003cbr\\u003edeff=512\\u003cbr\\u003esum of time=%{y}\\u003cextra\\u003e\\u003c\\u002fextra\\u003e\",\"legendgroup\":\"cg, none\",\"marker\":{\"color\":\"#EF553B\",\"pattern\":{\"shape\":\"x\"}},\"name\":\"cg, none\",\"offsetgroup\":\"cg, none\",\"orientation\":\"v\",\"showlegend\":false,\"texttemplate\":\"%{value:.2s}\",\"x\":[\"none\"],\"xaxis\":\"x5\",\"y\":[65.38878629666699],\"yaxis\":\"y5\",\"type\":\"histogram\",\"cliponaxis\":false,\"textangle\":0,\"textposition\":\"outside\"},{\"alignmentgroup\":\"True\",\"bingroup\":\"x\",\"histfunc\":\"sum\",\"hovertemplate\":\"method=cg\\u003cbr\\u003esketch_fn=%{x}\\u003cbr\\u003en=8192\\u003cbr\\u003edeff=1024\\u003cbr\\u003esum of time=%{y}\\u003cextra\\u003e\\u003c\\u002fextra\\u003e\",\"legendgroup\":\"cg, none\",\"marker\":{\"color\":\"#EF553B\",\"pattern\":{\"shape\":\"x\"}},\"name\":\"cg, none\",\"offsetgroup\":\"cg, none\",\"orientation\":\"v\",\"showlegend\":false,\"texttemplate\":\"%{value:.2s}\",\"x\":[\"none\"],\"xaxis\":\"x6\",\"y\":[85.6102528003333],\"yaxis\":\"y6\",\"type\":\"histogram\",\"cliponaxis\":false,\"textangle\":0,\"textposition\":\"outside\"},{\"alignmentgroup\":\"True\",\"bingroup\":\"x\",\"histfunc\":\"sum\",\"hovertemplate\":\"method=cg\\u003cbr\\u003esketch_fn=%{x}\\u003cbr\\u003en=8192\\u003cbr\\u003edeff=2048\\u003cbr\\u003esum of time=%{y}\\u003cextra\\u003e\\u003c\\u002fextra\\u003e\",\"legendgroup\":\"cg, none\",\"marker\":{\"color\":\"#EF553B\",\"pattern\":{\"shape\":\"x\"}},\"name\":\"cg, none\",\"offsetgroup\":\"cg, none\",\"orientation\":\"v\",\"showlegend\":false,\"texttemplate\":\"%{value:.2s}\",\"x\":[\"none\"],\"xaxis\":\"x7\",\"y\":[103.52154419699946],\"yaxis\":\"y7\",\"type\":\"histogram\",\"cliponaxis\":false,\"textangle\":0,\"textposition\":\"outside\"},{\"alignmentgroup\":\"True\",\"bingroup\":\"x\",\"histfunc\":\"sum\",\"hovertemplate\":\"method=cg\\u003cbr\\u003esketch_fn=%{x}\\u003cbr\\u003en=8192\\u003cbr\\u003edeff=4096\\u003cbr\\u003esum of time=%{y}\\u003cextra\\u003e\\u003c\\u002fextra\\u003e\",\"legendgroup\":\"cg, none\",\"marker\":{\"color\":\"#EF553B\",\"pattern\":{\"shape\":\"x\"}},\"name\":\"cg, none\",\"offsetgroup\":\"cg, none\",\"orientation\":\"v\",\"showlegend\":false,\"texttemplate\":\"%{value:.2s}\",\"x\":[\"none\"],\"xaxis\":\"x8\",\"y\":[103.30154553866669],\"yaxis\":\"y8\",\"type\":\"histogram\",\"cliponaxis\":false,\"textangle\":0,\"textposition\":\"outside\"},{\"alignmentgroup\":\"True\",\"bingroup\":\"x\",\"histfunc\":\"sum\",\"hovertemplate\":\"method=cg\\u003cbr\\u003esketch_fn=%{x}\\u003cbr\\u003en=8192\\u003cbr\\u003edeff=8192\\u003cbr\\u003esum of time=%{y}\\u003cextra\\u003e\\u003c\\u002fextra\\u003e\",\"legendgroup\":\"cg, none\",\"marker\":{\"color\":\"#EF553B\",\"pattern\":{\"shape\":\"x\"}},\"name\":\"cg, none\",\"offsetgroup\":\"cg, none\",\"orientation\":\"v\",\"showlegend\":false,\"texttemplate\":\"%{value:.2s}\",\"x\":[\"none\"],\"xaxis\":\"x9\",\"y\":[100.76732386866811],\"yaxis\":\"y9\",\"type\":\"histogram\",\"cliponaxis\":false,\"textangle\":0,\"textposition\":\"outside\"},{\"alignmentgroup\":\"True\",\"bingroup\":\"x\",\"histfunc\":\"sum\",\"hovertemplate\":\"method=dm\\u003cbr\\u003esketch_fn=%{x}\\u003cbr\\u003en=8192\\u003cbr\\u003edeff=32\\u003cbr\\u003esum of time=%{y}\\u003cextra\\u003e\\u003c\\u002fextra\\u003e\",\"legendgroup\":\"dm, none\",\"marker\":{\"color\":\"#00cc96\",\"pattern\":{\"shape\":\"x\"}},\"name\":\"dm, none\",\"offsetgroup\":\"dm, none\",\"orientation\":\"v\",\"showlegend\":true,\"texttemplate\":\"%{value:.2s}\",\"x\":[\"none\"],\"xaxis\":\"x\",\"y\":[20.36028287299996],\"yaxis\":\"y\",\"type\":\"histogram\",\"cliponaxis\":false,\"textangle\":0,\"textposition\":\"outside\"},{\"alignmentgroup\":\"True\",\"bingroup\":\"x\",\"histfunc\":\"sum\",\"hovertemplate\":\"method=dm\\u003cbr\\u003esketch_fn=%{x}\\u003cbr\\u003en=8192\\u003cbr\\u003edeff=64\\u003cbr\\u003esum of time=%{y}\\u003cextra\\u003e\\u003c\\u002fextra\\u003e\",\"legendgroup\":\"dm, none\",\"marker\":{\"color\":\"#00cc96\",\"pattern\":{\"shape\":\"x\"}},\"name\":\"dm, none\",\"offsetgroup\":\"dm, none\",\"orientation\":\"v\",\"showlegend\":false,\"texttemplate\":\"%{value:.2s}\",\"x\":[\"none\"],\"xaxis\":\"x2\",\"y\":[20.359075803999076],\"yaxis\":\"y2\",\"type\":\"histogram\",\"cliponaxis\":false,\"textangle\":0,\"textposition\":\"outside\"},{\"alignmentgroup\":\"True\",\"bingroup\":\"x\",\"histfunc\":\"sum\",\"hovertemplate\":\"method=dm\\u003cbr\\u003esketch_fn=%{x}\\u003cbr\\u003en=8192\\u003cbr\\u003edeff=128\\u003cbr\\u003esum of time=%{y}\\u003cextra\\u003e\\u003c\\u002fextra\\u003e\",\"legendgroup\":\"dm, none\",\"marker\":{\"color\":\"#00cc96\",\"pattern\":{\"shape\":\"x\"}},\"name\":\"dm, none\",\"offsetgroup\":\"dm, none\",\"orientation\":\"v\",\"showlegend\":false,\"texttemplate\":\"%{value:.2s}\",\"x\":[\"none\"],\"xaxis\":\"x3\",\"y\":[20.64453695100019],\"yaxis\":\"y3\",\"type\":\"histogram\",\"cliponaxis\":false,\"textangle\":0,\"textposition\":\"outside\"},{\"alignmentgroup\":\"True\",\"bingroup\":\"x\",\"histfunc\":\"sum\",\"hovertemplate\":\"method=dm\\u003cbr\\u003esketch_fn=%{x}\\u003cbr\\u003en=8192\\u003cbr\\u003edeff=256\\u003cbr\\u003esum of time=%{y}\\u003cextra\\u003e\\u003c\\u002fextra\\u003e\",\"legendgroup\":\"dm, none\",\"marker\":{\"color\":\"#00cc96\",\"pattern\":{\"shape\":\"x\"}},\"name\":\"dm, none\",\"offsetgroup\":\"dm, none\",\"orientation\":\"v\",\"showlegend\":false,\"texttemplate\":\"%{value:.2s}\",\"x\":[\"none\"],\"xaxis\":\"x4\",\"y\":[20.671141857999828],\"yaxis\":\"y4\",\"type\":\"histogram\",\"cliponaxis\":false,\"textangle\":0,\"textposition\":\"outside\"},{\"alignmentgroup\":\"True\",\"bingroup\":\"x\",\"histfunc\":\"sum\",\"hovertemplate\":\"method=dm\\u003cbr\\u003esketch_fn=%{x}\\u003cbr\\u003en=8192\\u003cbr\\u003edeff=512\\u003cbr\\u003esum of time=%{y}\\u003cextra\\u003e\\u003c\\u002fextra\\u003e\",\"legendgroup\":\"dm, none\",\"marker\":{\"color\":\"#00cc96\",\"pattern\":{\"shape\":\"x\"}},\"name\":\"dm, none\",\"offsetgroup\":\"dm, none\",\"orientation\":\"v\",\"showlegend\":false,\"texttemplate\":\"%{value:.2s}\",\"x\":[\"none\"],\"xaxis\":\"x5\",\"y\":[20.580792643999303],\"yaxis\":\"y5\",\"type\":\"histogram\",\"cliponaxis\":false,\"textangle\":0,\"textposition\":\"outside\"},{\"alignmentgroup\":\"True\",\"bingroup\":\"x\",\"histfunc\":\"sum\",\"hovertemplate\":\"method=dm\\u003cbr\\u003esketch_fn=%{x}\\u003cbr\\u003en=8192\\u003cbr\\u003edeff=1024\\u003cbr\\u003esum of time=%{y}\\u003cextra\\u003e\\u003c\\u002fextra\\u003e\",\"legendgroup\":\"dm, none\",\"marker\":{\"color\":\"#00cc96\",\"pattern\":{\"shape\":\"x\"}},\"name\":\"dm, none\",\"offsetgroup\":\"dm, none\",\"orientation\":\"v\",\"showlegend\":false,\"texttemplate\":\"%{value:.2s}\",\"x\":[\"none\"],\"xaxis\":\"x6\",\"y\":[20.67445468599908],\"yaxis\":\"y6\",\"type\":\"histogram\",\"cliponaxis\":false,\"textangle\":0,\"textposition\":\"outside\"},{\"alignmentgroup\":\"True\",\"bingroup\":\"x\",\"histfunc\":\"sum\",\"hovertemplate\":\"method=dm\\u003cbr\\u003esketch_fn=%{x}\\u003cbr\\u003en=8192\\u003cbr\\u003edeff=2048\\u003cbr\\u003esum of time=%{y}\\u003cextra\\u003e\\u003c\\u002fextra\\u003e\",\"legendgroup\":\"dm, none\",\"marker\":{\"color\":\"#00cc96\",\"pattern\":{\"shape\":\"x\"}},\"name\":\"dm, none\",\"offsetgroup\":\"dm, none\",\"orientation\":\"v\",\"showlegend\":false,\"texttemplate\":\"%{value:.2s}\",\"x\":[\"none\"],\"xaxis\":\"x7\",\"y\":[20.612157667997963],\"yaxis\":\"y7\",\"type\":\"histogram\",\"cliponaxis\":false,\"textangle\":0,\"textposition\":\"outside\"},{\"alignmentgroup\":\"True\",\"bingroup\":\"x\",\"histfunc\":\"sum\",\"hovertemplate\":\"method=dm\\u003cbr\\u003esketch_fn=%{x}\\u003cbr\\u003en=8192\\u003cbr\\u003edeff=4096\\u003cbr\\u003esum of time=%{y}\\u003cextra\\u003e\\u003c\\u002fextra\\u003e\",\"legendgroup\":\"dm, none\",\"marker\":{\"color\":\"#00cc96\",\"pattern\":{\"shape\":\"x\"}},\"name\":\"dm, none\",\"offsetgroup\":\"dm, none\",\"orientation\":\"v\",\"showlegend\":false,\"texttemplate\":\"%{value:.2s}\",\"x\":[\"none\"],\"xaxis\":\"x8\",\"y\":[20.623164653999993],\"yaxis\":\"y8\",\"type\":\"histogram\",\"cliponaxis\":false,\"textangle\":0,\"textposition\":\"outside\"},{\"alignmentgroup\":\"True\",\"bingroup\":\"x\",\"histfunc\":\"sum\",\"hovertemplate\":\"method=dm\\u003cbr\\u003esketch_fn=%{x}\\u003cbr\\u003en=8192\\u003cbr\\u003edeff=8192\\u003cbr\\u003esum of time=%{y}\\u003cextra\\u003e\\u003c\\u002fextra\\u003e\",\"legendgroup\":\"dm, none\",\"marker\":{\"color\":\"#00cc96\",\"pattern\":{\"shape\":\"x\"}},\"name\":\"dm, none\",\"offsetgroup\":\"dm, none\",\"orientation\":\"v\",\"showlegend\":false,\"texttemplate\":\"%{value:.2s}\",\"x\":[\"none\"],\"xaxis\":\"x9\",\"y\":[20.80669911699806],\"yaxis\":\"y9\",\"type\":\"histogram\",\"cliponaxis\":false,\"textangle\":0,\"textposition\":\"outside\"},{\"alignmentgroup\":\"True\",\"bingroup\":\"x\",\"histfunc\":\"sum\",\"hovertemplate\":\"method=pcg\\u003cbr\\u003esketch_fn=%{x}\\u003cbr\\u003en=8192\\u003cbr\\u003edeff=32\\u003cbr\\u003esum of time=%{y}\\u003cextra\\u003e\\u003c\\u002fextra\\u003e\",\"legendgroup\":\"pcg, gaussian\",\"marker\":{\"color\":\"#ab63fa\",\"pattern\":{\"shape\":\"\"}},\"name\":\"pcg, gaussian\",\"offsetgroup\":\"pcg, gaussian\",\"orientation\":\"v\",\"showlegend\":true,\"texttemplate\":\"%{value:.2s}\",\"x\":[\"gaussian\"],\"xaxis\":\"x\",\"y\":[39.02788059033264],\"yaxis\":\"y\",\"type\":\"histogram\",\"cliponaxis\":false,\"textangle\":0,\"textposition\":\"outside\"},{\"alignmentgroup\":\"True\",\"bingroup\":\"x\",\"histfunc\":\"sum\",\"hovertemplate\":\"method=pcg\\u003cbr\\u003esketch_fn=%{x}\\u003cbr\\u003en=8192\\u003cbr\\u003edeff=64\\u003cbr\\u003esum of time=%{y}\\u003cextra\\u003e\\u003c\\u002fextra\\u003e\",\"legendgroup\":\"pcg, gaussian\",\"marker\":{\"color\":\"#ab63fa\",\"pattern\":{\"shape\":\"\"}},\"name\":\"pcg, gaussian\",\"offsetgroup\":\"pcg, gaussian\",\"orientation\":\"v\",\"showlegend\":false,\"texttemplate\":\"%{value:.2s}\",\"x\":[\"gaussian\"],\"xaxis\":\"x2\",\"y\":[39.068595563000294],\"yaxis\":\"y2\",\"type\":\"histogram\",\"cliponaxis\":false,\"textangle\":0,\"textposition\":\"outside\"},{\"alignmentgroup\":\"True\",\"bingroup\":\"x\",\"histfunc\":\"sum\",\"hovertemplate\":\"method=pcg\\u003cbr\\u003esketch_fn=%{x}\\u003cbr\\u003en=8192\\u003cbr\\u003edeff=128\\u003cbr\\u003esum of time=%{y}\\u003cextra\\u003e\\u003c\\u002fextra\\u003e\",\"legendgroup\":\"pcg, gaussian\",\"marker\":{\"color\":\"#ab63fa\",\"pattern\":{\"shape\":\"\"}},\"name\":\"pcg, gaussian\",\"offsetgroup\":\"pcg, gaussian\",\"orientation\":\"v\",\"showlegend\":false,\"texttemplate\":\"%{value:.2s}\",\"x\":[\"gaussian\"],\"xaxis\":\"x3\",\"y\":[39.1145689056666],\"yaxis\":\"y3\",\"type\":\"histogram\",\"cliponaxis\":false,\"textangle\":0,\"textposition\":\"outside\"},{\"alignmentgroup\":\"True\",\"bingroup\":\"x\",\"histfunc\":\"sum\",\"hovertemplate\":\"method=pcg\\u003cbr\\u003esketch_fn=%{x}\\u003cbr\\u003en=8192\\u003cbr\\u003edeff=256\\u003cbr\\u003esum of time=%{y}\\u003cextra\\u003e\\u003c\\u002fextra\\u003e\",\"legendgroup\":\"pcg, gaussian\",\"marker\":{\"color\":\"#ab63fa\",\"pattern\":{\"shape\":\"\"}},\"name\":\"pcg, gaussian\",\"offsetgroup\":\"pcg, gaussian\",\"orientation\":\"v\",\"showlegend\":false,\"texttemplate\":\"%{value:.2s}\",\"x\":[\"gaussian\"],\"xaxis\":\"x4\",\"y\":[39.353303788333506],\"yaxis\":\"y4\",\"type\":\"histogram\",\"cliponaxis\":false,\"textangle\":0,\"textposition\":\"outside\"},{\"alignmentgroup\":\"True\",\"bingroup\":\"x\",\"histfunc\":\"sum\",\"hovertemplate\":\"method=pcg\\u003cbr\\u003esketch_fn=%{x}\\u003cbr\\u003en=8192\\u003cbr\\u003edeff=512\\u003cbr\\u003esum of time=%{y}\\u003cextra\\u003e\\u003c\\u002fextra\\u003e\",\"legendgroup\":\"pcg, gaussian\",\"marker\":{\"color\":\"#ab63fa\",\"pattern\":{\"shape\":\"\"}},\"name\":\"pcg, gaussian\",\"offsetgroup\":\"pcg, gaussian\",\"orientation\":\"v\",\"showlegend\":false,\"texttemplate\":\"%{value:.2s}\",\"x\":[\"gaussian\"],\"xaxis\":\"x5\",\"y\":[39.41987739233324],\"yaxis\":\"y5\",\"type\":\"histogram\",\"cliponaxis\":false,\"textangle\":0,\"textposition\":\"outside\"},{\"alignmentgroup\":\"True\",\"bingroup\":\"x\",\"histfunc\":\"sum\",\"hovertemplate\":\"method=pcg\\u003cbr\\u003esketch_fn=%{x}\\u003cbr\\u003en=8192\\u003cbr\\u003edeff=1024\\u003cbr\\u003esum of time=%{y}\\u003cextra\\u003e\\u003c\\u002fextra\\u003e\",\"legendgroup\":\"pcg, gaussian\",\"marker\":{\"color\":\"#ab63fa\",\"pattern\":{\"shape\":\"\"}},\"name\":\"pcg, gaussian\",\"offsetgroup\":\"pcg, gaussian\",\"orientation\":\"v\",\"showlegend\":false,\"texttemplate\":\"%{value:.2s}\",\"x\":[\"gaussian\"],\"xaxis\":\"x6\",\"y\":[39.778073915001485],\"yaxis\":\"y6\",\"type\":\"histogram\",\"cliponaxis\":false,\"textangle\":0,\"textposition\":\"outside\"},{\"alignmentgroup\":\"True\",\"bingroup\":\"x\",\"histfunc\":\"sum\",\"hovertemplate\":\"method=pcg\\u003cbr\\u003esketch_fn=%{x}\\u003cbr\\u003en=8192\\u003cbr\\u003edeff=2048\\u003cbr\\u003esum of time=%{y}\\u003cextra\\u003e\\u003c\\u002fextra\\u003e\",\"legendgroup\":\"pcg, gaussian\",\"marker\":{\"color\":\"#ab63fa\",\"pattern\":{\"shape\":\"\"}},\"name\":\"pcg, gaussian\",\"offsetgroup\":\"pcg, gaussian\",\"orientation\":\"v\",\"showlegend\":false,\"texttemplate\":\"%{value:.2s}\",\"x\":[\"gaussian\"],\"xaxis\":\"x7\",\"y\":[40.3513736003321],\"yaxis\":\"y7\",\"type\":\"histogram\",\"cliponaxis\":false,\"textangle\":0,\"textposition\":\"outside\"},{\"alignmentgroup\":\"True\",\"bingroup\":\"x\",\"histfunc\":\"sum\",\"hovertemplate\":\"method=pcg\\u003cbr\\u003esketch_fn=%{x}\\u003cbr\\u003en=8192\\u003cbr\\u003edeff=4096\\u003cbr\\u003esum of time=%{y}\\u003cextra\\u003e\\u003c\\u002fextra\\u003e\",\"legendgroup\":\"pcg, gaussian\",\"marker\":{\"color\":\"#ab63fa\",\"pattern\":{\"shape\":\"\"}},\"name\":\"pcg, gaussian\",\"offsetgroup\":\"pcg, gaussian\",\"orientation\":\"v\",\"showlegend\":false,\"texttemplate\":\"%{value:.2s}\",\"x\":[\"gaussian\"],\"xaxis\":\"x8\",\"y\":[40.71355051266801],\"yaxis\":\"y8\",\"type\":\"histogram\",\"cliponaxis\":false,\"textangle\":0,\"textposition\":\"outside\"},{\"alignmentgroup\":\"True\",\"bingroup\":\"x\",\"histfunc\":\"sum\",\"hovertemplate\":\"method=pcg\\u003cbr\\u003esketch_fn=%{x}\\u003cbr\\u003en=8192\\u003cbr\\u003edeff=8192\\u003cbr\\u003esum of time=%{y}\\u003cextra\\u003e\\u003c\\u002fextra\\u003e\",\"legendgroup\":\"pcg, gaussian\",\"marker\":{\"color\":\"#ab63fa\",\"pattern\":{\"shape\":\"\"}},\"name\":\"pcg, gaussian\",\"offsetgroup\":\"pcg, gaussian\",\"orientation\":\"v\",\"showlegend\":false,\"texttemplate\":\"%{value:.2s}\",\"x\":[\"gaussian\"],\"xaxis\":\"x9\",\"y\":[79.30891382599899],\"yaxis\":\"y9\",\"type\":\"histogram\",\"cliponaxis\":false,\"textangle\":0,\"textposition\":\"outside\"},{\"alignmentgroup\":\"True\",\"bingroup\":\"x\",\"histfunc\":\"sum\",\"hovertemplate\":\"method=pcg\\u003cbr\\u003esketch_fn=%{x}\\u003cbr\\u003en=8192\\u003cbr\\u003edeff=32\\u003cbr\\u003esum of time=%{y}\\u003cextra\\u003e\\u003c\\u002fextra\\u003e\",\"legendgroup\":\"pcg, sjlt\",\"marker\":{\"color\":\"#ab63fa\",\"pattern\":{\"shape\":\"\\u002f\"}},\"name\":\"pcg, sjlt\",\"offsetgroup\":\"pcg, sjlt\",\"orientation\":\"v\",\"showlegend\":true,\"texttemplate\":\"%{value:.2s}\",\"x\":[\"sjlt\"],\"xaxis\":\"x\",\"y\":[21.28722956633343],\"yaxis\":\"y\",\"type\":\"histogram\",\"cliponaxis\":false,\"textangle\":0,\"textposition\":\"outside\"},{\"alignmentgroup\":\"True\",\"bingroup\":\"x\",\"histfunc\":\"sum\",\"hovertemplate\":\"method=pcg\\u003cbr\\u003esketch_fn=%{x}\\u003cbr\\u003en=8192\\u003cbr\\u003edeff=64\\u003cbr\\u003esum of time=%{y}\\u003cextra\\u003e\\u003c\\u002fextra\\u003e\",\"legendgroup\":\"pcg, sjlt\",\"marker\":{\"color\":\"#ab63fa\",\"pattern\":{\"shape\":\"\\u002f\"}},\"name\":\"pcg, sjlt\",\"offsetgroup\":\"pcg, sjlt\",\"orientation\":\"v\",\"showlegend\":false,\"texttemplate\":\"%{value:.2s}\",\"x\":[\"sjlt\"],\"xaxis\":\"x2\",\"y\":[21.335139267333336],\"yaxis\":\"y2\",\"type\":\"histogram\",\"cliponaxis\":false,\"textangle\":0,\"textposition\":\"outside\"},{\"alignmentgroup\":\"True\",\"bingroup\":\"x\",\"histfunc\":\"sum\",\"hovertemplate\":\"method=pcg\\u003cbr\\u003esketch_fn=%{x}\\u003cbr\\u003en=8192\\u003cbr\\u003edeff=128\\u003cbr\\u003esum of time=%{y}\\u003cextra\\u003e\\u003c\\u002fextra\\u003e\",\"legendgroup\":\"pcg, sjlt\",\"marker\":{\"color\":\"#ab63fa\",\"pattern\":{\"shape\":\"\\u002f\"}},\"name\":\"pcg, sjlt\",\"offsetgroup\":\"pcg, sjlt\",\"orientation\":\"v\",\"showlegend\":false,\"texttemplate\":\"%{value:.2s}\",\"x\":[\"sjlt\"],\"xaxis\":\"x3\",\"y\":[21.473741289333702],\"yaxis\":\"y3\",\"type\":\"histogram\",\"cliponaxis\":false,\"textangle\":0,\"textposition\":\"outside\"},{\"alignmentgroup\":\"True\",\"bingroup\":\"x\",\"histfunc\":\"sum\",\"hovertemplate\":\"method=pcg\\u003cbr\\u003esketch_fn=%{x}\\u003cbr\\u003en=8192\\u003cbr\\u003edeff=256\\u003cbr\\u003esum of time=%{y}\\u003cextra\\u003e\\u003c\\u002fextra\\u003e\",\"legendgroup\":\"pcg, sjlt\",\"marker\":{\"color\":\"#ab63fa\",\"pattern\":{\"shape\":\"\\u002f\"}},\"name\":\"pcg, sjlt\",\"offsetgroup\":\"pcg, sjlt\",\"orientation\":\"v\",\"showlegend\":false,\"texttemplate\":\"%{value:.2s}\",\"x\":[\"sjlt\"],\"xaxis\":\"x4\",\"y\":[21.65948470233343],\"yaxis\":\"y4\",\"type\":\"histogram\",\"cliponaxis\":false,\"textangle\":0,\"textposition\":\"outside\"},{\"alignmentgroup\":\"True\",\"bingroup\":\"x\",\"histfunc\":\"sum\",\"hovertemplate\":\"method=pcg\\u003cbr\\u003esketch_fn=%{x}\\u003cbr\\u003en=8192\\u003cbr\\u003edeff=512\\u003cbr\\u003esum of time=%{y}\\u003cextra\\u003e\\u003c\\u002fextra\\u003e\",\"legendgroup\":\"pcg, sjlt\",\"marker\":{\"color\":\"#ab63fa\",\"pattern\":{\"shape\":\"\\u002f\"}},\"name\":\"pcg, sjlt\",\"offsetgroup\":\"pcg, sjlt\",\"orientation\":\"v\",\"showlegend\":false,\"texttemplate\":\"%{value:.2s}\",\"x\":[\"sjlt\"],\"xaxis\":\"x5\",\"y\":[22.00608200333469],\"yaxis\":\"y5\",\"type\":\"histogram\",\"cliponaxis\":false,\"textangle\":0,\"textposition\":\"outside\"},{\"alignmentgroup\":\"True\",\"bingroup\":\"x\",\"histfunc\":\"sum\",\"hovertemplate\":\"method=pcg\\u003cbr\\u003esketch_fn=%{x}\\u003cbr\\u003en=8192\\u003cbr\\u003edeff=1024\\u003cbr\\u003esum of time=%{y}\\u003cextra\\u003e\\u003c\\u002fextra\\u003e\",\"legendgroup\":\"pcg, sjlt\",\"marker\":{\"color\":\"#ab63fa\",\"pattern\":{\"shape\":\"\\u002f\"}},\"name\":\"pcg, sjlt\",\"offsetgroup\":\"pcg, sjlt\",\"orientation\":\"v\",\"showlegend\":false,\"texttemplate\":\"%{value:.2s}\",\"x\":[\"sjlt\"],\"xaxis\":\"x6\",\"y\":[22.556813018333436],\"yaxis\":\"y6\",\"type\":\"histogram\",\"cliponaxis\":false,\"textangle\":0,\"textposition\":\"outside\"},{\"alignmentgroup\":\"True\",\"bingroup\":\"x\",\"histfunc\":\"sum\",\"hovertemplate\":\"method=pcg\\u003cbr\\u003esketch_fn=%{x}\\u003cbr\\u003en=8192\\u003cbr\\u003edeff=2048\\u003cbr\\u003esum of time=%{y}\\u003cextra\\u003e\\u003c\\u002fextra\\u003e\",\"legendgroup\":\"pcg, sjlt\",\"marker\":{\"color\":\"#ab63fa\",\"pattern\":{\"shape\":\"\\u002f\"}},\"name\":\"pcg, sjlt\",\"offsetgroup\":\"pcg, sjlt\",\"orientation\":\"v\",\"showlegend\":false,\"texttemplate\":\"%{value:.2s}\",\"x\":[\"sjlt\"],\"xaxis\":\"x7\",\"y\":[24.074787922334508],\"yaxis\":\"y7\",\"type\":\"histogram\",\"cliponaxis\":false,\"textangle\":0,\"textposition\":\"outside\"},{\"alignmentgroup\":\"True\",\"bingroup\":\"x\",\"histfunc\":\"sum\",\"hovertemplate\":\"method=pcg\\u003cbr\\u003esketch_fn=%{x}\\u003cbr\\u003en=8192\\u003cbr\\u003edeff=4096\\u003cbr\\u003esum of time=%{y}\\u003cextra\\u003e\\u003c\\u002fextra\\u003e\",\"legendgroup\":\"pcg, sjlt\",\"marker\":{\"color\":\"#ab63fa\",\"pattern\":{\"shape\":\"\\u002f\"}},\"name\":\"pcg, sjlt\",\"offsetgroup\":\"pcg, sjlt\",\"orientation\":\"v\",\"showlegend\":false,\"texttemplate\":\"%{value:.2s}\",\"x\":[\"sjlt\"],\"xaxis\":\"x8\",\"y\":[29.51277430699944],\"yaxis\":\"y8\",\"type\":\"histogram\",\"cliponaxis\":false,\"textangle\":0,\"textposition\":\"outside\"},{\"alignmentgroup\":\"True\",\"bingroup\":\"x\",\"histfunc\":\"sum\",\"hovertemplate\":\"method=pcg\\u003cbr\\u003esketch_fn=%{x}\\u003cbr\\u003en=8192\\u003cbr\\u003edeff=8192\\u003cbr\\u003esum of time=%{y}\\u003cextra\\u003e\\u003c\\u002fextra\\u003e\",\"legendgroup\":\"pcg, sjlt\",\"marker\":{\"color\":\"#ab63fa\",\"pattern\":{\"shape\":\"\\u002f\"}},\"name\":\"pcg, sjlt\",\"offsetgroup\":\"pcg, sjlt\",\"orientation\":\"v\",\"showlegend\":false,\"texttemplate\":\"%{value:.2s}\",\"x\":[\"sjlt\"],\"xaxis\":\"x9\",\"y\":[151.66898644566874],\"yaxis\":\"y9\",\"type\":\"histogram\",\"cliponaxis\":false,\"textangle\":0,\"textposition\":\"outside\"},{\"alignmentgroup\":\"True\",\"bingroup\":\"x\",\"histfunc\":\"sum\",\"hovertemplate\":\"method=pcg\\u003cbr\\u003esketch_fn=%{x}\\u003cbr\\u003en=8192\\u003cbr\\u003edeff=32\\u003cbr\\u003esum of time=%{y}\\u003cextra\\u003e\\u003c\\u002fextra\\u003e\",\"legendgroup\":\"pcg, srht\",\"marker\":{\"color\":\"#ab63fa\",\"pattern\":{\"shape\":\"\\\\\"}},\"name\":\"pcg, srht\",\"offsetgroup\":\"pcg, srht\",\"orientation\":\"v\",\"showlegend\":true,\"texttemplate\":\"%{value:.2s}\",\"x\":[\"srht\"],\"xaxis\":\"x\",\"y\":[23.858533297999504],\"yaxis\":\"y\",\"type\":\"histogram\",\"cliponaxis\":false,\"textangle\":0,\"textposition\":\"outside\"},{\"alignmentgroup\":\"True\",\"bingroup\":\"x\",\"histfunc\":\"sum\",\"hovertemplate\":\"method=pcg\\u003cbr\\u003esketch_fn=%{x}\\u003cbr\\u003en=8192\\u003cbr\\u003edeff=64\\u003cbr\\u003esum of time=%{y}\\u003cextra\\u003e\\u003c\\u002fextra\\u003e\",\"legendgroup\":\"pcg, srht\",\"marker\":{\"color\":\"#ab63fa\",\"pattern\":{\"shape\":\"\\\\\"}},\"name\":\"pcg, srht\",\"offsetgroup\":\"pcg, srht\",\"orientation\":\"v\",\"showlegend\":false,\"texttemplate\":\"%{value:.2s}\",\"x\":[\"srht\"],\"xaxis\":\"x2\",\"y\":[23.79711109566718],\"yaxis\":\"y2\",\"type\":\"histogram\",\"cliponaxis\":false,\"textangle\":0,\"textposition\":\"outside\"},{\"alignmentgroup\":\"True\",\"bingroup\":\"x\",\"histfunc\":\"sum\",\"hovertemplate\":\"method=pcg\\u003cbr\\u003esketch_fn=%{x}\\u003cbr\\u003en=8192\\u003cbr\\u003edeff=128\\u003cbr\\u003esum of time=%{y}\\u003cextra\\u003e\\u003c\\u002fextra\\u003e\",\"legendgroup\":\"pcg, srht\",\"marker\":{\"color\":\"#ab63fa\",\"pattern\":{\"shape\":\"\\\\\"}},\"name\":\"pcg, srht\",\"offsetgroup\":\"pcg, srht\",\"orientation\":\"v\",\"showlegend\":false,\"texttemplate\":\"%{value:.2s}\",\"x\":[\"srht\"],\"xaxis\":\"x3\",\"y\":[23.819908802999635],\"yaxis\":\"y3\",\"type\":\"histogram\",\"cliponaxis\":false,\"textangle\":0,\"textposition\":\"outside\"},{\"alignmentgroup\":\"True\",\"bingroup\":\"x\",\"histfunc\":\"sum\",\"hovertemplate\":\"method=pcg\\u003cbr\\u003esketch_fn=%{x}\\u003cbr\\u003en=8192\\u003cbr\\u003edeff=256\\u003cbr\\u003esum of time=%{y}\\u003cextra\\u003e\\u003c\\u002fextra\\u003e\",\"legendgroup\":\"pcg, srht\",\"marker\":{\"color\":\"#ab63fa\",\"pattern\":{\"shape\":\"\\\\\"}},\"name\":\"pcg, srht\",\"offsetgroup\":\"pcg, srht\",\"orientation\":\"v\",\"showlegend\":false,\"texttemplate\":\"%{value:.2s}\",\"x\":[\"srht\"],\"xaxis\":\"x4\",\"y\":[24.02037961366659],\"yaxis\":\"y4\",\"type\":\"histogram\",\"cliponaxis\":false,\"textangle\":0,\"textposition\":\"outside\"},{\"alignmentgroup\":\"True\",\"bingroup\":\"x\",\"histfunc\":\"sum\",\"hovertemplate\":\"method=pcg\\u003cbr\\u003esketch_fn=%{x}\\u003cbr\\u003en=8192\\u003cbr\\u003edeff=512\\u003cbr\\u003esum of time=%{y}\\u003cextra\\u003e\\u003c\\u002fextra\\u003e\",\"legendgroup\":\"pcg, srht\",\"marker\":{\"color\":\"#ab63fa\",\"pattern\":{\"shape\":\"\\\\\"}},\"name\":\"pcg, srht\",\"offsetgroup\":\"pcg, srht\",\"orientation\":\"v\",\"showlegend\":false,\"texttemplate\":\"%{value:.2s}\",\"x\":[\"srht\"],\"xaxis\":\"x5\",\"y\":[23.930937863666863],\"yaxis\":\"y5\",\"type\":\"histogram\",\"cliponaxis\":false,\"textangle\":0,\"textposition\":\"outside\"},{\"alignmentgroup\":\"True\",\"bingroup\":\"x\",\"histfunc\":\"sum\",\"hovertemplate\":\"method=pcg\\u003cbr\\u003esketch_fn=%{x}\\u003cbr\\u003en=8192\\u003cbr\\u003edeff=1024\\u003cbr\\u003esum of time=%{y}\\u003cextra\\u003e\\u003c\\u002fextra\\u003e\",\"legendgroup\":\"pcg, srht\",\"marker\":{\"color\":\"#ab63fa\",\"pattern\":{\"shape\":\"\\\\\"}},\"name\":\"pcg, srht\",\"offsetgroup\":\"pcg, srht\",\"orientation\":\"v\",\"showlegend\":false,\"texttemplate\":\"%{value:.2s}\",\"x\":[\"srht\"],\"xaxis\":\"x6\",\"y\":[24.199415235332708],\"yaxis\":\"y6\",\"type\":\"histogram\",\"cliponaxis\":false,\"textangle\":0,\"textposition\":\"outside\"},{\"alignmentgroup\":\"True\",\"bingroup\":\"x\",\"histfunc\":\"sum\",\"hovertemplate\":\"method=pcg\\u003cbr\\u003esketch_fn=%{x}\\u003cbr\\u003en=8192\\u003cbr\\u003edeff=2048\\u003cbr\\u003esum of time=%{y}\\u003cextra\\u003e\\u003c\\u002fextra\\u003e\",\"legendgroup\":\"pcg, srht\",\"marker\":{\"color\":\"#ab63fa\",\"pattern\":{\"shape\":\"\\\\\"}},\"name\":\"pcg, srht\",\"offsetgroup\":\"pcg, srht\",\"orientation\":\"v\",\"showlegend\":false,\"texttemplate\":\"%{value:.2s}\",\"x\":[\"srht\"],\"xaxis\":\"x7\",\"y\":[24.125518821333873],\"yaxis\":\"y7\",\"type\":\"histogram\",\"cliponaxis\":false,\"textangle\":0,\"textposition\":\"outside\"},{\"alignmentgroup\":\"True\",\"bingroup\":\"x\",\"histfunc\":\"sum\",\"hovertemplate\":\"method=pcg\\u003cbr\\u003esketch_fn=%{x}\\u003cbr\\u003en=8192\\u003cbr\\u003edeff=4096\\u003cbr\\u003esum of time=%{y}\\u003cextra\\u003e\\u003c\\u002fextra\\u003e\",\"legendgroup\":\"pcg, srht\",\"marker\":{\"color\":\"#ab63fa\",\"pattern\":{\"shape\":\"\\\\\"}},\"name\":\"pcg, srht\",\"offsetgroup\":\"pcg, srht\",\"orientation\":\"v\",\"showlegend\":false,\"texttemplate\":\"%{value:.2s}\",\"x\":[\"srht\"],\"xaxis\":\"x8\",\"y\":[24.058159174665583],\"yaxis\":\"y8\",\"type\":\"histogram\",\"cliponaxis\":false,\"textangle\":0,\"textposition\":\"outside\"},{\"alignmentgroup\":\"True\",\"bingroup\":\"x\",\"histfunc\":\"sum\",\"hovertemplate\":\"method=pcg\\u003cbr\\u003esketch_fn=%{x}\\u003cbr\\u003en=8192\\u003cbr\\u003edeff=8192\\u003cbr\\u003esum of time=%{y}\\u003cextra\\u003e\\u003c\\u002fextra\\u003e\",\"legendgroup\":\"pcg, srht\",\"marker\":{\"color\":\"#ab63fa\",\"pattern\":{\"shape\":\"\\\\\"}},\"name\":\"pcg, srht\",\"offsetgroup\":\"pcg, srht\",\"orientation\":\"v\",\"showlegend\":false,\"texttemplate\":\"%{value:.2s}\",\"x\":[\"srht\"],\"xaxis\":\"x9\",\"y\":[24.23967356100062],\"yaxis\":\"y9\",\"type\":\"histogram\",\"cliponaxis\":false,\"textangle\":0,\"textposition\":\"outside\"}],                        {\"template\":{\"data\":{\"histogram2dcontour\":[{\"type\":\"histogram2dcontour\",\"colorbar\":{\"outlinewidth\":0,\"ticks\":\"\"},\"colorscale\":[[0.0,\"#0d0887\"],[0.1111111111111111,\"#46039f\"],[0.2222222222222222,\"#7201a8\"],[0.3333333333333333,\"#9c179e\"],[0.4444444444444444,\"#bd3786\"],[0.5555555555555556,\"#d8576b\"],[0.6666666666666666,\"#ed7953\"],[0.7777777777777778,\"#fb9f3a\"],[0.8888888888888888,\"#fdca26\"],[1.0,\"#f0f921\"]]}],\"choropleth\":[{\"type\":\"choropleth\",\"colorbar\":{\"outlinewidth\":0,\"ticks\":\"\"}}],\"histogram2d\":[{\"type\":\"histogram2d\",\"colorbar\":{\"outlinewidth\":0,\"ticks\":\"\"},\"colorscale\":[[0.0,\"#0d0887\"],[0.1111111111111111,\"#46039f\"],[0.2222222222222222,\"#7201a8\"],[0.3333333333333333,\"#9c179e\"],[0.4444444444444444,\"#bd3786\"],[0.5555555555555556,\"#d8576b\"],[0.6666666666666666,\"#ed7953\"],[0.7777777777777778,\"#fb9f3a\"],[0.8888888888888888,\"#fdca26\"],[1.0,\"#f0f921\"]]}],\"heatmap\":[{\"type\":\"heatmap\",\"colorbar\":{\"outlinewidth\":0,\"ticks\":\"\"},\"colorscale\":[[0.0,\"#0d0887\"],[0.1111111111111111,\"#46039f\"],[0.2222222222222222,\"#7201a8\"],[0.3333333333333333,\"#9c179e\"],[0.4444444444444444,\"#bd3786\"],[0.5555555555555556,\"#d8576b\"],[0.6666666666666666,\"#ed7953\"],[0.7777777777777778,\"#fb9f3a\"],[0.8888888888888888,\"#fdca26\"],[1.0,\"#f0f921\"]]}],\"heatmapgl\":[{\"type\":\"heatmapgl\",\"colorbar\":{\"outlinewidth\":0,\"ticks\":\"\"},\"colorscale\":[[0.0,\"#0d0887\"],[0.1111111111111111,\"#46039f\"],[0.2222222222222222,\"#7201a8\"],[0.3333333333333333,\"#9c179e\"],[0.4444444444444444,\"#bd3786\"],[0.5555555555555556,\"#d8576b\"],[0.6666666666666666,\"#ed7953\"],[0.7777777777777778,\"#fb9f3a\"],[0.8888888888888888,\"#fdca26\"],[1.0,\"#f0f921\"]]}],\"contourcarpet\":[{\"type\":\"contourcarpet\",\"colorbar\":{\"outlinewidth\":0,\"ticks\":\"\"}}],\"contour\":[{\"type\":\"contour\",\"colorbar\":{\"outlinewidth\":0,\"ticks\":\"\"},\"colorscale\":[[0.0,\"#0d0887\"],[0.1111111111111111,\"#46039f\"],[0.2222222222222222,\"#7201a8\"],[0.3333333333333333,\"#9c179e\"],[0.4444444444444444,\"#bd3786\"],[0.5555555555555556,\"#d8576b\"],[0.6666666666666666,\"#ed7953\"],[0.7777777777777778,\"#fb9f3a\"],[0.8888888888888888,\"#fdca26\"],[1.0,\"#f0f921\"]]}],\"surface\":[{\"type\":\"surface\",\"colorbar\":{\"outlinewidth\":0,\"ticks\":\"\"},\"colorscale\":[[0.0,\"#0d0887\"],[0.1111111111111111,\"#46039f\"],[0.2222222222222222,\"#7201a8\"],[0.3333333333333333,\"#9c179e\"],[0.4444444444444444,\"#bd3786\"],[0.5555555555555556,\"#d8576b\"],[0.6666666666666666,\"#ed7953\"],[0.7777777777777778,\"#fb9f3a\"],[0.8888888888888888,\"#fdca26\"],[1.0,\"#f0f921\"]]}],\"mesh3d\":[{\"type\":\"mesh3d\",\"colorbar\":{\"outlinewidth\":0,\"ticks\":\"\"}}],\"scatter\":[{\"fillpattern\":{\"fillmode\":\"overlay\",\"size\":10,\"solidity\":0.2},\"type\":\"scatter\"}],\"parcoords\":[{\"type\":\"parcoords\",\"line\":{\"colorbar\":{\"outlinewidth\":0,\"ticks\":\"\"}}}],\"scatterpolargl\":[{\"type\":\"scatterpolargl\",\"marker\":{\"colorbar\":{\"outlinewidth\":0,\"ticks\":\"\"}}}],\"bar\":[{\"error_x\":{\"color\":\"#2a3f5f\"},\"error_y\":{\"color\":\"#2a3f5f\"},\"marker\":{\"line\":{\"color\":\"#E5ECF6\",\"width\":0.5},\"pattern\":{\"fillmode\":\"overlay\",\"size\":10,\"solidity\":0.2}},\"type\":\"bar\"}],\"scattergeo\":[{\"type\":\"scattergeo\",\"marker\":{\"colorbar\":{\"outlinewidth\":0,\"ticks\":\"\"}}}],\"scatterpolar\":[{\"type\":\"scatterpolar\",\"marker\":{\"colorbar\":{\"outlinewidth\":0,\"ticks\":\"\"}}}],\"histogram\":[{\"marker\":{\"pattern\":{\"fillmode\":\"overlay\",\"size\":10,\"solidity\":0.2}},\"type\":\"histogram\"}],\"scattergl\":[{\"type\":\"scattergl\",\"marker\":{\"colorbar\":{\"outlinewidth\":0,\"ticks\":\"\"}}}],\"scatter3d\":[{\"type\":\"scatter3d\",\"line\":{\"colorbar\":{\"outlinewidth\":0,\"ticks\":\"\"}},\"marker\":{\"colorbar\":{\"outlinewidth\":0,\"ticks\":\"\"}}}],\"scattermapbox\":[{\"type\":\"scattermapbox\",\"marker\":{\"colorbar\":{\"outlinewidth\":0,\"ticks\":\"\"}}}],\"scatterternary\":[{\"type\":\"scatterternary\",\"marker\":{\"colorbar\":{\"outlinewidth\":0,\"ticks\":\"\"}}}],\"scattercarpet\":[{\"type\":\"scattercarpet\",\"marker\":{\"colorbar\":{\"outlinewidth\":0,\"ticks\":\"\"}}}],\"carpet\":[{\"aaxis\":{\"endlinecolor\":\"#2a3f5f\",\"gridcolor\":\"white\",\"linecolor\":\"white\",\"minorgridcolor\":\"white\",\"startlinecolor\":\"#2a3f5f\"},\"baxis\":{\"endlinecolor\":\"#2a3f5f\",\"gridcolor\":\"white\",\"linecolor\":\"white\",\"minorgridcolor\":\"white\",\"startlinecolor\":\"#2a3f5f\"},\"type\":\"carpet\"}],\"table\":[{\"cells\":{\"fill\":{\"color\":\"#EBF0F8\"},\"line\":{\"color\":\"white\"}},\"header\":{\"fill\":{\"color\":\"#C8D4E3\"},\"line\":{\"color\":\"white\"}},\"type\":\"table\"}],\"barpolar\":[{\"marker\":{\"line\":{\"color\":\"#E5ECF6\",\"width\":0.5},\"pattern\":{\"fillmode\":\"overlay\",\"size\":10,\"solidity\":0.2}},\"type\":\"barpolar\"}],\"pie\":[{\"automargin\":true,\"type\":\"pie\"}]},\"layout\":{\"autotypenumbers\":\"strict\",\"colorway\":[\"#636efa\",\"#EF553B\",\"#00cc96\",\"#ab63fa\",\"#FFA15A\",\"#19d3f3\",\"#FF6692\",\"#B6E880\",\"#FF97FF\",\"#FECB52\"],\"font\":{\"color\":\"#2a3f5f\"},\"hovermode\":\"closest\",\"hoverlabel\":{\"align\":\"left\"},\"paper_bgcolor\":\"white\",\"plot_bgcolor\":\"#E5ECF6\",\"polar\":{\"bgcolor\":\"#E5ECF6\",\"angularaxis\":{\"gridcolor\":\"white\",\"linecolor\":\"white\",\"ticks\":\"\"},\"radialaxis\":{\"gridcolor\":\"white\",\"linecolor\":\"white\",\"ticks\":\"\"}},\"ternary\":{\"bgcolor\":\"#E5ECF6\",\"aaxis\":{\"gridcolor\":\"white\",\"linecolor\":\"white\",\"ticks\":\"\"},\"baxis\":{\"gridcolor\":\"white\",\"linecolor\":\"white\",\"ticks\":\"\"},\"caxis\":{\"gridcolor\":\"white\",\"linecolor\":\"white\",\"ticks\":\"\"}},\"coloraxis\":{\"colorbar\":{\"outlinewidth\":0,\"ticks\":\"\"}},\"colorscale\":{\"sequential\":[[0.0,\"#0d0887\"],[0.1111111111111111,\"#46039f\"],[0.2222222222222222,\"#7201a8\"],[0.3333333333333333,\"#9c179e\"],[0.4444444444444444,\"#bd3786\"],[0.5555555555555556,\"#d8576b\"],[0.6666666666666666,\"#ed7953\"],[0.7777777777777778,\"#fb9f3a\"],[0.8888888888888888,\"#fdca26\"],[1.0,\"#f0f921\"]],\"sequentialminus\":[[0.0,\"#0d0887\"],[0.1111111111111111,\"#46039f\"],[0.2222222222222222,\"#7201a8\"],[0.3333333333333333,\"#9c179e\"],[0.4444444444444444,\"#bd3786\"],[0.5555555555555556,\"#d8576b\"],[0.6666666666666666,\"#ed7953\"],[0.7777777777777778,\"#fb9f3a\"],[0.8888888888888888,\"#fdca26\"],[1.0,\"#f0f921\"]],\"diverging\":[[0,\"#8e0152\"],[0.1,\"#c51b7d\"],[0.2,\"#de77ae\"],[0.3,\"#f1b6da\"],[0.4,\"#fde0ef\"],[0.5,\"#f7f7f7\"],[0.6,\"#e6f5d0\"],[0.7,\"#b8e186\"],[0.8,\"#7fbc41\"],[0.9,\"#4d9221\"],[1,\"#276419\"]]},\"xaxis\":{\"gridcolor\":\"white\",\"linecolor\":\"white\",\"ticks\":\"\",\"title\":{\"standoff\":15},\"zerolinecolor\":\"white\",\"automargin\":true,\"zerolinewidth\":2},\"yaxis\":{\"gridcolor\":\"white\",\"linecolor\":\"white\",\"ticks\":\"\",\"title\":{\"standoff\":15},\"zerolinecolor\":\"white\",\"automargin\":true,\"zerolinewidth\":2},\"scene\":{\"xaxis\":{\"backgroundcolor\":\"#E5ECF6\",\"gridcolor\":\"white\",\"linecolor\":\"white\",\"showbackground\":true,\"ticks\":\"\",\"zerolinecolor\":\"white\",\"gridwidth\":2},\"yaxis\":{\"backgroundcolor\":\"#E5ECF6\",\"gridcolor\":\"white\",\"linecolor\":\"white\",\"showbackground\":true,\"ticks\":\"\",\"zerolinecolor\":\"white\",\"gridwidth\":2},\"zaxis\":{\"backgroundcolor\":\"#E5ECF6\",\"gridcolor\":\"white\",\"linecolor\":\"white\",\"showbackground\":true,\"ticks\":\"\",\"zerolinecolor\":\"white\",\"gridwidth\":2}},\"shapedefaults\":{\"line\":{\"color\":\"#2a3f5f\"}},\"annotationdefaults\":{\"arrowcolor\":\"#2a3f5f\",\"arrowhead\":0,\"arrowwidth\":1},\"geo\":{\"bgcolor\":\"white\",\"landcolor\":\"#E5ECF6\",\"subunitcolor\":\"white\",\"showland\":true,\"showlakes\":true,\"lakecolor\":\"white\"},\"title\":{\"x\":0.05},\"mapbox\":{\"style\":\"light\"}}},\"xaxis\":{\"anchor\":\"y\",\"domain\":[0.0,0.0911111111111111],\"title\":{\"text\":\"sketch_fn\"},\"categoryorder\":\"array\",\"categoryarray\":[\"gaussian\",\"sjlt\",\"srht\",\"none\"]},\"yaxis\":{\"anchor\":\"x\",\"domain\":[0.0,1.0],\"title\":{\"text\":\"sum of time\"}},\"xaxis2\":{\"anchor\":\"y2\",\"domain\":[0.1111111111111111,0.2022222222222222],\"matches\":\"x\",\"title\":{\"text\":\"sketch_fn\"},\"categoryorder\":\"array\",\"categoryarray\":[\"gaussian\",\"sjlt\",\"srht\",\"none\"]},\"yaxis2\":{\"anchor\":\"x2\",\"domain\":[0.0,1.0],\"matches\":\"y\",\"showticklabels\":false},\"xaxis3\":{\"anchor\":\"y3\",\"domain\":[0.2222222222222222,0.3133333333333333],\"matches\":\"x\",\"title\":{\"text\":\"sketch_fn\"},\"categoryorder\":\"array\",\"categoryarray\":[\"gaussian\",\"sjlt\",\"srht\",\"none\"]},\"yaxis3\":{\"anchor\":\"x3\",\"domain\":[0.0,1.0],\"matches\":\"y\",\"showticklabels\":false},\"xaxis4\":{\"anchor\":\"y4\",\"domain\":[0.3333333333333333,0.4244444444444444],\"matches\":\"x\",\"title\":{\"text\":\"sketch_fn\"},\"categoryorder\":\"array\",\"categoryarray\":[\"gaussian\",\"sjlt\",\"srht\",\"none\"]},\"yaxis4\":{\"anchor\":\"x4\",\"domain\":[0.0,1.0],\"matches\":\"y\",\"showticklabels\":false},\"xaxis5\":{\"anchor\":\"y5\",\"domain\":[0.4444444444444444,0.5355555555555556],\"matches\":\"x\",\"title\":{\"text\":\"sketch_fn\"},\"categoryorder\":\"array\",\"categoryarray\":[\"gaussian\",\"sjlt\",\"srht\",\"none\"]},\"yaxis5\":{\"anchor\":\"x5\",\"domain\":[0.0,1.0],\"matches\":\"y\",\"showticklabels\":false},\"xaxis6\":{\"anchor\":\"y6\",\"domain\":[0.5555555555555555,0.6466666666666666],\"matches\":\"x\",\"title\":{\"text\":\"sketch_fn\"},\"categoryorder\":\"array\",\"categoryarray\":[\"gaussian\",\"sjlt\",\"srht\",\"none\"]},\"yaxis6\":{\"anchor\":\"x6\",\"domain\":[0.0,1.0],\"matches\":\"y\",\"showticklabels\":false},\"xaxis7\":{\"anchor\":\"y7\",\"domain\":[0.6666666666666666,0.7577777777777778],\"matches\":\"x\",\"title\":{\"text\":\"sketch_fn\"},\"categoryorder\":\"array\",\"categoryarray\":[\"gaussian\",\"sjlt\",\"srht\",\"none\"]},\"yaxis7\":{\"anchor\":\"x7\",\"domain\":[0.0,1.0],\"matches\":\"y\",\"showticklabels\":false},\"xaxis8\":{\"anchor\":\"y8\",\"domain\":[0.7777777777777778,0.8688888888888889],\"matches\":\"x\",\"title\":{\"text\":\"sketch_fn\"},\"categoryorder\":\"array\",\"categoryarray\":[\"gaussian\",\"sjlt\",\"srht\",\"none\"]},\"yaxis8\":{\"anchor\":\"x8\",\"domain\":[0.0,1.0],\"matches\":\"y\",\"showticklabels\":false},\"xaxis9\":{\"anchor\":\"y9\",\"domain\":[0.888888888888889,0.9800000000000001],\"matches\":\"x\",\"title\":{\"text\":\"sketch_fn\"},\"categoryorder\":\"array\",\"categoryarray\":[\"gaussian\",\"sjlt\",\"srht\",\"none\"]},\"yaxis9\":{\"anchor\":\"x9\",\"domain\":[0.0,1.0],\"matches\":\"y\",\"showticklabels\":false},\"annotations\":[{\"font\":{},\"showarrow\":false,\"text\":\"deff=32\",\"x\":0.04555555555555555,\"xanchor\":\"center\",\"xref\":\"paper\",\"y\":1.0,\"yanchor\":\"bottom\",\"yref\":\"paper\"},{\"font\":{},\"showarrow\":false,\"text\":\"deff=64\",\"x\":0.15666666666666665,\"xanchor\":\"center\",\"xref\":\"paper\",\"y\":1.0,\"yanchor\":\"bottom\",\"yref\":\"paper\"},{\"font\":{},\"showarrow\":false,\"text\":\"deff=128\",\"x\":0.2677777777777778,\"xanchor\":\"center\",\"xref\":\"paper\",\"y\":1.0,\"yanchor\":\"bottom\",\"yref\":\"paper\"},{\"font\":{},\"showarrow\":false,\"text\":\"deff=256\",\"x\":0.37888888888888883,\"xanchor\":\"center\",\"xref\":\"paper\",\"y\":1.0,\"yanchor\":\"bottom\",\"yref\":\"paper\"},{\"font\":{},\"showarrow\":false,\"text\":\"deff=512\",\"x\":0.49,\"xanchor\":\"center\",\"xref\":\"paper\",\"y\":1.0,\"yanchor\":\"bottom\",\"yref\":\"paper\"},{\"font\":{},\"showarrow\":false,\"text\":\"deff=1024\",\"x\":0.601111111111111,\"xanchor\":\"center\",\"xref\":\"paper\",\"y\":1.0,\"yanchor\":\"bottom\",\"yref\":\"paper\"},{\"font\":{},\"showarrow\":false,\"text\":\"deff=2048\",\"x\":0.7122222222222222,\"xanchor\":\"center\",\"xref\":\"paper\",\"y\":1.0,\"yanchor\":\"bottom\",\"yref\":\"paper\"},{\"font\":{},\"showarrow\":false,\"text\":\"deff=4096\",\"x\":0.8233333333333334,\"xanchor\":\"center\",\"xref\":\"paper\",\"y\":1.0,\"yanchor\":\"bottom\",\"yref\":\"paper\"},{\"font\":{},\"showarrow\":false,\"text\":\"deff=8192\",\"x\":0.9344444444444445,\"xanchor\":\"center\",\"xref\":\"paper\",\"y\":1.0,\"yanchor\":\"bottom\",\"yref\":\"paper\"},{\"font\":{},\"showarrow\":false,\"text\":\"n=8192\",\"textangle\":90,\"x\":0.9800000000000001,\"xanchor\":\"left\",\"xref\":\"paper\",\"y\":0.5,\"yanchor\":\"middle\",\"yref\":\"paper\"}],\"legend\":{\"title\":{\"text\":\"method, sketch_fn\"},\"tracegroupgap\":0},\"margin\":{\"t\":60},\"barmode\":\"group\",\"height\":700},                        {\"responsive\": true}                    ).then(function(){\n",
       "                            \n",
       "var gd = document.getElementById('738f5a9f-0bf4-4775-bcc0-e3b5b4ffb2c6');\n",
       "var x = new MutationObserver(function (mutations, observer) {{\n",
       "        var display = window.getComputedStyle(gd).display;\n",
       "        if (!display || display === 'none') {{\n",
       "            console.log([gd, 'removed!']);\n",
       "            Plotly.purge(gd);\n",
       "            observer.disconnect();\n",
       "        }}\n",
       "}});\n",
       "\n",
       "// Listen for the removal of the full notebook cells\n",
       "var notebookContainer = gd.closest('#notebook-container');\n",
       "if (notebookContainer) {{\n",
       "    x.observe(notebookContainer, {childList: true});\n",
       "}}\n",
       "\n",
       "// Listen for the clearing of the current output cell\n",
       "var outputEl = gd.closest('.output');\n",
       "if (outputEl) {{\n",
       "    x.observe(outputEl, {childList: true});\n",
       "}}\n",
       "\n",
       "                        })                };                });            </script>        </div>"
      ]
     },
     "metadata": {},
     "output_type": "display_data"
    }
   ],
   "source": [
    "for d in [8192]:\n",
    "    print(f\"{d=}\")\n",
    "    df_ = df[(df.d==d)&(df.cn==1024)]\n",
    "    fig = px.histogram(df_, \n",
    "                       x=\"sketch_fn\", \n",
    "                       y=\"time\",\n",
    "                       color=\"method\", \n",
    "                       pattern_shape=\"sketch_fn\",\n",
    "                       barmode='group',\n",
    "                       text_auto='.2s',\n",
    "                       facet_row='n',\n",
    "                       facet_col='deff',\n",
    "                       #log_y=True,\n",
    "                      )\n",
    "\n",
    "    fig.update_traces(textangle=0, textposition=\"outside\", cliponaxis=False)\n",
    "\n",
    "    fig.update_layout(height=700)\n",
    "    fig.show()"
   ]
  },
  {
   "cell_type": "code",
   "execution_count": 193,
   "metadata": {},
   "outputs": [
    {
     "data": {
      "text/html": [
       "<div>\n",
       "<style scoped>\n",
       "    .dataframe tbody tr th:only-of-type {\n",
       "        vertical-align: middle;\n",
       "    }\n",
       "\n",
       "    .dataframe tbody tr th {\n",
       "        vertical-align: top;\n",
       "    }\n",
       "\n",
       "    .dataframe thead th {\n",
       "        text-align: right;\n",
       "    }\n",
       "</style>\n",
       "<table border=\"1\" class=\"dataframe\">\n",
       "  <thead>\n",
       "    <tr style=\"text-align: right;\">\n",
       "      <th></th>\n",
       "      <th>n</th>\n",
       "      <th>d</th>\n",
       "      <th>deff</th>\n",
       "      <th>cn</th>\n",
       "      <th>reg_param</th>\n",
       "      <th>pcg_sketch_size</th>\n",
       "      <th>ada_sketch_size</th>\n",
       "      <th>max_sketch_size</th>\n",
       "      <th>tolerance</th>\n",
       "      <th>tolerance_warmup</th>\n",
       "      <th>n_iterations</th>\n",
       "      <th>n_iterations_cg</th>\n",
       "      <th>num_workers</th>\n",
       "      <th>dtype</th>\n",
       "      <th>time</th>\n",
       "      <th>method</th>\n",
       "      <th>sketch_fn</th>\n",
       "    </tr>\n",
       "  </thead>\n",
       "  <tbody>\n",
       "    <tr>\n",
       "      <th>104</th>\n",
       "      <td>2048</td>\n",
       "      <td>64</td>\n",
       "      <td>63.668717</td>\n",
       "      <td>2048</td>\n",
       "      <td>0.000122</td>\n",
       "      <td>256</td>\n",
       "      <td>32</td>\n",
       "      <td>256</td>\n",
       "      <td>0.000001</td>\n",
       "      <td>0.0001</td>\n",
       "      <td>200</td>\n",
       "      <td>1000</td>\n",
       "      <td>1</td>\n",
       "      <td>float64</td>\n",
       "      <td>0.000837</td>\n",
       "      <td>dm</td>\n",
       "      <td>none</td>\n",
       "    </tr>\n",
       "    <tr>\n",
       "      <th>184</th>\n",
       "      <td>2048</td>\n",
       "      <td>64</td>\n",
       "      <td>31.972399</td>\n",
       "      <td>2048</td>\n",
       "      <td>0.000488</td>\n",
       "      <td>256</td>\n",
       "      <td>32</td>\n",
       "      <td>256</td>\n",
       "      <td>0.000001</td>\n",
       "      <td>0.0001</td>\n",
       "      <td>200</td>\n",
       "      <td>1000</td>\n",
       "      <td>1</td>\n",
       "      <td>float64</td>\n",
       "      <td>0.000860</td>\n",
       "      <td>dm</td>\n",
       "      <td>none</td>\n",
       "    </tr>\n",
       "  </tbody>\n",
       "</table>\n",
       "</div>"
      ],
      "text/plain": [
       "        n   d       deff    cn  reg_param  pcg_sketch_size  ada_sketch_size  \\\n",
       "104  2048  64  63.668717  2048   0.000122              256               32   \n",
       "184  2048  64  31.972399  2048   0.000488              256               32   \n",
       "\n",
       "     max_sketch_size  tolerance  tolerance_warmup  n_iterations  \\\n",
       "104              256   0.000001            0.0001           200   \n",
       "184              256   0.000001            0.0001           200   \n",
       "\n",
       "     n_iterations_cg  num_workers    dtype      time method sketch_fn  \n",
       "104             1000            1  float64  0.000837     dm      none  \n",
       "184             1000            1  float64  0.000860     dm      none  "
      ]
     },
     "execution_count": 193,
     "metadata": {},
     "output_type": "execute_result"
    }
   ],
   "source": [
    "df[(df.n==2048)&(df.d==64)&(df.cn==2048)&(df.method=='dm')]"
   ]
  },
  {
   "cell_type": "code",
   "execution_count": null,
   "metadata": {},
   "outputs": [],
   "source": []
  },
  {
   "cell_type": "markdown",
   "metadata": {},
   "source": [
    "# Sparse Cholesky decomposition"
   ]
  },
  {
   "cell_type": "code",
   "execution_count": 6,
   "metadata": {},
   "outputs": [],
   "source": [
    "a, b = load_real_data(dataset_name='rcv1')\n",
    "ns = 10000\n",
    "ds = 200\n",
    "ab = a[:ns, :ds]\n",
    "bb = b[:ns]\n",
    "rescale_data = True\n",
    "check_reg_param = True"
   ]
  },
  {
   "cell_type": "code",
   "execution_count": 7,
   "metadata": {
    "scrolled": true
   },
   "outputs": [
    {
     "name": "stderr",
     "output_type": "stream",
     "text": [
      "INFO:root:Rescaling data by max singular value: sigma_top=0.002423529515111234\n",
      "INFO:root:direct method using sparse LU decomposition\n"
     ]
    }
   ],
   "source": [
    "#start = time()\n",
    "dm = DirectMethod(a=ab, b=bb, reg_param=1e-2, rescale_data=rescale_data, check_reg_param=check_reg_param)\n",
    "dm.fit()\n",
    "#print(f\"within notebook: solve time = {time()-start}\")\n",
    "#print(f\"within script: solve time = {t_}\")"
   ]
  },
  {
   "cell_type": "code",
   "execution_count": 8,
   "metadata": {
    "scrolled": true
   },
   "outputs": [
    {
     "name": "stderr",
     "output_type": "stream",
     "text": [
      "INFO:root:Rescaling data by max singular value: sigma_top=0.002544724042674037\n"
     ]
    },
    {
     "name": "stdout",
     "output_type": "stream",
     "text": [
      "dict_keys(['average_gradient_norms', 'exit_code'])\n"
     ]
    }
   ],
   "source": [
    "cg = CG(a=ab, b=bb, reg_param=1e-3, rescale_data=rescale_data, check_reg_param=check_reg_param)\n",
    "\n",
    "fit_params = {\n",
    "    'tolerance': 1e-10,\n",
    "    'n_iterations': 100,\n",
    "    'get_full_metrics': False\n",
    "}\n",
    "cg.fit(**fit_params)\n",
    "print(cg.metrics.keys())"
   ]
  },
  {
   "cell_type": "code",
   "execution_count": null,
   "metadata": {},
   "outputs": [],
   "source": []
  },
  {
   "cell_type": "code",
   "execution_count": null,
   "metadata": {},
   "outputs": [],
   "source": []
  },
  {
   "cell_type": "code",
   "execution_count": null,
   "metadata": {},
   "outputs": [],
   "source": []
  },
  {
   "cell_type": "code",
   "execution_count": 145,
   "metadata": {
    "scrolled": true
   },
   "outputs": [
    {
     "name": "stderr",
     "output_type": "stream",
     "text": [
      "INFO:root:Rescaling data by max singular value: sigma_top=0.15448754352051494\n",
      "INFO:root:preconditioned conjugate gradient method: sketch_fn='sjlt', sketch_size=1024, tolerance=1e-10, n_iterations=100\n"
     ]
    },
    {
     "name": "stdout",
     "output_type": "stream",
     "text": [
      "within notebook: init time = 5.202043281999977\n"
     ]
    },
    {
     "name": "stderr",
     "output_type": "stream",
     "text": [
      "INFO:root:termination: maximum number of iterations - tolerance=1e-10, mean_err=1.5536731833112043e-05\n"
     ]
    },
    {
     "name": "stdout",
     "output_type": "stream",
     "text": [
      "within notebook: solve time = 34.565725970999665\n",
      "within script: solve time = 24.467998789999\n",
      "within notebook: total time = 39.768233457999486\n"
     ]
    }
   ],
   "source": [
    "start_ = time()\n",
    "pcg = PCG(a=ab, b=bb, reg_param=1e-3, rescale_data=rescale_data, check_reg_param=check_reg_param)\n",
    "print(f\"within notebook: init time = {time()-start_}\")\n",
    "start = time()\n",
    "x_opt, errors, residuals, times, iters_, ssizes = pcg.solve(sketch_size=1024, \n",
    "                                                            sketch_fn='sjlt', \n",
    "                                                            n_iterations=100, \n",
    "                                                            tolerance=1e-10, \n",
    "                                                            get_metrics=True)\n",
    "print(f\"within notebook: solve time = {time()-start}\")\n",
    "print(f\"within script: solve time = {np.cumsum(times)[-1]}\")\n",
    "print(f\"within notebook: total time = {time()-start_}\")"
   ]
  },
  {
   "cell_type": "code",
   "execution_count": 146,
   "metadata": {},
   "outputs": [
    {
     "name": "stderr",
     "output_type": "stream",
     "text": [
      "INFO:root:Rescaling data by max singular value: sigma_top=0.1539839004410614\n",
      "INFO:root:preconditioned conjugate gradient method: sketch_fn='sjlt', sketch_size=1024, tolerance=1e-10, n_iterations=100\n"
     ]
    },
    {
     "name": "stdout",
     "output_type": "stream",
     "text": [
      "within notebook: init time = 5.48554232099923\n",
      "within notebook: solve time = 25.53425026199966\n",
      "within notebook: total time = 31.02022687799945\n"
     ]
    }
   ],
   "source": [
    "start_ = time()\n",
    "pcg = PCG(a=ab, b=bb, reg_param=1e-3, rescale_data=rescale_data, check_reg_param=check_reg_param)\n",
    "print(f\"within notebook: init time = {time()-start_}\")\n",
    "start = time()\n",
    "x_opt, mean_err, exit_code = pcg.solve(sketch_size=1024, \n",
    "                                        sketch_fn='sjlt', \n",
    "                                        n_iterations=100, \n",
    "                                        tolerance=1e-10, \n",
    "                                        get_metrics=False)\n",
    "print(f\"within notebook: solve time = {time()-start}\")\n",
    "print(f\"within notebook: total time = {time()-start_}\")"
   ]
  },
  {
   "cell_type": "code",
   "execution_count": null,
   "metadata": {},
   "outputs": [],
   "source": []
  },
  {
   "cell_type": "code",
   "execution_count": null,
   "metadata": {},
   "outputs": [],
   "source": []
  },
  {
   "cell_type": "code",
   "execution_count": null,
   "metadata": {},
   "outputs": [],
   "source": []
  },
  {
   "cell_type": "code",
   "execution_count": null,
   "metadata": {},
   "outputs": [],
   "source": []
  },
  {
   "cell_type": "code",
   "execution_count": null,
   "metadata": {},
   "outputs": [],
   "source": []
  },
  {
   "cell_type": "code",
   "execution_count": 4,
   "metadata": {},
   "outputs": [
    {
     "data": {
      "text/plain": [
       "<804414x10000 sparse matrix of type '<class 'numpy.float64'>'\n",
       "\twith 12762973 stored elements in Compressed Sparse Row format>"
      ]
     },
     "execution_count": 4,
     "metadata": {},
     "output_type": "execute_result"
    }
   ],
   "source": [
    "ab = a[:,:10000]\n",
    "ab"
   ]
  },
  {
   "cell_type": "code",
   "execution_count": 5,
   "metadata": {},
   "outputs": [
    {
     "data": {
      "text/plain": [
       "<2000x10000 sparse matrix of type '<class 'numpy.float64'>'\n",
       "\twith 2725407 stored elements in Compressed Sparse Column format>"
      ]
     },
     "execution_count": 5,
     "metadata": {},
     "output_type": "execute_result"
    }
   ],
   "source": [
    "sab = sjlt(a=ab, sketch_size=2000)\n",
    "#sab_t = sab.T\n",
    "sab"
   ]
  },
  {
   "cell_type": "code",
   "execution_count": 46,
   "metadata": {},
   "outputs": [
    {
     "name": "stdout",
     "output_type": "stream",
     "text": [
      "0.1362609\n",
      "0.001586617463147086\n",
      "1.0\n"
     ]
    }
   ],
   "source": [
    "print(sab.nnz / (sab.shape[0]*sab.shape[1]))\n",
    "print(ab.nnz / (ab.shape[0]*ab.shape[1]))\n",
    "\n",
    "h = sab @ sab.T #+ 1e-2 * sparse_identity_matrix(sab.shape[0])\n",
    "\n",
    "print(h.nnz / (h.shape[0]*h.shape[1]))"
   ]
  },
  {
   "cell_type": "code",
   "execution_count": null,
   "metadata": {
    "scrolled": true
   },
   "outputs": [
    {
     "name": "stdout",
     "output_type": "stream",
     "text": [
      "\n",
      "d_=20000, sketch_size=128\n",
      "\n",
      "method1: sa.nnz/(sa.shape[0]*sa.shape[1])=0.447492578125\n",
      "947 ms ± 15.4 ms per loop (mean ± std. dev. of 7 runs, 1 loop each)\n",
      "\n",
      "method2: sasa.nnz/(sasa.shape[0]*sasa.shape[1])=1.0\n",
      "1.16 s ± 36.7 ms per loop (mean ± std. dev. of 7 runs, 1 loop each)\n",
      "\n",
      "method 3: h.nnz/(h.shape[0]*h.shape[1])=1.0\n",
      "1.14 s ± 15.7 ms per loop (mean ± std. dev. of 7 runs, 1 loop each)\n",
      "\n",
      "method 4: h.nnz/(h.shape[0]*h.shape[1])=1.0\n",
      "1.13 s ± 36.4 ms per loop (mean ± std. dev. of 7 runs, 1 loop each)\n",
      "\n",
      "d_=20000, sketch_size=256\n",
      "\n",
      "method1: sa.nnz/(sa.shape[0]*sa.shape[1])=0.3489388671875\n",
      "960 ms ± 24.4 ms per loop (mean ± std. dev. of 7 runs, 1 loop each)\n",
      "\n",
      "method2: sasa.nnz/(sasa.shape[0]*sasa.shape[1])=1.0\n",
      "1.56 s ± 14.1 ms per loop (mean ± std. dev. of 7 runs, 1 loop each)\n",
      "\n",
      "method 3: h.nnz/(h.shape[0]*h.shape[1])=1.0\n",
      "1.61 s ± 70.6 ms per loop (mean ± std. dev. of 7 runs, 1 loop each)\n",
      "\n",
      "method 4: h.nnz/(h.shape[0]*h.shape[1])=1.0\n",
      "1.6 s ± 52.9 ms per loop (mean ± std. dev. of 7 runs, 1 loop each)\n",
      "\n",
      "d_=20000, sketch_size=512\n",
      "\n",
      "method1: sa.nnz/(sa.shape[0]*sa.shape[1])=0.26259912109375\n",
      "1 s ± 48.9 ms per loop (mean ± std. dev. of 7 runs, 1 loop each)\n",
      "\n",
      "method2: sasa.nnz/(sasa.shape[0]*sasa.shape[1])=1.0\n",
      "2.55 s ± 57.9 ms per loop (mean ± std. dev. of 7 runs, 1 loop each)\n",
      "\n",
      "method 3: h.nnz/(h.shape[0]*h.shape[1])=1.0\n",
      "2.61 s ± 24.3 ms per loop (mean ± std. dev. of 7 runs, 1 loop each)\n",
      "\n",
      "method 4: h.nnz/(h.shape[0]*h.shape[1])=1.0\n",
      "2.53 s ± 25.7 ms per loop (mean ± std. dev. of 7 runs, 1 loop each)\n",
      "\n",
      "d_=20000, sketch_size=1024\n",
      "\n",
      "method1: sa.nnz/(sa.shape[0]*sa.shape[1])=0.191842236328125\n",
      "1.11 s ± 21.8 ms per loop (mean ± std. dev. of 7 runs, 1 loop each)\n",
      "\n",
      "method2: sasa.nnz/(sasa.shape[0]*sasa.shape[1])=1.0\n",
      "5.43 s ± 76.4 ms per loop (mean ± std. dev. of 7 runs, 1 loop each)\n",
      "\n",
      "method 3: h.nnz/(h.shape[0]*h.shape[1])=1.0\n",
      "5.38 s ± 45 ms per loop (mean ± std. dev. of 7 runs, 1 loop each)\n",
      "\n",
      "method 4: h.nnz/(h.shape[0]*h.shape[1])=1.0\n",
      "6.24 s ± 450 ms per loop (mean ± std. dev. of 7 runs, 1 loop each)\n",
      "\n",
      "d_=20000, sketch_size=2048\n",
      "\n",
      "method1: sa.nnz/(sa.shape[0]*sa.shape[1])=0.1369605224609375\n",
      "1.87 s ± 326 ms per loop (mean ± std. dev. of 7 runs, 1 loop each)\n",
      "\n",
      "method2: sasa.nnz/(sasa.shape[0]*sasa.shape[1])=1.0\n",
      "15.1 s ± 251 ms per loop (mean ± std. dev. of 7 runs, 1 loop each)\n",
      "\n",
      "method 3: h.nnz/(h.shape[0]*h.shape[1])=1.0\n",
      "15.1 s ± 300 ms per loop (mean ± std. dev. of 7 runs, 1 loop each)\n",
      "\n",
      "method 4: h.nnz/(h.shape[0]*h.shape[1])=1.0\n",
      "15.9 s ± 284 ms per loop (mean ± std. dev. of 7 runs, 1 loop each)\n",
      "\n",
      "d_=20000, sketch_size=4096\n",
      "\n",
      "method1: sa.nnz/(sa.shape[0]*sa.shape[1])=0.09558074951171874\n",
      "4.04 s ± 303 ms per loop (mean ± std. dev. of 7 runs, 1 loop each)\n",
      "\n",
      "method2: sasa.nnz/(sasa.shape[0]*sasa.shape[1])=1.0\n",
      "33.8 s ± 2.72 s per loop (mean ± std. dev. of 7 runs, 1 loop each)\n",
      "\n",
      "method 3: h.nnz/(h.shape[0]*h.shape[1])=1.0\n",
      "33.7 s ± 158 ms per loop (mean ± std. dev. of 7 runs, 1 loop each)\n",
      "\n",
      "method 4: h.nnz/(h.shape[0]*h.shape[1])=1.0\n",
      "39 s ± 325 ms per loop (mean ± std. dev. of 7 runs, 1 loop each)\n",
      "\n",
      "d_=20000, sketch_size=8192\n",
      "\n",
      "method1: sa.nnz/(sa.shape[0]*sa.shape[1])=0.06488899536132813\n",
      "11.3 s ± 87.6 ms per loop (mean ± std. dev. of 7 runs, 1 loop each)\n",
      "\n",
      "method2: sasa.nnz/(sasa.shape[0]*sasa.shape[1])=1.0\n",
      "1min 39s ± 368 ms per loop (mean ± std. dev. of 7 runs, 1 loop each)\n",
      "\n",
      "method 3: h.nnz/(h.shape[0]*h.shape[1])=1.0\n",
      "1min 37s ± 420 ms per loop (mean ± std. dev. of 7 runs, 1 loop each)\n",
      "\n",
      "method 4: h.nnz/(h.shape[0]*h.shape[1])=1.0\n",
      "2min 21s ± 8.77 s per loop (mean ± std. dev. of 7 runs, 1 loop each)\n",
      "\n",
      "d_=40000, sketch_size=128\n",
      "\n",
      "method1: sa.nnz/(sa.shape[0]*sa.shape[1])=0.437979296875\n",
      "2.44 s ± 405 ms per loop (mean ± std. dev. of 7 runs, 1 loop each)\n",
      "\n",
      "method2: sasa.nnz/(sasa.shape[0]*sasa.shape[1])=1.0\n",
      "2.76 s ± 276 ms per loop (mean ± std. dev. of 7 runs, 1 loop each)\n",
      "\n",
      "method 3: h.nnz/(h.shape[0]*h.shape[1])=1.0\n",
      "2.6 s ± 71.2 ms per loop (mean ± std. dev. of 7 runs, 1 loop each)\n",
      "\n",
      "method 4: h.nnz/(h.shape[0]*h.shape[1])=1.0\n",
      "3.08 s ± 378 ms per loop (mean ± std. dev. of 7 runs, 1 loop each)\n",
      "\n",
      "d_=40000, sketch_size=256\n",
      "\n",
      "method1: sa.nnz/(sa.shape[0]*sa.shape[1])=0.33963466796875\n",
      "2.42 s ± 347 ms per loop (mean ± std. dev. of 7 runs, 1 loop each)\n",
      "\n",
      "method2: sasa.nnz/(sasa.shape[0]*sasa.shape[1])=1.0\n",
      "3.53 s ± 333 ms per loop (mean ± std. dev. of 7 runs, 1 loop each)\n",
      "\n",
      "method 3: h.nnz/(h.shape[0]*h.shape[1])=1.0\n",
      "3.75 s ± 495 ms per loop (mean ± std. dev. of 7 runs, 1 loop each)\n",
      "\n",
      "method 4: h.nnz/(h.shape[0]*h.shape[1])=1.0\n",
      "4.17 s ± 405 ms per loop (mean ± std. dev. of 7 runs, 1 loop each)\n",
      "\n",
      "d_=40000, sketch_size=512\n",
      "\n",
      "method1: sa.nnz/(sa.shape[0]*sa.shape[1])=0.2540046875\n",
      "2.64 s ± 148 ms per loop (mean ± std. dev. of 7 runs, 1 loop each)\n",
      "\n",
      "method2: sasa.nnz/(sasa.shape[0]*sasa.shape[1])=1.0\n",
      "6.34 s ± 102 ms per loop (mean ± std. dev. of 7 runs, 1 loop each)\n",
      "\n",
      "method 3: h.nnz/(h.shape[0]*h.shape[1])=1.0\n",
      "6.38 s ± 378 ms per loop (mean ± std. dev. of 7 runs, 1 loop each)\n",
      "\n",
      "method 4: h.nnz/(h.shape[0]*h.shape[1])=1.0\n",
      "6.86 s ± 437 ms per loop (mean ± std. dev. of 7 runs, 1 loop each)\n",
      "\n",
      "d_=40000, sketch_size=1024\n",
      "\n",
      "method1: sa.nnz/(sa.shape[0]*sa.shape[1])=0.184648583984375\n",
      "2.86 s ± 128 ms per loop (mean ± std. dev. of 7 runs, 1 loop each)\n",
      "\n",
      "method2: sasa.nnz/(sasa.shape[0]*sasa.shape[1])=1.0\n",
      "13 s ± 178 ms per loop (mean ± std. dev. of 7 runs, 1 loop each)\n",
      "\n",
      "method 3: h.nnz/(h.shape[0]*h.shape[1])=1.0\n",
      "12.9 s ± 119 ms per loop (mean ± std. dev. of 7 runs, 1 loop each)\n",
      "\n",
      "method 4: h.nnz/(h.shape[0]*h.shape[1])=1.0\n",
      "14.4 s ± 1.59 s per loop (mean ± std. dev. of 7 runs, 1 loop each)\n",
      "\n",
      "d_=40000, sketch_size=2048\n",
      "\n",
      "method1: sa.nnz/(sa.shape[0]*sa.shape[1])=0.13120751953125\n",
      "4.09 s ± 498 ms per loop (mean ± std. dev. of 7 runs, 1 loop each)\n",
      "\n",
      "method2: sasa.nnz/(sasa.shape[0]*sasa.shape[1])=1.0\n",
      "29.1 s ± 553 ms per loop (mean ± std. dev. of 7 runs, 1 loop each)\n",
      "\n",
      "method 3: h.nnz/(h.shape[0]*h.shape[1])=1.0\n",
      "29.2 s ± 936 ms per loop (mean ± std. dev. of 7 runs, 1 loop each)\n",
      "\n",
      "method 4: h.nnz/(h.shape[0]*h.shape[1])=1.0\n",
      "31 s ± 1.21 s per loop (mean ± std. dev. of 7 runs, 1 loop each)\n",
      "\n",
      "d_=40000, sketch_size=4096\n",
      "\n",
      "method1: sa.nnz/(sa.shape[0]*sa.shape[1])=0.09126668090820313\n",
      "6.98 s ± 394 ms per loop (mean ± std. dev. of 7 runs, 1 loop each)\n",
      "\n",
      "method2: sasa.nnz/(sasa.shape[0]*sasa.shape[1])=1.0\n",
      "1min 15s ± 1.76 s per loop (mean ± std. dev. of 7 runs, 1 loop each)\n",
      "\n",
      "method 3: h.nnz/(h.shape[0]*h.shape[1])=1.0\n",
      "1min 13s ± 3.3 s per loop (mean ± std. dev. of 7 runs, 1 loop each)\n",
      "\n",
      "method 4: h.nnz/(h.shape[0]*h.shape[1])=1.0\n",
      "1min 19s ± 2.71 s per loop (mean ± std. dev. of 7 runs, 1 loop each)\n",
      "\n",
      "d_=40000, sketch_size=8192\n",
      "\n",
      "method1: sa.nnz/(sa.shape[0]*sa.shape[1])=0.061923654174804686\n",
      "22.1 s ± 716 ms per loop (mean ± std. dev. of 7 runs, 1 loop each)\n",
      "\n",
      "method2: sasa.nnz/(sasa.shape[0]*sasa.shape[1])=1.0\n"
     ]
    }
   ],
   "source": [
    "for d_ in [20000, 40000]:\n",
    "    ab = a[:,:d_]\n",
    "    for sketch_size in [128, 256, 512, 1024, 2048, 4096, 8192]:\n",
    "        print(f\"\\n{d_=}, {sketch_size=}\")\n",
    "        method1(ab, sketch_size=sketch_size, verbose=True)\n",
    "        %timeit upper_mat = method1(ab, sketch_size=sketch_size, verbose=False)\n",
    "        method2(ab, sketch_size=sketch_size, verbose=True)\n",
    "        %timeit upper_mat = method2(ab, sketch_size=sketch_size, verbose=False)\n",
    "        method3(ab, sketch_size=sketch_size, verbose=True)\n",
    "        %timeit upper_mat = method3(ab, sketch_size=sketch_size, verbose=False)\n",
    "        method4(ab, sketch_size=sketch_size, verbose=True)\n",
    "        %timeit upper_mat = method4(ab, sketch_size=sketch_size, verbose=False)"
   ]
  },
  {
   "cell_type": "code",
   "execution_count": 64,
   "metadata": {},
   "outputs": [],
   "source": [
    "def method1(aa, sketch_size=2000, verbose=False):\n",
    "    sa = sjlt(a=aa, sketch_size=sketch_size)\n",
    "    if verbose: print(f\"\\nmethod1: {sa.nnz/(sa.shape[0]*sa.shape[1])=}\")\n",
    "    sa_d = sa.todense()\n",
    "    m, d = sa_d.shape\n",
    "    if m > d:\n",
    "        h = sa_d.T @ sa_d + 0.1 * np.eye(d)\n",
    "    else:\n",
    "        h = sa_d @ sa_d.T + 0.1 * np.eye(m)\n",
    "    upper_mat = np.linalg.cholesky(h)\n",
    "    return upper_mat\n",
    "\n",
    "def method2(aa, sketch_size=2000, verbose=False):\n",
    "    sa = sjlt(a=aa, sketch_size=sketch_size)\n",
    "    m, d = sa.shape\n",
    "    if m > d:\n",
    "        sasa = sa.T @ sa\n",
    "        if verbose: print(f\"\\nmethod2: {sasa.nnz/(sasa.shape[0]*sasa.shape[1])=}\")\n",
    "        h = sasa.todense() + 0.1 * np.eye(d)\n",
    "    else:\n",
    "        sasa = sa @ sa.T\n",
    "        if verbose: print(f\"\\nmethod2: {sasa.nnz/(sasa.shape[0]*sasa.shape[1])=}\")\n",
    "        h = sasa.todense() + 0.1 * np.eye(m)\n",
    "    return np.linalg.cholesky(h)\n",
    "\n",
    "def method3(aa, sketch_size=2000, verbose=False):\n",
    "    sa = sjlt(a=aa, sketch_size=sketch_size)\n",
    "    m, d = sa.shape\n",
    "    if m > d:\n",
    "        h = sa.T @ sa + 0.1 * sparse_identity_matrix(d)\n",
    "    else:\n",
    "        h = sa @ sa.T + 0.1 * sparse_identity_matrix(m)\n",
    "    if verbose: print(f\"\\nmethod 3: {h.nnz/(h.shape[0]*h.shape[1])=}\")\n",
    "    return np.linalg.cholesky(h.todense())\n",
    "\n",
    "def method4(aa, sketch_size=2000, verbose=False):\n",
    "    sa = sjlt(a=aa, sketch_size=sketch_size)\n",
    "    m, d = sa.shape\n",
    "    if m > d:\n",
    "        h = sa.T @ sa + 0.1 * sparse_identity_matrix(d)\n",
    "    else:\n",
    "        h = sa @ sa.T + 0.1 * sparse_identity_matrix(m)\n",
    "    if verbose: print(f\"\\nmethod 4: {h.nnz/(h.shape[0]*h.shape[1])=}\")\n",
    "    return sparse_factorization(h.tocsc())"
   ]
  },
  {
   "cell_type": "code",
   "execution_count": null,
   "metadata": {},
   "outputs": [],
   "source": []
  },
  {
   "cell_type": "code",
   "execution_count": null,
   "metadata": {},
   "outputs": [],
   "source": []
  },
  {
   "cell_type": "code",
   "execution_count": 33,
   "metadata": {},
   "outputs": [
    {
     "name": "stdout",
     "output_type": "stream",
     "text": [
      "1.99 s ± 22.3 ms per loop (mean ± std. dev. of 7 runs, 1 loop each)\n",
      "18.6 s ± 1.87 s per loop (mean ± std. dev. of 7 runs, 1 loop each)\n",
      "597 ms ± 5.67 ms per loop (mean ± std. dev. of 7 runs, 1 loop each)\n",
      "453 ms ± 7.94 ms per loop (mean ± std. dev. of 7 runs, 1 loop each)\n",
      "2.45 s ± 104 ms per loop (mean ± std. dev. of 7 runs, 1 loop each)\n",
      "3.37 s ± 229 ms per loop (mean ± std. dev. of 7 runs, 1 loop each)\n"
     ]
    }
   ],
   "source": [
    "%timeit sab_t.T @ sab_t\n",
    "%timeit r_mat = sparseqr.qr(sab_t.tocoo(), economy=True)[1]\n",
    "\n",
    "r_mat = sparseqr.qr(sab_t.tocoo(), economy=True)[1]\n",
    "%timeit sparse_factorization((r_mat.T.tocsr() @ r_mat.tocsc() + 0.1*sparse_identity_matrix(r_mat.shape[1])).tocsc())\n",
    "\n",
    "%timeit sjlt(a=ab, sketch_size=2000)\n",
    "%timeit sparse_factorization(sab @ sab.T + 1e-2 * sparse_identity_matrix(sab.shape[0]))\n",
    "%timeit cholesky_AAt(sab, beta=1e-2)"
   ]
  },
  {
   "cell_type": "code",
   "execution_count": 36,
   "metadata": {},
   "outputs": [],
   "source": [
    "z = np.random.randn(sab.shape[0])\n",
    "\n",
    "cg_inner = CG(a=sab.T.tocsc(), b=z, reg_param=1e-1, least_squares=False, rescale_data=False, check_reg_param=False)"
   ]
  },
  {
   "cell_type": "code",
   "execution_count": 38,
   "metadata": {},
   "outputs": [
    {
     "name": "stderr",
     "output_type": "stream",
     "text": [
      "INFO:root:conjugate gradient method: n_iterations=10, tolerance=1e-10\n",
      "INFO:root:success: CG gradient norms <= tolerance\n"
     ]
    }
   ],
   "source": [
    "x_opt = cg_inner.solve(n_iterations=10)[0]"
   ]
  },
  {
   "cell_type": "code",
   "execution_count": 39,
   "metadata": {},
   "outputs": [
    {
     "data": {
      "text/plain": [
       "array([[ 13.7714368 ],\n",
       "       [225.5460754 ],\n",
       "       [ 18.27657872],\n",
       "       ...,\n",
       "       [ -3.69530684],\n",
       "       [ 46.21919365],\n",
       "       [ 60.88713896]])"
      ]
     },
     "execution_count": 39,
     "metadata": {},
     "output_type": "execute_result"
    }
   ],
   "source": [
    "x_opt"
   ]
  },
  {
   "cell_type": "code",
   "execution_count": null,
   "metadata": {},
   "outputs": [],
   "source": []
  },
  {
   "cell_type": "code",
   "execution_count": 24,
   "metadata": {},
   "outputs": [
    {
     "name": "stdout",
     "output_type": "stream",
     "text": [
      "336 ms ± 2.97 ms per loop (mean ± std. dev. of 7 runs, 1 loop each)\n"
     ]
    }
   ],
   "source": [
    "%timeit r_mat = sparseqr.qr(sab_t, economy=True)[1]"
   ]
  },
  {
   "cell_type": "code",
   "execution_count": 27,
   "metadata": {},
   "outputs": [
    {
     "name": "stdout",
     "output_type": "stream",
     "text": [
      "552 ms ± 9.67 ms per loop (mean ± std. dev. of 7 runs, 1 loop each)\n"
     ]
    }
   ],
   "source": [
    "%timeit sparse_factorization((r_mat.T.tocsr() @ r_mat.tocsc() + 0.1*sparse_identity_matrix(r_mat.shape[1])).tocsc())"
   ]
  },
  {
   "cell_type": "code",
   "execution_count": 28,
   "metadata": {},
   "outputs": [
    {
     "name": "stdout",
     "output_type": "stream",
     "text": [
      "18 ms ± 162 µs per loop (mean ± std. dev. of 7 runs, 100 loops each)\n"
     ]
    }
   ],
   "source": [
    "%timeit sab_t.T @ sab_t"
   ]
  },
  {
   "cell_type": "code",
   "execution_count": null,
   "metadata": {},
   "outputs": [],
   "source": []
  },
  {
   "cell_type": "code",
   "execution_count": 9,
   "metadata": {},
   "outputs": [
    {
     "data": {
      "text/plain": [
       "numpy.matrix"
      ]
     },
     "execution_count": 9,
     "metadata": {},
     "output_type": "execute_result"
    }
   ],
   "source": [
    "type(sab.todense())"
   ]
  },
  {
   "cell_type": "code",
   "execution_count": null,
   "metadata": {},
   "outputs": [],
   "source": []
  }
 ],
 "metadata": {
  "kernelspec": {
   "display_name": "Python 3",
   "language": "python",
   "name": "python3"
  },
  "language_info": {
   "codemirror_mode": {
    "name": "ipython",
    "version": 3
   },
   "file_extension": ".py",
   "mimetype": "text/x-python",
   "name": "python",
   "nbconvert_exporter": "python",
   "pygments_lexer": "ipython3",
   "version": "3.8.5"
  }
 },
 "nbformat": 4,
 "nbformat_minor": 4
}
