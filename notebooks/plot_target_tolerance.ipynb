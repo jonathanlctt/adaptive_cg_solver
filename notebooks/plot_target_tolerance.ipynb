{
 "cells": [
  {
   "cell_type": "code",
   "execution_count": 1,
   "metadata": {},
   "outputs": [
    {
     "data": {
      "text/html": [
       "<style>.container { width:85% !important; }</style>"
      ],
      "text/plain": [
       "<IPython.core.display.HTML object>"
      ]
     },
     "metadata": {},
     "output_type": "display_data"
    }
   ],
   "source": [
    "from IPython.display import display, HTML\n",
    "display(HTML(\"<style>.container { width:85% !important; }</style>\"))\n",
    "\n",
    "import warnings\n",
    "warnings.filterwarnings('ignore')\n",
    "\n",
    "%reload_ext autoreload\n",
    "%autoreload 2"
   ]
  },
  {
   "cell_type": "code",
   "execution_count": null,
   "metadata": {},
   "outputs": [],
   "source": []
  },
  {
   "cell_type": "code",
   "execution_count": 3,
   "metadata": {},
   "outputs": [],
   "source": [
    "import pandas as pd"
   ]
  },
  {
   "cell_type": "code",
   "execution_count": 2,
   "metadata": {},
   "outputs": [
    {
     "ename": "ModuleNotFoundError",
     "evalue": "No module named 'eff_dim_solver'",
     "output_type": "error",
     "traceback": [
      "\u001b[0;31m---------------------------------------------------------------------------\u001b[0m",
      "\u001b[0;31mModuleNotFoundError\u001b[0m                       Traceback (most recent call last)",
      "\u001b[0;32m<ipython-input-2-e5b11575e114>\u001b[0m in \u001b[0;36m<module>\u001b[0;34m\u001b[0m\n\u001b[1;32m      9\u001b[0m \u001b[0;32mimport\u001b[0m \u001b[0mplotly\u001b[0m\u001b[0;34m.\u001b[0m\u001b[0mexpress\u001b[0m \u001b[0;32mas\u001b[0m \u001b[0mpx\u001b[0m\u001b[0;34m\u001b[0m\u001b[0;34m\u001b[0m\u001b[0m\n\u001b[1;32m     10\u001b[0m \u001b[0;34m\u001b[0m\u001b[0m\n\u001b[0;32m---> 11\u001b[0;31m \u001b[0;32mfrom\u001b[0m \u001b[0meff_dim_solver\u001b[0m\u001b[0;34m.\u001b[0m\u001b[0mdatasets\u001b[0m\u001b[0;34m.\u001b[0m\u001b[0mdataloading_utils\u001b[0m \u001b[0;32mimport\u001b[0m \u001b[0mload_rcv1_data\u001b[0m\u001b[0;34m,\u001b[0m \u001b[0mload_real_data\u001b[0m\u001b[0;34m\u001b[0m\u001b[0;34m\u001b[0m\u001b[0m\n\u001b[0m\u001b[1;32m     12\u001b[0m \u001b[0;32mfrom\u001b[0m \u001b[0meff_dim_solver\u001b[0m\u001b[0;34m.\u001b[0m\u001b[0msketching\u001b[0m\u001b[0;34m.\u001b[0m\u001b[0msketches\u001b[0m \u001b[0;32mimport\u001b[0m \u001b[0msjlt\u001b[0m\u001b[0;34m\u001b[0m\u001b[0;34m\u001b[0m\u001b[0m\n\u001b[1;32m     13\u001b[0m \u001b[0;32mfrom\u001b[0m \u001b[0meff_dim_solver\u001b[0m\u001b[0;34m.\u001b[0m\u001b[0msolvers\u001b[0m\u001b[0;34m.\u001b[0m\u001b[0mdirect_method\u001b[0m \u001b[0;32mimport\u001b[0m \u001b[0mDirectMethod\u001b[0m\u001b[0;34m\u001b[0m\u001b[0;34m\u001b[0m\u001b[0m\n",
      "\u001b[0;31mModuleNotFoundError\u001b[0m: No module named 'eff_dim_solver'"
     ]
    }
   ],
   "source": [
    "import os\n",
    "from pathlib import Path\n",
    "\n",
    "import pandas as pd\n",
    "import torch\n",
    "import numpy as np \n",
    "import scipy\n",
    "\n",
    "import plotly.express as px\n",
    "\n",
    "from eff_dim_solver.datasets.dataloading_utils import load_rcv1_data, load_real_data\n",
    "from eff_dim_solver.sketching.sketches import sjlt\n",
    "from eff_dim_solver.solvers.direct_method import DirectMethod\n",
    "from eff_dim_solver.solvers.conjugate_gradient import CG\n",
    "from eff_dim_solver.solvers.preconditioned_conjugate_gradient import PCG\n",
    "from scipy.sparse import identity as sparse_identity_matrix\n",
    "from scipy.sparse.linalg import factorized as sparse_factorization\n",
    "\n",
    "from timeit import default_timer as time"
   ]
  },
  {
   "cell_type": "code",
   "execution_count": 239,
   "metadata": {
    "scrolled": true
   },
   "outputs": [],
   "source": [
    "dataset_name = 'synthetic'\n",
    "xp_name = '1107_0624'\n",
    "xp_dir = Path(f'/Users/jonathanlacotte/code/numerical_results/effective_dimension_solver/{dataset_name}/target_tolerance') / xp_name\n",
    "\n",
    "df = pd.read_parquet(xp_dir)\n",
    "\n",
    "try:\n",
    "    df = df.sort_values(['n', 'd', 'cn', 'method', 'sketch_fn'])\n",
    "except:\n",
    "    df = df.sort_values(['tolerance', 'reg_param', 'method', 'sketch_fn'])"
   ]
  },
  {
   "cell_type": "code",
   "execution_count": 241,
   "metadata": {
    "scrolled": true
   },
   "outputs": [
    {
     "name": "stdout",
     "output_type": "stream",
     "text": [
      "d=64\n"
     ]
    },
    {
     "data": {
      "application/vnd.plotly.v1+json": {
       "config": {
        "plotlyServerURL": "https://plot.ly"
       },
       "data": [
        {
         "alignmentgroup": "True",
         "bingroup": "x",
         "cliponaxis": false,
         "histfunc": "sum",
         "hovertemplate": "method=adacg<br>sketch_fn=%{x}<br>n=2048<br>deff=64<br>sum of time=%{y}<extra></extra>",
         "legendgroup": "adacg, gaussian",
         "marker": {
          "color": "#636efa",
          "pattern": {
           "shape": ""
          }
         },
         "name": "adacg, gaussian",
         "offsetgroup": "adacg, gaussian",
         "orientation": "v",
         "showlegend": true,
         "textangle": 0,
         "textposition": "outside",
         "texttemplate": "%{value:.2s}",
         "type": "histogram",
         "x": [
          "gaussian"
         ],
         "xaxis": "x3",
         "y": [
          0.004074974000009964
         ],
         "yaxis": "y3"
        },
        {
         "alignmentgroup": "True",
         "bingroup": "x",
         "cliponaxis": false,
         "histfunc": "sum",
         "hovertemplate": "method=adacg<br>sketch_fn=%{x}<br>n=2048<br>deff=32<br>sum of time=%{y}<extra></extra>",
         "legendgroup": "adacg, gaussian",
         "marker": {
          "color": "#636efa",
          "pattern": {
           "shape": ""
          }
         },
         "name": "adacg, gaussian",
         "offsetgroup": "adacg, gaussian",
         "orientation": "v",
         "showlegend": false,
         "textangle": 0,
         "textposition": "outside",
         "texttemplate": "%{value:.2s}",
         "type": "histogram",
         "x": [
          "gaussian"
         ],
         "xaxis": "x4",
         "y": [
          0.00547027266668465
         ],
         "yaxis": "y4"
        },
        {
         "alignmentgroup": "True",
         "bingroup": "x",
         "cliponaxis": false,
         "histfunc": "sum",
         "hovertemplate": "method=adacg<br>sketch_fn=%{x}<br>n=4096<br>deff=64<br>sum of time=%{y}<extra></extra>",
         "legendgroup": "adacg, gaussian",
         "marker": {
          "color": "#636efa",
          "pattern": {
           "shape": ""
          }
         },
         "name": "adacg, gaussian",
         "offsetgroup": "adacg, gaussian",
         "orientation": "v",
         "showlegend": false,
         "textangle": 0,
         "textposition": "outside",
         "texttemplate": "%{value:.2s}",
         "type": "histogram",
         "x": [
          "gaussian"
         ],
         "xaxis": "x",
         "y": [
          0.004723886332916057
         ],
         "yaxis": "y"
        },
        {
         "alignmentgroup": "True",
         "bingroup": "x",
         "cliponaxis": false,
         "histfunc": "sum",
         "hovertemplate": "method=adacg<br>sketch_fn=%{x}<br>n=4096<br>deff=32<br>sum of time=%{y}<extra></extra>",
         "legendgroup": "adacg, gaussian",
         "marker": {
          "color": "#636efa",
          "pattern": {
           "shape": ""
          }
         },
         "name": "adacg, gaussian",
         "offsetgroup": "adacg, gaussian",
         "orientation": "v",
         "showlegend": false,
         "textangle": 0,
         "textposition": "outside",
         "texttemplate": "%{value:.2s}",
         "type": "histogram",
         "x": [
          "gaussian"
         ],
         "xaxis": "x2",
         "y": [
          0.004614772666779269
         ],
         "yaxis": "y2"
        },
        {
         "alignmentgroup": "True",
         "bingroup": "x",
         "cliponaxis": false,
         "histfunc": "sum",
         "hovertemplate": "method=adacg<br>sketch_fn=%{x}<br>n=2048<br>deff=64<br>sum of time=%{y}<extra></extra>",
         "legendgroup": "adacg, sjlt",
         "marker": {
          "color": "#636efa",
          "pattern": {
           "shape": "/"
          }
         },
         "name": "adacg, sjlt",
         "offsetgroup": "adacg, sjlt",
         "orientation": "v",
         "showlegend": true,
         "textangle": 0,
         "textposition": "outside",
         "texttemplate": "%{value:.2s}",
         "type": "histogram",
         "x": [
          "sjlt"
         ],
         "xaxis": "x3",
         "y": [
          0.0038691416666930913
         ],
         "yaxis": "y3"
        },
        {
         "alignmentgroup": "True",
         "bingroup": "x",
         "cliponaxis": false,
         "histfunc": "sum",
         "hovertemplate": "method=adacg<br>sketch_fn=%{x}<br>n=2048<br>deff=32<br>sum of time=%{y}<extra></extra>",
         "legendgroup": "adacg, sjlt",
         "marker": {
          "color": "#636efa",
          "pattern": {
           "shape": "/"
          }
         },
         "name": "adacg, sjlt",
         "offsetgroup": "adacg, sjlt",
         "orientation": "v",
         "showlegend": false,
         "textangle": 0,
         "textposition": "outside",
         "texttemplate": "%{value:.2s}",
         "type": "histogram",
         "x": [
          "sjlt"
         ],
         "xaxis": "x4",
         "y": [
          0.004715094666664753
         ],
         "yaxis": "y4"
        },
        {
         "alignmentgroup": "True",
         "bingroup": "x",
         "cliponaxis": false,
         "histfunc": "sum",
         "hovertemplate": "method=adacg<br>sketch_fn=%{x}<br>n=4096<br>deff=64<br>sum of time=%{y}<extra></extra>",
         "legendgroup": "adacg, sjlt",
         "marker": {
          "color": "#636efa",
          "pattern": {
           "shape": "/"
          }
         },
         "name": "adacg, sjlt",
         "offsetgroup": "adacg, sjlt",
         "orientation": "v",
         "showlegend": false,
         "textangle": 0,
         "textposition": "outside",
         "texttemplate": "%{value:.2s}",
         "type": "histogram",
         "x": [
          "sjlt"
         ],
         "xaxis": "x",
         "y": [
          0.003751516333371303
         ],
         "yaxis": "y"
        },
        {
         "alignmentgroup": "True",
         "bingroup": "x",
         "cliponaxis": false,
         "histfunc": "sum",
         "hovertemplate": "method=adacg<br>sketch_fn=%{x}<br>n=4096<br>deff=32<br>sum of time=%{y}<extra></extra>",
         "legendgroup": "adacg, sjlt",
         "marker": {
          "color": "#636efa",
          "pattern": {
           "shape": "/"
          }
         },
         "name": "adacg, sjlt",
         "offsetgroup": "adacg, sjlt",
         "orientation": "v",
         "showlegend": false,
         "textangle": 0,
         "textposition": "outside",
         "texttemplate": "%{value:.2s}",
         "type": "histogram",
         "x": [
          "sjlt"
         ],
         "xaxis": "x2",
         "y": [
          0.004148838667182038
         ],
         "yaxis": "y2"
        },
        {
         "alignmentgroup": "True",
         "bingroup": "x",
         "cliponaxis": false,
         "histfunc": "sum",
         "hovertemplate": "method=adacg<br>sketch_fn=%{x}<br>n=2048<br>deff=64<br>sum of time=%{y}<extra></extra>",
         "legendgroup": "adacg, srht",
         "marker": {
          "color": "#636efa",
          "pattern": {
           "shape": "\\"
          }
         },
         "name": "adacg, srht",
         "offsetgroup": "adacg, srht",
         "orientation": "v",
         "showlegend": true,
         "textangle": 0,
         "textposition": "outside",
         "texttemplate": "%{value:.2s}",
         "type": "histogram",
         "x": [
          "srht"
         ],
         "xaxis": "x3",
         "y": [
          0.0038834126666529296
         ],
         "yaxis": "y3"
        },
        {
         "alignmentgroup": "True",
         "bingroup": "x",
         "cliponaxis": false,
         "histfunc": "sum",
         "hovertemplate": "method=adacg<br>sketch_fn=%{x}<br>n=2048<br>deff=32<br>sum of time=%{y}<extra></extra>",
         "legendgroup": "adacg, srht",
         "marker": {
          "color": "#636efa",
          "pattern": {
           "shape": "\\"
          }
         },
         "name": "adacg, srht",
         "offsetgroup": "adacg, srht",
         "orientation": "v",
         "showlegend": false,
         "textangle": 0,
         "textposition": "outside",
         "texttemplate": "%{value:.2s}",
         "type": "histogram",
         "x": [
          "srht"
         ],
         "xaxis": "x4",
         "y": [
          0.004674887999982502
         ],
         "yaxis": "y4"
        },
        {
         "alignmentgroup": "True",
         "bingroup": "x",
         "cliponaxis": false,
         "histfunc": "sum",
         "hovertemplate": "method=adacg<br>sketch_fn=%{x}<br>n=4096<br>deff=64<br>sum of time=%{y}<extra></extra>",
         "legendgroup": "adacg, srht",
         "marker": {
          "color": "#636efa",
          "pattern": {
           "shape": "\\"
          }
         },
         "name": "adacg, srht",
         "offsetgroup": "adacg, srht",
         "orientation": "v",
         "showlegend": false,
         "textangle": 0,
         "textposition": "outside",
         "texttemplate": "%{value:.2s}",
         "type": "histogram",
         "x": [
          "srht"
         ],
         "xaxis": "x",
         "y": [
          0.004823320667128428
         ],
         "yaxis": "y"
        },
        {
         "alignmentgroup": "True",
         "bingroup": "x",
         "cliponaxis": false,
         "histfunc": "sum",
         "hovertemplate": "method=adacg<br>sketch_fn=%{x}<br>n=4096<br>deff=32<br>sum of time=%{y}<extra></extra>",
         "legendgroup": "adacg, srht",
         "marker": {
          "color": "#636efa",
          "pattern": {
           "shape": "\\"
          }
         },
         "name": "adacg, srht",
         "offsetgroup": "adacg, srht",
         "orientation": "v",
         "showlegend": false,
         "textangle": 0,
         "textposition": "outside",
         "texttemplate": "%{value:.2s}",
         "type": "histogram",
         "x": [
          "srht"
         ],
         "xaxis": "x2",
         "y": [
          0.00473902499985949
         ],
         "yaxis": "y2"
        },
        {
         "alignmentgroup": "True",
         "bingroup": "x",
         "cliponaxis": false,
         "histfunc": "sum",
         "hovertemplate": "method=cg<br>sketch_fn=%{x}<br>n=2048<br>deff=64<br>sum of time=%{y}<extra></extra>",
         "legendgroup": "cg, none",
         "marker": {
          "color": "#EF553B",
          "pattern": {
           "shape": "x"
          }
         },
         "name": "cg, none",
         "offsetgroup": "cg, none",
         "orientation": "v",
         "showlegend": true,
         "textangle": 0,
         "textposition": "outside",
         "texttemplate": "%{value:.2s}",
         "type": "histogram",
         "x": [
          "none"
         ],
         "xaxis": "x3",
         "y": [
          0.024271829333334455
         ],
         "yaxis": "y3"
        },
        {
         "alignmentgroup": "True",
         "bingroup": "x",
         "cliponaxis": false,
         "histfunc": "sum",
         "hovertemplate": "method=cg<br>sketch_fn=%{x}<br>n=2048<br>deff=32<br>sum of time=%{y}<extra></extra>",
         "legendgroup": "cg, none",
         "marker": {
          "color": "#EF553B",
          "pattern": {
           "shape": "x"
          }
         },
         "name": "cg, none",
         "offsetgroup": "cg, none",
         "orientation": "v",
         "showlegend": false,
         "textangle": 0,
         "textposition": "outside",
         "texttemplate": "%{value:.2s}",
         "type": "histogram",
         "x": [
          "none"
         ],
         "xaxis": "x4",
         "y": [
          0.01149828266667896
         ],
         "yaxis": "y4"
        },
        {
         "alignmentgroup": "True",
         "bingroup": "x",
         "cliponaxis": false,
         "histfunc": "sum",
         "hovertemplate": "method=cg<br>sketch_fn=%{x}<br>n=4096<br>deff=64<br>sum of time=%{y}<extra></extra>",
         "legendgroup": "cg, none",
         "marker": {
          "color": "#EF553B",
          "pattern": {
           "shape": "x"
          }
         },
         "name": "cg, none",
         "offsetgroup": "cg, none",
         "orientation": "v",
         "showlegend": false,
         "textangle": 0,
         "textposition": "outside",
         "texttemplate": "%{value:.2s}",
         "type": "histogram",
         "x": [
          "none"
         ],
         "xaxis": "x",
         "y": [
          0.026354545666436024
         ],
         "yaxis": "y"
        },
        {
         "alignmentgroup": "True",
         "bingroup": "x",
         "cliponaxis": false,
         "histfunc": "sum",
         "hovertemplate": "method=cg<br>sketch_fn=%{x}<br>n=4096<br>deff=32<br>sum of time=%{y}<extra></extra>",
         "legendgroup": "cg, none",
         "marker": {
          "color": "#EF553B",
          "pattern": {
           "shape": "x"
          }
         },
         "name": "cg, none",
         "offsetgroup": "cg, none",
         "orientation": "v",
         "showlegend": false,
         "textangle": 0,
         "textposition": "outside",
         "texttemplate": "%{value:.2s}",
         "type": "histogram",
         "x": [
          "none"
         ],
         "xaxis": "x2",
         "y": [
          0.009546038000128949
         ],
         "yaxis": "y2"
        },
        {
         "alignmentgroup": "True",
         "bingroup": "x",
         "cliponaxis": false,
         "histfunc": "sum",
         "hovertemplate": "method=dm<br>sketch_fn=%{x}<br>n=2048<br>deff=64<br>sum of time=%{y}<extra></extra>",
         "legendgroup": "dm, none",
         "marker": {
          "color": "#00cc96",
          "pattern": {
           "shape": "x"
          }
         },
         "name": "dm, none",
         "offsetgroup": "dm, none",
         "orientation": "v",
         "showlegend": true,
         "textangle": 0,
         "textposition": "outside",
         "texttemplate": "%{value:.2s}",
         "type": "histogram",
         "x": [
          "none"
         ],
         "xaxis": "x3",
         "y": [
          0.0008027380000044104
         ],
         "yaxis": "y3"
        },
        {
         "alignmentgroup": "True",
         "bingroup": "x",
         "cliponaxis": false,
         "histfunc": "sum",
         "hovertemplate": "method=dm<br>sketch_fn=%{x}<br>n=2048<br>deff=32<br>sum of time=%{y}<extra></extra>",
         "legendgroup": "dm, none",
         "marker": {
          "color": "#00cc96",
          "pattern": {
           "shape": "x"
          }
         },
         "name": "dm, none",
         "offsetgroup": "dm, none",
         "orientation": "v",
         "showlegend": false,
         "textangle": 0,
         "textposition": "outside",
         "texttemplate": "%{value:.2s}",
         "type": "histogram",
         "x": [
          "none"
         ],
         "xaxis": "x4",
         "y": [
          0.0008134889999951156
         ],
         "yaxis": "y4"
        },
        {
         "alignmentgroup": "True",
         "bingroup": "x",
         "cliponaxis": false,
         "histfunc": "sum",
         "hovertemplate": "method=dm<br>sketch_fn=%{x}<br>n=4096<br>deff=64<br>sum of time=%{y}<extra></extra>",
         "legendgroup": "dm, none",
         "marker": {
          "color": "#00cc96",
          "pattern": {
           "shape": "x"
          }
         },
         "name": "dm, none",
         "offsetgroup": "dm, none",
         "orientation": "v",
         "showlegend": false,
         "textangle": 0,
         "textposition": "outside",
         "texttemplate": "%{value:.2s}",
         "type": "histogram",
         "x": [
          "none"
         ],
         "xaxis": "x",
         "y": [
          0.001261436999811849
         ],
         "yaxis": "y"
        },
        {
         "alignmentgroup": "True",
         "bingroup": "x",
         "cliponaxis": false,
         "histfunc": "sum",
         "hovertemplate": "method=dm<br>sketch_fn=%{x}<br>n=4096<br>deff=32<br>sum of time=%{y}<extra></extra>",
         "legendgroup": "dm, none",
         "marker": {
          "color": "#00cc96",
          "pattern": {
           "shape": "x"
          }
         },
         "name": "dm, none",
         "offsetgroup": "dm, none",
         "orientation": "v",
         "showlegend": false,
         "textangle": 0,
         "textposition": "outside",
         "texttemplate": "%{value:.2s}",
         "type": "histogram",
         "x": [
          "none"
         ],
         "xaxis": "x2",
         "y": [
          0.0011473340000520693
         ],
         "yaxis": "y2"
        },
        {
         "alignmentgroup": "True",
         "bingroup": "x",
         "cliponaxis": false,
         "histfunc": "sum",
         "hovertemplate": "method=pcg<br>sketch_fn=%{x}<br>n=2048<br>deff=64<br>sum of time=%{y}<extra></extra>",
         "legendgroup": "pcg, gaussian",
         "marker": {
          "color": "#ab63fa",
          "pattern": {
           "shape": ""
          }
         },
         "name": "pcg, gaussian",
         "offsetgroup": "pcg, gaussian",
         "orientation": "v",
         "showlegend": true,
         "textangle": 0,
         "textposition": "outside",
         "texttemplate": "%{value:.2s}",
         "type": "histogram",
         "x": [
          "gaussian"
         ],
         "xaxis": "x3",
         "y": [
          0.013737945999992007
         ],
         "yaxis": "y3"
        },
        {
         "alignmentgroup": "True",
         "bingroup": "x",
         "cliponaxis": false,
         "histfunc": "sum",
         "hovertemplate": "method=pcg<br>sketch_fn=%{x}<br>n=2048<br>deff=32<br>sum of time=%{y}<extra></extra>",
         "legendgroup": "pcg, gaussian",
         "marker": {
          "color": "#ab63fa",
          "pattern": {
           "shape": ""
          }
         },
         "name": "pcg, gaussian",
         "offsetgroup": "pcg, gaussian",
         "orientation": "v",
         "showlegend": false,
         "textangle": 0,
         "textposition": "outside",
         "texttemplate": "%{value:.2s}",
         "type": "histogram",
         "x": [
          "gaussian"
         ],
         "xaxis": "x4",
         "y": [
          0.014652520666667593
         ],
         "yaxis": "y4"
        },
        {
         "alignmentgroup": "True",
         "bingroup": "x",
         "cliponaxis": false,
         "histfunc": "sum",
         "hovertemplate": "method=pcg<br>sketch_fn=%{x}<br>n=4096<br>deff=64<br>sum of time=%{y}<extra></extra>",
         "legendgroup": "pcg, gaussian",
         "marker": {
          "color": "#ab63fa",
          "pattern": {
           "shape": ""
          }
         },
         "name": "pcg, gaussian",
         "offsetgroup": "pcg, gaussian",
         "orientation": "v",
         "showlegend": false,
         "textangle": 0,
         "textposition": "outside",
         "texttemplate": "%{value:.2s}",
         "type": "histogram",
         "x": [
          "gaussian"
         ],
         "xaxis": "x",
         "y": [
          0.02161524900020595
         ],
         "yaxis": "y"
        },
        {
         "alignmentgroup": "True",
         "bingroup": "x",
         "cliponaxis": false,
         "histfunc": "sum",
         "hovertemplate": "method=pcg<br>sketch_fn=%{x}<br>n=4096<br>deff=32<br>sum of time=%{y}<extra></extra>",
         "legendgroup": "pcg, gaussian",
         "marker": {
          "color": "#ab63fa",
          "pattern": {
           "shape": ""
          }
         },
         "name": "pcg, gaussian",
         "offsetgroup": "pcg, gaussian",
         "orientation": "v",
         "showlegend": false,
         "textangle": 0,
         "textposition": "outside",
         "texttemplate": "%{value:.2s}",
         "type": "histogram",
         "x": [
          "gaussian"
         ],
         "xaxis": "x2",
         "y": [
          0.020719410000007578
         ],
         "yaxis": "y2"
        },
        {
         "alignmentgroup": "True",
         "bingroup": "x",
         "cliponaxis": false,
         "histfunc": "sum",
         "hovertemplate": "method=pcg<br>sketch_fn=%{x}<br>n=2048<br>deff=64<br>sum of time=%{y}<extra></extra>",
         "legendgroup": "pcg, sjlt",
         "marker": {
          "color": "#ab63fa",
          "pattern": {
           "shape": "/"
          }
         },
         "name": "pcg, sjlt",
         "offsetgroup": "pcg, sjlt",
         "orientation": "v",
         "showlegend": true,
         "textangle": 0,
         "textposition": "outside",
         "texttemplate": "%{value:.2s}",
         "type": "histogram",
         "x": [
          "sjlt"
         ],
         "xaxis": "x3",
         "y": [
          0.02499583666667604
         ],
         "yaxis": "y3"
        },
        {
         "alignmentgroup": "True",
         "bingroup": "x",
         "cliponaxis": false,
         "histfunc": "sum",
         "hovertemplate": "method=pcg<br>sketch_fn=%{x}<br>n=2048<br>deff=32<br>sum of time=%{y}<extra></extra>",
         "legendgroup": "pcg, sjlt",
         "marker": {
          "color": "#ab63fa",
          "pattern": {
           "shape": "/"
          }
         },
         "name": "pcg, sjlt",
         "offsetgroup": "pcg, sjlt",
         "orientation": "v",
         "showlegend": false,
         "textangle": 0,
         "textposition": "outside",
         "texttemplate": "%{value:.2s}",
         "type": "histogram",
         "x": [
          "sjlt"
         ],
         "xaxis": "x4",
         "y": [
          0.027225489999996928
         ],
         "yaxis": "y4"
        },
        {
         "alignmentgroup": "True",
         "bingroup": "x",
         "cliponaxis": false,
         "histfunc": "sum",
         "hovertemplate": "method=pcg<br>sketch_fn=%{x}<br>n=4096<br>deff=64<br>sum of time=%{y}<extra></extra>",
         "legendgroup": "pcg, sjlt",
         "marker": {
          "color": "#ab63fa",
          "pattern": {
           "shape": "/"
          }
         },
         "name": "pcg, sjlt",
         "offsetgroup": "pcg, sjlt",
         "orientation": "v",
         "showlegend": false,
         "textangle": 0,
         "textposition": "outside",
         "texttemplate": "%{value:.2s}",
         "type": "histogram",
         "x": [
          "sjlt"
         ],
         "xaxis": "x",
         "y": [
          0.040375121999810894
         ],
         "yaxis": "y"
        },
        {
         "alignmentgroup": "True",
         "bingroup": "x",
         "cliponaxis": false,
         "histfunc": "sum",
         "hovertemplate": "method=pcg<br>sketch_fn=%{x}<br>n=4096<br>deff=32<br>sum of time=%{y}<extra></extra>",
         "legendgroup": "pcg, sjlt",
         "marker": {
          "color": "#ab63fa",
          "pattern": {
           "shape": "/"
          }
         },
         "name": "pcg, sjlt",
         "offsetgroup": "pcg, sjlt",
         "orientation": "v",
         "showlegend": false,
         "textangle": 0,
         "textposition": "outside",
         "texttemplate": "%{value:.2s}",
         "type": "histogram",
         "x": [
          "sjlt"
         ],
         "xaxis": "x2",
         "y": [
          0.03956053433345611
         ],
         "yaxis": "y2"
        },
        {
         "alignmentgroup": "True",
         "bingroup": "x",
         "cliponaxis": false,
         "histfunc": "sum",
         "hovertemplate": "method=pcg<br>sketch_fn=%{x}<br>n=2048<br>deff=64<br>sum of time=%{y}<extra></extra>",
         "legendgroup": "pcg, srht",
         "marker": {
          "color": "#ab63fa",
          "pattern": {
           "shape": "\\"
          }
         },
         "name": "pcg, srht",
         "offsetgroup": "pcg, srht",
         "orientation": "v",
         "showlegend": true,
         "textangle": 0,
         "textposition": "outside",
         "texttemplate": "%{value:.2s}",
         "type": "histogram",
         "x": [
          "srht"
         ],
         "xaxis": "x3",
         "y": [
          0.029732855666679825
         ],
         "yaxis": "y3"
        },
        {
         "alignmentgroup": "True",
         "bingroup": "x",
         "cliponaxis": false,
         "histfunc": "sum",
         "hovertemplate": "method=pcg<br>sketch_fn=%{x}<br>n=2048<br>deff=32<br>sum of time=%{y}<extra></extra>",
         "legendgroup": "pcg, srht",
         "marker": {
          "color": "#ab63fa",
          "pattern": {
           "shape": "\\"
          }
         },
         "name": "pcg, srht",
         "offsetgroup": "pcg, srht",
         "orientation": "v",
         "showlegend": false,
         "textangle": 0,
         "textposition": "outside",
         "texttemplate": "%{value:.2s}",
         "type": "histogram",
         "x": [
          "srht"
         ],
         "xaxis": "x4",
         "y": [
          0.05227428833332699
         ],
         "yaxis": "y4"
        },
        {
         "alignmentgroup": "True",
         "bingroup": "x",
         "cliponaxis": false,
         "histfunc": "sum",
         "hovertemplate": "method=pcg<br>sketch_fn=%{x}<br>n=4096<br>deff=64<br>sum of time=%{y}<extra></extra>",
         "legendgroup": "pcg, srht",
         "marker": {
          "color": "#ab63fa",
          "pattern": {
           "shape": "\\"
          }
         },
         "name": "pcg, srht",
         "offsetgroup": "pcg, srht",
         "orientation": "v",
         "showlegend": false,
         "textangle": 0,
         "textposition": "outside",
         "texttemplate": "%{value:.2s}",
         "type": "histogram",
         "x": [
          "srht"
         ],
         "xaxis": "x",
         "y": [
          0.0339060563331562
         ],
         "yaxis": "y"
        },
        {
         "alignmentgroup": "True",
         "bingroup": "x",
         "cliponaxis": false,
         "histfunc": "sum",
         "hovertemplate": "method=pcg<br>sketch_fn=%{x}<br>n=4096<br>deff=32<br>sum of time=%{y}<extra></extra>",
         "legendgroup": "pcg, srht",
         "marker": {
          "color": "#ab63fa",
          "pattern": {
           "shape": "\\"
          }
         },
         "name": "pcg, srht",
         "offsetgroup": "pcg, srht",
         "orientation": "v",
         "showlegend": false,
         "textangle": 0,
         "textposition": "outside",
         "texttemplate": "%{value:.2s}",
         "type": "histogram",
         "x": [
          "srht"
         ],
         "xaxis": "x2",
         "y": [
          0.03323355166655043
         ],
         "yaxis": "y2"
        }
       ],
       "layout": {
        "annotations": [
         {
          "font": {},
          "showarrow": false,
          "text": "deff=64",
          "x": 0.24,
          "xanchor": "center",
          "xref": "paper",
          "y": 1,
          "yanchor": "bottom",
          "yref": "paper"
         },
         {
          "font": {},
          "showarrow": false,
          "text": "deff=32",
          "x": 0.74,
          "xanchor": "center",
          "xref": "paper",
          "y": 1,
          "yanchor": "bottom",
          "yref": "paper"
         },
         {
          "font": {},
          "showarrow": false,
          "text": "n=4096",
          "textangle": 90,
          "x": 0.98,
          "xanchor": "left",
          "xref": "paper",
          "y": 0.2425,
          "yanchor": "middle",
          "yref": "paper"
         },
         {
          "font": {},
          "showarrow": false,
          "text": "n=2048",
          "textangle": 90,
          "x": 0.98,
          "xanchor": "left",
          "xref": "paper",
          "y": 0.7575000000000001,
          "yanchor": "middle",
          "yref": "paper"
         }
        ],
        "barmode": "group",
        "height": 700,
        "legend": {
         "title": {
          "text": "method, sketch_fn"
         },
         "tracegroupgap": 0
        },
        "margin": {
         "t": 60
        },
        "template": {
         "data": {
          "bar": [
           {
            "error_x": {
             "color": "#2a3f5f"
            },
            "error_y": {
             "color": "#2a3f5f"
            },
            "marker": {
             "line": {
              "color": "#E5ECF6",
              "width": 0.5
             },
             "pattern": {
              "fillmode": "overlay",
              "size": 10,
              "solidity": 0.2
             }
            },
            "type": "bar"
           }
          ],
          "barpolar": [
           {
            "marker": {
             "line": {
              "color": "#E5ECF6",
              "width": 0.5
             },
             "pattern": {
              "fillmode": "overlay",
              "size": 10,
              "solidity": 0.2
             }
            },
            "type": "barpolar"
           }
          ],
          "carpet": [
           {
            "aaxis": {
             "endlinecolor": "#2a3f5f",
             "gridcolor": "white",
             "linecolor": "white",
             "minorgridcolor": "white",
             "startlinecolor": "#2a3f5f"
            },
            "baxis": {
             "endlinecolor": "#2a3f5f",
             "gridcolor": "white",
             "linecolor": "white",
             "minorgridcolor": "white",
             "startlinecolor": "#2a3f5f"
            },
            "type": "carpet"
           }
          ],
          "choropleth": [
           {
            "colorbar": {
             "outlinewidth": 0,
             "ticks": ""
            },
            "type": "choropleth"
           }
          ],
          "contour": [
           {
            "colorbar": {
             "outlinewidth": 0,
             "ticks": ""
            },
            "colorscale": [
             [
              0,
              "#0d0887"
             ],
             [
              0.1111111111111111,
              "#46039f"
             ],
             [
              0.2222222222222222,
              "#7201a8"
             ],
             [
              0.3333333333333333,
              "#9c179e"
             ],
             [
              0.4444444444444444,
              "#bd3786"
             ],
             [
              0.5555555555555556,
              "#d8576b"
             ],
             [
              0.6666666666666666,
              "#ed7953"
             ],
             [
              0.7777777777777778,
              "#fb9f3a"
             ],
             [
              0.8888888888888888,
              "#fdca26"
             ],
             [
              1,
              "#f0f921"
             ]
            ],
            "type": "contour"
           }
          ],
          "contourcarpet": [
           {
            "colorbar": {
             "outlinewidth": 0,
             "ticks": ""
            },
            "type": "contourcarpet"
           }
          ],
          "heatmap": [
           {
            "colorbar": {
             "outlinewidth": 0,
             "ticks": ""
            },
            "colorscale": [
             [
              0,
              "#0d0887"
             ],
             [
              0.1111111111111111,
              "#46039f"
             ],
             [
              0.2222222222222222,
              "#7201a8"
             ],
             [
              0.3333333333333333,
              "#9c179e"
             ],
             [
              0.4444444444444444,
              "#bd3786"
             ],
             [
              0.5555555555555556,
              "#d8576b"
             ],
             [
              0.6666666666666666,
              "#ed7953"
             ],
             [
              0.7777777777777778,
              "#fb9f3a"
             ],
             [
              0.8888888888888888,
              "#fdca26"
             ],
             [
              1,
              "#f0f921"
             ]
            ],
            "type": "heatmap"
           }
          ],
          "heatmapgl": [
           {
            "colorbar": {
             "outlinewidth": 0,
             "ticks": ""
            },
            "colorscale": [
             [
              0,
              "#0d0887"
             ],
             [
              0.1111111111111111,
              "#46039f"
             ],
             [
              0.2222222222222222,
              "#7201a8"
             ],
             [
              0.3333333333333333,
              "#9c179e"
             ],
             [
              0.4444444444444444,
              "#bd3786"
             ],
             [
              0.5555555555555556,
              "#d8576b"
             ],
             [
              0.6666666666666666,
              "#ed7953"
             ],
             [
              0.7777777777777778,
              "#fb9f3a"
             ],
             [
              0.8888888888888888,
              "#fdca26"
             ],
             [
              1,
              "#f0f921"
             ]
            ],
            "type": "heatmapgl"
           }
          ],
          "histogram": [
           {
            "marker": {
             "pattern": {
              "fillmode": "overlay",
              "size": 10,
              "solidity": 0.2
             }
            },
            "type": "histogram"
           }
          ],
          "histogram2d": [
           {
            "colorbar": {
             "outlinewidth": 0,
             "ticks": ""
            },
            "colorscale": [
             [
              0,
              "#0d0887"
             ],
             [
              0.1111111111111111,
              "#46039f"
             ],
             [
              0.2222222222222222,
              "#7201a8"
             ],
             [
              0.3333333333333333,
              "#9c179e"
             ],
             [
              0.4444444444444444,
              "#bd3786"
             ],
             [
              0.5555555555555556,
              "#d8576b"
             ],
             [
              0.6666666666666666,
              "#ed7953"
             ],
             [
              0.7777777777777778,
              "#fb9f3a"
             ],
             [
              0.8888888888888888,
              "#fdca26"
             ],
             [
              1,
              "#f0f921"
             ]
            ],
            "type": "histogram2d"
           }
          ],
          "histogram2dcontour": [
           {
            "colorbar": {
             "outlinewidth": 0,
             "ticks": ""
            },
            "colorscale": [
             [
              0,
              "#0d0887"
             ],
             [
              0.1111111111111111,
              "#46039f"
             ],
             [
              0.2222222222222222,
              "#7201a8"
             ],
             [
              0.3333333333333333,
              "#9c179e"
             ],
             [
              0.4444444444444444,
              "#bd3786"
             ],
             [
              0.5555555555555556,
              "#d8576b"
             ],
             [
              0.6666666666666666,
              "#ed7953"
             ],
             [
              0.7777777777777778,
              "#fb9f3a"
             ],
             [
              0.8888888888888888,
              "#fdca26"
             ],
             [
              1,
              "#f0f921"
             ]
            ],
            "type": "histogram2dcontour"
           }
          ],
          "mesh3d": [
           {
            "colorbar": {
             "outlinewidth": 0,
             "ticks": ""
            },
            "type": "mesh3d"
           }
          ],
          "parcoords": [
           {
            "line": {
             "colorbar": {
              "outlinewidth": 0,
              "ticks": ""
             }
            },
            "type": "parcoords"
           }
          ],
          "pie": [
           {
            "automargin": true,
            "type": "pie"
           }
          ],
          "scatter": [
           {
            "fillpattern": {
             "fillmode": "overlay",
             "size": 10,
             "solidity": 0.2
            },
            "type": "scatter"
           }
          ],
          "scatter3d": [
           {
            "line": {
             "colorbar": {
              "outlinewidth": 0,
              "ticks": ""
             }
            },
            "marker": {
             "colorbar": {
              "outlinewidth": 0,
              "ticks": ""
             }
            },
            "type": "scatter3d"
           }
          ],
          "scattercarpet": [
           {
            "marker": {
             "colorbar": {
              "outlinewidth": 0,
              "ticks": ""
             }
            },
            "type": "scattercarpet"
           }
          ],
          "scattergeo": [
           {
            "marker": {
             "colorbar": {
              "outlinewidth": 0,
              "ticks": ""
             }
            },
            "type": "scattergeo"
           }
          ],
          "scattergl": [
           {
            "marker": {
             "colorbar": {
              "outlinewidth": 0,
              "ticks": ""
             }
            },
            "type": "scattergl"
           }
          ],
          "scattermapbox": [
           {
            "marker": {
             "colorbar": {
              "outlinewidth": 0,
              "ticks": ""
             }
            },
            "type": "scattermapbox"
           }
          ],
          "scatterpolar": [
           {
            "marker": {
             "colorbar": {
              "outlinewidth": 0,
              "ticks": ""
             }
            },
            "type": "scatterpolar"
           }
          ],
          "scatterpolargl": [
           {
            "marker": {
             "colorbar": {
              "outlinewidth": 0,
              "ticks": ""
             }
            },
            "type": "scatterpolargl"
           }
          ],
          "scatterternary": [
           {
            "marker": {
             "colorbar": {
              "outlinewidth": 0,
              "ticks": ""
             }
            },
            "type": "scatterternary"
           }
          ],
          "surface": [
           {
            "colorbar": {
             "outlinewidth": 0,
             "ticks": ""
            },
            "colorscale": [
             [
              0,
              "#0d0887"
             ],
             [
              0.1111111111111111,
              "#46039f"
             ],
             [
              0.2222222222222222,
              "#7201a8"
             ],
             [
              0.3333333333333333,
              "#9c179e"
             ],
             [
              0.4444444444444444,
              "#bd3786"
             ],
             [
              0.5555555555555556,
              "#d8576b"
             ],
             [
              0.6666666666666666,
              "#ed7953"
             ],
             [
              0.7777777777777778,
              "#fb9f3a"
             ],
             [
              0.8888888888888888,
              "#fdca26"
             ],
             [
              1,
              "#f0f921"
             ]
            ],
            "type": "surface"
           }
          ],
          "table": [
           {
            "cells": {
             "fill": {
              "color": "#EBF0F8"
             },
             "line": {
              "color": "white"
             }
            },
            "header": {
             "fill": {
              "color": "#C8D4E3"
             },
             "line": {
              "color": "white"
             }
            },
            "type": "table"
           }
          ]
         },
         "layout": {
          "annotationdefaults": {
           "arrowcolor": "#2a3f5f",
           "arrowhead": 0,
           "arrowwidth": 1
          },
          "autotypenumbers": "strict",
          "coloraxis": {
           "colorbar": {
            "outlinewidth": 0,
            "ticks": ""
           }
          },
          "colorscale": {
           "diverging": [
            [
             0,
             "#8e0152"
            ],
            [
             0.1,
             "#c51b7d"
            ],
            [
             0.2,
             "#de77ae"
            ],
            [
             0.3,
             "#f1b6da"
            ],
            [
             0.4,
             "#fde0ef"
            ],
            [
             0.5,
             "#f7f7f7"
            ],
            [
             0.6,
             "#e6f5d0"
            ],
            [
             0.7,
             "#b8e186"
            ],
            [
             0.8,
             "#7fbc41"
            ],
            [
             0.9,
             "#4d9221"
            ],
            [
             1,
             "#276419"
            ]
           ],
           "sequential": [
            [
             0,
             "#0d0887"
            ],
            [
             0.1111111111111111,
             "#46039f"
            ],
            [
             0.2222222222222222,
             "#7201a8"
            ],
            [
             0.3333333333333333,
             "#9c179e"
            ],
            [
             0.4444444444444444,
             "#bd3786"
            ],
            [
             0.5555555555555556,
             "#d8576b"
            ],
            [
             0.6666666666666666,
             "#ed7953"
            ],
            [
             0.7777777777777778,
             "#fb9f3a"
            ],
            [
             0.8888888888888888,
             "#fdca26"
            ],
            [
             1,
             "#f0f921"
            ]
           ],
           "sequentialminus": [
            [
             0,
             "#0d0887"
            ],
            [
             0.1111111111111111,
             "#46039f"
            ],
            [
             0.2222222222222222,
             "#7201a8"
            ],
            [
             0.3333333333333333,
             "#9c179e"
            ],
            [
             0.4444444444444444,
             "#bd3786"
            ],
            [
             0.5555555555555556,
             "#d8576b"
            ],
            [
             0.6666666666666666,
             "#ed7953"
            ],
            [
             0.7777777777777778,
             "#fb9f3a"
            ],
            [
             0.8888888888888888,
             "#fdca26"
            ],
            [
             1,
             "#f0f921"
            ]
           ]
          },
          "colorway": [
           "#636efa",
           "#EF553B",
           "#00cc96",
           "#ab63fa",
           "#FFA15A",
           "#19d3f3",
           "#FF6692",
           "#B6E880",
           "#FF97FF",
           "#FECB52"
          ],
          "font": {
           "color": "#2a3f5f"
          },
          "geo": {
           "bgcolor": "white",
           "lakecolor": "white",
           "landcolor": "#E5ECF6",
           "showlakes": true,
           "showland": true,
           "subunitcolor": "white"
          },
          "hoverlabel": {
           "align": "left"
          },
          "hovermode": "closest",
          "mapbox": {
           "style": "light"
          },
          "paper_bgcolor": "white",
          "plot_bgcolor": "#E5ECF6",
          "polar": {
           "angularaxis": {
            "gridcolor": "white",
            "linecolor": "white",
            "ticks": ""
           },
           "bgcolor": "#E5ECF6",
           "radialaxis": {
            "gridcolor": "white",
            "linecolor": "white",
            "ticks": ""
           }
          },
          "scene": {
           "xaxis": {
            "backgroundcolor": "#E5ECF6",
            "gridcolor": "white",
            "gridwidth": 2,
            "linecolor": "white",
            "showbackground": true,
            "ticks": "",
            "zerolinecolor": "white"
           },
           "yaxis": {
            "backgroundcolor": "#E5ECF6",
            "gridcolor": "white",
            "gridwidth": 2,
            "linecolor": "white",
            "showbackground": true,
            "ticks": "",
            "zerolinecolor": "white"
           },
           "zaxis": {
            "backgroundcolor": "#E5ECF6",
            "gridcolor": "white",
            "gridwidth": 2,
            "linecolor": "white",
            "showbackground": true,
            "ticks": "",
            "zerolinecolor": "white"
           }
          },
          "shapedefaults": {
           "line": {
            "color": "#2a3f5f"
           }
          },
          "ternary": {
           "aaxis": {
            "gridcolor": "white",
            "linecolor": "white",
            "ticks": ""
           },
           "baxis": {
            "gridcolor": "white",
            "linecolor": "white",
            "ticks": ""
           },
           "bgcolor": "#E5ECF6",
           "caxis": {
            "gridcolor": "white",
            "linecolor": "white",
            "ticks": ""
           }
          },
          "title": {
           "x": 0.05
          },
          "xaxis": {
           "automargin": true,
           "gridcolor": "white",
           "linecolor": "white",
           "ticks": "",
           "title": {
            "standoff": 15
           },
           "zerolinecolor": "white",
           "zerolinewidth": 2
          },
          "yaxis": {
           "automargin": true,
           "gridcolor": "white",
           "linecolor": "white",
           "ticks": "",
           "title": {
            "standoff": 15
           },
           "zerolinecolor": "white",
           "zerolinewidth": 2
          }
         }
        },
        "xaxis": {
         "anchor": "y",
         "categoryarray": [
          "gaussian",
          "sjlt",
          "srht",
          "none"
         ],
         "categoryorder": "array",
         "domain": [
          0,
          0.48
         ],
         "title": {
          "text": "sketch_fn"
         }
        },
        "xaxis2": {
         "anchor": "y2",
         "categoryarray": [
          "gaussian",
          "sjlt",
          "srht",
          "none"
         ],
         "categoryorder": "array",
         "domain": [
          0.5,
          0.98
         ],
         "matches": "x",
         "title": {
          "text": "sketch_fn"
         }
        },
        "xaxis3": {
         "anchor": "y3",
         "domain": [
          0,
          0.48
         ],
         "matches": "x",
         "showticklabels": false
        },
        "xaxis4": {
         "anchor": "y4",
         "domain": [
          0.5,
          0.98
         ],
         "matches": "x",
         "showticklabels": false
        },
        "yaxis": {
         "anchor": "x",
         "domain": [
          0,
          0.485
         ],
         "title": {
          "text": "sum of time"
         }
        },
        "yaxis2": {
         "anchor": "x2",
         "domain": [
          0,
          0.485
         ],
         "matches": "y",
         "showticklabels": false
        },
        "yaxis3": {
         "anchor": "x3",
         "domain": [
          0.515,
          1
         ],
         "matches": "y",
         "title": {
          "text": "sum of time"
         }
        },
        "yaxis4": {
         "anchor": "x4",
         "domain": [
          0.515,
          1
         ],
         "matches": "y",
         "showticklabels": false
        }
       }
      },
      "text/html": [
       "<div>                            <div id=\"779e7d31-58b3-472b-8082-9f4487d92ff7\" class=\"plotly-graph-div\" style=\"height:700px; width:100%;\"></div>            <script type=\"text/javascript\">                require([\"plotly\"], function(Plotly) {                    window.PLOTLYENV=window.PLOTLYENV || {};                                    if (document.getElementById(\"779e7d31-58b3-472b-8082-9f4487d92ff7\")) {                    Plotly.newPlot(                        \"779e7d31-58b3-472b-8082-9f4487d92ff7\",                        [{\"alignmentgroup\":\"True\",\"bingroup\":\"x\",\"histfunc\":\"sum\",\"hovertemplate\":\"method=adacg\\u003cbr\\u003esketch_fn=%{x}\\u003cbr\\u003en=2048\\u003cbr\\u003edeff=64\\u003cbr\\u003esum of time=%{y}\\u003cextra\\u003e\\u003c\\u002fextra\\u003e\",\"legendgroup\":\"adacg, gaussian\",\"marker\":{\"color\":\"#636efa\",\"pattern\":{\"shape\":\"\"}},\"name\":\"adacg, gaussian\",\"offsetgroup\":\"adacg, gaussian\",\"orientation\":\"v\",\"showlegend\":true,\"texttemplate\":\"%{value:.2s}\",\"x\":[\"gaussian\"],\"xaxis\":\"x3\",\"y\":[0.004074974000009964],\"yaxis\":\"y3\",\"type\":\"histogram\",\"cliponaxis\":false,\"textangle\":0,\"textposition\":\"outside\"},{\"alignmentgroup\":\"True\",\"bingroup\":\"x\",\"histfunc\":\"sum\",\"hovertemplate\":\"method=adacg\\u003cbr\\u003esketch_fn=%{x}\\u003cbr\\u003en=2048\\u003cbr\\u003edeff=32\\u003cbr\\u003esum of time=%{y}\\u003cextra\\u003e\\u003c\\u002fextra\\u003e\",\"legendgroup\":\"adacg, gaussian\",\"marker\":{\"color\":\"#636efa\",\"pattern\":{\"shape\":\"\"}},\"name\":\"adacg, gaussian\",\"offsetgroup\":\"adacg, gaussian\",\"orientation\":\"v\",\"showlegend\":false,\"texttemplate\":\"%{value:.2s}\",\"x\":[\"gaussian\"],\"xaxis\":\"x4\",\"y\":[0.00547027266668465],\"yaxis\":\"y4\",\"type\":\"histogram\",\"cliponaxis\":false,\"textangle\":0,\"textposition\":\"outside\"},{\"alignmentgroup\":\"True\",\"bingroup\":\"x\",\"histfunc\":\"sum\",\"hovertemplate\":\"method=adacg\\u003cbr\\u003esketch_fn=%{x}\\u003cbr\\u003en=4096\\u003cbr\\u003edeff=64\\u003cbr\\u003esum of time=%{y}\\u003cextra\\u003e\\u003c\\u002fextra\\u003e\",\"legendgroup\":\"adacg, gaussian\",\"marker\":{\"color\":\"#636efa\",\"pattern\":{\"shape\":\"\"}},\"name\":\"adacg, gaussian\",\"offsetgroup\":\"adacg, gaussian\",\"orientation\":\"v\",\"showlegend\":false,\"texttemplate\":\"%{value:.2s}\",\"x\":[\"gaussian\"],\"xaxis\":\"x\",\"y\":[0.004723886332916057],\"yaxis\":\"y\",\"type\":\"histogram\",\"cliponaxis\":false,\"textangle\":0,\"textposition\":\"outside\"},{\"alignmentgroup\":\"True\",\"bingroup\":\"x\",\"histfunc\":\"sum\",\"hovertemplate\":\"method=adacg\\u003cbr\\u003esketch_fn=%{x}\\u003cbr\\u003en=4096\\u003cbr\\u003edeff=32\\u003cbr\\u003esum of time=%{y}\\u003cextra\\u003e\\u003c\\u002fextra\\u003e\",\"legendgroup\":\"adacg, gaussian\",\"marker\":{\"color\":\"#636efa\",\"pattern\":{\"shape\":\"\"}},\"name\":\"adacg, gaussian\",\"offsetgroup\":\"adacg, gaussian\",\"orientation\":\"v\",\"showlegend\":false,\"texttemplate\":\"%{value:.2s}\",\"x\":[\"gaussian\"],\"xaxis\":\"x2\",\"y\":[0.004614772666779269],\"yaxis\":\"y2\",\"type\":\"histogram\",\"cliponaxis\":false,\"textangle\":0,\"textposition\":\"outside\"},{\"alignmentgroup\":\"True\",\"bingroup\":\"x\",\"histfunc\":\"sum\",\"hovertemplate\":\"method=adacg\\u003cbr\\u003esketch_fn=%{x}\\u003cbr\\u003en=2048\\u003cbr\\u003edeff=64\\u003cbr\\u003esum of time=%{y}\\u003cextra\\u003e\\u003c\\u002fextra\\u003e\",\"legendgroup\":\"adacg, sjlt\",\"marker\":{\"color\":\"#636efa\",\"pattern\":{\"shape\":\"\\u002f\"}},\"name\":\"adacg, sjlt\",\"offsetgroup\":\"adacg, sjlt\",\"orientation\":\"v\",\"showlegend\":true,\"texttemplate\":\"%{value:.2s}\",\"x\":[\"sjlt\"],\"xaxis\":\"x3\",\"y\":[0.0038691416666930913],\"yaxis\":\"y3\",\"type\":\"histogram\",\"cliponaxis\":false,\"textangle\":0,\"textposition\":\"outside\"},{\"alignmentgroup\":\"True\",\"bingroup\":\"x\",\"histfunc\":\"sum\",\"hovertemplate\":\"method=adacg\\u003cbr\\u003esketch_fn=%{x}\\u003cbr\\u003en=2048\\u003cbr\\u003edeff=32\\u003cbr\\u003esum of time=%{y}\\u003cextra\\u003e\\u003c\\u002fextra\\u003e\",\"legendgroup\":\"adacg, sjlt\",\"marker\":{\"color\":\"#636efa\",\"pattern\":{\"shape\":\"\\u002f\"}},\"name\":\"adacg, sjlt\",\"offsetgroup\":\"adacg, sjlt\",\"orientation\":\"v\",\"showlegend\":false,\"texttemplate\":\"%{value:.2s}\",\"x\":[\"sjlt\"],\"xaxis\":\"x4\",\"y\":[0.004715094666664753],\"yaxis\":\"y4\",\"type\":\"histogram\",\"cliponaxis\":false,\"textangle\":0,\"textposition\":\"outside\"},{\"alignmentgroup\":\"True\",\"bingroup\":\"x\",\"histfunc\":\"sum\",\"hovertemplate\":\"method=adacg\\u003cbr\\u003esketch_fn=%{x}\\u003cbr\\u003en=4096\\u003cbr\\u003edeff=64\\u003cbr\\u003esum of time=%{y}\\u003cextra\\u003e\\u003c\\u002fextra\\u003e\",\"legendgroup\":\"adacg, sjlt\",\"marker\":{\"color\":\"#636efa\",\"pattern\":{\"shape\":\"\\u002f\"}},\"name\":\"adacg, sjlt\",\"offsetgroup\":\"adacg, sjlt\",\"orientation\":\"v\",\"showlegend\":false,\"texttemplate\":\"%{value:.2s}\",\"x\":[\"sjlt\"],\"xaxis\":\"x\",\"y\":[0.003751516333371303],\"yaxis\":\"y\",\"type\":\"histogram\",\"cliponaxis\":false,\"textangle\":0,\"textposition\":\"outside\"},{\"alignmentgroup\":\"True\",\"bingroup\":\"x\",\"histfunc\":\"sum\",\"hovertemplate\":\"method=adacg\\u003cbr\\u003esketch_fn=%{x}\\u003cbr\\u003en=4096\\u003cbr\\u003edeff=32\\u003cbr\\u003esum of time=%{y}\\u003cextra\\u003e\\u003c\\u002fextra\\u003e\",\"legendgroup\":\"adacg, sjlt\",\"marker\":{\"color\":\"#636efa\",\"pattern\":{\"shape\":\"\\u002f\"}},\"name\":\"adacg, sjlt\",\"offsetgroup\":\"adacg, sjlt\",\"orientation\":\"v\",\"showlegend\":false,\"texttemplate\":\"%{value:.2s}\",\"x\":[\"sjlt\"],\"xaxis\":\"x2\",\"y\":[0.004148838667182038],\"yaxis\":\"y2\",\"type\":\"histogram\",\"cliponaxis\":false,\"textangle\":0,\"textposition\":\"outside\"},{\"alignmentgroup\":\"True\",\"bingroup\":\"x\",\"histfunc\":\"sum\",\"hovertemplate\":\"method=adacg\\u003cbr\\u003esketch_fn=%{x}\\u003cbr\\u003en=2048\\u003cbr\\u003edeff=64\\u003cbr\\u003esum of time=%{y}\\u003cextra\\u003e\\u003c\\u002fextra\\u003e\",\"legendgroup\":\"adacg, srht\",\"marker\":{\"color\":\"#636efa\",\"pattern\":{\"shape\":\"\\\\\"}},\"name\":\"adacg, srht\",\"offsetgroup\":\"adacg, srht\",\"orientation\":\"v\",\"showlegend\":true,\"texttemplate\":\"%{value:.2s}\",\"x\":[\"srht\"],\"xaxis\":\"x3\",\"y\":[0.0038834126666529296],\"yaxis\":\"y3\",\"type\":\"histogram\",\"cliponaxis\":false,\"textangle\":0,\"textposition\":\"outside\"},{\"alignmentgroup\":\"True\",\"bingroup\":\"x\",\"histfunc\":\"sum\",\"hovertemplate\":\"method=adacg\\u003cbr\\u003esketch_fn=%{x}\\u003cbr\\u003en=2048\\u003cbr\\u003edeff=32\\u003cbr\\u003esum of time=%{y}\\u003cextra\\u003e\\u003c\\u002fextra\\u003e\",\"legendgroup\":\"adacg, srht\",\"marker\":{\"color\":\"#636efa\",\"pattern\":{\"shape\":\"\\\\\"}},\"name\":\"adacg, srht\",\"offsetgroup\":\"adacg, srht\",\"orientation\":\"v\",\"showlegend\":false,\"texttemplate\":\"%{value:.2s}\",\"x\":[\"srht\"],\"xaxis\":\"x4\",\"y\":[0.004674887999982502],\"yaxis\":\"y4\",\"type\":\"histogram\",\"cliponaxis\":false,\"textangle\":0,\"textposition\":\"outside\"},{\"alignmentgroup\":\"True\",\"bingroup\":\"x\",\"histfunc\":\"sum\",\"hovertemplate\":\"method=adacg\\u003cbr\\u003esketch_fn=%{x}\\u003cbr\\u003en=4096\\u003cbr\\u003edeff=64\\u003cbr\\u003esum of time=%{y}\\u003cextra\\u003e\\u003c\\u002fextra\\u003e\",\"legendgroup\":\"adacg, srht\",\"marker\":{\"color\":\"#636efa\",\"pattern\":{\"shape\":\"\\\\\"}},\"name\":\"adacg, srht\",\"offsetgroup\":\"adacg, srht\",\"orientation\":\"v\",\"showlegend\":false,\"texttemplate\":\"%{value:.2s}\",\"x\":[\"srht\"],\"xaxis\":\"x\",\"y\":[0.004823320667128428],\"yaxis\":\"y\",\"type\":\"histogram\",\"cliponaxis\":false,\"textangle\":0,\"textposition\":\"outside\"},{\"alignmentgroup\":\"True\",\"bingroup\":\"x\",\"histfunc\":\"sum\",\"hovertemplate\":\"method=adacg\\u003cbr\\u003esketch_fn=%{x}\\u003cbr\\u003en=4096\\u003cbr\\u003edeff=32\\u003cbr\\u003esum of time=%{y}\\u003cextra\\u003e\\u003c\\u002fextra\\u003e\",\"legendgroup\":\"adacg, srht\",\"marker\":{\"color\":\"#636efa\",\"pattern\":{\"shape\":\"\\\\\"}},\"name\":\"adacg, srht\",\"offsetgroup\":\"adacg, srht\",\"orientation\":\"v\",\"showlegend\":false,\"texttemplate\":\"%{value:.2s}\",\"x\":[\"srht\"],\"xaxis\":\"x2\",\"y\":[0.00473902499985949],\"yaxis\":\"y2\",\"type\":\"histogram\",\"cliponaxis\":false,\"textangle\":0,\"textposition\":\"outside\"},{\"alignmentgroup\":\"True\",\"bingroup\":\"x\",\"histfunc\":\"sum\",\"hovertemplate\":\"method=cg\\u003cbr\\u003esketch_fn=%{x}\\u003cbr\\u003en=2048\\u003cbr\\u003edeff=64\\u003cbr\\u003esum of time=%{y}\\u003cextra\\u003e\\u003c\\u002fextra\\u003e\",\"legendgroup\":\"cg, none\",\"marker\":{\"color\":\"#EF553B\",\"pattern\":{\"shape\":\"x\"}},\"name\":\"cg, none\",\"offsetgroup\":\"cg, none\",\"orientation\":\"v\",\"showlegend\":true,\"texttemplate\":\"%{value:.2s}\",\"x\":[\"none\"],\"xaxis\":\"x3\",\"y\":[0.024271829333334455],\"yaxis\":\"y3\",\"type\":\"histogram\",\"cliponaxis\":false,\"textangle\":0,\"textposition\":\"outside\"},{\"alignmentgroup\":\"True\",\"bingroup\":\"x\",\"histfunc\":\"sum\",\"hovertemplate\":\"method=cg\\u003cbr\\u003esketch_fn=%{x}\\u003cbr\\u003en=2048\\u003cbr\\u003edeff=32\\u003cbr\\u003esum of time=%{y}\\u003cextra\\u003e\\u003c\\u002fextra\\u003e\",\"legendgroup\":\"cg, none\",\"marker\":{\"color\":\"#EF553B\",\"pattern\":{\"shape\":\"x\"}},\"name\":\"cg, none\",\"offsetgroup\":\"cg, none\",\"orientation\":\"v\",\"showlegend\":false,\"texttemplate\":\"%{value:.2s}\",\"x\":[\"none\"],\"xaxis\":\"x4\",\"y\":[0.01149828266667896],\"yaxis\":\"y4\",\"type\":\"histogram\",\"cliponaxis\":false,\"textangle\":0,\"textposition\":\"outside\"},{\"alignmentgroup\":\"True\",\"bingroup\":\"x\",\"histfunc\":\"sum\",\"hovertemplate\":\"method=cg\\u003cbr\\u003esketch_fn=%{x}\\u003cbr\\u003en=4096\\u003cbr\\u003edeff=64\\u003cbr\\u003esum of time=%{y}\\u003cextra\\u003e\\u003c\\u002fextra\\u003e\",\"legendgroup\":\"cg, none\",\"marker\":{\"color\":\"#EF553B\",\"pattern\":{\"shape\":\"x\"}},\"name\":\"cg, none\",\"offsetgroup\":\"cg, none\",\"orientation\":\"v\",\"showlegend\":false,\"texttemplate\":\"%{value:.2s}\",\"x\":[\"none\"],\"xaxis\":\"x\",\"y\":[0.026354545666436024],\"yaxis\":\"y\",\"type\":\"histogram\",\"cliponaxis\":false,\"textangle\":0,\"textposition\":\"outside\"},{\"alignmentgroup\":\"True\",\"bingroup\":\"x\",\"histfunc\":\"sum\",\"hovertemplate\":\"method=cg\\u003cbr\\u003esketch_fn=%{x}\\u003cbr\\u003en=4096\\u003cbr\\u003edeff=32\\u003cbr\\u003esum of time=%{y}\\u003cextra\\u003e\\u003c\\u002fextra\\u003e\",\"legendgroup\":\"cg, none\",\"marker\":{\"color\":\"#EF553B\",\"pattern\":{\"shape\":\"x\"}},\"name\":\"cg, none\",\"offsetgroup\":\"cg, none\",\"orientation\":\"v\",\"showlegend\":false,\"texttemplate\":\"%{value:.2s}\",\"x\":[\"none\"],\"xaxis\":\"x2\",\"y\":[0.009546038000128949],\"yaxis\":\"y2\",\"type\":\"histogram\",\"cliponaxis\":false,\"textangle\":0,\"textposition\":\"outside\"},{\"alignmentgroup\":\"True\",\"bingroup\":\"x\",\"histfunc\":\"sum\",\"hovertemplate\":\"method=dm\\u003cbr\\u003esketch_fn=%{x}\\u003cbr\\u003en=2048\\u003cbr\\u003edeff=64\\u003cbr\\u003esum of time=%{y}\\u003cextra\\u003e\\u003c\\u002fextra\\u003e\",\"legendgroup\":\"dm, none\",\"marker\":{\"color\":\"#00cc96\",\"pattern\":{\"shape\":\"x\"}},\"name\":\"dm, none\",\"offsetgroup\":\"dm, none\",\"orientation\":\"v\",\"showlegend\":true,\"texttemplate\":\"%{value:.2s}\",\"x\":[\"none\"],\"xaxis\":\"x3\",\"y\":[0.0008027380000044104],\"yaxis\":\"y3\",\"type\":\"histogram\",\"cliponaxis\":false,\"textangle\":0,\"textposition\":\"outside\"},{\"alignmentgroup\":\"True\",\"bingroup\":\"x\",\"histfunc\":\"sum\",\"hovertemplate\":\"method=dm\\u003cbr\\u003esketch_fn=%{x}\\u003cbr\\u003en=2048\\u003cbr\\u003edeff=32\\u003cbr\\u003esum of time=%{y}\\u003cextra\\u003e\\u003c\\u002fextra\\u003e\",\"legendgroup\":\"dm, none\",\"marker\":{\"color\":\"#00cc96\",\"pattern\":{\"shape\":\"x\"}},\"name\":\"dm, none\",\"offsetgroup\":\"dm, none\",\"orientation\":\"v\",\"showlegend\":false,\"texttemplate\":\"%{value:.2s}\",\"x\":[\"none\"],\"xaxis\":\"x4\",\"y\":[0.0008134889999951156],\"yaxis\":\"y4\",\"type\":\"histogram\",\"cliponaxis\":false,\"textangle\":0,\"textposition\":\"outside\"},{\"alignmentgroup\":\"True\",\"bingroup\":\"x\",\"histfunc\":\"sum\",\"hovertemplate\":\"method=dm\\u003cbr\\u003esketch_fn=%{x}\\u003cbr\\u003en=4096\\u003cbr\\u003edeff=64\\u003cbr\\u003esum of time=%{y}\\u003cextra\\u003e\\u003c\\u002fextra\\u003e\",\"legendgroup\":\"dm, none\",\"marker\":{\"color\":\"#00cc96\",\"pattern\":{\"shape\":\"x\"}},\"name\":\"dm, none\",\"offsetgroup\":\"dm, none\",\"orientation\":\"v\",\"showlegend\":false,\"texttemplate\":\"%{value:.2s}\",\"x\":[\"none\"],\"xaxis\":\"x\",\"y\":[0.001261436999811849],\"yaxis\":\"y\",\"type\":\"histogram\",\"cliponaxis\":false,\"textangle\":0,\"textposition\":\"outside\"},{\"alignmentgroup\":\"True\",\"bingroup\":\"x\",\"histfunc\":\"sum\",\"hovertemplate\":\"method=dm\\u003cbr\\u003esketch_fn=%{x}\\u003cbr\\u003en=4096\\u003cbr\\u003edeff=32\\u003cbr\\u003esum of time=%{y}\\u003cextra\\u003e\\u003c\\u002fextra\\u003e\",\"legendgroup\":\"dm, none\",\"marker\":{\"color\":\"#00cc96\",\"pattern\":{\"shape\":\"x\"}},\"name\":\"dm, none\",\"offsetgroup\":\"dm, none\",\"orientation\":\"v\",\"showlegend\":false,\"texttemplate\":\"%{value:.2s}\",\"x\":[\"none\"],\"xaxis\":\"x2\",\"y\":[0.0011473340000520693],\"yaxis\":\"y2\",\"type\":\"histogram\",\"cliponaxis\":false,\"textangle\":0,\"textposition\":\"outside\"},{\"alignmentgroup\":\"True\",\"bingroup\":\"x\",\"histfunc\":\"sum\",\"hovertemplate\":\"method=pcg\\u003cbr\\u003esketch_fn=%{x}\\u003cbr\\u003en=2048\\u003cbr\\u003edeff=64\\u003cbr\\u003esum of time=%{y}\\u003cextra\\u003e\\u003c\\u002fextra\\u003e\",\"legendgroup\":\"pcg, gaussian\",\"marker\":{\"color\":\"#ab63fa\",\"pattern\":{\"shape\":\"\"}},\"name\":\"pcg, gaussian\",\"offsetgroup\":\"pcg, gaussian\",\"orientation\":\"v\",\"showlegend\":true,\"texttemplate\":\"%{value:.2s}\",\"x\":[\"gaussian\"],\"xaxis\":\"x3\",\"y\":[0.013737945999992007],\"yaxis\":\"y3\",\"type\":\"histogram\",\"cliponaxis\":false,\"textangle\":0,\"textposition\":\"outside\"},{\"alignmentgroup\":\"True\",\"bingroup\":\"x\",\"histfunc\":\"sum\",\"hovertemplate\":\"method=pcg\\u003cbr\\u003esketch_fn=%{x}\\u003cbr\\u003en=2048\\u003cbr\\u003edeff=32\\u003cbr\\u003esum of time=%{y}\\u003cextra\\u003e\\u003c\\u002fextra\\u003e\",\"legendgroup\":\"pcg, gaussian\",\"marker\":{\"color\":\"#ab63fa\",\"pattern\":{\"shape\":\"\"}},\"name\":\"pcg, gaussian\",\"offsetgroup\":\"pcg, gaussian\",\"orientation\":\"v\",\"showlegend\":false,\"texttemplate\":\"%{value:.2s}\",\"x\":[\"gaussian\"],\"xaxis\":\"x4\",\"y\":[0.014652520666667593],\"yaxis\":\"y4\",\"type\":\"histogram\",\"cliponaxis\":false,\"textangle\":0,\"textposition\":\"outside\"},{\"alignmentgroup\":\"True\",\"bingroup\":\"x\",\"histfunc\":\"sum\",\"hovertemplate\":\"method=pcg\\u003cbr\\u003esketch_fn=%{x}\\u003cbr\\u003en=4096\\u003cbr\\u003edeff=64\\u003cbr\\u003esum of time=%{y}\\u003cextra\\u003e\\u003c\\u002fextra\\u003e\",\"legendgroup\":\"pcg, gaussian\",\"marker\":{\"color\":\"#ab63fa\",\"pattern\":{\"shape\":\"\"}},\"name\":\"pcg, gaussian\",\"offsetgroup\":\"pcg, gaussian\",\"orientation\":\"v\",\"showlegend\":false,\"texttemplate\":\"%{value:.2s}\",\"x\":[\"gaussian\"],\"xaxis\":\"x\",\"y\":[0.02161524900020595],\"yaxis\":\"y\",\"type\":\"histogram\",\"cliponaxis\":false,\"textangle\":0,\"textposition\":\"outside\"},{\"alignmentgroup\":\"True\",\"bingroup\":\"x\",\"histfunc\":\"sum\",\"hovertemplate\":\"method=pcg\\u003cbr\\u003esketch_fn=%{x}\\u003cbr\\u003en=4096\\u003cbr\\u003edeff=32\\u003cbr\\u003esum of time=%{y}\\u003cextra\\u003e\\u003c\\u002fextra\\u003e\",\"legendgroup\":\"pcg, gaussian\",\"marker\":{\"color\":\"#ab63fa\",\"pattern\":{\"shape\":\"\"}},\"name\":\"pcg, gaussian\",\"offsetgroup\":\"pcg, gaussian\",\"orientation\":\"v\",\"showlegend\":false,\"texttemplate\":\"%{value:.2s}\",\"x\":[\"gaussian\"],\"xaxis\":\"x2\",\"y\":[0.020719410000007578],\"yaxis\":\"y2\",\"type\":\"histogram\",\"cliponaxis\":false,\"textangle\":0,\"textposition\":\"outside\"},{\"alignmentgroup\":\"True\",\"bingroup\":\"x\",\"histfunc\":\"sum\",\"hovertemplate\":\"method=pcg\\u003cbr\\u003esketch_fn=%{x}\\u003cbr\\u003en=2048\\u003cbr\\u003edeff=64\\u003cbr\\u003esum of time=%{y}\\u003cextra\\u003e\\u003c\\u002fextra\\u003e\",\"legendgroup\":\"pcg, sjlt\",\"marker\":{\"color\":\"#ab63fa\",\"pattern\":{\"shape\":\"\\u002f\"}},\"name\":\"pcg, sjlt\",\"offsetgroup\":\"pcg, sjlt\",\"orientation\":\"v\",\"showlegend\":true,\"texttemplate\":\"%{value:.2s}\",\"x\":[\"sjlt\"],\"xaxis\":\"x3\",\"y\":[0.02499583666667604],\"yaxis\":\"y3\",\"type\":\"histogram\",\"cliponaxis\":false,\"textangle\":0,\"textposition\":\"outside\"},{\"alignmentgroup\":\"True\",\"bingroup\":\"x\",\"histfunc\":\"sum\",\"hovertemplate\":\"method=pcg\\u003cbr\\u003esketch_fn=%{x}\\u003cbr\\u003en=2048\\u003cbr\\u003edeff=32\\u003cbr\\u003esum of time=%{y}\\u003cextra\\u003e\\u003c\\u002fextra\\u003e\",\"legendgroup\":\"pcg, sjlt\",\"marker\":{\"color\":\"#ab63fa\",\"pattern\":{\"shape\":\"\\u002f\"}},\"name\":\"pcg, sjlt\",\"offsetgroup\":\"pcg, sjlt\",\"orientation\":\"v\",\"showlegend\":false,\"texttemplate\":\"%{value:.2s}\",\"x\":[\"sjlt\"],\"xaxis\":\"x4\",\"y\":[0.027225489999996928],\"yaxis\":\"y4\",\"type\":\"histogram\",\"cliponaxis\":false,\"textangle\":0,\"textposition\":\"outside\"},{\"alignmentgroup\":\"True\",\"bingroup\":\"x\",\"histfunc\":\"sum\",\"hovertemplate\":\"method=pcg\\u003cbr\\u003esketch_fn=%{x}\\u003cbr\\u003en=4096\\u003cbr\\u003edeff=64\\u003cbr\\u003esum of time=%{y}\\u003cextra\\u003e\\u003c\\u002fextra\\u003e\",\"legendgroup\":\"pcg, sjlt\",\"marker\":{\"color\":\"#ab63fa\",\"pattern\":{\"shape\":\"\\u002f\"}},\"name\":\"pcg, sjlt\",\"offsetgroup\":\"pcg, sjlt\",\"orientation\":\"v\",\"showlegend\":false,\"texttemplate\":\"%{value:.2s}\",\"x\":[\"sjlt\"],\"xaxis\":\"x\",\"y\":[0.040375121999810894],\"yaxis\":\"y\",\"type\":\"histogram\",\"cliponaxis\":false,\"textangle\":0,\"textposition\":\"outside\"},{\"alignmentgroup\":\"True\",\"bingroup\":\"x\",\"histfunc\":\"sum\",\"hovertemplate\":\"method=pcg\\u003cbr\\u003esketch_fn=%{x}\\u003cbr\\u003en=4096\\u003cbr\\u003edeff=32\\u003cbr\\u003esum of time=%{y}\\u003cextra\\u003e\\u003c\\u002fextra\\u003e\",\"legendgroup\":\"pcg, sjlt\",\"marker\":{\"color\":\"#ab63fa\",\"pattern\":{\"shape\":\"\\u002f\"}},\"name\":\"pcg, sjlt\",\"offsetgroup\":\"pcg, sjlt\",\"orientation\":\"v\",\"showlegend\":false,\"texttemplate\":\"%{value:.2s}\",\"x\":[\"sjlt\"],\"xaxis\":\"x2\",\"y\":[0.03956053433345611],\"yaxis\":\"y2\",\"type\":\"histogram\",\"cliponaxis\":false,\"textangle\":0,\"textposition\":\"outside\"},{\"alignmentgroup\":\"True\",\"bingroup\":\"x\",\"histfunc\":\"sum\",\"hovertemplate\":\"method=pcg\\u003cbr\\u003esketch_fn=%{x}\\u003cbr\\u003en=2048\\u003cbr\\u003edeff=64\\u003cbr\\u003esum of time=%{y}\\u003cextra\\u003e\\u003c\\u002fextra\\u003e\",\"legendgroup\":\"pcg, srht\",\"marker\":{\"color\":\"#ab63fa\",\"pattern\":{\"shape\":\"\\\\\"}},\"name\":\"pcg, srht\",\"offsetgroup\":\"pcg, srht\",\"orientation\":\"v\",\"showlegend\":true,\"texttemplate\":\"%{value:.2s}\",\"x\":[\"srht\"],\"xaxis\":\"x3\",\"y\":[0.029732855666679825],\"yaxis\":\"y3\",\"type\":\"histogram\",\"cliponaxis\":false,\"textangle\":0,\"textposition\":\"outside\"},{\"alignmentgroup\":\"True\",\"bingroup\":\"x\",\"histfunc\":\"sum\",\"hovertemplate\":\"method=pcg\\u003cbr\\u003esketch_fn=%{x}\\u003cbr\\u003en=2048\\u003cbr\\u003edeff=32\\u003cbr\\u003esum of time=%{y}\\u003cextra\\u003e\\u003c\\u002fextra\\u003e\",\"legendgroup\":\"pcg, srht\",\"marker\":{\"color\":\"#ab63fa\",\"pattern\":{\"shape\":\"\\\\\"}},\"name\":\"pcg, srht\",\"offsetgroup\":\"pcg, srht\",\"orientation\":\"v\",\"showlegend\":false,\"texttemplate\":\"%{value:.2s}\",\"x\":[\"srht\"],\"xaxis\":\"x4\",\"y\":[0.05227428833332699],\"yaxis\":\"y4\",\"type\":\"histogram\",\"cliponaxis\":false,\"textangle\":0,\"textposition\":\"outside\"},{\"alignmentgroup\":\"True\",\"bingroup\":\"x\",\"histfunc\":\"sum\",\"hovertemplate\":\"method=pcg\\u003cbr\\u003esketch_fn=%{x}\\u003cbr\\u003en=4096\\u003cbr\\u003edeff=64\\u003cbr\\u003esum of time=%{y}\\u003cextra\\u003e\\u003c\\u002fextra\\u003e\",\"legendgroup\":\"pcg, srht\",\"marker\":{\"color\":\"#ab63fa\",\"pattern\":{\"shape\":\"\\\\\"}},\"name\":\"pcg, srht\",\"offsetgroup\":\"pcg, srht\",\"orientation\":\"v\",\"showlegend\":false,\"texttemplate\":\"%{value:.2s}\",\"x\":[\"srht\"],\"xaxis\":\"x\",\"y\":[0.0339060563331562],\"yaxis\":\"y\",\"type\":\"histogram\",\"cliponaxis\":false,\"textangle\":0,\"textposition\":\"outside\"},{\"alignmentgroup\":\"True\",\"bingroup\":\"x\",\"histfunc\":\"sum\",\"hovertemplate\":\"method=pcg\\u003cbr\\u003esketch_fn=%{x}\\u003cbr\\u003en=4096\\u003cbr\\u003edeff=32\\u003cbr\\u003esum of time=%{y}\\u003cextra\\u003e\\u003c\\u002fextra\\u003e\",\"legendgroup\":\"pcg, srht\",\"marker\":{\"color\":\"#ab63fa\",\"pattern\":{\"shape\":\"\\\\\"}},\"name\":\"pcg, srht\",\"offsetgroup\":\"pcg, srht\",\"orientation\":\"v\",\"showlegend\":false,\"texttemplate\":\"%{value:.2s}\",\"x\":[\"srht\"],\"xaxis\":\"x2\",\"y\":[0.03323355166655043],\"yaxis\":\"y2\",\"type\":\"histogram\",\"cliponaxis\":false,\"textangle\":0,\"textposition\":\"outside\"}],                        {\"template\":{\"data\":{\"histogram2dcontour\":[{\"type\":\"histogram2dcontour\",\"colorbar\":{\"outlinewidth\":0,\"ticks\":\"\"},\"colorscale\":[[0.0,\"#0d0887\"],[0.1111111111111111,\"#46039f\"],[0.2222222222222222,\"#7201a8\"],[0.3333333333333333,\"#9c179e\"],[0.4444444444444444,\"#bd3786\"],[0.5555555555555556,\"#d8576b\"],[0.6666666666666666,\"#ed7953\"],[0.7777777777777778,\"#fb9f3a\"],[0.8888888888888888,\"#fdca26\"],[1.0,\"#f0f921\"]]}],\"choropleth\":[{\"type\":\"choropleth\",\"colorbar\":{\"outlinewidth\":0,\"ticks\":\"\"}}],\"histogram2d\":[{\"type\":\"histogram2d\",\"colorbar\":{\"outlinewidth\":0,\"ticks\":\"\"},\"colorscale\":[[0.0,\"#0d0887\"],[0.1111111111111111,\"#46039f\"],[0.2222222222222222,\"#7201a8\"],[0.3333333333333333,\"#9c179e\"],[0.4444444444444444,\"#bd3786\"],[0.5555555555555556,\"#d8576b\"],[0.6666666666666666,\"#ed7953\"],[0.7777777777777778,\"#fb9f3a\"],[0.8888888888888888,\"#fdca26\"],[1.0,\"#f0f921\"]]}],\"heatmap\":[{\"type\":\"heatmap\",\"colorbar\":{\"outlinewidth\":0,\"ticks\":\"\"},\"colorscale\":[[0.0,\"#0d0887\"],[0.1111111111111111,\"#46039f\"],[0.2222222222222222,\"#7201a8\"],[0.3333333333333333,\"#9c179e\"],[0.4444444444444444,\"#bd3786\"],[0.5555555555555556,\"#d8576b\"],[0.6666666666666666,\"#ed7953\"],[0.7777777777777778,\"#fb9f3a\"],[0.8888888888888888,\"#fdca26\"],[1.0,\"#f0f921\"]]}],\"heatmapgl\":[{\"type\":\"heatmapgl\",\"colorbar\":{\"outlinewidth\":0,\"ticks\":\"\"},\"colorscale\":[[0.0,\"#0d0887\"],[0.1111111111111111,\"#46039f\"],[0.2222222222222222,\"#7201a8\"],[0.3333333333333333,\"#9c179e\"],[0.4444444444444444,\"#bd3786\"],[0.5555555555555556,\"#d8576b\"],[0.6666666666666666,\"#ed7953\"],[0.7777777777777778,\"#fb9f3a\"],[0.8888888888888888,\"#fdca26\"],[1.0,\"#f0f921\"]]}],\"contourcarpet\":[{\"type\":\"contourcarpet\",\"colorbar\":{\"outlinewidth\":0,\"ticks\":\"\"}}],\"contour\":[{\"type\":\"contour\",\"colorbar\":{\"outlinewidth\":0,\"ticks\":\"\"},\"colorscale\":[[0.0,\"#0d0887\"],[0.1111111111111111,\"#46039f\"],[0.2222222222222222,\"#7201a8\"],[0.3333333333333333,\"#9c179e\"],[0.4444444444444444,\"#bd3786\"],[0.5555555555555556,\"#d8576b\"],[0.6666666666666666,\"#ed7953\"],[0.7777777777777778,\"#fb9f3a\"],[0.8888888888888888,\"#fdca26\"],[1.0,\"#f0f921\"]]}],\"surface\":[{\"type\":\"surface\",\"colorbar\":{\"outlinewidth\":0,\"ticks\":\"\"},\"colorscale\":[[0.0,\"#0d0887\"],[0.1111111111111111,\"#46039f\"],[0.2222222222222222,\"#7201a8\"],[0.3333333333333333,\"#9c179e\"],[0.4444444444444444,\"#bd3786\"],[0.5555555555555556,\"#d8576b\"],[0.6666666666666666,\"#ed7953\"],[0.7777777777777778,\"#fb9f3a\"],[0.8888888888888888,\"#fdca26\"],[1.0,\"#f0f921\"]]}],\"mesh3d\":[{\"type\":\"mesh3d\",\"colorbar\":{\"outlinewidth\":0,\"ticks\":\"\"}}],\"scatter\":[{\"fillpattern\":{\"fillmode\":\"overlay\",\"size\":10,\"solidity\":0.2},\"type\":\"scatter\"}],\"parcoords\":[{\"type\":\"parcoords\",\"line\":{\"colorbar\":{\"outlinewidth\":0,\"ticks\":\"\"}}}],\"scatterpolargl\":[{\"type\":\"scatterpolargl\",\"marker\":{\"colorbar\":{\"outlinewidth\":0,\"ticks\":\"\"}}}],\"bar\":[{\"error_x\":{\"color\":\"#2a3f5f\"},\"error_y\":{\"color\":\"#2a3f5f\"},\"marker\":{\"line\":{\"color\":\"#E5ECF6\",\"width\":0.5},\"pattern\":{\"fillmode\":\"overlay\",\"size\":10,\"solidity\":0.2}},\"type\":\"bar\"}],\"scattergeo\":[{\"type\":\"scattergeo\",\"marker\":{\"colorbar\":{\"outlinewidth\":0,\"ticks\":\"\"}}}],\"scatterpolar\":[{\"type\":\"scatterpolar\",\"marker\":{\"colorbar\":{\"outlinewidth\":0,\"ticks\":\"\"}}}],\"histogram\":[{\"marker\":{\"pattern\":{\"fillmode\":\"overlay\",\"size\":10,\"solidity\":0.2}},\"type\":\"histogram\"}],\"scattergl\":[{\"type\":\"scattergl\",\"marker\":{\"colorbar\":{\"outlinewidth\":0,\"ticks\":\"\"}}}],\"scatter3d\":[{\"type\":\"scatter3d\",\"line\":{\"colorbar\":{\"outlinewidth\":0,\"ticks\":\"\"}},\"marker\":{\"colorbar\":{\"outlinewidth\":0,\"ticks\":\"\"}}}],\"scattermapbox\":[{\"type\":\"scattermapbox\",\"marker\":{\"colorbar\":{\"outlinewidth\":0,\"ticks\":\"\"}}}],\"scatterternary\":[{\"type\":\"scatterternary\",\"marker\":{\"colorbar\":{\"outlinewidth\":0,\"ticks\":\"\"}}}],\"scattercarpet\":[{\"type\":\"scattercarpet\",\"marker\":{\"colorbar\":{\"outlinewidth\":0,\"ticks\":\"\"}}}],\"carpet\":[{\"aaxis\":{\"endlinecolor\":\"#2a3f5f\",\"gridcolor\":\"white\",\"linecolor\":\"white\",\"minorgridcolor\":\"white\",\"startlinecolor\":\"#2a3f5f\"},\"baxis\":{\"endlinecolor\":\"#2a3f5f\",\"gridcolor\":\"white\",\"linecolor\":\"white\",\"minorgridcolor\":\"white\",\"startlinecolor\":\"#2a3f5f\"},\"type\":\"carpet\"}],\"table\":[{\"cells\":{\"fill\":{\"color\":\"#EBF0F8\"},\"line\":{\"color\":\"white\"}},\"header\":{\"fill\":{\"color\":\"#C8D4E3\"},\"line\":{\"color\":\"white\"}},\"type\":\"table\"}],\"barpolar\":[{\"marker\":{\"line\":{\"color\":\"#E5ECF6\",\"width\":0.5},\"pattern\":{\"fillmode\":\"overlay\",\"size\":10,\"solidity\":0.2}},\"type\":\"barpolar\"}],\"pie\":[{\"automargin\":true,\"type\":\"pie\"}]},\"layout\":{\"autotypenumbers\":\"strict\",\"colorway\":[\"#636efa\",\"#EF553B\",\"#00cc96\",\"#ab63fa\",\"#FFA15A\",\"#19d3f3\",\"#FF6692\",\"#B6E880\",\"#FF97FF\",\"#FECB52\"],\"font\":{\"color\":\"#2a3f5f\"},\"hovermode\":\"closest\",\"hoverlabel\":{\"align\":\"left\"},\"paper_bgcolor\":\"white\",\"plot_bgcolor\":\"#E5ECF6\",\"polar\":{\"bgcolor\":\"#E5ECF6\",\"angularaxis\":{\"gridcolor\":\"white\",\"linecolor\":\"white\",\"ticks\":\"\"},\"radialaxis\":{\"gridcolor\":\"white\",\"linecolor\":\"white\",\"ticks\":\"\"}},\"ternary\":{\"bgcolor\":\"#E5ECF6\",\"aaxis\":{\"gridcolor\":\"white\",\"linecolor\":\"white\",\"ticks\":\"\"},\"baxis\":{\"gridcolor\":\"white\",\"linecolor\":\"white\",\"ticks\":\"\"},\"caxis\":{\"gridcolor\":\"white\",\"linecolor\":\"white\",\"ticks\":\"\"}},\"coloraxis\":{\"colorbar\":{\"outlinewidth\":0,\"ticks\":\"\"}},\"colorscale\":{\"sequential\":[[0.0,\"#0d0887\"],[0.1111111111111111,\"#46039f\"],[0.2222222222222222,\"#7201a8\"],[0.3333333333333333,\"#9c179e\"],[0.4444444444444444,\"#bd3786\"],[0.5555555555555556,\"#d8576b\"],[0.6666666666666666,\"#ed7953\"],[0.7777777777777778,\"#fb9f3a\"],[0.8888888888888888,\"#fdca26\"],[1.0,\"#f0f921\"]],\"sequentialminus\":[[0.0,\"#0d0887\"],[0.1111111111111111,\"#46039f\"],[0.2222222222222222,\"#7201a8\"],[0.3333333333333333,\"#9c179e\"],[0.4444444444444444,\"#bd3786\"],[0.5555555555555556,\"#d8576b\"],[0.6666666666666666,\"#ed7953\"],[0.7777777777777778,\"#fb9f3a\"],[0.8888888888888888,\"#fdca26\"],[1.0,\"#f0f921\"]],\"diverging\":[[0,\"#8e0152\"],[0.1,\"#c51b7d\"],[0.2,\"#de77ae\"],[0.3,\"#f1b6da\"],[0.4,\"#fde0ef\"],[0.5,\"#f7f7f7\"],[0.6,\"#e6f5d0\"],[0.7,\"#b8e186\"],[0.8,\"#7fbc41\"],[0.9,\"#4d9221\"],[1,\"#276419\"]]},\"xaxis\":{\"gridcolor\":\"white\",\"linecolor\":\"white\",\"ticks\":\"\",\"title\":{\"standoff\":15},\"zerolinecolor\":\"white\",\"automargin\":true,\"zerolinewidth\":2},\"yaxis\":{\"gridcolor\":\"white\",\"linecolor\":\"white\",\"ticks\":\"\",\"title\":{\"standoff\":15},\"zerolinecolor\":\"white\",\"automargin\":true,\"zerolinewidth\":2},\"scene\":{\"xaxis\":{\"backgroundcolor\":\"#E5ECF6\",\"gridcolor\":\"white\",\"linecolor\":\"white\",\"showbackground\":true,\"ticks\":\"\",\"zerolinecolor\":\"white\",\"gridwidth\":2},\"yaxis\":{\"backgroundcolor\":\"#E5ECF6\",\"gridcolor\":\"white\",\"linecolor\":\"white\",\"showbackground\":true,\"ticks\":\"\",\"zerolinecolor\":\"white\",\"gridwidth\":2},\"zaxis\":{\"backgroundcolor\":\"#E5ECF6\",\"gridcolor\":\"white\",\"linecolor\":\"white\",\"showbackground\":true,\"ticks\":\"\",\"zerolinecolor\":\"white\",\"gridwidth\":2}},\"shapedefaults\":{\"line\":{\"color\":\"#2a3f5f\"}},\"annotationdefaults\":{\"arrowcolor\":\"#2a3f5f\",\"arrowhead\":0,\"arrowwidth\":1},\"geo\":{\"bgcolor\":\"white\",\"landcolor\":\"#E5ECF6\",\"subunitcolor\":\"white\",\"showland\":true,\"showlakes\":true,\"lakecolor\":\"white\"},\"title\":{\"x\":0.05},\"mapbox\":{\"style\":\"light\"}}},\"xaxis\":{\"anchor\":\"y\",\"domain\":[0.0,0.48],\"title\":{\"text\":\"sketch_fn\"},\"categoryorder\":\"array\",\"categoryarray\":[\"gaussian\",\"sjlt\",\"srht\",\"none\"]},\"yaxis\":{\"anchor\":\"x\",\"domain\":[0.0,0.485],\"title\":{\"text\":\"sum of time\"}},\"xaxis2\":{\"anchor\":\"y2\",\"domain\":[0.5,0.98],\"matches\":\"x\",\"title\":{\"text\":\"sketch_fn\"},\"categoryorder\":\"array\",\"categoryarray\":[\"gaussian\",\"sjlt\",\"srht\",\"none\"]},\"yaxis2\":{\"anchor\":\"x2\",\"domain\":[0.0,0.485],\"matches\":\"y\",\"showticklabels\":false},\"xaxis3\":{\"anchor\":\"y3\",\"domain\":[0.0,0.48],\"matches\":\"x\",\"showticklabels\":false},\"yaxis3\":{\"anchor\":\"x3\",\"domain\":[0.515,1.0],\"matches\":\"y\",\"title\":{\"text\":\"sum of time\"}},\"xaxis4\":{\"anchor\":\"y4\",\"domain\":[0.5,0.98],\"matches\":\"x\",\"showticklabels\":false},\"yaxis4\":{\"anchor\":\"x4\",\"domain\":[0.515,1.0],\"matches\":\"y\",\"showticklabels\":false},\"annotations\":[{\"font\":{},\"showarrow\":false,\"text\":\"deff=64\",\"x\":0.24,\"xanchor\":\"center\",\"xref\":\"paper\",\"y\":1.0,\"yanchor\":\"bottom\",\"yref\":\"paper\"},{\"font\":{},\"showarrow\":false,\"text\":\"deff=32\",\"x\":0.74,\"xanchor\":\"center\",\"xref\":\"paper\",\"y\":1.0,\"yanchor\":\"bottom\",\"yref\":\"paper\"},{\"font\":{},\"showarrow\":false,\"text\":\"n=4096\",\"textangle\":90,\"x\":0.98,\"xanchor\":\"left\",\"xref\":\"paper\",\"y\":0.2425,\"yanchor\":\"middle\",\"yref\":\"paper\"},{\"font\":{},\"showarrow\":false,\"text\":\"n=2048\",\"textangle\":90,\"x\":0.98,\"xanchor\":\"left\",\"xref\":\"paper\",\"y\":0.7575000000000001,\"yanchor\":\"middle\",\"yref\":\"paper\"}],\"legend\":{\"title\":{\"text\":\"method, sketch_fn\"},\"tracegroupgap\":0},\"margin\":{\"t\":60},\"barmode\":\"group\",\"height\":700},                        {\"responsive\": true}                    ).then(function(){\n",
       "                            \n",
       "var gd = document.getElementById('779e7d31-58b3-472b-8082-9f4487d92ff7');\n",
       "var x = new MutationObserver(function (mutations, observer) {{\n",
       "        var display = window.getComputedStyle(gd).display;\n",
       "        if (!display || display === 'none') {{\n",
       "            console.log([gd, 'removed!']);\n",
       "            Plotly.purge(gd);\n",
       "            observer.disconnect();\n",
       "        }}\n",
       "}});\n",
       "\n",
       "// Listen for the removal of the full notebook cells\n",
       "var notebookContainer = gd.closest('#notebook-container');\n",
       "if (notebookContainer) {{\n",
       "    x.observe(notebookContainer, {childList: true});\n",
       "}}\n",
       "\n",
       "// Listen for the clearing of the current output cell\n",
       "var outputEl = gd.closest('.output');\n",
       "if (outputEl) {{\n",
       "    x.observe(outputEl, {childList: true});\n",
       "}}\n",
       "\n",
       "                        })                };                });            </script>        </div>"
      ]
     },
     "metadata": {},
     "output_type": "display_data"
    },
    {
     "name": "stdout",
     "output_type": "stream",
     "text": [
      "d=128\n"
     ]
    },
    {
     "data": {
      "application/vnd.plotly.v1+json": {
       "config": {
        "plotlyServerURL": "https://plot.ly"
       },
       "data": [
        {
         "alignmentgroup": "True",
         "bingroup": "x",
         "cliponaxis": false,
         "histfunc": "sum",
         "hovertemplate": "method=adacg<br>sketch_fn=%{x}<br>n=2048<br>deff=32<br>sum of time=%{y}<extra></extra>",
         "legendgroup": "adacg, gaussian",
         "marker": {
          "color": "#636efa",
          "pattern": {
           "shape": ""
          }
         },
         "name": "adacg, gaussian",
         "offsetgroup": "adacg, gaussian",
         "orientation": "v",
         "showlegend": true,
         "textangle": 0,
         "textposition": "outside",
         "texttemplate": "%{value:.2s}",
         "type": "histogram",
         "x": [
          "gaussian"
         ],
         "xaxis": "x4",
         "y": [
          0.00585887099998672
         ],
         "yaxis": "y4"
        },
        {
         "alignmentgroup": "True",
         "bingroup": "x",
         "cliponaxis": false,
         "histfunc": "sum",
         "hovertemplate": "method=adacg<br>sketch_fn=%{x}<br>n=2048<br>deff=64<br>sum of time=%{y}<extra></extra>",
         "legendgroup": "adacg, gaussian",
         "marker": {
          "color": "#636efa",
          "pattern": {
           "shape": ""
          }
         },
         "name": "adacg, gaussian",
         "offsetgroup": "adacg, gaussian",
         "orientation": "v",
         "showlegend": false,
         "textangle": 0,
         "textposition": "outside",
         "texttemplate": "%{value:.2s}",
         "type": "histogram",
         "x": [
          "gaussian"
         ],
         "xaxis": "x5",
         "y": [
          0.005908750333333046
         ],
         "yaxis": "y5"
        },
        {
         "alignmentgroup": "True",
         "bingroup": "x",
         "cliponaxis": false,
         "histfunc": "sum",
         "hovertemplate": "method=adacg<br>sketch_fn=%{x}<br>n=2048<br>deff=128<br>sum of time=%{y}<extra></extra>",
         "legendgroup": "adacg, gaussian",
         "marker": {
          "color": "#636efa",
          "pattern": {
           "shape": ""
          }
         },
         "name": "adacg, gaussian",
         "offsetgroup": "adacg, gaussian",
         "orientation": "v",
         "showlegend": false,
         "textangle": 0,
         "textposition": "outside",
         "texttemplate": "%{value:.2s}",
         "type": "histogram",
         "x": [
          "gaussian"
         ],
         "xaxis": "x6",
         "y": [
          0.006741254666697689
         ],
         "yaxis": "y6"
        },
        {
         "alignmentgroup": "True",
         "bingroup": "x",
         "cliponaxis": false,
         "histfunc": "sum",
         "hovertemplate": "method=adacg<br>sketch_fn=%{x}<br>n=4096<br>deff=32<br>sum of time=%{y}<extra></extra>",
         "legendgroup": "adacg, gaussian",
         "marker": {
          "color": "#636efa",
          "pattern": {
           "shape": ""
          }
         },
         "name": "adacg, gaussian",
         "offsetgroup": "adacg, gaussian",
         "orientation": "v",
         "showlegend": false,
         "textangle": 0,
         "textposition": "outside",
         "texttemplate": "%{value:.2s}",
         "type": "histogram",
         "x": [
          "gaussian"
         ],
         "xaxis": "x",
         "y": [
          0.008923502666827213
         ],
         "yaxis": "y"
        },
        {
         "alignmentgroup": "True",
         "bingroup": "x",
         "cliponaxis": false,
         "histfunc": "sum",
         "hovertemplate": "method=adacg<br>sketch_fn=%{x}<br>n=4096<br>deff=64<br>sum of time=%{y}<extra></extra>",
         "legendgroup": "adacg, gaussian",
         "marker": {
          "color": "#636efa",
          "pattern": {
           "shape": ""
          }
         },
         "name": "adacg, gaussian",
         "offsetgroup": "adacg, gaussian",
         "orientation": "v",
         "showlegend": false,
         "textangle": 0,
         "textposition": "outside",
         "texttemplate": "%{value:.2s}",
         "type": "histogram",
         "x": [
          "gaussian"
         ],
         "xaxis": "x2",
         "y": [
          0.008448739666467493
         ],
         "yaxis": "y2"
        },
        {
         "alignmentgroup": "True",
         "bingroup": "x",
         "cliponaxis": false,
         "histfunc": "sum",
         "hovertemplate": "method=adacg<br>sketch_fn=%{x}<br>n=4096<br>deff=128<br>sum of time=%{y}<extra></extra>",
         "legendgroup": "adacg, gaussian",
         "marker": {
          "color": "#636efa",
          "pattern": {
           "shape": ""
          }
         },
         "name": "adacg, gaussian",
         "offsetgroup": "adacg, gaussian",
         "orientation": "v",
         "showlegend": false,
         "textangle": 0,
         "textposition": "outside",
         "texttemplate": "%{value:.2s}",
         "type": "histogram",
         "x": [
          "gaussian"
         ],
         "xaxis": "x3",
         "y": [
          0.008485158999974374
         ],
         "yaxis": "y3"
        },
        {
         "alignmentgroup": "True",
         "bingroup": "x",
         "cliponaxis": false,
         "histfunc": "sum",
         "hovertemplate": "method=adacg<br>sketch_fn=%{x}<br>n=2048<br>deff=32<br>sum of time=%{y}<extra></extra>",
         "legendgroup": "adacg, sjlt",
         "marker": {
          "color": "#636efa",
          "pattern": {
           "shape": "/"
          }
         },
         "name": "adacg, sjlt",
         "offsetgroup": "adacg, sjlt",
         "orientation": "v",
         "showlegend": true,
         "textangle": 0,
         "textposition": "outside",
         "texttemplate": "%{value:.2s}",
         "type": "histogram",
         "x": [
          "sjlt"
         ],
         "xaxis": "x4",
         "y": [
          0.005128756000033262
         ],
         "yaxis": "y4"
        },
        {
         "alignmentgroup": "True",
         "bingroup": "x",
         "cliponaxis": false,
         "histfunc": "sum",
         "hovertemplate": "method=adacg<br>sketch_fn=%{x}<br>n=2048<br>deff=64<br>sum of time=%{y}<extra></extra>",
         "legendgroup": "adacg, sjlt",
         "marker": {
          "color": "#636efa",
          "pattern": {
           "shape": "/"
          }
         },
         "name": "adacg, sjlt",
         "offsetgroup": "adacg, sjlt",
         "orientation": "v",
         "showlegend": false,
         "textangle": 0,
         "textposition": "outside",
         "texttemplate": "%{value:.2s}",
         "type": "histogram",
         "x": [
          "sjlt"
         ],
         "xaxis": "x5",
         "y": [
          0.0056448403333509605
         ],
         "yaxis": "y5"
        },
        {
         "alignmentgroup": "True",
         "bingroup": "x",
         "cliponaxis": false,
         "histfunc": "sum",
         "hovertemplate": "method=adacg<br>sketch_fn=%{x}<br>n=2048<br>deff=128<br>sum of time=%{y}<extra></extra>",
         "legendgroup": "adacg, sjlt",
         "marker": {
          "color": "#636efa",
          "pattern": {
           "shape": "/"
          }
         },
         "name": "adacg, sjlt",
         "offsetgroup": "adacg, sjlt",
         "orientation": "v",
         "showlegend": false,
         "textangle": 0,
         "textposition": "outside",
         "texttemplate": "%{value:.2s}",
         "type": "histogram",
         "x": [
          "sjlt"
         ],
         "xaxis": "x6",
         "y": [
          0.006036781333364161
         ],
         "yaxis": "y6"
        },
        {
         "alignmentgroup": "True",
         "bingroup": "x",
         "cliponaxis": false,
         "histfunc": "sum",
         "hovertemplate": "method=adacg<br>sketch_fn=%{x}<br>n=4096<br>deff=32<br>sum of time=%{y}<extra></extra>",
         "legendgroup": "adacg, sjlt",
         "marker": {
          "color": "#636efa",
          "pattern": {
           "shape": "/"
          }
         },
         "name": "adacg, sjlt",
         "offsetgroup": "adacg, sjlt",
         "orientation": "v",
         "showlegend": false,
         "textangle": 0,
         "textposition": "outside",
         "texttemplate": "%{value:.2s}",
         "type": "histogram",
         "x": [
          "sjlt"
         ],
         "xaxis": "x",
         "y": [
          0.006575119999979506
         ],
         "yaxis": "y"
        },
        {
         "alignmentgroup": "True",
         "bingroup": "x",
         "cliponaxis": false,
         "histfunc": "sum",
         "hovertemplate": "method=adacg<br>sketch_fn=%{x}<br>n=4096<br>deff=64<br>sum of time=%{y}<extra></extra>",
         "legendgroup": "adacg, sjlt",
         "marker": {
          "color": "#636efa",
          "pattern": {
           "shape": "/"
          }
         },
         "name": "adacg, sjlt",
         "offsetgroup": "adacg, sjlt",
         "orientation": "v",
         "showlegend": false,
         "textangle": 0,
         "textposition": "outside",
         "texttemplate": "%{value:.2s}",
         "type": "histogram",
         "x": [
          "sjlt"
         ],
         "xaxis": "x2",
         "y": [
          0.006925364999612308
         ],
         "yaxis": "y2"
        },
        {
         "alignmentgroup": "True",
         "bingroup": "x",
         "cliponaxis": false,
         "histfunc": "sum",
         "hovertemplate": "method=adacg<br>sketch_fn=%{x}<br>n=4096<br>deff=128<br>sum of time=%{y}<extra></extra>",
         "legendgroup": "adacg, sjlt",
         "marker": {
          "color": "#636efa",
          "pattern": {
           "shape": "/"
          }
         },
         "name": "adacg, sjlt",
         "offsetgroup": "adacg, sjlt",
         "orientation": "v",
         "showlegend": false,
         "textangle": 0,
         "textposition": "outside",
         "texttemplate": "%{value:.2s}",
         "type": "histogram",
         "x": [
          "sjlt"
         ],
         "xaxis": "x3",
         "y": [
          0.007292821666548358
         ],
         "yaxis": "y3"
        },
        {
         "alignmentgroup": "True",
         "bingroup": "x",
         "cliponaxis": false,
         "histfunc": "sum",
         "hovertemplate": "method=adacg<br>sketch_fn=%{x}<br>n=2048<br>deff=32<br>sum of time=%{y}<extra></extra>",
         "legendgroup": "adacg, srht",
         "marker": {
          "color": "#636efa",
          "pattern": {
           "shape": "\\"
          }
         },
         "name": "adacg, srht",
         "offsetgroup": "adacg, srht",
         "orientation": "v",
         "showlegend": true,
         "textangle": 0,
         "textposition": "outside",
         "texttemplate": "%{value:.2s}",
         "type": "histogram",
         "x": [
          "srht"
         ],
         "xaxis": "x4",
         "y": [
          0.006407275666655702
         ],
         "yaxis": "y4"
        },
        {
         "alignmentgroup": "True",
         "bingroup": "x",
         "cliponaxis": false,
         "histfunc": "sum",
         "hovertemplate": "method=adacg<br>sketch_fn=%{x}<br>n=2048<br>deff=64<br>sum of time=%{y}<extra></extra>",
         "legendgroup": "adacg, srht",
         "marker": {
          "color": "#636efa",
          "pattern": {
           "shape": "\\"
          }
         },
         "name": "adacg, srht",
         "offsetgroup": "adacg, srht",
         "orientation": "v",
         "showlegend": false,
         "textangle": 0,
         "textposition": "outside",
         "texttemplate": "%{value:.2s}",
         "type": "histogram",
         "x": [
          "srht"
         ],
         "xaxis": "x5",
         "y": [
          0.005384632666656822
         ],
         "yaxis": "y5"
        },
        {
         "alignmentgroup": "True",
         "bingroup": "x",
         "cliponaxis": false,
         "histfunc": "sum",
         "hovertemplate": "method=adacg<br>sketch_fn=%{x}<br>n=2048<br>deff=128<br>sum of time=%{y}<extra></extra>",
         "legendgroup": "adacg, srht",
         "marker": {
          "color": "#636efa",
          "pattern": {
           "shape": "\\"
          }
         },
         "name": "adacg, srht",
         "offsetgroup": "adacg, srht",
         "orientation": "v",
         "showlegend": false,
         "textangle": 0,
         "textposition": "outside",
         "texttemplate": "%{value:.2s}",
         "type": "histogram",
         "x": [
          "srht"
         ],
         "xaxis": "x6",
         "y": [
          0.005751974666623027
         ],
         "yaxis": "y6"
        },
        {
         "alignmentgroup": "True",
         "bingroup": "x",
         "cliponaxis": false,
         "histfunc": "sum",
         "hovertemplate": "method=adacg<br>sketch_fn=%{x}<br>n=4096<br>deff=32<br>sum of time=%{y}<extra></extra>",
         "legendgroup": "adacg, srht",
         "marker": {
          "color": "#636efa",
          "pattern": {
           "shape": "\\"
          }
         },
         "name": "adacg, srht",
         "offsetgroup": "adacg, srht",
         "orientation": "v",
         "showlegend": false,
         "textangle": 0,
         "textposition": "outside",
         "texttemplate": "%{value:.2s}",
         "type": "histogram",
         "x": [
          "srht"
         ],
         "xaxis": "x",
         "y": [
          0.00854385833372362
         ],
         "yaxis": "y"
        },
        {
         "alignmentgroup": "True",
         "bingroup": "x",
         "cliponaxis": false,
         "histfunc": "sum",
         "hovertemplate": "method=adacg<br>sketch_fn=%{x}<br>n=4096<br>deff=64<br>sum of time=%{y}<extra></extra>",
         "legendgroup": "adacg, srht",
         "marker": {
          "color": "#636efa",
          "pattern": {
           "shape": "\\"
          }
         },
         "name": "adacg, srht",
         "offsetgroup": "adacg, srht",
         "orientation": "v",
         "showlegend": false,
         "textangle": 0,
         "textposition": "outside",
         "texttemplate": "%{value:.2s}",
         "type": "histogram",
         "x": [
          "srht"
         ],
         "xaxis": "x2",
         "y": [
          0.008126186333659764
         ],
         "yaxis": "y2"
        },
        {
         "alignmentgroup": "True",
         "bingroup": "x",
         "cliponaxis": false,
         "histfunc": "sum",
         "hovertemplate": "method=adacg<br>sketch_fn=%{x}<br>n=4096<br>deff=128<br>sum of time=%{y}<extra></extra>",
         "legendgroup": "adacg, srht",
         "marker": {
          "color": "#636efa",
          "pattern": {
           "shape": "\\"
          }
         },
         "name": "adacg, srht",
         "offsetgroup": "adacg, srht",
         "orientation": "v",
         "showlegend": false,
         "textangle": 0,
         "textposition": "outside",
         "texttemplate": "%{value:.2s}",
         "type": "histogram",
         "x": [
          "srht"
         ],
         "xaxis": "x3",
         "y": [
          0.00847054066647009
         ],
         "yaxis": "y3"
        },
        {
         "alignmentgroup": "True",
         "bingroup": "x",
         "cliponaxis": false,
         "histfunc": "sum",
         "hovertemplate": "method=cg<br>sketch_fn=%{x}<br>n=2048<br>deff=32<br>sum of time=%{y}<extra></extra>",
         "legendgroup": "cg, none",
         "marker": {
          "color": "#EF553B",
          "pattern": {
           "shape": "x"
          }
         },
         "name": "cg, none",
         "offsetgroup": "cg, none",
         "orientation": "v",
         "showlegend": true,
         "textangle": 0,
         "textposition": "outside",
         "texttemplate": "%{value:.2s}",
         "type": "histogram",
         "x": [
          "none"
         ],
         "xaxis": "x4",
         "y": [
          0.0147051049999997
         ],
         "yaxis": "y4"
        },
        {
         "alignmentgroup": "True",
         "bingroup": "x",
         "cliponaxis": false,
         "histfunc": "sum",
         "hovertemplate": "method=cg<br>sketch_fn=%{x}<br>n=2048<br>deff=64<br>sum of time=%{y}<extra></extra>",
         "legendgroup": "cg, none",
         "marker": {
          "color": "#EF553B",
          "pattern": {
           "shape": "x"
          }
         },
         "name": "cg, none",
         "offsetgroup": "cg, none",
         "orientation": "v",
         "showlegend": false,
         "textangle": 0,
         "textposition": "outside",
         "texttemplate": "%{value:.2s}",
         "type": "histogram",
         "x": [
          "none"
         ],
         "xaxis": "x5",
         "y": [
          0.03259047866667212
         ],
         "yaxis": "y5"
        },
        {
         "alignmentgroup": "True",
         "bingroup": "x",
         "cliponaxis": false,
         "histfunc": "sum",
         "hovertemplate": "method=cg<br>sketch_fn=%{x}<br>n=2048<br>deff=128<br>sum of time=%{y}<extra></extra>",
         "legendgroup": "cg, none",
         "marker": {
          "color": "#EF553B",
          "pattern": {
           "shape": "x"
          }
         },
         "name": "cg, none",
         "offsetgroup": "cg, none",
         "orientation": "v",
         "showlegend": false,
         "textangle": 0,
         "textposition": "outside",
         "texttemplate": "%{value:.2s}",
         "type": "histogram",
         "x": [
          "none"
         ],
         "xaxis": "x6",
         "y": [
          0.09786718666665213
         ],
         "yaxis": "y6"
        },
        {
         "alignmentgroup": "True",
         "bingroup": "x",
         "cliponaxis": false,
         "histfunc": "sum",
         "hovertemplate": "method=cg<br>sketch_fn=%{x}<br>n=4096<br>deff=32<br>sum of time=%{y}<extra></extra>",
         "legendgroup": "cg, none",
         "marker": {
          "color": "#EF553B",
          "pattern": {
           "shape": "x"
          }
         },
         "name": "cg, none",
         "offsetgroup": "cg, none",
         "orientation": "v",
         "showlegend": false,
         "textangle": 0,
         "textposition": "outside",
         "texttemplate": "%{value:.2s}",
         "type": "histogram",
         "x": [
          "none"
         ],
         "xaxis": "x",
         "y": [
          0.018719731666957763
         ],
         "yaxis": "y"
        },
        {
         "alignmentgroup": "True",
         "bingroup": "x",
         "cliponaxis": false,
         "histfunc": "sum",
         "hovertemplate": "method=cg<br>sketch_fn=%{x}<br>n=4096<br>deff=64<br>sum of time=%{y}<extra></extra>",
         "legendgroup": "cg, none",
         "marker": {
          "color": "#EF553B",
          "pattern": {
           "shape": "x"
          }
         },
         "name": "cg, none",
         "offsetgroup": "cg, none",
         "orientation": "v",
         "showlegend": false,
         "textangle": 0,
         "textposition": "outside",
         "texttemplate": "%{value:.2s}",
         "type": "histogram",
         "x": [
          "none"
         ],
         "xaxis": "x2",
         "y": [
          0.041800221000206264
         ],
         "yaxis": "y2"
        },
        {
         "alignmentgroup": "True",
         "bingroup": "x",
         "cliponaxis": false,
         "histfunc": "sum",
         "hovertemplate": "method=cg<br>sketch_fn=%{x}<br>n=4096<br>deff=128<br>sum of time=%{y}<extra></extra>",
         "legendgroup": "cg, none",
         "marker": {
          "color": "#EF553B",
          "pattern": {
           "shape": "x"
          }
         },
         "name": "cg, none",
         "offsetgroup": "cg, none",
         "orientation": "v",
         "showlegend": false,
         "textangle": 0,
         "textposition": "outside",
         "texttemplate": "%{value:.2s}",
         "type": "histogram",
         "x": [
          "none"
         ],
         "xaxis": "x3",
         "y": [
          0.09348924433349262
         ],
         "yaxis": "y3"
        },
        {
         "alignmentgroup": "True",
         "bingroup": "x",
         "cliponaxis": false,
         "histfunc": "sum",
         "hovertemplate": "method=dm<br>sketch_fn=%{x}<br>n=2048<br>deff=32<br>sum of time=%{y}<extra></extra>",
         "legendgroup": "dm, none",
         "marker": {
          "color": "#00cc96",
          "pattern": {
           "shape": "x"
          }
         },
         "name": "dm, none",
         "offsetgroup": "dm, none",
         "orientation": "v",
         "showlegend": true,
         "textangle": 0,
         "textposition": "outside",
         "texttemplate": "%{value:.2s}",
         "type": "histogram",
         "x": [
          "none"
         ],
         "xaxis": "x4",
         "y": [
          0.001721267999982956
         ],
         "yaxis": "y4"
        },
        {
         "alignmentgroup": "True",
         "bingroup": "x",
         "cliponaxis": false,
         "histfunc": "sum",
         "hovertemplate": "method=dm<br>sketch_fn=%{x}<br>n=2048<br>deff=64<br>sum of time=%{y}<extra></extra>",
         "legendgroup": "dm, none",
         "marker": {
          "color": "#00cc96",
          "pattern": {
           "shape": "x"
          }
         },
         "name": "dm, none",
         "offsetgroup": "dm, none",
         "orientation": "v",
         "showlegend": false,
         "textangle": 0,
         "textposition": "outside",
         "texttemplate": "%{value:.2s}",
         "type": "histogram",
         "x": [
          "none"
         ],
         "xaxis": "x5",
         "y": [
          0.0017388420000088445
         ],
         "yaxis": "y5"
        },
        {
         "alignmentgroup": "True",
         "bingroup": "x",
         "cliponaxis": false,
         "histfunc": "sum",
         "hovertemplate": "method=dm<br>sketch_fn=%{x}<br>n=2048<br>deff=128<br>sum of time=%{y}<extra></extra>",
         "legendgroup": "dm, none",
         "marker": {
          "color": "#00cc96",
          "pattern": {
           "shape": "x"
          }
         },
         "name": "dm, none",
         "offsetgroup": "dm, none",
         "orientation": "v",
         "showlegend": false,
         "textangle": 0,
         "textposition": "outside",
         "texttemplate": "%{value:.2s}",
         "type": "histogram",
         "x": [
          "none"
         ],
         "xaxis": "x6",
         "y": [
          0.0017938429999730943
         ],
         "yaxis": "y6"
        },
        {
         "alignmentgroup": "True",
         "bingroup": "x",
         "cliponaxis": false,
         "histfunc": "sum",
         "hovertemplate": "method=dm<br>sketch_fn=%{x}<br>n=4096<br>deff=32<br>sum of time=%{y}<extra></extra>",
         "legendgroup": "dm, none",
         "marker": {
          "color": "#00cc96",
          "pattern": {
           "shape": "x"
          }
         },
         "name": "dm, none",
         "offsetgroup": "dm, none",
         "orientation": "v",
         "showlegend": false,
         "textangle": 0,
         "textposition": "outside",
         "texttemplate": "%{value:.2s}",
         "type": "histogram",
         "x": [
          "none"
         ],
         "xaxis": "x",
         "y": [
          0.002971293999507907
         ],
         "yaxis": "y"
        },
        {
         "alignmentgroup": "True",
         "bingroup": "x",
         "cliponaxis": false,
         "histfunc": "sum",
         "hovertemplate": "method=dm<br>sketch_fn=%{x}<br>n=4096<br>deff=64<br>sum of time=%{y}<extra></extra>",
         "legendgroup": "dm, none",
         "marker": {
          "color": "#00cc96",
          "pattern": {
           "shape": "x"
          }
         },
         "name": "dm, none",
         "offsetgroup": "dm, none",
         "orientation": "v",
         "showlegend": false,
         "textangle": 0,
         "textposition": "outside",
         "texttemplate": "%{value:.2s}",
         "type": "histogram",
         "x": [
          "none"
         ],
         "xaxis": "x2",
         "y": [
          0.002980498000397347
         ],
         "yaxis": "y2"
        },
        {
         "alignmentgroup": "True",
         "bingroup": "x",
         "cliponaxis": false,
         "histfunc": "sum",
         "hovertemplate": "method=dm<br>sketch_fn=%{x}<br>n=4096<br>deff=128<br>sum of time=%{y}<extra></extra>",
         "legendgroup": "dm, none",
         "marker": {
          "color": "#00cc96",
          "pattern": {
           "shape": "x"
          }
         },
         "name": "dm, none",
         "offsetgroup": "dm, none",
         "orientation": "v",
         "showlegend": false,
         "textangle": 0,
         "textposition": "outside",
         "texttemplate": "%{value:.2s}",
         "type": "histogram",
         "x": [
          "none"
         ],
         "xaxis": "x3",
         "y": [
          0.0029083899999022833
         ],
         "yaxis": "y3"
        },
        {
         "alignmentgroup": "True",
         "bingroup": "x",
         "cliponaxis": false,
         "histfunc": "sum",
         "hovertemplate": "method=pcg<br>sketch_fn=%{x}<br>n=2048<br>deff=32<br>sum of time=%{y}<extra></extra>",
         "legendgroup": "pcg, gaussian",
         "marker": {
          "color": "#ab63fa",
          "pattern": {
           "shape": ""
          }
         },
         "name": "pcg, gaussian",
         "offsetgroup": "pcg, gaussian",
         "orientation": "v",
         "showlegend": true,
         "textangle": 0,
         "textposition": "outside",
         "texttemplate": "%{value:.2s}",
         "type": "histogram",
         "x": [
          "gaussian"
         ],
         "xaxis": "x4",
         "y": [
          0.02448070299997577
         ],
         "yaxis": "y4"
        },
        {
         "alignmentgroup": "True",
         "bingroup": "x",
         "cliponaxis": false,
         "histfunc": "sum",
         "hovertemplate": "method=pcg<br>sketch_fn=%{x}<br>n=2048<br>deff=64<br>sum of time=%{y}<extra></extra>",
         "legendgroup": "pcg, gaussian",
         "marker": {
          "color": "#ab63fa",
          "pattern": {
           "shape": ""
          }
         },
         "name": "pcg, gaussian",
         "offsetgroup": "pcg, gaussian",
         "orientation": "v",
         "showlegend": false,
         "textangle": 0,
         "textposition": "outside",
         "texttemplate": "%{value:.2s}",
         "type": "histogram",
         "x": [
          "gaussian"
         ],
         "xaxis": "x5",
         "y": [
          0.0249798993333646
         ],
         "yaxis": "y5"
        },
        {
         "alignmentgroup": "True",
         "bingroup": "x",
         "cliponaxis": false,
         "histfunc": "sum",
         "hovertemplate": "method=pcg<br>sketch_fn=%{x}<br>n=2048<br>deff=128<br>sum of time=%{y}<extra></extra>",
         "legendgroup": "pcg, gaussian",
         "marker": {
          "color": "#ab63fa",
          "pattern": {
           "shape": ""
          }
         },
         "name": "pcg, gaussian",
         "offsetgroup": "pcg, gaussian",
         "orientation": "v",
         "showlegend": false,
         "textangle": 0,
         "textposition": "outside",
         "texttemplate": "%{value:.2s}",
         "type": "histogram",
         "x": [
          "gaussian"
         ],
         "xaxis": "x6",
         "y": [
          0.03192499900008745
         ],
         "yaxis": "y6"
        },
        {
         "alignmentgroup": "True",
         "bingroup": "x",
         "cliponaxis": false,
         "histfunc": "sum",
         "hovertemplate": "method=pcg<br>sketch_fn=%{x}<br>n=4096<br>deff=32<br>sum of time=%{y}<extra></extra>",
         "legendgroup": "pcg, gaussian",
         "marker": {
          "color": "#ab63fa",
          "pattern": {
           "shape": ""
          }
         },
         "name": "pcg, gaussian",
         "offsetgroup": "pcg, gaussian",
         "orientation": "v",
         "showlegend": false,
         "textangle": 0,
         "textposition": "outside",
         "texttemplate": "%{value:.2s}",
         "type": "histogram",
         "x": [
          "gaussian"
         ],
         "xaxis": "x",
         "y": [
          0.0485852833332198
         ],
         "yaxis": "y"
        },
        {
         "alignmentgroup": "True",
         "bingroup": "x",
         "cliponaxis": false,
         "histfunc": "sum",
         "hovertemplate": "method=pcg<br>sketch_fn=%{x}<br>n=4096<br>deff=64<br>sum of time=%{y}<extra></extra>",
         "legendgroup": "pcg, gaussian",
         "marker": {
          "color": "#ab63fa",
          "pattern": {
           "shape": ""
          }
         },
         "name": "pcg, gaussian",
         "offsetgroup": "pcg, gaussian",
         "orientation": "v",
         "showlegend": false,
         "textangle": 0,
         "textposition": "outside",
         "texttemplate": "%{value:.2s}",
         "type": "histogram",
         "x": [
          "gaussian"
         ],
         "xaxis": "x2",
         "y": [
          0.047250201999910736
         ],
         "yaxis": "y2"
        },
        {
         "alignmentgroup": "True",
         "bingroup": "x",
         "cliponaxis": false,
         "histfunc": "sum",
         "hovertemplate": "method=pcg<br>sketch_fn=%{x}<br>n=4096<br>deff=128<br>sum of time=%{y}<extra></extra>",
         "legendgroup": "pcg, gaussian",
         "marker": {
          "color": "#ab63fa",
          "pattern": {
           "shape": ""
          }
         },
         "name": "pcg, gaussian",
         "offsetgroup": "pcg, gaussian",
         "orientation": "v",
         "showlegend": false,
         "textangle": 0,
         "textposition": "outside",
         "texttemplate": "%{value:.2s}",
         "type": "histogram",
         "x": [
          "gaussian"
         ],
         "xaxis": "x3",
         "y": [
          0.04740870899968286
         ],
         "yaxis": "y3"
        },
        {
         "alignmentgroup": "True",
         "bingroup": "x",
         "cliponaxis": false,
         "histfunc": "sum",
         "hovertemplate": "method=pcg<br>sketch_fn=%{x}<br>n=2048<br>deff=32<br>sum of time=%{y}<extra></extra>",
         "legendgroup": "pcg, sjlt",
         "marker": {
          "color": "#ab63fa",
          "pattern": {
           "shape": "/"
          }
         },
         "name": "pcg, sjlt",
         "offsetgroup": "pcg, sjlt",
         "orientation": "v",
         "showlegend": true,
         "textangle": 0,
         "textposition": "outside",
         "texttemplate": "%{value:.2s}",
         "type": "histogram",
         "x": [
          "sjlt"
         ],
         "xaxis": "x4",
         "y": [
          0.022325694333327796
         ],
         "yaxis": "y4"
        },
        {
         "alignmentgroup": "True",
         "bingroup": "x",
         "cliponaxis": false,
         "histfunc": "sum",
         "hovertemplate": "method=pcg<br>sketch_fn=%{x}<br>n=2048<br>deff=64<br>sum of time=%{y}<extra></extra>",
         "legendgroup": "pcg, sjlt",
         "marker": {
          "color": "#ab63fa",
          "pattern": {
           "shape": "/"
          }
         },
         "name": "pcg, sjlt",
         "offsetgroup": "pcg, sjlt",
         "orientation": "v",
         "showlegend": false,
         "textangle": 0,
         "textposition": "outside",
         "texttemplate": "%{value:.2s}",
         "type": "histogram",
         "x": [
          "sjlt"
         ],
         "xaxis": "x5",
         "y": [
          0.02347826933331968
         ],
         "yaxis": "y5"
        },
        {
         "alignmentgroup": "True",
         "bingroup": "x",
         "cliponaxis": false,
         "histfunc": "sum",
         "hovertemplate": "method=pcg<br>sketch_fn=%{x}<br>n=2048<br>deff=128<br>sum of time=%{y}<extra></extra>",
         "legendgroup": "pcg, sjlt",
         "marker": {
          "color": "#ab63fa",
          "pattern": {
           "shape": "/"
          }
         },
         "name": "pcg, sjlt",
         "offsetgroup": "pcg, sjlt",
         "orientation": "v",
         "showlegend": false,
         "textangle": 0,
         "textposition": "outside",
         "texttemplate": "%{value:.2s}",
         "type": "histogram",
         "x": [
          "sjlt"
         ],
         "xaxis": "x6",
         "y": [
          0.03231963700000051
         ],
         "yaxis": "y6"
        },
        {
         "alignmentgroup": "True",
         "bingroup": "x",
         "cliponaxis": false,
         "histfunc": "sum",
         "hovertemplate": "method=pcg<br>sketch_fn=%{x}<br>n=4096<br>deff=32<br>sum of time=%{y}<extra></extra>",
         "legendgroup": "pcg, sjlt",
         "marker": {
          "color": "#ab63fa",
          "pattern": {
           "shape": "/"
          }
         },
         "name": "pcg, sjlt",
         "offsetgroup": "pcg, sjlt",
         "orientation": "v",
         "showlegend": false,
         "textangle": 0,
         "textposition": "outside",
         "texttemplate": "%{value:.2s}",
         "type": "histogram",
         "x": [
          "sjlt"
         ],
         "xaxis": "x",
         "y": [
          0.0415866279997014
         ],
         "yaxis": "y"
        },
        {
         "alignmentgroup": "True",
         "bingroup": "x",
         "cliponaxis": false,
         "histfunc": "sum",
         "hovertemplate": "method=pcg<br>sketch_fn=%{x}<br>n=4096<br>deff=64<br>sum of time=%{y}<extra></extra>",
         "legendgroup": "pcg, sjlt",
         "marker": {
          "color": "#ab63fa",
          "pattern": {
           "shape": "/"
          }
         },
         "name": "pcg, sjlt",
         "offsetgroup": "pcg, sjlt",
         "orientation": "v",
         "showlegend": false,
         "textangle": 0,
         "textposition": "outside",
         "texttemplate": "%{value:.2s}",
         "type": "histogram",
         "x": [
          "sjlt"
         ],
         "xaxis": "x2",
         "y": [
          0.04156229866657668
         ],
         "yaxis": "y2"
        },
        {
         "alignmentgroup": "True",
         "bingroup": "x",
         "cliponaxis": false,
         "histfunc": "sum",
         "hovertemplate": "method=pcg<br>sketch_fn=%{x}<br>n=4096<br>deff=128<br>sum of time=%{y}<extra></extra>",
         "legendgroup": "pcg, sjlt",
         "marker": {
          "color": "#ab63fa",
          "pattern": {
           "shape": "/"
          }
         },
         "name": "pcg, sjlt",
         "offsetgroup": "pcg, sjlt",
         "orientation": "v",
         "showlegend": false,
         "textangle": 0,
         "textposition": "outside",
         "texttemplate": "%{value:.2s}",
         "type": "histogram",
         "x": [
          "sjlt"
         ],
         "xaxis": "x3",
         "y": [
          0.042455017666725325
         ],
         "yaxis": "y3"
        },
        {
         "alignmentgroup": "True",
         "bingroup": "x",
         "cliponaxis": false,
         "histfunc": "sum",
         "hovertemplate": "method=pcg<br>sketch_fn=%{x}<br>n=2048<br>deff=32<br>sum of time=%{y}<extra></extra>",
         "legendgroup": "pcg, srht",
         "marker": {
          "color": "#ab63fa",
          "pattern": {
           "shape": "\\"
          }
         },
         "name": "pcg, srht",
         "offsetgroup": "pcg, srht",
         "orientation": "v",
         "showlegend": true,
         "textangle": 0,
         "textposition": "outside",
         "texttemplate": "%{value:.2s}",
         "type": "histogram",
         "x": [
          "srht"
         ],
         "xaxis": "x4",
         "y": [
          0.04460872433334846
         ],
         "yaxis": "y4"
        },
        {
         "alignmentgroup": "True",
         "bingroup": "x",
         "cliponaxis": false,
         "histfunc": "sum",
         "hovertemplate": "method=pcg<br>sketch_fn=%{x}<br>n=2048<br>deff=64<br>sum of time=%{y}<extra></extra>",
         "legendgroup": "pcg, srht",
         "marker": {
          "color": "#ab63fa",
          "pattern": {
           "shape": "\\"
          }
         },
         "name": "pcg, srht",
         "offsetgroup": "pcg, srht",
         "orientation": "v",
         "showlegend": false,
         "textangle": 0,
         "textposition": "outside",
         "texttemplate": "%{value:.2s}",
         "type": "histogram",
         "x": [
          "srht"
         ],
         "xaxis": "x5",
         "y": [
          0.04668155500000163
         ],
         "yaxis": "y5"
        },
        {
         "alignmentgroup": "True",
         "bingroup": "x",
         "cliponaxis": false,
         "histfunc": "sum",
         "hovertemplate": "method=pcg<br>sketch_fn=%{x}<br>n=2048<br>deff=128<br>sum of time=%{y}<extra></extra>",
         "legendgroup": "pcg, srht",
         "marker": {
          "color": "#ab63fa",
          "pattern": {
           "shape": "\\"
          }
         },
         "name": "pcg, srht",
         "offsetgroup": "pcg, srht",
         "orientation": "v",
         "showlegend": false,
         "textangle": 0,
         "textposition": "outside",
         "texttemplate": "%{value:.2s}",
         "type": "histogram",
         "x": [
          "srht"
         ],
         "xaxis": "x6",
         "y": [
          0.05924949099998381
         ],
         "yaxis": "y6"
        },
        {
         "alignmentgroup": "True",
         "bingroup": "x",
         "cliponaxis": false,
         "histfunc": "sum",
         "hovertemplate": "method=pcg<br>sketch_fn=%{x}<br>n=4096<br>deff=32<br>sum of time=%{y}<extra></extra>",
         "legendgroup": "pcg, srht",
         "marker": {
          "color": "#ab63fa",
          "pattern": {
           "shape": "\\"
          }
         },
         "name": "pcg, srht",
         "offsetgroup": "pcg, srht",
         "orientation": "v",
         "showlegend": false,
         "textangle": 0,
         "textposition": "outside",
         "texttemplate": "%{value:.2s}",
         "type": "histogram",
         "x": [
          "srht"
         ],
         "xaxis": "x",
         "y": [
          0.05878298466692892
         ],
         "yaxis": "y"
        },
        {
         "alignmentgroup": "True",
         "bingroup": "x",
         "cliponaxis": false,
         "histfunc": "sum",
         "hovertemplate": "method=pcg<br>sketch_fn=%{x}<br>n=4096<br>deff=64<br>sum of time=%{y}<extra></extra>",
         "legendgroup": "pcg, srht",
         "marker": {
          "color": "#ab63fa",
          "pattern": {
           "shape": "\\"
          }
         },
         "name": "pcg, srht",
         "offsetgroup": "pcg, srht",
         "orientation": "v",
         "showlegend": false,
         "textangle": 0,
         "textposition": "outside",
         "texttemplate": "%{value:.2s}",
         "type": "histogram",
         "x": [
          "srht"
         ],
         "xaxis": "x2",
         "y": [
          0.06708787433368948
         ],
         "yaxis": "y2"
        },
        {
         "alignmentgroup": "True",
         "bingroup": "x",
         "cliponaxis": false,
         "histfunc": "sum",
         "hovertemplate": "method=pcg<br>sketch_fn=%{x}<br>n=4096<br>deff=128<br>sum of time=%{y}<extra></extra>",
         "legendgroup": "pcg, srht",
         "marker": {
          "color": "#ab63fa",
          "pattern": {
           "shape": "\\"
          }
         },
         "name": "pcg, srht",
         "offsetgroup": "pcg, srht",
         "orientation": "v",
         "showlegend": false,
         "textangle": 0,
         "textposition": "outside",
         "texttemplate": "%{value:.2s}",
         "type": "histogram",
         "x": [
          "srht"
         ],
         "xaxis": "x3",
         "y": [
          0.059386377333491204
         ],
         "yaxis": "y3"
        }
       ],
       "layout": {
        "annotations": [
         {
          "font": {},
          "showarrow": false,
          "text": "deff=32",
          "x": 0.15666666666666665,
          "xanchor": "center",
          "xref": "paper",
          "y": 1,
          "yanchor": "bottom",
          "yref": "paper"
         },
         {
          "font": {},
          "showarrow": false,
          "text": "deff=64",
          "x": 0.49,
          "xanchor": "center",
          "xref": "paper",
          "y": 1,
          "yanchor": "bottom",
          "yref": "paper"
         },
         {
          "font": {},
          "showarrow": false,
          "text": "deff=128",
          "x": 0.8233333333333333,
          "xanchor": "center",
          "xref": "paper",
          "y": 1,
          "yanchor": "bottom",
          "yref": "paper"
         },
         {
          "font": {},
          "showarrow": false,
          "text": "n=4096",
          "textangle": 90,
          "x": 0.98,
          "xanchor": "left",
          "xref": "paper",
          "y": 0.2425,
          "yanchor": "middle",
          "yref": "paper"
         },
         {
          "font": {},
          "showarrow": false,
          "text": "n=2048",
          "textangle": 90,
          "x": 0.98,
          "xanchor": "left",
          "xref": "paper",
          "y": 0.7575000000000001,
          "yanchor": "middle",
          "yref": "paper"
         }
        ],
        "barmode": "group",
        "height": 700,
        "legend": {
         "title": {
          "text": "method, sketch_fn"
         },
         "tracegroupgap": 0
        },
        "margin": {
         "t": 60
        },
        "template": {
         "data": {
          "bar": [
           {
            "error_x": {
             "color": "#2a3f5f"
            },
            "error_y": {
             "color": "#2a3f5f"
            },
            "marker": {
             "line": {
              "color": "#E5ECF6",
              "width": 0.5
             },
             "pattern": {
              "fillmode": "overlay",
              "size": 10,
              "solidity": 0.2
             }
            },
            "type": "bar"
           }
          ],
          "barpolar": [
           {
            "marker": {
             "line": {
              "color": "#E5ECF6",
              "width": 0.5
             },
             "pattern": {
              "fillmode": "overlay",
              "size": 10,
              "solidity": 0.2
             }
            },
            "type": "barpolar"
           }
          ],
          "carpet": [
           {
            "aaxis": {
             "endlinecolor": "#2a3f5f",
             "gridcolor": "white",
             "linecolor": "white",
             "minorgridcolor": "white",
             "startlinecolor": "#2a3f5f"
            },
            "baxis": {
             "endlinecolor": "#2a3f5f",
             "gridcolor": "white",
             "linecolor": "white",
             "minorgridcolor": "white",
             "startlinecolor": "#2a3f5f"
            },
            "type": "carpet"
           }
          ],
          "choropleth": [
           {
            "colorbar": {
             "outlinewidth": 0,
             "ticks": ""
            },
            "type": "choropleth"
           }
          ],
          "contour": [
           {
            "colorbar": {
             "outlinewidth": 0,
             "ticks": ""
            },
            "colorscale": [
             [
              0,
              "#0d0887"
             ],
             [
              0.1111111111111111,
              "#46039f"
             ],
             [
              0.2222222222222222,
              "#7201a8"
             ],
             [
              0.3333333333333333,
              "#9c179e"
             ],
             [
              0.4444444444444444,
              "#bd3786"
             ],
             [
              0.5555555555555556,
              "#d8576b"
             ],
             [
              0.6666666666666666,
              "#ed7953"
             ],
             [
              0.7777777777777778,
              "#fb9f3a"
             ],
             [
              0.8888888888888888,
              "#fdca26"
             ],
             [
              1,
              "#f0f921"
             ]
            ],
            "type": "contour"
           }
          ],
          "contourcarpet": [
           {
            "colorbar": {
             "outlinewidth": 0,
             "ticks": ""
            },
            "type": "contourcarpet"
           }
          ],
          "heatmap": [
           {
            "colorbar": {
             "outlinewidth": 0,
             "ticks": ""
            },
            "colorscale": [
             [
              0,
              "#0d0887"
             ],
             [
              0.1111111111111111,
              "#46039f"
             ],
             [
              0.2222222222222222,
              "#7201a8"
             ],
             [
              0.3333333333333333,
              "#9c179e"
             ],
             [
              0.4444444444444444,
              "#bd3786"
             ],
             [
              0.5555555555555556,
              "#d8576b"
             ],
             [
              0.6666666666666666,
              "#ed7953"
             ],
             [
              0.7777777777777778,
              "#fb9f3a"
             ],
             [
              0.8888888888888888,
              "#fdca26"
             ],
             [
              1,
              "#f0f921"
             ]
            ],
            "type": "heatmap"
           }
          ],
          "heatmapgl": [
           {
            "colorbar": {
             "outlinewidth": 0,
             "ticks": ""
            },
            "colorscale": [
             [
              0,
              "#0d0887"
             ],
             [
              0.1111111111111111,
              "#46039f"
             ],
             [
              0.2222222222222222,
              "#7201a8"
             ],
             [
              0.3333333333333333,
              "#9c179e"
             ],
             [
              0.4444444444444444,
              "#bd3786"
             ],
             [
              0.5555555555555556,
              "#d8576b"
             ],
             [
              0.6666666666666666,
              "#ed7953"
             ],
             [
              0.7777777777777778,
              "#fb9f3a"
             ],
             [
              0.8888888888888888,
              "#fdca26"
             ],
             [
              1,
              "#f0f921"
             ]
            ],
            "type": "heatmapgl"
           }
          ],
          "histogram": [
           {
            "marker": {
             "pattern": {
              "fillmode": "overlay",
              "size": 10,
              "solidity": 0.2
             }
            },
            "type": "histogram"
           }
          ],
          "histogram2d": [
           {
            "colorbar": {
             "outlinewidth": 0,
             "ticks": ""
            },
            "colorscale": [
             [
              0,
              "#0d0887"
             ],
             [
              0.1111111111111111,
              "#46039f"
             ],
             [
              0.2222222222222222,
              "#7201a8"
             ],
             [
              0.3333333333333333,
              "#9c179e"
             ],
             [
              0.4444444444444444,
              "#bd3786"
             ],
             [
              0.5555555555555556,
              "#d8576b"
             ],
             [
              0.6666666666666666,
              "#ed7953"
             ],
             [
              0.7777777777777778,
              "#fb9f3a"
             ],
             [
              0.8888888888888888,
              "#fdca26"
             ],
             [
              1,
              "#f0f921"
             ]
            ],
            "type": "histogram2d"
           }
          ],
          "histogram2dcontour": [
           {
            "colorbar": {
             "outlinewidth": 0,
             "ticks": ""
            },
            "colorscale": [
             [
              0,
              "#0d0887"
             ],
             [
              0.1111111111111111,
              "#46039f"
             ],
             [
              0.2222222222222222,
              "#7201a8"
             ],
             [
              0.3333333333333333,
              "#9c179e"
             ],
             [
              0.4444444444444444,
              "#bd3786"
             ],
             [
              0.5555555555555556,
              "#d8576b"
             ],
             [
              0.6666666666666666,
              "#ed7953"
             ],
             [
              0.7777777777777778,
              "#fb9f3a"
             ],
             [
              0.8888888888888888,
              "#fdca26"
             ],
             [
              1,
              "#f0f921"
             ]
            ],
            "type": "histogram2dcontour"
           }
          ],
          "mesh3d": [
           {
            "colorbar": {
             "outlinewidth": 0,
             "ticks": ""
            },
            "type": "mesh3d"
           }
          ],
          "parcoords": [
           {
            "line": {
             "colorbar": {
              "outlinewidth": 0,
              "ticks": ""
             }
            },
            "type": "parcoords"
           }
          ],
          "pie": [
           {
            "automargin": true,
            "type": "pie"
           }
          ],
          "scatter": [
           {
            "fillpattern": {
             "fillmode": "overlay",
             "size": 10,
             "solidity": 0.2
            },
            "type": "scatter"
           }
          ],
          "scatter3d": [
           {
            "line": {
             "colorbar": {
              "outlinewidth": 0,
              "ticks": ""
             }
            },
            "marker": {
             "colorbar": {
              "outlinewidth": 0,
              "ticks": ""
             }
            },
            "type": "scatter3d"
           }
          ],
          "scattercarpet": [
           {
            "marker": {
             "colorbar": {
              "outlinewidth": 0,
              "ticks": ""
             }
            },
            "type": "scattercarpet"
           }
          ],
          "scattergeo": [
           {
            "marker": {
             "colorbar": {
              "outlinewidth": 0,
              "ticks": ""
             }
            },
            "type": "scattergeo"
           }
          ],
          "scattergl": [
           {
            "marker": {
             "colorbar": {
              "outlinewidth": 0,
              "ticks": ""
             }
            },
            "type": "scattergl"
           }
          ],
          "scattermapbox": [
           {
            "marker": {
             "colorbar": {
              "outlinewidth": 0,
              "ticks": ""
             }
            },
            "type": "scattermapbox"
           }
          ],
          "scatterpolar": [
           {
            "marker": {
             "colorbar": {
              "outlinewidth": 0,
              "ticks": ""
             }
            },
            "type": "scatterpolar"
           }
          ],
          "scatterpolargl": [
           {
            "marker": {
             "colorbar": {
              "outlinewidth": 0,
              "ticks": ""
             }
            },
            "type": "scatterpolargl"
           }
          ],
          "scatterternary": [
           {
            "marker": {
             "colorbar": {
              "outlinewidth": 0,
              "ticks": ""
             }
            },
            "type": "scatterternary"
           }
          ],
          "surface": [
           {
            "colorbar": {
             "outlinewidth": 0,
             "ticks": ""
            },
            "colorscale": [
             [
              0,
              "#0d0887"
             ],
             [
              0.1111111111111111,
              "#46039f"
             ],
             [
              0.2222222222222222,
              "#7201a8"
             ],
             [
              0.3333333333333333,
              "#9c179e"
             ],
             [
              0.4444444444444444,
              "#bd3786"
             ],
             [
              0.5555555555555556,
              "#d8576b"
             ],
             [
              0.6666666666666666,
              "#ed7953"
             ],
             [
              0.7777777777777778,
              "#fb9f3a"
             ],
             [
              0.8888888888888888,
              "#fdca26"
             ],
             [
              1,
              "#f0f921"
             ]
            ],
            "type": "surface"
           }
          ],
          "table": [
           {
            "cells": {
             "fill": {
              "color": "#EBF0F8"
             },
             "line": {
              "color": "white"
             }
            },
            "header": {
             "fill": {
              "color": "#C8D4E3"
             },
             "line": {
              "color": "white"
             }
            },
            "type": "table"
           }
          ]
         },
         "layout": {
          "annotationdefaults": {
           "arrowcolor": "#2a3f5f",
           "arrowhead": 0,
           "arrowwidth": 1
          },
          "autotypenumbers": "strict",
          "coloraxis": {
           "colorbar": {
            "outlinewidth": 0,
            "ticks": ""
           }
          },
          "colorscale": {
           "diverging": [
            [
             0,
             "#8e0152"
            ],
            [
             0.1,
             "#c51b7d"
            ],
            [
             0.2,
             "#de77ae"
            ],
            [
             0.3,
             "#f1b6da"
            ],
            [
             0.4,
             "#fde0ef"
            ],
            [
             0.5,
             "#f7f7f7"
            ],
            [
             0.6,
             "#e6f5d0"
            ],
            [
             0.7,
             "#b8e186"
            ],
            [
             0.8,
             "#7fbc41"
            ],
            [
             0.9,
             "#4d9221"
            ],
            [
             1,
             "#276419"
            ]
           ],
           "sequential": [
            [
             0,
             "#0d0887"
            ],
            [
             0.1111111111111111,
             "#46039f"
            ],
            [
             0.2222222222222222,
             "#7201a8"
            ],
            [
             0.3333333333333333,
             "#9c179e"
            ],
            [
             0.4444444444444444,
             "#bd3786"
            ],
            [
             0.5555555555555556,
             "#d8576b"
            ],
            [
             0.6666666666666666,
             "#ed7953"
            ],
            [
             0.7777777777777778,
             "#fb9f3a"
            ],
            [
             0.8888888888888888,
             "#fdca26"
            ],
            [
             1,
             "#f0f921"
            ]
           ],
           "sequentialminus": [
            [
             0,
             "#0d0887"
            ],
            [
             0.1111111111111111,
             "#46039f"
            ],
            [
             0.2222222222222222,
             "#7201a8"
            ],
            [
             0.3333333333333333,
             "#9c179e"
            ],
            [
             0.4444444444444444,
             "#bd3786"
            ],
            [
             0.5555555555555556,
             "#d8576b"
            ],
            [
             0.6666666666666666,
             "#ed7953"
            ],
            [
             0.7777777777777778,
             "#fb9f3a"
            ],
            [
             0.8888888888888888,
             "#fdca26"
            ],
            [
             1,
             "#f0f921"
            ]
           ]
          },
          "colorway": [
           "#636efa",
           "#EF553B",
           "#00cc96",
           "#ab63fa",
           "#FFA15A",
           "#19d3f3",
           "#FF6692",
           "#B6E880",
           "#FF97FF",
           "#FECB52"
          ],
          "font": {
           "color": "#2a3f5f"
          },
          "geo": {
           "bgcolor": "white",
           "lakecolor": "white",
           "landcolor": "#E5ECF6",
           "showlakes": true,
           "showland": true,
           "subunitcolor": "white"
          },
          "hoverlabel": {
           "align": "left"
          },
          "hovermode": "closest",
          "mapbox": {
           "style": "light"
          },
          "paper_bgcolor": "white",
          "plot_bgcolor": "#E5ECF6",
          "polar": {
           "angularaxis": {
            "gridcolor": "white",
            "linecolor": "white",
            "ticks": ""
           },
           "bgcolor": "#E5ECF6",
           "radialaxis": {
            "gridcolor": "white",
            "linecolor": "white",
            "ticks": ""
           }
          },
          "scene": {
           "xaxis": {
            "backgroundcolor": "#E5ECF6",
            "gridcolor": "white",
            "gridwidth": 2,
            "linecolor": "white",
            "showbackground": true,
            "ticks": "",
            "zerolinecolor": "white"
           },
           "yaxis": {
            "backgroundcolor": "#E5ECF6",
            "gridcolor": "white",
            "gridwidth": 2,
            "linecolor": "white",
            "showbackground": true,
            "ticks": "",
            "zerolinecolor": "white"
           },
           "zaxis": {
            "backgroundcolor": "#E5ECF6",
            "gridcolor": "white",
            "gridwidth": 2,
            "linecolor": "white",
            "showbackground": true,
            "ticks": "",
            "zerolinecolor": "white"
           }
          },
          "shapedefaults": {
           "line": {
            "color": "#2a3f5f"
           }
          },
          "ternary": {
           "aaxis": {
            "gridcolor": "white",
            "linecolor": "white",
            "ticks": ""
           },
           "baxis": {
            "gridcolor": "white",
            "linecolor": "white",
            "ticks": ""
           },
           "bgcolor": "#E5ECF6",
           "caxis": {
            "gridcolor": "white",
            "linecolor": "white",
            "ticks": ""
           }
          },
          "title": {
           "x": 0.05
          },
          "xaxis": {
           "automargin": true,
           "gridcolor": "white",
           "linecolor": "white",
           "ticks": "",
           "title": {
            "standoff": 15
           },
           "zerolinecolor": "white",
           "zerolinewidth": 2
          },
          "yaxis": {
           "automargin": true,
           "gridcolor": "white",
           "linecolor": "white",
           "ticks": "",
           "title": {
            "standoff": 15
           },
           "zerolinecolor": "white",
           "zerolinewidth": 2
          }
         }
        },
        "xaxis": {
         "anchor": "y",
         "categoryarray": [
          "gaussian",
          "sjlt",
          "srht",
          "none"
         ],
         "categoryorder": "array",
         "domain": [
          0,
          0.3133333333333333
         ],
         "title": {
          "text": "sketch_fn"
         }
        },
        "xaxis2": {
         "anchor": "y2",
         "categoryarray": [
          "gaussian",
          "sjlt",
          "srht",
          "none"
         ],
         "categoryorder": "array",
         "domain": [
          0.3333333333333333,
          0.6466666666666666
         ],
         "matches": "x",
         "title": {
          "text": "sketch_fn"
         }
        },
        "xaxis3": {
         "anchor": "y3",
         "categoryarray": [
          "gaussian",
          "sjlt",
          "srht",
          "none"
         ],
         "categoryorder": "array",
         "domain": [
          0.6666666666666666,
          0.98
         ],
         "matches": "x",
         "title": {
          "text": "sketch_fn"
         }
        },
        "xaxis4": {
         "anchor": "y4",
         "domain": [
          0,
          0.3133333333333333
         ],
         "matches": "x",
         "showticklabels": false
        },
        "xaxis5": {
         "anchor": "y5",
         "domain": [
          0.3333333333333333,
          0.6466666666666666
         ],
         "matches": "x",
         "showticklabels": false
        },
        "xaxis6": {
         "anchor": "y6",
         "domain": [
          0.6666666666666666,
          0.98
         ],
         "matches": "x",
         "showticklabels": false
        },
        "yaxis": {
         "anchor": "x",
         "domain": [
          0,
          0.485
         ],
         "title": {
          "text": "sum of time"
         }
        },
        "yaxis2": {
         "anchor": "x2",
         "domain": [
          0,
          0.485
         ],
         "matches": "y",
         "showticklabels": false
        },
        "yaxis3": {
         "anchor": "x3",
         "domain": [
          0,
          0.485
         ],
         "matches": "y",
         "showticklabels": false
        },
        "yaxis4": {
         "anchor": "x4",
         "domain": [
          0.515,
          1
         ],
         "matches": "y",
         "title": {
          "text": "sum of time"
         }
        },
        "yaxis5": {
         "anchor": "x5",
         "domain": [
          0.515,
          1
         ],
         "matches": "y",
         "showticklabels": false
        },
        "yaxis6": {
         "anchor": "x6",
         "domain": [
          0.515,
          1
         ],
         "matches": "y",
         "showticklabels": false
        }
       }
      },
      "text/html": [
       "<div>                            <div id=\"f9478023-6d71-4397-8be3-950f64c33513\" class=\"plotly-graph-div\" style=\"height:700px; width:100%;\"></div>            <script type=\"text/javascript\">                require([\"plotly\"], function(Plotly) {                    window.PLOTLYENV=window.PLOTLYENV || {};                                    if (document.getElementById(\"f9478023-6d71-4397-8be3-950f64c33513\")) {                    Plotly.newPlot(                        \"f9478023-6d71-4397-8be3-950f64c33513\",                        [{\"alignmentgroup\":\"True\",\"bingroup\":\"x\",\"histfunc\":\"sum\",\"hovertemplate\":\"method=adacg\\u003cbr\\u003esketch_fn=%{x}\\u003cbr\\u003en=2048\\u003cbr\\u003edeff=32\\u003cbr\\u003esum of time=%{y}\\u003cextra\\u003e\\u003c\\u002fextra\\u003e\",\"legendgroup\":\"adacg, gaussian\",\"marker\":{\"color\":\"#636efa\",\"pattern\":{\"shape\":\"\"}},\"name\":\"adacg, gaussian\",\"offsetgroup\":\"adacg, gaussian\",\"orientation\":\"v\",\"showlegend\":true,\"texttemplate\":\"%{value:.2s}\",\"x\":[\"gaussian\"],\"xaxis\":\"x4\",\"y\":[0.00585887099998672],\"yaxis\":\"y4\",\"type\":\"histogram\",\"cliponaxis\":false,\"textangle\":0,\"textposition\":\"outside\"},{\"alignmentgroup\":\"True\",\"bingroup\":\"x\",\"histfunc\":\"sum\",\"hovertemplate\":\"method=adacg\\u003cbr\\u003esketch_fn=%{x}\\u003cbr\\u003en=2048\\u003cbr\\u003edeff=64\\u003cbr\\u003esum of time=%{y}\\u003cextra\\u003e\\u003c\\u002fextra\\u003e\",\"legendgroup\":\"adacg, gaussian\",\"marker\":{\"color\":\"#636efa\",\"pattern\":{\"shape\":\"\"}},\"name\":\"adacg, gaussian\",\"offsetgroup\":\"adacg, gaussian\",\"orientation\":\"v\",\"showlegend\":false,\"texttemplate\":\"%{value:.2s}\",\"x\":[\"gaussian\"],\"xaxis\":\"x5\",\"y\":[0.005908750333333046],\"yaxis\":\"y5\",\"type\":\"histogram\",\"cliponaxis\":false,\"textangle\":0,\"textposition\":\"outside\"},{\"alignmentgroup\":\"True\",\"bingroup\":\"x\",\"histfunc\":\"sum\",\"hovertemplate\":\"method=adacg\\u003cbr\\u003esketch_fn=%{x}\\u003cbr\\u003en=2048\\u003cbr\\u003edeff=128\\u003cbr\\u003esum of time=%{y}\\u003cextra\\u003e\\u003c\\u002fextra\\u003e\",\"legendgroup\":\"adacg, gaussian\",\"marker\":{\"color\":\"#636efa\",\"pattern\":{\"shape\":\"\"}},\"name\":\"adacg, gaussian\",\"offsetgroup\":\"adacg, gaussian\",\"orientation\":\"v\",\"showlegend\":false,\"texttemplate\":\"%{value:.2s}\",\"x\":[\"gaussian\"],\"xaxis\":\"x6\",\"y\":[0.006741254666697689],\"yaxis\":\"y6\",\"type\":\"histogram\",\"cliponaxis\":false,\"textangle\":0,\"textposition\":\"outside\"},{\"alignmentgroup\":\"True\",\"bingroup\":\"x\",\"histfunc\":\"sum\",\"hovertemplate\":\"method=adacg\\u003cbr\\u003esketch_fn=%{x}\\u003cbr\\u003en=4096\\u003cbr\\u003edeff=32\\u003cbr\\u003esum of time=%{y}\\u003cextra\\u003e\\u003c\\u002fextra\\u003e\",\"legendgroup\":\"adacg, gaussian\",\"marker\":{\"color\":\"#636efa\",\"pattern\":{\"shape\":\"\"}},\"name\":\"adacg, gaussian\",\"offsetgroup\":\"adacg, gaussian\",\"orientation\":\"v\",\"showlegend\":false,\"texttemplate\":\"%{value:.2s}\",\"x\":[\"gaussian\"],\"xaxis\":\"x\",\"y\":[0.008923502666827213],\"yaxis\":\"y\",\"type\":\"histogram\",\"cliponaxis\":false,\"textangle\":0,\"textposition\":\"outside\"},{\"alignmentgroup\":\"True\",\"bingroup\":\"x\",\"histfunc\":\"sum\",\"hovertemplate\":\"method=adacg\\u003cbr\\u003esketch_fn=%{x}\\u003cbr\\u003en=4096\\u003cbr\\u003edeff=64\\u003cbr\\u003esum of time=%{y}\\u003cextra\\u003e\\u003c\\u002fextra\\u003e\",\"legendgroup\":\"adacg, gaussian\",\"marker\":{\"color\":\"#636efa\",\"pattern\":{\"shape\":\"\"}},\"name\":\"adacg, gaussian\",\"offsetgroup\":\"adacg, gaussian\",\"orientation\":\"v\",\"showlegend\":false,\"texttemplate\":\"%{value:.2s}\",\"x\":[\"gaussian\"],\"xaxis\":\"x2\",\"y\":[0.008448739666467493],\"yaxis\":\"y2\",\"type\":\"histogram\",\"cliponaxis\":false,\"textangle\":0,\"textposition\":\"outside\"},{\"alignmentgroup\":\"True\",\"bingroup\":\"x\",\"histfunc\":\"sum\",\"hovertemplate\":\"method=adacg\\u003cbr\\u003esketch_fn=%{x}\\u003cbr\\u003en=4096\\u003cbr\\u003edeff=128\\u003cbr\\u003esum of time=%{y}\\u003cextra\\u003e\\u003c\\u002fextra\\u003e\",\"legendgroup\":\"adacg, gaussian\",\"marker\":{\"color\":\"#636efa\",\"pattern\":{\"shape\":\"\"}},\"name\":\"adacg, gaussian\",\"offsetgroup\":\"adacg, gaussian\",\"orientation\":\"v\",\"showlegend\":false,\"texttemplate\":\"%{value:.2s}\",\"x\":[\"gaussian\"],\"xaxis\":\"x3\",\"y\":[0.008485158999974374],\"yaxis\":\"y3\",\"type\":\"histogram\",\"cliponaxis\":false,\"textangle\":0,\"textposition\":\"outside\"},{\"alignmentgroup\":\"True\",\"bingroup\":\"x\",\"histfunc\":\"sum\",\"hovertemplate\":\"method=adacg\\u003cbr\\u003esketch_fn=%{x}\\u003cbr\\u003en=2048\\u003cbr\\u003edeff=32\\u003cbr\\u003esum of time=%{y}\\u003cextra\\u003e\\u003c\\u002fextra\\u003e\",\"legendgroup\":\"adacg, sjlt\",\"marker\":{\"color\":\"#636efa\",\"pattern\":{\"shape\":\"\\u002f\"}},\"name\":\"adacg, sjlt\",\"offsetgroup\":\"adacg, sjlt\",\"orientation\":\"v\",\"showlegend\":true,\"texttemplate\":\"%{value:.2s}\",\"x\":[\"sjlt\"],\"xaxis\":\"x4\",\"y\":[0.005128756000033262],\"yaxis\":\"y4\",\"type\":\"histogram\",\"cliponaxis\":false,\"textangle\":0,\"textposition\":\"outside\"},{\"alignmentgroup\":\"True\",\"bingroup\":\"x\",\"histfunc\":\"sum\",\"hovertemplate\":\"method=adacg\\u003cbr\\u003esketch_fn=%{x}\\u003cbr\\u003en=2048\\u003cbr\\u003edeff=64\\u003cbr\\u003esum of time=%{y}\\u003cextra\\u003e\\u003c\\u002fextra\\u003e\",\"legendgroup\":\"adacg, sjlt\",\"marker\":{\"color\":\"#636efa\",\"pattern\":{\"shape\":\"\\u002f\"}},\"name\":\"adacg, sjlt\",\"offsetgroup\":\"adacg, sjlt\",\"orientation\":\"v\",\"showlegend\":false,\"texttemplate\":\"%{value:.2s}\",\"x\":[\"sjlt\"],\"xaxis\":\"x5\",\"y\":[0.0056448403333509605],\"yaxis\":\"y5\",\"type\":\"histogram\",\"cliponaxis\":false,\"textangle\":0,\"textposition\":\"outside\"},{\"alignmentgroup\":\"True\",\"bingroup\":\"x\",\"histfunc\":\"sum\",\"hovertemplate\":\"method=adacg\\u003cbr\\u003esketch_fn=%{x}\\u003cbr\\u003en=2048\\u003cbr\\u003edeff=128\\u003cbr\\u003esum of time=%{y}\\u003cextra\\u003e\\u003c\\u002fextra\\u003e\",\"legendgroup\":\"adacg, sjlt\",\"marker\":{\"color\":\"#636efa\",\"pattern\":{\"shape\":\"\\u002f\"}},\"name\":\"adacg, sjlt\",\"offsetgroup\":\"adacg, sjlt\",\"orientation\":\"v\",\"showlegend\":false,\"texttemplate\":\"%{value:.2s}\",\"x\":[\"sjlt\"],\"xaxis\":\"x6\",\"y\":[0.006036781333364161],\"yaxis\":\"y6\",\"type\":\"histogram\",\"cliponaxis\":false,\"textangle\":0,\"textposition\":\"outside\"},{\"alignmentgroup\":\"True\",\"bingroup\":\"x\",\"histfunc\":\"sum\",\"hovertemplate\":\"method=adacg\\u003cbr\\u003esketch_fn=%{x}\\u003cbr\\u003en=4096\\u003cbr\\u003edeff=32\\u003cbr\\u003esum of time=%{y}\\u003cextra\\u003e\\u003c\\u002fextra\\u003e\",\"legendgroup\":\"adacg, sjlt\",\"marker\":{\"color\":\"#636efa\",\"pattern\":{\"shape\":\"\\u002f\"}},\"name\":\"adacg, sjlt\",\"offsetgroup\":\"adacg, sjlt\",\"orientation\":\"v\",\"showlegend\":false,\"texttemplate\":\"%{value:.2s}\",\"x\":[\"sjlt\"],\"xaxis\":\"x\",\"y\":[0.006575119999979506],\"yaxis\":\"y\",\"type\":\"histogram\",\"cliponaxis\":false,\"textangle\":0,\"textposition\":\"outside\"},{\"alignmentgroup\":\"True\",\"bingroup\":\"x\",\"histfunc\":\"sum\",\"hovertemplate\":\"method=adacg\\u003cbr\\u003esketch_fn=%{x}\\u003cbr\\u003en=4096\\u003cbr\\u003edeff=64\\u003cbr\\u003esum of time=%{y}\\u003cextra\\u003e\\u003c\\u002fextra\\u003e\",\"legendgroup\":\"adacg, sjlt\",\"marker\":{\"color\":\"#636efa\",\"pattern\":{\"shape\":\"\\u002f\"}},\"name\":\"adacg, sjlt\",\"offsetgroup\":\"adacg, sjlt\",\"orientation\":\"v\",\"showlegend\":false,\"texttemplate\":\"%{value:.2s}\",\"x\":[\"sjlt\"],\"xaxis\":\"x2\",\"y\":[0.006925364999612308],\"yaxis\":\"y2\",\"type\":\"histogram\",\"cliponaxis\":false,\"textangle\":0,\"textposition\":\"outside\"},{\"alignmentgroup\":\"True\",\"bingroup\":\"x\",\"histfunc\":\"sum\",\"hovertemplate\":\"method=adacg\\u003cbr\\u003esketch_fn=%{x}\\u003cbr\\u003en=4096\\u003cbr\\u003edeff=128\\u003cbr\\u003esum of time=%{y}\\u003cextra\\u003e\\u003c\\u002fextra\\u003e\",\"legendgroup\":\"adacg, sjlt\",\"marker\":{\"color\":\"#636efa\",\"pattern\":{\"shape\":\"\\u002f\"}},\"name\":\"adacg, sjlt\",\"offsetgroup\":\"adacg, sjlt\",\"orientation\":\"v\",\"showlegend\":false,\"texttemplate\":\"%{value:.2s}\",\"x\":[\"sjlt\"],\"xaxis\":\"x3\",\"y\":[0.007292821666548358],\"yaxis\":\"y3\",\"type\":\"histogram\",\"cliponaxis\":false,\"textangle\":0,\"textposition\":\"outside\"},{\"alignmentgroup\":\"True\",\"bingroup\":\"x\",\"histfunc\":\"sum\",\"hovertemplate\":\"method=adacg\\u003cbr\\u003esketch_fn=%{x}\\u003cbr\\u003en=2048\\u003cbr\\u003edeff=32\\u003cbr\\u003esum of time=%{y}\\u003cextra\\u003e\\u003c\\u002fextra\\u003e\",\"legendgroup\":\"adacg, srht\",\"marker\":{\"color\":\"#636efa\",\"pattern\":{\"shape\":\"\\\\\"}},\"name\":\"adacg, srht\",\"offsetgroup\":\"adacg, srht\",\"orientation\":\"v\",\"showlegend\":true,\"texttemplate\":\"%{value:.2s}\",\"x\":[\"srht\"],\"xaxis\":\"x4\",\"y\":[0.006407275666655702],\"yaxis\":\"y4\",\"type\":\"histogram\",\"cliponaxis\":false,\"textangle\":0,\"textposition\":\"outside\"},{\"alignmentgroup\":\"True\",\"bingroup\":\"x\",\"histfunc\":\"sum\",\"hovertemplate\":\"method=adacg\\u003cbr\\u003esketch_fn=%{x}\\u003cbr\\u003en=2048\\u003cbr\\u003edeff=64\\u003cbr\\u003esum of time=%{y}\\u003cextra\\u003e\\u003c\\u002fextra\\u003e\",\"legendgroup\":\"adacg, srht\",\"marker\":{\"color\":\"#636efa\",\"pattern\":{\"shape\":\"\\\\\"}},\"name\":\"adacg, srht\",\"offsetgroup\":\"adacg, srht\",\"orientation\":\"v\",\"showlegend\":false,\"texttemplate\":\"%{value:.2s}\",\"x\":[\"srht\"],\"xaxis\":\"x5\",\"y\":[0.005384632666656822],\"yaxis\":\"y5\",\"type\":\"histogram\",\"cliponaxis\":false,\"textangle\":0,\"textposition\":\"outside\"},{\"alignmentgroup\":\"True\",\"bingroup\":\"x\",\"histfunc\":\"sum\",\"hovertemplate\":\"method=adacg\\u003cbr\\u003esketch_fn=%{x}\\u003cbr\\u003en=2048\\u003cbr\\u003edeff=128\\u003cbr\\u003esum of time=%{y}\\u003cextra\\u003e\\u003c\\u002fextra\\u003e\",\"legendgroup\":\"adacg, srht\",\"marker\":{\"color\":\"#636efa\",\"pattern\":{\"shape\":\"\\\\\"}},\"name\":\"adacg, srht\",\"offsetgroup\":\"adacg, srht\",\"orientation\":\"v\",\"showlegend\":false,\"texttemplate\":\"%{value:.2s}\",\"x\":[\"srht\"],\"xaxis\":\"x6\",\"y\":[0.005751974666623027],\"yaxis\":\"y6\",\"type\":\"histogram\",\"cliponaxis\":false,\"textangle\":0,\"textposition\":\"outside\"},{\"alignmentgroup\":\"True\",\"bingroup\":\"x\",\"histfunc\":\"sum\",\"hovertemplate\":\"method=adacg\\u003cbr\\u003esketch_fn=%{x}\\u003cbr\\u003en=4096\\u003cbr\\u003edeff=32\\u003cbr\\u003esum of time=%{y}\\u003cextra\\u003e\\u003c\\u002fextra\\u003e\",\"legendgroup\":\"adacg, srht\",\"marker\":{\"color\":\"#636efa\",\"pattern\":{\"shape\":\"\\\\\"}},\"name\":\"adacg, srht\",\"offsetgroup\":\"adacg, srht\",\"orientation\":\"v\",\"showlegend\":false,\"texttemplate\":\"%{value:.2s}\",\"x\":[\"srht\"],\"xaxis\":\"x\",\"y\":[0.00854385833372362],\"yaxis\":\"y\",\"type\":\"histogram\",\"cliponaxis\":false,\"textangle\":0,\"textposition\":\"outside\"},{\"alignmentgroup\":\"True\",\"bingroup\":\"x\",\"histfunc\":\"sum\",\"hovertemplate\":\"method=adacg\\u003cbr\\u003esketch_fn=%{x}\\u003cbr\\u003en=4096\\u003cbr\\u003edeff=64\\u003cbr\\u003esum of time=%{y}\\u003cextra\\u003e\\u003c\\u002fextra\\u003e\",\"legendgroup\":\"adacg, srht\",\"marker\":{\"color\":\"#636efa\",\"pattern\":{\"shape\":\"\\\\\"}},\"name\":\"adacg, srht\",\"offsetgroup\":\"adacg, srht\",\"orientation\":\"v\",\"showlegend\":false,\"texttemplate\":\"%{value:.2s}\",\"x\":[\"srht\"],\"xaxis\":\"x2\",\"y\":[0.008126186333659764],\"yaxis\":\"y2\",\"type\":\"histogram\",\"cliponaxis\":false,\"textangle\":0,\"textposition\":\"outside\"},{\"alignmentgroup\":\"True\",\"bingroup\":\"x\",\"histfunc\":\"sum\",\"hovertemplate\":\"method=adacg\\u003cbr\\u003esketch_fn=%{x}\\u003cbr\\u003en=4096\\u003cbr\\u003edeff=128\\u003cbr\\u003esum of time=%{y}\\u003cextra\\u003e\\u003c\\u002fextra\\u003e\",\"legendgroup\":\"adacg, srht\",\"marker\":{\"color\":\"#636efa\",\"pattern\":{\"shape\":\"\\\\\"}},\"name\":\"adacg, srht\",\"offsetgroup\":\"adacg, srht\",\"orientation\":\"v\",\"showlegend\":false,\"texttemplate\":\"%{value:.2s}\",\"x\":[\"srht\"],\"xaxis\":\"x3\",\"y\":[0.00847054066647009],\"yaxis\":\"y3\",\"type\":\"histogram\",\"cliponaxis\":false,\"textangle\":0,\"textposition\":\"outside\"},{\"alignmentgroup\":\"True\",\"bingroup\":\"x\",\"histfunc\":\"sum\",\"hovertemplate\":\"method=cg\\u003cbr\\u003esketch_fn=%{x}\\u003cbr\\u003en=2048\\u003cbr\\u003edeff=32\\u003cbr\\u003esum of time=%{y}\\u003cextra\\u003e\\u003c\\u002fextra\\u003e\",\"legendgroup\":\"cg, none\",\"marker\":{\"color\":\"#EF553B\",\"pattern\":{\"shape\":\"x\"}},\"name\":\"cg, none\",\"offsetgroup\":\"cg, none\",\"orientation\":\"v\",\"showlegend\":true,\"texttemplate\":\"%{value:.2s}\",\"x\":[\"none\"],\"xaxis\":\"x4\",\"y\":[0.0147051049999997],\"yaxis\":\"y4\",\"type\":\"histogram\",\"cliponaxis\":false,\"textangle\":0,\"textposition\":\"outside\"},{\"alignmentgroup\":\"True\",\"bingroup\":\"x\",\"histfunc\":\"sum\",\"hovertemplate\":\"method=cg\\u003cbr\\u003esketch_fn=%{x}\\u003cbr\\u003en=2048\\u003cbr\\u003edeff=64\\u003cbr\\u003esum of time=%{y}\\u003cextra\\u003e\\u003c\\u002fextra\\u003e\",\"legendgroup\":\"cg, none\",\"marker\":{\"color\":\"#EF553B\",\"pattern\":{\"shape\":\"x\"}},\"name\":\"cg, none\",\"offsetgroup\":\"cg, none\",\"orientation\":\"v\",\"showlegend\":false,\"texttemplate\":\"%{value:.2s}\",\"x\":[\"none\"],\"xaxis\":\"x5\",\"y\":[0.03259047866667212],\"yaxis\":\"y5\",\"type\":\"histogram\",\"cliponaxis\":false,\"textangle\":0,\"textposition\":\"outside\"},{\"alignmentgroup\":\"True\",\"bingroup\":\"x\",\"histfunc\":\"sum\",\"hovertemplate\":\"method=cg\\u003cbr\\u003esketch_fn=%{x}\\u003cbr\\u003en=2048\\u003cbr\\u003edeff=128\\u003cbr\\u003esum of time=%{y}\\u003cextra\\u003e\\u003c\\u002fextra\\u003e\",\"legendgroup\":\"cg, none\",\"marker\":{\"color\":\"#EF553B\",\"pattern\":{\"shape\":\"x\"}},\"name\":\"cg, none\",\"offsetgroup\":\"cg, none\",\"orientation\":\"v\",\"showlegend\":false,\"texttemplate\":\"%{value:.2s}\",\"x\":[\"none\"],\"xaxis\":\"x6\",\"y\":[0.09786718666665213],\"yaxis\":\"y6\",\"type\":\"histogram\",\"cliponaxis\":false,\"textangle\":0,\"textposition\":\"outside\"},{\"alignmentgroup\":\"True\",\"bingroup\":\"x\",\"histfunc\":\"sum\",\"hovertemplate\":\"method=cg\\u003cbr\\u003esketch_fn=%{x}\\u003cbr\\u003en=4096\\u003cbr\\u003edeff=32\\u003cbr\\u003esum of time=%{y}\\u003cextra\\u003e\\u003c\\u002fextra\\u003e\",\"legendgroup\":\"cg, none\",\"marker\":{\"color\":\"#EF553B\",\"pattern\":{\"shape\":\"x\"}},\"name\":\"cg, none\",\"offsetgroup\":\"cg, none\",\"orientation\":\"v\",\"showlegend\":false,\"texttemplate\":\"%{value:.2s}\",\"x\":[\"none\"],\"xaxis\":\"x\",\"y\":[0.018719731666957763],\"yaxis\":\"y\",\"type\":\"histogram\",\"cliponaxis\":false,\"textangle\":0,\"textposition\":\"outside\"},{\"alignmentgroup\":\"True\",\"bingroup\":\"x\",\"histfunc\":\"sum\",\"hovertemplate\":\"method=cg\\u003cbr\\u003esketch_fn=%{x}\\u003cbr\\u003en=4096\\u003cbr\\u003edeff=64\\u003cbr\\u003esum of time=%{y}\\u003cextra\\u003e\\u003c\\u002fextra\\u003e\",\"legendgroup\":\"cg, none\",\"marker\":{\"color\":\"#EF553B\",\"pattern\":{\"shape\":\"x\"}},\"name\":\"cg, none\",\"offsetgroup\":\"cg, none\",\"orientation\":\"v\",\"showlegend\":false,\"texttemplate\":\"%{value:.2s}\",\"x\":[\"none\"],\"xaxis\":\"x2\",\"y\":[0.041800221000206264],\"yaxis\":\"y2\",\"type\":\"histogram\",\"cliponaxis\":false,\"textangle\":0,\"textposition\":\"outside\"},{\"alignmentgroup\":\"True\",\"bingroup\":\"x\",\"histfunc\":\"sum\",\"hovertemplate\":\"method=cg\\u003cbr\\u003esketch_fn=%{x}\\u003cbr\\u003en=4096\\u003cbr\\u003edeff=128\\u003cbr\\u003esum of time=%{y}\\u003cextra\\u003e\\u003c\\u002fextra\\u003e\",\"legendgroup\":\"cg, none\",\"marker\":{\"color\":\"#EF553B\",\"pattern\":{\"shape\":\"x\"}},\"name\":\"cg, none\",\"offsetgroup\":\"cg, none\",\"orientation\":\"v\",\"showlegend\":false,\"texttemplate\":\"%{value:.2s}\",\"x\":[\"none\"],\"xaxis\":\"x3\",\"y\":[0.09348924433349262],\"yaxis\":\"y3\",\"type\":\"histogram\",\"cliponaxis\":false,\"textangle\":0,\"textposition\":\"outside\"},{\"alignmentgroup\":\"True\",\"bingroup\":\"x\",\"histfunc\":\"sum\",\"hovertemplate\":\"method=dm\\u003cbr\\u003esketch_fn=%{x}\\u003cbr\\u003en=2048\\u003cbr\\u003edeff=32\\u003cbr\\u003esum of time=%{y}\\u003cextra\\u003e\\u003c\\u002fextra\\u003e\",\"legendgroup\":\"dm, none\",\"marker\":{\"color\":\"#00cc96\",\"pattern\":{\"shape\":\"x\"}},\"name\":\"dm, none\",\"offsetgroup\":\"dm, none\",\"orientation\":\"v\",\"showlegend\":true,\"texttemplate\":\"%{value:.2s}\",\"x\":[\"none\"],\"xaxis\":\"x4\",\"y\":[0.001721267999982956],\"yaxis\":\"y4\",\"type\":\"histogram\",\"cliponaxis\":false,\"textangle\":0,\"textposition\":\"outside\"},{\"alignmentgroup\":\"True\",\"bingroup\":\"x\",\"histfunc\":\"sum\",\"hovertemplate\":\"method=dm\\u003cbr\\u003esketch_fn=%{x}\\u003cbr\\u003en=2048\\u003cbr\\u003edeff=64\\u003cbr\\u003esum of time=%{y}\\u003cextra\\u003e\\u003c\\u002fextra\\u003e\",\"legendgroup\":\"dm, none\",\"marker\":{\"color\":\"#00cc96\",\"pattern\":{\"shape\":\"x\"}},\"name\":\"dm, none\",\"offsetgroup\":\"dm, none\",\"orientation\":\"v\",\"showlegend\":false,\"texttemplate\":\"%{value:.2s}\",\"x\":[\"none\"],\"xaxis\":\"x5\",\"y\":[0.0017388420000088445],\"yaxis\":\"y5\",\"type\":\"histogram\",\"cliponaxis\":false,\"textangle\":0,\"textposition\":\"outside\"},{\"alignmentgroup\":\"True\",\"bingroup\":\"x\",\"histfunc\":\"sum\",\"hovertemplate\":\"method=dm\\u003cbr\\u003esketch_fn=%{x}\\u003cbr\\u003en=2048\\u003cbr\\u003edeff=128\\u003cbr\\u003esum of time=%{y}\\u003cextra\\u003e\\u003c\\u002fextra\\u003e\",\"legendgroup\":\"dm, none\",\"marker\":{\"color\":\"#00cc96\",\"pattern\":{\"shape\":\"x\"}},\"name\":\"dm, none\",\"offsetgroup\":\"dm, none\",\"orientation\":\"v\",\"showlegend\":false,\"texttemplate\":\"%{value:.2s}\",\"x\":[\"none\"],\"xaxis\":\"x6\",\"y\":[0.0017938429999730943],\"yaxis\":\"y6\",\"type\":\"histogram\",\"cliponaxis\":false,\"textangle\":0,\"textposition\":\"outside\"},{\"alignmentgroup\":\"True\",\"bingroup\":\"x\",\"histfunc\":\"sum\",\"hovertemplate\":\"method=dm\\u003cbr\\u003esketch_fn=%{x}\\u003cbr\\u003en=4096\\u003cbr\\u003edeff=32\\u003cbr\\u003esum of time=%{y}\\u003cextra\\u003e\\u003c\\u002fextra\\u003e\",\"legendgroup\":\"dm, none\",\"marker\":{\"color\":\"#00cc96\",\"pattern\":{\"shape\":\"x\"}},\"name\":\"dm, none\",\"offsetgroup\":\"dm, none\",\"orientation\":\"v\",\"showlegend\":false,\"texttemplate\":\"%{value:.2s}\",\"x\":[\"none\"],\"xaxis\":\"x\",\"y\":[0.002971293999507907],\"yaxis\":\"y\",\"type\":\"histogram\",\"cliponaxis\":false,\"textangle\":0,\"textposition\":\"outside\"},{\"alignmentgroup\":\"True\",\"bingroup\":\"x\",\"histfunc\":\"sum\",\"hovertemplate\":\"method=dm\\u003cbr\\u003esketch_fn=%{x}\\u003cbr\\u003en=4096\\u003cbr\\u003edeff=64\\u003cbr\\u003esum of time=%{y}\\u003cextra\\u003e\\u003c\\u002fextra\\u003e\",\"legendgroup\":\"dm, none\",\"marker\":{\"color\":\"#00cc96\",\"pattern\":{\"shape\":\"x\"}},\"name\":\"dm, none\",\"offsetgroup\":\"dm, none\",\"orientation\":\"v\",\"showlegend\":false,\"texttemplate\":\"%{value:.2s}\",\"x\":[\"none\"],\"xaxis\":\"x2\",\"y\":[0.002980498000397347],\"yaxis\":\"y2\",\"type\":\"histogram\",\"cliponaxis\":false,\"textangle\":0,\"textposition\":\"outside\"},{\"alignmentgroup\":\"True\",\"bingroup\":\"x\",\"histfunc\":\"sum\",\"hovertemplate\":\"method=dm\\u003cbr\\u003esketch_fn=%{x}\\u003cbr\\u003en=4096\\u003cbr\\u003edeff=128\\u003cbr\\u003esum of time=%{y}\\u003cextra\\u003e\\u003c\\u002fextra\\u003e\",\"legendgroup\":\"dm, none\",\"marker\":{\"color\":\"#00cc96\",\"pattern\":{\"shape\":\"x\"}},\"name\":\"dm, none\",\"offsetgroup\":\"dm, none\",\"orientation\":\"v\",\"showlegend\":false,\"texttemplate\":\"%{value:.2s}\",\"x\":[\"none\"],\"xaxis\":\"x3\",\"y\":[0.0029083899999022833],\"yaxis\":\"y3\",\"type\":\"histogram\",\"cliponaxis\":false,\"textangle\":0,\"textposition\":\"outside\"},{\"alignmentgroup\":\"True\",\"bingroup\":\"x\",\"histfunc\":\"sum\",\"hovertemplate\":\"method=pcg\\u003cbr\\u003esketch_fn=%{x}\\u003cbr\\u003en=2048\\u003cbr\\u003edeff=32\\u003cbr\\u003esum of time=%{y}\\u003cextra\\u003e\\u003c\\u002fextra\\u003e\",\"legendgroup\":\"pcg, gaussian\",\"marker\":{\"color\":\"#ab63fa\",\"pattern\":{\"shape\":\"\"}},\"name\":\"pcg, gaussian\",\"offsetgroup\":\"pcg, gaussian\",\"orientation\":\"v\",\"showlegend\":true,\"texttemplate\":\"%{value:.2s}\",\"x\":[\"gaussian\"],\"xaxis\":\"x4\",\"y\":[0.02448070299997577],\"yaxis\":\"y4\",\"type\":\"histogram\",\"cliponaxis\":false,\"textangle\":0,\"textposition\":\"outside\"},{\"alignmentgroup\":\"True\",\"bingroup\":\"x\",\"histfunc\":\"sum\",\"hovertemplate\":\"method=pcg\\u003cbr\\u003esketch_fn=%{x}\\u003cbr\\u003en=2048\\u003cbr\\u003edeff=64\\u003cbr\\u003esum of time=%{y}\\u003cextra\\u003e\\u003c\\u002fextra\\u003e\",\"legendgroup\":\"pcg, gaussian\",\"marker\":{\"color\":\"#ab63fa\",\"pattern\":{\"shape\":\"\"}},\"name\":\"pcg, gaussian\",\"offsetgroup\":\"pcg, gaussian\",\"orientation\":\"v\",\"showlegend\":false,\"texttemplate\":\"%{value:.2s}\",\"x\":[\"gaussian\"],\"xaxis\":\"x5\",\"y\":[0.0249798993333646],\"yaxis\":\"y5\",\"type\":\"histogram\",\"cliponaxis\":false,\"textangle\":0,\"textposition\":\"outside\"},{\"alignmentgroup\":\"True\",\"bingroup\":\"x\",\"histfunc\":\"sum\",\"hovertemplate\":\"method=pcg\\u003cbr\\u003esketch_fn=%{x}\\u003cbr\\u003en=2048\\u003cbr\\u003edeff=128\\u003cbr\\u003esum of time=%{y}\\u003cextra\\u003e\\u003c\\u002fextra\\u003e\",\"legendgroup\":\"pcg, gaussian\",\"marker\":{\"color\":\"#ab63fa\",\"pattern\":{\"shape\":\"\"}},\"name\":\"pcg, gaussian\",\"offsetgroup\":\"pcg, gaussian\",\"orientation\":\"v\",\"showlegend\":false,\"texttemplate\":\"%{value:.2s}\",\"x\":[\"gaussian\"],\"xaxis\":\"x6\",\"y\":[0.03192499900008745],\"yaxis\":\"y6\",\"type\":\"histogram\",\"cliponaxis\":false,\"textangle\":0,\"textposition\":\"outside\"},{\"alignmentgroup\":\"True\",\"bingroup\":\"x\",\"histfunc\":\"sum\",\"hovertemplate\":\"method=pcg\\u003cbr\\u003esketch_fn=%{x}\\u003cbr\\u003en=4096\\u003cbr\\u003edeff=32\\u003cbr\\u003esum of time=%{y}\\u003cextra\\u003e\\u003c\\u002fextra\\u003e\",\"legendgroup\":\"pcg, gaussian\",\"marker\":{\"color\":\"#ab63fa\",\"pattern\":{\"shape\":\"\"}},\"name\":\"pcg, gaussian\",\"offsetgroup\":\"pcg, gaussian\",\"orientation\":\"v\",\"showlegend\":false,\"texttemplate\":\"%{value:.2s}\",\"x\":[\"gaussian\"],\"xaxis\":\"x\",\"y\":[0.0485852833332198],\"yaxis\":\"y\",\"type\":\"histogram\",\"cliponaxis\":false,\"textangle\":0,\"textposition\":\"outside\"},{\"alignmentgroup\":\"True\",\"bingroup\":\"x\",\"histfunc\":\"sum\",\"hovertemplate\":\"method=pcg\\u003cbr\\u003esketch_fn=%{x}\\u003cbr\\u003en=4096\\u003cbr\\u003edeff=64\\u003cbr\\u003esum of time=%{y}\\u003cextra\\u003e\\u003c\\u002fextra\\u003e\",\"legendgroup\":\"pcg, gaussian\",\"marker\":{\"color\":\"#ab63fa\",\"pattern\":{\"shape\":\"\"}},\"name\":\"pcg, gaussian\",\"offsetgroup\":\"pcg, gaussian\",\"orientation\":\"v\",\"showlegend\":false,\"texttemplate\":\"%{value:.2s}\",\"x\":[\"gaussian\"],\"xaxis\":\"x2\",\"y\":[0.047250201999910736],\"yaxis\":\"y2\",\"type\":\"histogram\",\"cliponaxis\":false,\"textangle\":0,\"textposition\":\"outside\"},{\"alignmentgroup\":\"True\",\"bingroup\":\"x\",\"histfunc\":\"sum\",\"hovertemplate\":\"method=pcg\\u003cbr\\u003esketch_fn=%{x}\\u003cbr\\u003en=4096\\u003cbr\\u003edeff=128\\u003cbr\\u003esum of time=%{y}\\u003cextra\\u003e\\u003c\\u002fextra\\u003e\",\"legendgroup\":\"pcg, gaussian\",\"marker\":{\"color\":\"#ab63fa\",\"pattern\":{\"shape\":\"\"}},\"name\":\"pcg, gaussian\",\"offsetgroup\":\"pcg, gaussian\",\"orientation\":\"v\",\"showlegend\":false,\"texttemplate\":\"%{value:.2s}\",\"x\":[\"gaussian\"],\"xaxis\":\"x3\",\"y\":[0.04740870899968286],\"yaxis\":\"y3\",\"type\":\"histogram\",\"cliponaxis\":false,\"textangle\":0,\"textposition\":\"outside\"},{\"alignmentgroup\":\"True\",\"bingroup\":\"x\",\"histfunc\":\"sum\",\"hovertemplate\":\"method=pcg\\u003cbr\\u003esketch_fn=%{x}\\u003cbr\\u003en=2048\\u003cbr\\u003edeff=32\\u003cbr\\u003esum of time=%{y}\\u003cextra\\u003e\\u003c\\u002fextra\\u003e\",\"legendgroup\":\"pcg, sjlt\",\"marker\":{\"color\":\"#ab63fa\",\"pattern\":{\"shape\":\"\\u002f\"}},\"name\":\"pcg, sjlt\",\"offsetgroup\":\"pcg, sjlt\",\"orientation\":\"v\",\"showlegend\":true,\"texttemplate\":\"%{value:.2s}\",\"x\":[\"sjlt\"],\"xaxis\":\"x4\",\"y\":[0.022325694333327796],\"yaxis\":\"y4\",\"type\":\"histogram\",\"cliponaxis\":false,\"textangle\":0,\"textposition\":\"outside\"},{\"alignmentgroup\":\"True\",\"bingroup\":\"x\",\"histfunc\":\"sum\",\"hovertemplate\":\"method=pcg\\u003cbr\\u003esketch_fn=%{x}\\u003cbr\\u003en=2048\\u003cbr\\u003edeff=64\\u003cbr\\u003esum of time=%{y}\\u003cextra\\u003e\\u003c\\u002fextra\\u003e\",\"legendgroup\":\"pcg, sjlt\",\"marker\":{\"color\":\"#ab63fa\",\"pattern\":{\"shape\":\"\\u002f\"}},\"name\":\"pcg, sjlt\",\"offsetgroup\":\"pcg, sjlt\",\"orientation\":\"v\",\"showlegend\":false,\"texttemplate\":\"%{value:.2s}\",\"x\":[\"sjlt\"],\"xaxis\":\"x5\",\"y\":[0.02347826933331968],\"yaxis\":\"y5\",\"type\":\"histogram\",\"cliponaxis\":false,\"textangle\":0,\"textposition\":\"outside\"},{\"alignmentgroup\":\"True\",\"bingroup\":\"x\",\"histfunc\":\"sum\",\"hovertemplate\":\"method=pcg\\u003cbr\\u003esketch_fn=%{x}\\u003cbr\\u003en=2048\\u003cbr\\u003edeff=128\\u003cbr\\u003esum of time=%{y}\\u003cextra\\u003e\\u003c\\u002fextra\\u003e\",\"legendgroup\":\"pcg, sjlt\",\"marker\":{\"color\":\"#ab63fa\",\"pattern\":{\"shape\":\"\\u002f\"}},\"name\":\"pcg, sjlt\",\"offsetgroup\":\"pcg, sjlt\",\"orientation\":\"v\",\"showlegend\":false,\"texttemplate\":\"%{value:.2s}\",\"x\":[\"sjlt\"],\"xaxis\":\"x6\",\"y\":[0.03231963700000051],\"yaxis\":\"y6\",\"type\":\"histogram\",\"cliponaxis\":false,\"textangle\":0,\"textposition\":\"outside\"},{\"alignmentgroup\":\"True\",\"bingroup\":\"x\",\"histfunc\":\"sum\",\"hovertemplate\":\"method=pcg\\u003cbr\\u003esketch_fn=%{x}\\u003cbr\\u003en=4096\\u003cbr\\u003edeff=32\\u003cbr\\u003esum of time=%{y}\\u003cextra\\u003e\\u003c\\u002fextra\\u003e\",\"legendgroup\":\"pcg, sjlt\",\"marker\":{\"color\":\"#ab63fa\",\"pattern\":{\"shape\":\"\\u002f\"}},\"name\":\"pcg, sjlt\",\"offsetgroup\":\"pcg, sjlt\",\"orientation\":\"v\",\"showlegend\":false,\"texttemplate\":\"%{value:.2s}\",\"x\":[\"sjlt\"],\"xaxis\":\"x\",\"y\":[0.0415866279997014],\"yaxis\":\"y\",\"type\":\"histogram\",\"cliponaxis\":false,\"textangle\":0,\"textposition\":\"outside\"},{\"alignmentgroup\":\"True\",\"bingroup\":\"x\",\"histfunc\":\"sum\",\"hovertemplate\":\"method=pcg\\u003cbr\\u003esketch_fn=%{x}\\u003cbr\\u003en=4096\\u003cbr\\u003edeff=64\\u003cbr\\u003esum of time=%{y}\\u003cextra\\u003e\\u003c\\u002fextra\\u003e\",\"legendgroup\":\"pcg, sjlt\",\"marker\":{\"color\":\"#ab63fa\",\"pattern\":{\"shape\":\"\\u002f\"}},\"name\":\"pcg, sjlt\",\"offsetgroup\":\"pcg, sjlt\",\"orientation\":\"v\",\"showlegend\":false,\"texttemplate\":\"%{value:.2s}\",\"x\":[\"sjlt\"],\"xaxis\":\"x2\",\"y\":[0.04156229866657668],\"yaxis\":\"y2\",\"type\":\"histogram\",\"cliponaxis\":false,\"textangle\":0,\"textposition\":\"outside\"},{\"alignmentgroup\":\"True\",\"bingroup\":\"x\",\"histfunc\":\"sum\",\"hovertemplate\":\"method=pcg\\u003cbr\\u003esketch_fn=%{x}\\u003cbr\\u003en=4096\\u003cbr\\u003edeff=128\\u003cbr\\u003esum of time=%{y}\\u003cextra\\u003e\\u003c\\u002fextra\\u003e\",\"legendgroup\":\"pcg, sjlt\",\"marker\":{\"color\":\"#ab63fa\",\"pattern\":{\"shape\":\"\\u002f\"}},\"name\":\"pcg, sjlt\",\"offsetgroup\":\"pcg, sjlt\",\"orientation\":\"v\",\"showlegend\":false,\"texttemplate\":\"%{value:.2s}\",\"x\":[\"sjlt\"],\"xaxis\":\"x3\",\"y\":[0.042455017666725325],\"yaxis\":\"y3\",\"type\":\"histogram\",\"cliponaxis\":false,\"textangle\":0,\"textposition\":\"outside\"},{\"alignmentgroup\":\"True\",\"bingroup\":\"x\",\"histfunc\":\"sum\",\"hovertemplate\":\"method=pcg\\u003cbr\\u003esketch_fn=%{x}\\u003cbr\\u003en=2048\\u003cbr\\u003edeff=32\\u003cbr\\u003esum of time=%{y}\\u003cextra\\u003e\\u003c\\u002fextra\\u003e\",\"legendgroup\":\"pcg, srht\",\"marker\":{\"color\":\"#ab63fa\",\"pattern\":{\"shape\":\"\\\\\"}},\"name\":\"pcg, srht\",\"offsetgroup\":\"pcg, srht\",\"orientation\":\"v\",\"showlegend\":true,\"texttemplate\":\"%{value:.2s}\",\"x\":[\"srht\"],\"xaxis\":\"x4\",\"y\":[0.04460872433334846],\"yaxis\":\"y4\",\"type\":\"histogram\",\"cliponaxis\":false,\"textangle\":0,\"textposition\":\"outside\"},{\"alignmentgroup\":\"True\",\"bingroup\":\"x\",\"histfunc\":\"sum\",\"hovertemplate\":\"method=pcg\\u003cbr\\u003esketch_fn=%{x}\\u003cbr\\u003en=2048\\u003cbr\\u003edeff=64\\u003cbr\\u003esum of time=%{y}\\u003cextra\\u003e\\u003c\\u002fextra\\u003e\",\"legendgroup\":\"pcg, srht\",\"marker\":{\"color\":\"#ab63fa\",\"pattern\":{\"shape\":\"\\\\\"}},\"name\":\"pcg, srht\",\"offsetgroup\":\"pcg, srht\",\"orientation\":\"v\",\"showlegend\":false,\"texttemplate\":\"%{value:.2s}\",\"x\":[\"srht\"],\"xaxis\":\"x5\",\"y\":[0.04668155500000163],\"yaxis\":\"y5\",\"type\":\"histogram\",\"cliponaxis\":false,\"textangle\":0,\"textposition\":\"outside\"},{\"alignmentgroup\":\"True\",\"bingroup\":\"x\",\"histfunc\":\"sum\",\"hovertemplate\":\"method=pcg\\u003cbr\\u003esketch_fn=%{x}\\u003cbr\\u003en=2048\\u003cbr\\u003edeff=128\\u003cbr\\u003esum of time=%{y}\\u003cextra\\u003e\\u003c\\u002fextra\\u003e\",\"legendgroup\":\"pcg, srht\",\"marker\":{\"color\":\"#ab63fa\",\"pattern\":{\"shape\":\"\\\\\"}},\"name\":\"pcg, srht\",\"offsetgroup\":\"pcg, srht\",\"orientation\":\"v\",\"showlegend\":false,\"texttemplate\":\"%{value:.2s}\",\"x\":[\"srht\"],\"xaxis\":\"x6\",\"y\":[0.05924949099998381],\"yaxis\":\"y6\",\"type\":\"histogram\",\"cliponaxis\":false,\"textangle\":0,\"textposition\":\"outside\"},{\"alignmentgroup\":\"True\",\"bingroup\":\"x\",\"histfunc\":\"sum\",\"hovertemplate\":\"method=pcg\\u003cbr\\u003esketch_fn=%{x}\\u003cbr\\u003en=4096\\u003cbr\\u003edeff=32\\u003cbr\\u003esum of time=%{y}\\u003cextra\\u003e\\u003c\\u002fextra\\u003e\",\"legendgroup\":\"pcg, srht\",\"marker\":{\"color\":\"#ab63fa\",\"pattern\":{\"shape\":\"\\\\\"}},\"name\":\"pcg, srht\",\"offsetgroup\":\"pcg, srht\",\"orientation\":\"v\",\"showlegend\":false,\"texttemplate\":\"%{value:.2s}\",\"x\":[\"srht\"],\"xaxis\":\"x\",\"y\":[0.05878298466692892],\"yaxis\":\"y\",\"type\":\"histogram\",\"cliponaxis\":false,\"textangle\":0,\"textposition\":\"outside\"},{\"alignmentgroup\":\"True\",\"bingroup\":\"x\",\"histfunc\":\"sum\",\"hovertemplate\":\"method=pcg\\u003cbr\\u003esketch_fn=%{x}\\u003cbr\\u003en=4096\\u003cbr\\u003edeff=64\\u003cbr\\u003esum of time=%{y}\\u003cextra\\u003e\\u003c\\u002fextra\\u003e\",\"legendgroup\":\"pcg, srht\",\"marker\":{\"color\":\"#ab63fa\",\"pattern\":{\"shape\":\"\\\\\"}},\"name\":\"pcg, srht\",\"offsetgroup\":\"pcg, srht\",\"orientation\":\"v\",\"showlegend\":false,\"texttemplate\":\"%{value:.2s}\",\"x\":[\"srht\"],\"xaxis\":\"x2\",\"y\":[0.06708787433368948],\"yaxis\":\"y2\",\"type\":\"histogram\",\"cliponaxis\":false,\"textangle\":0,\"textposition\":\"outside\"},{\"alignmentgroup\":\"True\",\"bingroup\":\"x\",\"histfunc\":\"sum\",\"hovertemplate\":\"method=pcg\\u003cbr\\u003esketch_fn=%{x}\\u003cbr\\u003en=4096\\u003cbr\\u003edeff=128\\u003cbr\\u003esum of time=%{y}\\u003cextra\\u003e\\u003c\\u002fextra\\u003e\",\"legendgroup\":\"pcg, srht\",\"marker\":{\"color\":\"#ab63fa\",\"pattern\":{\"shape\":\"\\\\\"}},\"name\":\"pcg, srht\",\"offsetgroup\":\"pcg, srht\",\"orientation\":\"v\",\"showlegend\":false,\"texttemplate\":\"%{value:.2s}\",\"x\":[\"srht\"],\"xaxis\":\"x3\",\"y\":[0.059386377333491204],\"yaxis\":\"y3\",\"type\":\"histogram\",\"cliponaxis\":false,\"textangle\":0,\"textposition\":\"outside\"}],                        {\"template\":{\"data\":{\"histogram2dcontour\":[{\"type\":\"histogram2dcontour\",\"colorbar\":{\"outlinewidth\":0,\"ticks\":\"\"},\"colorscale\":[[0.0,\"#0d0887\"],[0.1111111111111111,\"#46039f\"],[0.2222222222222222,\"#7201a8\"],[0.3333333333333333,\"#9c179e\"],[0.4444444444444444,\"#bd3786\"],[0.5555555555555556,\"#d8576b\"],[0.6666666666666666,\"#ed7953\"],[0.7777777777777778,\"#fb9f3a\"],[0.8888888888888888,\"#fdca26\"],[1.0,\"#f0f921\"]]}],\"choropleth\":[{\"type\":\"choropleth\",\"colorbar\":{\"outlinewidth\":0,\"ticks\":\"\"}}],\"histogram2d\":[{\"type\":\"histogram2d\",\"colorbar\":{\"outlinewidth\":0,\"ticks\":\"\"},\"colorscale\":[[0.0,\"#0d0887\"],[0.1111111111111111,\"#46039f\"],[0.2222222222222222,\"#7201a8\"],[0.3333333333333333,\"#9c179e\"],[0.4444444444444444,\"#bd3786\"],[0.5555555555555556,\"#d8576b\"],[0.6666666666666666,\"#ed7953\"],[0.7777777777777778,\"#fb9f3a\"],[0.8888888888888888,\"#fdca26\"],[1.0,\"#f0f921\"]]}],\"heatmap\":[{\"type\":\"heatmap\",\"colorbar\":{\"outlinewidth\":0,\"ticks\":\"\"},\"colorscale\":[[0.0,\"#0d0887\"],[0.1111111111111111,\"#46039f\"],[0.2222222222222222,\"#7201a8\"],[0.3333333333333333,\"#9c179e\"],[0.4444444444444444,\"#bd3786\"],[0.5555555555555556,\"#d8576b\"],[0.6666666666666666,\"#ed7953\"],[0.7777777777777778,\"#fb9f3a\"],[0.8888888888888888,\"#fdca26\"],[1.0,\"#f0f921\"]]}],\"heatmapgl\":[{\"type\":\"heatmapgl\",\"colorbar\":{\"outlinewidth\":0,\"ticks\":\"\"},\"colorscale\":[[0.0,\"#0d0887\"],[0.1111111111111111,\"#46039f\"],[0.2222222222222222,\"#7201a8\"],[0.3333333333333333,\"#9c179e\"],[0.4444444444444444,\"#bd3786\"],[0.5555555555555556,\"#d8576b\"],[0.6666666666666666,\"#ed7953\"],[0.7777777777777778,\"#fb9f3a\"],[0.8888888888888888,\"#fdca26\"],[1.0,\"#f0f921\"]]}],\"contourcarpet\":[{\"type\":\"contourcarpet\",\"colorbar\":{\"outlinewidth\":0,\"ticks\":\"\"}}],\"contour\":[{\"type\":\"contour\",\"colorbar\":{\"outlinewidth\":0,\"ticks\":\"\"},\"colorscale\":[[0.0,\"#0d0887\"],[0.1111111111111111,\"#46039f\"],[0.2222222222222222,\"#7201a8\"],[0.3333333333333333,\"#9c179e\"],[0.4444444444444444,\"#bd3786\"],[0.5555555555555556,\"#d8576b\"],[0.6666666666666666,\"#ed7953\"],[0.7777777777777778,\"#fb9f3a\"],[0.8888888888888888,\"#fdca26\"],[1.0,\"#f0f921\"]]}],\"surface\":[{\"type\":\"surface\",\"colorbar\":{\"outlinewidth\":0,\"ticks\":\"\"},\"colorscale\":[[0.0,\"#0d0887\"],[0.1111111111111111,\"#46039f\"],[0.2222222222222222,\"#7201a8\"],[0.3333333333333333,\"#9c179e\"],[0.4444444444444444,\"#bd3786\"],[0.5555555555555556,\"#d8576b\"],[0.6666666666666666,\"#ed7953\"],[0.7777777777777778,\"#fb9f3a\"],[0.8888888888888888,\"#fdca26\"],[1.0,\"#f0f921\"]]}],\"mesh3d\":[{\"type\":\"mesh3d\",\"colorbar\":{\"outlinewidth\":0,\"ticks\":\"\"}}],\"scatter\":[{\"fillpattern\":{\"fillmode\":\"overlay\",\"size\":10,\"solidity\":0.2},\"type\":\"scatter\"}],\"parcoords\":[{\"type\":\"parcoords\",\"line\":{\"colorbar\":{\"outlinewidth\":0,\"ticks\":\"\"}}}],\"scatterpolargl\":[{\"type\":\"scatterpolargl\",\"marker\":{\"colorbar\":{\"outlinewidth\":0,\"ticks\":\"\"}}}],\"bar\":[{\"error_x\":{\"color\":\"#2a3f5f\"},\"error_y\":{\"color\":\"#2a3f5f\"},\"marker\":{\"line\":{\"color\":\"#E5ECF6\",\"width\":0.5},\"pattern\":{\"fillmode\":\"overlay\",\"size\":10,\"solidity\":0.2}},\"type\":\"bar\"}],\"scattergeo\":[{\"type\":\"scattergeo\",\"marker\":{\"colorbar\":{\"outlinewidth\":0,\"ticks\":\"\"}}}],\"scatterpolar\":[{\"type\":\"scatterpolar\",\"marker\":{\"colorbar\":{\"outlinewidth\":0,\"ticks\":\"\"}}}],\"histogram\":[{\"marker\":{\"pattern\":{\"fillmode\":\"overlay\",\"size\":10,\"solidity\":0.2}},\"type\":\"histogram\"}],\"scattergl\":[{\"type\":\"scattergl\",\"marker\":{\"colorbar\":{\"outlinewidth\":0,\"ticks\":\"\"}}}],\"scatter3d\":[{\"type\":\"scatter3d\",\"line\":{\"colorbar\":{\"outlinewidth\":0,\"ticks\":\"\"}},\"marker\":{\"colorbar\":{\"outlinewidth\":0,\"ticks\":\"\"}}}],\"scattermapbox\":[{\"type\":\"scattermapbox\",\"marker\":{\"colorbar\":{\"outlinewidth\":0,\"ticks\":\"\"}}}],\"scatterternary\":[{\"type\":\"scatterternary\",\"marker\":{\"colorbar\":{\"outlinewidth\":0,\"ticks\":\"\"}}}],\"scattercarpet\":[{\"type\":\"scattercarpet\",\"marker\":{\"colorbar\":{\"outlinewidth\":0,\"ticks\":\"\"}}}],\"carpet\":[{\"aaxis\":{\"endlinecolor\":\"#2a3f5f\",\"gridcolor\":\"white\",\"linecolor\":\"white\",\"minorgridcolor\":\"white\",\"startlinecolor\":\"#2a3f5f\"},\"baxis\":{\"endlinecolor\":\"#2a3f5f\",\"gridcolor\":\"white\",\"linecolor\":\"white\",\"minorgridcolor\":\"white\",\"startlinecolor\":\"#2a3f5f\"},\"type\":\"carpet\"}],\"table\":[{\"cells\":{\"fill\":{\"color\":\"#EBF0F8\"},\"line\":{\"color\":\"white\"}},\"header\":{\"fill\":{\"color\":\"#C8D4E3\"},\"line\":{\"color\":\"white\"}},\"type\":\"table\"}],\"barpolar\":[{\"marker\":{\"line\":{\"color\":\"#E5ECF6\",\"width\":0.5},\"pattern\":{\"fillmode\":\"overlay\",\"size\":10,\"solidity\":0.2}},\"type\":\"barpolar\"}],\"pie\":[{\"automargin\":true,\"type\":\"pie\"}]},\"layout\":{\"autotypenumbers\":\"strict\",\"colorway\":[\"#636efa\",\"#EF553B\",\"#00cc96\",\"#ab63fa\",\"#FFA15A\",\"#19d3f3\",\"#FF6692\",\"#B6E880\",\"#FF97FF\",\"#FECB52\"],\"font\":{\"color\":\"#2a3f5f\"},\"hovermode\":\"closest\",\"hoverlabel\":{\"align\":\"left\"},\"paper_bgcolor\":\"white\",\"plot_bgcolor\":\"#E5ECF6\",\"polar\":{\"bgcolor\":\"#E5ECF6\",\"angularaxis\":{\"gridcolor\":\"white\",\"linecolor\":\"white\",\"ticks\":\"\"},\"radialaxis\":{\"gridcolor\":\"white\",\"linecolor\":\"white\",\"ticks\":\"\"}},\"ternary\":{\"bgcolor\":\"#E5ECF6\",\"aaxis\":{\"gridcolor\":\"white\",\"linecolor\":\"white\",\"ticks\":\"\"},\"baxis\":{\"gridcolor\":\"white\",\"linecolor\":\"white\",\"ticks\":\"\"},\"caxis\":{\"gridcolor\":\"white\",\"linecolor\":\"white\",\"ticks\":\"\"}},\"coloraxis\":{\"colorbar\":{\"outlinewidth\":0,\"ticks\":\"\"}},\"colorscale\":{\"sequential\":[[0.0,\"#0d0887\"],[0.1111111111111111,\"#46039f\"],[0.2222222222222222,\"#7201a8\"],[0.3333333333333333,\"#9c179e\"],[0.4444444444444444,\"#bd3786\"],[0.5555555555555556,\"#d8576b\"],[0.6666666666666666,\"#ed7953\"],[0.7777777777777778,\"#fb9f3a\"],[0.8888888888888888,\"#fdca26\"],[1.0,\"#f0f921\"]],\"sequentialminus\":[[0.0,\"#0d0887\"],[0.1111111111111111,\"#46039f\"],[0.2222222222222222,\"#7201a8\"],[0.3333333333333333,\"#9c179e\"],[0.4444444444444444,\"#bd3786\"],[0.5555555555555556,\"#d8576b\"],[0.6666666666666666,\"#ed7953\"],[0.7777777777777778,\"#fb9f3a\"],[0.8888888888888888,\"#fdca26\"],[1.0,\"#f0f921\"]],\"diverging\":[[0,\"#8e0152\"],[0.1,\"#c51b7d\"],[0.2,\"#de77ae\"],[0.3,\"#f1b6da\"],[0.4,\"#fde0ef\"],[0.5,\"#f7f7f7\"],[0.6,\"#e6f5d0\"],[0.7,\"#b8e186\"],[0.8,\"#7fbc41\"],[0.9,\"#4d9221\"],[1,\"#276419\"]]},\"xaxis\":{\"gridcolor\":\"white\",\"linecolor\":\"white\",\"ticks\":\"\",\"title\":{\"standoff\":15},\"zerolinecolor\":\"white\",\"automargin\":true,\"zerolinewidth\":2},\"yaxis\":{\"gridcolor\":\"white\",\"linecolor\":\"white\",\"ticks\":\"\",\"title\":{\"standoff\":15},\"zerolinecolor\":\"white\",\"automargin\":true,\"zerolinewidth\":2},\"scene\":{\"xaxis\":{\"backgroundcolor\":\"#E5ECF6\",\"gridcolor\":\"white\",\"linecolor\":\"white\",\"showbackground\":true,\"ticks\":\"\",\"zerolinecolor\":\"white\",\"gridwidth\":2},\"yaxis\":{\"backgroundcolor\":\"#E5ECF6\",\"gridcolor\":\"white\",\"linecolor\":\"white\",\"showbackground\":true,\"ticks\":\"\",\"zerolinecolor\":\"white\",\"gridwidth\":2},\"zaxis\":{\"backgroundcolor\":\"#E5ECF6\",\"gridcolor\":\"white\",\"linecolor\":\"white\",\"showbackground\":true,\"ticks\":\"\",\"zerolinecolor\":\"white\",\"gridwidth\":2}},\"shapedefaults\":{\"line\":{\"color\":\"#2a3f5f\"}},\"annotationdefaults\":{\"arrowcolor\":\"#2a3f5f\",\"arrowhead\":0,\"arrowwidth\":1},\"geo\":{\"bgcolor\":\"white\",\"landcolor\":\"#E5ECF6\",\"subunitcolor\":\"white\",\"showland\":true,\"showlakes\":true,\"lakecolor\":\"white\"},\"title\":{\"x\":0.05},\"mapbox\":{\"style\":\"light\"}}},\"xaxis\":{\"anchor\":\"y\",\"domain\":[0.0,0.3133333333333333],\"title\":{\"text\":\"sketch_fn\"},\"categoryorder\":\"array\",\"categoryarray\":[\"gaussian\",\"sjlt\",\"srht\",\"none\"]},\"yaxis\":{\"anchor\":\"x\",\"domain\":[0.0,0.485],\"title\":{\"text\":\"sum of time\"}},\"xaxis2\":{\"anchor\":\"y2\",\"domain\":[0.3333333333333333,0.6466666666666666],\"matches\":\"x\",\"title\":{\"text\":\"sketch_fn\"},\"categoryorder\":\"array\",\"categoryarray\":[\"gaussian\",\"sjlt\",\"srht\",\"none\"]},\"yaxis2\":{\"anchor\":\"x2\",\"domain\":[0.0,0.485],\"matches\":\"y\",\"showticklabels\":false},\"xaxis3\":{\"anchor\":\"y3\",\"domain\":[0.6666666666666666,0.98],\"matches\":\"x\",\"title\":{\"text\":\"sketch_fn\"},\"categoryorder\":\"array\",\"categoryarray\":[\"gaussian\",\"sjlt\",\"srht\",\"none\"]},\"yaxis3\":{\"anchor\":\"x3\",\"domain\":[0.0,0.485],\"matches\":\"y\",\"showticklabels\":false},\"xaxis4\":{\"anchor\":\"y4\",\"domain\":[0.0,0.3133333333333333],\"matches\":\"x\",\"showticklabels\":false},\"yaxis4\":{\"anchor\":\"x4\",\"domain\":[0.515,1.0],\"matches\":\"y\",\"title\":{\"text\":\"sum of time\"}},\"xaxis5\":{\"anchor\":\"y5\",\"domain\":[0.3333333333333333,0.6466666666666666],\"matches\":\"x\",\"showticklabels\":false},\"yaxis5\":{\"anchor\":\"x5\",\"domain\":[0.515,1.0],\"matches\":\"y\",\"showticklabels\":false},\"xaxis6\":{\"anchor\":\"y6\",\"domain\":[0.6666666666666666,0.98],\"matches\":\"x\",\"showticklabels\":false},\"yaxis6\":{\"anchor\":\"x6\",\"domain\":[0.515,1.0],\"matches\":\"y\",\"showticklabels\":false},\"annotations\":[{\"font\":{},\"showarrow\":false,\"text\":\"deff=32\",\"x\":0.15666666666666665,\"xanchor\":\"center\",\"xref\":\"paper\",\"y\":1.0,\"yanchor\":\"bottom\",\"yref\":\"paper\"},{\"font\":{},\"showarrow\":false,\"text\":\"deff=64\",\"x\":0.49,\"xanchor\":\"center\",\"xref\":\"paper\",\"y\":1.0,\"yanchor\":\"bottom\",\"yref\":\"paper\"},{\"font\":{},\"showarrow\":false,\"text\":\"deff=128\",\"x\":0.8233333333333333,\"xanchor\":\"center\",\"xref\":\"paper\",\"y\":1.0,\"yanchor\":\"bottom\",\"yref\":\"paper\"},{\"font\":{},\"showarrow\":false,\"text\":\"n=4096\",\"textangle\":90,\"x\":0.98,\"xanchor\":\"left\",\"xref\":\"paper\",\"y\":0.2425,\"yanchor\":\"middle\",\"yref\":\"paper\"},{\"font\":{},\"showarrow\":false,\"text\":\"n=2048\",\"textangle\":90,\"x\":0.98,\"xanchor\":\"left\",\"xref\":\"paper\",\"y\":0.7575000000000001,\"yanchor\":\"middle\",\"yref\":\"paper\"}],\"legend\":{\"title\":{\"text\":\"method, sketch_fn\"},\"tracegroupgap\":0},\"margin\":{\"t\":60},\"barmode\":\"group\",\"height\":700},                        {\"responsive\": true}                    ).then(function(){\n",
       "                            \n",
       "var gd = document.getElementById('f9478023-6d71-4397-8be3-950f64c33513');\n",
       "var x = new MutationObserver(function (mutations, observer) {{\n",
       "        var display = window.getComputedStyle(gd).display;\n",
       "        if (!display || display === 'none') {{\n",
       "            console.log([gd, 'removed!']);\n",
       "            Plotly.purge(gd);\n",
       "            observer.disconnect();\n",
       "        }}\n",
       "}});\n",
       "\n",
       "// Listen for the removal of the full notebook cells\n",
       "var notebookContainer = gd.closest('#notebook-container');\n",
       "if (notebookContainer) {{\n",
       "    x.observe(notebookContainer, {childList: true});\n",
       "}}\n",
       "\n",
       "// Listen for the clearing of the current output cell\n",
       "var outputEl = gd.closest('.output');\n",
       "if (outputEl) {{\n",
       "    x.observe(outputEl, {childList: true});\n",
       "}}\n",
       "\n",
       "                        })                };                });            </script>        </div>"
      ]
     },
     "metadata": {},
     "output_type": "display_data"
    },
    {
     "name": "stdout",
     "output_type": "stream",
     "text": [
      "d=256\n"
     ]
    },
    {
     "data": {
      "application/vnd.plotly.v1+json": {
       "config": {
        "plotlyServerURL": "https://plot.ly"
       },
       "data": [
        {
         "alignmentgroup": "True",
         "bingroup": "x",
         "cliponaxis": false,
         "histfunc": "sum",
         "hovertemplate": "method=adacg<br>sketch_fn=%{x}<br>n=2048<br>deff=32<br>sum of time=%{y}<extra></extra>",
         "legendgroup": "adacg, gaussian",
         "marker": {
          "color": "#636efa",
          "pattern": {
           "shape": ""
          }
         },
         "name": "adacg, gaussian",
         "offsetgroup": "adacg, gaussian",
         "orientation": "v",
         "showlegend": true,
         "textangle": 0,
         "textposition": "outside",
         "texttemplate": "%{value:.2s}",
         "type": "histogram",
         "x": [
          "gaussian"
         ],
         "xaxis": "x5",
         "y": [
          0.01352294333332793
         ],
         "yaxis": "y5"
        },
        {
         "alignmentgroup": "True",
         "bingroup": "x",
         "cliponaxis": false,
         "histfunc": "sum",
         "hovertemplate": "method=adacg<br>sketch_fn=%{x}<br>n=2048<br>deff=64<br>sum of time=%{y}<extra></extra>",
         "legendgroup": "adacg, gaussian",
         "marker": {
          "color": "#636efa",
          "pattern": {
           "shape": ""
          }
         },
         "name": "adacg, gaussian",
         "offsetgroup": "adacg, gaussian",
         "orientation": "v",
         "showlegend": false,
         "textangle": 0,
         "textposition": "outside",
         "texttemplate": "%{value:.2s}",
         "type": "histogram",
         "x": [
          "gaussian"
         ],
         "xaxis": "x6",
         "y": [
          0.013294811333291058
         ],
         "yaxis": "y6"
        },
        {
         "alignmentgroup": "True",
         "bingroup": "x",
         "cliponaxis": false,
         "histfunc": "sum",
         "hovertemplate": "method=adacg<br>sketch_fn=%{x}<br>n=2048<br>deff=128<br>sum of time=%{y}<extra></extra>",
         "legendgroup": "adacg, gaussian",
         "marker": {
          "color": "#636efa",
          "pattern": {
           "shape": ""
          }
         },
         "name": "adacg, gaussian",
         "offsetgroup": "adacg, gaussian",
         "orientation": "v",
         "showlegend": false,
         "textangle": 0,
         "textposition": "outside",
         "texttemplate": "%{value:.2s}",
         "type": "histogram",
         "x": [
          "gaussian"
         ],
         "xaxis": "x7",
         "y": [
          0.011638020999953369
         ],
         "yaxis": "y7"
        },
        {
         "alignmentgroup": "True",
         "bingroup": "x",
         "cliponaxis": false,
         "histfunc": "sum",
         "hovertemplate": "method=adacg<br>sketch_fn=%{x}<br>n=2048<br>deff=256<br>sum of time=%{y}<extra></extra>",
         "legendgroup": "adacg, gaussian",
         "marker": {
          "color": "#636efa",
          "pattern": {
           "shape": ""
          }
         },
         "name": "adacg, gaussian",
         "offsetgroup": "adacg, gaussian",
         "orientation": "v",
         "showlegend": false,
         "textangle": 0,
         "textposition": "outside",
         "texttemplate": "%{value:.2s}",
         "type": "histogram",
         "x": [
          "gaussian"
         ],
         "xaxis": "x8",
         "y": [
          0.012512293333353833
         ],
         "yaxis": "y8"
        },
        {
         "alignmentgroup": "True",
         "bingroup": "x",
         "cliponaxis": false,
         "histfunc": "sum",
         "hovertemplate": "method=adacg<br>sketch_fn=%{x}<br>n=4096<br>deff=32<br>sum of time=%{y}<extra></extra>",
         "legendgroup": "adacg, gaussian",
         "marker": {
          "color": "#636efa",
          "pattern": {
           "shape": ""
          }
         },
         "name": "adacg, gaussian",
         "offsetgroup": "adacg, gaussian",
         "orientation": "v",
         "showlegend": false,
         "textangle": 0,
         "textposition": "outside",
         "texttemplate": "%{value:.2s}",
         "type": "histogram",
         "x": [
          "gaussian"
         ],
         "xaxis": "x",
         "y": [
          0.018978212666600786
         ],
         "yaxis": "y"
        },
        {
         "alignmentgroup": "True",
         "bingroup": "x",
         "cliponaxis": false,
         "histfunc": "sum",
         "hovertemplate": "method=adacg<br>sketch_fn=%{x}<br>n=4096<br>deff=64<br>sum of time=%{y}<extra></extra>",
         "legendgroup": "adacg, gaussian",
         "marker": {
          "color": "#636efa",
          "pattern": {
           "shape": ""
          }
         },
         "name": "adacg, gaussian",
         "offsetgroup": "adacg, gaussian",
         "orientation": "v",
         "showlegend": false,
         "textangle": 0,
         "textposition": "outside",
         "texttemplate": "%{value:.2s}",
         "type": "histogram",
         "x": [
          "gaussian"
         ],
         "xaxis": "x2",
         "y": [
          0.019703124999978172
         ],
         "yaxis": "y2"
        },
        {
         "alignmentgroup": "True",
         "bingroup": "x",
         "cliponaxis": false,
         "histfunc": "sum",
         "hovertemplate": "method=adacg<br>sketch_fn=%{x}<br>n=4096<br>deff=128<br>sum of time=%{y}<extra></extra>",
         "legendgroup": "adacg, gaussian",
         "marker": {
          "color": "#636efa",
          "pattern": {
           "shape": ""
          }
         },
         "name": "adacg, gaussian",
         "offsetgroup": "adacg, gaussian",
         "orientation": "v",
         "showlegend": false,
         "textangle": 0,
         "textposition": "outside",
         "texttemplate": "%{value:.2s}",
         "type": "histogram",
         "x": [
          "gaussian"
         ],
         "xaxis": "x3",
         "y": [
          0.01865118700000797
         ],
         "yaxis": "y3"
        },
        {
         "alignmentgroup": "True",
         "bingroup": "x",
         "cliponaxis": false,
         "histfunc": "sum",
         "hovertemplate": "method=adacg<br>sketch_fn=%{x}<br>n=4096<br>deff=256<br>sum of time=%{y}<extra></extra>",
         "legendgroup": "adacg, gaussian",
         "marker": {
          "color": "#636efa",
          "pattern": {
           "shape": ""
          }
         },
         "name": "adacg, gaussian",
         "offsetgroup": "adacg, gaussian",
         "orientation": "v",
         "showlegend": false,
         "textangle": 0,
         "textposition": "outside",
         "texttemplate": "%{value:.2s}",
         "type": "histogram",
         "x": [
          "gaussian"
         ],
         "xaxis": "x4",
         "y": [
          0.019841429333306827
         ],
         "yaxis": "y4"
        },
        {
         "alignmentgroup": "True",
         "bingroup": "x",
         "cliponaxis": false,
         "histfunc": "sum",
         "hovertemplate": "method=adacg<br>sketch_fn=%{x}<br>n=2048<br>deff=32<br>sum of time=%{y}<extra></extra>",
         "legendgroup": "adacg, sjlt",
         "marker": {
          "color": "#636efa",
          "pattern": {
           "shape": "/"
          }
         },
         "name": "adacg, sjlt",
         "offsetgroup": "adacg, sjlt",
         "orientation": "v",
         "showlegend": true,
         "textangle": 0,
         "textposition": "outside",
         "texttemplate": "%{value:.2s}",
         "type": "histogram",
         "x": [
          "sjlt"
         ],
         "xaxis": "x5",
         "y": [
          0.011010864000013498
         ],
         "yaxis": "y5"
        },
        {
         "alignmentgroup": "True",
         "bingroup": "x",
         "cliponaxis": false,
         "histfunc": "sum",
         "hovertemplate": "method=adacg<br>sketch_fn=%{x}<br>n=2048<br>deff=64<br>sum of time=%{y}<extra></extra>",
         "legendgroup": "adacg, sjlt",
         "marker": {
          "color": "#636efa",
          "pattern": {
           "shape": "/"
          }
         },
         "name": "adacg, sjlt",
         "offsetgroup": "adacg, sjlt",
         "orientation": "v",
         "showlegend": false,
         "textangle": 0,
         "textposition": "outside",
         "texttemplate": "%{value:.2s}",
         "type": "histogram",
         "x": [
          "sjlt"
         ],
         "xaxis": "x6",
         "y": [
          0.01236437366666602
         ],
         "yaxis": "y6"
        },
        {
         "alignmentgroup": "True",
         "bingroup": "x",
         "cliponaxis": false,
         "histfunc": "sum",
         "hovertemplate": "method=adacg<br>sketch_fn=%{x}<br>n=2048<br>deff=128<br>sum of time=%{y}<extra></extra>",
         "legendgroup": "adacg, sjlt",
         "marker": {
          "color": "#636efa",
          "pattern": {
           "shape": "/"
          }
         },
         "name": "adacg, sjlt",
         "offsetgroup": "adacg, sjlt",
         "orientation": "v",
         "showlegend": false,
         "textangle": 0,
         "textposition": "outside",
         "texttemplate": "%{value:.2s}",
         "type": "histogram",
         "x": [
          "sjlt"
         ],
         "xaxis": "x7",
         "y": [
          0.010518484666666456
         ],
         "yaxis": "y7"
        },
        {
         "alignmentgroup": "True",
         "bingroup": "x",
         "cliponaxis": false,
         "histfunc": "sum",
         "hovertemplate": "method=adacg<br>sketch_fn=%{x}<br>n=2048<br>deff=256<br>sum of time=%{y}<extra></extra>",
         "legendgroup": "adacg, sjlt",
         "marker": {
          "color": "#636efa",
          "pattern": {
           "shape": "/"
          }
         },
         "name": "adacg, sjlt",
         "offsetgroup": "adacg, sjlt",
         "orientation": "v",
         "showlegend": false,
         "textangle": 0,
         "textposition": "outside",
         "texttemplate": "%{value:.2s}",
         "type": "histogram",
         "x": [
          "sjlt"
         ],
         "xaxis": "x8",
         "y": [
          0.012622188666682632
         ],
         "yaxis": "y8"
        },
        {
         "alignmentgroup": "True",
         "bingroup": "x",
         "cliponaxis": false,
         "histfunc": "sum",
         "hovertemplate": "method=adacg<br>sketch_fn=%{x}<br>n=4096<br>deff=32<br>sum of time=%{y}<extra></extra>",
         "legendgroup": "adacg, sjlt",
         "marker": {
          "color": "#636efa",
          "pattern": {
           "shape": "/"
          }
         },
         "name": "adacg, sjlt",
         "offsetgroup": "adacg, sjlt",
         "orientation": "v",
         "showlegend": false,
         "textangle": 0,
         "textposition": "outside",
         "texttemplate": "%{value:.2s}",
         "type": "histogram",
         "x": [
          "sjlt"
         ],
         "xaxis": "x",
         "y": [
          0.017862362999949255
         ],
         "yaxis": "y"
        },
        {
         "alignmentgroup": "True",
         "bingroup": "x",
         "cliponaxis": false,
         "histfunc": "sum",
         "hovertemplate": "method=adacg<br>sketch_fn=%{x}<br>n=4096<br>deff=64<br>sum of time=%{y}<extra></extra>",
         "legendgroup": "adacg, sjlt",
         "marker": {
          "color": "#636efa",
          "pattern": {
           "shape": "/"
          }
         },
         "name": "adacg, sjlt",
         "offsetgroup": "adacg, sjlt",
         "orientation": "v",
         "showlegend": false,
         "textangle": 0,
         "textposition": "outside",
         "texttemplate": "%{value:.2s}",
         "type": "histogram",
         "x": [
          "sjlt"
         ],
         "xaxis": "x2",
         "y": [
          0.016575909333369054
         ],
         "yaxis": "y2"
        },
        {
         "alignmentgroup": "True",
         "bingroup": "x",
         "cliponaxis": false,
         "histfunc": "sum",
         "hovertemplate": "method=adacg<br>sketch_fn=%{x}<br>n=4096<br>deff=128<br>sum of time=%{y}<extra></extra>",
         "legendgroup": "adacg, sjlt",
         "marker": {
          "color": "#636efa",
          "pattern": {
           "shape": "/"
          }
         },
         "name": "adacg, sjlt",
         "offsetgroup": "adacg, sjlt",
         "orientation": "v",
         "showlegend": false,
         "textangle": 0,
         "textposition": "outside",
         "texttemplate": "%{value:.2s}",
         "type": "histogram",
         "x": [
          "sjlt"
         ],
         "xaxis": "x3",
         "y": [
          0.017347232666603908
         ],
         "yaxis": "y3"
        },
        {
         "alignmentgroup": "True",
         "bingroup": "x",
         "cliponaxis": false,
         "histfunc": "sum",
         "hovertemplate": "method=adacg<br>sketch_fn=%{x}<br>n=4096<br>deff=256<br>sum of time=%{y}<extra></extra>",
         "legendgroup": "adacg, sjlt",
         "marker": {
          "color": "#636efa",
          "pattern": {
           "shape": "/"
          }
         },
         "name": "adacg, sjlt",
         "offsetgroup": "adacg, sjlt",
         "orientation": "v",
         "showlegend": false,
         "textangle": 0,
         "textposition": "outside",
         "texttemplate": "%{value:.2s}",
         "type": "histogram",
         "x": [
          "sjlt"
         ],
         "xaxis": "x4",
         "y": [
          0.016499939666876646
         ],
         "yaxis": "y4"
        },
        {
         "alignmentgroup": "True",
         "bingroup": "x",
         "cliponaxis": false,
         "histfunc": "sum",
         "hovertemplate": "method=adacg<br>sketch_fn=%{x}<br>n=2048<br>deff=32<br>sum of time=%{y}<extra></extra>",
         "legendgroup": "adacg, srht",
         "marker": {
          "color": "#636efa",
          "pattern": {
           "shape": "\\"
          }
         },
         "name": "adacg, srht",
         "offsetgroup": "adacg, srht",
         "orientation": "v",
         "showlegend": true,
         "textangle": 0,
         "textposition": "outside",
         "texttemplate": "%{value:.2s}",
         "type": "histogram",
         "x": [
          "srht"
         ],
         "xaxis": "x5",
         "y": [
          0.014261780666743107
         ],
         "yaxis": "y5"
        },
        {
         "alignmentgroup": "True",
         "bingroup": "x",
         "cliponaxis": false,
         "histfunc": "sum",
         "hovertemplate": "method=adacg<br>sketch_fn=%{x}<br>n=2048<br>deff=64<br>sum of time=%{y}<extra></extra>",
         "legendgroup": "adacg, srht",
         "marker": {
          "color": "#636efa",
          "pattern": {
           "shape": "\\"
          }
         },
         "name": "adacg, srht",
         "offsetgroup": "adacg, srht",
         "orientation": "v",
         "showlegend": false,
         "textangle": 0,
         "textposition": "outside",
         "texttemplate": "%{value:.2s}",
         "type": "histogram",
         "x": [
          "srht"
         ],
         "xaxis": "x6",
         "y": [
          0.01327008800005084
         ],
         "yaxis": "y6"
        },
        {
         "alignmentgroup": "True",
         "bingroup": "x",
         "cliponaxis": false,
         "histfunc": "sum",
         "hovertemplate": "method=adacg<br>sketch_fn=%{x}<br>n=2048<br>deff=128<br>sum of time=%{y}<extra></extra>",
         "legendgroup": "adacg, srht",
         "marker": {
          "color": "#636efa",
          "pattern": {
           "shape": "\\"
          }
         },
         "name": "adacg, srht",
         "offsetgroup": "adacg, srht",
         "orientation": "v",
         "showlegend": false,
         "textangle": 0,
         "textposition": "outside",
         "texttemplate": "%{value:.2s}",
         "type": "histogram",
         "x": [
          "srht"
         ],
         "xaxis": "x7",
         "y": [
          0.01299040000003515
         ],
         "yaxis": "y7"
        },
        {
         "alignmentgroup": "True",
         "bingroup": "x",
         "cliponaxis": false,
         "histfunc": "sum",
         "hovertemplate": "method=adacg<br>sketch_fn=%{x}<br>n=2048<br>deff=256<br>sum of time=%{y}<extra></extra>",
         "legendgroup": "adacg, srht",
         "marker": {
          "color": "#636efa",
          "pattern": {
           "shape": "\\"
          }
         },
         "name": "adacg, srht",
         "offsetgroup": "adacg, srht",
         "orientation": "v",
         "showlegend": false,
         "textangle": 0,
         "textposition": "outside",
         "texttemplate": "%{value:.2s}",
         "type": "histogram",
         "x": [
          "srht"
         ],
         "xaxis": "x8",
         "y": [
          0.02358451166666479
         ],
         "yaxis": "y8"
        },
        {
         "alignmentgroup": "True",
         "bingroup": "x",
         "cliponaxis": false,
         "histfunc": "sum",
         "hovertemplate": "method=adacg<br>sketch_fn=%{x}<br>n=4096<br>deff=32<br>sum of time=%{y}<extra></extra>",
         "legendgroup": "adacg, srht",
         "marker": {
          "color": "#636efa",
          "pattern": {
           "shape": "\\"
          }
         },
         "name": "adacg, srht",
         "offsetgroup": "adacg, srht",
         "orientation": "v",
         "showlegend": false,
         "textangle": 0,
         "textposition": "outside",
         "texttemplate": "%{value:.2s}",
         "type": "histogram",
         "x": [
          "srht"
         ],
         "xaxis": "x",
         "y": [
          0.021114093666559103
         ],
         "yaxis": "y"
        },
        {
         "alignmentgroup": "True",
         "bingroup": "x",
         "cliponaxis": false,
         "histfunc": "sum",
         "hovertemplate": "method=adacg<br>sketch_fn=%{x}<br>n=4096<br>deff=64<br>sum of time=%{y}<extra></extra>",
         "legendgroup": "adacg, srht",
         "marker": {
          "color": "#636efa",
          "pattern": {
           "shape": "\\"
          }
         },
         "name": "adacg, srht",
         "offsetgroup": "adacg, srht",
         "orientation": "v",
         "showlegend": false,
         "textangle": 0,
         "textposition": "outside",
         "texttemplate": "%{value:.2s}",
         "type": "histogram",
         "x": [
          "srht"
         ],
         "xaxis": "x2",
         "y": [
          0.02168029533337782
         ],
         "yaxis": "y2"
        },
        {
         "alignmentgroup": "True",
         "bingroup": "x",
         "cliponaxis": false,
         "histfunc": "sum",
         "hovertemplate": "method=adacg<br>sketch_fn=%{x}<br>n=4096<br>deff=128<br>sum of time=%{y}<extra></extra>",
         "legendgroup": "adacg, srht",
         "marker": {
          "color": "#636efa",
          "pattern": {
           "shape": "\\"
          }
         },
         "name": "adacg, srht",
         "offsetgroup": "adacg, srht",
         "orientation": "v",
         "showlegend": false,
         "textangle": 0,
         "textposition": "outside",
         "texttemplate": "%{value:.2s}",
         "type": "histogram",
         "x": [
          "srht"
         ],
         "xaxis": "x3",
         "y": [
          0.020925567666684703
         ],
         "yaxis": "y3"
        },
        {
         "alignmentgroup": "True",
         "bingroup": "x",
         "cliponaxis": false,
         "histfunc": "sum",
         "hovertemplate": "method=adacg<br>sketch_fn=%{x}<br>n=4096<br>deff=256<br>sum of time=%{y}<extra></extra>",
         "legendgroup": "adacg, srht",
         "marker": {
          "color": "#636efa",
          "pattern": {
           "shape": "\\"
          }
         },
         "name": "adacg, srht",
         "offsetgroup": "adacg, srht",
         "orientation": "v",
         "showlegend": false,
         "textangle": 0,
         "textposition": "outside",
         "texttemplate": "%{value:.2s}",
         "type": "histogram",
         "x": [
          "srht"
         ],
         "xaxis": "x4",
         "y": [
          0.021650704666778132
         ],
         "yaxis": "y4"
        },
        {
         "alignmentgroup": "True",
         "bingroup": "x",
         "cliponaxis": false,
         "histfunc": "sum",
         "hovertemplate": "method=cg<br>sketch_fn=%{x}<br>n=2048<br>deff=32<br>sum of time=%{y}<extra></extra>",
         "legendgroup": "cg, none",
         "marker": {
          "color": "#EF553B",
          "pattern": {
           "shape": "x"
          }
         },
         "name": "cg, none",
         "offsetgroup": "cg, none",
         "orientation": "v",
         "showlegend": true,
         "textangle": 0,
         "textposition": "outside",
         "texttemplate": "%{value:.2s}",
         "type": "histogram",
         "x": [
          "none"
         ],
         "xaxis": "x5",
         "y": [
          0.027814702333292488
         ],
         "yaxis": "y5"
        },
        {
         "alignmentgroup": "True",
         "bingroup": "x",
         "cliponaxis": false,
         "histfunc": "sum",
         "hovertemplate": "method=cg<br>sketch_fn=%{x}<br>n=2048<br>deff=64<br>sum of time=%{y}<extra></extra>",
         "legendgroup": "cg, none",
         "marker": {
          "color": "#EF553B",
          "pattern": {
           "shape": "x"
          }
         },
         "name": "cg, none",
         "offsetgroup": "cg, none",
         "orientation": "v",
         "showlegend": false,
         "textangle": 0,
         "textposition": "outside",
         "texttemplate": "%{value:.2s}",
         "type": "histogram",
         "x": [
          "none"
         ],
         "xaxis": "x6",
         "y": [
          0.05513627933332069
         ],
         "yaxis": "y6"
        },
        {
         "alignmentgroup": "True",
         "bingroup": "x",
         "cliponaxis": false,
         "histfunc": "sum",
         "hovertemplate": "method=cg<br>sketch_fn=%{x}<br>n=2048<br>deff=128<br>sum of time=%{y}<extra></extra>",
         "legendgroup": "cg, none",
         "marker": {
          "color": "#EF553B",
          "pattern": {
           "shape": "x"
          }
         },
         "name": "cg, none",
         "offsetgroup": "cg, none",
         "orientation": "v",
         "showlegend": false,
         "textangle": 0,
         "textposition": "outside",
         "texttemplate": "%{value:.2s}",
         "type": "histogram",
         "x": [
          "none"
         ],
         "xaxis": "x7",
         "y": [
          0.14199811866668216
         ],
         "yaxis": "y7"
        },
        {
         "alignmentgroup": "True",
         "bingroup": "x",
         "cliponaxis": false,
         "histfunc": "sum",
         "hovertemplate": "method=cg<br>sketch_fn=%{x}<br>n=2048<br>deff=256<br>sum of time=%{y}<extra></extra>",
         "legendgroup": "cg, none",
         "marker": {
          "color": "#EF553B",
          "pattern": {
           "shape": "x"
          }
         },
         "name": "cg, none",
         "offsetgroup": "cg, none",
         "orientation": "v",
         "showlegend": false,
         "textangle": 0,
         "textposition": "outside",
         "texttemplate": "%{value:.2s}",
         "type": "histogram",
         "x": [
          "none"
         ],
         "xaxis": "x8",
         "y": [
          0.32604638966669575
         ],
         "yaxis": "y8"
        },
        {
         "alignmentgroup": "True",
         "bingroup": "x",
         "cliponaxis": false,
         "histfunc": "sum",
         "hovertemplate": "method=cg<br>sketch_fn=%{x}<br>n=4096<br>deff=32<br>sum of time=%{y}<extra></extra>",
         "legendgroup": "cg, none",
         "marker": {
          "color": "#EF553B",
          "pattern": {
           "shape": "x"
          }
         },
         "name": "cg, none",
         "offsetgroup": "cg, none",
         "orientation": "v",
         "showlegend": false,
         "textangle": 0,
         "textposition": "outside",
         "texttemplate": "%{value:.2s}",
         "type": "histogram",
         "x": [
          "none"
         ],
         "xaxis": "x",
         "y": [
          0.04075694200006789
         ],
         "yaxis": "y"
        },
        {
         "alignmentgroup": "True",
         "bingroup": "x",
         "cliponaxis": false,
         "histfunc": "sum",
         "hovertemplate": "method=cg<br>sketch_fn=%{x}<br>n=4096<br>deff=64<br>sum of time=%{y}<extra></extra>",
         "legendgroup": "cg, none",
         "marker": {
          "color": "#EF553B",
          "pattern": {
           "shape": "x"
          }
         },
         "name": "cg, none",
         "offsetgroup": "cg, none",
         "orientation": "v",
         "showlegend": false,
         "textangle": 0,
         "textposition": "outside",
         "texttemplate": "%{value:.2s}",
         "type": "histogram",
         "x": [
          "none"
         ],
         "xaxis": "x2",
         "y": [
          0.11355713633323222
         ],
         "yaxis": "y2"
        },
        {
         "alignmentgroup": "True",
         "bingroup": "x",
         "cliponaxis": false,
         "histfunc": "sum",
         "hovertemplate": "method=cg<br>sketch_fn=%{x}<br>n=4096<br>deff=128<br>sum of time=%{y}<extra></extra>",
         "legendgroup": "cg, none",
         "marker": {
          "color": "#EF553B",
          "pattern": {
           "shape": "x"
          }
         },
         "name": "cg, none",
         "offsetgroup": "cg, none",
         "orientation": "v",
         "showlegend": false,
         "textangle": 0,
         "textposition": "outside",
         "texttemplate": "%{value:.2s}",
         "type": "histogram",
         "x": [
          "none"
         ],
         "xaxis": "x3",
         "y": [
          0.29494162066657736
         ],
         "yaxis": "y3"
        },
        {
         "alignmentgroup": "True",
         "bingroup": "x",
         "cliponaxis": false,
         "histfunc": "sum",
         "hovertemplate": "method=cg<br>sketch_fn=%{x}<br>n=4096<br>deff=256<br>sum of time=%{y}<extra></extra>",
         "legendgroup": "cg, none",
         "marker": {
          "color": "#EF553B",
          "pattern": {
           "shape": "x"
          }
         },
         "name": "cg, none",
         "offsetgroup": "cg, none",
         "orientation": "v",
         "showlegend": false,
         "textangle": 0,
         "textposition": "outside",
         "texttemplate": "%{value:.2s}",
         "type": "histogram",
         "x": [
          "none"
         ],
         "xaxis": "x4",
         "y": [
          0.5415440766667718
         ],
         "yaxis": "y4"
        },
        {
         "alignmentgroup": "True",
         "bingroup": "x",
         "cliponaxis": false,
         "histfunc": "sum",
         "hovertemplate": "method=dm<br>sketch_fn=%{x}<br>n=2048<br>deff=32<br>sum of time=%{y}<extra></extra>",
         "legendgroup": "dm, none",
         "marker": {
          "color": "#00cc96",
          "pattern": {
           "shape": "x"
          }
         },
         "name": "dm, none",
         "offsetgroup": "dm, none",
         "orientation": "v",
         "showlegend": true,
         "textangle": 0,
         "textposition": "outside",
         "texttemplate": "%{value:.2s}",
         "type": "histogram",
         "x": [
          "none"
         ],
         "xaxis": "x5",
         "y": [
          0.005899749000036536
         ],
         "yaxis": "y5"
        },
        {
         "alignmentgroup": "True",
         "bingroup": "x",
         "cliponaxis": false,
         "histfunc": "sum",
         "hovertemplate": "method=dm<br>sketch_fn=%{x}<br>n=2048<br>deff=64<br>sum of time=%{y}<extra></extra>",
         "legendgroup": "dm, none",
         "marker": {
          "color": "#00cc96",
          "pattern": {
           "shape": "x"
          }
         },
         "name": "dm, none",
         "offsetgroup": "dm, none",
         "orientation": "v",
         "showlegend": false,
         "textangle": 0,
         "textposition": "outside",
         "texttemplate": "%{value:.2s}",
         "type": "histogram",
         "x": [
          "none"
         ],
         "xaxis": "x6",
         "y": [
          0.005710649999969064
         ],
         "yaxis": "y6"
        },
        {
         "alignmentgroup": "True",
         "bingroup": "x",
         "cliponaxis": false,
         "histfunc": "sum",
         "hovertemplate": "method=dm<br>sketch_fn=%{x}<br>n=2048<br>deff=128<br>sum of time=%{y}<extra></extra>",
         "legendgroup": "dm, none",
         "marker": {
          "color": "#00cc96",
          "pattern": {
           "shape": "x"
          }
         },
         "name": "dm, none",
         "offsetgroup": "dm, none",
         "orientation": "v",
         "showlegend": false,
         "textangle": 0,
         "textposition": "outside",
         "texttemplate": "%{value:.2s}",
         "type": "histogram",
         "x": [
          "none"
         ],
         "xaxis": "x7",
         "y": [
          0.005933343999913632
         ],
         "yaxis": "y7"
        },
        {
         "alignmentgroup": "True",
         "bingroup": "x",
         "cliponaxis": false,
         "histfunc": "sum",
         "hovertemplate": "method=dm<br>sketch_fn=%{x}<br>n=2048<br>deff=256<br>sum of time=%{y}<extra></extra>",
         "legendgroup": "dm, none",
         "marker": {
          "color": "#00cc96",
          "pattern": {
           "shape": "x"
          }
         },
         "name": "dm, none",
         "offsetgroup": "dm, none",
         "orientation": "v",
         "showlegend": false,
         "textangle": 0,
         "textposition": "outside",
         "texttemplate": "%{value:.2s}",
         "type": "histogram",
         "x": [
          "none"
         ],
         "xaxis": "x8",
         "y": [
          0.006668967999985398
         ],
         "yaxis": "y8"
        },
        {
         "alignmentgroup": "True",
         "bingroup": "x",
         "cliponaxis": false,
         "histfunc": "sum",
         "hovertemplate": "method=dm<br>sketch_fn=%{x}<br>n=4096<br>deff=32<br>sum of time=%{y}<extra></extra>",
         "legendgroup": "dm, none",
         "marker": {
          "color": "#00cc96",
          "pattern": {
           "shape": "x"
          }
         },
         "name": "dm, none",
         "offsetgroup": "dm, none",
         "orientation": "v",
         "showlegend": false,
         "textangle": 0,
         "textposition": "outside",
         "texttemplate": "%{value:.2s}",
         "type": "histogram",
         "x": [
          "none"
         ],
         "xaxis": "x",
         "y": [
          0.010357873000430118
         ],
         "yaxis": "y"
        },
        {
         "alignmentgroup": "True",
         "bingroup": "x",
         "cliponaxis": false,
         "histfunc": "sum",
         "hovertemplate": "method=dm<br>sketch_fn=%{x}<br>n=4096<br>deff=64<br>sum of time=%{y}<extra></extra>",
         "legendgroup": "dm, none",
         "marker": {
          "color": "#00cc96",
          "pattern": {
           "shape": "x"
          }
         },
         "name": "dm, none",
         "offsetgroup": "dm, none",
         "orientation": "v",
         "showlegend": false,
         "textangle": 0,
         "textposition": "outside",
         "texttemplate": "%{value:.2s}",
         "type": "histogram",
         "x": [
          "none"
         ],
         "xaxis": "x2",
         "y": [
          0.010550951999903191
         ],
         "yaxis": "y2"
        },
        {
         "alignmentgroup": "True",
         "bingroup": "x",
         "cliponaxis": false,
         "histfunc": "sum",
         "hovertemplate": "method=dm<br>sketch_fn=%{x}<br>n=4096<br>deff=128<br>sum of time=%{y}<extra></extra>",
         "legendgroup": "dm, none",
         "marker": {
          "color": "#00cc96",
          "pattern": {
           "shape": "x"
          }
         },
         "name": "dm, none",
         "offsetgroup": "dm, none",
         "orientation": "v",
         "showlegend": false,
         "textangle": 0,
         "textposition": "outside",
         "texttemplate": "%{value:.2s}",
         "type": "histogram",
         "x": [
          "none"
         ],
         "xaxis": "x3",
         "y": [
          0.01021131899960892
         ],
         "yaxis": "y3"
        },
        {
         "alignmentgroup": "True",
         "bingroup": "x",
         "cliponaxis": false,
         "histfunc": "sum",
         "hovertemplate": "method=dm<br>sketch_fn=%{x}<br>n=4096<br>deff=256<br>sum of time=%{y}<extra></extra>",
         "legendgroup": "dm, none",
         "marker": {
          "color": "#00cc96",
          "pattern": {
           "shape": "x"
          }
         },
         "name": "dm, none",
         "offsetgroup": "dm, none",
         "orientation": "v",
         "showlegend": false,
         "textangle": 0,
         "textposition": "outside",
         "texttemplate": "%{value:.2s}",
         "type": "histogram",
         "x": [
          "none"
         ],
         "xaxis": "x4",
         "y": [
          0.01059943300060695
         ],
         "yaxis": "y4"
        },
        {
         "alignmentgroup": "True",
         "bingroup": "x",
         "cliponaxis": false,
         "histfunc": "sum",
         "hovertemplate": "method=pcg<br>sketch_fn=%{x}<br>n=2048<br>deff=32<br>sum of time=%{y}<extra></extra>",
         "legendgroup": "pcg, gaussian",
         "marker": {
          "color": "#ab63fa",
          "pattern": {
           "shape": ""
          }
         },
         "name": "pcg, gaussian",
         "offsetgroup": "pcg, gaussian",
         "orientation": "v",
         "showlegend": true,
         "textangle": 0,
         "textposition": "outside",
         "texttemplate": "%{value:.2s}",
         "type": "histogram",
         "x": [
          "gaussian"
         ],
         "xaxis": "x5",
         "y": [
          0.06634745433332985
         ],
         "yaxis": "y5"
        },
        {
         "alignmentgroup": "True",
         "bingroup": "x",
         "cliponaxis": false,
         "histfunc": "sum",
         "hovertemplate": "method=pcg<br>sketch_fn=%{x}<br>n=2048<br>deff=64<br>sum of time=%{y}<extra></extra>",
         "legendgroup": "pcg, gaussian",
         "marker": {
          "color": "#ab63fa",
          "pattern": {
           "shape": ""
          }
         },
         "name": "pcg, gaussian",
         "offsetgroup": "pcg, gaussian",
         "orientation": "v",
         "showlegend": false,
         "textangle": 0,
         "textposition": "outside",
         "texttemplate": "%{value:.2s}",
         "type": "histogram",
         "x": [
          "gaussian"
         ],
         "xaxis": "x6",
         "y": [
          0.06342585566661303
         ],
         "yaxis": "y6"
        },
        {
         "alignmentgroup": "True",
         "bingroup": "x",
         "cliponaxis": false,
         "histfunc": "sum",
         "hovertemplate": "method=pcg<br>sketch_fn=%{x}<br>n=2048<br>deff=128<br>sum of time=%{y}<extra></extra>",
         "legendgroup": "pcg, gaussian",
         "marker": {
          "color": "#ab63fa",
          "pattern": {
           "shape": ""
          }
         },
         "name": "pcg, gaussian",
         "offsetgroup": "pcg, gaussian",
         "orientation": "v",
         "showlegend": false,
         "textangle": 0,
         "textposition": "outside",
         "texttemplate": "%{value:.2s}",
         "type": "histogram",
         "x": [
          "gaussian"
         ],
         "xaxis": "x7",
         "y": [
          0.06605671200001476
         ],
         "yaxis": "y7"
        },
        {
         "alignmentgroup": "True",
         "bingroup": "x",
         "cliponaxis": false,
         "histfunc": "sum",
         "hovertemplate": "method=pcg<br>sketch_fn=%{x}<br>n=2048<br>deff=256<br>sum of time=%{y}<extra></extra>",
         "legendgroup": "pcg, gaussian",
         "marker": {
          "color": "#ab63fa",
          "pattern": {
           "shape": ""
          }
         },
         "name": "pcg, gaussian",
         "offsetgroup": "pcg, gaussian",
         "orientation": "v",
         "showlegend": false,
         "textangle": 0,
         "textposition": "outside",
         "texttemplate": "%{value:.2s}",
         "type": "histogram",
         "x": [
          "gaussian"
         ],
         "xaxis": "x8",
         "y": [
          0.0873131049999453
         ],
         "yaxis": "y8"
        },
        {
         "alignmentgroup": "True",
         "bingroup": "x",
         "cliponaxis": false,
         "histfunc": "sum",
         "hovertemplate": "method=pcg<br>sketch_fn=%{x}<br>n=4096<br>deff=32<br>sum of time=%{y}<extra></extra>",
         "legendgroup": "pcg, gaussian",
         "marker": {
          "color": "#ab63fa",
          "pattern": {
           "shape": ""
          }
         },
         "name": "pcg, gaussian",
         "offsetgroup": "pcg, gaussian",
         "orientation": "v",
         "showlegend": false,
         "textangle": 0,
         "textposition": "outside",
         "texttemplate": "%{value:.2s}",
         "type": "histogram",
         "x": [
          "gaussian"
         ],
         "xaxis": "x",
         "y": [
          0.11627057866644464
         ],
         "yaxis": "y"
        },
        {
         "alignmentgroup": "True",
         "bingroup": "x",
         "cliponaxis": false,
         "histfunc": "sum",
         "hovertemplate": "method=pcg<br>sketch_fn=%{x}<br>n=4096<br>deff=64<br>sum of time=%{y}<extra></extra>",
         "legendgroup": "pcg, gaussian",
         "marker": {
          "color": "#ab63fa",
          "pattern": {
           "shape": ""
          }
         },
         "name": "pcg, gaussian",
         "offsetgroup": "pcg, gaussian",
         "orientation": "v",
         "showlegend": false,
         "textangle": 0,
         "textposition": "outside",
         "texttemplate": "%{value:.2s}",
         "type": "histogram",
         "x": [
          "gaussian"
         ],
         "xaxis": "x2",
         "y": [
          0.11647101966688447
         ],
         "yaxis": "y2"
        },
        {
         "alignmentgroup": "True",
         "bingroup": "x",
         "cliponaxis": false,
         "histfunc": "sum",
         "hovertemplate": "method=pcg<br>sketch_fn=%{x}<br>n=4096<br>deff=128<br>sum of time=%{y}<extra></extra>",
         "legendgroup": "pcg, gaussian",
         "marker": {
          "color": "#ab63fa",
          "pattern": {
           "shape": ""
          }
         },
         "name": "pcg, gaussian",
         "offsetgroup": "pcg, gaussian",
         "orientation": "v",
         "showlegend": false,
         "textangle": 0,
         "textposition": "outside",
         "texttemplate": "%{value:.2s}",
         "type": "histogram",
         "x": [
          "gaussian"
         ],
         "xaxis": "x3",
         "y": [
          0.11745280566689567
         ],
         "yaxis": "y3"
        },
        {
         "alignmentgroup": "True",
         "bingroup": "x",
         "cliponaxis": false,
         "histfunc": "sum",
         "hovertemplate": "method=pcg<br>sketch_fn=%{x}<br>n=4096<br>deff=256<br>sum of time=%{y}<extra></extra>",
         "legendgroup": "pcg, gaussian",
         "marker": {
          "color": "#ab63fa",
          "pattern": {
           "shape": ""
          }
         },
         "name": "pcg, gaussian",
         "offsetgroup": "pcg, gaussian",
         "orientation": "v",
         "showlegend": false,
         "textangle": 0,
         "textposition": "outside",
         "texttemplate": "%{value:.2s}",
         "type": "histogram",
         "x": [
          "gaussian"
         ],
         "xaxis": "x4",
         "y": [
          0.11957715566677507
         ],
         "yaxis": "y4"
        },
        {
         "alignmentgroup": "True",
         "bingroup": "x",
         "cliponaxis": false,
         "histfunc": "sum",
         "hovertemplate": "method=pcg<br>sketch_fn=%{x}<br>n=2048<br>deff=32<br>sum of time=%{y}<extra></extra>",
         "legendgroup": "pcg, sjlt",
         "marker": {
          "color": "#ab63fa",
          "pattern": {
           "shape": "/"
          }
         },
         "name": "pcg, sjlt",
         "offsetgroup": "pcg, sjlt",
         "orientation": "v",
         "showlegend": true,
         "textangle": 0,
         "textposition": "outside",
         "texttemplate": "%{value:.2s}",
         "type": "histogram",
         "x": [
          "sjlt"
         ],
         "xaxis": "x5",
         "y": [
          0.032853471666688464
         ],
         "yaxis": "y5"
        },
        {
         "alignmentgroup": "True",
         "bingroup": "x",
         "cliponaxis": false,
         "histfunc": "sum",
         "hovertemplate": "method=pcg<br>sketch_fn=%{x}<br>n=2048<br>deff=64<br>sum of time=%{y}<extra></extra>",
         "legendgroup": "pcg, sjlt",
         "marker": {
          "color": "#ab63fa",
          "pattern": {
           "shape": "/"
          }
         },
         "name": "pcg, sjlt",
         "offsetgroup": "pcg, sjlt",
         "orientation": "v",
         "showlegend": false,
         "textangle": 0,
         "textposition": "outside",
         "texttemplate": "%{value:.2s}",
         "type": "histogram",
         "x": [
          "sjlt"
         ],
         "xaxis": "x6",
         "y": [
          0.028717733333375385
         ],
         "yaxis": "y6"
        },
        {
         "alignmentgroup": "True",
         "bingroup": "x",
         "cliponaxis": false,
         "histfunc": "sum",
         "hovertemplate": "method=pcg<br>sketch_fn=%{x}<br>n=2048<br>deff=128<br>sum of time=%{y}<extra></extra>",
         "legendgroup": "pcg, sjlt",
         "marker": {
          "color": "#ab63fa",
          "pattern": {
           "shape": "/"
          }
         },
         "name": "pcg, sjlt",
         "offsetgroup": "pcg, sjlt",
         "orientation": "v",
         "showlegend": false,
         "textangle": 0,
         "textposition": "outside",
         "texttemplate": "%{value:.2s}",
         "type": "histogram",
         "x": [
          "sjlt"
         ],
         "xaxis": "x7",
         "y": [
          0.034463989000035625
         ],
         "yaxis": "y7"
        },
        {
         "alignmentgroup": "True",
         "bingroup": "x",
         "cliponaxis": false,
         "histfunc": "sum",
         "hovertemplate": "method=pcg<br>sketch_fn=%{x}<br>n=2048<br>deff=256<br>sum of time=%{y}<extra></extra>",
         "legendgroup": "pcg, sjlt",
         "marker": {
          "color": "#ab63fa",
          "pattern": {
           "shape": "/"
          }
         },
         "name": "pcg, sjlt",
         "offsetgroup": "pcg, sjlt",
         "orientation": "v",
         "showlegend": false,
         "textangle": 0,
         "textposition": "outside",
         "texttemplate": "%{value:.2s}",
         "type": "histogram",
         "x": [
          "sjlt"
         ],
         "xaxis": "x8",
         "y": [
          0.039759946000003765
         ],
         "yaxis": "y8"
        },
        {
         "alignmentgroup": "True",
         "bingroup": "x",
         "cliponaxis": false,
         "histfunc": "sum",
         "hovertemplate": "method=pcg<br>sketch_fn=%{x}<br>n=4096<br>deff=32<br>sum of time=%{y}<extra></extra>",
         "legendgroup": "pcg, sjlt",
         "marker": {
          "color": "#ab63fa",
          "pattern": {
           "shape": "/"
          }
         },
         "name": "pcg, sjlt",
         "offsetgroup": "pcg, sjlt",
         "orientation": "v",
         "showlegend": false,
         "textangle": 0,
         "textposition": "outside",
         "texttemplate": "%{value:.2s}",
         "type": "histogram",
         "x": [
          "sjlt"
         ],
         "xaxis": "x",
         "y": [
          0.047916467333076675
         ],
         "yaxis": "y"
        },
        {
         "alignmentgroup": "True",
         "bingroup": "x",
         "cliponaxis": false,
         "histfunc": "sum",
         "hovertemplate": "method=pcg<br>sketch_fn=%{x}<br>n=4096<br>deff=64<br>sum of time=%{y}<extra></extra>",
         "legendgroup": "pcg, sjlt",
         "marker": {
          "color": "#ab63fa",
          "pattern": {
           "shape": "/"
          }
         },
         "name": "pcg, sjlt",
         "offsetgroup": "pcg, sjlt",
         "orientation": "v",
         "showlegend": false,
         "textangle": 0,
         "textposition": "outside",
         "texttemplate": "%{value:.2s}",
         "type": "histogram",
         "x": [
          "sjlt"
         ],
         "xaxis": "x2",
         "y": [
          0.04920770533347725
         ],
         "yaxis": "y2"
        },
        {
         "alignmentgroup": "True",
         "bingroup": "x",
         "cliponaxis": false,
         "histfunc": "sum",
         "hovertemplate": "method=pcg<br>sketch_fn=%{x}<br>n=4096<br>deff=128<br>sum of time=%{y}<extra></extra>",
         "legendgroup": "pcg, sjlt",
         "marker": {
          "color": "#ab63fa",
          "pattern": {
           "shape": "/"
          }
         },
         "name": "pcg, sjlt",
         "offsetgroup": "pcg, sjlt",
         "orientation": "v",
         "showlegend": false,
         "textangle": 0,
         "textposition": "outside",
         "texttemplate": "%{value:.2s}",
         "type": "histogram",
         "x": [
          "sjlt"
         ],
         "xaxis": "x3",
         "y": [
          0.051895070333254495
         ],
         "yaxis": "y3"
        },
        {
         "alignmentgroup": "True",
         "bingroup": "x",
         "cliponaxis": false,
         "histfunc": "sum",
         "hovertemplate": "method=pcg<br>sketch_fn=%{x}<br>n=4096<br>deff=256<br>sum of time=%{y}<extra></extra>",
         "legendgroup": "pcg, sjlt",
         "marker": {
          "color": "#ab63fa",
          "pattern": {
           "shape": "/"
          }
         },
         "name": "pcg, sjlt",
         "offsetgroup": "pcg, sjlt",
         "orientation": "v",
         "showlegend": false,
         "textangle": 0,
         "textposition": "outside",
         "texttemplate": "%{value:.2s}",
         "type": "histogram",
         "x": [
          "sjlt"
         ],
         "xaxis": "x4",
         "y": [
          0.05498926333317892
         ],
         "yaxis": "y4"
        },
        {
         "alignmentgroup": "True",
         "bingroup": "x",
         "cliponaxis": false,
         "histfunc": "sum",
         "hovertemplate": "method=pcg<br>sketch_fn=%{x}<br>n=2048<br>deff=32<br>sum of time=%{y}<extra></extra>",
         "legendgroup": "pcg, srht",
         "marker": {
          "color": "#ab63fa",
          "pattern": {
           "shape": "\\"
          }
         },
         "name": "pcg, srht",
         "offsetgroup": "pcg, srht",
         "orientation": "v",
         "showlegend": true,
         "textangle": 0,
         "textposition": "outside",
         "texttemplate": "%{value:.2s}",
         "type": "histogram",
         "x": [
          "srht"
         ],
         "xaxis": "x5",
         "y": [
          0.08296075900000233
         ],
         "yaxis": "y5"
        },
        {
         "alignmentgroup": "True",
         "bingroup": "x",
         "cliponaxis": false,
         "histfunc": "sum",
         "hovertemplate": "method=pcg<br>sketch_fn=%{x}<br>n=2048<br>deff=64<br>sum of time=%{y}<extra></extra>",
         "legendgroup": "pcg, srht",
         "marker": {
          "color": "#ab63fa",
          "pattern": {
           "shape": "\\"
          }
         },
         "name": "pcg, srht",
         "offsetgroup": "pcg, srht",
         "orientation": "v",
         "showlegend": false,
         "textangle": 0,
         "textposition": "outside",
         "texttemplate": "%{value:.2s}",
         "type": "histogram",
         "x": [
          "srht"
         ],
         "xaxis": "x6",
         "y": [
          0.08162753900001007
         ],
         "yaxis": "y6"
        },
        {
         "alignmentgroup": "True",
         "bingroup": "x",
         "cliponaxis": false,
         "histfunc": "sum",
         "hovertemplate": "method=pcg<br>sketch_fn=%{x}<br>n=2048<br>deff=128<br>sum of time=%{y}<extra></extra>",
         "legendgroup": "pcg, srht",
         "marker": {
          "color": "#ab63fa",
          "pattern": {
           "shape": "\\"
          }
         },
         "name": "pcg, srht",
         "offsetgroup": "pcg, srht",
         "orientation": "v",
         "showlegend": false,
         "textangle": 0,
         "textposition": "outside",
         "texttemplate": "%{value:.2s}",
         "type": "histogram",
         "x": [
          "srht"
         ],
         "xaxis": "x7",
         "y": [
          0.08730665533342592
         ],
         "yaxis": "y7"
        },
        {
         "alignmentgroup": "True",
         "bingroup": "x",
         "cliponaxis": false,
         "histfunc": "sum",
         "hovertemplate": "method=pcg<br>sketch_fn=%{x}<br>n=2048<br>deff=256<br>sum of time=%{y}<extra></extra>",
         "legendgroup": "pcg, srht",
         "marker": {
          "color": "#ab63fa",
          "pattern": {
           "shape": "\\"
          }
         },
         "name": "pcg, srht",
         "offsetgroup": "pcg, srht",
         "orientation": "v",
         "showlegend": false,
         "textangle": 0,
         "textposition": "outside",
         "texttemplate": "%{value:.2s}",
         "type": "histogram",
         "x": [
          "srht"
         ],
         "xaxis": "x8",
         "y": [
          0.098735387999947
         ],
         "yaxis": "y8"
        },
        {
         "alignmentgroup": "True",
         "bingroup": "x",
         "cliponaxis": false,
         "histfunc": "sum",
         "hovertemplate": "method=pcg<br>sketch_fn=%{x}<br>n=4096<br>deff=32<br>sum of time=%{y}<extra></extra>",
         "legendgroup": "pcg, srht",
         "marker": {
          "color": "#ab63fa",
          "pattern": {
           "shape": "\\"
          }
         },
         "name": "pcg, srht",
         "offsetgroup": "pcg, srht",
         "orientation": "v",
         "showlegend": false,
         "textangle": 0,
         "textposition": "outside",
         "texttemplate": "%{value:.2s}",
         "type": "histogram",
         "x": [
          "srht"
         ],
         "xaxis": "x",
         "y": [
          0.10653773966684335
         ],
         "yaxis": "y"
        },
        {
         "alignmentgroup": "True",
         "bingroup": "x",
         "cliponaxis": false,
         "histfunc": "sum",
         "hovertemplate": "method=pcg<br>sketch_fn=%{x}<br>n=4096<br>deff=64<br>sum of time=%{y}<extra></extra>",
         "legendgroup": "pcg, srht",
         "marker": {
          "color": "#ab63fa",
          "pattern": {
           "shape": "\\"
          }
         },
         "name": "pcg, srht",
         "offsetgroup": "pcg, srht",
         "orientation": "v",
         "showlegend": false,
         "textangle": 0,
         "textposition": "outside",
         "texttemplate": "%{value:.2s}",
         "type": "histogram",
         "x": [
          "srht"
         ],
         "xaxis": "x2",
         "y": [
          0.11019266733334612
         ],
         "yaxis": "y2"
        },
        {
         "alignmentgroup": "True",
         "bingroup": "x",
         "cliponaxis": false,
         "histfunc": "sum",
         "hovertemplate": "method=pcg<br>sketch_fn=%{x}<br>n=4096<br>deff=128<br>sum of time=%{y}<extra></extra>",
         "legendgroup": "pcg, srht",
         "marker": {
          "color": "#ab63fa",
          "pattern": {
           "shape": "\\"
          }
         },
         "name": "pcg, srht",
         "offsetgroup": "pcg, srht",
         "orientation": "v",
         "showlegend": false,
         "textangle": 0,
         "textposition": "outside",
         "texttemplate": "%{value:.2s}",
         "type": "histogram",
         "x": [
          "srht"
         ],
         "xaxis": "x3",
         "y": [
          0.10648279233343297
         ],
         "yaxis": "y3"
        },
        {
         "alignmentgroup": "True",
         "bingroup": "x",
         "cliponaxis": false,
         "histfunc": "sum",
         "hovertemplate": "method=pcg<br>sketch_fn=%{x}<br>n=4096<br>deff=256<br>sum of time=%{y}<extra></extra>",
         "legendgroup": "pcg, srht",
         "marker": {
          "color": "#ab63fa",
          "pattern": {
           "shape": "\\"
          }
         },
         "name": "pcg, srht",
         "offsetgroup": "pcg, srht",
         "orientation": "v",
         "showlegend": false,
         "textangle": 0,
         "textposition": "outside",
         "texttemplate": "%{value:.2s}",
         "type": "histogram",
         "x": [
          "srht"
         ],
         "xaxis": "x4",
         "y": [
          0.10827810799977061
         ],
         "yaxis": "y4"
        }
       ],
       "layout": {
        "annotations": [
         {
          "font": {},
          "showarrow": false,
          "text": "deff=32",
          "x": 0.11499999999999999,
          "xanchor": "center",
          "xref": "paper",
          "y": 1,
          "yanchor": "bottom",
          "yref": "paper"
         },
         {
          "font": {},
          "showarrow": false,
          "text": "deff=64",
          "x": 0.365,
          "xanchor": "center",
          "xref": "paper",
          "y": 1,
          "yanchor": "bottom",
          "yref": "paper"
         },
         {
          "font": {},
          "showarrow": false,
          "text": "deff=128",
          "x": 0.615,
          "xanchor": "center",
          "xref": "paper",
          "y": 1,
          "yanchor": "bottom",
          "yref": "paper"
         },
         {
          "font": {},
          "showarrow": false,
          "text": "deff=256",
          "x": 0.865,
          "xanchor": "center",
          "xref": "paper",
          "y": 1,
          "yanchor": "bottom",
          "yref": "paper"
         },
         {
          "font": {},
          "showarrow": false,
          "text": "n=4096",
          "textangle": 90,
          "x": 0.98,
          "xanchor": "left",
          "xref": "paper",
          "y": 0.2425,
          "yanchor": "middle",
          "yref": "paper"
         },
         {
          "font": {},
          "showarrow": false,
          "text": "n=2048",
          "textangle": 90,
          "x": 0.98,
          "xanchor": "left",
          "xref": "paper",
          "y": 0.7575000000000001,
          "yanchor": "middle",
          "yref": "paper"
         }
        ],
        "barmode": "group",
        "height": 700,
        "legend": {
         "title": {
          "text": "method, sketch_fn"
         },
         "tracegroupgap": 0
        },
        "margin": {
         "t": 60
        },
        "template": {
         "data": {
          "bar": [
           {
            "error_x": {
             "color": "#2a3f5f"
            },
            "error_y": {
             "color": "#2a3f5f"
            },
            "marker": {
             "line": {
              "color": "#E5ECF6",
              "width": 0.5
             },
             "pattern": {
              "fillmode": "overlay",
              "size": 10,
              "solidity": 0.2
             }
            },
            "type": "bar"
           }
          ],
          "barpolar": [
           {
            "marker": {
             "line": {
              "color": "#E5ECF6",
              "width": 0.5
             },
             "pattern": {
              "fillmode": "overlay",
              "size": 10,
              "solidity": 0.2
             }
            },
            "type": "barpolar"
           }
          ],
          "carpet": [
           {
            "aaxis": {
             "endlinecolor": "#2a3f5f",
             "gridcolor": "white",
             "linecolor": "white",
             "minorgridcolor": "white",
             "startlinecolor": "#2a3f5f"
            },
            "baxis": {
             "endlinecolor": "#2a3f5f",
             "gridcolor": "white",
             "linecolor": "white",
             "minorgridcolor": "white",
             "startlinecolor": "#2a3f5f"
            },
            "type": "carpet"
           }
          ],
          "choropleth": [
           {
            "colorbar": {
             "outlinewidth": 0,
             "ticks": ""
            },
            "type": "choropleth"
           }
          ],
          "contour": [
           {
            "colorbar": {
             "outlinewidth": 0,
             "ticks": ""
            },
            "colorscale": [
             [
              0,
              "#0d0887"
             ],
             [
              0.1111111111111111,
              "#46039f"
             ],
             [
              0.2222222222222222,
              "#7201a8"
             ],
             [
              0.3333333333333333,
              "#9c179e"
             ],
             [
              0.4444444444444444,
              "#bd3786"
             ],
             [
              0.5555555555555556,
              "#d8576b"
             ],
             [
              0.6666666666666666,
              "#ed7953"
             ],
             [
              0.7777777777777778,
              "#fb9f3a"
             ],
             [
              0.8888888888888888,
              "#fdca26"
             ],
             [
              1,
              "#f0f921"
             ]
            ],
            "type": "contour"
           }
          ],
          "contourcarpet": [
           {
            "colorbar": {
             "outlinewidth": 0,
             "ticks": ""
            },
            "type": "contourcarpet"
           }
          ],
          "heatmap": [
           {
            "colorbar": {
             "outlinewidth": 0,
             "ticks": ""
            },
            "colorscale": [
             [
              0,
              "#0d0887"
             ],
             [
              0.1111111111111111,
              "#46039f"
             ],
             [
              0.2222222222222222,
              "#7201a8"
             ],
             [
              0.3333333333333333,
              "#9c179e"
             ],
             [
              0.4444444444444444,
              "#bd3786"
             ],
             [
              0.5555555555555556,
              "#d8576b"
             ],
             [
              0.6666666666666666,
              "#ed7953"
             ],
             [
              0.7777777777777778,
              "#fb9f3a"
             ],
             [
              0.8888888888888888,
              "#fdca26"
             ],
             [
              1,
              "#f0f921"
             ]
            ],
            "type": "heatmap"
           }
          ],
          "heatmapgl": [
           {
            "colorbar": {
             "outlinewidth": 0,
             "ticks": ""
            },
            "colorscale": [
             [
              0,
              "#0d0887"
             ],
             [
              0.1111111111111111,
              "#46039f"
             ],
             [
              0.2222222222222222,
              "#7201a8"
             ],
             [
              0.3333333333333333,
              "#9c179e"
             ],
             [
              0.4444444444444444,
              "#bd3786"
             ],
             [
              0.5555555555555556,
              "#d8576b"
             ],
             [
              0.6666666666666666,
              "#ed7953"
             ],
             [
              0.7777777777777778,
              "#fb9f3a"
             ],
             [
              0.8888888888888888,
              "#fdca26"
             ],
             [
              1,
              "#f0f921"
             ]
            ],
            "type": "heatmapgl"
           }
          ],
          "histogram": [
           {
            "marker": {
             "pattern": {
              "fillmode": "overlay",
              "size": 10,
              "solidity": 0.2
             }
            },
            "type": "histogram"
           }
          ],
          "histogram2d": [
           {
            "colorbar": {
             "outlinewidth": 0,
             "ticks": ""
            },
            "colorscale": [
             [
              0,
              "#0d0887"
             ],
             [
              0.1111111111111111,
              "#46039f"
             ],
             [
              0.2222222222222222,
              "#7201a8"
             ],
             [
              0.3333333333333333,
              "#9c179e"
             ],
             [
              0.4444444444444444,
              "#bd3786"
             ],
             [
              0.5555555555555556,
              "#d8576b"
             ],
             [
              0.6666666666666666,
              "#ed7953"
             ],
             [
              0.7777777777777778,
              "#fb9f3a"
             ],
             [
              0.8888888888888888,
              "#fdca26"
             ],
             [
              1,
              "#f0f921"
             ]
            ],
            "type": "histogram2d"
           }
          ],
          "histogram2dcontour": [
           {
            "colorbar": {
             "outlinewidth": 0,
             "ticks": ""
            },
            "colorscale": [
             [
              0,
              "#0d0887"
             ],
             [
              0.1111111111111111,
              "#46039f"
             ],
             [
              0.2222222222222222,
              "#7201a8"
             ],
             [
              0.3333333333333333,
              "#9c179e"
             ],
             [
              0.4444444444444444,
              "#bd3786"
             ],
             [
              0.5555555555555556,
              "#d8576b"
             ],
             [
              0.6666666666666666,
              "#ed7953"
             ],
             [
              0.7777777777777778,
              "#fb9f3a"
             ],
             [
              0.8888888888888888,
              "#fdca26"
             ],
             [
              1,
              "#f0f921"
             ]
            ],
            "type": "histogram2dcontour"
           }
          ],
          "mesh3d": [
           {
            "colorbar": {
             "outlinewidth": 0,
             "ticks": ""
            },
            "type": "mesh3d"
           }
          ],
          "parcoords": [
           {
            "line": {
             "colorbar": {
              "outlinewidth": 0,
              "ticks": ""
             }
            },
            "type": "parcoords"
           }
          ],
          "pie": [
           {
            "automargin": true,
            "type": "pie"
           }
          ],
          "scatter": [
           {
            "fillpattern": {
             "fillmode": "overlay",
             "size": 10,
             "solidity": 0.2
            },
            "type": "scatter"
           }
          ],
          "scatter3d": [
           {
            "line": {
             "colorbar": {
              "outlinewidth": 0,
              "ticks": ""
             }
            },
            "marker": {
             "colorbar": {
              "outlinewidth": 0,
              "ticks": ""
             }
            },
            "type": "scatter3d"
           }
          ],
          "scattercarpet": [
           {
            "marker": {
             "colorbar": {
              "outlinewidth": 0,
              "ticks": ""
             }
            },
            "type": "scattercarpet"
           }
          ],
          "scattergeo": [
           {
            "marker": {
             "colorbar": {
              "outlinewidth": 0,
              "ticks": ""
             }
            },
            "type": "scattergeo"
           }
          ],
          "scattergl": [
           {
            "marker": {
             "colorbar": {
              "outlinewidth": 0,
              "ticks": ""
             }
            },
            "type": "scattergl"
           }
          ],
          "scattermapbox": [
           {
            "marker": {
             "colorbar": {
              "outlinewidth": 0,
              "ticks": ""
             }
            },
            "type": "scattermapbox"
           }
          ],
          "scatterpolar": [
           {
            "marker": {
             "colorbar": {
              "outlinewidth": 0,
              "ticks": ""
             }
            },
            "type": "scatterpolar"
           }
          ],
          "scatterpolargl": [
           {
            "marker": {
             "colorbar": {
              "outlinewidth": 0,
              "ticks": ""
             }
            },
            "type": "scatterpolargl"
           }
          ],
          "scatterternary": [
           {
            "marker": {
             "colorbar": {
              "outlinewidth": 0,
              "ticks": ""
             }
            },
            "type": "scatterternary"
           }
          ],
          "surface": [
           {
            "colorbar": {
             "outlinewidth": 0,
             "ticks": ""
            },
            "colorscale": [
             [
              0,
              "#0d0887"
             ],
             [
              0.1111111111111111,
              "#46039f"
             ],
             [
              0.2222222222222222,
              "#7201a8"
             ],
             [
              0.3333333333333333,
              "#9c179e"
             ],
             [
              0.4444444444444444,
              "#bd3786"
             ],
             [
              0.5555555555555556,
              "#d8576b"
             ],
             [
              0.6666666666666666,
              "#ed7953"
             ],
             [
              0.7777777777777778,
              "#fb9f3a"
             ],
             [
              0.8888888888888888,
              "#fdca26"
             ],
             [
              1,
              "#f0f921"
             ]
            ],
            "type": "surface"
           }
          ],
          "table": [
           {
            "cells": {
             "fill": {
              "color": "#EBF0F8"
             },
             "line": {
              "color": "white"
             }
            },
            "header": {
             "fill": {
              "color": "#C8D4E3"
             },
             "line": {
              "color": "white"
             }
            },
            "type": "table"
           }
          ]
         },
         "layout": {
          "annotationdefaults": {
           "arrowcolor": "#2a3f5f",
           "arrowhead": 0,
           "arrowwidth": 1
          },
          "autotypenumbers": "strict",
          "coloraxis": {
           "colorbar": {
            "outlinewidth": 0,
            "ticks": ""
           }
          },
          "colorscale": {
           "diverging": [
            [
             0,
             "#8e0152"
            ],
            [
             0.1,
             "#c51b7d"
            ],
            [
             0.2,
             "#de77ae"
            ],
            [
             0.3,
             "#f1b6da"
            ],
            [
             0.4,
             "#fde0ef"
            ],
            [
             0.5,
             "#f7f7f7"
            ],
            [
             0.6,
             "#e6f5d0"
            ],
            [
             0.7,
             "#b8e186"
            ],
            [
             0.8,
             "#7fbc41"
            ],
            [
             0.9,
             "#4d9221"
            ],
            [
             1,
             "#276419"
            ]
           ],
           "sequential": [
            [
             0,
             "#0d0887"
            ],
            [
             0.1111111111111111,
             "#46039f"
            ],
            [
             0.2222222222222222,
             "#7201a8"
            ],
            [
             0.3333333333333333,
             "#9c179e"
            ],
            [
             0.4444444444444444,
             "#bd3786"
            ],
            [
             0.5555555555555556,
             "#d8576b"
            ],
            [
             0.6666666666666666,
             "#ed7953"
            ],
            [
             0.7777777777777778,
             "#fb9f3a"
            ],
            [
             0.8888888888888888,
             "#fdca26"
            ],
            [
             1,
             "#f0f921"
            ]
           ],
           "sequentialminus": [
            [
             0,
             "#0d0887"
            ],
            [
             0.1111111111111111,
             "#46039f"
            ],
            [
             0.2222222222222222,
             "#7201a8"
            ],
            [
             0.3333333333333333,
             "#9c179e"
            ],
            [
             0.4444444444444444,
             "#bd3786"
            ],
            [
             0.5555555555555556,
             "#d8576b"
            ],
            [
             0.6666666666666666,
             "#ed7953"
            ],
            [
             0.7777777777777778,
             "#fb9f3a"
            ],
            [
             0.8888888888888888,
             "#fdca26"
            ],
            [
             1,
             "#f0f921"
            ]
           ]
          },
          "colorway": [
           "#636efa",
           "#EF553B",
           "#00cc96",
           "#ab63fa",
           "#FFA15A",
           "#19d3f3",
           "#FF6692",
           "#B6E880",
           "#FF97FF",
           "#FECB52"
          ],
          "font": {
           "color": "#2a3f5f"
          },
          "geo": {
           "bgcolor": "white",
           "lakecolor": "white",
           "landcolor": "#E5ECF6",
           "showlakes": true,
           "showland": true,
           "subunitcolor": "white"
          },
          "hoverlabel": {
           "align": "left"
          },
          "hovermode": "closest",
          "mapbox": {
           "style": "light"
          },
          "paper_bgcolor": "white",
          "plot_bgcolor": "#E5ECF6",
          "polar": {
           "angularaxis": {
            "gridcolor": "white",
            "linecolor": "white",
            "ticks": ""
           },
           "bgcolor": "#E5ECF6",
           "radialaxis": {
            "gridcolor": "white",
            "linecolor": "white",
            "ticks": ""
           }
          },
          "scene": {
           "xaxis": {
            "backgroundcolor": "#E5ECF6",
            "gridcolor": "white",
            "gridwidth": 2,
            "linecolor": "white",
            "showbackground": true,
            "ticks": "",
            "zerolinecolor": "white"
           },
           "yaxis": {
            "backgroundcolor": "#E5ECF6",
            "gridcolor": "white",
            "gridwidth": 2,
            "linecolor": "white",
            "showbackground": true,
            "ticks": "",
            "zerolinecolor": "white"
           },
           "zaxis": {
            "backgroundcolor": "#E5ECF6",
            "gridcolor": "white",
            "gridwidth": 2,
            "linecolor": "white",
            "showbackground": true,
            "ticks": "",
            "zerolinecolor": "white"
           }
          },
          "shapedefaults": {
           "line": {
            "color": "#2a3f5f"
           }
          },
          "ternary": {
           "aaxis": {
            "gridcolor": "white",
            "linecolor": "white",
            "ticks": ""
           },
           "baxis": {
            "gridcolor": "white",
            "linecolor": "white",
            "ticks": ""
           },
           "bgcolor": "#E5ECF6",
           "caxis": {
            "gridcolor": "white",
            "linecolor": "white",
            "ticks": ""
           }
          },
          "title": {
           "x": 0.05
          },
          "xaxis": {
           "automargin": true,
           "gridcolor": "white",
           "linecolor": "white",
           "ticks": "",
           "title": {
            "standoff": 15
           },
           "zerolinecolor": "white",
           "zerolinewidth": 2
          },
          "yaxis": {
           "automargin": true,
           "gridcolor": "white",
           "linecolor": "white",
           "ticks": "",
           "title": {
            "standoff": 15
           },
           "zerolinecolor": "white",
           "zerolinewidth": 2
          }
         }
        },
        "xaxis": {
         "anchor": "y",
         "categoryarray": [
          "gaussian",
          "sjlt",
          "srht",
          "none"
         ],
         "categoryorder": "array",
         "domain": [
          0,
          0.22999999999999998
         ],
         "title": {
          "text": "sketch_fn"
         }
        },
        "xaxis2": {
         "anchor": "y2",
         "categoryarray": [
          "gaussian",
          "sjlt",
          "srht",
          "none"
         ],
         "categoryorder": "array",
         "domain": [
          0.24999999999999997,
          0.48
         ],
         "matches": "x",
         "title": {
          "text": "sketch_fn"
         }
        },
        "xaxis3": {
         "anchor": "y3",
         "categoryarray": [
          "gaussian",
          "sjlt",
          "srht",
          "none"
         ],
         "categoryorder": "array",
         "domain": [
          0.49999999999999994,
          0.73
         ],
         "matches": "x",
         "title": {
          "text": "sketch_fn"
         }
        },
        "xaxis4": {
         "anchor": "y4",
         "categoryarray": [
          "gaussian",
          "sjlt",
          "srht",
          "none"
         ],
         "categoryorder": "array",
         "domain": [
          0.75,
          0.98
         ],
         "matches": "x",
         "title": {
          "text": "sketch_fn"
         }
        },
        "xaxis5": {
         "anchor": "y5",
         "domain": [
          0,
          0.22999999999999998
         ],
         "matches": "x",
         "showticklabels": false
        },
        "xaxis6": {
         "anchor": "y6",
         "domain": [
          0.24999999999999997,
          0.48
         ],
         "matches": "x",
         "showticklabels": false
        },
        "xaxis7": {
         "anchor": "y7",
         "domain": [
          0.49999999999999994,
          0.73
         ],
         "matches": "x",
         "showticklabels": false
        },
        "xaxis8": {
         "anchor": "y8",
         "domain": [
          0.75,
          0.98
         ],
         "matches": "x",
         "showticklabels": false
        },
        "yaxis": {
         "anchor": "x",
         "domain": [
          0,
          0.485
         ],
         "title": {
          "text": "sum of time"
         }
        },
        "yaxis2": {
         "anchor": "x2",
         "domain": [
          0,
          0.485
         ],
         "matches": "y",
         "showticklabels": false
        },
        "yaxis3": {
         "anchor": "x3",
         "domain": [
          0,
          0.485
         ],
         "matches": "y",
         "showticklabels": false
        },
        "yaxis4": {
         "anchor": "x4",
         "domain": [
          0,
          0.485
         ],
         "matches": "y",
         "showticklabels": false
        },
        "yaxis5": {
         "anchor": "x5",
         "domain": [
          0.515,
          1
         ],
         "matches": "y",
         "title": {
          "text": "sum of time"
         }
        },
        "yaxis6": {
         "anchor": "x6",
         "domain": [
          0.515,
          1
         ],
         "matches": "y",
         "showticklabels": false
        },
        "yaxis7": {
         "anchor": "x7",
         "domain": [
          0.515,
          1
         ],
         "matches": "y",
         "showticklabels": false
        },
        "yaxis8": {
         "anchor": "x8",
         "domain": [
          0.515,
          1
         ],
         "matches": "y",
         "showticklabels": false
        }
       }
      },
      "text/html": [
       "<div>                            <div id=\"3b9969d0-f616-4436-babc-ee335a34512f\" class=\"plotly-graph-div\" style=\"height:700px; width:100%;\"></div>            <script type=\"text/javascript\">                require([\"plotly\"], function(Plotly) {                    window.PLOTLYENV=window.PLOTLYENV || {};                                    if (document.getElementById(\"3b9969d0-f616-4436-babc-ee335a34512f\")) {                    Plotly.newPlot(                        \"3b9969d0-f616-4436-babc-ee335a34512f\",                        [{\"alignmentgroup\":\"True\",\"bingroup\":\"x\",\"histfunc\":\"sum\",\"hovertemplate\":\"method=adacg\\u003cbr\\u003esketch_fn=%{x}\\u003cbr\\u003en=2048\\u003cbr\\u003edeff=32\\u003cbr\\u003esum of time=%{y}\\u003cextra\\u003e\\u003c\\u002fextra\\u003e\",\"legendgroup\":\"adacg, gaussian\",\"marker\":{\"color\":\"#636efa\",\"pattern\":{\"shape\":\"\"}},\"name\":\"adacg, gaussian\",\"offsetgroup\":\"adacg, gaussian\",\"orientation\":\"v\",\"showlegend\":true,\"texttemplate\":\"%{value:.2s}\",\"x\":[\"gaussian\"],\"xaxis\":\"x5\",\"y\":[0.01352294333332793],\"yaxis\":\"y5\",\"type\":\"histogram\",\"cliponaxis\":false,\"textangle\":0,\"textposition\":\"outside\"},{\"alignmentgroup\":\"True\",\"bingroup\":\"x\",\"histfunc\":\"sum\",\"hovertemplate\":\"method=adacg\\u003cbr\\u003esketch_fn=%{x}\\u003cbr\\u003en=2048\\u003cbr\\u003edeff=64\\u003cbr\\u003esum of time=%{y}\\u003cextra\\u003e\\u003c\\u002fextra\\u003e\",\"legendgroup\":\"adacg, gaussian\",\"marker\":{\"color\":\"#636efa\",\"pattern\":{\"shape\":\"\"}},\"name\":\"adacg, gaussian\",\"offsetgroup\":\"adacg, gaussian\",\"orientation\":\"v\",\"showlegend\":false,\"texttemplate\":\"%{value:.2s}\",\"x\":[\"gaussian\"],\"xaxis\":\"x6\",\"y\":[0.013294811333291058],\"yaxis\":\"y6\",\"type\":\"histogram\",\"cliponaxis\":false,\"textangle\":0,\"textposition\":\"outside\"},{\"alignmentgroup\":\"True\",\"bingroup\":\"x\",\"histfunc\":\"sum\",\"hovertemplate\":\"method=adacg\\u003cbr\\u003esketch_fn=%{x}\\u003cbr\\u003en=2048\\u003cbr\\u003edeff=128\\u003cbr\\u003esum of time=%{y}\\u003cextra\\u003e\\u003c\\u002fextra\\u003e\",\"legendgroup\":\"adacg, gaussian\",\"marker\":{\"color\":\"#636efa\",\"pattern\":{\"shape\":\"\"}},\"name\":\"adacg, gaussian\",\"offsetgroup\":\"adacg, gaussian\",\"orientation\":\"v\",\"showlegend\":false,\"texttemplate\":\"%{value:.2s}\",\"x\":[\"gaussian\"],\"xaxis\":\"x7\",\"y\":[0.011638020999953369],\"yaxis\":\"y7\",\"type\":\"histogram\",\"cliponaxis\":false,\"textangle\":0,\"textposition\":\"outside\"},{\"alignmentgroup\":\"True\",\"bingroup\":\"x\",\"histfunc\":\"sum\",\"hovertemplate\":\"method=adacg\\u003cbr\\u003esketch_fn=%{x}\\u003cbr\\u003en=2048\\u003cbr\\u003edeff=256\\u003cbr\\u003esum of time=%{y}\\u003cextra\\u003e\\u003c\\u002fextra\\u003e\",\"legendgroup\":\"adacg, gaussian\",\"marker\":{\"color\":\"#636efa\",\"pattern\":{\"shape\":\"\"}},\"name\":\"adacg, gaussian\",\"offsetgroup\":\"adacg, gaussian\",\"orientation\":\"v\",\"showlegend\":false,\"texttemplate\":\"%{value:.2s}\",\"x\":[\"gaussian\"],\"xaxis\":\"x8\",\"y\":[0.012512293333353833],\"yaxis\":\"y8\",\"type\":\"histogram\",\"cliponaxis\":false,\"textangle\":0,\"textposition\":\"outside\"},{\"alignmentgroup\":\"True\",\"bingroup\":\"x\",\"histfunc\":\"sum\",\"hovertemplate\":\"method=adacg\\u003cbr\\u003esketch_fn=%{x}\\u003cbr\\u003en=4096\\u003cbr\\u003edeff=32\\u003cbr\\u003esum of time=%{y}\\u003cextra\\u003e\\u003c\\u002fextra\\u003e\",\"legendgroup\":\"adacg, gaussian\",\"marker\":{\"color\":\"#636efa\",\"pattern\":{\"shape\":\"\"}},\"name\":\"adacg, gaussian\",\"offsetgroup\":\"adacg, gaussian\",\"orientation\":\"v\",\"showlegend\":false,\"texttemplate\":\"%{value:.2s}\",\"x\":[\"gaussian\"],\"xaxis\":\"x\",\"y\":[0.018978212666600786],\"yaxis\":\"y\",\"type\":\"histogram\",\"cliponaxis\":false,\"textangle\":0,\"textposition\":\"outside\"},{\"alignmentgroup\":\"True\",\"bingroup\":\"x\",\"histfunc\":\"sum\",\"hovertemplate\":\"method=adacg\\u003cbr\\u003esketch_fn=%{x}\\u003cbr\\u003en=4096\\u003cbr\\u003edeff=64\\u003cbr\\u003esum of time=%{y}\\u003cextra\\u003e\\u003c\\u002fextra\\u003e\",\"legendgroup\":\"adacg, gaussian\",\"marker\":{\"color\":\"#636efa\",\"pattern\":{\"shape\":\"\"}},\"name\":\"adacg, gaussian\",\"offsetgroup\":\"adacg, gaussian\",\"orientation\":\"v\",\"showlegend\":false,\"texttemplate\":\"%{value:.2s}\",\"x\":[\"gaussian\"],\"xaxis\":\"x2\",\"y\":[0.019703124999978172],\"yaxis\":\"y2\",\"type\":\"histogram\",\"cliponaxis\":false,\"textangle\":0,\"textposition\":\"outside\"},{\"alignmentgroup\":\"True\",\"bingroup\":\"x\",\"histfunc\":\"sum\",\"hovertemplate\":\"method=adacg\\u003cbr\\u003esketch_fn=%{x}\\u003cbr\\u003en=4096\\u003cbr\\u003edeff=128\\u003cbr\\u003esum of time=%{y}\\u003cextra\\u003e\\u003c\\u002fextra\\u003e\",\"legendgroup\":\"adacg, gaussian\",\"marker\":{\"color\":\"#636efa\",\"pattern\":{\"shape\":\"\"}},\"name\":\"adacg, gaussian\",\"offsetgroup\":\"adacg, gaussian\",\"orientation\":\"v\",\"showlegend\":false,\"texttemplate\":\"%{value:.2s}\",\"x\":[\"gaussian\"],\"xaxis\":\"x3\",\"y\":[0.01865118700000797],\"yaxis\":\"y3\",\"type\":\"histogram\",\"cliponaxis\":false,\"textangle\":0,\"textposition\":\"outside\"},{\"alignmentgroup\":\"True\",\"bingroup\":\"x\",\"histfunc\":\"sum\",\"hovertemplate\":\"method=adacg\\u003cbr\\u003esketch_fn=%{x}\\u003cbr\\u003en=4096\\u003cbr\\u003edeff=256\\u003cbr\\u003esum of time=%{y}\\u003cextra\\u003e\\u003c\\u002fextra\\u003e\",\"legendgroup\":\"adacg, gaussian\",\"marker\":{\"color\":\"#636efa\",\"pattern\":{\"shape\":\"\"}},\"name\":\"adacg, gaussian\",\"offsetgroup\":\"adacg, gaussian\",\"orientation\":\"v\",\"showlegend\":false,\"texttemplate\":\"%{value:.2s}\",\"x\":[\"gaussian\"],\"xaxis\":\"x4\",\"y\":[0.019841429333306827],\"yaxis\":\"y4\",\"type\":\"histogram\",\"cliponaxis\":false,\"textangle\":0,\"textposition\":\"outside\"},{\"alignmentgroup\":\"True\",\"bingroup\":\"x\",\"histfunc\":\"sum\",\"hovertemplate\":\"method=adacg\\u003cbr\\u003esketch_fn=%{x}\\u003cbr\\u003en=2048\\u003cbr\\u003edeff=32\\u003cbr\\u003esum of time=%{y}\\u003cextra\\u003e\\u003c\\u002fextra\\u003e\",\"legendgroup\":\"adacg, sjlt\",\"marker\":{\"color\":\"#636efa\",\"pattern\":{\"shape\":\"\\u002f\"}},\"name\":\"adacg, sjlt\",\"offsetgroup\":\"adacg, sjlt\",\"orientation\":\"v\",\"showlegend\":true,\"texttemplate\":\"%{value:.2s}\",\"x\":[\"sjlt\"],\"xaxis\":\"x5\",\"y\":[0.011010864000013498],\"yaxis\":\"y5\",\"type\":\"histogram\",\"cliponaxis\":false,\"textangle\":0,\"textposition\":\"outside\"},{\"alignmentgroup\":\"True\",\"bingroup\":\"x\",\"histfunc\":\"sum\",\"hovertemplate\":\"method=adacg\\u003cbr\\u003esketch_fn=%{x}\\u003cbr\\u003en=2048\\u003cbr\\u003edeff=64\\u003cbr\\u003esum of time=%{y}\\u003cextra\\u003e\\u003c\\u002fextra\\u003e\",\"legendgroup\":\"adacg, sjlt\",\"marker\":{\"color\":\"#636efa\",\"pattern\":{\"shape\":\"\\u002f\"}},\"name\":\"adacg, sjlt\",\"offsetgroup\":\"adacg, sjlt\",\"orientation\":\"v\",\"showlegend\":false,\"texttemplate\":\"%{value:.2s}\",\"x\":[\"sjlt\"],\"xaxis\":\"x6\",\"y\":[0.01236437366666602],\"yaxis\":\"y6\",\"type\":\"histogram\",\"cliponaxis\":false,\"textangle\":0,\"textposition\":\"outside\"},{\"alignmentgroup\":\"True\",\"bingroup\":\"x\",\"histfunc\":\"sum\",\"hovertemplate\":\"method=adacg\\u003cbr\\u003esketch_fn=%{x}\\u003cbr\\u003en=2048\\u003cbr\\u003edeff=128\\u003cbr\\u003esum of time=%{y}\\u003cextra\\u003e\\u003c\\u002fextra\\u003e\",\"legendgroup\":\"adacg, sjlt\",\"marker\":{\"color\":\"#636efa\",\"pattern\":{\"shape\":\"\\u002f\"}},\"name\":\"adacg, sjlt\",\"offsetgroup\":\"adacg, sjlt\",\"orientation\":\"v\",\"showlegend\":false,\"texttemplate\":\"%{value:.2s}\",\"x\":[\"sjlt\"],\"xaxis\":\"x7\",\"y\":[0.010518484666666456],\"yaxis\":\"y7\",\"type\":\"histogram\",\"cliponaxis\":false,\"textangle\":0,\"textposition\":\"outside\"},{\"alignmentgroup\":\"True\",\"bingroup\":\"x\",\"histfunc\":\"sum\",\"hovertemplate\":\"method=adacg\\u003cbr\\u003esketch_fn=%{x}\\u003cbr\\u003en=2048\\u003cbr\\u003edeff=256\\u003cbr\\u003esum of time=%{y}\\u003cextra\\u003e\\u003c\\u002fextra\\u003e\",\"legendgroup\":\"adacg, sjlt\",\"marker\":{\"color\":\"#636efa\",\"pattern\":{\"shape\":\"\\u002f\"}},\"name\":\"adacg, sjlt\",\"offsetgroup\":\"adacg, sjlt\",\"orientation\":\"v\",\"showlegend\":false,\"texttemplate\":\"%{value:.2s}\",\"x\":[\"sjlt\"],\"xaxis\":\"x8\",\"y\":[0.012622188666682632],\"yaxis\":\"y8\",\"type\":\"histogram\",\"cliponaxis\":false,\"textangle\":0,\"textposition\":\"outside\"},{\"alignmentgroup\":\"True\",\"bingroup\":\"x\",\"histfunc\":\"sum\",\"hovertemplate\":\"method=adacg\\u003cbr\\u003esketch_fn=%{x}\\u003cbr\\u003en=4096\\u003cbr\\u003edeff=32\\u003cbr\\u003esum of time=%{y}\\u003cextra\\u003e\\u003c\\u002fextra\\u003e\",\"legendgroup\":\"adacg, sjlt\",\"marker\":{\"color\":\"#636efa\",\"pattern\":{\"shape\":\"\\u002f\"}},\"name\":\"adacg, sjlt\",\"offsetgroup\":\"adacg, sjlt\",\"orientation\":\"v\",\"showlegend\":false,\"texttemplate\":\"%{value:.2s}\",\"x\":[\"sjlt\"],\"xaxis\":\"x\",\"y\":[0.017862362999949255],\"yaxis\":\"y\",\"type\":\"histogram\",\"cliponaxis\":false,\"textangle\":0,\"textposition\":\"outside\"},{\"alignmentgroup\":\"True\",\"bingroup\":\"x\",\"histfunc\":\"sum\",\"hovertemplate\":\"method=adacg\\u003cbr\\u003esketch_fn=%{x}\\u003cbr\\u003en=4096\\u003cbr\\u003edeff=64\\u003cbr\\u003esum of time=%{y}\\u003cextra\\u003e\\u003c\\u002fextra\\u003e\",\"legendgroup\":\"adacg, sjlt\",\"marker\":{\"color\":\"#636efa\",\"pattern\":{\"shape\":\"\\u002f\"}},\"name\":\"adacg, sjlt\",\"offsetgroup\":\"adacg, sjlt\",\"orientation\":\"v\",\"showlegend\":false,\"texttemplate\":\"%{value:.2s}\",\"x\":[\"sjlt\"],\"xaxis\":\"x2\",\"y\":[0.016575909333369054],\"yaxis\":\"y2\",\"type\":\"histogram\",\"cliponaxis\":false,\"textangle\":0,\"textposition\":\"outside\"},{\"alignmentgroup\":\"True\",\"bingroup\":\"x\",\"histfunc\":\"sum\",\"hovertemplate\":\"method=adacg\\u003cbr\\u003esketch_fn=%{x}\\u003cbr\\u003en=4096\\u003cbr\\u003edeff=128\\u003cbr\\u003esum of time=%{y}\\u003cextra\\u003e\\u003c\\u002fextra\\u003e\",\"legendgroup\":\"adacg, sjlt\",\"marker\":{\"color\":\"#636efa\",\"pattern\":{\"shape\":\"\\u002f\"}},\"name\":\"adacg, sjlt\",\"offsetgroup\":\"adacg, sjlt\",\"orientation\":\"v\",\"showlegend\":false,\"texttemplate\":\"%{value:.2s}\",\"x\":[\"sjlt\"],\"xaxis\":\"x3\",\"y\":[0.017347232666603908],\"yaxis\":\"y3\",\"type\":\"histogram\",\"cliponaxis\":false,\"textangle\":0,\"textposition\":\"outside\"},{\"alignmentgroup\":\"True\",\"bingroup\":\"x\",\"histfunc\":\"sum\",\"hovertemplate\":\"method=adacg\\u003cbr\\u003esketch_fn=%{x}\\u003cbr\\u003en=4096\\u003cbr\\u003edeff=256\\u003cbr\\u003esum of time=%{y}\\u003cextra\\u003e\\u003c\\u002fextra\\u003e\",\"legendgroup\":\"adacg, sjlt\",\"marker\":{\"color\":\"#636efa\",\"pattern\":{\"shape\":\"\\u002f\"}},\"name\":\"adacg, sjlt\",\"offsetgroup\":\"adacg, sjlt\",\"orientation\":\"v\",\"showlegend\":false,\"texttemplate\":\"%{value:.2s}\",\"x\":[\"sjlt\"],\"xaxis\":\"x4\",\"y\":[0.016499939666876646],\"yaxis\":\"y4\",\"type\":\"histogram\",\"cliponaxis\":false,\"textangle\":0,\"textposition\":\"outside\"},{\"alignmentgroup\":\"True\",\"bingroup\":\"x\",\"histfunc\":\"sum\",\"hovertemplate\":\"method=adacg\\u003cbr\\u003esketch_fn=%{x}\\u003cbr\\u003en=2048\\u003cbr\\u003edeff=32\\u003cbr\\u003esum of time=%{y}\\u003cextra\\u003e\\u003c\\u002fextra\\u003e\",\"legendgroup\":\"adacg, srht\",\"marker\":{\"color\":\"#636efa\",\"pattern\":{\"shape\":\"\\\\\"}},\"name\":\"adacg, srht\",\"offsetgroup\":\"adacg, srht\",\"orientation\":\"v\",\"showlegend\":true,\"texttemplate\":\"%{value:.2s}\",\"x\":[\"srht\"],\"xaxis\":\"x5\",\"y\":[0.014261780666743107],\"yaxis\":\"y5\",\"type\":\"histogram\",\"cliponaxis\":false,\"textangle\":0,\"textposition\":\"outside\"},{\"alignmentgroup\":\"True\",\"bingroup\":\"x\",\"histfunc\":\"sum\",\"hovertemplate\":\"method=adacg\\u003cbr\\u003esketch_fn=%{x}\\u003cbr\\u003en=2048\\u003cbr\\u003edeff=64\\u003cbr\\u003esum of time=%{y}\\u003cextra\\u003e\\u003c\\u002fextra\\u003e\",\"legendgroup\":\"adacg, srht\",\"marker\":{\"color\":\"#636efa\",\"pattern\":{\"shape\":\"\\\\\"}},\"name\":\"adacg, srht\",\"offsetgroup\":\"adacg, srht\",\"orientation\":\"v\",\"showlegend\":false,\"texttemplate\":\"%{value:.2s}\",\"x\":[\"srht\"],\"xaxis\":\"x6\",\"y\":[0.01327008800005084],\"yaxis\":\"y6\",\"type\":\"histogram\",\"cliponaxis\":false,\"textangle\":0,\"textposition\":\"outside\"},{\"alignmentgroup\":\"True\",\"bingroup\":\"x\",\"histfunc\":\"sum\",\"hovertemplate\":\"method=adacg\\u003cbr\\u003esketch_fn=%{x}\\u003cbr\\u003en=2048\\u003cbr\\u003edeff=128\\u003cbr\\u003esum of time=%{y}\\u003cextra\\u003e\\u003c\\u002fextra\\u003e\",\"legendgroup\":\"adacg, srht\",\"marker\":{\"color\":\"#636efa\",\"pattern\":{\"shape\":\"\\\\\"}},\"name\":\"adacg, srht\",\"offsetgroup\":\"adacg, srht\",\"orientation\":\"v\",\"showlegend\":false,\"texttemplate\":\"%{value:.2s}\",\"x\":[\"srht\"],\"xaxis\":\"x7\",\"y\":[0.01299040000003515],\"yaxis\":\"y7\",\"type\":\"histogram\",\"cliponaxis\":false,\"textangle\":0,\"textposition\":\"outside\"},{\"alignmentgroup\":\"True\",\"bingroup\":\"x\",\"histfunc\":\"sum\",\"hovertemplate\":\"method=adacg\\u003cbr\\u003esketch_fn=%{x}\\u003cbr\\u003en=2048\\u003cbr\\u003edeff=256\\u003cbr\\u003esum of time=%{y}\\u003cextra\\u003e\\u003c\\u002fextra\\u003e\",\"legendgroup\":\"adacg, srht\",\"marker\":{\"color\":\"#636efa\",\"pattern\":{\"shape\":\"\\\\\"}},\"name\":\"adacg, srht\",\"offsetgroup\":\"adacg, srht\",\"orientation\":\"v\",\"showlegend\":false,\"texttemplate\":\"%{value:.2s}\",\"x\":[\"srht\"],\"xaxis\":\"x8\",\"y\":[0.02358451166666479],\"yaxis\":\"y8\",\"type\":\"histogram\",\"cliponaxis\":false,\"textangle\":0,\"textposition\":\"outside\"},{\"alignmentgroup\":\"True\",\"bingroup\":\"x\",\"histfunc\":\"sum\",\"hovertemplate\":\"method=adacg\\u003cbr\\u003esketch_fn=%{x}\\u003cbr\\u003en=4096\\u003cbr\\u003edeff=32\\u003cbr\\u003esum of time=%{y}\\u003cextra\\u003e\\u003c\\u002fextra\\u003e\",\"legendgroup\":\"adacg, srht\",\"marker\":{\"color\":\"#636efa\",\"pattern\":{\"shape\":\"\\\\\"}},\"name\":\"adacg, srht\",\"offsetgroup\":\"adacg, srht\",\"orientation\":\"v\",\"showlegend\":false,\"texttemplate\":\"%{value:.2s}\",\"x\":[\"srht\"],\"xaxis\":\"x\",\"y\":[0.021114093666559103],\"yaxis\":\"y\",\"type\":\"histogram\",\"cliponaxis\":false,\"textangle\":0,\"textposition\":\"outside\"},{\"alignmentgroup\":\"True\",\"bingroup\":\"x\",\"histfunc\":\"sum\",\"hovertemplate\":\"method=adacg\\u003cbr\\u003esketch_fn=%{x}\\u003cbr\\u003en=4096\\u003cbr\\u003edeff=64\\u003cbr\\u003esum of time=%{y}\\u003cextra\\u003e\\u003c\\u002fextra\\u003e\",\"legendgroup\":\"adacg, srht\",\"marker\":{\"color\":\"#636efa\",\"pattern\":{\"shape\":\"\\\\\"}},\"name\":\"adacg, srht\",\"offsetgroup\":\"adacg, srht\",\"orientation\":\"v\",\"showlegend\":false,\"texttemplate\":\"%{value:.2s}\",\"x\":[\"srht\"],\"xaxis\":\"x2\",\"y\":[0.02168029533337782],\"yaxis\":\"y2\",\"type\":\"histogram\",\"cliponaxis\":false,\"textangle\":0,\"textposition\":\"outside\"},{\"alignmentgroup\":\"True\",\"bingroup\":\"x\",\"histfunc\":\"sum\",\"hovertemplate\":\"method=adacg\\u003cbr\\u003esketch_fn=%{x}\\u003cbr\\u003en=4096\\u003cbr\\u003edeff=128\\u003cbr\\u003esum of time=%{y}\\u003cextra\\u003e\\u003c\\u002fextra\\u003e\",\"legendgroup\":\"adacg, srht\",\"marker\":{\"color\":\"#636efa\",\"pattern\":{\"shape\":\"\\\\\"}},\"name\":\"adacg, srht\",\"offsetgroup\":\"adacg, srht\",\"orientation\":\"v\",\"showlegend\":false,\"texttemplate\":\"%{value:.2s}\",\"x\":[\"srht\"],\"xaxis\":\"x3\",\"y\":[0.020925567666684703],\"yaxis\":\"y3\",\"type\":\"histogram\",\"cliponaxis\":false,\"textangle\":0,\"textposition\":\"outside\"},{\"alignmentgroup\":\"True\",\"bingroup\":\"x\",\"histfunc\":\"sum\",\"hovertemplate\":\"method=adacg\\u003cbr\\u003esketch_fn=%{x}\\u003cbr\\u003en=4096\\u003cbr\\u003edeff=256\\u003cbr\\u003esum of time=%{y}\\u003cextra\\u003e\\u003c\\u002fextra\\u003e\",\"legendgroup\":\"adacg, srht\",\"marker\":{\"color\":\"#636efa\",\"pattern\":{\"shape\":\"\\\\\"}},\"name\":\"adacg, srht\",\"offsetgroup\":\"adacg, srht\",\"orientation\":\"v\",\"showlegend\":false,\"texttemplate\":\"%{value:.2s}\",\"x\":[\"srht\"],\"xaxis\":\"x4\",\"y\":[0.021650704666778132],\"yaxis\":\"y4\",\"type\":\"histogram\",\"cliponaxis\":false,\"textangle\":0,\"textposition\":\"outside\"},{\"alignmentgroup\":\"True\",\"bingroup\":\"x\",\"histfunc\":\"sum\",\"hovertemplate\":\"method=cg\\u003cbr\\u003esketch_fn=%{x}\\u003cbr\\u003en=2048\\u003cbr\\u003edeff=32\\u003cbr\\u003esum of time=%{y}\\u003cextra\\u003e\\u003c\\u002fextra\\u003e\",\"legendgroup\":\"cg, none\",\"marker\":{\"color\":\"#EF553B\",\"pattern\":{\"shape\":\"x\"}},\"name\":\"cg, none\",\"offsetgroup\":\"cg, none\",\"orientation\":\"v\",\"showlegend\":true,\"texttemplate\":\"%{value:.2s}\",\"x\":[\"none\"],\"xaxis\":\"x5\",\"y\":[0.027814702333292488],\"yaxis\":\"y5\",\"type\":\"histogram\",\"cliponaxis\":false,\"textangle\":0,\"textposition\":\"outside\"},{\"alignmentgroup\":\"True\",\"bingroup\":\"x\",\"histfunc\":\"sum\",\"hovertemplate\":\"method=cg\\u003cbr\\u003esketch_fn=%{x}\\u003cbr\\u003en=2048\\u003cbr\\u003edeff=64\\u003cbr\\u003esum of time=%{y}\\u003cextra\\u003e\\u003c\\u002fextra\\u003e\",\"legendgroup\":\"cg, none\",\"marker\":{\"color\":\"#EF553B\",\"pattern\":{\"shape\":\"x\"}},\"name\":\"cg, none\",\"offsetgroup\":\"cg, none\",\"orientation\":\"v\",\"showlegend\":false,\"texttemplate\":\"%{value:.2s}\",\"x\":[\"none\"],\"xaxis\":\"x6\",\"y\":[0.05513627933332069],\"yaxis\":\"y6\",\"type\":\"histogram\",\"cliponaxis\":false,\"textangle\":0,\"textposition\":\"outside\"},{\"alignmentgroup\":\"True\",\"bingroup\":\"x\",\"histfunc\":\"sum\",\"hovertemplate\":\"method=cg\\u003cbr\\u003esketch_fn=%{x}\\u003cbr\\u003en=2048\\u003cbr\\u003edeff=128\\u003cbr\\u003esum of time=%{y}\\u003cextra\\u003e\\u003c\\u002fextra\\u003e\",\"legendgroup\":\"cg, none\",\"marker\":{\"color\":\"#EF553B\",\"pattern\":{\"shape\":\"x\"}},\"name\":\"cg, none\",\"offsetgroup\":\"cg, none\",\"orientation\":\"v\",\"showlegend\":false,\"texttemplate\":\"%{value:.2s}\",\"x\":[\"none\"],\"xaxis\":\"x7\",\"y\":[0.14199811866668216],\"yaxis\":\"y7\",\"type\":\"histogram\",\"cliponaxis\":false,\"textangle\":0,\"textposition\":\"outside\"},{\"alignmentgroup\":\"True\",\"bingroup\":\"x\",\"histfunc\":\"sum\",\"hovertemplate\":\"method=cg\\u003cbr\\u003esketch_fn=%{x}\\u003cbr\\u003en=2048\\u003cbr\\u003edeff=256\\u003cbr\\u003esum of time=%{y}\\u003cextra\\u003e\\u003c\\u002fextra\\u003e\",\"legendgroup\":\"cg, none\",\"marker\":{\"color\":\"#EF553B\",\"pattern\":{\"shape\":\"x\"}},\"name\":\"cg, none\",\"offsetgroup\":\"cg, none\",\"orientation\":\"v\",\"showlegend\":false,\"texttemplate\":\"%{value:.2s}\",\"x\":[\"none\"],\"xaxis\":\"x8\",\"y\":[0.32604638966669575],\"yaxis\":\"y8\",\"type\":\"histogram\",\"cliponaxis\":false,\"textangle\":0,\"textposition\":\"outside\"},{\"alignmentgroup\":\"True\",\"bingroup\":\"x\",\"histfunc\":\"sum\",\"hovertemplate\":\"method=cg\\u003cbr\\u003esketch_fn=%{x}\\u003cbr\\u003en=4096\\u003cbr\\u003edeff=32\\u003cbr\\u003esum of time=%{y}\\u003cextra\\u003e\\u003c\\u002fextra\\u003e\",\"legendgroup\":\"cg, none\",\"marker\":{\"color\":\"#EF553B\",\"pattern\":{\"shape\":\"x\"}},\"name\":\"cg, none\",\"offsetgroup\":\"cg, none\",\"orientation\":\"v\",\"showlegend\":false,\"texttemplate\":\"%{value:.2s}\",\"x\":[\"none\"],\"xaxis\":\"x\",\"y\":[0.04075694200006789],\"yaxis\":\"y\",\"type\":\"histogram\",\"cliponaxis\":false,\"textangle\":0,\"textposition\":\"outside\"},{\"alignmentgroup\":\"True\",\"bingroup\":\"x\",\"histfunc\":\"sum\",\"hovertemplate\":\"method=cg\\u003cbr\\u003esketch_fn=%{x}\\u003cbr\\u003en=4096\\u003cbr\\u003edeff=64\\u003cbr\\u003esum of time=%{y}\\u003cextra\\u003e\\u003c\\u002fextra\\u003e\",\"legendgroup\":\"cg, none\",\"marker\":{\"color\":\"#EF553B\",\"pattern\":{\"shape\":\"x\"}},\"name\":\"cg, none\",\"offsetgroup\":\"cg, none\",\"orientation\":\"v\",\"showlegend\":false,\"texttemplate\":\"%{value:.2s}\",\"x\":[\"none\"],\"xaxis\":\"x2\",\"y\":[0.11355713633323222],\"yaxis\":\"y2\",\"type\":\"histogram\",\"cliponaxis\":false,\"textangle\":0,\"textposition\":\"outside\"},{\"alignmentgroup\":\"True\",\"bingroup\":\"x\",\"histfunc\":\"sum\",\"hovertemplate\":\"method=cg\\u003cbr\\u003esketch_fn=%{x}\\u003cbr\\u003en=4096\\u003cbr\\u003edeff=128\\u003cbr\\u003esum of time=%{y}\\u003cextra\\u003e\\u003c\\u002fextra\\u003e\",\"legendgroup\":\"cg, none\",\"marker\":{\"color\":\"#EF553B\",\"pattern\":{\"shape\":\"x\"}},\"name\":\"cg, none\",\"offsetgroup\":\"cg, none\",\"orientation\":\"v\",\"showlegend\":false,\"texttemplate\":\"%{value:.2s}\",\"x\":[\"none\"],\"xaxis\":\"x3\",\"y\":[0.29494162066657736],\"yaxis\":\"y3\",\"type\":\"histogram\",\"cliponaxis\":false,\"textangle\":0,\"textposition\":\"outside\"},{\"alignmentgroup\":\"True\",\"bingroup\":\"x\",\"histfunc\":\"sum\",\"hovertemplate\":\"method=cg\\u003cbr\\u003esketch_fn=%{x}\\u003cbr\\u003en=4096\\u003cbr\\u003edeff=256\\u003cbr\\u003esum of time=%{y}\\u003cextra\\u003e\\u003c\\u002fextra\\u003e\",\"legendgroup\":\"cg, none\",\"marker\":{\"color\":\"#EF553B\",\"pattern\":{\"shape\":\"x\"}},\"name\":\"cg, none\",\"offsetgroup\":\"cg, none\",\"orientation\":\"v\",\"showlegend\":false,\"texttemplate\":\"%{value:.2s}\",\"x\":[\"none\"],\"xaxis\":\"x4\",\"y\":[0.5415440766667718],\"yaxis\":\"y4\",\"type\":\"histogram\",\"cliponaxis\":false,\"textangle\":0,\"textposition\":\"outside\"},{\"alignmentgroup\":\"True\",\"bingroup\":\"x\",\"histfunc\":\"sum\",\"hovertemplate\":\"method=dm\\u003cbr\\u003esketch_fn=%{x}\\u003cbr\\u003en=2048\\u003cbr\\u003edeff=32\\u003cbr\\u003esum of time=%{y}\\u003cextra\\u003e\\u003c\\u002fextra\\u003e\",\"legendgroup\":\"dm, none\",\"marker\":{\"color\":\"#00cc96\",\"pattern\":{\"shape\":\"x\"}},\"name\":\"dm, none\",\"offsetgroup\":\"dm, none\",\"orientation\":\"v\",\"showlegend\":true,\"texttemplate\":\"%{value:.2s}\",\"x\":[\"none\"],\"xaxis\":\"x5\",\"y\":[0.005899749000036536],\"yaxis\":\"y5\",\"type\":\"histogram\",\"cliponaxis\":false,\"textangle\":0,\"textposition\":\"outside\"},{\"alignmentgroup\":\"True\",\"bingroup\":\"x\",\"histfunc\":\"sum\",\"hovertemplate\":\"method=dm\\u003cbr\\u003esketch_fn=%{x}\\u003cbr\\u003en=2048\\u003cbr\\u003edeff=64\\u003cbr\\u003esum of time=%{y}\\u003cextra\\u003e\\u003c\\u002fextra\\u003e\",\"legendgroup\":\"dm, none\",\"marker\":{\"color\":\"#00cc96\",\"pattern\":{\"shape\":\"x\"}},\"name\":\"dm, none\",\"offsetgroup\":\"dm, none\",\"orientation\":\"v\",\"showlegend\":false,\"texttemplate\":\"%{value:.2s}\",\"x\":[\"none\"],\"xaxis\":\"x6\",\"y\":[0.005710649999969064],\"yaxis\":\"y6\",\"type\":\"histogram\",\"cliponaxis\":false,\"textangle\":0,\"textposition\":\"outside\"},{\"alignmentgroup\":\"True\",\"bingroup\":\"x\",\"histfunc\":\"sum\",\"hovertemplate\":\"method=dm\\u003cbr\\u003esketch_fn=%{x}\\u003cbr\\u003en=2048\\u003cbr\\u003edeff=128\\u003cbr\\u003esum of time=%{y}\\u003cextra\\u003e\\u003c\\u002fextra\\u003e\",\"legendgroup\":\"dm, none\",\"marker\":{\"color\":\"#00cc96\",\"pattern\":{\"shape\":\"x\"}},\"name\":\"dm, none\",\"offsetgroup\":\"dm, none\",\"orientation\":\"v\",\"showlegend\":false,\"texttemplate\":\"%{value:.2s}\",\"x\":[\"none\"],\"xaxis\":\"x7\",\"y\":[0.005933343999913632],\"yaxis\":\"y7\",\"type\":\"histogram\",\"cliponaxis\":false,\"textangle\":0,\"textposition\":\"outside\"},{\"alignmentgroup\":\"True\",\"bingroup\":\"x\",\"histfunc\":\"sum\",\"hovertemplate\":\"method=dm\\u003cbr\\u003esketch_fn=%{x}\\u003cbr\\u003en=2048\\u003cbr\\u003edeff=256\\u003cbr\\u003esum of time=%{y}\\u003cextra\\u003e\\u003c\\u002fextra\\u003e\",\"legendgroup\":\"dm, none\",\"marker\":{\"color\":\"#00cc96\",\"pattern\":{\"shape\":\"x\"}},\"name\":\"dm, none\",\"offsetgroup\":\"dm, none\",\"orientation\":\"v\",\"showlegend\":false,\"texttemplate\":\"%{value:.2s}\",\"x\":[\"none\"],\"xaxis\":\"x8\",\"y\":[0.006668967999985398],\"yaxis\":\"y8\",\"type\":\"histogram\",\"cliponaxis\":false,\"textangle\":0,\"textposition\":\"outside\"},{\"alignmentgroup\":\"True\",\"bingroup\":\"x\",\"histfunc\":\"sum\",\"hovertemplate\":\"method=dm\\u003cbr\\u003esketch_fn=%{x}\\u003cbr\\u003en=4096\\u003cbr\\u003edeff=32\\u003cbr\\u003esum of time=%{y}\\u003cextra\\u003e\\u003c\\u002fextra\\u003e\",\"legendgroup\":\"dm, none\",\"marker\":{\"color\":\"#00cc96\",\"pattern\":{\"shape\":\"x\"}},\"name\":\"dm, none\",\"offsetgroup\":\"dm, none\",\"orientation\":\"v\",\"showlegend\":false,\"texttemplate\":\"%{value:.2s}\",\"x\":[\"none\"],\"xaxis\":\"x\",\"y\":[0.010357873000430118],\"yaxis\":\"y\",\"type\":\"histogram\",\"cliponaxis\":false,\"textangle\":0,\"textposition\":\"outside\"},{\"alignmentgroup\":\"True\",\"bingroup\":\"x\",\"histfunc\":\"sum\",\"hovertemplate\":\"method=dm\\u003cbr\\u003esketch_fn=%{x}\\u003cbr\\u003en=4096\\u003cbr\\u003edeff=64\\u003cbr\\u003esum of time=%{y}\\u003cextra\\u003e\\u003c\\u002fextra\\u003e\",\"legendgroup\":\"dm, none\",\"marker\":{\"color\":\"#00cc96\",\"pattern\":{\"shape\":\"x\"}},\"name\":\"dm, none\",\"offsetgroup\":\"dm, none\",\"orientation\":\"v\",\"showlegend\":false,\"texttemplate\":\"%{value:.2s}\",\"x\":[\"none\"],\"xaxis\":\"x2\",\"y\":[0.010550951999903191],\"yaxis\":\"y2\",\"type\":\"histogram\",\"cliponaxis\":false,\"textangle\":0,\"textposition\":\"outside\"},{\"alignmentgroup\":\"True\",\"bingroup\":\"x\",\"histfunc\":\"sum\",\"hovertemplate\":\"method=dm\\u003cbr\\u003esketch_fn=%{x}\\u003cbr\\u003en=4096\\u003cbr\\u003edeff=128\\u003cbr\\u003esum of time=%{y}\\u003cextra\\u003e\\u003c\\u002fextra\\u003e\",\"legendgroup\":\"dm, none\",\"marker\":{\"color\":\"#00cc96\",\"pattern\":{\"shape\":\"x\"}},\"name\":\"dm, none\",\"offsetgroup\":\"dm, none\",\"orientation\":\"v\",\"showlegend\":false,\"texttemplate\":\"%{value:.2s}\",\"x\":[\"none\"],\"xaxis\":\"x3\",\"y\":[0.01021131899960892],\"yaxis\":\"y3\",\"type\":\"histogram\",\"cliponaxis\":false,\"textangle\":0,\"textposition\":\"outside\"},{\"alignmentgroup\":\"True\",\"bingroup\":\"x\",\"histfunc\":\"sum\",\"hovertemplate\":\"method=dm\\u003cbr\\u003esketch_fn=%{x}\\u003cbr\\u003en=4096\\u003cbr\\u003edeff=256\\u003cbr\\u003esum of time=%{y}\\u003cextra\\u003e\\u003c\\u002fextra\\u003e\",\"legendgroup\":\"dm, none\",\"marker\":{\"color\":\"#00cc96\",\"pattern\":{\"shape\":\"x\"}},\"name\":\"dm, none\",\"offsetgroup\":\"dm, none\",\"orientation\":\"v\",\"showlegend\":false,\"texttemplate\":\"%{value:.2s}\",\"x\":[\"none\"],\"xaxis\":\"x4\",\"y\":[0.01059943300060695],\"yaxis\":\"y4\",\"type\":\"histogram\",\"cliponaxis\":false,\"textangle\":0,\"textposition\":\"outside\"},{\"alignmentgroup\":\"True\",\"bingroup\":\"x\",\"histfunc\":\"sum\",\"hovertemplate\":\"method=pcg\\u003cbr\\u003esketch_fn=%{x}\\u003cbr\\u003en=2048\\u003cbr\\u003edeff=32\\u003cbr\\u003esum of time=%{y}\\u003cextra\\u003e\\u003c\\u002fextra\\u003e\",\"legendgroup\":\"pcg, gaussian\",\"marker\":{\"color\":\"#ab63fa\",\"pattern\":{\"shape\":\"\"}},\"name\":\"pcg, gaussian\",\"offsetgroup\":\"pcg, gaussian\",\"orientation\":\"v\",\"showlegend\":true,\"texttemplate\":\"%{value:.2s}\",\"x\":[\"gaussian\"],\"xaxis\":\"x5\",\"y\":[0.06634745433332985],\"yaxis\":\"y5\",\"type\":\"histogram\",\"cliponaxis\":false,\"textangle\":0,\"textposition\":\"outside\"},{\"alignmentgroup\":\"True\",\"bingroup\":\"x\",\"histfunc\":\"sum\",\"hovertemplate\":\"method=pcg\\u003cbr\\u003esketch_fn=%{x}\\u003cbr\\u003en=2048\\u003cbr\\u003edeff=64\\u003cbr\\u003esum of time=%{y}\\u003cextra\\u003e\\u003c\\u002fextra\\u003e\",\"legendgroup\":\"pcg, gaussian\",\"marker\":{\"color\":\"#ab63fa\",\"pattern\":{\"shape\":\"\"}},\"name\":\"pcg, gaussian\",\"offsetgroup\":\"pcg, gaussian\",\"orientation\":\"v\",\"showlegend\":false,\"texttemplate\":\"%{value:.2s}\",\"x\":[\"gaussian\"],\"xaxis\":\"x6\",\"y\":[0.06342585566661303],\"yaxis\":\"y6\",\"type\":\"histogram\",\"cliponaxis\":false,\"textangle\":0,\"textposition\":\"outside\"},{\"alignmentgroup\":\"True\",\"bingroup\":\"x\",\"histfunc\":\"sum\",\"hovertemplate\":\"method=pcg\\u003cbr\\u003esketch_fn=%{x}\\u003cbr\\u003en=2048\\u003cbr\\u003edeff=128\\u003cbr\\u003esum of time=%{y}\\u003cextra\\u003e\\u003c\\u002fextra\\u003e\",\"legendgroup\":\"pcg, gaussian\",\"marker\":{\"color\":\"#ab63fa\",\"pattern\":{\"shape\":\"\"}},\"name\":\"pcg, gaussian\",\"offsetgroup\":\"pcg, gaussian\",\"orientation\":\"v\",\"showlegend\":false,\"texttemplate\":\"%{value:.2s}\",\"x\":[\"gaussian\"],\"xaxis\":\"x7\",\"y\":[0.06605671200001476],\"yaxis\":\"y7\",\"type\":\"histogram\",\"cliponaxis\":false,\"textangle\":0,\"textposition\":\"outside\"},{\"alignmentgroup\":\"True\",\"bingroup\":\"x\",\"histfunc\":\"sum\",\"hovertemplate\":\"method=pcg\\u003cbr\\u003esketch_fn=%{x}\\u003cbr\\u003en=2048\\u003cbr\\u003edeff=256\\u003cbr\\u003esum of time=%{y}\\u003cextra\\u003e\\u003c\\u002fextra\\u003e\",\"legendgroup\":\"pcg, gaussian\",\"marker\":{\"color\":\"#ab63fa\",\"pattern\":{\"shape\":\"\"}},\"name\":\"pcg, gaussian\",\"offsetgroup\":\"pcg, gaussian\",\"orientation\":\"v\",\"showlegend\":false,\"texttemplate\":\"%{value:.2s}\",\"x\":[\"gaussian\"],\"xaxis\":\"x8\",\"y\":[0.0873131049999453],\"yaxis\":\"y8\",\"type\":\"histogram\",\"cliponaxis\":false,\"textangle\":0,\"textposition\":\"outside\"},{\"alignmentgroup\":\"True\",\"bingroup\":\"x\",\"histfunc\":\"sum\",\"hovertemplate\":\"method=pcg\\u003cbr\\u003esketch_fn=%{x}\\u003cbr\\u003en=4096\\u003cbr\\u003edeff=32\\u003cbr\\u003esum of time=%{y}\\u003cextra\\u003e\\u003c\\u002fextra\\u003e\",\"legendgroup\":\"pcg, gaussian\",\"marker\":{\"color\":\"#ab63fa\",\"pattern\":{\"shape\":\"\"}},\"name\":\"pcg, gaussian\",\"offsetgroup\":\"pcg, gaussian\",\"orientation\":\"v\",\"showlegend\":false,\"texttemplate\":\"%{value:.2s}\",\"x\":[\"gaussian\"],\"xaxis\":\"x\",\"y\":[0.11627057866644464],\"yaxis\":\"y\",\"type\":\"histogram\",\"cliponaxis\":false,\"textangle\":0,\"textposition\":\"outside\"},{\"alignmentgroup\":\"True\",\"bingroup\":\"x\",\"histfunc\":\"sum\",\"hovertemplate\":\"method=pcg\\u003cbr\\u003esketch_fn=%{x}\\u003cbr\\u003en=4096\\u003cbr\\u003edeff=64\\u003cbr\\u003esum of time=%{y}\\u003cextra\\u003e\\u003c\\u002fextra\\u003e\",\"legendgroup\":\"pcg, gaussian\",\"marker\":{\"color\":\"#ab63fa\",\"pattern\":{\"shape\":\"\"}},\"name\":\"pcg, gaussian\",\"offsetgroup\":\"pcg, gaussian\",\"orientation\":\"v\",\"showlegend\":false,\"texttemplate\":\"%{value:.2s}\",\"x\":[\"gaussian\"],\"xaxis\":\"x2\",\"y\":[0.11647101966688447],\"yaxis\":\"y2\",\"type\":\"histogram\",\"cliponaxis\":false,\"textangle\":0,\"textposition\":\"outside\"},{\"alignmentgroup\":\"True\",\"bingroup\":\"x\",\"histfunc\":\"sum\",\"hovertemplate\":\"method=pcg\\u003cbr\\u003esketch_fn=%{x}\\u003cbr\\u003en=4096\\u003cbr\\u003edeff=128\\u003cbr\\u003esum of time=%{y}\\u003cextra\\u003e\\u003c\\u002fextra\\u003e\",\"legendgroup\":\"pcg, gaussian\",\"marker\":{\"color\":\"#ab63fa\",\"pattern\":{\"shape\":\"\"}},\"name\":\"pcg, gaussian\",\"offsetgroup\":\"pcg, gaussian\",\"orientation\":\"v\",\"showlegend\":false,\"texttemplate\":\"%{value:.2s}\",\"x\":[\"gaussian\"],\"xaxis\":\"x3\",\"y\":[0.11745280566689567],\"yaxis\":\"y3\",\"type\":\"histogram\",\"cliponaxis\":false,\"textangle\":0,\"textposition\":\"outside\"},{\"alignmentgroup\":\"True\",\"bingroup\":\"x\",\"histfunc\":\"sum\",\"hovertemplate\":\"method=pcg\\u003cbr\\u003esketch_fn=%{x}\\u003cbr\\u003en=4096\\u003cbr\\u003edeff=256\\u003cbr\\u003esum of time=%{y}\\u003cextra\\u003e\\u003c\\u002fextra\\u003e\",\"legendgroup\":\"pcg, gaussian\",\"marker\":{\"color\":\"#ab63fa\",\"pattern\":{\"shape\":\"\"}},\"name\":\"pcg, gaussian\",\"offsetgroup\":\"pcg, gaussian\",\"orientation\":\"v\",\"showlegend\":false,\"texttemplate\":\"%{value:.2s}\",\"x\":[\"gaussian\"],\"xaxis\":\"x4\",\"y\":[0.11957715566677507],\"yaxis\":\"y4\",\"type\":\"histogram\",\"cliponaxis\":false,\"textangle\":0,\"textposition\":\"outside\"},{\"alignmentgroup\":\"True\",\"bingroup\":\"x\",\"histfunc\":\"sum\",\"hovertemplate\":\"method=pcg\\u003cbr\\u003esketch_fn=%{x}\\u003cbr\\u003en=2048\\u003cbr\\u003edeff=32\\u003cbr\\u003esum of time=%{y}\\u003cextra\\u003e\\u003c\\u002fextra\\u003e\",\"legendgroup\":\"pcg, sjlt\",\"marker\":{\"color\":\"#ab63fa\",\"pattern\":{\"shape\":\"\\u002f\"}},\"name\":\"pcg, sjlt\",\"offsetgroup\":\"pcg, sjlt\",\"orientation\":\"v\",\"showlegend\":true,\"texttemplate\":\"%{value:.2s}\",\"x\":[\"sjlt\"],\"xaxis\":\"x5\",\"y\":[0.032853471666688464],\"yaxis\":\"y5\",\"type\":\"histogram\",\"cliponaxis\":false,\"textangle\":0,\"textposition\":\"outside\"},{\"alignmentgroup\":\"True\",\"bingroup\":\"x\",\"histfunc\":\"sum\",\"hovertemplate\":\"method=pcg\\u003cbr\\u003esketch_fn=%{x}\\u003cbr\\u003en=2048\\u003cbr\\u003edeff=64\\u003cbr\\u003esum of time=%{y}\\u003cextra\\u003e\\u003c\\u002fextra\\u003e\",\"legendgroup\":\"pcg, sjlt\",\"marker\":{\"color\":\"#ab63fa\",\"pattern\":{\"shape\":\"\\u002f\"}},\"name\":\"pcg, sjlt\",\"offsetgroup\":\"pcg, sjlt\",\"orientation\":\"v\",\"showlegend\":false,\"texttemplate\":\"%{value:.2s}\",\"x\":[\"sjlt\"],\"xaxis\":\"x6\",\"y\":[0.028717733333375385],\"yaxis\":\"y6\",\"type\":\"histogram\",\"cliponaxis\":false,\"textangle\":0,\"textposition\":\"outside\"},{\"alignmentgroup\":\"True\",\"bingroup\":\"x\",\"histfunc\":\"sum\",\"hovertemplate\":\"method=pcg\\u003cbr\\u003esketch_fn=%{x}\\u003cbr\\u003en=2048\\u003cbr\\u003edeff=128\\u003cbr\\u003esum of time=%{y}\\u003cextra\\u003e\\u003c\\u002fextra\\u003e\",\"legendgroup\":\"pcg, sjlt\",\"marker\":{\"color\":\"#ab63fa\",\"pattern\":{\"shape\":\"\\u002f\"}},\"name\":\"pcg, sjlt\",\"offsetgroup\":\"pcg, sjlt\",\"orientation\":\"v\",\"showlegend\":false,\"texttemplate\":\"%{value:.2s}\",\"x\":[\"sjlt\"],\"xaxis\":\"x7\",\"y\":[0.034463989000035625],\"yaxis\":\"y7\",\"type\":\"histogram\",\"cliponaxis\":false,\"textangle\":0,\"textposition\":\"outside\"},{\"alignmentgroup\":\"True\",\"bingroup\":\"x\",\"histfunc\":\"sum\",\"hovertemplate\":\"method=pcg\\u003cbr\\u003esketch_fn=%{x}\\u003cbr\\u003en=2048\\u003cbr\\u003edeff=256\\u003cbr\\u003esum of time=%{y}\\u003cextra\\u003e\\u003c\\u002fextra\\u003e\",\"legendgroup\":\"pcg, sjlt\",\"marker\":{\"color\":\"#ab63fa\",\"pattern\":{\"shape\":\"\\u002f\"}},\"name\":\"pcg, sjlt\",\"offsetgroup\":\"pcg, sjlt\",\"orientation\":\"v\",\"showlegend\":false,\"texttemplate\":\"%{value:.2s}\",\"x\":[\"sjlt\"],\"xaxis\":\"x8\",\"y\":[0.039759946000003765],\"yaxis\":\"y8\",\"type\":\"histogram\",\"cliponaxis\":false,\"textangle\":0,\"textposition\":\"outside\"},{\"alignmentgroup\":\"True\",\"bingroup\":\"x\",\"histfunc\":\"sum\",\"hovertemplate\":\"method=pcg\\u003cbr\\u003esketch_fn=%{x}\\u003cbr\\u003en=4096\\u003cbr\\u003edeff=32\\u003cbr\\u003esum of time=%{y}\\u003cextra\\u003e\\u003c\\u002fextra\\u003e\",\"legendgroup\":\"pcg, sjlt\",\"marker\":{\"color\":\"#ab63fa\",\"pattern\":{\"shape\":\"\\u002f\"}},\"name\":\"pcg, sjlt\",\"offsetgroup\":\"pcg, sjlt\",\"orientation\":\"v\",\"showlegend\":false,\"texttemplate\":\"%{value:.2s}\",\"x\":[\"sjlt\"],\"xaxis\":\"x\",\"y\":[0.047916467333076675],\"yaxis\":\"y\",\"type\":\"histogram\",\"cliponaxis\":false,\"textangle\":0,\"textposition\":\"outside\"},{\"alignmentgroup\":\"True\",\"bingroup\":\"x\",\"histfunc\":\"sum\",\"hovertemplate\":\"method=pcg\\u003cbr\\u003esketch_fn=%{x}\\u003cbr\\u003en=4096\\u003cbr\\u003edeff=64\\u003cbr\\u003esum of time=%{y}\\u003cextra\\u003e\\u003c\\u002fextra\\u003e\",\"legendgroup\":\"pcg, sjlt\",\"marker\":{\"color\":\"#ab63fa\",\"pattern\":{\"shape\":\"\\u002f\"}},\"name\":\"pcg, sjlt\",\"offsetgroup\":\"pcg, sjlt\",\"orientation\":\"v\",\"showlegend\":false,\"texttemplate\":\"%{value:.2s}\",\"x\":[\"sjlt\"],\"xaxis\":\"x2\",\"y\":[0.04920770533347725],\"yaxis\":\"y2\",\"type\":\"histogram\",\"cliponaxis\":false,\"textangle\":0,\"textposition\":\"outside\"},{\"alignmentgroup\":\"True\",\"bingroup\":\"x\",\"histfunc\":\"sum\",\"hovertemplate\":\"method=pcg\\u003cbr\\u003esketch_fn=%{x}\\u003cbr\\u003en=4096\\u003cbr\\u003edeff=128\\u003cbr\\u003esum of time=%{y}\\u003cextra\\u003e\\u003c\\u002fextra\\u003e\",\"legendgroup\":\"pcg, sjlt\",\"marker\":{\"color\":\"#ab63fa\",\"pattern\":{\"shape\":\"\\u002f\"}},\"name\":\"pcg, sjlt\",\"offsetgroup\":\"pcg, sjlt\",\"orientation\":\"v\",\"showlegend\":false,\"texttemplate\":\"%{value:.2s}\",\"x\":[\"sjlt\"],\"xaxis\":\"x3\",\"y\":[0.051895070333254495],\"yaxis\":\"y3\",\"type\":\"histogram\",\"cliponaxis\":false,\"textangle\":0,\"textposition\":\"outside\"},{\"alignmentgroup\":\"True\",\"bingroup\":\"x\",\"histfunc\":\"sum\",\"hovertemplate\":\"method=pcg\\u003cbr\\u003esketch_fn=%{x}\\u003cbr\\u003en=4096\\u003cbr\\u003edeff=256\\u003cbr\\u003esum of time=%{y}\\u003cextra\\u003e\\u003c\\u002fextra\\u003e\",\"legendgroup\":\"pcg, sjlt\",\"marker\":{\"color\":\"#ab63fa\",\"pattern\":{\"shape\":\"\\u002f\"}},\"name\":\"pcg, sjlt\",\"offsetgroup\":\"pcg, sjlt\",\"orientation\":\"v\",\"showlegend\":false,\"texttemplate\":\"%{value:.2s}\",\"x\":[\"sjlt\"],\"xaxis\":\"x4\",\"y\":[0.05498926333317892],\"yaxis\":\"y4\",\"type\":\"histogram\",\"cliponaxis\":false,\"textangle\":0,\"textposition\":\"outside\"},{\"alignmentgroup\":\"True\",\"bingroup\":\"x\",\"histfunc\":\"sum\",\"hovertemplate\":\"method=pcg\\u003cbr\\u003esketch_fn=%{x}\\u003cbr\\u003en=2048\\u003cbr\\u003edeff=32\\u003cbr\\u003esum of time=%{y}\\u003cextra\\u003e\\u003c\\u002fextra\\u003e\",\"legendgroup\":\"pcg, srht\",\"marker\":{\"color\":\"#ab63fa\",\"pattern\":{\"shape\":\"\\\\\"}},\"name\":\"pcg, srht\",\"offsetgroup\":\"pcg, srht\",\"orientation\":\"v\",\"showlegend\":true,\"texttemplate\":\"%{value:.2s}\",\"x\":[\"srht\"],\"xaxis\":\"x5\",\"y\":[0.08296075900000233],\"yaxis\":\"y5\",\"type\":\"histogram\",\"cliponaxis\":false,\"textangle\":0,\"textposition\":\"outside\"},{\"alignmentgroup\":\"True\",\"bingroup\":\"x\",\"histfunc\":\"sum\",\"hovertemplate\":\"method=pcg\\u003cbr\\u003esketch_fn=%{x}\\u003cbr\\u003en=2048\\u003cbr\\u003edeff=64\\u003cbr\\u003esum of time=%{y}\\u003cextra\\u003e\\u003c\\u002fextra\\u003e\",\"legendgroup\":\"pcg, srht\",\"marker\":{\"color\":\"#ab63fa\",\"pattern\":{\"shape\":\"\\\\\"}},\"name\":\"pcg, srht\",\"offsetgroup\":\"pcg, srht\",\"orientation\":\"v\",\"showlegend\":false,\"texttemplate\":\"%{value:.2s}\",\"x\":[\"srht\"],\"xaxis\":\"x6\",\"y\":[0.08162753900001007],\"yaxis\":\"y6\",\"type\":\"histogram\",\"cliponaxis\":false,\"textangle\":0,\"textposition\":\"outside\"},{\"alignmentgroup\":\"True\",\"bingroup\":\"x\",\"histfunc\":\"sum\",\"hovertemplate\":\"method=pcg\\u003cbr\\u003esketch_fn=%{x}\\u003cbr\\u003en=2048\\u003cbr\\u003edeff=128\\u003cbr\\u003esum of time=%{y}\\u003cextra\\u003e\\u003c\\u002fextra\\u003e\",\"legendgroup\":\"pcg, srht\",\"marker\":{\"color\":\"#ab63fa\",\"pattern\":{\"shape\":\"\\\\\"}},\"name\":\"pcg, srht\",\"offsetgroup\":\"pcg, srht\",\"orientation\":\"v\",\"showlegend\":false,\"texttemplate\":\"%{value:.2s}\",\"x\":[\"srht\"],\"xaxis\":\"x7\",\"y\":[0.08730665533342592],\"yaxis\":\"y7\",\"type\":\"histogram\",\"cliponaxis\":false,\"textangle\":0,\"textposition\":\"outside\"},{\"alignmentgroup\":\"True\",\"bingroup\":\"x\",\"histfunc\":\"sum\",\"hovertemplate\":\"method=pcg\\u003cbr\\u003esketch_fn=%{x}\\u003cbr\\u003en=2048\\u003cbr\\u003edeff=256\\u003cbr\\u003esum of time=%{y}\\u003cextra\\u003e\\u003c\\u002fextra\\u003e\",\"legendgroup\":\"pcg, srht\",\"marker\":{\"color\":\"#ab63fa\",\"pattern\":{\"shape\":\"\\\\\"}},\"name\":\"pcg, srht\",\"offsetgroup\":\"pcg, srht\",\"orientation\":\"v\",\"showlegend\":false,\"texttemplate\":\"%{value:.2s}\",\"x\":[\"srht\"],\"xaxis\":\"x8\",\"y\":[0.098735387999947],\"yaxis\":\"y8\",\"type\":\"histogram\",\"cliponaxis\":false,\"textangle\":0,\"textposition\":\"outside\"},{\"alignmentgroup\":\"True\",\"bingroup\":\"x\",\"histfunc\":\"sum\",\"hovertemplate\":\"method=pcg\\u003cbr\\u003esketch_fn=%{x}\\u003cbr\\u003en=4096\\u003cbr\\u003edeff=32\\u003cbr\\u003esum of time=%{y}\\u003cextra\\u003e\\u003c\\u002fextra\\u003e\",\"legendgroup\":\"pcg, srht\",\"marker\":{\"color\":\"#ab63fa\",\"pattern\":{\"shape\":\"\\\\\"}},\"name\":\"pcg, srht\",\"offsetgroup\":\"pcg, srht\",\"orientation\":\"v\",\"showlegend\":false,\"texttemplate\":\"%{value:.2s}\",\"x\":[\"srht\"],\"xaxis\":\"x\",\"y\":[0.10653773966684335],\"yaxis\":\"y\",\"type\":\"histogram\",\"cliponaxis\":false,\"textangle\":0,\"textposition\":\"outside\"},{\"alignmentgroup\":\"True\",\"bingroup\":\"x\",\"histfunc\":\"sum\",\"hovertemplate\":\"method=pcg\\u003cbr\\u003esketch_fn=%{x}\\u003cbr\\u003en=4096\\u003cbr\\u003edeff=64\\u003cbr\\u003esum of time=%{y}\\u003cextra\\u003e\\u003c\\u002fextra\\u003e\",\"legendgroup\":\"pcg, srht\",\"marker\":{\"color\":\"#ab63fa\",\"pattern\":{\"shape\":\"\\\\\"}},\"name\":\"pcg, srht\",\"offsetgroup\":\"pcg, srht\",\"orientation\":\"v\",\"showlegend\":false,\"texttemplate\":\"%{value:.2s}\",\"x\":[\"srht\"],\"xaxis\":\"x2\",\"y\":[0.11019266733334612],\"yaxis\":\"y2\",\"type\":\"histogram\",\"cliponaxis\":false,\"textangle\":0,\"textposition\":\"outside\"},{\"alignmentgroup\":\"True\",\"bingroup\":\"x\",\"histfunc\":\"sum\",\"hovertemplate\":\"method=pcg\\u003cbr\\u003esketch_fn=%{x}\\u003cbr\\u003en=4096\\u003cbr\\u003edeff=128\\u003cbr\\u003esum of time=%{y}\\u003cextra\\u003e\\u003c\\u002fextra\\u003e\",\"legendgroup\":\"pcg, srht\",\"marker\":{\"color\":\"#ab63fa\",\"pattern\":{\"shape\":\"\\\\\"}},\"name\":\"pcg, srht\",\"offsetgroup\":\"pcg, srht\",\"orientation\":\"v\",\"showlegend\":false,\"texttemplate\":\"%{value:.2s}\",\"x\":[\"srht\"],\"xaxis\":\"x3\",\"y\":[0.10648279233343297],\"yaxis\":\"y3\",\"type\":\"histogram\",\"cliponaxis\":false,\"textangle\":0,\"textposition\":\"outside\"},{\"alignmentgroup\":\"True\",\"bingroup\":\"x\",\"histfunc\":\"sum\",\"hovertemplate\":\"method=pcg\\u003cbr\\u003esketch_fn=%{x}\\u003cbr\\u003en=4096\\u003cbr\\u003edeff=256\\u003cbr\\u003esum of time=%{y}\\u003cextra\\u003e\\u003c\\u002fextra\\u003e\",\"legendgroup\":\"pcg, srht\",\"marker\":{\"color\":\"#ab63fa\",\"pattern\":{\"shape\":\"\\\\\"}},\"name\":\"pcg, srht\",\"offsetgroup\":\"pcg, srht\",\"orientation\":\"v\",\"showlegend\":false,\"texttemplate\":\"%{value:.2s}\",\"x\":[\"srht\"],\"xaxis\":\"x4\",\"y\":[0.10827810799977061],\"yaxis\":\"y4\",\"type\":\"histogram\",\"cliponaxis\":false,\"textangle\":0,\"textposition\":\"outside\"}],                        {\"template\":{\"data\":{\"histogram2dcontour\":[{\"type\":\"histogram2dcontour\",\"colorbar\":{\"outlinewidth\":0,\"ticks\":\"\"},\"colorscale\":[[0.0,\"#0d0887\"],[0.1111111111111111,\"#46039f\"],[0.2222222222222222,\"#7201a8\"],[0.3333333333333333,\"#9c179e\"],[0.4444444444444444,\"#bd3786\"],[0.5555555555555556,\"#d8576b\"],[0.6666666666666666,\"#ed7953\"],[0.7777777777777778,\"#fb9f3a\"],[0.8888888888888888,\"#fdca26\"],[1.0,\"#f0f921\"]]}],\"choropleth\":[{\"type\":\"choropleth\",\"colorbar\":{\"outlinewidth\":0,\"ticks\":\"\"}}],\"histogram2d\":[{\"type\":\"histogram2d\",\"colorbar\":{\"outlinewidth\":0,\"ticks\":\"\"},\"colorscale\":[[0.0,\"#0d0887\"],[0.1111111111111111,\"#46039f\"],[0.2222222222222222,\"#7201a8\"],[0.3333333333333333,\"#9c179e\"],[0.4444444444444444,\"#bd3786\"],[0.5555555555555556,\"#d8576b\"],[0.6666666666666666,\"#ed7953\"],[0.7777777777777778,\"#fb9f3a\"],[0.8888888888888888,\"#fdca26\"],[1.0,\"#f0f921\"]]}],\"heatmap\":[{\"type\":\"heatmap\",\"colorbar\":{\"outlinewidth\":0,\"ticks\":\"\"},\"colorscale\":[[0.0,\"#0d0887\"],[0.1111111111111111,\"#46039f\"],[0.2222222222222222,\"#7201a8\"],[0.3333333333333333,\"#9c179e\"],[0.4444444444444444,\"#bd3786\"],[0.5555555555555556,\"#d8576b\"],[0.6666666666666666,\"#ed7953\"],[0.7777777777777778,\"#fb9f3a\"],[0.8888888888888888,\"#fdca26\"],[1.0,\"#f0f921\"]]}],\"heatmapgl\":[{\"type\":\"heatmapgl\",\"colorbar\":{\"outlinewidth\":0,\"ticks\":\"\"},\"colorscale\":[[0.0,\"#0d0887\"],[0.1111111111111111,\"#46039f\"],[0.2222222222222222,\"#7201a8\"],[0.3333333333333333,\"#9c179e\"],[0.4444444444444444,\"#bd3786\"],[0.5555555555555556,\"#d8576b\"],[0.6666666666666666,\"#ed7953\"],[0.7777777777777778,\"#fb9f3a\"],[0.8888888888888888,\"#fdca26\"],[1.0,\"#f0f921\"]]}],\"contourcarpet\":[{\"type\":\"contourcarpet\",\"colorbar\":{\"outlinewidth\":0,\"ticks\":\"\"}}],\"contour\":[{\"type\":\"contour\",\"colorbar\":{\"outlinewidth\":0,\"ticks\":\"\"},\"colorscale\":[[0.0,\"#0d0887\"],[0.1111111111111111,\"#46039f\"],[0.2222222222222222,\"#7201a8\"],[0.3333333333333333,\"#9c179e\"],[0.4444444444444444,\"#bd3786\"],[0.5555555555555556,\"#d8576b\"],[0.6666666666666666,\"#ed7953\"],[0.7777777777777778,\"#fb9f3a\"],[0.8888888888888888,\"#fdca26\"],[1.0,\"#f0f921\"]]}],\"surface\":[{\"type\":\"surface\",\"colorbar\":{\"outlinewidth\":0,\"ticks\":\"\"},\"colorscale\":[[0.0,\"#0d0887\"],[0.1111111111111111,\"#46039f\"],[0.2222222222222222,\"#7201a8\"],[0.3333333333333333,\"#9c179e\"],[0.4444444444444444,\"#bd3786\"],[0.5555555555555556,\"#d8576b\"],[0.6666666666666666,\"#ed7953\"],[0.7777777777777778,\"#fb9f3a\"],[0.8888888888888888,\"#fdca26\"],[1.0,\"#f0f921\"]]}],\"mesh3d\":[{\"type\":\"mesh3d\",\"colorbar\":{\"outlinewidth\":0,\"ticks\":\"\"}}],\"scatter\":[{\"fillpattern\":{\"fillmode\":\"overlay\",\"size\":10,\"solidity\":0.2},\"type\":\"scatter\"}],\"parcoords\":[{\"type\":\"parcoords\",\"line\":{\"colorbar\":{\"outlinewidth\":0,\"ticks\":\"\"}}}],\"scatterpolargl\":[{\"type\":\"scatterpolargl\",\"marker\":{\"colorbar\":{\"outlinewidth\":0,\"ticks\":\"\"}}}],\"bar\":[{\"error_x\":{\"color\":\"#2a3f5f\"},\"error_y\":{\"color\":\"#2a3f5f\"},\"marker\":{\"line\":{\"color\":\"#E5ECF6\",\"width\":0.5},\"pattern\":{\"fillmode\":\"overlay\",\"size\":10,\"solidity\":0.2}},\"type\":\"bar\"}],\"scattergeo\":[{\"type\":\"scattergeo\",\"marker\":{\"colorbar\":{\"outlinewidth\":0,\"ticks\":\"\"}}}],\"scatterpolar\":[{\"type\":\"scatterpolar\",\"marker\":{\"colorbar\":{\"outlinewidth\":0,\"ticks\":\"\"}}}],\"histogram\":[{\"marker\":{\"pattern\":{\"fillmode\":\"overlay\",\"size\":10,\"solidity\":0.2}},\"type\":\"histogram\"}],\"scattergl\":[{\"type\":\"scattergl\",\"marker\":{\"colorbar\":{\"outlinewidth\":0,\"ticks\":\"\"}}}],\"scatter3d\":[{\"type\":\"scatter3d\",\"line\":{\"colorbar\":{\"outlinewidth\":0,\"ticks\":\"\"}},\"marker\":{\"colorbar\":{\"outlinewidth\":0,\"ticks\":\"\"}}}],\"scattermapbox\":[{\"type\":\"scattermapbox\",\"marker\":{\"colorbar\":{\"outlinewidth\":0,\"ticks\":\"\"}}}],\"scatterternary\":[{\"type\":\"scatterternary\",\"marker\":{\"colorbar\":{\"outlinewidth\":0,\"ticks\":\"\"}}}],\"scattercarpet\":[{\"type\":\"scattercarpet\",\"marker\":{\"colorbar\":{\"outlinewidth\":0,\"ticks\":\"\"}}}],\"carpet\":[{\"aaxis\":{\"endlinecolor\":\"#2a3f5f\",\"gridcolor\":\"white\",\"linecolor\":\"white\",\"minorgridcolor\":\"white\",\"startlinecolor\":\"#2a3f5f\"},\"baxis\":{\"endlinecolor\":\"#2a3f5f\",\"gridcolor\":\"white\",\"linecolor\":\"white\",\"minorgridcolor\":\"white\",\"startlinecolor\":\"#2a3f5f\"},\"type\":\"carpet\"}],\"table\":[{\"cells\":{\"fill\":{\"color\":\"#EBF0F8\"},\"line\":{\"color\":\"white\"}},\"header\":{\"fill\":{\"color\":\"#C8D4E3\"},\"line\":{\"color\":\"white\"}},\"type\":\"table\"}],\"barpolar\":[{\"marker\":{\"line\":{\"color\":\"#E5ECF6\",\"width\":0.5},\"pattern\":{\"fillmode\":\"overlay\",\"size\":10,\"solidity\":0.2}},\"type\":\"barpolar\"}],\"pie\":[{\"automargin\":true,\"type\":\"pie\"}]},\"layout\":{\"autotypenumbers\":\"strict\",\"colorway\":[\"#636efa\",\"#EF553B\",\"#00cc96\",\"#ab63fa\",\"#FFA15A\",\"#19d3f3\",\"#FF6692\",\"#B6E880\",\"#FF97FF\",\"#FECB52\"],\"font\":{\"color\":\"#2a3f5f\"},\"hovermode\":\"closest\",\"hoverlabel\":{\"align\":\"left\"},\"paper_bgcolor\":\"white\",\"plot_bgcolor\":\"#E5ECF6\",\"polar\":{\"bgcolor\":\"#E5ECF6\",\"angularaxis\":{\"gridcolor\":\"white\",\"linecolor\":\"white\",\"ticks\":\"\"},\"radialaxis\":{\"gridcolor\":\"white\",\"linecolor\":\"white\",\"ticks\":\"\"}},\"ternary\":{\"bgcolor\":\"#E5ECF6\",\"aaxis\":{\"gridcolor\":\"white\",\"linecolor\":\"white\",\"ticks\":\"\"},\"baxis\":{\"gridcolor\":\"white\",\"linecolor\":\"white\",\"ticks\":\"\"},\"caxis\":{\"gridcolor\":\"white\",\"linecolor\":\"white\",\"ticks\":\"\"}},\"coloraxis\":{\"colorbar\":{\"outlinewidth\":0,\"ticks\":\"\"}},\"colorscale\":{\"sequential\":[[0.0,\"#0d0887\"],[0.1111111111111111,\"#46039f\"],[0.2222222222222222,\"#7201a8\"],[0.3333333333333333,\"#9c179e\"],[0.4444444444444444,\"#bd3786\"],[0.5555555555555556,\"#d8576b\"],[0.6666666666666666,\"#ed7953\"],[0.7777777777777778,\"#fb9f3a\"],[0.8888888888888888,\"#fdca26\"],[1.0,\"#f0f921\"]],\"sequentialminus\":[[0.0,\"#0d0887\"],[0.1111111111111111,\"#46039f\"],[0.2222222222222222,\"#7201a8\"],[0.3333333333333333,\"#9c179e\"],[0.4444444444444444,\"#bd3786\"],[0.5555555555555556,\"#d8576b\"],[0.6666666666666666,\"#ed7953\"],[0.7777777777777778,\"#fb9f3a\"],[0.8888888888888888,\"#fdca26\"],[1.0,\"#f0f921\"]],\"diverging\":[[0,\"#8e0152\"],[0.1,\"#c51b7d\"],[0.2,\"#de77ae\"],[0.3,\"#f1b6da\"],[0.4,\"#fde0ef\"],[0.5,\"#f7f7f7\"],[0.6,\"#e6f5d0\"],[0.7,\"#b8e186\"],[0.8,\"#7fbc41\"],[0.9,\"#4d9221\"],[1,\"#276419\"]]},\"xaxis\":{\"gridcolor\":\"white\",\"linecolor\":\"white\",\"ticks\":\"\",\"title\":{\"standoff\":15},\"zerolinecolor\":\"white\",\"automargin\":true,\"zerolinewidth\":2},\"yaxis\":{\"gridcolor\":\"white\",\"linecolor\":\"white\",\"ticks\":\"\",\"title\":{\"standoff\":15},\"zerolinecolor\":\"white\",\"automargin\":true,\"zerolinewidth\":2},\"scene\":{\"xaxis\":{\"backgroundcolor\":\"#E5ECF6\",\"gridcolor\":\"white\",\"linecolor\":\"white\",\"showbackground\":true,\"ticks\":\"\",\"zerolinecolor\":\"white\",\"gridwidth\":2},\"yaxis\":{\"backgroundcolor\":\"#E5ECF6\",\"gridcolor\":\"white\",\"linecolor\":\"white\",\"showbackground\":true,\"ticks\":\"\",\"zerolinecolor\":\"white\",\"gridwidth\":2},\"zaxis\":{\"backgroundcolor\":\"#E5ECF6\",\"gridcolor\":\"white\",\"linecolor\":\"white\",\"showbackground\":true,\"ticks\":\"\",\"zerolinecolor\":\"white\",\"gridwidth\":2}},\"shapedefaults\":{\"line\":{\"color\":\"#2a3f5f\"}},\"annotationdefaults\":{\"arrowcolor\":\"#2a3f5f\",\"arrowhead\":0,\"arrowwidth\":1},\"geo\":{\"bgcolor\":\"white\",\"landcolor\":\"#E5ECF6\",\"subunitcolor\":\"white\",\"showland\":true,\"showlakes\":true,\"lakecolor\":\"white\"},\"title\":{\"x\":0.05},\"mapbox\":{\"style\":\"light\"}}},\"xaxis\":{\"anchor\":\"y\",\"domain\":[0.0,0.22999999999999998],\"title\":{\"text\":\"sketch_fn\"},\"categoryorder\":\"array\",\"categoryarray\":[\"gaussian\",\"sjlt\",\"srht\",\"none\"]},\"yaxis\":{\"anchor\":\"x\",\"domain\":[0.0,0.485],\"title\":{\"text\":\"sum of time\"}},\"xaxis2\":{\"anchor\":\"y2\",\"domain\":[0.24999999999999997,0.48],\"matches\":\"x\",\"title\":{\"text\":\"sketch_fn\"},\"categoryorder\":\"array\",\"categoryarray\":[\"gaussian\",\"sjlt\",\"srht\",\"none\"]},\"yaxis2\":{\"anchor\":\"x2\",\"domain\":[0.0,0.485],\"matches\":\"y\",\"showticklabels\":false},\"xaxis3\":{\"anchor\":\"y3\",\"domain\":[0.49999999999999994,0.73],\"matches\":\"x\",\"title\":{\"text\":\"sketch_fn\"},\"categoryorder\":\"array\",\"categoryarray\":[\"gaussian\",\"sjlt\",\"srht\",\"none\"]},\"yaxis3\":{\"anchor\":\"x3\",\"domain\":[0.0,0.485],\"matches\":\"y\",\"showticklabels\":false},\"xaxis4\":{\"anchor\":\"y4\",\"domain\":[0.75,0.98],\"matches\":\"x\",\"title\":{\"text\":\"sketch_fn\"},\"categoryorder\":\"array\",\"categoryarray\":[\"gaussian\",\"sjlt\",\"srht\",\"none\"]},\"yaxis4\":{\"anchor\":\"x4\",\"domain\":[0.0,0.485],\"matches\":\"y\",\"showticklabels\":false},\"xaxis5\":{\"anchor\":\"y5\",\"domain\":[0.0,0.22999999999999998],\"matches\":\"x\",\"showticklabels\":false},\"yaxis5\":{\"anchor\":\"x5\",\"domain\":[0.515,1.0],\"matches\":\"y\",\"title\":{\"text\":\"sum of time\"}},\"xaxis6\":{\"anchor\":\"y6\",\"domain\":[0.24999999999999997,0.48],\"matches\":\"x\",\"showticklabels\":false},\"yaxis6\":{\"anchor\":\"x6\",\"domain\":[0.515,1.0],\"matches\":\"y\",\"showticklabels\":false},\"xaxis7\":{\"anchor\":\"y7\",\"domain\":[0.49999999999999994,0.73],\"matches\":\"x\",\"showticklabels\":false},\"yaxis7\":{\"anchor\":\"x7\",\"domain\":[0.515,1.0],\"matches\":\"y\",\"showticklabels\":false},\"xaxis8\":{\"anchor\":\"y8\",\"domain\":[0.75,0.98],\"matches\":\"x\",\"showticklabels\":false},\"yaxis8\":{\"anchor\":\"x8\",\"domain\":[0.515,1.0],\"matches\":\"y\",\"showticklabels\":false},\"annotations\":[{\"font\":{},\"showarrow\":false,\"text\":\"deff=32\",\"x\":0.11499999999999999,\"xanchor\":\"center\",\"xref\":\"paper\",\"y\":1.0,\"yanchor\":\"bottom\",\"yref\":\"paper\"},{\"font\":{},\"showarrow\":false,\"text\":\"deff=64\",\"x\":0.365,\"xanchor\":\"center\",\"xref\":\"paper\",\"y\":1.0,\"yanchor\":\"bottom\",\"yref\":\"paper\"},{\"font\":{},\"showarrow\":false,\"text\":\"deff=128\",\"x\":0.615,\"xanchor\":\"center\",\"xref\":\"paper\",\"y\":1.0,\"yanchor\":\"bottom\",\"yref\":\"paper\"},{\"font\":{},\"showarrow\":false,\"text\":\"deff=256\",\"x\":0.865,\"xanchor\":\"center\",\"xref\":\"paper\",\"y\":1.0,\"yanchor\":\"bottom\",\"yref\":\"paper\"},{\"font\":{},\"showarrow\":false,\"text\":\"n=4096\",\"textangle\":90,\"x\":0.98,\"xanchor\":\"left\",\"xref\":\"paper\",\"y\":0.2425,\"yanchor\":\"middle\",\"yref\":\"paper\"},{\"font\":{},\"showarrow\":false,\"text\":\"n=2048\",\"textangle\":90,\"x\":0.98,\"xanchor\":\"left\",\"xref\":\"paper\",\"y\":0.7575000000000001,\"yanchor\":\"middle\",\"yref\":\"paper\"}],\"legend\":{\"title\":{\"text\":\"method, sketch_fn\"},\"tracegroupgap\":0},\"margin\":{\"t\":60},\"barmode\":\"group\",\"height\":700},                        {\"responsive\": true}                    ).then(function(){\n",
       "                            \n",
       "var gd = document.getElementById('3b9969d0-f616-4436-babc-ee335a34512f');\n",
       "var x = new MutationObserver(function (mutations, observer) {{\n",
       "        var display = window.getComputedStyle(gd).display;\n",
       "        if (!display || display === 'none') {{\n",
       "            console.log([gd, 'removed!']);\n",
       "            Plotly.purge(gd);\n",
       "            observer.disconnect();\n",
       "        }}\n",
       "}});\n",
       "\n",
       "// Listen for the removal of the full notebook cells\n",
       "var notebookContainer = gd.closest('#notebook-container');\n",
       "if (notebookContainer) {{\n",
       "    x.observe(notebookContainer, {childList: true});\n",
       "}}\n",
       "\n",
       "// Listen for the clearing of the current output cell\n",
       "var outputEl = gd.closest('.output');\n",
       "if (outputEl) {{\n",
       "    x.observe(outputEl, {childList: true});\n",
       "}}\n",
       "\n",
       "                        })                };                });            </script>        </div>"
      ]
     },
     "metadata": {},
     "output_type": "display_data"
    },
    {
     "name": "stdout",
     "output_type": "stream",
     "text": [
      "d=512\n"
     ]
    },
    {
     "data": {
      "application/vnd.plotly.v1+json": {
       "config": {
        "plotlyServerURL": "https://plot.ly"
       },
       "data": [
        {
         "alignmentgroup": "True",
         "bingroup": "x",
         "cliponaxis": false,
         "histfunc": "sum",
         "hovertemplate": "method=adacg<br>sketch_fn=%{x}<br>n=2048<br>deff=32<br>sum of time=%{y}<extra></extra>",
         "legendgroup": "adacg, gaussian",
         "marker": {
          "color": "#636efa",
          "pattern": {
           "shape": ""
          }
         },
         "name": "adacg, gaussian",
         "offsetgroup": "adacg, gaussian",
         "orientation": "v",
         "showlegend": true,
         "textangle": 0,
         "textposition": "outside",
         "texttemplate": "%{value:.2s}",
         "type": "histogram",
         "x": [
          "gaussian"
         ],
         "xaxis": "x6",
         "y": [
          0.03564693066664404
         ],
         "yaxis": "y6"
        },
        {
         "alignmentgroup": "True",
         "bingroup": "x",
         "cliponaxis": false,
         "histfunc": "sum",
         "hovertemplate": "method=adacg<br>sketch_fn=%{x}<br>n=2048<br>deff=64<br>sum of time=%{y}<extra></extra>",
         "legendgroup": "adacg, gaussian",
         "marker": {
          "color": "#636efa",
          "pattern": {
           "shape": ""
          }
         },
         "name": "adacg, gaussian",
         "offsetgroup": "adacg, gaussian",
         "orientation": "v",
         "showlegend": false,
         "textangle": 0,
         "textposition": "outside",
         "texttemplate": "%{value:.2s}",
         "type": "histogram",
         "x": [
          "gaussian"
         ],
         "xaxis": "x7",
         "y": [
          0.03295847633330595
         ],
         "yaxis": "y7"
        },
        {
         "alignmentgroup": "True",
         "bingroup": "x",
         "cliponaxis": false,
         "histfunc": "sum",
         "hovertemplate": "method=adacg<br>sketch_fn=%{x}<br>n=2048<br>deff=128<br>sum of time=%{y}<extra></extra>",
         "legendgroup": "adacg, gaussian",
         "marker": {
          "color": "#636efa",
          "pattern": {
           "shape": ""
          }
         },
         "name": "adacg, gaussian",
         "offsetgroup": "adacg, gaussian",
         "orientation": "v",
         "showlegend": false,
         "textangle": 0,
         "textposition": "outside",
         "texttemplate": "%{value:.2s}",
         "type": "histogram",
         "x": [
          "gaussian"
         ],
         "xaxis": "x8",
         "y": [
          0.03883951833328562
         ],
         "yaxis": "y8"
        },
        {
         "alignmentgroup": "True",
         "bingroup": "x",
         "cliponaxis": false,
         "histfunc": "sum",
         "hovertemplate": "method=adacg<br>sketch_fn=%{x}<br>n=2048<br>deff=256<br>sum of time=%{y}<extra></extra>",
         "legendgroup": "adacg, gaussian",
         "marker": {
          "color": "#636efa",
          "pattern": {
           "shape": ""
          }
         },
         "name": "adacg, gaussian",
         "offsetgroup": "adacg, gaussian",
         "orientation": "v",
         "showlegend": false,
         "textangle": 0,
         "textposition": "outside",
         "texttemplate": "%{value:.2s}",
         "type": "histogram",
         "x": [
          "gaussian"
         ],
         "xaxis": "x9",
         "y": [
          0.03276882533335386
         ],
         "yaxis": "y9"
        },
        {
         "alignmentgroup": "True",
         "bingroup": "x",
         "cliponaxis": false,
         "histfunc": "sum",
         "hovertemplate": "method=adacg<br>sketch_fn=%{x}<br>n=2048<br>deff=512<br>sum of time=%{y}<extra></extra>",
         "legendgroup": "adacg, gaussian",
         "marker": {
          "color": "#636efa",
          "pattern": {
           "shape": ""
          }
         },
         "name": "adacg, gaussian",
         "offsetgroup": "adacg, gaussian",
         "orientation": "v",
         "showlegend": false,
         "textangle": 0,
         "textposition": "outside",
         "texttemplate": "%{value:.2s}",
         "type": "histogram",
         "x": [
          "gaussian"
         ],
         "xaxis": "x10",
         "y": [
          0.033602108999957636
         ],
         "yaxis": "y10"
        },
        {
         "alignmentgroup": "True",
         "bingroup": "x",
         "cliponaxis": false,
         "histfunc": "sum",
         "hovertemplate": "method=adacg<br>sketch_fn=%{x}<br>n=4096<br>deff=32<br>sum of time=%{y}<extra></extra>",
         "legendgroup": "adacg, gaussian",
         "marker": {
          "color": "#636efa",
          "pattern": {
           "shape": ""
          }
         },
         "name": "adacg, gaussian",
         "offsetgroup": "adacg, gaussian",
         "orientation": "v",
         "showlegend": false,
         "textangle": 0,
         "textposition": "outside",
         "texttemplate": "%{value:.2s}",
         "type": "histogram",
         "x": [
          "gaussian"
         ],
         "xaxis": "x",
         "y": [
          0.06380604199997227
         ],
         "yaxis": "y"
        },
        {
         "alignmentgroup": "True",
         "bingroup": "x",
         "cliponaxis": false,
         "histfunc": "sum",
         "hovertemplate": "method=adacg<br>sketch_fn=%{x}<br>n=4096<br>deff=64<br>sum of time=%{y}<extra></extra>",
         "legendgroup": "adacg, gaussian",
         "marker": {
          "color": "#636efa",
          "pattern": {
           "shape": ""
          }
         },
         "name": "adacg, gaussian",
         "offsetgroup": "adacg, gaussian",
         "orientation": "v",
         "showlegend": false,
         "textangle": 0,
         "textposition": "outside",
         "texttemplate": "%{value:.2s}",
         "type": "histogram",
         "x": [
          "gaussian"
         ],
         "xaxis": "x2",
         "y": [
          0.06139957366667658
         ],
         "yaxis": "y2"
        },
        {
         "alignmentgroup": "True",
         "bingroup": "x",
         "cliponaxis": false,
         "histfunc": "sum",
         "hovertemplate": "method=adacg<br>sketch_fn=%{x}<br>n=4096<br>deff=128<br>sum of time=%{y}<extra></extra>",
         "legendgroup": "adacg, gaussian",
         "marker": {
          "color": "#636efa",
          "pattern": {
           "shape": ""
          }
         },
         "name": "adacg, gaussian",
         "offsetgroup": "adacg, gaussian",
         "orientation": "v",
         "showlegend": false,
         "textangle": 0,
         "textposition": "outside",
         "texttemplate": "%{value:.2s}",
         "type": "histogram",
         "x": [
          "gaussian"
         ],
         "xaxis": "x3",
         "y": [
          0.062116211666761956
         ],
         "yaxis": "y3"
        },
        {
         "alignmentgroup": "True",
         "bingroup": "x",
         "cliponaxis": false,
         "histfunc": "sum",
         "hovertemplate": "method=adacg<br>sketch_fn=%{x}<br>n=4096<br>deff=256<br>sum of time=%{y}<extra></extra>",
         "legendgroup": "adacg, gaussian",
         "marker": {
          "color": "#636efa",
          "pattern": {
           "shape": ""
          }
         },
         "name": "adacg, gaussian",
         "offsetgroup": "adacg, gaussian",
         "orientation": "v",
         "showlegend": false,
         "textangle": 0,
         "textposition": "outside",
         "texttemplate": "%{value:.2s}",
         "type": "histogram",
         "x": [
          "gaussian"
         ],
         "xaxis": "x4",
         "y": [
          0.06234051199983999
         ],
         "yaxis": "y4"
        },
        {
         "alignmentgroup": "True",
         "bingroup": "x",
         "cliponaxis": false,
         "histfunc": "sum",
         "hovertemplate": "method=adacg<br>sketch_fn=%{x}<br>n=4096<br>deff=512<br>sum of time=%{y}<extra></extra>",
         "legendgroup": "adacg, gaussian",
         "marker": {
          "color": "#636efa",
          "pattern": {
           "shape": ""
          }
         },
         "name": "adacg, gaussian",
         "offsetgroup": "adacg, gaussian",
         "orientation": "v",
         "showlegend": false,
         "textangle": 0,
         "textposition": "outside",
         "texttemplate": "%{value:.2s}",
         "type": "histogram",
         "x": [
          "gaussian"
         ],
         "xaxis": "x5",
         "y": [
          0.06414233733357833
         ],
         "yaxis": "y5"
        },
        {
         "alignmentgroup": "True",
         "bingroup": "x",
         "cliponaxis": false,
         "histfunc": "sum",
         "hovertemplate": "method=adacg<br>sketch_fn=%{x}<br>n=2048<br>deff=32<br>sum of time=%{y}<extra></extra>",
         "legendgroup": "adacg, sjlt",
         "marker": {
          "color": "#636efa",
          "pattern": {
           "shape": "/"
          }
         },
         "name": "adacg, sjlt",
         "offsetgroup": "adacg, sjlt",
         "orientation": "v",
         "showlegend": true,
         "textangle": 0,
         "textposition": "outside",
         "texttemplate": "%{value:.2s}",
         "type": "histogram",
         "x": [
          "sjlt"
         ],
         "xaxis": "x6",
         "y": [
          0.0318153190000127
         ],
         "yaxis": "y6"
        },
        {
         "alignmentgroup": "True",
         "bingroup": "x",
         "cliponaxis": false,
         "histfunc": "sum",
         "hovertemplate": "method=adacg<br>sketch_fn=%{x}<br>n=2048<br>deff=64<br>sum of time=%{y}<extra></extra>",
         "legendgroup": "adacg, sjlt",
         "marker": {
          "color": "#636efa",
          "pattern": {
           "shape": "/"
          }
         },
         "name": "adacg, sjlt",
         "offsetgroup": "adacg, sjlt",
         "orientation": "v",
         "showlegend": false,
         "textangle": 0,
         "textposition": "outside",
         "texttemplate": "%{value:.2s}",
         "type": "histogram",
         "x": [
          "sjlt"
         ],
         "xaxis": "x7",
         "y": [
          0.029858457000045746
         ],
         "yaxis": "y7"
        },
        {
         "alignmentgroup": "True",
         "bingroup": "x",
         "cliponaxis": false,
         "histfunc": "sum",
         "hovertemplate": "method=adacg<br>sketch_fn=%{x}<br>n=2048<br>deff=128<br>sum of time=%{y}<extra></extra>",
         "legendgroup": "adacg, sjlt",
         "marker": {
          "color": "#636efa",
          "pattern": {
           "shape": "/"
          }
         },
         "name": "adacg, sjlt",
         "offsetgroup": "adacg, sjlt",
         "orientation": "v",
         "showlegend": false,
         "textangle": 0,
         "textposition": "outside",
         "texttemplate": "%{value:.2s}",
         "type": "histogram",
         "x": [
          "sjlt"
         ],
         "xaxis": "x8",
         "y": [
          0.036101437666654114
         ],
         "yaxis": "y8"
        },
        {
         "alignmentgroup": "True",
         "bingroup": "x",
         "cliponaxis": false,
         "histfunc": "sum",
         "hovertemplate": "method=adacg<br>sketch_fn=%{x}<br>n=2048<br>deff=256<br>sum of time=%{y}<extra></extra>",
         "legendgroup": "adacg, sjlt",
         "marker": {
          "color": "#636efa",
          "pattern": {
           "shape": "/"
          }
         },
         "name": "adacg, sjlt",
         "offsetgroup": "adacg, sjlt",
         "orientation": "v",
         "showlegend": false,
         "textangle": 0,
         "textposition": "outside",
         "texttemplate": "%{value:.2s}",
         "type": "histogram",
         "x": [
          "sjlt"
         ],
         "xaxis": "x9",
         "y": [
          0.02956769833326689
         ],
         "yaxis": "y9"
        },
        {
         "alignmentgroup": "True",
         "bingroup": "x",
         "cliponaxis": false,
         "histfunc": "sum",
         "hovertemplate": "method=adacg<br>sketch_fn=%{x}<br>n=2048<br>deff=512<br>sum of time=%{y}<extra></extra>",
         "legendgroup": "adacg, sjlt",
         "marker": {
          "color": "#636efa",
          "pattern": {
           "shape": "/"
          }
         },
         "name": "adacg, sjlt",
         "offsetgroup": "adacg, sjlt",
         "orientation": "v",
         "showlegend": false,
         "textangle": 0,
         "textposition": "outside",
         "texttemplate": "%{value:.2s}",
         "type": "histogram",
         "x": [
          "sjlt"
         ],
         "xaxis": "x10",
         "y": [
          0.03183856433345984
         ],
         "yaxis": "y10"
        },
        {
         "alignmentgroup": "True",
         "bingroup": "x",
         "cliponaxis": false,
         "histfunc": "sum",
         "hovertemplate": "method=adacg<br>sketch_fn=%{x}<br>n=4096<br>deff=32<br>sum of time=%{y}<extra></extra>",
         "legendgroup": "adacg, sjlt",
         "marker": {
          "color": "#636efa",
          "pattern": {
           "shape": "/"
          }
         },
         "name": "adacg, sjlt",
         "offsetgroup": "adacg, sjlt",
         "orientation": "v",
         "showlegend": false,
         "textangle": 0,
         "textposition": "outside",
         "texttemplate": "%{value:.2s}",
         "type": "histogram",
         "x": [
          "sjlt"
         ],
         "xaxis": "x",
         "y": [
          0.055265632333430396
         ],
         "yaxis": "y"
        },
        {
         "alignmentgroup": "True",
         "bingroup": "x",
         "cliponaxis": false,
         "histfunc": "sum",
         "hovertemplate": "method=adacg<br>sketch_fn=%{x}<br>n=4096<br>deff=64<br>sum of time=%{y}<extra></extra>",
         "legendgroup": "adacg, sjlt",
         "marker": {
          "color": "#636efa",
          "pattern": {
           "shape": "/"
          }
         },
         "name": "adacg, sjlt",
         "offsetgroup": "adacg, sjlt",
         "orientation": "v",
         "showlegend": false,
         "textangle": 0,
         "textposition": "outside",
         "texttemplate": "%{value:.2s}",
         "type": "histogram",
         "x": [
          "sjlt"
         ],
         "xaxis": "x2",
         "y": [
          0.05507000766647252
         ],
         "yaxis": "y2"
        },
        {
         "alignmentgroup": "True",
         "bingroup": "x",
         "cliponaxis": false,
         "histfunc": "sum",
         "hovertemplate": "method=adacg<br>sketch_fn=%{x}<br>n=4096<br>deff=128<br>sum of time=%{y}<extra></extra>",
         "legendgroup": "adacg, sjlt",
         "marker": {
          "color": "#636efa",
          "pattern": {
           "shape": "/"
          }
         },
         "name": "adacg, sjlt",
         "offsetgroup": "adacg, sjlt",
         "orientation": "v",
         "showlegend": false,
         "textangle": 0,
         "textposition": "outside",
         "texttemplate": "%{value:.2s}",
         "type": "histogram",
         "x": [
          "sjlt"
         ],
         "xaxis": "x3",
         "y": [
          0.05492714633358749
         ],
         "yaxis": "y3"
        },
        {
         "alignmentgroup": "True",
         "bingroup": "x",
         "cliponaxis": false,
         "histfunc": "sum",
         "hovertemplate": "method=adacg<br>sketch_fn=%{x}<br>n=4096<br>deff=256<br>sum of time=%{y}<extra></extra>",
         "legendgroup": "adacg, sjlt",
         "marker": {
          "color": "#636efa",
          "pattern": {
           "shape": "/"
          }
         },
         "name": "adacg, sjlt",
         "offsetgroup": "adacg, sjlt",
         "orientation": "v",
         "showlegend": false,
         "textangle": 0,
         "textposition": "outside",
         "texttemplate": "%{value:.2s}",
         "type": "histogram",
         "x": [
          "sjlt"
         ],
         "xaxis": "x4",
         "y": [
          0.0564468229998359
         ],
         "yaxis": "y4"
        },
        {
         "alignmentgroup": "True",
         "bingroup": "x",
         "cliponaxis": false,
         "histfunc": "sum",
         "hovertemplate": "method=adacg<br>sketch_fn=%{x}<br>n=4096<br>deff=512<br>sum of time=%{y}<extra></extra>",
         "legendgroup": "adacg, sjlt",
         "marker": {
          "color": "#636efa",
          "pattern": {
           "shape": "/"
          }
         },
         "name": "adacg, sjlt",
         "offsetgroup": "adacg, sjlt",
         "orientation": "v",
         "showlegend": false,
         "textangle": 0,
         "textposition": "outside",
         "texttemplate": "%{value:.2s}",
         "type": "histogram",
         "x": [
          "sjlt"
         ],
         "xaxis": "x5",
         "y": [
          0.055890663667014444
         ],
         "yaxis": "y5"
        },
        {
         "alignmentgroup": "True",
         "bingroup": "x",
         "cliponaxis": false,
         "histfunc": "sum",
         "hovertemplate": "method=adacg<br>sketch_fn=%{x}<br>n=2048<br>deff=32<br>sum of time=%{y}<extra></extra>",
         "legendgroup": "adacg, srht",
         "marker": {
          "color": "#636efa",
          "pattern": {
           "shape": "\\"
          }
         },
         "name": "adacg, srht",
         "offsetgroup": "adacg, srht",
         "orientation": "v",
         "showlegend": true,
         "textangle": 0,
         "textposition": "outside",
         "texttemplate": "%{value:.2s}",
         "type": "histogram",
         "x": [
          "srht"
         ],
         "xaxis": "x6",
         "y": [
          0.04046508299992031
         ],
         "yaxis": "y6"
        },
        {
         "alignmentgroup": "True",
         "bingroup": "x",
         "cliponaxis": false,
         "histfunc": "sum",
         "hovertemplate": "method=adacg<br>sketch_fn=%{x}<br>n=2048<br>deff=64<br>sum of time=%{y}<extra></extra>",
         "legendgroup": "adacg, srht",
         "marker": {
          "color": "#636efa",
          "pattern": {
           "shape": "\\"
          }
         },
         "name": "adacg, srht",
         "offsetgroup": "adacg, srht",
         "orientation": "v",
         "showlegend": false,
         "textangle": 0,
         "textposition": "outside",
         "texttemplate": "%{value:.2s}",
         "type": "histogram",
         "x": [
          "srht"
         ],
         "xaxis": "x7",
         "y": [
          0.03803546299999046
         ],
         "yaxis": "y7"
        },
        {
         "alignmentgroup": "True",
         "bingroup": "x",
         "cliponaxis": false,
         "histfunc": "sum",
         "hovertemplate": "method=adacg<br>sketch_fn=%{x}<br>n=2048<br>deff=128<br>sum of time=%{y}<extra></extra>",
         "legendgroup": "adacg, srht",
         "marker": {
          "color": "#636efa",
          "pattern": {
           "shape": "\\"
          }
         },
         "name": "adacg, srht",
         "offsetgroup": "adacg, srht",
         "orientation": "v",
         "showlegend": false,
         "textangle": 0,
         "textposition": "outside",
         "texttemplate": "%{value:.2s}",
         "type": "histogram",
         "x": [
          "srht"
         ],
         "xaxis": "x8",
         "y": [
          0.0415303300000384
         ],
         "yaxis": "y8"
        },
        {
         "alignmentgroup": "True",
         "bingroup": "x",
         "cliponaxis": false,
         "histfunc": "sum",
         "hovertemplate": "method=adacg<br>sketch_fn=%{x}<br>n=2048<br>deff=256<br>sum of time=%{y}<extra></extra>",
         "legendgroup": "adacg, srht",
         "marker": {
          "color": "#636efa",
          "pattern": {
           "shape": "\\"
          }
         },
         "name": "adacg, srht",
         "offsetgroup": "adacg, srht",
         "orientation": "v",
         "showlegend": false,
         "textangle": 0,
         "textposition": "outside",
         "texttemplate": "%{value:.2s}",
         "type": "histogram",
         "x": [
          "srht"
         ],
         "xaxis": "x9",
         "y": [
          0.03853734633336595
         ],
         "yaxis": "y9"
        },
        {
         "alignmentgroup": "True",
         "bingroup": "x",
         "cliponaxis": false,
         "histfunc": "sum",
         "hovertemplate": "method=adacg<br>sketch_fn=%{x}<br>n=2048<br>deff=512<br>sum of time=%{y}<extra></extra>",
         "legendgroup": "adacg, srht",
         "marker": {
          "color": "#636efa",
          "pattern": {
           "shape": "\\"
          }
         },
         "name": "adacg, srht",
         "offsetgroup": "adacg, srht",
         "orientation": "v",
         "showlegend": false,
         "textangle": 0,
         "textposition": "outside",
         "texttemplate": "%{value:.2s}",
         "type": "histogram",
         "x": [
          "srht"
         ],
         "xaxis": "x10",
         "y": [
          0.038584295333445574
         ],
         "yaxis": "y10"
        },
        {
         "alignmentgroup": "True",
         "bingroup": "x",
         "cliponaxis": false,
         "histfunc": "sum",
         "hovertemplate": "method=adacg<br>sketch_fn=%{x}<br>n=4096<br>deff=32<br>sum of time=%{y}<extra></extra>",
         "legendgroup": "adacg, srht",
         "marker": {
          "color": "#636efa",
          "pattern": {
           "shape": "\\"
          }
         },
         "name": "adacg, srht",
         "offsetgroup": "adacg, srht",
         "orientation": "v",
         "showlegend": false,
         "textangle": 0,
         "textposition": "outside",
         "texttemplate": "%{value:.2s}",
         "type": "histogram",
         "x": [
          "srht"
         ],
         "xaxis": "x",
         "y": [
          0.0689850886668258
         ],
         "yaxis": "y"
        },
        {
         "alignmentgroup": "True",
         "bingroup": "x",
         "cliponaxis": false,
         "histfunc": "sum",
         "hovertemplate": "method=adacg<br>sketch_fn=%{x}<br>n=4096<br>deff=64<br>sum of time=%{y}<extra></extra>",
         "legendgroup": "adacg, srht",
         "marker": {
          "color": "#636efa",
          "pattern": {
           "shape": "\\"
          }
         },
         "name": "adacg, srht",
         "offsetgroup": "adacg, srht",
         "orientation": "v",
         "showlegend": false,
         "textangle": 0,
         "textposition": "outside",
         "texttemplate": "%{value:.2s}",
         "type": "histogram",
         "x": [
          "srht"
         ],
         "xaxis": "x2",
         "y": [
          0.06782701866692756
         ],
         "yaxis": "y2"
        },
        {
         "alignmentgroup": "True",
         "bingroup": "x",
         "cliponaxis": false,
         "histfunc": "sum",
         "hovertemplate": "method=adacg<br>sketch_fn=%{x}<br>n=4096<br>deff=128<br>sum of time=%{y}<extra></extra>",
         "legendgroup": "adacg, srht",
         "marker": {
          "color": "#636efa",
          "pattern": {
           "shape": "\\"
          }
         },
         "name": "adacg, srht",
         "offsetgroup": "adacg, srht",
         "orientation": "v",
         "showlegend": false,
         "textangle": 0,
         "textposition": "outside",
         "texttemplate": "%{value:.2s}",
         "type": "histogram",
         "x": [
          "srht"
         ],
         "xaxis": "x3",
         "y": [
          0.07104822766632424
         ],
         "yaxis": "y3"
        },
        {
         "alignmentgroup": "True",
         "bingroup": "x",
         "cliponaxis": false,
         "histfunc": "sum",
         "hovertemplate": "method=adacg<br>sketch_fn=%{x}<br>n=4096<br>deff=256<br>sum of time=%{y}<extra></extra>",
         "legendgroup": "adacg, srht",
         "marker": {
          "color": "#636efa",
          "pattern": {
           "shape": "\\"
          }
         },
         "name": "adacg, srht",
         "offsetgroup": "adacg, srht",
         "orientation": "v",
         "showlegend": false,
         "textangle": 0,
         "textposition": "outside",
         "texttemplate": "%{value:.2s}",
         "type": "histogram",
         "x": [
          "srht"
         ],
         "xaxis": "x4",
         "y": [
          0.07176462533395048
         ],
         "yaxis": "y4"
        },
        {
         "alignmentgroup": "True",
         "bingroup": "x",
         "cliponaxis": false,
         "histfunc": "sum",
         "hovertemplate": "method=adacg<br>sketch_fn=%{x}<br>n=4096<br>deff=512<br>sum of time=%{y}<extra></extra>",
         "legendgroup": "adacg, srht",
         "marker": {
          "color": "#636efa",
          "pattern": {
           "shape": "\\"
          }
         },
         "name": "adacg, srht",
         "offsetgroup": "adacg, srht",
         "orientation": "v",
         "showlegend": false,
         "textangle": 0,
         "textposition": "outside",
         "texttemplate": "%{value:.2s}",
         "type": "histogram",
         "x": [
          "srht"
         ],
         "xaxis": "x5",
         "y": [
          0.06933887566689614
         ],
         "yaxis": "y5"
        },
        {
         "alignmentgroup": "True",
         "bingroup": "x",
         "cliponaxis": false,
         "histfunc": "sum",
         "hovertemplate": "method=cg<br>sketch_fn=%{x}<br>n=2048<br>deff=32<br>sum of time=%{y}<extra></extra>",
         "legendgroup": "cg, none",
         "marker": {
          "color": "#EF553B",
          "pattern": {
           "shape": "x"
          }
         },
         "name": "cg, none",
         "offsetgroup": "cg, none",
         "orientation": "v",
         "showlegend": true,
         "textangle": 0,
         "textposition": "outside",
         "texttemplate": "%{value:.2s}",
         "type": "histogram",
         "x": [
          "none"
         ],
         "xaxis": "x6",
         "y": [
          0.05939010166669807
         ],
         "yaxis": "y6"
        },
        {
         "alignmentgroup": "True",
         "bingroup": "x",
         "cliponaxis": false,
         "histfunc": "sum",
         "hovertemplate": "method=cg<br>sketch_fn=%{x}<br>n=2048<br>deff=64<br>sum of time=%{y}<extra></extra>",
         "legendgroup": "cg, none",
         "marker": {
          "color": "#EF553B",
          "pattern": {
           "shape": "x"
          }
         },
         "name": "cg, none",
         "offsetgroup": "cg, none",
         "orientation": "v",
         "showlegend": false,
         "textangle": 0,
         "textposition": "outside",
         "texttemplate": "%{value:.2s}",
         "type": "histogram",
         "x": [
          "none"
         ],
         "xaxis": "x7",
         "y": [
          0.08979898833338969
         ],
         "yaxis": "y7"
        },
        {
         "alignmentgroup": "True",
         "bingroup": "x",
         "cliponaxis": false,
         "histfunc": "sum",
         "hovertemplate": "method=cg<br>sketch_fn=%{x}<br>n=2048<br>deff=128<br>sum of time=%{y}<extra></extra>",
         "legendgroup": "cg, none",
         "marker": {
          "color": "#EF553B",
          "pattern": {
           "shape": "x"
          }
         },
         "name": "cg, none",
         "offsetgroup": "cg, none",
         "orientation": "v",
         "showlegend": false,
         "textangle": 0,
         "textposition": "outside",
         "texttemplate": "%{value:.2s}",
         "type": "histogram",
         "x": [
          "none"
         ],
         "xaxis": "x8",
         "y": [
          0.21928269466661732
         ],
         "yaxis": "y8"
        },
        {
         "alignmentgroup": "True",
         "bingroup": "x",
         "cliponaxis": false,
         "histfunc": "sum",
         "hovertemplate": "method=cg<br>sketch_fn=%{x}<br>n=2048<br>deff=256<br>sum of time=%{y}<extra></extra>",
         "legendgroup": "cg, none",
         "marker": {
          "color": "#EF553B",
          "pattern": {
           "shape": "x"
          }
         },
         "name": "cg, none",
         "offsetgroup": "cg, none",
         "orientation": "v",
         "showlegend": false,
         "textangle": 0,
         "textposition": "outside",
         "texttemplate": "%{value:.2s}",
         "type": "histogram",
         "x": [
          "none"
         ],
         "xaxis": "x9",
         "y": [
          0.40087400466677536
         ],
         "yaxis": "y9"
        },
        {
         "alignmentgroup": "True",
         "bingroup": "x",
         "cliponaxis": false,
         "histfunc": "sum",
         "hovertemplate": "method=cg<br>sketch_fn=%{x}<br>n=2048<br>deff=512<br>sum of time=%{y}<extra></extra>",
         "legendgroup": "cg, none",
         "marker": {
          "color": "#EF553B",
          "pattern": {
           "shape": "x"
          }
         },
         "name": "cg, none",
         "offsetgroup": "cg, none",
         "orientation": "v",
         "showlegend": false,
         "textangle": 0,
         "textposition": "outside",
         "texttemplate": "%{value:.2s}",
         "type": "histogram",
         "x": [
          "none"
         ],
         "xaxis": "x10",
         "y": [
          0.48067862600009903
         ],
         "yaxis": "y10"
        },
        {
         "alignmentgroup": "True",
         "bingroup": "x",
         "cliponaxis": false,
         "histfunc": "sum",
         "hovertemplate": "method=cg<br>sketch_fn=%{x}<br>n=4096<br>deff=32<br>sum of time=%{y}<extra></extra>",
         "legendgroup": "cg, none",
         "marker": {
          "color": "#EF553B",
          "pattern": {
           "shape": "x"
          }
         },
         "name": "cg, none",
         "offsetgroup": "cg, none",
         "orientation": "v",
         "showlegend": false,
         "textangle": 0,
         "textposition": "outside",
         "texttemplate": "%{value:.2s}",
         "type": "histogram",
         "x": [
          "none"
         ],
         "xaxis": "x",
         "y": [
          0.06545266000011907
         ],
         "yaxis": "y"
        },
        {
         "alignmentgroup": "True",
         "bingroup": "x",
         "cliponaxis": false,
         "histfunc": "sum",
         "hovertemplate": "method=cg<br>sketch_fn=%{x}<br>n=4096<br>deff=64<br>sum of time=%{y}<extra></extra>",
         "legendgroup": "cg, none",
         "marker": {
          "color": "#EF553B",
          "pattern": {
           "shape": "x"
          }
         },
         "name": "cg, none",
         "offsetgroup": "cg, none",
         "orientation": "v",
         "showlegend": false,
         "textangle": 0,
         "textposition": "outside",
         "texttemplate": "%{value:.2s}",
         "type": "histogram",
         "x": [
          "none"
         ],
         "xaxis": "x2",
         "y": [
          0.19899001600000094
         ],
         "yaxis": "y2"
        },
        {
         "alignmentgroup": "True",
         "bingroup": "x",
         "cliponaxis": false,
         "histfunc": "sum",
         "hovertemplate": "method=cg<br>sketch_fn=%{x}<br>n=4096<br>deff=128<br>sum of time=%{y}<extra></extra>",
         "legendgroup": "cg, none",
         "marker": {
          "color": "#EF553B",
          "pattern": {
           "shape": "x"
          }
         },
         "name": "cg, none",
         "offsetgroup": "cg, none",
         "orientation": "v",
         "showlegend": false,
         "textangle": 0,
         "textposition": "outside",
         "texttemplate": "%{value:.2s}",
         "type": "histogram",
         "x": [
          "none"
         ],
         "xaxis": "x3",
         "y": [
          0.5498584140001791
         ],
         "yaxis": "y3"
        },
        {
         "alignmentgroup": "True",
         "bingroup": "x",
         "cliponaxis": false,
         "histfunc": "sum",
         "hovertemplate": "method=cg<br>sketch_fn=%{x}<br>n=4096<br>deff=256<br>sum of time=%{y}<extra></extra>",
         "legendgroup": "cg, none",
         "marker": {
          "color": "#EF553B",
          "pattern": {
           "shape": "x"
          }
         },
         "name": "cg, none",
         "offsetgroup": "cg, none",
         "orientation": "v",
         "showlegend": false,
         "textangle": 0,
         "textposition": "outside",
         "texttemplate": "%{value:.2s}",
         "type": "histogram",
         "x": [
          "none"
         ],
         "xaxis": "x4",
         "y": [
          1.2136711653332288
         ],
         "yaxis": "y4"
        },
        {
         "alignmentgroup": "True",
         "bingroup": "x",
         "cliponaxis": false,
         "histfunc": "sum",
         "hovertemplate": "method=cg<br>sketch_fn=%{x}<br>n=4096<br>deff=512<br>sum of time=%{y}<extra></extra>",
         "legendgroup": "cg, none",
         "marker": {
          "color": "#EF553B",
          "pattern": {
           "shape": "x"
          }
         },
         "name": "cg, none",
         "offsetgroup": "cg, none",
         "orientation": "v",
         "showlegend": false,
         "textangle": 0,
         "textposition": "outside",
         "texttemplate": "%{value:.2s}",
         "type": "histogram",
         "x": [
          "none"
         ],
         "xaxis": "x5",
         "y": [
          1.2558889043333086
         ],
         "yaxis": "y5"
        },
        {
         "alignmentgroup": "True",
         "bingroup": "x",
         "cliponaxis": false,
         "histfunc": "sum",
         "hovertemplate": "method=dm<br>sketch_fn=%{x}<br>n=2048<br>deff=32<br>sum of time=%{y}<extra></extra>",
         "legendgroup": "dm, none",
         "marker": {
          "color": "#00cc96",
          "pattern": {
           "shape": "x"
          }
         },
         "name": "dm, none",
         "offsetgroup": "dm, none",
         "orientation": "v",
         "showlegend": true,
         "textangle": 0,
         "textposition": "outside",
         "texttemplate": "%{value:.2s}",
         "type": "histogram",
         "x": [
          "none"
         ],
         "xaxis": "x6",
         "y": [
          0.028859621000037805
         ],
         "yaxis": "y6"
        },
        {
         "alignmentgroup": "True",
         "bingroup": "x",
         "cliponaxis": false,
         "histfunc": "sum",
         "hovertemplate": "method=dm<br>sketch_fn=%{x}<br>n=2048<br>deff=64<br>sum of time=%{y}<extra></extra>",
         "legendgroup": "dm, none",
         "marker": {
          "color": "#00cc96",
          "pattern": {
           "shape": "x"
          }
         },
         "name": "dm, none",
         "offsetgroup": "dm, none",
         "orientation": "v",
         "showlegend": false,
         "textangle": 0,
         "textposition": "outside",
         "texttemplate": "%{value:.2s}",
         "type": "histogram",
         "x": [
          "none"
         ],
         "xaxis": "x7",
         "y": [
          0.021544292000044152
         ],
         "yaxis": "y7"
        },
        {
         "alignmentgroup": "True",
         "bingroup": "x",
         "cliponaxis": false,
         "histfunc": "sum",
         "hovertemplate": "method=dm<br>sketch_fn=%{x}<br>n=2048<br>deff=128<br>sum of time=%{y}<extra></extra>",
         "legendgroup": "dm, none",
         "marker": {
          "color": "#00cc96",
          "pattern": {
           "shape": "x"
          }
         },
         "name": "dm, none",
         "offsetgroup": "dm, none",
         "orientation": "v",
         "showlegend": false,
         "textangle": 0,
         "textposition": "outside",
         "texttemplate": "%{value:.2s}",
         "type": "histogram",
         "x": [
          "none"
         ],
         "xaxis": "x8",
         "y": [
          0.02342935599995144
         ],
         "yaxis": "y8"
        },
        {
         "alignmentgroup": "True",
         "bingroup": "x",
         "cliponaxis": false,
         "histfunc": "sum",
         "hovertemplate": "method=dm<br>sketch_fn=%{x}<br>n=2048<br>deff=256<br>sum of time=%{y}<extra></extra>",
         "legendgroup": "dm, none",
         "marker": {
          "color": "#00cc96",
          "pattern": {
           "shape": "x"
          }
         },
         "name": "dm, none",
         "offsetgroup": "dm, none",
         "orientation": "v",
         "showlegend": false,
         "textangle": 0,
         "textposition": "outside",
         "texttemplate": "%{value:.2s}",
         "type": "histogram",
         "x": [
          "none"
         ],
         "xaxis": "x9",
         "y": [
          0.020570642999928168
         ],
         "yaxis": "y9"
        },
        {
         "alignmentgroup": "True",
         "bingroup": "x",
         "cliponaxis": false,
         "histfunc": "sum",
         "hovertemplate": "method=dm<br>sketch_fn=%{x}<br>n=2048<br>deff=512<br>sum of time=%{y}<extra></extra>",
         "legendgroup": "dm, none",
         "marker": {
          "color": "#00cc96",
          "pattern": {
           "shape": "x"
          }
         },
         "name": "dm, none",
         "offsetgroup": "dm, none",
         "orientation": "v",
         "showlegend": false,
         "textangle": 0,
         "textposition": "outside",
         "texttemplate": "%{value:.2s}",
         "type": "histogram",
         "x": [
          "none"
         ],
         "xaxis": "x10",
         "y": [
          0.021790248999877804
         ],
         "yaxis": "y10"
        },
        {
         "alignmentgroup": "True",
         "bingroup": "x",
         "cliponaxis": false,
         "histfunc": "sum",
         "hovertemplate": "method=dm<br>sketch_fn=%{x}<br>n=4096<br>deff=32<br>sum of time=%{y}<extra></extra>",
         "legendgroup": "dm, none",
         "marker": {
          "color": "#00cc96",
          "pattern": {
           "shape": "x"
          }
         },
         "name": "dm, none",
         "offsetgroup": "dm, none",
         "orientation": "v",
         "showlegend": false,
         "textangle": 0,
         "textposition": "outside",
         "texttemplate": "%{value:.2s}",
         "type": "histogram",
         "x": [
          "none"
         ],
         "xaxis": "x",
         "y": [
          0.03979520099983347
         ],
         "yaxis": "y"
        },
        {
         "alignmentgroup": "True",
         "bingroup": "x",
         "cliponaxis": false,
         "histfunc": "sum",
         "hovertemplate": "method=dm<br>sketch_fn=%{x}<br>n=4096<br>deff=64<br>sum of time=%{y}<extra></extra>",
         "legendgroup": "dm, none",
         "marker": {
          "color": "#00cc96",
          "pattern": {
           "shape": "x"
          }
         },
         "name": "dm, none",
         "offsetgroup": "dm, none",
         "orientation": "v",
         "showlegend": false,
         "textangle": 0,
         "textposition": "outside",
         "texttemplate": "%{value:.2s}",
         "type": "histogram",
         "x": [
          "none"
         ],
         "xaxis": "x2",
         "y": [
          0.041292412000075274
         ],
         "yaxis": "y2"
        },
        {
         "alignmentgroup": "True",
         "bingroup": "x",
         "cliponaxis": false,
         "histfunc": "sum",
         "hovertemplate": "method=dm<br>sketch_fn=%{x}<br>n=4096<br>deff=128<br>sum of time=%{y}<extra></extra>",
         "legendgroup": "dm, none",
         "marker": {
          "color": "#00cc96",
          "pattern": {
           "shape": "x"
          }
         },
         "name": "dm, none",
         "offsetgroup": "dm, none",
         "orientation": "v",
         "showlegend": false,
         "textangle": 0,
         "textposition": "outside",
         "texttemplate": "%{value:.2s}",
         "type": "histogram",
         "x": [
          "none"
         ],
         "xaxis": "x3",
         "y": [
          0.039961002000381995
         ],
         "yaxis": "y3"
        },
        {
         "alignmentgroup": "True",
         "bingroup": "x",
         "cliponaxis": false,
         "histfunc": "sum",
         "hovertemplate": "method=dm<br>sketch_fn=%{x}<br>n=4096<br>deff=256<br>sum of time=%{y}<extra></extra>",
         "legendgroup": "dm, none",
         "marker": {
          "color": "#00cc96",
          "pattern": {
           "shape": "x"
          }
         },
         "name": "dm, none",
         "offsetgroup": "dm, none",
         "orientation": "v",
         "showlegend": false,
         "textangle": 0,
         "textposition": "outside",
         "texttemplate": "%{value:.2s}",
         "type": "histogram",
         "x": [
          "none"
         ],
         "xaxis": "x4",
         "y": [
          0.04234197200003109
         ],
         "yaxis": "y4"
        },
        {
         "alignmentgroup": "True",
         "bingroup": "x",
         "cliponaxis": false,
         "histfunc": "sum",
         "hovertemplate": "method=dm<br>sketch_fn=%{x}<br>n=4096<br>deff=512<br>sum of time=%{y}<extra></extra>",
         "legendgroup": "dm, none",
         "marker": {
          "color": "#00cc96",
          "pattern": {
           "shape": "x"
          }
         },
         "name": "dm, none",
         "offsetgroup": "dm, none",
         "orientation": "v",
         "showlegend": false,
         "textangle": 0,
         "textposition": "outside",
         "texttemplate": "%{value:.2s}",
         "type": "histogram",
         "x": [
          "none"
         ],
         "xaxis": "x5",
         "y": [
          0.039564810000229045
         ],
         "yaxis": "y5"
        },
        {
         "alignmentgroup": "True",
         "bingroup": "x",
         "cliponaxis": false,
         "histfunc": "sum",
         "hovertemplate": "method=pcg<br>sketch_fn=%{x}<br>n=2048<br>deff=32<br>sum of time=%{y}<extra></extra>",
         "legendgroup": "pcg, gaussian",
         "marker": {
          "color": "#ab63fa",
          "pattern": {
           "shape": ""
          }
         },
         "name": "pcg, gaussian",
         "offsetgroup": "pcg, gaussian",
         "orientation": "v",
         "showlegend": true,
         "textangle": 0,
         "textposition": "outside",
         "texttemplate": "%{value:.2s}",
         "type": "histogram",
         "x": [
          "gaussian"
         ],
         "xaxis": "x6",
         "y": [
          0.11101948166674447
         ],
         "yaxis": "y6"
        },
        {
         "alignmentgroup": "True",
         "bingroup": "x",
         "cliponaxis": false,
         "histfunc": "sum",
         "hovertemplate": "method=pcg<br>sketch_fn=%{x}<br>n=2048<br>deff=64<br>sum of time=%{y}<extra></extra>",
         "legendgroup": "pcg, gaussian",
         "marker": {
          "color": "#ab63fa",
          "pattern": {
           "shape": ""
          }
         },
         "name": "pcg, gaussian",
         "offsetgroup": "pcg, gaussian",
         "orientation": "v",
         "showlegend": false,
         "textangle": 0,
         "textposition": "outside",
         "texttemplate": "%{value:.2s}",
         "type": "histogram",
         "x": [
          "gaussian"
         ],
         "xaxis": "x7",
         "y": [
          0.08785114433332333
         ],
         "yaxis": "y7"
        },
        {
         "alignmentgroup": "True",
         "bingroup": "x",
         "cliponaxis": false,
         "histfunc": "sum",
         "hovertemplate": "method=pcg<br>sketch_fn=%{x}<br>n=2048<br>deff=128<br>sum of time=%{y}<extra></extra>",
         "legendgroup": "pcg, gaussian",
         "marker": {
          "color": "#ab63fa",
          "pattern": {
           "shape": ""
          }
         },
         "name": "pcg, gaussian",
         "offsetgroup": "pcg, gaussian",
         "orientation": "v",
         "showlegend": false,
         "textangle": 0,
         "textposition": "outside",
         "texttemplate": "%{value:.2s}",
         "type": "histogram",
         "x": [
          "gaussian"
         ],
         "xaxis": "x8",
         "y": [
          0.09219545900001927
         ],
         "yaxis": "y8"
        },
        {
         "alignmentgroup": "True",
         "bingroup": "x",
         "cliponaxis": false,
         "histfunc": "sum",
         "hovertemplate": "method=pcg<br>sketch_fn=%{x}<br>n=2048<br>deff=256<br>sum of time=%{y}<extra></extra>",
         "legendgroup": "pcg, gaussian",
         "marker": {
          "color": "#ab63fa",
          "pattern": {
           "shape": ""
          }
         },
         "name": "pcg, gaussian",
         "offsetgroup": "pcg, gaussian",
         "orientation": "v",
         "showlegend": false,
         "textangle": 0,
         "textposition": "outside",
         "texttemplate": "%{value:.2s}",
         "type": "histogram",
         "x": [
          "gaussian"
         ],
         "xaxis": "x9",
         "y": [
          0.09080098566664672
         ],
         "yaxis": "y9"
        },
        {
         "alignmentgroup": "True",
         "bingroup": "x",
         "cliponaxis": false,
         "histfunc": "sum",
         "hovertemplate": "method=pcg<br>sketch_fn=%{x}<br>n=2048<br>deff=512<br>sum of time=%{y}<extra></extra>",
         "legendgroup": "pcg, gaussian",
         "marker": {
          "color": "#ab63fa",
          "pattern": {
           "shape": ""
          }
         },
         "name": "pcg, gaussian",
         "offsetgroup": "pcg, gaussian",
         "orientation": "v",
         "showlegend": false,
         "textangle": 0,
         "textposition": "outside",
         "texttemplate": "%{value:.2s}",
         "type": "histogram",
         "x": [
          "gaussian"
         ],
         "xaxis": "x10",
         "y": [
          0.10045015900004728
         ],
         "yaxis": "y10"
        },
        {
         "alignmentgroup": "True",
         "bingroup": "x",
         "cliponaxis": false,
         "histfunc": "sum",
         "hovertemplate": "method=pcg<br>sketch_fn=%{x}<br>n=4096<br>deff=32<br>sum of time=%{y}<extra></extra>",
         "legendgroup": "pcg, gaussian",
         "marker": {
          "color": "#ab63fa",
          "pattern": {
           "shape": ""
          }
         },
         "name": "pcg, gaussian",
         "offsetgroup": "pcg, gaussian",
         "orientation": "v",
         "showlegend": false,
         "textangle": 0,
         "textposition": "outside",
         "texttemplate": "%{value:.2s}",
         "type": "histogram",
         "x": [
          "gaussian"
         ],
         "xaxis": "x",
         "y": [
          0.3134832603333658
         ],
         "yaxis": "y"
        },
        {
         "alignmentgroup": "True",
         "bingroup": "x",
         "cliponaxis": false,
         "histfunc": "sum",
         "hovertemplate": "method=pcg<br>sketch_fn=%{x}<br>n=4096<br>deff=64<br>sum of time=%{y}<extra></extra>",
         "legendgroup": "pcg, gaussian",
         "marker": {
          "color": "#ab63fa",
          "pattern": {
           "shape": ""
          }
         },
         "name": "pcg, gaussian",
         "offsetgroup": "pcg, gaussian",
         "orientation": "v",
         "showlegend": false,
         "textangle": 0,
         "textposition": "outside",
         "texttemplate": "%{value:.2s}",
         "type": "histogram",
         "x": [
          "gaussian"
         ],
         "xaxis": "x2",
         "y": [
          0.3149589246665224
         ],
         "yaxis": "y2"
        },
        {
         "alignmentgroup": "True",
         "bingroup": "x",
         "cliponaxis": false,
         "histfunc": "sum",
         "hovertemplate": "method=pcg<br>sketch_fn=%{x}<br>n=4096<br>deff=128<br>sum of time=%{y}<extra></extra>",
         "legendgroup": "pcg, gaussian",
         "marker": {
          "color": "#ab63fa",
          "pattern": {
           "shape": ""
          }
         },
         "name": "pcg, gaussian",
         "offsetgroup": "pcg, gaussian",
         "orientation": "v",
         "showlegend": false,
         "textangle": 0,
         "textposition": "outside",
         "texttemplate": "%{value:.2s}",
         "type": "histogram",
         "x": [
          "gaussian"
         ],
         "xaxis": "x3",
         "y": [
          0.3183921943333795
         ],
         "yaxis": "y3"
        },
        {
         "alignmentgroup": "True",
         "bingroup": "x",
         "cliponaxis": false,
         "histfunc": "sum",
         "hovertemplate": "method=pcg<br>sketch_fn=%{x}<br>n=4096<br>deff=256<br>sum of time=%{y}<extra></extra>",
         "legendgroup": "pcg, gaussian",
         "marker": {
          "color": "#ab63fa",
          "pattern": {
           "shape": ""
          }
         },
         "name": "pcg, gaussian",
         "offsetgroup": "pcg, gaussian",
         "orientation": "v",
         "showlegend": false,
         "textangle": 0,
         "textposition": "outside",
         "texttemplate": "%{value:.2s}",
         "type": "histogram",
         "x": [
          "gaussian"
         ],
         "xaxis": "x4",
         "y": [
          0.31854791700000834
         ],
         "yaxis": "y4"
        },
        {
         "alignmentgroup": "True",
         "bingroup": "x",
         "cliponaxis": false,
         "histfunc": "sum",
         "hovertemplate": "method=pcg<br>sketch_fn=%{x}<br>n=4096<br>deff=512<br>sum of time=%{y}<extra></extra>",
         "legendgroup": "pcg, gaussian",
         "marker": {
          "color": "#ab63fa",
          "pattern": {
           "shape": ""
          }
         },
         "name": "pcg, gaussian",
         "offsetgroup": "pcg, gaussian",
         "orientation": "v",
         "showlegend": false,
         "textangle": 0,
         "textposition": "outside",
         "texttemplate": "%{value:.2s}",
         "type": "histogram",
         "x": [
          "gaussian"
         ],
         "xaxis": "x5",
         "y": [
          0.3267514283334094
         ],
         "yaxis": "y5"
        },
        {
         "alignmentgroup": "True",
         "bingroup": "x",
         "cliponaxis": false,
         "histfunc": "sum",
         "hovertemplate": "method=pcg<br>sketch_fn=%{x}<br>n=2048<br>deff=32<br>sum of time=%{y}<extra></extra>",
         "legendgroup": "pcg, sjlt",
         "marker": {
          "color": "#ab63fa",
          "pattern": {
           "shape": "/"
          }
         },
         "name": "pcg, sjlt",
         "offsetgroup": "pcg, sjlt",
         "orientation": "v",
         "showlegend": true,
         "textangle": 0,
         "textposition": "outside",
         "texttemplate": "%{value:.2s}",
         "type": "histogram",
         "x": [
          "sjlt"
         ],
         "xaxis": "x6",
         "y": [
          0.05499013966671858
         ],
         "yaxis": "y6"
        },
        {
         "alignmentgroup": "True",
         "bingroup": "x",
         "cliponaxis": false,
         "histfunc": "sum",
         "hovertemplate": "method=pcg<br>sketch_fn=%{x}<br>n=2048<br>deff=64<br>sum of time=%{y}<extra></extra>",
         "legendgroup": "pcg, sjlt",
         "marker": {
          "color": "#ab63fa",
          "pattern": {
           "shape": "/"
          }
         },
         "name": "pcg, sjlt",
         "offsetgroup": "pcg, sjlt",
         "orientation": "v",
         "showlegend": false,
         "textangle": 0,
         "textposition": "outside",
         "texttemplate": "%{value:.2s}",
         "type": "histogram",
         "x": [
          "sjlt"
         ],
         "xaxis": "x7",
         "y": [
          0.03861654000009669
         ],
         "yaxis": "y7"
        },
        {
         "alignmentgroup": "True",
         "bingroup": "x",
         "cliponaxis": false,
         "histfunc": "sum",
         "hovertemplate": "method=pcg<br>sketch_fn=%{x}<br>n=2048<br>deff=128<br>sum of time=%{y}<extra></extra>",
         "legendgroup": "pcg, sjlt",
         "marker": {
          "color": "#ab63fa",
          "pattern": {
           "shape": "/"
          }
         },
         "name": "pcg, sjlt",
         "offsetgroup": "pcg, sjlt",
         "orientation": "v",
         "showlegend": false,
         "textangle": 0,
         "textposition": "outside",
         "texttemplate": "%{value:.2s}",
         "type": "histogram",
         "x": [
          "sjlt"
         ],
         "xaxis": "x8",
         "y": [
          0.047439388333335344
         ],
         "yaxis": "y8"
        },
        {
         "alignmentgroup": "True",
         "bingroup": "x",
         "cliponaxis": false,
         "histfunc": "sum",
         "hovertemplate": "method=pcg<br>sketch_fn=%{x}<br>n=2048<br>deff=256<br>sum of time=%{y}<extra></extra>",
         "legendgroup": "pcg, sjlt",
         "marker": {
          "color": "#ab63fa",
          "pattern": {
           "shape": "/"
          }
         },
         "name": "pcg, sjlt",
         "offsetgroup": "pcg, sjlt",
         "orientation": "v",
         "showlegend": false,
         "textangle": 0,
         "textposition": "outside",
         "texttemplate": "%{value:.2s}",
         "type": "histogram",
         "x": [
          "sjlt"
         ],
         "xaxis": "x9",
         "y": [
          0.04254936700006813
         ],
         "yaxis": "y9"
        },
        {
         "alignmentgroup": "True",
         "bingroup": "x",
         "cliponaxis": false,
         "histfunc": "sum",
         "hovertemplate": "method=pcg<br>sketch_fn=%{x}<br>n=2048<br>deff=512<br>sum of time=%{y}<extra></extra>",
         "legendgroup": "pcg, sjlt",
         "marker": {
          "color": "#ab63fa",
          "pattern": {
           "shape": "/"
          }
         },
         "name": "pcg, sjlt",
         "offsetgroup": "pcg, sjlt",
         "orientation": "v",
         "showlegend": false,
         "textangle": 0,
         "textposition": "outside",
         "texttemplate": "%{value:.2s}",
         "type": "histogram",
         "x": [
          "sjlt"
         ],
         "xaxis": "x10",
         "y": [
          0.061471247999937376
         ],
         "yaxis": "y10"
        },
        {
         "alignmentgroup": "True",
         "bingroup": "x",
         "cliponaxis": false,
         "histfunc": "sum",
         "hovertemplate": "method=pcg<br>sketch_fn=%{x}<br>n=4096<br>deff=32<br>sum of time=%{y}<extra></extra>",
         "legendgroup": "pcg, sjlt",
         "marker": {
          "color": "#ab63fa",
          "pattern": {
           "shape": "/"
          }
         },
         "name": "pcg, sjlt",
         "offsetgroup": "pcg, sjlt",
         "orientation": "v",
         "showlegend": false,
         "textangle": 0,
         "textposition": "outside",
         "texttemplate": "%{value:.2s}",
         "type": "histogram",
         "x": [
          "sjlt"
         ],
         "xaxis": "x",
         "y": [
          0.07372130033309077
         ],
         "yaxis": "y"
        },
        {
         "alignmentgroup": "True",
         "bingroup": "x",
         "cliponaxis": false,
         "histfunc": "sum",
         "hovertemplate": "method=pcg<br>sketch_fn=%{x}<br>n=4096<br>deff=64<br>sum of time=%{y}<extra></extra>",
         "legendgroup": "pcg, sjlt",
         "marker": {
          "color": "#ab63fa",
          "pattern": {
           "shape": "/"
          }
         },
         "name": "pcg, sjlt",
         "offsetgroup": "pcg, sjlt",
         "orientation": "v",
         "showlegend": false,
         "textangle": 0,
         "textposition": "outside",
         "texttemplate": "%{value:.2s}",
         "type": "histogram",
         "x": [
          "sjlt"
         ],
         "xaxis": "x2",
         "y": [
          0.07557207300002725
         ],
         "yaxis": "y2"
        },
        {
         "alignmentgroup": "True",
         "bingroup": "x",
         "cliponaxis": false,
         "histfunc": "sum",
         "hovertemplate": "method=pcg<br>sketch_fn=%{x}<br>n=4096<br>deff=128<br>sum of time=%{y}<extra></extra>",
         "legendgroup": "pcg, sjlt",
         "marker": {
          "color": "#ab63fa",
          "pattern": {
           "shape": "/"
          }
         },
         "name": "pcg, sjlt",
         "offsetgroup": "pcg, sjlt",
         "orientation": "v",
         "showlegend": false,
         "textangle": 0,
         "textposition": "outside",
         "texttemplate": "%{value:.2s}",
         "type": "histogram",
         "x": [
          "sjlt"
         ],
         "xaxis": "x3",
         "y": [
          0.07910036766649378
         ],
         "yaxis": "y3"
        },
        {
         "alignmentgroup": "True",
         "bingroup": "x",
         "cliponaxis": false,
         "histfunc": "sum",
         "hovertemplate": "method=pcg<br>sketch_fn=%{x}<br>n=4096<br>deff=256<br>sum of time=%{y}<extra></extra>",
         "legendgroup": "pcg, sjlt",
         "marker": {
          "color": "#ab63fa",
          "pattern": {
           "shape": "/"
          }
         },
         "name": "pcg, sjlt",
         "offsetgroup": "pcg, sjlt",
         "orientation": "v",
         "showlegend": false,
         "textangle": 0,
         "textposition": "outside",
         "texttemplate": "%{value:.2s}",
         "type": "histogram",
         "x": [
          "sjlt"
         ],
         "xaxis": "x4",
         "y": [
          0.08085998399989572
         ],
         "yaxis": "y4"
        },
        {
         "alignmentgroup": "True",
         "bingroup": "x",
         "cliponaxis": false,
         "histfunc": "sum",
         "hovertemplate": "method=pcg<br>sketch_fn=%{x}<br>n=4096<br>deff=512<br>sum of time=%{y}<extra></extra>",
         "legendgroup": "pcg, sjlt",
         "marker": {
          "color": "#ab63fa",
          "pattern": {
           "shape": "/"
          }
         },
         "name": "pcg, sjlt",
         "offsetgroup": "pcg, sjlt",
         "orientation": "v",
         "showlegend": false,
         "textangle": 0,
         "textposition": "outside",
         "texttemplate": "%{value:.2s}",
         "type": "histogram",
         "x": [
          "sjlt"
         ],
         "xaxis": "x5",
         "y": [
          0.09675769400018908
         ],
         "yaxis": "y5"
        },
        {
         "alignmentgroup": "True",
         "bingroup": "x",
         "cliponaxis": false,
         "histfunc": "sum",
         "hovertemplate": "method=pcg<br>sketch_fn=%{x}<br>n=2048<br>deff=32<br>sum of time=%{y}<extra></extra>",
         "legendgroup": "pcg, srht",
         "marker": {
          "color": "#ab63fa",
          "pattern": {
           "shape": "\\"
          }
         },
         "name": "pcg, srht",
         "offsetgroup": "pcg, srht",
         "orientation": "v",
         "showlegend": true,
         "textangle": 0,
         "textposition": "outside",
         "texttemplate": "%{value:.2s}",
         "type": "histogram",
         "x": [
          "srht"
         ],
         "xaxis": "x6",
         "y": [
          0.11679233666662488
         ],
         "yaxis": "y6"
        },
        {
         "alignmentgroup": "True",
         "bingroup": "x",
         "cliponaxis": false,
         "histfunc": "sum",
         "hovertemplate": "method=pcg<br>sketch_fn=%{x}<br>n=2048<br>deff=64<br>sum of time=%{y}<extra></extra>",
         "legendgroup": "pcg, srht",
         "marker": {
          "color": "#ab63fa",
          "pattern": {
           "shape": "\\"
          }
         },
         "name": "pcg, srht",
         "offsetgroup": "pcg, srht",
         "orientation": "v",
         "showlegend": false,
         "textangle": 0,
         "textposition": "outside",
         "texttemplate": "%{value:.2s}",
         "type": "histogram",
         "x": [
          "srht"
         ],
         "xaxis": "x7",
         "y": [
          0.0992177600000256
         ],
         "yaxis": "y7"
        },
        {
         "alignmentgroup": "True",
         "bingroup": "x",
         "cliponaxis": false,
         "histfunc": "sum",
         "hovertemplate": "method=pcg<br>sketch_fn=%{x}<br>n=2048<br>deff=128<br>sum of time=%{y}<extra></extra>",
         "legendgroup": "pcg, srht",
         "marker": {
          "color": "#ab63fa",
          "pattern": {
           "shape": "\\"
          }
         },
         "name": "pcg, srht",
         "offsetgroup": "pcg, srht",
         "orientation": "v",
         "showlegend": false,
         "textangle": 0,
         "textposition": "outside",
         "texttemplate": "%{value:.2s}",
         "type": "histogram",
         "x": [
          "srht"
         ],
         "xaxis": "x8",
         "y": [
          0.1079560063333247
         ],
         "yaxis": "y8"
        },
        {
         "alignmentgroup": "True",
         "bingroup": "x",
         "cliponaxis": false,
         "histfunc": "sum",
         "hovertemplate": "method=pcg<br>sketch_fn=%{x}<br>n=2048<br>deff=256<br>sum of time=%{y}<extra></extra>",
         "legendgroup": "pcg, srht",
         "marker": {
          "color": "#ab63fa",
          "pattern": {
           "shape": "\\"
          }
         },
         "name": "pcg, srht",
         "offsetgroup": "pcg, srht",
         "orientation": "v",
         "showlegend": false,
         "textangle": 0,
         "textposition": "outside",
         "texttemplate": "%{value:.2s}",
         "type": "histogram",
         "x": [
          "srht"
         ],
         "xaxis": "x9",
         "y": [
          0.09959567199992608
         ],
         "yaxis": "y9"
        },
        {
         "alignmentgroup": "True",
         "bingroup": "x",
         "cliponaxis": false,
         "histfunc": "sum",
         "hovertemplate": "method=pcg<br>sketch_fn=%{x}<br>n=2048<br>deff=512<br>sum of time=%{y}<extra></extra>",
         "legendgroup": "pcg, srht",
         "marker": {
          "color": "#ab63fa",
          "pattern": {
           "shape": "\\"
          }
         },
         "name": "pcg, srht",
         "offsetgroup": "pcg, srht",
         "orientation": "v",
         "showlegend": false,
         "textangle": 0,
         "textposition": "outside",
         "texttemplate": "%{value:.2s}",
         "type": "histogram",
         "x": [
          "srht"
         ],
         "xaxis": "x10",
         "y": [
          0.12835498799987968
         ],
         "yaxis": "y10"
        },
        {
         "alignmentgroup": "True",
         "bingroup": "x",
         "cliponaxis": false,
         "histfunc": "sum",
         "hovertemplate": "method=pcg<br>sketch_fn=%{x}<br>n=4096<br>deff=32<br>sum of time=%{y}<extra></extra>",
         "legendgroup": "pcg, srht",
         "marker": {
          "color": "#ab63fa",
          "pattern": {
           "shape": "\\"
          }
         },
         "name": "pcg, srht",
         "offsetgroup": "pcg, srht",
         "orientation": "v",
         "showlegend": false,
         "textangle": 0,
         "textposition": "outside",
         "texttemplate": "%{value:.2s}",
         "type": "histogram",
         "x": [
          "srht"
         ],
         "xaxis": "x",
         "y": [
          0.20987522500005676
         ],
         "yaxis": "y"
        },
        {
         "alignmentgroup": "True",
         "bingroup": "x",
         "cliponaxis": false,
         "histfunc": "sum",
         "hovertemplate": "method=pcg<br>sketch_fn=%{x}<br>n=4096<br>deff=64<br>sum of time=%{y}<extra></extra>",
         "legendgroup": "pcg, srht",
         "marker": {
          "color": "#ab63fa",
          "pattern": {
           "shape": "\\"
          }
         },
         "name": "pcg, srht",
         "offsetgroup": "pcg, srht",
         "orientation": "v",
         "showlegend": false,
         "textangle": 0,
         "textposition": "outside",
         "texttemplate": "%{value:.2s}",
         "type": "histogram",
         "x": [
          "srht"
         ],
         "xaxis": "x2",
         "y": [
          0.21157050966667154
         ],
         "yaxis": "y2"
        },
        {
         "alignmentgroup": "True",
         "bingroup": "x",
         "cliponaxis": false,
         "histfunc": "sum",
         "hovertemplate": "method=pcg<br>sketch_fn=%{x}<br>n=4096<br>deff=128<br>sum of time=%{y}<extra></extra>",
         "legendgroup": "pcg, srht",
         "marker": {
          "color": "#ab63fa",
          "pattern": {
           "shape": "\\"
          }
         },
         "name": "pcg, srht",
         "offsetgroup": "pcg, srht",
         "orientation": "v",
         "showlegend": false,
         "textangle": 0,
         "textposition": "outside",
         "texttemplate": "%{value:.2s}",
         "type": "histogram",
         "x": [
          "srht"
         ],
         "xaxis": "x3",
         "y": [
          0.21103746133364135
         ],
         "yaxis": "y3"
        },
        {
         "alignmentgroup": "True",
         "bingroup": "x",
         "cliponaxis": false,
         "histfunc": "sum",
         "hovertemplate": "method=pcg<br>sketch_fn=%{x}<br>n=4096<br>deff=256<br>sum of time=%{y}<extra></extra>",
         "legendgroup": "pcg, srht",
         "marker": {
          "color": "#ab63fa",
          "pattern": {
           "shape": "\\"
          }
         },
         "name": "pcg, srht",
         "offsetgroup": "pcg, srht",
         "orientation": "v",
         "showlegend": false,
         "textangle": 0,
         "textposition": "outside",
         "texttemplate": "%{value:.2s}",
         "type": "histogram",
         "x": [
          "srht"
         ],
         "xaxis": "x4",
         "y": [
          0.21375004733363312
         ],
         "yaxis": "y4"
        },
        {
         "alignmentgroup": "True",
         "bingroup": "x",
         "cliponaxis": false,
         "histfunc": "sum",
         "hovertemplate": "method=pcg<br>sketch_fn=%{x}<br>n=4096<br>deff=512<br>sum of time=%{y}<extra></extra>",
         "legendgroup": "pcg, srht",
         "marker": {
          "color": "#ab63fa",
          "pattern": {
           "shape": "\\"
          }
         },
         "name": "pcg, srht",
         "offsetgroup": "pcg, srht",
         "orientation": "v",
         "showlegend": false,
         "textangle": 0,
         "textposition": "outside",
         "texttemplate": "%{value:.2s}",
         "type": "histogram",
         "x": [
          "srht"
         ],
         "xaxis": "x5",
         "y": [
          0.2234262766666385
         ],
         "yaxis": "y5"
        }
       ],
       "layout": {
        "annotations": [
         {
          "font": {},
          "showarrow": false,
          "text": "deff=32",
          "x": 0.09000000000000001,
          "xanchor": "center",
          "xref": "paper",
          "y": 1,
          "yanchor": "bottom",
          "yref": "paper"
         },
         {
          "font": {},
          "showarrow": false,
          "text": "deff=64",
          "x": 0.29000000000000004,
          "xanchor": "center",
          "xref": "paper",
          "y": 1,
          "yanchor": "bottom",
          "yref": "paper"
         },
         {
          "font": {},
          "showarrow": false,
          "text": "deff=128",
          "x": 0.49000000000000005,
          "xanchor": "center",
          "xref": "paper",
          "y": 1,
          "yanchor": "bottom",
          "yref": "paper"
         },
         {
          "font": {},
          "showarrow": false,
          "text": "deff=256",
          "x": 0.6900000000000002,
          "xanchor": "center",
          "xref": "paper",
          "y": 1,
          "yanchor": "bottom",
          "yref": "paper"
         },
         {
          "font": {},
          "showarrow": false,
          "text": "deff=512",
          "x": 0.8900000000000001,
          "xanchor": "center",
          "xref": "paper",
          "y": 1,
          "yanchor": "bottom",
          "yref": "paper"
         },
         {
          "font": {},
          "showarrow": false,
          "text": "n=4096",
          "textangle": 90,
          "x": 0.9800000000000001,
          "xanchor": "left",
          "xref": "paper",
          "y": 0.2425,
          "yanchor": "middle",
          "yref": "paper"
         },
         {
          "font": {},
          "showarrow": false,
          "text": "n=2048",
          "textangle": 90,
          "x": 0.9800000000000001,
          "xanchor": "left",
          "xref": "paper",
          "y": 0.7575000000000001,
          "yanchor": "middle",
          "yref": "paper"
         }
        ],
        "barmode": "group",
        "height": 700,
        "legend": {
         "title": {
          "text": "method, sketch_fn"
         },
         "tracegroupgap": 0
        },
        "margin": {
         "t": 60
        },
        "template": {
         "data": {
          "bar": [
           {
            "error_x": {
             "color": "#2a3f5f"
            },
            "error_y": {
             "color": "#2a3f5f"
            },
            "marker": {
             "line": {
              "color": "#E5ECF6",
              "width": 0.5
             },
             "pattern": {
              "fillmode": "overlay",
              "size": 10,
              "solidity": 0.2
             }
            },
            "type": "bar"
           }
          ],
          "barpolar": [
           {
            "marker": {
             "line": {
              "color": "#E5ECF6",
              "width": 0.5
             },
             "pattern": {
              "fillmode": "overlay",
              "size": 10,
              "solidity": 0.2
             }
            },
            "type": "barpolar"
           }
          ],
          "carpet": [
           {
            "aaxis": {
             "endlinecolor": "#2a3f5f",
             "gridcolor": "white",
             "linecolor": "white",
             "minorgridcolor": "white",
             "startlinecolor": "#2a3f5f"
            },
            "baxis": {
             "endlinecolor": "#2a3f5f",
             "gridcolor": "white",
             "linecolor": "white",
             "minorgridcolor": "white",
             "startlinecolor": "#2a3f5f"
            },
            "type": "carpet"
           }
          ],
          "choropleth": [
           {
            "colorbar": {
             "outlinewidth": 0,
             "ticks": ""
            },
            "type": "choropleth"
           }
          ],
          "contour": [
           {
            "colorbar": {
             "outlinewidth": 0,
             "ticks": ""
            },
            "colorscale": [
             [
              0,
              "#0d0887"
             ],
             [
              0.1111111111111111,
              "#46039f"
             ],
             [
              0.2222222222222222,
              "#7201a8"
             ],
             [
              0.3333333333333333,
              "#9c179e"
             ],
             [
              0.4444444444444444,
              "#bd3786"
             ],
             [
              0.5555555555555556,
              "#d8576b"
             ],
             [
              0.6666666666666666,
              "#ed7953"
             ],
             [
              0.7777777777777778,
              "#fb9f3a"
             ],
             [
              0.8888888888888888,
              "#fdca26"
             ],
             [
              1,
              "#f0f921"
             ]
            ],
            "type": "contour"
           }
          ],
          "contourcarpet": [
           {
            "colorbar": {
             "outlinewidth": 0,
             "ticks": ""
            },
            "type": "contourcarpet"
           }
          ],
          "heatmap": [
           {
            "colorbar": {
             "outlinewidth": 0,
             "ticks": ""
            },
            "colorscale": [
             [
              0,
              "#0d0887"
             ],
             [
              0.1111111111111111,
              "#46039f"
             ],
             [
              0.2222222222222222,
              "#7201a8"
             ],
             [
              0.3333333333333333,
              "#9c179e"
             ],
             [
              0.4444444444444444,
              "#bd3786"
             ],
             [
              0.5555555555555556,
              "#d8576b"
             ],
             [
              0.6666666666666666,
              "#ed7953"
             ],
             [
              0.7777777777777778,
              "#fb9f3a"
             ],
             [
              0.8888888888888888,
              "#fdca26"
             ],
             [
              1,
              "#f0f921"
             ]
            ],
            "type": "heatmap"
           }
          ],
          "heatmapgl": [
           {
            "colorbar": {
             "outlinewidth": 0,
             "ticks": ""
            },
            "colorscale": [
             [
              0,
              "#0d0887"
             ],
             [
              0.1111111111111111,
              "#46039f"
             ],
             [
              0.2222222222222222,
              "#7201a8"
             ],
             [
              0.3333333333333333,
              "#9c179e"
             ],
             [
              0.4444444444444444,
              "#bd3786"
             ],
             [
              0.5555555555555556,
              "#d8576b"
             ],
             [
              0.6666666666666666,
              "#ed7953"
             ],
             [
              0.7777777777777778,
              "#fb9f3a"
             ],
             [
              0.8888888888888888,
              "#fdca26"
             ],
             [
              1,
              "#f0f921"
             ]
            ],
            "type": "heatmapgl"
           }
          ],
          "histogram": [
           {
            "marker": {
             "pattern": {
              "fillmode": "overlay",
              "size": 10,
              "solidity": 0.2
             }
            },
            "type": "histogram"
           }
          ],
          "histogram2d": [
           {
            "colorbar": {
             "outlinewidth": 0,
             "ticks": ""
            },
            "colorscale": [
             [
              0,
              "#0d0887"
             ],
             [
              0.1111111111111111,
              "#46039f"
             ],
             [
              0.2222222222222222,
              "#7201a8"
             ],
             [
              0.3333333333333333,
              "#9c179e"
             ],
             [
              0.4444444444444444,
              "#bd3786"
             ],
             [
              0.5555555555555556,
              "#d8576b"
             ],
             [
              0.6666666666666666,
              "#ed7953"
             ],
             [
              0.7777777777777778,
              "#fb9f3a"
             ],
             [
              0.8888888888888888,
              "#fdca26"
             ],
             [
              1,
              "#f0f921"
             ]
            ],
            "type": "histogram2d"
           }
          ],
          "histogram2dcontour": [
           {
            "colorbar": {
             "outlinewidth": 0,
             "ticks": ""
            },
            "colorscale": [
             [
              0,
              "#0d0887"
             ],
             [
              0.1111111111111111,
              "#46039f"
             ],
             [
              0.2222222222222222,
              "#7201a8"
             ],
             [
              0.3333333333333333,
              "#9c179e"
             ],
             [
              0.4444444444444444,
              "#bd3786"
             ],
             [
              0.5555555555555556,
              "#d8576b"
             ],
             [
              0.6666666666666666,
              "#ed7953"
             ],
             [
              0.7777777777777778,
              "#fb9f3a"
             ],
             [
              0.8888888888888888,
              "#fdca26"
             ],
             [
              1,
              "#f0f921"
             ]
            ],
            "type": "histogram2dcontour"
           }
          ],
          "mesh3d": [
           {
            "colorbar": {
             "outlinewidth": 0,
             "ticks": ""
            },
            "type": "mesh3d"
           }
          ],
          "parcoords": [
           {
            "line": {
             "colorbar": {
              "outlinewidth": 0,
              "ticks": ""
             }
            },
            "type": "parcoords"
           }
          ],
          "pie": [
           {
            "automargin": true,
            "type": "pie"
           }
          ],
          "scatter": [
           {
            "fillpattern": {
             "fillmode": "overlay",
             "size": 10,
             "solidity": 0.2
            },
            "type": "scatter"
           }
          ],
          "scatter3d": [
           {
            "line": {
             "colorbar": {
              "outlinewidth": 0,
              "ticks": ""
             }
            },
            "marker": {
             "colorbar": {
              "outlinewidth": 0,
              "ticks": ""
             }
            },
            "type": "scatter3d"
           }
          ],
          "scattercarpet": [
           {
            "marker": {
             "colorbar": {
              "outlinewidth": 0,
              "ticks": ""
             }
            },
            "type": "scattercarpet"
           }
          ],
          "scattergeo": [
           {
            "marker": {
             "colorbar": {
              "outlinewidth": 0,
              "ticks": ""
             }
            },
            "type": "scattergeo"
           }
          ],
          "scattergl": [
           {
            "marker": {
             "colorbar": {
              "outlinewidth": 0,
              "ticks": ""
             }
            },
            "type": "scattergl"
           }
          ],
          "scattermapbox": [
           {
            "marker": {
             "colorbar": {
              "outlinewidth": 0,
              "ticks": ""
             }
            },
            "type": "scattermapbox"
           }
          ],
          "scatterpolar": [
           {
            "marker": {
             "colorbar": {
              "outlinewidth": 0,
              "ticks": ""
             }
            },
            "type": "scatterpolar"
           }
          ],
          "scatterpolargl": [
           {
            "marker": {
             "colorbar": {
              "outlinewidth": 0,
              "ticks": ""
             }
            },
            "type": "scatterpolargl"
           }
          ],
          "scatterternary": [
           {
            "marker": {
             "colorbar": {
              "outlinewidth": 0,
              "ticks": ""
             }
            },
            "type": "scatterternary"
           }
          ],
          "surface": [
           {
            "colorbar": {
             "outlinewidth": 0,
             "ticks": ""
            },
            "colorscale": [
             [
              0,
              "#0d0887"
             ],
             [
              0.1111111111111111,
              "#46039f"
             ],
             [
              0.2222222222222222,
              "#7201a8"
             ],
             [
              0.3333333333333333,
              "#9c179e"
             ],
             [
              0.4444444444444444,
              "#bd3786"
             ],
             [
              0.5555555555555556,
              "#d8576b"
             ],
             [
              0.6666666666666666,
              "#ed7953"
             ],
             [
              0.7777777777777778,
              "#fb9f3a"
             ],
             [
              0.8888888888888888,
              "#fdca26"
             ],
             [
              1,
              "#f0f921"
             ]
            ],
            "type": "surface"
           }
          ],
          "table": [
           {
            "cells": {
             "fill": {
              "color": "#EBF0F8"
             },
             "line": {
              "color": "white"
             }
            },
            "header": {
             "fill": {
              "color": "#C8D4E3"
             },
             "line": {
              "color": "white"
             }
            },
            "type": "table"
           }
          ]
         },
         "layout": {
          "annotationdefaults": {
           "arrowcolor": "#2a3f5f",
           "arrowhead": 0,
           "arrowwidth": 1
          },
          "autotypenumbers": "strict",
          "coloraxis": {
           "colorbar": {
            "outlinewidth": 0,
            "ticks": ""
           }
          },
          "colorscale": {
           "diverging": [
            [
             0,
             "#8e0152"
            ],
            [
             0.1,
             "#c51b7d"
            ],
            [
             0.2,
             "#de77ae"
            ],
            [
             0.3,
             "#f1b6da"
            ],
            [
             0.4,
             "#fde0ef"
            ],
            [
             0.5,
             "#f7f7f7"
            ],
            [
             0.6,
             "#e6f5d0"
            ],
            [
             0.7,
             "#b8e186"
            ],
            [
             0.8,
             "#7fbc41"
            ],
            [
             0.9,
             "#4d9221"
            ],
            [
             1,
             "#276419"
            ]
           ],
           "sequential": [
            [
             0,
             "#0d0887"
            ],
            [
             0.1111111111111111,
             "#46039f"
            ],
            [
             0.2222222222222222,
             "#7201a8"
            ],
            [
             0.3333333333333333,
             "#9c179e"
            ],
            [
             0.4444444444444444,
             "#bd3786"
            ],
            [
             0.5555555555555556,
             "#d8576b"
            ],
            [
             0.6666666666666666,
             "#ed7953"
            ],
            [
             0.7777777777777778,
             "#fb9f3a"
            ],
            [
             0.8888888888888888,
             "#fdca26"
            ],
            [
             1,
             "#f0f921"
            ]
           ],
           "sequentialminus": [
            [
             0,
             "#0d0887"
            ],
            [
             0.1111111111111111,
             "#46039f"
            ],
            [
             0.2222222222222222,
             "#7201a8"
            ],
            [
             0.3333333333333333,
             "#9c179e"
            ],
            [
             0.4444444444444444,
             "#bd3786"
            ],
            [
             0.5555555555555556,
             "#d8576b"
            ],
            [
             0.6666666666666666,
             "#ed7953"
            ],
            [
             0.7777777777777778,
             "#fb9f3a"
            ],
            [
             0.8888888888888888,
             "#fdca26"
            ],
            [
             1,
             "#f0f921"
            ]
           ]
          },
          "colorway": [
           "#636efa",
           "#EF553B",
           "#00cc96",
           "#ab63fa",
           "#FFA15A",
           "#19d3f3",
           "#FF6692",
           "#B6E880",
           "#FF97FF",
           "#FECB52"
          ],
          "font": {
           "color": "#2a3f5f"
          },
          "geo": {
           "bgcolor": "white",
           "lakecolor": "white",
           "landcolor": "#E5ECF6",
           "showlakes": true,
           "showland": true,
           "subunitcolor": "white"
          },
          "hoverlabel": {
           "align": "left"
          },
          "hovermode": "closest",
          "mapbox": {
           "style": "light"
          },
          "paper_bgcolor": "white",
          "plot_bgcolor": "#E5ECF6",
          "polar": {
           "angularaxis": {
            "gridcolor": "white",
            "linecolor": "white",
            "ticks": ""
           },
           "bgcolor": "#E5ECF6",
           "radialaxis": {
            "gridcolor": "white",
            "linecolor": "white",
            "ticks": ""
           }
          },
          "scene": {
           "xaxis": {
            "backgroundcolor": "#E5ECF6",
            "gridcolor": "white",
            "gridwidth": 2,
            "linecolor": "white",
            "showbackground": true,
            "ticks": "",
            "zerolinecolor": "white"
           },
           "yaxis": {
            "backgroundcolor": "#E5ECF6",
            "gridcolor": "white",
            "gridwidth": 2,
            "linecolor": "white",
            "showbackground": true,
            "ticks": "",
            "zerolinecolor": "white"
           },
           "zaxis": {
            "backgroundcolor": "#E5ECF6",
            "gridcolor": "white",
            "gridwidth": 2,
            "linecolor": "white",
            "showbackground": true,
            "ticks": "",
            "zerolinecolor": "white"
           }
          },
          "shapedefaults": {
           "line": {
            "color": "#2a3f5f"
           }
          },
          "ternary": {
           "aaxis": {
            "gridcolor": "white",
            "linecolor": "white",
            "ticks": ""
           },
           "baxis": {
            "gridcolor": "white",
            "linecolor": "white",
            "ticks": ""
           },
           "bgcolor": "#E5ECF6",
           "caxis": {
            "gridcolor": "white",
            "linecolor": "white",
            "ticks": ""
           }
          },
          "title": {
           "x": 0.05
          },
          "xaxis": {
           "automargin": true,
           "gridcolor": "white",
           "linecolor": "white",
           "ticks": "",
           "title": {
            "standoff": 15
           },
           "zerolinecolor": "white",
           "zerolinewidth": 2
          },
          "yaxis": {
           "automargin": true,
           "gridcolor": "white",
           "linecolor": "white",
           "ticks": "",
           "title": {
            "standoff": 15
           },
           "zerolinecolor": "white",
           "zerolinewidth": 2
          }
         }
        },
        "xaxis": {
         "anchor": "y",
         "categoryarray": [
          "gaussian",
          "sjlt",
          "srht",
          "none"
         ],
         "categoryorder": "array",
         "domain": [
          0,
          0.18000000000000002
         ],
         "title": {
          "text": "sketch_fn"
         }
        },
        "xaxis10": {
         "anchor": "y10",
         "domain": [
          0.8,
          0.9800000000000001
         ],
         "matches": "x",
         "showticklabels": false
        },
        "xaxis2": {
         "anchor": "y2",
         "categoryarray": [
          "gaussian",
          "sjlt",
          "srht",
          "none"
         ],
         "categoryorder": "array",
         "domain": [
          0.2,
          0.38
         ],
         "matches": "x",
         "title": {
          "text": "sketch_fn"
         }
        },
        "xaxis3": {
         "anchor": "y3",
         "categoryarray": [
          "gaussian",
          "sjlt",
          "srht",
          "none"
         ],
         "categoryorder": "array",
         "domain": [
          0.4,
          0.5800000000000001
         ],
         "matches": "x",
         "title": {
          "text": "sketch_fn"
         }
        },
        "xaxis4": {
         "anchor": "y4",
         "categoryarray": [
          "gaussian",
          "sjlt",
          "srht",
          "none"
         ],
         "categoryorder": "array",
         "domain": [
          0.6000000000000001,
          0.7800000000000001
         ],
         "matches": "x",
         "title": {
          "text": "sketch_fn"
         }
        },
        "xaxis5": {
         "anchor": "y5",
         "categoryarray": [
          "gaussian",
          "sjlt",
          "srht",
          "none"
         ],
         "categoryorder": "array",
         "domain": [
          0.8,
          0.9800000000000001
         ],
         "matches": "x",
         "title": {
          "text": "sketch_fn"
         }
        },
        "xaxis6": {
         "anchor": "y6",
         "domain": [
          0,
          0.18000000000000002
         ],
         "matches": "x",
         "showticklabels": false
        },
        "xaxis7": {
         "anchor": "y7",
         "domain": [
          0.2,
          0.38
         ],
         "matches": "x",
         "showticklabels": false
        },
        "xaxis8": {
         "anchor": "y8",
         "domain": [
          0.4,
          0.5800000000000001
         ],
         "matches": "x",
         "showticklabels": false
        },
        "xaxis9": {
         "anchor": "y9",
         "domain": [
          0.6000000000000001,
          0.7800000000000001
         ],
         "matches": "x",
         "showticklabels": false
        },
        "yaxis": {
         "anchor": "x",
         "domain": [
          0,
          0.485
         ],
         "title": {
          "text": "sum of time"
         }
        },
        "yaxis10": {
         "anchor": "x10",
         "domain": [
          0.515,
          1
         ],
         "matches": "y",
         "showticklabels": false
        },
        "yaxis2": {
         "anchor": "x2",
         "domain": [
          0,
          0.485
         ],
         "matches": "y",
         "showticklabels": false
        },
        "yaxis3": {
         "anchor": "x3",
         "domain": [
          0,
          0.485
         ],
         "matches": "y",
         "showticklabels": false
        },
        "yaxis4": {
         "anchor": "x4",
         "domain": [
          0,
          0.485
         ],
         "matches": "y",
         "showticklabels": false
        },
        "yaxis5": {
         "anchor": "x5",
         "domain": [
          0,
          0.485
         ],
         "matches": "y",
         "showticklabels": false
        },
        "yaxis6": {
         "anchor": "x6",
         "domain": [
          0.515,
          1
         ],
         "matches": "y",
         "title": {
          "text": "sum of time"
         }
        },
        "yaxis7": {
         "anchor": "x7",
         "domain": [
          0.515,
          1
         ],
         "matches": "y",
         "showticklabels": false
        },
        "yaxis8": {
         "anchor": "x8",
         "domain": [
          0.515,
          1
         ],
         "matches": "y",
         "showticklabels": false
        },
        "yaxis9": {
         "anchor": "x9",
         "domain": [
          0.515,
          1
         ],
         "matches": "y",
         "showticklabels": false
        }
       }
      },
      "text/html": [
       "<div>                            <div id=\"2fd93950-aedb-4806-bf26-e260e0bd7d3c\" class=\"plotly-graph-div\" style=\"height:700px; width:100%;\"></div>            <script type=\"text/javascript\">                require([\"plotly\"], function(Plotly) {                    window.PLOTLYENV=window.PLOTLYENV || {};                                    if (document.getElementById(\"2fd93950-aedb-4806-bf26-e260e0bd7d3c\")) {                    Plotly.newPlot(                        \"2fd93950-aedb-4806-bf26-e260e0bd7d3c\",                        [{\"alignmentgroup\":\"True\",\"bingroup\":\"x\",\"histfunc\":\"sum\",\"hovertemplate\":\"method=adacg\\u003cbr\\u003esketch_fn=%{x}\\u003cbr\\u003en=2048\\u003cbr\\u003edeff=32\\u003cbr\\u003esum of time=%{y}\\u003cextra\\u003e\\u003c\\u002fextra\\u003e\",\"legendgroup\":\"adacg, gaussian\",\"marker\":{\"color\":\"#636efa\",\"pattern\":{\"shape\":\"\"}},\"name\":\"adacg, gaussian\",\"offsetgroup\":\"adacg, gaussian\",\"orientation\":\"v\",\"showlegend\":true,\"texttemplate\":\"%{value:.2s}\",\"x\":[\"gaussian\"],\"xaxis\":\"x6\",\"y\":[0.03564693066664404],\"yaxis\":\"y6\",\"type\":\"histogram\",\"cliponaxis\":false,\"textangle\":0,\"textposition\":\"outside\"},{\"alignmentgroup\":\"True\",\"bingroup\":\"x\",\"histfunc\":\"sum\",\"hovertemplate\":\"method=adacg\\u003cbr\\u003esketch_fn=%{x}\\u003cbr\\u003en=2048\\u003cbr\\u003edeff=64\\u003cbr\\u003esum of time=%{y}\\u003cextra\\u003e\\u003c\\u002fextra\\u003e\",\"legendgroup\":\"adacg, gaussian\",\"marker\":{\"color\":\"#636efa\",\"pattern\":{\"shape\":\"\"}},\"name\":\"adacg, gaussian\",\"offsetgroup\":\"adacg, gaussian\",\"orientation\":\"v\",\"showlegend\":false,\"texttemplate\":\"%{value:.2s}\",\"x\":[\"gaussian\"],\"xaxis\":\"x7\",\"y\":[0.03295847633330595],\"yaxis\":\"y7\",\"type\":\"histogram\",\"cliponaxis\":false,\"textangle\":0,\"textposition\":\"outside\"},{\"alignmentgroup\":\"True\",\"bingroup\":\"x\",\"histfunc\":\"sum\",\"hovertemplate\":\"method=adacg\\u003cbr\\u003esketch_fn=%{x}\\u003cbr\\u003en=2048\\u003cbr\\u003edeff=128\\u003cbr\\u003esum of time=%{y}\\u003cextra\\u003e\\u003c\\u002fextra\\u003e\",\"legendgroup\":\"adacg, gaussian\",\"marker\":{\"color\":\"#636efa\",\"pattern\":{\"shape\":\"\"}},\"name\":\"adacg, gaussian\",\"offsetgroup\":\"adacg, gaussian\",\"orientation\":\"v\",\"showlegend\":false,\"texttemplate\":\"%{value:.2s}\",\"x\":[\"gaussian\"],\"xaxis\":\"x8\",\"y\":[0.03883951833328562],\"yaxis\":\"y8\",\"type\":\"histogram\",\"cliponaxis\":false,\"textangle\":0,\"textposition\":\"outside\"},{\"alignmentgroup\":\"True\",\"bingroup\":\"x\",\"histfunc\":\"sum\",\"hovertemplate\":\"method=adacg\\u003cbr\\u003esketch_fn=%{x}\\u003cbr\\u003en=2048\\u003cbr\\u003edeff=256\\u003cbr\\u003esum of time=%{y}\\u003cextra\\u003e\\u003c\\u002fextra\\u003e\",\"legendgroup\":\"adacg, gaussian\",\"marker\":{\"color\":\"#636efa\",\"pattern\":{\"shape\":\"\"}},\"name\":\"adacg, gaussian\",\"offsetgroup\":\"adacg, gaussian\",\"orientation\":\"v\",\"showlegend\":false,\"texttemplate\":\"%{value:.2s}\",\"x\":[\"gaussian\"],\"xaxis\":\"x9\",\"y\":[0.03276882533335386],\"yaxis\":\"y9\",\"type\":\"histogram\",\"cliponaxis\":false,\"textangle\":0,\"textposition\":\"outside\"},{\"alignmentgroup\":\"True\",\"bingroup\":\"x\",\"histfunc\":\"sum\",\"hovertemplate\":\"method=adacg\\u003cbr\\u003esketch_fn=%{x}\\u003cbr\\u003en=2048\\u003cbr\\u003edeff=512\\u003cbr\\u003esum of time=%{y}\\u003cextra\\u003e\\u003c\\u002fextra\\u003e\",\"legendgroup\":\"adacg, gaussian\",\"marker\":{\"color\":\"#636efa\",\"pattern\":{\"shape\":\"\"}},\"name\":\"adacg, gaussian\",\"offsetgroup\":\"adacg, gaussian\",\"orientation\":\"v\",\"showlegend\":false,\"texttemplate\":\"%{value:.2s}\",\"x\":[\"gaussian\"],\"xaxis\":\"x10\",\"y\":[0.033602108999957636],\"yaxis\":\"y10\",\"type\":\"histogram\",\"cliponaxis\":false,\"textangle\":0,\"textposition\":\"outside\"},{\"alignmentgroup\":\"True\",\"bingroup\":\"x\",\"histfunc\":\"sum\",\"hovertemplate\":\"method=adacg\\u003cbr\\u003esketch_fn=%{x}\\u003cbr\\u003en=4096\\u003cbr\\u003edeff=32\\u003cbr\\u003esum of time=%{y}\\u003cextra\\u003e\\u003c\\u002fextra\\u003e\",\"legendgroup\":\"adacg, gaussian\",\"marker\":{\"color\":\"#636efa\",\"pattern\":{\"shape\":\"\"}},\"name\":\"adacg, gaussian\",\"offsetgroup\":\"adacg, gaussian\",\"orientation\":\"v\",\"showlegend\":false,\"texttemplate\":\"%{value:.2s}\",\"x\":[\"gaussian\"],\"xaxis\":\"x\",\"y\":[0.06380604199997227],\"yaxis\":\"y\",\"type\":\"histogram\",\"cliponaxis\":false,\"textangle\":0,\"textposition\":\"outside\"},{\"alignmentgroup\":\"True\",\"bingroup\":\"x\",\"histfunc\":\"sum\",\"hovertemplate\":\"method=adacg\\u003cbr\\u003esketch_fn=%{x}\\u003cbr\\u003en=4096\\u003cbr\\u003edeff=64\\u003cbr\\u003esum of time=%{y}\\u003cextra\\u003e\\u003c\\u002fextra\\u003e\",\"legendgroup\":\"adacg, gaussian\",\"marker\":{\"color\":\"#636efa\",\"pattern\":{\"shape\":\"\"}},\"name\":\"adacg, gaussian\",\"offsetgroup\":\"adacg, gaussian\",\"orientation\":\"v\",\"showlegend\":false,\"texttemplate\":\"%{value:.2s}\",\"x\":[\"gaussian\"],\"xaxis\":\"x2\",\"y\":[0.06139957366667658],\"yaxis\":\"y2\",\"type\":\"histogram\",\"cliponaxis\":false,\"textangle\":0,\"textposition\":\"outside\"},{\"alignmentgroup\":\"True\",\"bingroup\":\"x\",\"histfunc\":\"sum\",\"hovertemplate\":\"method=adacg\\u003cbr\\u003esketch_fn=%{x}\\u003cbr\\u003en=4096\\u003cbr\\u003edeff=128\\u003cbr\\u003esum of time=%{y}\\u003cextra\\u003e\\u003c\\u002fextra\\u003e\",\"legendgroup\":\"adacg, gaussian\",\"marker\":{\"color\":\"#636efa\",\"pattern\":{\"shape\":\"\"}},\"name\":\"adacg, gaussian\",\"offsetgroup\":\"adacg, gaussian\",\"orientation\":\"v\",\"showlegend\":false,\"texttemplate\":\"%{value:.2s}\",\"x\":[\"gaussian\"],\"xaxis\":\"x3\",\"y\":[0.062116211666761956],\"yaxis\":\"y3\",\"type\":\"histogram\",\"cliponaxis\":false,\"textangle\":0,\"textposition\":\"outside\"},{\"alignmentgroup\":\"True\",\"bingroup\":\"x\",\"histfunc\":\"sum\",\"hovertemplate\":\"method=adacg\\u003cbr\\u003esketch_fn=%{x}\\u003cbr\\u003en=4096\\u003cbr\\u003edeff=256\\u003cbr\\u003esum of time=%{y}\\u003cextra\\u003e\\u003c\\u002fextra\\u003e\",\"legendgroup\":\"adacg, gaussian\",\"marker\":{\"color\":\"#636efa\",\"pattern\":{\"shape\":\"\"}},\"name\":\"adacg, gaussian\",\"offsetgroup\":\"adacg, gaussian\",\"orientation\":\"v\",\"showlegend\":false,\"texttemplate\":\"%{value:.2s}\",\"x\":[\"gaussian\"],\"xaxis\":\"x4\",\"y\":[0.06234051199983999],\"yaxis\":\"y4\",\"type\":\"histogram\",\"cliponaxis\":false,\"textangle\":0,\"textposition\":\"outside\"},{\"alignmentgroup\":\"True\",\"bingroup\":\"x\",\"histfunc\":\"sum\",\"hovertemplate\":\"method=adacg\\u003cbr\\u003esketch_fn=%{x}\\u003cbr\\u003en=4096\\u003cbr\\u003edeff=512\\u003cbr\\u003esum of time=%{y}\\u003cextra\\u003e\\u003c\\u002fextra\\u003e\",\"legendgroup\":\"adacg, gaussian\",\"marker\":{\"color\":\"#636efa\",\"pattern\":{\"shape\":\"\"}},\"name\":\"adacg, gaussian\",\"offsetgroup\":\"adacg, gaussian\",\"orientation\":\"v\",\"showlegend\":false,\"texttemplate\":\"%{value:.2s}\",\"x\":[\"gaussian\"],\"xaxis\":\"x5\",\"y\":[0.06414233733357833],\"yaxis\":\"y5\",\"type\":\"histogram\",\"cliponaxis\":false,\"textangle\":0,\"textposition\":\"outside\"},{\"alignmentgroup\":\"True\",\"bingroup\":\"x\",\"histfunc\":\"sum\",\"hovertemplate\":\"method=adacg\\u003cbr\\u003esketch_fn=%{x}\\u003cbr\\u003en=2048\\u003cbr\\u003edeff=32\\u003cbr\\u003esum of time=%{y}\\u003cextra\\u003e\\u003c\\u002fextra\\u003e\",\"legendgroup\":\"adacg, sjlt\",\"marker\":{\"color\":\"#636efa\",\"pattern\":{\"shape\":\"\\u002f\"}},\"name\":\"adacg, sjlt\",\"offsetgroup\":\"adacg, sjlt\",\"orientation\":\"v\",\"showlegend\":true,\"texttemplate\":\"%{value:.2s}\",\"x\":[\"sjlt\"],\"xaxis\":\"x6\",\"y\":[0.0318153190000127],\"yaxis\":\"y6\",\"type\":\"histogram\",\"cliponaxis\":false,\"textangle\":0,\"textposition\":\"outside\"},{\"alignmentgroup\":\"True\",\"bingroup\":\"x\",\"histfunc\":\"sum\",\"hovertemplate\":\"method=adacg\\u003cbr\\u003esketch_fn=%{x}\\u003cbr\\u003en=2048\\u003cbr\\u003edeff=64\\u003cbr\\u003esum of time=%{y}\\u003cextra\\u003e\\u003c\\u002fextra\\u003e\",\"legendgroup\":\"adacg, sjlt\",\"marker\":{\"color\":\"#636efa\",\"pattern\":{\"shape\":\"\\u002f\"}},\"name\":\"adacg, sjlt\",\"offsetgroup\":\"adacg, sjlt\",\"orientation\":\"v\",\"showlegend\":false,\"texttemplate\":\"%{value:.2s}\",\"x\":[\"sjlt\"],\"xaxis\":\"x7\",\"y\":[0.029858457000045746],\"yaxis\":\"y7\",\"type\":\"histogram\",\"cliponaxis\":false,\"textangle\":0,\"textposition\":\"outside\"},{\"alignmentgroup\":\"True\",\"bingroup\":\"x\",\"histfunc\":\"sum\",\"hovertemplate\":\"method=adacg\\u003cbr\\u003esketch_fn=%{x}\\u003cbr\\u003en=2048\\u003cbr\\u003edeff=128\\u003cbr\\u003esum of time=%{y}\\u003cextra\\u003e\\u003c\\u002fextra\\u003e\",\"legendgroup\":\"adacg, sjlt\",\"marker\":{\"color\":\"#636efa\",\"pattern\":{\"shape\":\"\\u002f\"}},\"name\":\"adacg, sjlt\",\"offsetgroup\":\"adacg, sjlt\",\"orientation\":\"v\",\"showlegend\":false,\"texttemplate\":\"%{value:.2s}\",\"x\":[\"sjlt\"],\"xaxis\":\"x8\",\"y\":[0.036101437666654114],\"yaxis\":\"y8\",\"type\":\"histogram\",\"cliponaxis\":false,\"textangle\":0,\"textposition\":\"outside\"},{\"alignmentgroup\":\"True\",\"bingroup\":\"x\",\"histfunc\":\"sum\",\"hovertemplate\":\"method=adacg\\u003cbr\\u003esketch_fn=%{x}\\u003cbr\\u003en=2048\\u003cbr\\u003edeff=256\\u003cbr\\u003esum of time=%{y}\\u003cextra\\u003e\\u003c\\u002fextra\\u003e\",\"legendgroup\":\"adacg, sjlt\",\"marker\":{\"color\":\"#636efa\",\"pattern\":{\"shape\":\"\\u002f\"}},\"name\":\"adacg, sjlt\",\"offsetgroup\":\"adacg, sjlt\",\"orientation\":\"v\",\"showlegend\":false,\"texttemplate\":\"%{value:.2s}\",\"x\":[\"sjlt\"],\"xaxis\":\"x9\",\"y\":[0.02956769833326689],\"yaxis\":\"y9\",\"type\":\"histogram\",\"cliponaxis\":false,\"textangle\":0,\"textposition\":\"outside\"},{\"alignmentgroup\":\"True\",\"bingroup\":\"x\",\"histfunc\":\"sum\",\"hovertemplate\":\"method=adacg\\u003cbr\\u003esketch_fn=%{x}\\u003cbr\\u003en=2048\\u003cbr\\u003edeff=512\\u003cbr\\u003esum of time=%{y}\\u003cextra\\u003e\\u003c\\u002fextra\\u003e\",\"legendgroup\":\"adacg, sjlt\",\"marker\":{\"color\":\"#636efa\",\"pattern\":{\"shape\":\"\\u002f\"}},\"name\":\"adacg, sjlt\",\"offsetgroup\":\"adacg, sjlt\",\"orientation\":\"v\",\"showlegend\":false,\"texttemplate\":\"%{value:.2s}\",\"x\":[\"sjlt\"],\"xaxis\":\"x10\",\"y\":[0.03183856433345984],\"yaxis\":\"y10\",\"type\":\"histogram\",\"cliponaxis\":false,\"textangle\":0,\"textposition\":\"outside\"},{\"alignmentgroup\":\"True\",\"bingroup\":\"x\",\"histfunc\":\"sum\",\"hovertemplate\":\"method=adacg\\u003cbr\\u003esketch_fn=%{x}\\u003cbr\\u003en=4096\\u003cbr\\u003edeff=32\\u003cbr\\u003esum of time=%{y}\\u003cextra\\u003e\\u003c\\u002fextra\\u003e\",\"legendgroup\":\"adacg, sjlt\",\"marker\":{\"color\":\"#636efa\",\"pattern\":{\"shape\":\"\\u002f\"}},\"name\":\"adacg, sjlt\",\"offsetgroup\":\"adacg, sjlt\",\"orientation\":\"v\",\"showlegend\":false,\"texttemplate\":\"%{value:.2s}\",\"x\":[\"sjlt\"],\"xaxis\":\"x\",\"y\":[0.055265632333430396],\"yaxis\":\"y\",\"type\":\"histogram\",\"cliponaxis\":false,\"textangle\":0,\"textposition\":\"outside\"},{\"alignmentgroup\":\"True\",\"bingroup\":\"x\",\"histfunc\":\"sum\",\"hovertemplate\":\"method=adacg\\u003cbr\\u003esketch_fn=%{x}\\u003cbr\\u003en=4096\\u003cbr\\u003edeff=64\\u003cbr\\u003esum of time=%{y}\\u003cextra\\u003e\\u003c\\u002fextra\\u003e\",\"legendgroup\":\"adacg, sjlt\",\"marker\":{\"color\":\"#636efa\",\"pattern\":{\"shape\":\"\\u002f\"}},\"name\":\"adacg, sjlt\",\"offsetgroup\":\"adacg, sjlt\",\"orientation\":\"v\",\"showlegend\":false,\"texttemplate\":\"%{value:.2s}\",\"x\":[\"sjlt\"],\"xaxis\":\"x2\",\"y\":[0.05507000766647252],\"yaxis\":\"y2\",\"type\":\"histogram\",\"cliponaxis\":false,\"textangle\":0,\"textposition\":\"outside\"},{\"alignmentgroup\":\"True\",\"bingroup\":\"x\",\"histfunc\":\"sum\",\"hovertemplate\":\"method=adacg\\u003cbr\\u003esketch_fn=%{x}\\u003cbr\\u003en=4096\\u003cbr\\u003edeff=128\\u003cbr\\u003esum of time=%{y}\\u003cextra\\u003e\\u003c\\u002fextra\\u003e\",\"legendgroup\":\"adacg, sjlt\",\"marker\":{\"color\":\"#636efa\",\"pattern\":{\"shape\":\"\\u002f\"}},\"name\":\"adacg, sjlt\",\"offsetgroup\":\"adacg, sjlt\",\"orientation\":\"v\",\"showlegend\":false,\"texttemplate\":\"%{value:.2s}\",\"x\":[\"sjlt\"],\"xaxis\":\"x3\",\"y\":[0.05492714633358749],\"yaxis\":\"y3\",\"type\":\"histogram\",\"cliponaxis\":false,\"textangle\":0,\"textposition\":\"outside\"},{\"alignmentgroup\":\"True\",\"bingroup\":\"x\",\"histfunc\":\"sum\",\"hovertemplate\":\"method=adacg\\u003cbr\\u003esketch_fn=%{x}\\u003cbr\\u003en=4096\\u003cbr\\u003edeff=256\\u003cbr\\u003esum of time=%{y}\\u003cextra\\u003e\\u003c\\u002fextra\\u003e\",\"legendgroup\":\"adacg, sjlt\",\"marker\":{\"color\":\"#636efa\",\"pattern\":{\"shape\":\"\\u002f\"}},\"name\":\"adacg, sjlt\",\"offsetgroup\":\"adacg, sjlt\",\"orientation\":\"v\",\"showlegend\":false,\"texttemplate\":\"%{value:.2s}\",\"x\":[\"sjlt\"],\"xaxis\":\"x4\",\"y\":[0.0564468229998359],\"yaxis\":\"y4\",\"type\":\"histogram\",\"cliponaxis\":false,\"textangle\":0,\"textposition\":\"outside\"},{\"alignmentgroup\":\"True\",\"bingroup\":\"x\",\"histfunc\":\"sum\",\"hovertemplate\":\"method=adacg\\u003cbr\\u003esketch_fn=%{x}\\u003cbr\\u003en=4096\\u003cbr\\u003edeff=512\\u003cbr\\u003esum of time=%{y}\\u003cextra\\u003e\\u003c\\u002fextra\\u003e\",\"legendgroup\":\"adacg, sjlt\",\"marker\":{\"color\":\"#636efa\",\"pattern\":{\"shape\":\"\\u002f\"}},\"name\":\"adacg, sjlt\",\"offsetgroup\":\"adacg, sjlt\",\"orientation\":\"v\",\"showlegend\":false,\"texttemplate\":\"%{value:.2s}\",\"x\":[\"sjlt\"],\"xaxis\":\"x5\",\"y\":[0.055890663667014444],\"yaxis\":\"y5\",\"type\":\"histogram\",\"cliponaxis\":false,\"textangle\":0,\"textposition\":\"outside\"},{\"alignmentgroup\":\"True\",\"bingroup\":\"x\",\"histfunc\":\"sum\",\"hovertemplate\":\"method=adacg\\u003cbr\\u003esketch_fn=%{x}\\u003cbr\\u003en=2048\\u003cbr\\u003edeff=32\\u003cbr\\u003esum of time=%{y}\\u003cextra\\u003e\\u003c\\u002fextra\\u003e\",\"legendgroup\":\"adacg, srht\",\"marker\":{\"color\":\"#636efa\",\"pattern\":{\"shape\":\"\\\\\"}},\"name\":\"adacg, srht\",\"offsetgroup\":\"adacg, srht\",\"orientation\":\"v\",\"showlegend\":true,\"texttemplate\":\"%{value:.2s}\",\"x\":[\"srht\"],\"xaxis\":\"x6\",\"y\":[0.04046508299992031],\"yaxis\":\"y6\",\"type\":\"histogram\",\"cliponaxis\":false,\"textangle\":0,\"textposition\":\"outside\"},{\"alignmentgroup\":\"True\",\"bingroup\":\"x\",\"histfunc\":\"sum\",\"hovertemplate\":\"method=adacg\\u003cbr\\u003esketch_fn=%{x}\\u003cbr\\u003en=2048\\u003cbr\\u003edeff=64\\u003cbr\\u003esum of time=%{y}\\u003cextra\\u003e\\u003c\\u002fextra\\u003e\",\"legendgroup\":\"adacg, srht\",\"marker\":{\"color\":\"#636efa\",\"pattern\":{\"shape\":\"\\\\\"}},\"name\":\"adacg, srht\",\"offsetgroup\":\"adacg, srht\",\"orientation\":\"v\",\"showlegend\":false,\"texttemplate\":\"%{value:.2s}\",\"x\":[\"srht\"],\"xaxis\":\"x7\",\"y\":[0.03803546299999046],\"yaxis\":\"y7\",\"type\":\"histogram\",\"cliponaxis\":false,\"textangle\":0,\"textposition\":\"outside\"},{\"alignmentgroup\":\"True\",\"bingroup\":\"x\",\"histfunc\":\"sum\",\"hovertemplate\":\"method=adacg\\u003cbr\\u003esketch_fn=%{x}\\u003cbr\\u003en=2048\\u003cbr\\u003edeff=128\\u003cbr\\u003esum of time=%{y}\\u003cextra\\u003e\\u003c\\u002fextra\\u003e\",\"legendgroup\":\"adacg, srht\",\"marker\":{\"color\":\"#636efa\",\"pattern\":{\"shape\":\"\\\\\"}},\"name\":\"adacg, srht\",\"offsetgroup\":\"adacg, srht\",\"orientation\":\"v\",\"showlegend\":false,\"texttemplate\":\"%{value:.2s}\",\"x\":[\"srht\"],\"xaxis\":\"x8\",\"y\":[0.0415303300000384],\"yaxis\":\"y8\",\"type\":\"histogram\",\"cliponaxis\":false,\"textangle\":0,\"textposition\":\"outside\"},{\"alignmentgroup\":\"True\",\"bingroup\":\"x\",\"histfunc\":\"sum\",\"hovertemplate\":\"method=adacg\\u003cbr\\u003esketch_fn=%{x}\\u003cbr\\u003en=2048\\u003cbr\\u003edeff=256\\u003cbr\\u003esum of time=%{y}\\u003cextra\\u003e\\u003c\\u002fextra\\u003e\",\"legendgroup\":\"adacg, srht\",\"marker\":{\"color\":\"#636efa\",\"pattern\":{\"shape\":\"\\\\\"}},\"name\":\"adacg, srht\",\"offsetgroup\":\"adacg, srht\",\"orientation\":\"v\",\"showlegend\":false,\"texttemplate\":\"%{value:.2s}\",\"x\":[\"srht\"],\"xaxis\":\"x9\",\"y\":[0.03853734633336595],\"yaxis\":\"y9\",\"type\":\"histogram\",\"cliponaxis\":false,\"textangle\":0,\"textposition\":\"outside\"},{\"alignmentgroup\":\"True\",\"bingroup\":\"x\",\"histfunc\":\"sum\",\"hovertemplate\":\"method=adacg\\u003cbr\\u003esketch_fn=%{x}\\u003cbr\\u003en=2048\\u003cbr\\u003edeff=512\\u003cbr\\u003esum of time=%{y}\\u003cextra\\u003e\\u003c\\u002fextra\\u003e\",\"legendgroup\":\"adacg, srht\",\"marker\":{\"color\":\"#636efa\",\"pattern\":{\"shape\":\"\\\\\"}},\"name\":\"adacg, srht\",\"offsetgroup\":\"adacg, srht\",\"orientation\":\"v\",\"showlegend\":false,\"texttemplate\":\"%{value:.2s}\",\"x\":[\"srht\"],\"xaxis\":\"x10\",\"y\":[0.038584295333445574],\"yaxis\":\"y10\",\"type\":\"histogram\",\"cliponaxis\":false,\"textangle\":0,\"textposition\":\"outside\"},{\"alignmentgroup\":\"True\",\"bingroup\":\"x\",\"histfunc\":\"sum\",\"hovertemplate\":\"method=adacg\\u003cbr\\u003esketch_fn=%{x}\\u003cbr\\u003en=4096\\u003cbr\\u003edeff=32\\u003cbr\\u003esum of time=%{y}\\u003cextra\\u003e\\u003c\\u002fextra\\u003e\",\"legendgroup\":\"adacg, srht\",\"marker\":{\"color\":\"#636efa\",\"pattern\":{\"shape\":\"\\\\\"}},\"name\":\"adacg, srht\",\"offsetgroup\":\"adacg, srht\",\"orientation\":\"v\",\"showlegend\":false,\"texttemplate\":\"%{value:.2s}\",\"x\":[\"srht\"],\"xaxis\":\"x\",\"y\":[0.0689850886668258],\"yaxis\":\"y\",\"type\":\"histogram\",\"cliponaxis\":false,\"textangle\":0,\"textposition\":\"outside\"},{\"alignmentgroup\":\"True\",\"bingroup\":\"x\",\"histfunc\":\"sum\",\"hovertemplate\":\"method=adacg\\u003cbr\\u003esketch_fn=%{x}\\u003cbr\\u003en=4096\\u003cbr\\u003edeff=64\\u003cbr\\u003esum of time=%{y}\\u003cextra\\u003e\\u003c\\u002fextra\\u003e\",\"legendgroup\":\"adacg, srht\",\"marker\":{\"color\":\"#636efa\",\"pattern\":{\"shape\":\"\\\\\"}},\"name\":\"adacg, srht\",\"offsetgroup\":\"adacg, srht\",\"orientation\":\"v\",\"showlegend\":false,\"texttemplate\":\"%{value:.2s}\",\"x\":[\"srht\"],\"xaxis\":\"x2\",\"y\":[0.06782701866692756],\"yaxis\":\"y2\",\"type\":\"histogram\",\"cliponaxis\":false,\"textangle\":0,\"textposition\":\"outside\"},{\"alignmentgroup\":\"True\",\"bingroup\":\"x\",\"histfunc\":\"sum\",\"hovertemplate\":\"method=adacg\\u003cbr\\u003esketch_fn=%{x}\\u003cbr\\u003en=4096\\u003cbr\\u003edeff=128\\u003cbr\\u003esum of time=%{y}\\u003cextra\\u003e\\u003c\\u002fextra\\u003e\",\"legendgroup\":\"adacg, srht\",\"marker\":{\"color\":\"#636efa\",\"pattern\":{\"shape\":\"\\\\\"}},\"name\":\"adacg, srht\",\"offsetgroup\":\"adacg, srht\",\"orientation\":\"v\",\"showlegend\":false,\"texttemplate\":\"%{value:.2s}\",\"x\":[\"srht\"],\"xaxis\":\"x3\",\"y\":[0.07104822766632424],\"yaxis\":\"y3\",\"type\":\"histogram\",\"cliponaxis\":false,\"textangle\":0,\"textposition\":\"outside\"},{\"alignmentgroup\":\"True\",\"bingroup\":\"x\",\"histfunc\":\"sum\",\"hovertemplate\":\"method=adacg\\u003cbr\\u003esketch_fn=%{x}\\u003cbr\\u003en=4096\\u003cbr\\u003edeff=256\\u003cbr\\u003esum of time=%{y}\\u003cextra\\u003e\\u003c\\u002fextra\\u003e\",\"legendgroup\":\"adacg, srht\",\"marker\":{\"color\":\"#636efa\",\"pattern\":{\"shape\":\"\\\\\"}},\"name\":\"adacg, srht\",\"offsetgroup\":\"adacg, srht\",\"orientation\":\"v\",\"showlegend\":false,\"texttemplate\":\"%{value:.2s}\",\"x\":[\"srht\"],\"xaxis\":\"x4\",\"y\":[0.07176462533395048],\"yaxis\":\"y4\",\"type\":\"histogram\",\"cliponaxis\":false,\"textangle\":0,\"textposition\":\"outside\"},{\"alignmentgroup\":\"True\",\"bingroup\":\"x\",\"histfunc\":\"sum\",\"hovertemplate\":\"method=adacg\\u003cbr\\u003esketch_fn=%{x}\\u003cbr\\u003en=4096\\u003cbr\\u003edeff=512\\u003cbr\\u003esum of time=%{y}\\u003cextra\\u003e\\u003c\\u002fextra\\u003e\",\"legendgroup\":\"adacg, srht\",\"marker\":{\"color\":\"#636efa\",\"pattern\":{\"shape\":\"\\\\\"}},\"name\":\"adacg, srht\",\"offsetgroup\":\"adacg, srht\",\"orientation\":\"v\",\"showlegend\":false,\"texttemplate\":\"%{value:.2s}\",\"x\":[\"srht\"],\"xaxis\":\"x5\",\"y\":[0.06933887566689614],\"yaxis\":\"y5\",\"type\":\"histogram\",\"cliponaxis\":false,\"textangle\":0,\"textposition\":\"outside\"},{\"alignmentgroup\":\"True\",\"bingroup\":\"x\",\"histfunc\":\"sum\",\"hovertemplate\":\"method=cg\\u003cbr\\u003esketch_fn=%{x}\\u003cbr\\u003en=2048\\u003cbr\\u003edeff=32\\u003cbr\\u003esum of time=%{y}\\u003cextra\\u003e\\u003c\\u002fextra\\u003e\",\"legendgroup\":\"cg, none\",\"marker\":{\"color\":\"#EF553B\",\"pattern\":{\"shape\":\"x\"}},\"name\":\"cg, none\",\"offsetgroup\":\"cg, none\",\"orientation\":\"v\",\"showlegend\":true,\"texttemplate\":\"%{value:.2s}\",\"x\":[\"none\"],\"xaxis\":\"x6\",\"y\":[0.05939010166669807],\"yaxis\":\"y6\",\"type\":\"histogram\",\"cliponaxis\":false,\"textangle\":0,\"textposition\":\"outside\"},{\"alignmentgroup\":\"True\",\"bingroup\":\"x\",\"histfunc\":\"sum\",\"hovertemplate\":\"method=cg\\u003cbr\\u003esketch_fn=%{x}\\u003cbr\\u003en=2048\\u003cbr\\u003edeff=64\\u003cbr\\u003esum of time=%{y}\\u003cextra\\u003e\\u003c\\u002fextra\\u003e\",\"legendgroup\":\"cg, none\",\"marker\":{\"color\":\"#EF553B\",\"pattern\":{\"shape\":\"x\"}},\"name\":\"cg, none\",\"offsetgroup\":\"cg, none\",\"orientation\":\"v\",\"showlegend\":false,\"texttemplate\":\"%{value:.2s}\",\"x\":[\"none\"],\"xaxis\":\"x7\",\"y\":[0.08979898833338969],\"yaxis\":\"y7\",\"type\":\"histogram\",\"cliponaxis\":false,\"textangle\":0,\"textposition\":\"outside\"},{\"alignmentgroup\":\"True\",\"bingroup\":\"x\",\"histfunc\":\"sum\",\"hovertemplate\":\"method=cg\\u003cbr\\u003esketch_fn=%{x}\\u003cbr\\u003en=2048\\u003cbr\\u003edeff=128\\u003cbr\\u003esum of time=%{y}\\u003cextra\\u003e\\u003c\\u002fextra\\u003e\",\"legendgroup\":\"cg, none\",\"marker\":{\"color\":\"#EF553B\",\"pattern\":{\"shape\":\"x\"}},\"name\":\"cg, none\",\"offsetgroup\":\"cg, none\",\"orientation\":\"v\",\"showlegend\":false,\"texttemplate\":\"%{value:.2s}\",\"x\":[\"none\"],\"xaxis\":\"x8\",\"y\":[0.21928269466661732],\"yaxis\":\"y8\",\"type\":\"histogram\",\"cliponaxis\":false,\"textangle\":0,\"textposition\":\"outside\"},{\"alignmentgroup\":\"True\",\"bingroup\":\"x\",\"histfunc\":\"sum\",\"hovertemplate\":\"method=cg\\u003cbr\\u003esketch_fn=%{x}\\u003cbr\\u003en=2048\\u003cbr\\u003edeff=256\\u003cbr\\u003esum of time=%{y}\\u003cextra\\u003e\\u003c\\u002fextra\\u003e\",\"legendgroup\":\"cg, none\",\"marker\":{\"color\":\"#EF553B\",\"pattern\":{\"shape\":\"x\"}},\"name\":\"cg, none\",\"offsetgroup\":\"cg, none\",\"orientation\":\"v\",\"showlegend\":false,\"texttemplate\":\"%{value:.2s}\",\"x\":[\"none\"],\"xaxis\":\"x9\",\"y\":[0.40087400466677536],\"yaxis\":\"y9\",\"type\":\"histogram\",\"cliponaxis\":false,\"textangle\":0,\"textposition\":\"outside\"},{\"alignmentgroup\":\"True\",\"bingroup\":\"x\",\"histfunc\":\"sum\",\"hovertemplate\":\"method=cg\\u003cbr\\u003esketch_fn=%{x}\\u003cbr\\u003en=2048\\u003cbr\\u003edeff=512\\u003cbr\\u003esum of time=%{y}\\u003cextra\\u003e\\u003c\\u002fextra\\u003e\",\"legendgroup\":\"cg, none\",\"marker\":{\"color\":\"#EF553B\",\"pattern\":{\"shape\":\"x\"}},\"name\":\"cg, none\",\"offsetgroup\":\"cg, none\",\"orientation\":\"v\",\"showlegend\":false,\"texttemplate\":\"%{value:.2s}\",\"x\":[\"none\"],\"xaxis\":\"x10\",\"y\":[0.48067862600009903],\"yaxis\":\"y10\",\"type\":\"histogram\",\"cliponaxis\":false,\"textangle\":0,\"textposition\":\"outside\"},{\"alignmentgroup\":\"True\",\"bingroup\":\"x\",\"histfunc\":\"sum\",\"hovertemplate\":\"method=cg\\u003cbr\\u003esketch_fn=%{x}\\u003cbr\\u003en=4096\\u003cbr\\u003edeff=32\\u003cbr\\u003esum of time=%{y}\\u003cextra\\u003e\\u003c\\u002fextra\\u003e\",\"legendgroup\":\"cg, none\",\"marker\":{\"color\":\"#EF553B\",\"pattern\":{\"shape\":\"x\"}},\"name\":\"cg, none\",\"offsetgroup\":\"cg, none\",\"orientation\":\"v\",\"showlegend\":false,\"texttemplate\":\"%{value:.2s}\",\"x\":[\"none\"],\"xaxis\":\"x\",\"y\":[0.06545266000011907],\"yaxis\":\"y\",\"type\":\"histogram\",\"cliponaxis\":false,\"textangle\":0,\"textposition\":\"outside\"},{\"alignmentgroup\":\"True\",\"bingroup\":\"x\",\"histfunc\":\"sum\",\"hovertemplate\":\"method=cg\\u003cbr\\u003esketch_fn=%{x}\\u003cbr\\u003en=4096\\u003cbr\\u003edeff=64\\u003cbr\\u003esum of time=%{y}\\u003cextra\\u003e\\u003c\\u002fextra\\u003e\",\"legendgroup\":\"cg, none\",\"marker\":{\"color\":\"#EF553B\",\"pattern\":{\"shape\":\"x\"}},\"name\":\"cg, none\",\"offsetgroup\":\"cg, none\",\"orientation\":\"v\",\"showlegend\":false,\"texttemplate\":\"%{value:.2s}\",\"x\":[\"none\"],\"xaxis\":\"x2\",\"y\":[0.19899001600000094],\"yaxis\":\"y2\",\"type\":\"histogram\",\"cliponaxis\":false,\"textangle\":0,\"textposition\":\"outside\"},{\"alignmentgroup\":\"True\",\"bingroup\":\"x\",\"histfunc\":\"sum\",\"hovertemplate\":\"method=cg\\u003cbr\\u003esketch_fn=%{x}\\u003cbr\\u003en=4096\\u003cbr\\u003edeff=128\\u003cbr\\u003esum of time=%{y}\\u003cextra\\u003e\\u003c\\u002fextra\\u003e\",\"legendgroup\":\"cg, none\",\"marker\":{\"color\":\"#EF553B\",\"pattern\":{\"shape\":\"x\"}},\"name\":\"cg, none\",\"offsetgroup\":\"cg, none\",\"orientation\":\"v\",\"showlegend\":false,\"texttemplate\":\"%{value:.2s}\",\"x\":[\"none\"],\"xaxis\":\"x3\",\"y\":[0.5498584140001791],\"yaxis\":\"y3\",\"type\":\"histogram\",\"cliponaxis\":false,\"textangle\":0,\"textposition\":\"outside\"},{\"alignmentgroup\":\"True\",\"bingroup\":\"x\",\"histfunc\":\"sum\",\"hovertemplate\":\"method=cg\\u003cbr\\u003esketch_fn=%{x}\\u003cbr\\u003en=4096\\u003cbr\\u003edeff=256\\u003cbr\\u003esum of time=%{y}\\u003cextra\\u003e\\u003c\\u002fextra\\u003e\",\"legendgroup\":\"cg, none\",\"marker\":{\"color\":\"#EF553B\",\"pattern\":{\"shape\":\"x\"}},\"name\":\"cg, none\",\"offsetgroup\":\"cg, none\",\"orientation\":\"v\",\"showlegend\":false,\"texttemplate\":\"%{value:.2s}\",\"x\":[\"none\"],\"xaxis\":\"x4\",\"y\":[1.2136711653332288],\"yaxis\":\"y4\",\"type\":\"histogram\",\"cliponaxis\":false,\"textangle\":0,\"textposition\":\"outside\"},{\"alignmentgroup\":\"True\",\"bingroup\":\"x\",\"histfunc\":\"sum\",\"hovertemplate\":\"method=cg\\u003cbr\\u003esketch_fn=%{x}\\u003cbr\\u003en=4096\\u003cbr\\u003edeff=512\\u003cbr\\u003esum of time=%{y}\\u003cextra\\u003e\\u003c\\u002fextra\\u003e\",\"legendgroup\":\"cg, none\",\"marker\":{\"color\":\"#EF553B\",\"pattern\":{\"shape\":\"x\"}},\"name\":\"cg, none\",\"offsetgroup\":\"cg, none\",\"orientation\":\"v\",\"showlegend\":false,\"texttemplate\":\"%{value:.2s}\",\"x\":[\"none\"],\"xaxis\":\"x5\",\"y\":[1.2558889043333086],\"yaxis\":\"y5\",\"type\":\"histogram\",\"cliponaxis\":false,\"textangle\":0,\"textposition\":\"outside\"},{\"alignmentgroup\":\"True\",\"bingroup\":\"x\",\"histfunc\":\"sum\",\"hovertemplate\":\"method=dm\\u003cbr\\u003esketch_fn=%{x}\\u003cbr\\u003en=2048\\u003cbr\\u003edeff=32\\u003cbr\\u003esum of time=%{y}\\u003cextra\\u003e\\u003c\\u002fextra\\u003e\",\"legendgroup\":\"dm, none\",\"marker\":{\"color\":\"#00cc96\",\"pattern\":{\"shape\":\"x\"}},\"name\":\"dm, none\",\"offsetgroup\":\"dm, none\",\"orientation\":\"v\",\"showlegend\":true,\"texttemplate\":\"%{value:.2s}\",\"x\":[\"none\"],\"xaxis\":\"x6\",\"y\":[0.028859621000037805],\"yaxis\":\"y6\",\"type\":\"histogram\",\"cliponaxis\":false,\"textangle\":0,\"textposition\":\"outside\"},{\"alignmentgroup\":\"True\",\"bingroup\":\"x\",\"histfunc\":\"sum\",\"hovertemplate\":\"method=dm\\u003cbr\\u003esketch_fn=%{x}\\u003cbr\\u003en=2048\\u003cbr\\u003edeff=64\\u003cbr\\u003esum of time=%{y}\\u003cextra\\u003e\\u003c\\u002fextra\\u003e\",\"legendgroup\":\"dm, none\",\"marker\":{\"color\":\"#00cc96\",\"pattern\":{\"shape\":\"x\"}},\"name\":\"dm, none\",\"offsetgroup\":\"dm, none\",\"orientation\":\"v\",\"showlegend\":false,\"texttemplate\":\"%{value:.2s}\",\"x\":[\"none\"],\"xaxis\":\"x7\",\"y\":[0.021544292000044152],\"yaxis\":\"y7\",\"type\":\"histogram\",\"cliponaxis\":false,\"textangle\":0,\"textposition\":\"outside\"},{\"alignmentgroup\":\"True\",\"bingroup\":\"x\",\"histfunc\":\"sum\",\"hovertemplate\":\"method=dm\\u003cbr\\u003esketch_fn=%{x}\\u003cbr\\u003en=2048\\u003cbr\\u003edeff=128\\u003cbr\\u003esum of time=%{y}\\u003cextra\\u003e\\u003c\\u002fextra\\u003e\",\"legendgroup\":\"dm, none\",\"marker\":{\"color\":\"#00cc96\",\"pattern\":{\"shape\":\"x\"}},\"name\":\"dm, none\",\"offsetgroup\":\"dm, none\",\"orientation\":\"v\",\"showlegend\":false,\"texttemplate\":\"%{value:.2s}\",\"x\":[\"none\"],\"xaxis\":\"x8\",\"y\":[0.02342935599995144],\"yaxis\":\"y8\",\"type\":\"histogram\",\"cliponaxis\":false,\"textangle\":0,\"textposition\":\"outside\"},{\"alignmentgroup\":\"True\",\"bingroup\":\"x\",\"histfunc\":\"sum\",\"hovertemplate\":\"method=dm\\u003cbr\\u003esketch_fn=%{x}\\u003cbr\\u003en=2048\\u003cbr\\u003edeff=256\\u003cbr\\u003esum of time=%{y}\\u003cextra\\u003e\\u003c\\u002fextra\\u003e\",\"legendgroup\":\"dm, none\",\"marker\":{\"color\":\"#00cc96\",\"pattern\":{\"shape\":\"x\"}},\"name\":\"dm, none\",\"offsetgroup\":\"dm, none\",\"orientation\":\"v\",\"showlegend\":false,\"texttemplate\":\"%{value:.2s}\",\"x\":[\"none\"],\"xaxis\":\"x9\",\"y\":[0.020570642999928168],\"yaxis\":\"y9\",\"type\":\"histogram\",\"cliponaxis\":false,\"textangle\":0,\"textposition\":\"outside\"},{\"alignmentgroup\":\"True\",\"bingroup\":\"x\",\"histfunc\":\"sum\",\"hovertemplate\":\"method=dm\\u003cbr\\u003esketch_fn=%{x}\\u003cbr\\u003en=2048\\u003cbr\\u003edeff=512\\u003cbr\\u003esum of time=%{y}\\u003cextra\\u003e\\u003c\\u002fextra\\u003e\",\"legendgroup\":\"dm, none\",\"marker\":{\"color\":\"#00cc96\",\"pattern\":{\"shape\":\"x\"}},\"name\":\"dm, none\",\"offsetgroup\":\"dm, none\",\"orientation\":\"v\",\"showlegend\":false,\"texttemplate\":\"%{value:.2s}\",\"x\":[\"none\"],\"xaxis\":\"x10\",\"y\":[0.021790248999877804],\"yaxis\":\"y10\",\"type\":\"histogram\",\"cliponaxis\":false,\"textangle\":0,\"textposition\":\"outside\"},{\"alignmentgroup\":\"True\",\"bingroup\":\"x\",\"histfunc\":\"sum\",\"hovertemplate\":\"method=dm\\u003cbr\\u003esketch_fn=%{x}\\u003cbr\\u003en=4096\\u003cbr\\u003edeff=32\\u003cbr\\u003esum of time=%{y}\\u003cextra\\u003e\\u003c\\u002fextra\\u003e\",\"legendgroup\":\"dm, none\",\"marker\":{\"color\":\"#00cc96\",\"pattern\":{\"shape\":\"x\"}},\"name\":\"dm, none\",\"offsetgroup\":\"dm, none\",\"orientation\":\"v\",\"showlegend\":false,\"texttemplate\":\"%{value:.2s}\",\"x\":[\"none\"],\"xaxis\":\"x\",\"y\":[0.03979520099983347],\"yaxis\":\"y\",\"type\":\"histogram\",\"cliponaxis\":false,\"textangle\":0,\"textposition\":\"outside\"},{\"alignmentgroup\":\"True\",\"bingroup\":\"x\",\"histfunc\":\"sum\",\"hovertemplate\":\"method=dm\\u003cbr\\u003esketch_fn=%{x}\\u003cbr\\u003en=4096\\u003cbr\\u003edeff=64\\u003cbr\\u003esum of time=%{y}\\u003cextra\\u003e\\u003c\\u002fextra\\u003e\",\"legendgroup\":\"dm, none\",\"marker\":{\"color\":\"#00cc96\",\"pattern\":{\"shape\":\"x\"}},\"name\":\"dm, none\",\"offsetgroup\":\"dm, none\",\"orientation\":\"v\",\"showlegend\":false,\"texttemplate\":\"%{value:.2s}\",\"x\":[\"none\"],\"xaxis\":\"x2\",\"y\":[0.041292412000075274],\"yaxis\":\"y2\",\"type\":\"histogram\",\"cliponaxis\":false,\"textangle\":0,\"textposition\":\"outside\"},{\"alignmentgroup\":\"True\",\"bingroup\":\"x\",\"histfunc\":\"sum\",\"hovertemplate\":\"method=dm\\u003cbr\\u003esketch_fn=%{x}\\u003cbr\\u003en=4096\\u003cbr\\u003edeff=128\\u003cbr\\u003esum of time=%{y}\\u003cextra\\u003e\\u003c\\u002fextra\\u003e\",\"legendgroup\":\"dm, none\",\"marker\":{\"color\":\"#00cc96\",\"pattern\":{\"shape\":\"x\"}},\"name\":\"dm, none\",\"offsetgroup\":\"dm, none\",\"orientation\":\"v\",\"showlegend\":false,\"texttemplate\":\"%{value:.2s}\",\"x\":[\"none\"],\"xaxis\":\"x3\",\"y\":[0.039961002000381995],\"yaxis\":\"y3\",\"type\":\"histogram\",\"cliponaxis\":false,\"textangle\":0,\"textposition\":\"outside\"},{\"alignmentgroup\":\"True\",\"bingroup\":\"x\",\"histfunc\":\"sum\",\"hovertemplate\":\"method=dm\\u003cbr\\u003esketch_fn=%{x}\\u003cbr\\u003en=4096\\u003cbr\\u003edeff=256\\u003cbr\\u003esum of time=%{y}\\u003cextra\\u003e\\u003c\\u002fextra\\u003e\",\"legendgroup\":\"dm, none\",\"marker\":{\"color\":\"#00cc96\",\"pattern\":{\"shape\":\"x\"}},\"name\":\"dm, none\",\"offsetgroup\":\"dm, none\",\"orientation\":\"v\",\"showlegend\":false,\"texttemplate\":\"%{value:.2s}\",\"x\":[\"none\"],\"xaxis\":\"x4\",\"y\":[0.04234197200003109],\"yaxis\":\"y4\",\"type\":\"histogram\",\"cliponaxis\":false,\"textangle\":0,\"textposition\":\"outside\"},{\"alignmentgroup\":\"True\",\"bingroup\":\"x\",\"histfunc\":\"sum\",\"hovertemplate\":\"method=dm\\u003cbr\\u003esketch_fn=%{x}\\u003cbr\\u003en=4096\\u003cbr\\u003edeff=512\\u003cbr\\u003esum of time=%{y}\\u003cextra\\u003e\\u003c\\u002fextra\\u003e\",\"legendgroup\":\"dm, none\",\"marker\":{\"color\":\"#00cc96\",\"pattern\":{\"shape\":\"x\"}},\"name\":\"dm, none\",\"offsetgroup\":\"dm, none\",\"orientation\":\"v\",\"showlegend\":false,\"texttemplate\":\"%{value:.2s}\",\"x\":[\"none\"],\"xaxis\":\"x5\",\"y\":[0.039564810000229045],\"yaxis\":\"y5\",\"type\":\"histogram\",\"cliponaxis\":false,\"textangle\":0,\"textposition\":\"outside\"},{\"alignmentgroup\":\"True\",\"bingroup\":\"x\",\"histfunc\":\"sum\",\"hovertemplate\":\"method=pcg\\u003cbr\\u003esketch_fn=%{x}\\u003cbr\\u003en=2048\\u003cbr\\u003edeff=32\\u003cbr\\u003esum of time=%{y}\\u003cextra\\u003e\\u003c\\u002fextra\\u003e\",\"legendgroup\":\"pcg, gaussian\",\"marker\":{\"color\":\"#ab63fa\",\"pattern\":{\"shape\":\"\"}},\"name\":\"pcg, gaussian\",\"offsetgroup\":\"pcg, gaussian\",\"orientation\":\"v\",\"showlegend\":true,\"texttemplate\":\"%{value:.2s}\",\"x\":[\"gaussian\"],\"xaxis\":\"x6\",\"y\":[0.11101948166674447],\"yaxis\":\"y6\",\"type\":\"histogram\",\"cliponaxis\":false,\"textangle\":0,\"textposition\":\"outside\"},{\"alignmentgroup\":\"True\",\"bingroup\":\"x\",\"histfunc\":\"sum\",\"hovertemplate\":\"method=pcg\\u003cbr\\u003esketch_fn=%{x}\\u003cbr\\u003en=2048\\u003cbr\\u003edeff=64\\u003cbr\\u003esum of time=%{y}\\u003cextra\\u003e\\u003c\\u002fextra\\u003e\",\"legendgroup\":\"pcg, gaussian\",\"marker\":{\"color\":\"#ab63fa\",\"pattern\":{\"shape\":\"\"}},\"name\":\"pcg, gaussian\",\"offsetgroup\":\"pcg, gaussian\",\"orientation\":\"v\",\"showlegend\":false,\"texttemplate\":\"%{value:.2s}\",\"x\":[\"gaussian\"],\"xaxis\":\"x7\",\"y\":[0.08785114433332333],\"yaxis\":\"y7\",\"type\":\"histogram\",\"cliponaxis\":false,\"textangle\":0,\"textposition\":\"outside\"},{\"alignmentgroup\":\"True\",\"bingroup\":\"x\",\"histfunc\":\"sum\",\"hovertemplate\":\"method=pcg\\u003cbr\\u003esketch_fn=%{x}\\u003cbr\\u003en=2048\\u003cbr\\u003edeff=128\\u003cbr\\u003esum of time=%{y}\\u003cextra\\u003e\\u003c\\u002fextra\\u003e\",\"legendgroup\":\"pcg, gaussian\",\"marker\":{\"color\":\"#ab63fa\",\"pattern\":{\"shape\":\"\"}},\"name\":\"pcg, gaussian\",\"offsetgroup\":\"pcg, gaussian\",\"orientation\":\"v\",\"showlegend\":false,\"texttemplate\":\"%{value:.2s}\",\"x\":[\"gaussian\"],\"xaxis\":\"x8\",\"y\":[0.09219545900001927],\"yaxis\":\"y8\",\"type\":\"histogram\",\"cliponaxis\":false,\"textangle\":0,\"textposition\":\"outside\"},{\"alignmentgroup\":\"True\",\"bingroup\":\"x\",\"histfunc\":\"sum\",\"hovertemplate\":\"method=pcg\\u003cbr\\u003esketch_fn=%{x}\\u003cbr\\u003en=2048\\u003cbr\\u003edeff=256\\u003cbr\\u003esum of time=%{y}\\u003cextra\\u003e\\u003c\\u002fextra\\u003e\",\"legendgroup\":\"pcg, gaussian\",\"marker\":{\"color\":\"#ab63fa\",\"pattern\":{\"shape\":\"\"}},\"name\":\"pcg, gaussian\",\"offsetgroup\":\"pcg, gaussian\",\"orientation\":\"v\",\"showlegend\":false,\"texttemplate\":\"%{value:.2s}\",\"x\":[\"gaussian\"],\"xaxis\":\"x9\",\"y\":[0.09080098566664672],\"yaxis\":\"y9\",\"type\":\"histogram\",\"cliponaxis\":false,\"textangle\":0,\"textposition\":\"outside\"},{\"alignmentgroup\":\"True\",\"bingroup\":\"x\",\"histfunc\":\"sum\",\"hovertemplate\":\"method=pcg\\u003cbr\\u003esketch_fn=%{x}\\u003cbr\\u003en=2048\\u003cbr\\u003edeff=512\\u003cbr\\u003esum of time=%{y}\\u003cextra\\u003e\\u003c\\u002fextra\\u003e\",\"legendgroup\":\"pcg, gaussian\",\"marker\":{\"color\":\"#ab63fa\",\"pattern\":{\"shape\":\"\"}},\"name\":\"pcg, gaussian\",\"offsetgroup\":\"pcg, gaussian\",\"orientation\":\"v\",\"showlegend\":false,\"texttemplate\":\"%{value:.2s}\",\"x\":[\"gaussian\"],\"xaxis\":\"x10\",\"y\":[0.10045015900004728],\"yaxis\":\"y10\",\"type\":\"histogram\",\"cliponaxis\":false,\"textangle\":0,\"textposition\":\"outside\"},{\"alignmentgroup\":\"True\",\"bingroup\":\"x\",\"histfunc\":\"sum\",\"hovertemplate\":\"method=pcg\\u003cbr\\u003esketch_fn=%{x}\\u003cbr\\u003en=4096\\u003cbr\\u003edeff=32\\u003cbr\\u003esum of time=%{y}\\u003cextra\\u003e\\u003c\\u002fextra\\u003e\",\"legendgroup\":\"pcg, gaussian\",\"marker\":{\"color\":\"#ab63fa\",\"pattern\":{\"shape\":\"\"}},\"name\":\"pcg, gaussian\",\"offsetgroup\":\"pcg, gaussian\",\"orientation\":\"v\",\"showlegend\":false,\"texttemplate\":\"%{value:.2s}\",\"x\":[\"gaussian\"],\"xaxis\":\"x\",\"y\":[0.3134832603333658],\"yaxis\":\"y\",\"type\":\"histogram\",\"cliponaxis\":false,\"textangle\":0,\"textposition\":\"outside\"},{\"alignmentgroup\":\"True\",\"bingroup\":\"x\",\"histfunc\":\"sum\",\"hovertemplate\":\"method=pcg\\u003cbr\\u003esketch_fn=%{x}\\u003cbr\\u003en=4096\\u003cbr\\u003edeff=64\\u003cbr\\u003esum of time=%{y}\\u003cextra\\u003e\\u003c\\u002fextra\\u003e\",\"legendgroup\":\"pcg, gaussian\",\"marker\":{\"color\":\"#ab63fa\",\"pattern\":{\"shape\":\"\"}},\"name\":\"pcg, gaussian\",\"offsetgroup\":\"pcg, gaussian\",\"orientation\":\"v\",\"showlegend\":false,\"texttemplate\":\"%{value:.2s}\",\"x\":[\"gaussian\"],\"xaxis\":\"x2\",\"y\":[0.3149589246665224],\"yaxis\":\"y2\",\"type\":\"histogram\",\"cliponaxis\":false,\"textangle\":0,\"textposition\":\"outside\"},{\"alignmentgroup\":\"True\",\"bingroup\":\"x\",\"histfunc\":\"sum\",\"hovertemplate\":\"method=pcg\\u003cbr\\u003esketch_fn=%{x}\\u003cbr\\u003en=4096\\u003cbr\\u003edeff=128\\u003cbr\\u003esum of time=%{y}\\u003cextra\\u003e\\u003c\\u002fextra\\u003e\",\"legendgroup\":\"pcg, gaussian\",\"marker\":{\"color\":\"#ab63fa\",\"pattern\":{\"shape\":\"\"}},\"name\":\"pcg, gaussian\",\"offsetgroup\":\"pcg, gaussian\",\"orientation\":\"v\",\"showlegend\":false,\"texttemplate\":\"%{value:.2s}\",\"x\":[\"gaussian\"],\"xaxis\":\"x3\",\"y\":[0.3183921943333795],\"yaxis\":\"y3\",\"type\":\"histogram\",\"cliponaxis\":false,\"textangle\":0,\"textposition\":\"outside\"},{\"alignmentgroup\":\"True\",\"bingroup\":\"x\",\"histfunc\":\"sum\",\"hovertemplate\":\"method=pcg\\u003cbr\\u003esketch_fn=%{x}\\u003cbr\\u003en=4096\\u003cbr\\u003edeff=256\\u003cbr\\u003esum of time=%{y}\\u003cextra\\u003e\\u003c\\u002fextra\\u003e\",\"legendgroup\":\"pcg, gaussian\",\"marker\":{\"color\":\"#ab63fa\",\"pattern\":{\"shape\":\"\"}},\"name\":\"pcg, gaussian\",\"offsetgroup\":\"pcg, gaussian\",\"orientation\":\"v\",\"showlegend\":false,\"texttemplate\":\"%{value:.2s}\",\"x\":[\"gaussian\"],\"xaxis\":\"x4\",\"y\":[0.31854791700000834],\"yaxis\":\"y4\",\"type\":\"histogram\",\"cliponaxis\":false,\"textangle\":0,\"textposition\":\"outside\"},{\"alignmentgroup\":\"True\",\"bingroup\":\"x\",\"histfunc\":\"sum\",\"hovertemplate\":\"method=pcg\\u003cbr\\u003esketch_fn=%{x}\\u003cbr\\u003en=4096\\u003cbr\\u003edeff=512\\u003cbr\\u003esum of time=%{y}\\u003cextra\\u003e\\u003c\\u002fextra\\u003e\",\"legendgroup\":\"pcg, gaussian\",\"marker\":{\"color\":\"#ab63fa\",\"pattern\":{\"shape\":\"\"}},\"name\":\"pcg, gaussian\",\"offsetgroup\":\"pcg, gaussian\",\"orientation\":\"v\",\"showlegend\":false,\"texttemplate\":\"%{value:.2s}\",\"x\":[\"gaussian\"],\"xaxis\":\"x5\",\"y\":[0.3267514283334094],\"yaxis\":\"y5\",\"type\":\"histogram\",\"cliponaxis\":false,\"textangle\":0,\"textposition\":\"outside\"},{\"alignmentgroup\":\"True\",\"bingroup\":\"x\",\"histfunc\":\"sum\",\"hovertemplate\":\"method=pcg\\u003cbr\\u003esketch_fn=%{x}\\u003cbr\\u003en=2048\\u003cbr\\u003edeff=32\\u003cbr\\u003esum of time=%{y}\\u003cextra\\u003e\\u003c\\u002fextra\\u003e\",\"legendgroup\":\"pcg, sjlt\",\"marker\":{\"color\":\"#ab63fa\",\"pattern\":{\"shape\":\"\\u002f\"}},\"name\":\"pcg, sjlt\",\"offsetgroup\":\"pcg, sjlt\",\"orientation\":\"v\",\"showlegend\":true,\"texttemplate\":\"%{value:.2s}\",\"x\":[\"sjlt\"],\"xaxis\":\"x6\",\"y\":[0.05499013966671858],\"yaxis\":\"y6\",\"type\":\"histogram\",\"cliponaxis\":false,\"textangle\":0,\"textposition\":\"outside\"},{\"alignmentgroup\":\"True\",\"bingroup\":\"x\",\"histfunc\":\"sum\",\"hovertemplate\":\"method=pcg\\u003cbr\\u003esketch_fn=%{x}\\u003cbr\\u003en=2048\\u003cbr\\u003edeff=64\\u003cbr\\u003esum of time=%{y}\\u003cextra\\u003e\\u003c\\u002fextra\\u003e\",\"legendgroup\":\"pcg, sjlt\",\"marker\":{\"color\":\"#ab63fa\",\"pattern\":{\"shape\":\"\\u002f\"}},\"name\":\"pcg, sjlt\",\"offsetgroup\":\"pcg, sjlt\",\"orientation\":\"v\",\"showlegend\":false,\"texttemplate\":\"%{value:.2s}\",\"x\":[\"sjlt\"],\"xaxis\":\"x7\",\"y\":[0.03861654000009669],\"yaxis\":\"y7\",\"type\":\"histogram\",\"cliponaxis\":false,\"textangle\":0,\"textposition\":\"outside\"},{\"alignmentgroup\":\"True\",\"bingroup\":\"x\",\"histfunc\":\"sum\",\"hovertemplate\":\"method=pcg\\u003cbr\\u003esketch_fn=%{x}\\u003cbr\\u003en=2048\\u003cbr\\u003edeff=128\\u003cbr\\u003esum of time=%{y}\\u003cextra\\u003e\\u003c\\u002fextra\\u003e\",\"legendgroup\":\"pcg, sjlt\",\"marker\":{\"color\":\"#ab63fa\",\"pattern\":{\"shape\":\"\\u002f\"}},\"name\":\"pcg, sjlt\",\"offsetgroup\":\"pcg, sjlt\",\"orientation\":\"v\",\"showlegend\":false,\"texttemplate\":\"%{value:.2s}\",\"x\":[\"sjlt\"],\"xaxis\":\"x8\",\"y\":[0.047439388333335344],\"yaxis\":\"y8\",\"type\":\"histogram\",\"cliponaxis\":false,\"textangle\":0,\"textposition\":\"outside\"},{\"alignmentgroup\":\"True\",\"bingroup\":\"x\",\"histfunc\":\"sum\",\"hovertemplate\":\"method=pcg\\u003cbr\\u003esketch_fn=%{x}\\u003cbr\\u003en=2048\\u003cbr\\u003edeff=256\\u003cbr\\u003esum of time=%{y}\\u003cextra\\u003e\\u003c\\u002fextra\\u003e\",\"legendgroup\":\"pcg, sjlt\",\"marker\":{\"color\":\"#ab63fa\",\"pattern\":{\"shape\":\"\\u002f\"}},\"name\":\"pcg, sjlt\",\"offsetgroup\":\"pcg, sjlt\",\"orientation\":\"v\",\"showlegend\":false,\"texttemplate\":\"%{value:.2s}\",\"x\":[\"sjlt\"],\"xaxis\":\"x9\",\"y\":[0.04254936700006813],\"yaxis\":\"y9\",\"type\":\"histogram\",\"cliponaxis\":false,\"textangle\":0,\"textposition\":\"outside\"},{\"alignmentgroup\":\"True\",\"bingroup\":\"x\",\"histfunc\":\"sum\",\"hovertemplate\":\"method=pcg\\u003cbr\\u003esketch_fn=%{x}\\u003cbr\\u003en=2048\\u003cbr\\u003edeff=512\\u003cbr\\u003esum of time=%{y}\\u003cextra\\u003e\\u003c\\u002fextra\\u003e\",\"legendgroup\":\"pcg, sjlt\",\"marker\":{\"color\":\"#ab63fa\",\"pattern\":{\"shape\":\"\\u002f\"}},\"name\":\"pcg, sjlt\",\"offsetgroup\":\"pcg, sjlt\",\"orientation\":\"v\",\"showlegend\":false,\"texttemplate\":\"%{value:.2s}\",\"x\":[\"sjlt\"],\"xaxis\":\"x10\",\"y\":[0.061471247999937376],\"yaxis\":\"y10\",\"type\":\"histogram\",\"cliponaxis\":false,\"textangle\":0,\"textposition\":\"outside\"},{\"alignmentgroup\":\"True\",\"bingroup\":\"x\",\"histfunc\":\"sum\",\"hovertemplate\":\"method=pcg\\u003cbr\\u003esketch_fn=%{x}\\u003cbr\\u003en=4096\\u003cbr\\u003edeff=32\\u003cbr\\u003esum of time=%{y}\\u003cextra\\u003e\\u003c\\u002fextra\\u003e\",\"legendgroup\":\"pcg, sjlt\",\"marker\":{\"color\":\"#ab63fa\",\"pattern\":{\"shape\":\"\\u002f\"}},\"name\":\"pcg, sjlt\",\"offsetgroup\":\"pcg, sjlt\",\"orientation\":\"v\",\"showlegend\":false,\"texttemplate\":\"%{value:.2s}\",\"x\":[\"sjlt\"],\"xaxis\":\"x\",\"y\":[0.07372130033309077],\"yaxis\":\"y\",\"type\":\"histogram\",\"cliponaxis\":false,\"textangle\":0,\"textposition\":\"outside\"},{\"alignmentgroup\":\"True\",\"bingroup\":\"x\",\"histfunc\":\"sum\",\"hovertemplate\":\"method=pcg\\u003cbr\\u003esketch_fn=%{x}\\u003cbr\\u003en=4096\\u003cbr\\u003edeff=64\\u003cbr\\u003esum of time=%{y}\\u003cextra\\u003e\\u003c\\u002fextra\\u003e\",\"legendgroup\":\"pcg, sjlt\",\"marker\":{\"color\":\"#ab63fa\",\"pattern\":{\"shape\":\"\\u002f\"}},\"name\":\"pcg, sjlt\",\"offsetgroup\":\"pcg, sjlt\",\"orientation\":\"v\",\"showlegend\":false,\"texttemplate\":\"%{value:.2s}\",\"x\":[\"sjlt\"],\"xaxis\":\"x2\",\"y\":[0.07557207300002725],\"yaxis\":\"y2\",\"type\":\"histogram\",\"cliponaxis\":false,\"textangle\":0,\"textposition\":\"outside\"},{\"alignmentgroup\":\"True\",\"bingroup\":\"x\",\"histfunc\":\"sum\",\"hovertemplate\":\"method=pcg\\u003cbr\\u003esketch_fn=%{x}\\u003cbr\\u003en=4096\\u003cbr\\u003edeff=128\\u003cbr\\u003esum of time=%{y}\\u003cextra\\u003e\\u003c\\u002fextra\\u003e\",\"legendgroup\":\"pcg, sjlt\",\"marker\":{\"color\":\"#ab63fa\",\"pattern\":{\"shape\":\"\\u002f\"}},\"name\":\"pcg, sjlt\",\"offsetgroup\":\"pcg, sjlt\",\"orientation\":\"v\",\"showlegend\":false,\"texttemplate\":\"%{value:.2s}\",\"x\":[\"sjlt\"],\"xaxis\":\"x3\",\"y\":[0.07910036766649378],\"yaxis\":\"y3\",\"type\":\"histogram\",\"cliponaxis\":false,\"textangle\":0,\"textposition\":\"outside\"},{\"alignmentgroup\":\"True\",\"bingroup\":\"x\",\"histfunc\":\"sum\",\"hovertemplate\":\"method=pcg\\u003cbr\\u003esketch_fn=%{x}\\u003cbr\\u003en=4096\\u003cbr\\u003edeff=256\\u003cbr\\u003esum of time=%{y}\\u003cextra\\u003e\\u003c\\u002fextra\\u003e\",\"legendgroup\":\"pcg, sjlt\",\"marker\":{\"color\":\"#ab63fa\",\"pattern\":{\"shape\":\"\\u002f\"}},\"name\":\"pcg, sjlt\",\"offsetgroup\":\"pcg, sjlt\",\"orientation\":\"v\",\"showlegend\":false,\"texttemplate\":\"%{value:.2s}\",\"x\":[\"sjlt\"],\"xaxis\":\"x4\",\"y\":[0.08085998399989572],\"yaxis\":\"y4\",\"type\":\"histogram\",\"cliponaxis\":false,\"textangle\":0,\"textposition\":\"outside\"},{\"alignmentgroup\":\"True\",\"bingroup\":\"x\",\"histfunc\":\"sum\",\"hovertemplate\":\"method=pcg\\u003cbr\\u003esketch_fn=%{x}\\u003cbr\\u003en=4096\\u003cbr\\u003edeff=512\\u003cbr\\u003esum of time=%{y}\\u003cextra\\u003e\\u003c\\u002fextra\\u003e\",\"legendgroup\":\"pcg, sjlt\",\"marker\":{\"color\":\"#ab63fa\",\"pattern\":{\"shape\":\"\\u002f\"}},\"name\":\"pcg, sjlt\",\"offsetgroup\":\"pcg, sjlt\",\"orientation\":\"v\",\"showlegend\":false,\"texttemplate\":\"%{value:.2s}\",\"x\":[\"sjlt\"],\"xaxis\":\"x5\",\"y\":[0.09675769400018908],\"yaxis\":\"y5\",\"type\":\"histogram\",\"cliponaxis\":false,\"textangle\":0,\"textposition\":\"outside\"},{\"alignmentgroup\":\"True\",\"bingroup\":\"x\",\"histfunc\":\"sum\",\"hovertemplate\":\"method=pcg\\u003cbr\\u003esketch_fn=%{x}\\u003cbr\\u003en=2048\\u003cbr\\u003edeff=32\\u003cbr\\u003esum of time=%{y}\\u003cextra\\u003e\\u003c\\u002fextra\\u003e\",\"legendgroup\":\"pcg, srht\",\"marker\":{\"color\":\"#ab63fa\",\"pattern\":{\"shape\":\"\\\\\"}},\"name\":\"pcg, srht\",\"offsetgroup\":\"pcg, srht\",\"orientation\":\"v\",\"showlegend\":true,\"texttemplate\":\"%{value:.2s}\",\"x\":[\"srht\"],\"xaxis\":\"x6\",\"y\":[0.11679233666662488],\"yaxis\":\"y6\",\"type\":\"histogram\",\"cliponaxis\":false,\"textangle\":0,\"textposition\":\"outside\"},{\"alignmentgroup\":\"True\",\"bingroup\":\"x\",\"histfunc\":\"sum\",\"hovertemplate\":\"method=pcg\\u003cbr\\u003esketch_fn=%{x}\\u003cbr\\u003en=2048\\u003cbr\\u003edeff=64\\u003cbr\\u003esum of time=%{y}\\u003cextra\\u003e\\u003c\\u002fextra\\u003e\",\"legendgroup\":\"pcg, srht\",\"marker\":{\"color\":\"#ab63fa\",\"pattern\":{\"shape\":\"\\\\\"}},\"name\":\"pcg, srht\",\"offsetgroup\":\"pcg, srht\",\"orientation\":\"v\",\"showlegend\":false,\"texttemplate\":\"%{value:.2s}\",\"x\":[\"srht\"],\"xaxis\":\"x7\",\"y\":[0.0992177600000256],\"yaxis\":\"y7\",\"type\":\"histogram\",\"cliponaxis\":false,\"textangle\":0,\"textposition\":\"outside\"},{\"alignmentgroup\":\"True\",\"bingroup\":\"x\",\"histfunc\":\"sum\",\"hovertemplate\":\"method=pcg\\u003cbr\\u003esketch_fn=%{x}\\u003cbr\\u003en=2048\\u003cbr\\u003edeff=128\\u003cbr\\u003esum of time=%{y}\\u003cextra\\u003e\\u003c\\u002fextra\\u003e\",\"legendgroup\":\"pcg, srht\",\"marker\":{\"color\":\"#ab63fa\",\"pattern\":{\"shape\":\"\\\\\"}},\"name\":\"pcg, srht\",\"offsetgroup\":\"pcg, srht\",\"orientation\":\"v\",\"showlegend\":false,\"texttemplate\":\"%{value:.2s}\",\"x\":[\"srht\"],\"xaxis\":\"x8\",\"y\":[0.1079560063333247],\"yaxis\":\"y8\",\"type\":\"histogram\",\"cliponaxis\":false,\"textangle\":0,\"textposition\":\"outside\"},{\"alignmentgroup\":\"True\",\"bingroup\":\"x\",\"histfunc\":\"sum\",\"hovertemplate\":\"method=pcg\\u003cbr\\u003esketch_fn=%{x}\\u003cbr\\u003en=2048\\u003cbr\\u003edeff=256\\u003cbr\\u003esum of time=%{y}\\u003cextra\\u003e\\u003c\\u002fextra\\u003e\",\"legendgroup\":\"pcg, srht\",\"marker\":{\"color\":\"#ab63fa\",\"pattern\":{\"shape\":\"\\\\\"}},\"name\":\"pcg, srht\",\"offsetgroup\":\"pcg, srht\",\"orientation\":\"v\",\"showlegend\":false,\"texttemplate\":\"%{value:.2s}\",\"x\":[\"srht\"],\"xaxis\":\"x9\",\"y\":[0.09959567199992608],\"yaxis\":\"y9\",\"type\":\"histogram\",\"cliponaxis\":false,\"textangle\":0,\"textposition\":\"outside\"},{\"alignmentgroup\":\"True\",\"bingroup\":\"x\",\"histfunc\":\"sum\",\"hovertemplate\":\"method=pcg\\u003cbr\\u003esketch_fn=%{x}\\u003cbr\\u003en=2048\\u003cbr\\u003edeff=512\\u003cbr\\u003esum of time=%{y}\\u003cextra\\u003e\\u003c\\u002fextra\\u003e\",\"legendgroup\":\"pcg, srht\",\"marker\":{\"color\":\"#ab63fa\",\"pattern\":{\"shape\":\"\\\\\"}},\"name\":\"pcg, srht\",\"offsetgroup\":\"pcg, srht\",\"orientation\":\"v\",\"showlegend\":false,\"texttemplate\":\"%{value:.2s}\",\"x\":[\"srht\"],\"xaxis\":\"x10\",\"y\":[0.12835498799987968],\"yaxis\":\"y10\",\"type\":\"histogram\",\"cliponaxis\":false,\"textangle\":0,\"textposition\":\"outside\"},{\"alignmentgroup\":\"True\",\"bingroup\":\"x\",\"histfunc\":\"sum\",\"hovertemplate\":\"method=pcg\\u003cbr\\u003esketch_fn=%{x}\\u003cbr\\u003en=4096\\u003cbr\\u003edeff=32\\u003cbr\\u003esum of time=%{y}\\u003cextra\\u003e\\u003c\\u002fextra\\u003e\",\"legendgroup\":\"pcg, srht\",\"marker\":{\"color\":\"#ab63fa\",\"pattern\":{\"shape\":\"\\\\\"}},\"name\":\"pcg, srht\",\"offsetgroup\":\"pcg, srht\",\"orientation\":\"v\",\"showlegend\":false,\"texttemplate\":\"%{value:.2s}\",\"x\":[\"srht\"],\"xaxis\":\"x\",\"y\":[0.20987522500005676],\"yaxis\":\"y\",\"type\":\"histogram\",\"cliponaxis\":false,\"textangle\":0,\"textposition\":\"outside\"},{\"alignmentgroup\":\"True\",\"bingroup\":\"x\",\"histfunc\":\"sum\",\"hovertemplate\":\"method=pcg\\u003cbr\\u003esketch_fn=%{x}\\u003cbr\\u003en=4096\\u003cbr\\u003edeff=64\\u003cbr\\u003esum of time=%{y}\\u003cextra\\u003e\\u003c\\u002fextra\\u003e\",\"legendgroup\":\"pcg, srht\",\"marker\":{\"color\":\"#ab63fa\",\"pattern\":{\"shape\":\"\\\\\"}},\"name\":\"pcg, srht\",\"offsetgroup\":\"pcg, srht\",\"orientation\":\"v\",\"showlegend\":false,\"texttemplate\":\"%{value:.2s}\",\"x\":[\"srht\"],\"xaxis\":\"x2\",\"y\":[0.21157050966667154],\"yaxis\":\"y2\",\"type\":\"histogram\",\"cliponaxis\":false,\"textangle\":0,\"textposition\":\"outside\"},{\"alignmentgroup\":\"True\",\"bingroup\":\"x\",\"histfunc\":\"sum\",\"hovertemplate\":\"method=pcg\\u003cbr\\u003esketch_fn=%{x}\\u003cbr\\u003en=4096\\u003cbr\\u003edeff=128\\u003cbr\\u003esum of time=%{y}\\u003cextra\\u003e\\u003c\\u002fextra\\u003e\",\"legendgroup\":\"pcg, srht\",\"marker\":{\"color\":\"#ab63fa\",\"pattern\":{\"shape\":\"\\\\\"}},\"name\":\"pcg, srht\",\"offsetgroup\":\"pcg, srht\",\"orientation\":\"v\",\"showlegend\":false,\"texttemplate\":\"%{value:.2s}\",\"x\":[\"srht\"],\"xaxis\":\"x3\",\"y\":[0.21103746133364135],\"yaxis\":\"y3\",\"type\":\"histogram\",\"cliponaxis\":false,\"textangle\":0,\"textposition\":\"outside\"},{\"alignmentgroup\":\"True\",\"bingroup\":\"x\",\"histfunc\":\"sum\",\"hovertemplate\":\"method=pcg\\u003cbr\\u003esketch_fn=%{x}\\u003cbr\\u003en=4096\\u003cbr\\u003edeff=256\\u003cbr\\u003esum of time=%{y}\\u003cextra\\u003e\\u003c\\u002fextra\\u003e\",\"legendgroup\":\"pcg, srht\",\"marker\":{\"color\":\"#ab63fa\",\"pattern\":{\"shape\":\"\\\\\"}},\"name\":\"pcg, srht\",\"offsetgroup\":\"pcg, srht\",\"orientation\":\"v\",\"showlegend\":false,\"texttemplate\":\"%{value:.2s}\",\"x\":[\"srht\"],\"xaxis\":\"x4\",\"y\":[0.21375004733363312],\"yaxis\":\"y4\",\"type\":\"histogram\",\"cliponaxis\":false,\"textangle\":0,\"textposition\":\"outside\"},{\"alignmentgroup\":\"True\",\"bingroup\":\"x\",\"histfunc\":\"sum\",\"hovertemplate\":\"method=pcg\\u003cbr\\u003esketch_fn=%{x}\\u003cbr\\u003en=4096\\u003cbr\\u003edeff=512\\u003cbr\\u003esum of time=%{y}\\u003cextra\\u003e\\u003c\\u002fextra\\u003e\",\"legendgroup\":\"pcg, srht\",\"marker\":{\"color\":\"#ab63fa\",\"pattern\":{\"shape\":\"\\\\\"}},\"name\":\"pcg, srht\",\"offsetgroup\":\"pcg, srht\",\"orientation\":\"v\",\"showlegend\":false,\"texttemplate\":\"%{value:.2s}\",\"x\":[\"srht\"],\"xaxis\":\"x5\",\"y\":[0.2234262766666385],\"yaxis\":\"y5\",\"type\":\"histogram\",\"cliponaxis\":false,\"textangle\":0,\"textposition\":\"outside\"}],                        {\"template\":{\"data\":{\"histogram2dcontour\":[{\"type\":\"histogram2dcontour\",\"colorbar\":{\"outlinewidth\":0,\"ticks\":\"\"},\"colorscale\":[[0.0,\"#0d0887\"],[0.1111111111111111,\"#46039f\"],[0.2222222222222222,\"#7201a8\"],[0.3333333333333333,\"#9c179e\"],[0.4444444444444444,\"#bd3786\"],[0.5555555555555556,\"#d8576b\"],[0.6666666666666666,\"#ed7953\"],[0.7777777777777778,\"#fb9f3a\"],[0.8888888888888888,\"#fdca26\"],[1.0,\"#f0f921\"]]}],\"choropleth\":[{\"type\":\"choropleth\",\"colorbar\":{\"outlinewidth\":0,\"ticks\":\"\"}}],\"histogram2d\":[{\"type\":\"histogram2d\",\"colorbar\":{\"outlinewidth\":0,\"ticks\":\"\"},\"colorscale\":[[0.0,\"#0d0887\"],[0.1111111111111111,\"#46039f\"],[0.2222222222222222,\"#7201a8\"],[0.3333333333333333,\"#9c179e\"],[0.4444444444444444,\"#bd3786\"],[0.5555555555555556,\"#d8576b\"],[0.6666666666666666,\"#ed7953\"],[0.7777777777777778,\"#fb9f3a\"],[0.8888888888888888,\"#fdca26\"],[1.0,\"#f0f921\"]]}],\"heatmap\":[{\"type\":\"heatmap\",\"colorbar\":{\"outlinewidth\":0,\"ticks\":\"\"},\"colorscale\":[[0.0,\"#0d0887\"],[0.1111111111111111,\"#46039f\"],[0.2222222222222222,\"#7201a8\"],[0.3333333333333333,\"#9c179e\"],[0.4444444444444444,\"#bd3786\"],[0.5555555555555556,\"#d8576b\"],[0.6666666666666666,\"#ed7953\"],[0.7777777777777778,\"#fb9f3a\"],[0.8888888888888888,\"#fdca26\"],[1.0,\"#f0f921\"]]}],\"heatmapgl\":[{\"type\":\"heatmapgl\",\"colorbar\":{\"outlinewidth\":0,\"ticks\":\"\"},\"colorscale\":[[0.0,\"#0d0887\"],[0.1111111111111111,\"#46039f\"],[0.2222222222222222,\"#7201a8\"],[0.3333333333333333,\"#9c179e\"],[0.4444444444444444,\"#bd3786\"],[0.5555555555555556,\"#d8576b\"],[0.6666666666666666,\"#ed7953\"],[0.7777777777777778,\"#fb9f3a\"],[0.8888888888888888,\"#fdca26\"],[1.0,\"#f0f921\"]]}],\"contourcarpet\":[{\"type\":\"contourcarpet\",\"colorbar\":{\"outlinewidth\":0,\"ticks\":\"\"}}],\"contour\":[{\"type\":\"contour\",\"colorbar\":{\"outlinewidth\":0,\"ticks\":\"\"},\"colorscale\":[[0.0,\"#0d0887\"],[0.1111111111111111,\"#46039f\"],[0.2222222222222222,\"#7201a8\"],[0.3333333333333333,\"#9c179e\"],[0.4444444444444444,\"#bd3786\"],[0.5555555555555556,\"#d8576b\"],[0.6666666666666666,\"#ed7953\"],[0.7777777777777778,\"#fb9f3a\"],[0.8888888888888888,\"#fdca26\"],[1.0,\"#f0f921\"]]}],\"surface\":[{\"type\":\"surface\",\"colorbar\":{\"outlinewidth\":0,\"ticks\":\"\"},\"colorscale\":[[0.0,\"#0d0887\"],[0.1111111111111111,\"#46039f\"],[0.2222222222222222,\"#7201a8\"],[0.3333333333333333,\"#9c179e\"],[0.4444444444444444,\"#bd3786\"],[0.5555555555555556,\"#d8576b\"],[0.6666666666666666,\"#ed7953\"],[0.7777777777777778,\"#fb9f3a\"],[0.8888888888888888,\"#fdca26\"],[1.0,\"#f0f921\"]]}],\"mesh3d\":[{\"type\":\"mesh3d\",\"colorbar\":{\"outlinewidth\":0,\"ticks\":\"\"}}],\"scatter\":[{\"fillpattern\":{\"fillmode\":\"overlay\",\"size\":10,\"solidity\":0.2},\"type\":\"scatter\"}],\"parcoords\":[{\"type\":\"parcoords\",\"line\":{\"colorbar\":{\"outlinewidth\":0,\"ticks\":\"\"}}}],\"scatterpolargl\":[{\"type\":\"scatterpolargl\",\"marker\":{\"colorbar\":{\"outlinewidth\":0,\"ticks\":\"\"}}}],\"bar\":[{\"error_x\":{\"color\":\"#2a3f5f\"},\"error_y\":{\"color\":\"#2a3f5f\"},\"marker\":{\"line\":{\"color\":\"#E5ECF6\",\"width\":0.5},\"pattern\":{\"fillmode\":\"overlay\",\"size\":10,\"solidity\":0.2}},\"type\":\"bar\"}],\"scattergeo\":[{\"type\":\"scattergeo\",\"marker\":{\"colorbar\":{\"outlinewidth\":0,\"ticks\":\"\"}}}],\"scatterpolar\":[{\"type\":\"scatterpolar\",\"marker\":{\"colorbar\":{\"outlinewidth\":0,\"ticks\":\"\"}}}],\"histogram\":[{\"marker\":{\"pattern\":{\"fillmode\":\"overlay\",\"size\":10,\"solidity\":0.2}},\"type\":\"histogram\"}],\"scattergl\":[{\"type\":\"scattergl\",\"marker\":{\"colorbar\":{\"outlinewidth\":0,\"ticks\":\"\"}}}],\"scatter3d\":[{\"type\":\"scatter3d\",\"line\":{\"colorbar\":{\"outlinewidth\":0,\"ticks\":\"\"}},\"marker\":{\"colorbar\":{\"outlinewidth\":0,\"ticks\":\"\"}}}],\"scattermapbox\":[{\"type\":\"scattermapbox\",\"marker\":{\"colorbar\":{\"outlinewidth\":0,\"ticks\":\"\"}}}],\"scatterternary\":[{\"type\":\"scatterternary\",\"marker\":{\"colorbar\":{\"outlinewidth\":0,\"ticks\":\"\"}}}],\"scattercarpet\":[{\"type\":\"scattercarpet\",\"marker\":{\"colorbar\":{\"outlinewidth\":0,\"ticks\":\"\"}}}],\"carpet\":[{\"aaxis\":{\"endlinecolor\":\"#2a3f5f\",\"gridcolor\":\"white\",\"linecolor\":\"white\",\"minorgridcolor\":\"white\",\"startlinecolor\":\"#2a3f5f\"},\"baxis\":{\"endlinecolor\":\"#2a3f5f\",\"gridcolor\":\"white\",\"linecolor\":\"white\",\"minorgridcolor\":\"white\",\"startlinecolor\":\"#2a3f5f\"},\"type\":\"carpet\"}],\"table\":[{\"cells\":{\"fill\":{\"color\":\"#EBF0F8\"},\"line\":{\"color\":\"white\"}},\"header\":{\"fill\":{\"color\":\"#C8D4E3\"},\"line\":{\"color\":\"white\"}},\"type\":\"table\"}],\"barpolar\":[{\"marker\":{\"line\":{\"color\":\"#E5ECF6\",\"width\":0.5},\"pattern\":{\"fillmode\":\"overlay\",\"size\":10,\"solidity\":0.2}},\"type\":\"barpolar\"}],\"pie\":[{\"automargin\":true,\"type\":\"pie\"}]},\"layout\":{\"autotypenumbers\":\"strict\",\"colorway\":[\"#636efa\",\"#EF553B\",\"#00cc96\",\"#ab63fa\",\"#FFA15A\",\"#19d3f3\",\"#FF6692\",\"#B6E880\",\"#FF97FF\",\"#FECB52\"],\"font\":{\"color\":\"#2a3f5f\"},\"hovermode\":\"closest\",\"hoverlabel\":{\"align\":\"left\"},\"paper_bgcolor\":\"white\",\"plot_bgcolor\":\"#E5ECF6\",\"polar\":{\"bgcolor\":\"#E5ECF6\",\"angularaxis\":{\"gridcolor\":\"white\",\"linecolor\":\"white\",\"ticks\":\"\"},\"radialaxis\":{\"gridcolor\":\"white\",\"linecolor\":\"white\",\"ticks\":\"\"}},\"ternary\":{\"bgcolor\":\"#E5ECF6\",\"aaxis\":{\"gridcolor\":\"white\",\"linecolor\":\"white\",\"ticks\":\"\"},\"baxis\":{\"gridcolor\":\"white\",\"linecolor\":\"white\",\"ticks\":\"\"},\"caxis\":{\"gridcolor\":\"white\",\"linecolor\":\"white\",\"ticks\":\"\"}},\"coloraxis\":{\"colorbar\":{\"outlinewidth\":0,\"ticks\":\"\"}},\"colorscale\":{\"sequential\":[[0.0,\"#0d0887\"],[0.1111111111111111,\"#46039f\"],[0.2222222222222222,\"#7201a8\"],[0.3333333333333333,\"#9c179e\"],[0.4444444444444444,\"#bd3786\"],[0.5555555555555556,\"#d8576b\"],[0.6666666666666666,\"#ed7953\"],[0.7777777777777778,\"#fb9f3a\"],[0.8888888888888888,\"#fdca26\"],[1.0,\"#f0f921\"]],\"sequentialminus\":[[0.0,\"#0d0887\"],[0.1111111111111111,\"#46039f\"],[0.2222222222222222,\"#7201a8\"],[0.3333333333333333,\"#9c179e\"],[0.4444444444444444,\"#bd3786\"],[0.5555555555555556,\"#d8576b\"],[0.6666666666666666,\"#ed7953\"],[0.7777777777777778,\"#fb9f3a\"],[0.8888888888888888,\"#fdca26\"],[1.0,\"#f0f921\"]],\"diverging\":[[0,\"#8e0152\"],[0.1,\"#c51b7d\"],[0.2,\"#de77ae\"],[0.3,\"#f1b6da\"],[0.4,\"#fde0ef\"],[0.5,\"#f7f7f7\"],[0.6,\"#e6f5d0\"],[0.7,\"#b8e186\"],[0.8,\"#7fbc41\"],[0.9,\"#4d9221\"],[1,\"#276419\"]]},\"xaxis\":{\"gridcolor\":\"white\",\"linecolor\":\"white\",\"ticks\":\"\",\"title\":{\"standoff\":15},\"zerolinecolor\":\"white\",\"automargin\":true,\"zerolinewidth\":2},\"yaxis\":{\"gridcolor\":\"white\",\"linecolor\":\"white\",\"ticks\":\"\",\"title\":{\"standoff\":15},\"zerolinecolor\":\"white\",\"automargin\":true,\"zerolinewidth\":2},\"scene\":{\"xaxis\":{\"backgroundcolor\":\"#E5ECF6\",\"gridcolor\":\"white\",\"linecolor\":\"white\",\"showbackground\":true,\"ticks\":\"\",\"zerolinecolor\":\"white\",\"gridwidth\":2},\"yaxis\":{\"backgroundcolor\":\"#E5ECF6\",\"gridcolor\":\"white\",\"linecolor\":\"white\",\"showbackground\":true,\"ticks\":\"\",\"zerolinecolor\":\"white\",\"gridwidth\":2},\"zaxis\":{\"backgroundcolor\":\"#E5ECF6\",\"gridcolor\":\"white\",\"linecolor\":\"white\",\"showbackground\":true,\"ticks\":\"\",\"zerolinecolor\":\"white\",\"gridwidth\":2}},\"shapedefaults\":{\"line\":{\"color\":\"#2a3f5f\"}},\"annotationdefaults\":{\"arrowcolor\":\"#2a3f5f\",\"arrowhead\":0,\"arrowwidth\":1},\"geo\":{\"bgcolor\":\"white\",\"landcolor\":\"#E5ECF6\",\"subunitcolor\":\"white\",\"showland\":true,\"showlakes\":true,\"lakecolor\":\"white\"},\"title\":{\"x\":0.05},\"mapbox\":{\"style\":\"light\"}}},\"xaxis\":{\"anchor\":\"y\",\"domain\":[0.0,0.18000000000000002],\"title\":{\"text\":\"sketch_fn\"},\"categoryorder\":\"array\",\"categoryarray\":[\"gaussian\",\"sjlt\",\"srht\",\"none\"]},\"yaxis\":{\"anchor\":\"x\",\"domain\":[0.0,0.485],\"title\":{\"text\":\"sum of time\"}},\"xaxis2\":{\"anchor\":\"y2\",\"domain\":[0.2,0.38],\"matches\":\"x\",\"title\":{\"text\":\"sketch_fn\"},\"categoryorder\":\"array\",\"categoryarray\":[\"gaussian\",\"sjlt\",\"srht\",\"none\"]},\"yaxis2\":{\"anchor\":\"x2\",\"domain\":[0.0,0.485],\"matches\":\"y\",\"showticklabels\":false},\"xaxis3\":{\"anchor\":\"y3\",\"domain\":[0.4,0.5800000000000001],\"matches\":\"x\",\"title\":{\"text\":\"sketch_fn\"},\"categoryorder\":\"array\",\"categoryarray\":[\"gaussian\",\"sjlt\",\"srht\",\"none\"]},\"yaxis3\":{\"anchor\":\"x3\",\"domain\":[0.0,0.485],\"matches\":\"y\",\"showticklabels\":false},\"xaxis4\":{\"anchor\":\"y4\",\"domain\":[0.6000000000000001,0.7800000000000001],\"matches\":\"x\",\"title\":{\"text\":\"sketch_fn\"},\"categoryorder\":\"array\",\"categoryarray\":[\"gaussian\",\"sjlt\",\"srht\",\"none\"]},\"yaxis4\":{\"anchor\":\"x4\",\"domain\":[0.0,0.485],\"matches\":\"y\",\"showticklabels\":false},\"xaxis5\":{\"anchor\":\"y5\",\"domain\":[0.8,0.9800000000000001],\"matches\":\"x\",\"title\":{\"text\":\"sketch_fn\"},\"categoryorder\":\"array\",\"categoryarray\":[\"gaussian\",\"sjlt\",\"srht\",\"none\"]},\"yaxis5\":{\"anchor\":\"x5\",\"domain\":[0.0,0.485],\"matches\":\"y\",\"showticklabels\":false},\"xaxis6\":{\"anchor\":\"y6\",\"domain\":[0.0,0.18000000000000002],\"matches\":\"x\",\"showticklabels\":false},\"yaxis6\":{\"anchor\":\"x6\",\"domain\":[0.515,1.0],\"matches\":\"y\",\"title\":{\"text\":\"sum of time\"}},\"xaxis7\":{\"anchor\":\"y7\",\"domain\":[0.2,0.38],\"matches\":\"x\",\"showticklabels\":false},\"yaxis7\":{\"anchor\":\"x7\",\"domain\":[0.515,1.0],\"matches\":\"y\",\"showticklabels\":false},\"xaxis8\":{\"anchor\":\"y8\",\"domain\":[0.4,0.5800000000000001],\"matches\":\"x\",\"showticklabels\":false},\"yaxis8\":{\"anchor\":\"x8\",\"domain\":[0.515,1.0],\"matches\":\"y\",\"showticklabels\":false},\"xaxis9\":{\"anchor\":\"y9\",\"domain\":[0.6000000000000001,0.7800000000000001],\"matches\":\"x\",\"showticklabels\":false},\"yaxis9\":{\"anchor\":\"x9\",\"domain\":[0.515,1.0],\"matches\":\"y\",\"showticklabels\":false},\"xaxis10\":{\"anchor\":\"y10\",\"domain\":[0.8,0.9800000000000001],\"matches\":\"x\",\"showticklabels\":false},\"yaxis10\":{\"anchor\":\"x10\",\"domain\":[0.515,1.0],\"matches\":\"y\",\"showticklabels\":false},\"annotations\":[{\"font\":{},\"showarrow\":false,\"text\":\"deff=32\",\"x\":0.09000000000000001,\"xanchor\":\"center\",\"xref\":\"paper\",\"y\":1.0,\"yanchor\":\"bottom\",\"yref\":\"paper\"},{\"font\":{},\"showarrow\":false,\"text\":\"deff=64\",\"x\":0.29000000000000004,\"xanchor\":\"center\",\"xref\":\"paper\",\"y\":1.0,\"yanchor\":\"bottom\",\"yref\":\"paper\"},{\"font\":{},\"showarrow\":false,\"text\":\"deff=128\",\"x\":0.49000000000000005,\"xanchor\":\"center\",\"xref\":\"paper\",\"y\":1.0,\"yanchor\":\"bottom\",\"yref\":\"paper\"},{\"font\":{},\"showarrow\":false,\"text\":\"deff=256\",\"x\":0.6900000000000002,\"xanchor\":\"center\",\"xref\":\"paper\",\"y\":1.0,\"yanchor\":\"bottom\",\"yref\":\"paper\"},{\"font\":{},\"showarrow\":false,\"text\":\"deff=512\",\"x\":0.8900000000000001,\"xanchor\":\"center\",\"xref\":\"paper\",\"y\":1.0,\"yanchor\":\"bottom\",\"yref\":\"paper\"},{\"font\":{},\"showarrow\":false,\"text\":\"n=4096\",\"textangle\":90,\"x\":0.9800000000000001,\"xanchor\":\"left\",\"xref\":\"paper\",\"y\":0.2425,\"yanchor\":\"middle\",\"yref\":\"paper\"},{\"font\":{},\"showarrow\":false,\"text\":\"n=2048\",\"textangle\":90,\"x\":0.9800000000000001,\"xanchor\":\"left\",\"xref\":\"paper\",\"y\":0.7575000000000001,\"yanchor\":\"middle\",\"yref\":\"paper\"}],\"legend\":{\"title\":{\"text\":\"method, sketch_fn\"},\"tracegroupgap\":0},\"margin\":{\"t\":60},\"barmode\":\"group\",\"height\":700},                        {\"responsive\": true}                    ).then(function(){\n",
       "                            \n",
       "var gd = document.getElementById('2fd93950-aedb-4806-bf26-e260e0bd7d3c');\n",
       "var x = new MutationObserver(function (mutations, observer) {{\n",
       "        var display = window.getComputedStyle(gd).display;\n",
       "        if (!display || display === 'none') {{\n",
       "            console.log([gd, 'removed!']);\n",
       "            Plotly.purge(gd);\n",
       "            observer.disconnect();\n",
       "        }}\n",
       "}});\n",
       "\n",
       "// Listen for the removal of the full notebook cells\n",
       "var notebookContainer = gd.closest('#notebook-container');\n",
       "if (notebookContainer) {{\n",
       "    x.observe(notebookContainer, {childList: true});\n",
       "}}\n",
       "\n",
       "// Listen for the clearing of the current output cell\n",
       "var outputEl = gd.closest('.output');\n",
       "if (outputEl) {{\n",
       "    x.observe(outputEl, {childList: true});\n",
       "}}\n",
       "\n",
       "                        })                };                });            </script>        </div>"
      ]
     },
     "metadata": {},
     "output_type": "display_data"
    },
    {
     "name": "stdout",
     "output_type": "stream",
     "text": [
      "d=1024\n"
     ]
    },
    {
     "data": {
      "application/vnd.plotly.v1+json": {
       "config": {
        "plotlyServerURL": "https://plot.ly"
       },
       "data": [
        {
         "alignmentgroup": "True",
         "bingroup": "x",
         "cliponaxis": false,
         "histfunc": "sum",
         "hovertemplate": "method=adacg<br>sketch_fn=%{x}<br>n=2048<br>deff=32<br>sum of time=%{y}<extra></extra>",
         "legendgroup": "adacg, gaussian",
         "marker": {
          "color": "#636efa",
          "pattern": {
           "shape": ""
          }
         },
         "name": "adacg, gaussian",
         "offsetgroup": "adacg, gaussian",
         "orientation": "v",
         "showlegend": true,
         "textangle": 0,
         "textposition": "outside",
         "texttemplate": "%{value:.2s}",
         "type": "histogram",
         "x": [
          "gaussian"
         ],
         "xaxis": "x7",
         "y": [
          0.09714892466687766
         ],
         "yaxis": "y7"
        },
        {
         "alignmentgroup": "True",
         "bingroup": "x",
         "cliponaxis": false,
         "histfunc": "sum",
         "hovertemplate": "method=adacg<br>sketch_fn=%{x}<br>n=2048<br>deff=64<br>sum of time=%{y}<extra></extra>",
         "legendgroup": "adacg, gaussian",
         "marker": {
          "color": "#636efa",
          "pattern": {
           "shape": ""
          }
         },
         "name": "adacg, gaussian",
         "offsetgroup": "adacg, gaussian",
         "orientation": "v",
         "showlegend": false,
         "textangle": 0,
         "textposition": "outside",
         "texttemplate": "%{value:.2s}",
         "type": "histogram",
         "x": [
          "gaussian"
         ],
         "xaxis": "x8",
         "y": [
          0.10881390199998955
         ],
         "yaxis": "y8"
        },
        {
         "alignmentgroup": "True",
         "bingroup": "x",
         "cliponaxis": false,
         "histfunc": "sum",
         "hovertemplate": "method=adacg<br>sketch_fn=%{x}<br>n=2048<br>deff=128<br>sum of time=%{y}<extra></extra>",
         "legendgroup": "adacg, gaussian",
         "marker": {
          "color": "#636efa",
          "pattern": {
           "shape": ""
          }
         },
         "name": "adacg, gaussian",
         "offsetgroup": "adacg, gaussian",
         "orientation": "v",
         "showlegend": false,
         "textangle": 0,
         "textposition": "outside",
         "texttemplate": "%{value:.2s}",
         "type": "histogram",
         "x": [
          "gaussian"
         ],
         "xaxis": "x9",
         "y": [
          0.08897842866660235
         ],
         "yaxis": "y9"
        },
        {
         "alignmentgroup": "True",
         "bingroup": "x",
         "cliponaxis": false,
         "histfunc": "sum",
         "hovertemplate": "method=adacg<br>sketch_fn=%{x}<br>n=2048<br>deff=256<br>sum of time=%{y}<extra></extra>",
         "legendgroup": "adacg, gaussian",
         "marker": {
          "color": "#636efa",
          "pattern": {
           "shape": ""
          }
         },
         "name": "adacg, gaussian",
         "offsetgroup": "adacg, gaussian",
         "orientation": "v",
         "showlegend": false,
         "textangle": 0,
         "textposition": "outside",
         "texttemplate": "%{value:.2s}",
         "type": "histogram",
         "x": [
          "gaussian"
         ],
         "xaxis": "x10",
         "y": [
          0.13095803933356365
         ],
         "yaxis": "y10"
        },
        {
         "alignmentgroup": "True",
         "bingroup": "x",
         "cliponaxis": false,
         "histfunc": "sum",
         "hovertemplate": "method=adacg<br>sketch_fn=%{x}<br>n=2048<br>deff=512<br>sum of time=%{y}<extra></extra>",
         "legendgroup": "adacg, gaussian",
         "marker": {
          "color": "#636efa",
          "pattern": {
           "shape": ""
          }
         },
         "name": "adacg, gaussian",
         "offsetgroup": "adacg, gaussian",
         "orientation": "v",
         "showlegend": false,
         "textangle": 0,
         "textposition": "outside",
         "texttemplate": "%{value:.2s}",
         "type": "histogram",
         "x": [
          "gaussian"
         ],
         "xaxis": "x11",
         "y": [
          0.13345072766651356
         ],
         "yaxis": "y11"
        },
        {
         "alignmentgroup": "True",
         "bingroup": "x",
         "cliponaxis": false,
         "histfunc": "sum",
         "hovertemplate": "method=adacg<br>sketch_fn=%{x}<br>n=2048<br>deff=1024<br>sum of time=%{y}<extra></extra>",
         "legendgroup": "adacg, gaussian",
         "marker": {
          "color": "#636efa",
          "pattern": {
           "shape": ""
          }
         },
         "name": "adacg, gaussian",
         "offsetgroup": "adacg, gaussian",
         "orientation": "v",
         "showlegend": false,
         "textangle": 0,
         "textposition": "outside",
         "texttemplate": "%{value:.2s}",
         "type": "histogram",
         "x": [
          "gaussian"
         ],
         "xaxis": "x12",
         "y": [
          0.13277800733339973
         ],
         "yaxis": "y12"
        },
        {
         "alignmentgroup": "True",
         "bingroup": "x",
         "cliponaxis": false,
         "histfunc": "sum",
         "hovertemplate": "method=adacg<br>sketch_fn=%{x}<br>n=4096<br>deff=32<br>sum of time=%{y}<extra></extra>",
         "legendgroup": "adacg, gaussian",
         "marker": {
          "color": "#636efa",
          "pattern": {
           "shape": ""
          }
         },
         "name": "adacg, gaussian",
         "offsetgroup": "adacg, gaussian",
         "orientation": "v",
         "showlegend": false,
         "textangle": 0,
         "textposition": "outside",
         "texttemplate": "%{value:.2s}",
         "type": "histogram",
         "x": [
          "gaussian"
         ],
         "xaxis": "x",
         "y": [
          0.13389760200031256
         ],
         "yaxis": "y"
        },
        {
         "alignmentgroup": "True",
         "bingroup": "x",
         "cliponaxis": false,
         "histfunc": "sum",
         "hovertemplate": "method=adacg<br>sketch_fn=%{x}<br>n=4096<br>deff=64<br>sum of time=%{y}<extra></extra>",
         "legendgroup": "adacg, gaussian",
         "marker": {
          "color": "#636efa",
          "pattern": {
           "shape": ""
          }
         },
         "name": "adacg, gaussian",
         "offsetgroup": "adacg, gaussian",
         "orientation": "v",
         "showlegend": false,
         "textangle": 0,
         "textposition": "outside",
         "texttemplate": "%{value:.2s}",
         "type": "histogram",
         "x": [
          "gaussian"
         ],
         "xaxis": "x2",
         "y": [
          0.15965624966702308
         ],
         "yaxis": "y2"
        },
        {
         "alignmentgroup": "True",
         "bingroup": "x",
         "cliponaxis": false,
         "histfunc": "sum",
         "hovertemplate": "method=adacg<br>sketch_fn=%{x}<br>n=4096<br>deff=128<br>sum of time=%{y}<extra></extra>",
         "legendgroup": "adacg, gaussian",
         "marker": {
          "color": "#636efa",
          "pattern": {
           "shape": ""
          }
         },
         "name": "adacg, gaussian",
         "offsetgroup": "adacg, gaussian",
         "orientation": "v",
         "showlegend": false,
         "textangle": 0,
         "textposition": "outside",
         "texttemplate": "%{value:.2s}",
         "type": "histogram",
         "x": [
          "gaussian"
         ],
         "xaxis": "x3",
         "y": [
          0.2380721079989598
         ],
         "yaxis": "y3"
        },
        {
         "alignmentgroup": "True",
         "bingroup": "x",
         "cliponaxis": false,
         "histfunc": "sum",
         "hovertemplate": "method=adacg<br>sketch_fn=%{x}<br>n=4096<br>deff=256<br>sum of time=%{y}<extra></extra>",
         "legendgroup": "adacg, gaussian",
         "marker": {
          "color": "#636efa",
          "pattern": {
           "shape": ""
          }
         },
         "name": "adacg, gaussian",
         "offsetgroup": "adacg, gaussian",
         "orientation": "v",
         "showlegend": false,
         "textangle": 0,
         "textposition": "outside",
         "texttemplate": "%{value:.2s}",
         "type": "histogram",
         "x": [
          "gaussian"
         ],
         "xaxis": "x4",
         "y": [
          0.2470567813325033
         ],
         "yaxis": "y4"
        },
        {
         "alignmentgroup": "True",
         "bingroup": "x",
         "cliponaxis": false,
         "histfunc": "sum",
         "hovertemplate": "method=adacg<br>sketch_fn=%{x}<br>n=4096<br>deff=512<br>sum of time=%{y}<extra></extra>",
         "legendgroup": "adacg, gaussian",
         "marker": {
          "color": "#636efa",
          "pattern": {
           "shape": ""
          }
         },
         "name": "adacg, gaussian",
         "offsetgroup": "adacg, gaussian",
         "orientation": "v",
         "showlegend": false,
         "textangle": 0,
         "textposition": "outside",
         "texttemplate": "%{value:.2s}",
         "type": "histogram",
         "x": [
          "gaussian"
         ],
         "xaxis": "x5",
         "y": [
          0.23907847766652895
         ],
         "yaxis": "y5"
        },
        {
         "alignmentgroup": "True",
         "bingroup": "x",
         "cliponaxis": false,
         "histfunc": "sum",
         "hovertemplate": "method=adacg<br>sketch_fn=%{x}<br>n=4096<br>deff=1024<br>sum of time=%{y}<extra></extra>",
         "legendgroup": "adacg, gaussian",
         "marker": {
          "color": "#636efa",
          "pattern": {
           "shape": ""
          }
         },
         "name": "adacg, gaussian",
         "offsetgroup": "adacg, gaussian",
         "orientation": "v",
         "showlegend": false,
         "textangle": 0,
         "textposition": "outside",
         "texttemplate": "%{value:.2s}",
         "type": "histogram",
         "x": [
          "gaussian"
         ],
         "xaxis": "x6",
         "y": [
          0.2446185993333832
         ],
         "yaxis": "y6"
        },
        {
         "alignmentgroup": "True",
         "bingroup": "x",
         "cliponaxis": false,
         "histfunc": "sum",
         "hovertemplate": "method=adacg<br>sketch_fn=%{x}<br>n=2048<br>deff=32<br>sum of time=%{y}<extra></extra>",
         "legendgroup": "adacg, sjlt",
         "marker": {
          "color": "#636efa",
          "pattern": {
           "shape": "/"
          }
         },
         "name": "adacg, sjlt",
         "offsetgroup": "adacg, sjlt",
         "orientation": "v",
         "showlegend": true,
         "textangle": 0,
         "textposition": "outside",
         "texttemplate": "%{value:.2s}",
         "type": "histogram",
         "x": [
          "sjlt"
         ],
         "xaxis": "x7",
         "y": [
          0.09487118000000312
         ],
         "yaxis": "y7"
        },
        {
         "alignmentgroup": "True",
         "bingroup": "x",
         "cliponaxis": false,
         "histfunc": "sum",
         "hovertemplate": "method=adacg<br>sketch_fn=%{x}<br>n=2048<br>deff=64<br>sum of time=%{y}<extra></extra>",
         "legendgroup": "adacg, sjlt",
         "marker": {
          "color": "#636efa",
          "pattern": {
           "shape": "/"
          }
         },
         "name": "adacg, sjlt",
         "offsetgroup": "adacg, sjlt",
         "orientation": "v",
         "showlegend": false,
         "textangle": 0,
         "textposition": "outside",
         "texttemplate": "%{value:.2s}",
         "type": "histogram",
         "x": [
          "sjlt"
         ],
         "xaxis": "x8",
         "y": [
          0.1056188893332243
         ],
         "yaxis": "y8"
        },
        {
         "alignmentgroup": "True",
         "bingroup": "x",
         "cliponaxis": false,
         "histfunc": "sum",
         "hovertemplate": "method=adacg<br>sketch_fn=%{x}<br>n=2048<br>deff=128<br>sum of time=%{y}<extra></extra>",
         "legendgroup": "adacg, sjlt",
         "marker": {
          "color": "#636efa",
          "pattern": {
           "shape": "/"
          }
         },
         "name": "adacg, sjlt",
         "offsetgroup": "adacg, sjlt",
         "orientation": "v",
         "showlegend": false,
         "textangle": 0,
         "textposition": "outside",
         "texttemplate": "%{value:.2s}",
         "type": "histogram",
         "x": [
          "sjlt"
         ],
         "xaxis": "x9",
         "y": [
          0.1322744813336006
         ],
         "yaxis": "y9"
        },
        {
         "alignmentgroup": "True",
         "bingroup": "x",
         "cliponaxis": false,
         "histfunc": "sum",
         "hovertemplate": "method=adacg<br>sketch_fn=%{x}<br>n=2048<br>deff=256<br>sum of time=%{y}<extra></extra>",
         "legendgroup": "adacg, sjlt",
         "marker": {
          "color": "#636efa",
          "pattern": {
           "shape": "/"
          }
         },
         "name": "adacg, sjlt",
         "offsetgroup": "adacg, sjlt",
         "orientation": "v",
         "showlegend": false,
         "textangle": 0,
         "textposition": "outside",
         "texttemplate": "%{value:.2s}",
         "type": "histogram",
         "x": [
          "sjlt"
         ],
         "xaxis": "x10",
         "y": [
          0.13895606133337424
         ],
         "yaxis": "y10"
        },
        {
         "alignmentgroup": "True",
         "bingroup": "x",
         "cliponaxis": false,
         "histfunc": "sum",
         "hovertemplate": "method=adacg<br>sketch_fn=%{x}<br>n=2048<br>deff=512<br>sum of time=%{y}<extra></extra>",
         "legendgroup": "adacg, sjlt",
         "marker": {
          "color": "#636efa",
          "pattern": {
           "shape": "/"
          }
         },
         "name": "adacg, sjlt",
         "offsetgroup": "adacg, sjlt",
         "orientation": "v",
         "showlegend": false,
         "textangle": 0,
         "textposition": "outside",
         "texttemplate": "%{value:.2s}",
         "type": "histogram",
         "x": [
          "sjlt"
         ],
         "xaxis": "x11",
         "y": [
          0.12992496233331013
         ],
         "yaxis": "y11"
        },
        {
         "alignmentgroup": "True",
         "bingroup": "x",
         "cliponaxis": false,
         "histfunc": "sum",
         "hovertemplate": "method=adacg<br>sketch_fn=%{x}<br>n=2048<br>deff=1024<br>sum of time=%{y}<extra></extra>",
         "legendgroup": "adacg, sjlt",
         "marker": {
          "color": "#636efa",
          "pattern": {
           "shape": "/"
          }
         },
         "name": "adacg, sjlt",
         "offsetgroup": "adacg, sjlt",
         "orientation": "v",
         "showlegend": false,
         "textangle": 0,
         "textposition": "outside",
         "texttemplate": "%{value:.2s}",
         "type": "histogram",
         "x": [
          "sjlt"
         ],
         "xaxis": "x12",
         "y": [
          0.13090880233342733
         ],
         "yaxis": "y12"
        },
        {
         "alignmentgroup": "True",
         "bingroup": "x",
         "cliponaxis": false,
         "histfunc": "sum",
         "hovertemplate": "method=adacg<br>sketch_fn=%{x}<br>n=4096<br>deff=32<br>sum of time=%{y}<extra></extra>",
         "legendgroup": "adacg, sjlt",
         "marker": {
          "color": "#636efa",
          "pattern": {
           "shape": "/"
          }
         },
         "name": "adacg, sjlt",
         "offsetgroup": "adacg, sjlt",
         "orientation": "v",
         "showlegend": false,
         "textangle": 0,
         "textposition": "outside",
         "texttemplate": "%{value:.2s}",
         "type": "histogram",
         "x": [
          "sjlt"
         ],
         "xaxis": "x",
         "y": [
          0.1892803646666531
         ],
         "yaxis": "y"
        },
        {
         "alignmentgroup": "True",
         "bingroup": "x",
         "cliponaxis": false,
         "histfunc": "sum",
         "hovertemplate": "method=adacg<br>sketch_fn=%{x}<br>n=4096<br>deff=64<br>sum of time=%{y}<extra></extra>",
         "legendgroup": "adacg, sjlt",
         "marker": {
          "color": "#636efa",
          "pattern": {
           "shape": "/"
          }
         },
         "name": "adacg, sjlt",
         "offsetgroup": "adacg, sjlt",
         "orientation": "v",
         "showlegend": false,
         "textangle": 0,
         "textposition": "outside",
         "texttemplate": "%{value:.2s}",
         "type": "histogram",
         "x": [
          "sjlt"
         ],
         "xaxis": "x2",
         "y": [
          0.1515001853334373
         ],
         "yaxis": "y2"
        },
        {
         "alignmentgroup": "True",
         "bingroup": "x",
         "cliponaxis": false,
         "histfunc": "sum",
         "hovertemplate": "method=adacg<br>sketch_fn=%{x}<br>n=4096<br>deff=128<br>sum of time=%{y}<extra></extra>",
         "legendgroup": "adacg, sjlt",
         "marker": {
          "color": "#636efa",
          "pattern": {
           "shape": "/"
          }
         },
         "name": "adacg, sjlt",
         "offsetgroup": "adacg, sjlt",
         "orientation": "v",
         "showlegend": false,
         "textangle": 0,
         "textposition": "outside",
         "texttemplate": "%{value:.2s}",
         "type": "histogram",
         "x": [
          "sjlt"
         ],
         "xaxis": "x3",
         "y": [
          0.2341853399999915
         ],
         "yaxis": "y3"
        },
        {
         "alignmentgroup": "True",
         "bingroup": "x",
         "cliponaxis": false,
         "histfunc": "sum",
         "hovertemplate": "method=adacg<br>sketch_fn=%{x}<br>n=4096<br>deff=256<br>sum of time=%{y}<extra></extra>",
         "legendgroup": "adacg, sjlt",
         "marker": {
          "color": "#636efa",
          "pattern": {
           "shape": "/"
          }
         },
         "name": "adacg, sjlt",
         "offsetgroup": "adacg, sjlt",
         "orientation": "v",
         "showlegend": false,
         "textangle": 0,
         "textposition": "outside",
         "texttemplate": "%{value:.2s}",
         "type": "histogram",
         "x": [
          "sjlt"
         ],
         "xaxis": "x4",
         "y": [
          0.23614022166596743
         ],
         "yaxis": "y4"
        },
        {
         "alignmentgroup": "True",
         "bingroup": "x",
         "cliponaxis": false,
         "histfunc": "sum",
         "hovertemplate": "method=adacg<br>sketch_fn=%{x}<br>n=4096<br>deff=512<br>sum of time=%{y}<extra></extra>",
         "legendgroup": "adacg, sjlt",
         "marker": {
          "color": "#636efa",
          "pattern": {
           "shape": "/"
          }
         },
         "name": "adacg, sjlt",
         "offsetgroup": "adacg, sjlt",
         "orientation": "v",
         "showlegend": false,
         "textangle": 0,
         "textposition": "outside",
         "texttemplate": "%{value:.2s}",
         "type": "histogram",
         "x": [
          "sjlt"
         ],
         "xaxis": "x5",
         "y": [
          0.2381705336665618
         ],
         "yaxis": "y5"
        },
        {
         "alignmentgroup": "True",
         "bingroup": "x",
         "cliponaxis": false,
         "histfunc": "sum",
         "hovertemplate": "method=adacg<br>sketch_fn=%{x}<br>n=4096<br>deff=1024<br>sum of time=%{y}<extra></extra>",
         "legendgroup": "adacg, sjlt",
         "marker": {
          "color": "#636efa",
          "pattern": {
           "shape": "/"
          }
         },
         "name": "adacg, sjlt",
         "offsetgroup": "adacg, sjlt",
         "orientation": "v",
         "showlegend": false,
         "textangle": 0,
         "textposition": "outside",
         "texttemplate": "%{value:.2s}",
         "type": "histogram",
         "x": [
          "sjlt"
         ],
         "xaxis": "x6",
         "y": [
          0.23471965166694037
         ],
         "yaxis": "y6"
        },
        {
         "alignmentgroup": "True",
         "bingroup": "x",
         "cliponaxis": false,
         "histfunc": "sum",
         "hovertemplate": "method=adacg<br>sketch_fn=%{x}<br>n=2048<br>deff=32<br>sum of time=%{y}<extra></extra>",
         "legendgroup": "adacg, srht",
         "marker": {
          "color": "#636efa",
          "pattern": {
           "shape": "\\"
          }
         },
         "name": "adacg, srht",
         "offsetgroup": "adacg, srht",
         "orientation": "v",
         "showlegend": true,
         "textangle": 0,
         "textposition": "outside",
         "texttemplate": "%{value:.2s}",
         "type": "histogram",
         "x": [
          "srht"
         ],
         "xaxis": "x7",
         "y": [
          0.10342729199980263
         ],
         "yaxis": "y7"
        },
        {
         "alignmentgroup": "True",
         "bingroup": "x",
         "cliponaxis": false,
         "histfunc": "sum",
         "hovertemplate": "method=adacg<br>sketch_fn=%{x}<br>n=2048<br>deff=64<br>sum of time=%{y}<extra></extra>",
         "legendgroup": "adacg, srht",
         "marker": {
          "color": "#636efa",
          "pattern": {
           "shape": "\\"
          }
         },
         "name": "adacg, srht",
         "offsetgroup": "adacg, srht",
         "orientation": "v",
         "showlegend": false,
         "textangle": 0,
         "textposition": "outside",
         "texttemplate": "%{value:.2s}",
         "type": "histogram",
         "x": [
          "srht"
         ],
         "xaxis": "x8",
         "y": [
          0.1402757849999337
         ],
         "yaxis": "y8"
        },
        {
         "alignmentgroup": "True",
         "bingroup": "x",
         "cliponaxis": false,
         "histfunc": "sum",
         "hovertemplate": "method=adacg<br>sketch_fn=%{x}<br>n=2048<br>deff=128<br>sum of time=%{y}<extra></extra>",
         "legendgroup": "adacg, srht",
         "marker": {
          "color": "#636efa",
          "pattern": {
           "shape": "\\"
          }
         },
         "name": "adacg, srht",
         "offsetgroup": "adacg, srht",
         "orientation": "v",
         "showlegend": false,
         "textangle": 0,
         "textposition": "outside",
         "texttemplate": "%{value:.2s}",
         "type": "histogram",
         "x": [
          "srht"
         ],
         "xaxis": "x9",
         "y": [
          0.1402712593333793
         ],
         "yaxis": "y9"
        },
        {
         "alignmentgroup": "True",
         "bingroup": "x",
         "cliponaxis": false,
         "histfunc": "sum",
         "hovertemplate": "method=adacg<br>sketch_fn=%{x}<br>n=2048<br>deff=256<br>sum of time=%{y}<extra></extra>",
         "legendgroup": "adacg, srht",
         "marker": {
          "color": "#636efa",
          "pattern": {
           "shape": "\\"
          }
         },
         "name": "adacg, srht",
         "offsetgroup": "adacg, srht",
         "orientation": "v",
         "showlegend": false,
         "textangle": 0,
         "textposition": "outside",
         "texttemplate": "%{value:.2s}",
         "type": "histogram",
         "x": [
          "srht"
         ],
         "xaxis": "x10",
         "y": [
          0.13964078133312796
         ],
         "yaxis": "y10"
        },
        {
         "alignmentgroup": "True",
         "bingroup": "x",
         "cliponaxis": false,
         "histfunc": "sum",
         "hovertemplate": "method=adacg<br>sketch_fn=%{x}<br>n=2048<br>deff=512<br>sum of time=%{y}<extra></extra>",
         "legendgroup": "adacg, srht",
         "marker": {
          "color": "#636efa",
          "pattern": {
           "shape": "\\"
          }
         },
         "name": "adacg, srht",
         "offsetgroup": "adacg, srht",
         "orientation": "v",
         "showlegend": false,
         "textangle": 0,
         "textposition": "outside",
         "texttemplate": "%{value:.2s}",
         "type": "histogram",
         "x": [
          "srht"
         ],
         "xaxis": "x11",
         "y": [
          0.13931588833323377
         ],
         "yaxis": "y11"
        },
        {
         "alignmentgroup": "True",
         "bingroup": "x",
         "cliponaxis": false,
         "histfunc": "sum",
         "hovertemplate": "method=adacg<br>sketch_fn=%{x}<br>n=2048<br>deff=1024<br>sum of time=%{y}<extra></extra>",
         "legendgroup": "adacg, srht",
         "marker": {
          "color": "#636efa",
          "pattern": {
           "shape": "\\"
          }
         },
         "name": "adacg, srht",
         "offsetgroup": "adacg, srht",
         "orientation": "v",
         "showlegend": false,
         "textangle": 0,
         "textposition": "outside",
         "texttemplate": "%{value:.2s}",
         "type": "histogram",
         "x": [
          "srht"
         ],
         "xaxis": "x12",
         "y": [
          0.1405468859998109
         ],
         "yaxis": "y12"
        },
        {
         "alignmentgroup": "True",
         "bingroup": "x",
         "cliponaxis": false,
         "histfunc": "sum",
         "hovertemplate": "method=adacg<br>sketch_fn=%{x}<br>n=4096<br>deff=32<br>sum of time=%{y}<extra></extra>",
         "legendgroup": "adacg, srht",
         "marker": {
          "color": "#636efa",
          "pattern": {
           "shape": "\\"
          }
         },
         "name": "adacg, srht",
         "offsetgroup": "adacg, srht",
         "orientation": "v",
         "showlegend": false,
         "textangle": 0,
         "textposition": "outside",
         "texttemplate": "%{value:.2s}",
         "type": "histogram",
         "x": [
          "srht"
         ],
         "xaxis": "x",
         "y": [
          0.17843932699997822
         ],
         "yaxis": "y"
        },
        {
         "alignmentgroup": "True",
         "bingroup": "x",
         "cliponaxis": false,
         "histfunc": "sum",
         "hovertemplate": "method=adacg<br>sketch_fn=%{x}<br>n=4096<br>deff=64<br>sum of time=%{y}<extra></extra>",
         "legendgroup": "adacg, srht",
         "marker": {
          "color": "#636efa",
          "pattern": {
           "shape": "\\"
          }
         },
         "name": "adacg, srht",
         "offsetgroup": "adacg, srht",
         "orientation": "v",
         "showlegend": false,
         "textangle": 0,
         "textposition": "outside",
         "texttemplate": "%{value:.2s}",
         "type": "histogram",
         "x": [
          "srht"
         ],
         "xaxis": "x2",
         "y": [
          0.2680256349995034
         ],
         "yaxis": "y2"
        },
        {
         "alignmentgroup": "True",
         "bingroup": "x",
         "cliponaxis": false,
         "histfunc": "sum",
         "hovertemplate": "method=adacg<br>sketch_fn=%{x}<br>n=4096<br>deff=128<br>sum of time=%{y}<extra></extra>",
         "legendgroup": "adacg, srht",
         "marker": {
          "color": "#636efa",
          "pattern": {
           "shape": "\\"
          }
         },
         "name": "adacg, srht",
         "offsetgroup": "adacg, srht",
         "orientation": "v",
         "showlegend": false,
         "textangle": 0,
         "textposition": "outside",
         "texttemplate": "%{value:.2s}",
         "type": "histogram",
         "x": [
          "srht"
         ],
         "xaxis": "x3",
         "y": [
          0.257641816665758
         ],
         "yaxis": "y3"
        },
        {
         "alignmentgroup": "True",
         "bingroup": "x",
         "cliponaxis": false,
         "histfunc": "sum",
         "hovertemplate": "method=adacg<br>sketch_fn=%{x}<br>n=4096<br>deff=256<br>sum of time=%{y}<extra></extra>",
         "legendgroup": "adacg, srht",
         "marker": {
          "color": "#636efa",
          "pattern": {
           "shape": "\\"
          }
         },
         "name": "adacg, srht",
         "offsetgroup": "adacg, srht",
         "orientation": "v",
         "showlegend": false,
         "textangle": 0,
         "textposition": "outside",
         "texttemplate": "%{value:.2s}",
         "type": "histogram",
         "x": [
          "srht"
         ],
         "xaxis": "x4",
         "y": [
          0.2695093356669531
         ],
         "yaxis": "y4"
        },
        {
         "alignmentgroup": "True",
         "bingroup": "x",
         "cliponaxis": false,
         "histfunc": "sum",
         "hovertemplate": "method=adacg<br>sketch_fn=%{x}<br>n=4096<br>deff=512<br>sum of time=%{y}<extra></extra>",
         "legendgroup": "adacg, srht",
         "marker": {
          "color": "#636efa",
          "pattern": {
           "shape": "\\"
          }
         },
         "name": "adacg, srht",
         "offsetgroup": "adacg, srht",
         "orientation": "v",
         "showlegend": false,
         "textangle": 0,
         "textposition": "outside",
         "texttemplate": "%{value:.2s}",
         "type": "histogram",
         "x": [
          "srht"
         ],
         "xaxis": "x5",
         "y": [
          0.2723953409998406
         ],
         "yaxis": "y5"
        },
        {
         "alignmentgroup": "True",
         "bingroup": "x",
         "cliponaxis": false,
         "histfunc": "sum",
         "hovertemplate": "method=adacg<br>sketch_fn=%{x}<br>n=4096<br>deff=1024<br>sum of time=%{y}<extra></extra>",
         "legendgroup": "adacg, srht",
         "marker": {
          "color": "#636efa",
          "pattern": {
           "shape": "\\"
          }
         },
         "name": "adacg, srht",
         "offsetgroup": "adacg, srht",
         "orientation": "v",
         "showlegend": false,
         "textangle": 0,
         "textposition": "outside",
         "texttemplate": "%{value:.2s}",
         "type": "histogram",
         "x": [
          "srht"
         ],
         "xaxis": "x6",
         "y": [
          0.2652517566669606
         ],
         "yaxis": "y6"
        },
        {
         "alignmentgroup": "True",
         "bingroup": "x",
         "cliponaxis": false,
         "histfunc": "sum",
         "hovertemplate": "method=cg<br>sketch_fn=%{x}<br>n=2048<br>deff=32<br>sum of time=%{y}<extra></extra>",
         "legendgroup": "cg, none",
         "marker": {
          "color": "#EF553B",
          "pattern": {
           "shape": "x"
          }
         },
         "name": "cg, none",
         "offsetgroup": "cg, none",
         "orientation": "v",
         "showlegend": true,
         "textangle": 0,
         "textposition": "outside",
         "texttemplate": "%{value:.2s}",
         "type": "histogram",
         "x": [
          "none"
         ],
         "xaxis": "x7",
         "y": [
          0.06565510566679222
         ],
         "yaxis": "y7"
        },
        {
         "alignmentgroup": "True",
         "bingroup": "x",
         "cliponaxis": false,
         "histfunc": "sum",
         "hovertemplate": "method=cg<br>sketch_fn=%{x}<br>n=2048<br>deff=64<br>sum of time=%{y}<extra></extra>",
         "legendgroup": "cg, none",
         "marker": {
          "color": "#EF553B",
          "pattern": {
           "shape": "x"
          }
         },
         "name": "cg, none",
         "offsetgroup": "cg, none",
         "orientation": "v",
         "showlegend": false,
         "textangle": 0,
         "textposition": "outside",
         "texttemplate": "%{value:.2s}",
         "type": "histogram",
         "x": [
          "none"
         ],
         "xaxis": "x8",
         "y": [
          0.5192365713332947
         ],
         "yaxis": "y8"
        },
        {
         "alignmentgroup": "True",
         "bingroup": "x",
         "cliponaxis": false,
         "histfunc": "sum",
         "hovertemplate": "method=cg<br>sketch_fn=%{x}<br>n=2048<br>deff=128<br>sum of time=%{y}<extra></extra>",
         "legendgroup": "cg, none",
         "marker": {
          "color": "#EF553B",
          "pattern": {
           "shape": "x"
          }
         },
         "name": "cg, none",
         "offsetgroup": "cg, none",
         "orientation": "v",
         "showlegend": false,
         "textangle": 0,
         "textposition": "outside",
         "texttemplate": "%{value:.2s}",
         "type": "histogram",
         "x": [
          "none"
         ],
         "xaxis": "x9",
         "y": [
          0.6021630006663751
         ],
         "yaxis": "y9"
        },
        {
         "alignmentgroup": "True",
         "bingroup": "x",
         "cliponaxis": false,
         "histfunc": "sum",
         "hovertemplate": "method=cg<br>sketch_fn=%{x}<br>n=2048<br>deff=256<br>sum of time=%{y}<extra></extra>",
         "legendgroup": "cg, none",
         "marker": {
          "color": "#EF553B",
          "pattern": {
           "shape": "x"
          }
         },
         "name": "cg, none",
         "offsetgroup": "cg, none",
         "orientation": "v",
         "showlegend": false,
         "textangle": 0,
         "textposition": "outside",
         "texttemplate": "%{value:.2s}",
         "type": "histogram",
         "x": [
          "none"
         ],
         "xaxis": "x10",
         "y": [
          1.1319206950000382
         ],
         "yaxis": "y10"
        },
        {
         "alignmentgroup": "True",
         "bingroup": "x",
         "cliponaxis": false,
         "histfunc": "sum",
         "hovertemplate": "method=cg<br>sketch_fn=%{x}<br>n=2048<br>deff=512<br>sum of time=%{y}<extra></extra>",
         "legendgroup": "cg, none",
         "marker": {
          "color": "#EF553B",
          "pattern": {
           "shape": "x"
          }
         },
         "name": "cg, none",
         "offsetgroup": "cg, none",
         "orientation": "v",
         "showlegend": false,
         "textangle": 0,
         "textposition": "outside",
         "texttemplate": "%{value:.2s}",
         "type": "histogram",
         "x": [
          "none"
         ],
         "xaxis": "x11",
         "y": [
          1.3101928499998696
         ],
         "yaxis": "y11"
        },
        {
         "alignmentgroup": "True",
         "bingroup": "x",
         "cliponaxis": false,
         "histfunc": "sum",
         "hovertemplate": "method=cg<br>sketch_fn=%{x}<br>n=2048<br>deff=1024<br>sum of time=%{y}<extra></extra>",
         "legendgroup": "cg, none",
         "marker": {
          "color": "#EF553B",
          "pattern": {
           "shape": "x"
          }
         },
         "name": "cg, none",
         "offsetgroup": "cg, none",
         "orientation": "v",
         "showlegend": false,
         "textangle": 0,
         "textposition": "outside",
         "texttemplate": "%{value:.2s}",
         "type": "histogram",
         "x": [
          "none"
         ],
         "xaxis": "x12",
         "y": [
          1.2966934503331988
         ],
         "yaxis": "y12"
        },
        {
         "alignmentgroup": "True",
         "bingroup": "x",
         "cliponaxis": false,
         "histfunc": "sum",
         "hovertemplate": "method=cg<br>sketch_fn=%{x}<br>n=4096<br>deff=32<br>sum of time=%{y}<extra></extra>",
         "legendgroup": "cg, none",
         "marker": {
          "color": "#EF553B",
          "pattern": {
           "shape": "x"
          }
         },
         "name": "cg, none",
         "offsetgroup": "cg, none",
         "orientation": "v",
         "showlegend": false,
         "textangle": 0,
         "textposition": "outside",
         "texttemplate": "%{value:.2s}",
         "type": "histogram",
         "x": [
          "none"
         ],
         "xaxis": "x",
         "y": [
          0.12340000300021832
         ],
         "yaxis": "y"
        },
        {
         "alignmentgroup": "True",
         "bingroup": "x",
         "cliponaxis": false,
         "histfunc": "sum",
         "hovertemplate": "method=cg<br>sketch_fn=%{x}<br>n=4096<br>deff=64<br>sum of time=%{y}<extra></extra>",
         "legendgroup": "cg, none",
         "marker": {
          "color": "#EF553B",
          "pattern": {
           "shape": "x"
          }
         },
         "name": "cg, none",
         "offsetgroup": "cg, none",
         "orientation": "v",
         "showlegend": false,
         "textangle": 0,
         "textposition": "outside",
         "texttemplate": "%{value:.2s}",
         "type": "histogram",
         "x": [
          "none"
         ],
         "xaxis": "x2",
         "y": [
          0.42319101033353945
         ],
         "yaxis": "y2"
        },
        {
         "alignmentgroup": "True",
         "bingroup": "x",
         "cliponaxis": false,
         "histfunc": "sum",
         "hovertemplate": "method=cg<br>sketch_fn=%{x}<br>n=4096<br>deff=128<br>sum of time=%{y}<extra></extra>",
         "legendgroup": "cg, none",
         "marker": {
          "color": "#EF553B",
          "pattern": {
           "shape": "x"
          }
         },
         "name": "cg, none",
         "offsetgroup": "cg, none",
         "orientation": "v",
         "showlegend": false,
         "textangle": 0,
         "textposition": "outside",
         "texttemplate": "%{value:.2s}",
         "type": "histogram",
         "x": [
          "none"
         ],
         "xaxis": "x3",
         "y": [
          1.3839534436665417
         ],
         "yaxis": "y3"
        },
        {
         "alignmentgroup": "True",
         "bingroup": "x",
         "cliponaxis": false,
         "histfunc": "sum",
         "hovertemplate": "method=cg<br>sketch_fn=%{x}<br>n=4096<br>deff=256<br>sum of time=%{y}<extra></extra>",
         "legendgroup": "cg, none",
         "marker": {
          "color": "#EF553B",
          "pattern": {
           "shape": "x"
          }
         },
         "name": "cg, none",
         "offsetgroup": "cg, none",
         "orientation": "v",
         "showlegend": false,
         "textangle": 0,
         "textposition": "outside",
         "texttemplate": "%{value:.2s}",
         "type": "histogram",
         "x": [
          "none"
         ],
         "xaxis": "x4",
         "y": [
          2.3770946826668173
         ],
         "yaxis": "y4"
        },
        {
         "alignmentgroup": "True",
         "bingroup": "x",
         "cliponaxis": false,
         "histfunc": "sum",
         "hovertemplate": "method=cg<br>sketch_fn=%{x}<br>n=4096<br>deff=512<br>sum of time=%{y}<extra></extra>",
         "legendgroup": "cg, none",
         "marker": {
          "color": "#EF553B",
          "pattern": {
           "shape": "x"
          }
         },
         "name": "cg, none",
         "offsetgroup": "cg, none",
         "orientation": "v",
         "showlegend": false,
         "textangle": 0,
         "textposition": "outside",
         "texttemplate": "%{value:.2s}",
         "type": "histogram",
         "x": [
          "none"
         ],
         "xaxis": "x5",
         "y": [
          2.7743497839995443
         ],
         "yaxis": "y5"
        },
        {
         "alignmentgroup": "True",
         "bingroup": "x",
         "cliponaxis": false,
         "histfunc": "sum",
         "hovertemplate": "method=cg<br>sketch_fn=%{x}<br>n=4096<br>deff=1024<br>sum of time=%{y}<extra></extra>",
         "legendgroup": "cg, none",
         "marker": {
          "color": "#EF553B",
          "pattern": {
           "shape": "x"
          }
         },
         "name": "cg, none",
         "offsetgroup": "cg, none",
         "orientation": "v",
         "showlegend": false,
         "textangle": 0,
         "textposition": "outside",
         "texttemplate": "%{value:.2s}",
         "type": "histogram",
         "x": [
          "none"
         ],
         "xaxis": "x6",
         "y": [
          2.7734719983339646
         ],
         "yaxis": "y6"
        },
        {
         "alignmentgroup": "True",
         "bingroup": "x",
         "cliponaxis": false,
         "histfunc": "sum",
         "hovertemplate": "method=dm<br>sketch_fn=%{x}<br>n=2048<br>deff=32<br>sum of time=%{y}<extra></extra>",
         "legendgroup": "dm, none",
         "marker": {
          "color": "#00cc96",
          "pattern": {
           "shape": "x"
          }
         },
         "name": "dm, none",
         "offsetgroup": "dm, none",
         "orientation": "v",
         "showlegend": true,
         "textangle": 0,
         "textposition": "outside",
         "texttemplate": "%{value:.2s}",
         "type": "histogram",
         "x": [
          "none"
         ],
         "xaxis": "x7",
         "y": [
          0.08732061999990037
         ],
         "yaxis": "y7"
        },
        {
         "alignmentgroup": "True",
         "bingroup": "x",
         "cliponaxis": false,
         "histfunc": "sum",
         "hovertemplate": "method=dm<br>sketch_fn=%{x}<br>n=2048<br>deff=64<br>sum of time=%{y}<extra></extra>",
         "legendgroup": "dm, none",
         "marker": {
          "color": "#00cc96",
          "pattern": {
           "shape": "x"
          }
         },
         "name": "dm, none",
         "offsetgroup": "dm, none",
         "orientation": "v",
         "showlegend": false,
         "textangle": 0,
         "textposition": "outside",
         "texttemplate": "%{value:.2s}",
         "type": "histogram",
         "x": [
          "none"
         ],
         "xaxis": "x8",
         "y": [
          0.11577182800010632
         ],
         "yaxis": "y8"
        },
        {
         "alignmentgroup": "True",
         "bingroup": "x",
         "cliponaxis": false,
         "histfunc": "sum",
         "hovertemplate": "method=dm<br>sketch_fn=%{x}<br>n=2048<br>deff=128<br>sum of time=%{y}<extra></extra>",
         "legendgroup": "dm, none",
         "marker": {
          "color": "#00cc96",
          "pattern": {
           "shape": "x"
          }
         },
         "name": "dm, none",
         "offsetgroup": "dm, none",
         "orientation": "v",
         "showlegend": false,
         "textangle": 0,
         "textposition": "outside",
         "texttemplate": "%{value:.2s}",
         "type": "histogram",
         "x": [
          "none"
         ],
         "xaxis": "x9",
         "y": [
          0.087824750999971
         ],
         "yaxis": "y9"
        },
        {
         "alignmentgroup": "True",
         "bingroup": "x",
         "cliponaxis": false,
         "histfunc": "sum",
         "hovertemplate": "method=dm<br>sketch_fn=%{x}<br>n=2048<br>deff=256<br>sum of time=%{y}<extra></extra>",
         "legendgroup": "dm, none",
         "marker": {
          "color": "#00cc96",
          "pattern": {
           "shape": "x"
          }
         },
         "name": "dm, none",
         "offsetgroup": "dm, none",
         "orientation": "v",
         "showlegend": false,
         "textangle": 0,
         "textposition": "outside",
         "texttemplate": "%{value:.2s}",
         "type": "histogram",
         "x": [
          "none"
         ],
         "xaxis": "x10",
         "y": [
          0.08880930400027864
         ],
         "yaxis": "y10"
        },
        {
         "alignmentgroup": "True",
         "bingroup": "x",
         "cliponaxis": false,
         "histfunc": "sum",
         "hovertemplate": "method=dm<br>sketch_fn=%{x}<br>n=2048<br>deff=512<br>sum of time=%{y}<extra></extra>",
         "legendgroup": "dm, none",
         "marker": {
          "color": "#00cc96",
          "pattern": {
           "shape": "x"
          }
         },
         "name": "dm, none",
         "offsetgroup": "dm, none",
         "orientation": "v",
         "showlegend": false,
         "textangle": 0,
         "textposition": "outside",
         "texttemplate": "%{value:.2s}",
         "type": "histogram",
         "x": [
          "none"
         ],
         "xaxis": "x11",
         "y": [
          0.08850668500008396
         ],
         "yaxis": "y11"
        },
        {
         "alignmentgroup": "True",
         "bingroup": "x",
         "cliponaxis": false,
         "histfunc": "sum",
         "hovertemplate": "method=dm<br>sketch_fn=%{x}<br>n=2048<br>deff=1024<br>sum of time=%{y}<extra></extra>",
         "legendgroup": "dm, none",
         "marker": {
          "color": "#00cc96",
          "pattern": {
           "shape": "x"
          }
         },
         "name": "dm, none",
         "offsetgroup": "dm, none",
         "orientation": "v",
         "showlegend": false,
         "textangle": 0,
         "textposition": "outside",
         "texttemplate": "%{value:.2s}",
         "type": "histogram",
         "x": [
          "none"
         ],
         "xaxis": "x12",
         "y": [
          0.08674777800024458
         ],
         "yaxis": "y12"
        },
        {
         "alignmentgroup": "True",
         "bingroup": "x",
         "cliponaxis": false,
         "histfunc": "sum",
         "hovertemplate": "method=dm<br>sketch_fn=%{x}<br>n=4096<br>deff=32<br>sum of time=%{y}<extra></extra>",
         "legendgroup": "dm, none",
         "marker": {
          "color": "#00cc96",
          "pattern": {
           "shape": "x"
          }
         },
         "name": "dm, none",
         "offsetgroup": "dm, none",
         "orientation": "v",
         "showlegend": false,
         "textangle": 0,
         "textposition": "outside",
         "texttemplate": "%{value:.2s}",
         "type": "histogram",
         "x": [
          "none"
         ],
         "xaxis": "x",
         "y": [
          0.16752472200005286
         ],
         "yaxis": "y"
        },
        {
         "alignmentgroup": "True",
         "bingroup": "x",
         "cliponaxis": false,
         "histfunc": "sum",
         "hovertemplate": "method=dm<br>sketch_fn=%{x}<br>n=4096<br>deff=64<br>sum of time=%{y}<extra></extra>",
         "legendgroup": "dm, none",
         "marker": {
          "color": "#00cc96",
          "pattern": {
           "shape": "x"
          }
         },
         "name": "dm, none",
         "offsetgroup": "dm, none",
         "orientation": "v",
         "showlegend": false,
         "textangle": 0,
         "textposition": "outside",
         "texttemplate": "%{value:.2s}",
         "type": "histogram",
         "x": [
          "none"
         ],
         "xaxis": "x2",
         "y": [
          0.15777270200032945
         ],
         "yaxis": "y2"
        },
        {
         "alignmentgroup": "True",
         "bingroup": "x",
         "cliponaxis": false,
         "histfunc": "sum",
         "hovertemplate": "method=dm<br>sketch_fn=%{x}<br>n=4096<br>deff=128<br>sum of time=%{y}<extra></extra>",
         "legendgroup": "dm, none",
         "marker": {
          "color": "#00cc96",
          "pattern": {
           "shape": "x"
          }
         },
         "name": "dm, none",
         "offsetgroup": "dm, none",
         "orientation": "v",
         "showlegend": false,
         "textangle": 0,
         "textposition": "outside",
         "texttemplate": "%{value:.2s}",
         "type": "histogram",
         "x": [
          "none"
         ],
         "xaxis": "x3",
         "y": [
          0.15713302699987253
         ],
         "yaxis": "y3"
        },
        {
         "alignmentgroup": "True",
         "bingroup": "x",
         "cliponaxis": false,
         "histfunc": "sum",
         "hovertemplate": "method=dm<br>sketch_fn=%{x}<br>n=4096<br>deff=256<br>sum of time=%{y}<extra></extra>",
         "legendgroup": "dm, none",
         "marker": {
          "color": "#00cc96",
          "pattern": {
           "shape": "x"
          }
         },
         "name": "dm, none",
         "offsetgroup": "dm, none",
         "orientation": "v",
         "showlegend": false,
         "textangle": 0,
         "textposition": "outside",
         "texttemplate": "%{value:.2s}",
         "type": "histogram",
         "x": [
          "none"
         ],
         "xaxis": "x4",
         "y": [
          0.15989879399967322
         ],
         "yaxis": "y4"
        },
        {
         "alignmentgroup": "True",
         "bingroup": "x",
         "cliponaxis": false,
         "histfunc": "sum",
         "hovertemplate": "method=dm<br>sketch_fn=%{x}<br>n=4096<br>deff=512<br>sum of time=%{y}<extra></extra>",
         "legendgroup": "dm, none",
         "marker": {
          "color": "#00cc96",
          "pattern": {
           "shape": "x"
          }
         },
         "name": "dm, none",
         "offsetgroup": "dm, none",
         "orientation": "v",
         "showlegend": false,
         "textangle": 0,
         "textposition": "outside",
         "texttemplate": "%{value:.2s}",
         "type": "histogram",
         "x": [
          "none"
         ],
         "xaxis": "x5",
         "y": [
          0.15855049600031634
         ],
         "yaxis": "y5"
        },
        {
         "alignmentgroup": "True",
         "bingroup": "x",
         "cliponaxis": false,
         "histfunc": "sum",
         "hovertemplate": "method=dm<br>sketch_fn=%{x}<br>n=4096<br>deff=1024<br>sum of time=%{y}<extra></extra>",
         "legendgroup": "dm, none",
         "marker": {
          "color": "#00cc96",
          "pattern": {
           "shape": "x"
          }
         },
         "name": "dm, none",
         "offsetgroup": "dm, none",
         "orientation": "v",
         "showlegend": false,
         "textangle": 0,
         "textposition": "outside",
         "texttemplate": "%{value:.2s}",
         "type": "histogram",
         "x": [
          "none"
         ],
         "xaxis": "x6",
         "y": [
          0.155210792001526
         ],
         "yaxis": "y6"
        },
        {
         "alignmentgroup": "True",
         "bingroup": "x",
         "cliponaxis": false,
         "histfunc": "sum",
         "hovertemplate": "method=pcg<br>sketch_fn=%{x}<br>n=2048<br>deff=32<br>sum of time=%{y}<extra></extra>",
         "legendgroup": "pcg, gaussian",
         "marker": {
          "color": "#ab63fa",
          "pattern": {
           "shape": ""
          }
         },
         "name": "pcg, gaussian",
         "offsetgroup": "pcg, gaussian",
         "orientation": "v",
         "showlegend": true,
         "textangle": 0,
         "textposition": "outside",
         "texttemplate": "%{value:.2s}",
         "type": "histogram",
         "x": [
          "gaussian"
         ],
         "xaxis": "x7",
         "y": [
          0.32642610866666166
         ],
         "yaxis": "y7"
        },
        {
         "alignmentgroup": "True",
         "bingroup": "x",
         "cliponaxis": false,
         "histfunc": "sum",
         "hovertemplate": "method=pcg<br>sketch_fn=%{x}<br>n=2048<br>deff=64<br>sum of time=%{y}<extra></extra>",
         "legendgroup": "pcg, gaussian",
         "marker": {
          "color": "#ab63fa",
          "pattern": {
           "shape": ""
          }
         },
         "name": "pcg, gaussian",
         "offsetgroup": "pcg, gaussian",
         "orientation": "v",
         "showlegend": false,
         "textangle": 0,
         "textposition": "outside",
         "texttemplate": "%{value:.2s}",
         "type": "histogram",
         "x": [
          "gaussian"
         ],
         "xaxis": "x8",
         "y": [
          0.3340481660000781
         ],
         "yaxis": "y8"
        },
        {
         "alignmentgroup": "True",
         "bingroup": "x",
         "cliponaxis": false,
         "histfunc": "sum",
         "hovertemplate": "method=pcg<br>sketch_fn=%{x}<br>n=2048<br>deff=128<br>sum of time=%{y}<extra></extra>",
         "legendgroup": "pcg, gaussian",
         "marker": {
          "color": "#ab63fa",
          "pattern": {
           "shape": ""
          }
         },
         "name": "pcg, gaussian",
         "offsetgroup": "pcg, gaussian",
         "orientation": "v",
         "showlegend": false,
         "textangle": 0,
         "textposition": "outside",
         "texttemplate": "%{value:.2s}",
         "type": "histogram",
         "x": [
          "gaussian"
         ],
         "xaxis": "x9",
         "y": [
          0.3197435106667399
         ],
         "yaxis": "y9"
        },
        {
         "alignmentgroup": "True",
         "bingroup": "x",
         "cliponaxis": false,
         "histfunc": "sum",
         "hovertemplate": "method=pcg<br>sketch_fn=%{x}<br>n=2048<br>deff=256<br>sum of time=%{y}<extra></extra>",
         "legendgroup": "pcg, gaussian",
         "marker": {
          "color": "#ab63fa",
          "pattern": {
           "shape": ""
          }
         },
         "name": "pcg, gaussian",
         "offsetgroup": "pcg, gaussian",
         "orientation": "v",
         "showlegend": false,
         "textangle": 0,
         "textposition": "outside",
         "texttemplate": "%{value:.2s}",
         "type": "histogram",
         "x": [
          "gaussian"
         ],
         "xaxis": "x10",
         "y": [
          0.3358192943334567
         ],
         "yaxis": "y10"
        },
        {
         "alignmentgroup": "True",
         "bingroup": "x",
         "cliponaxis": false,
         "histfunc": "sum",
         "hovertemplate": "method=pcg<br>sketch_fn=%{x}<br>n=2048<br>deff=512<br>sum of time=%{y}<extra></extra>",
         "legendgroup": "pcg, gaussian",
         "marker": {
          "color": "#ab63fa",
          "pattern": {
           "shape": ""
          }
         },
         "name": "pcg, gaussian",
         "offsetgroup": "pcg, gaussian",
         "orientation": "v",
         "showlegend": false,
         "textangle": 0,
         "textposition": "outside",
         "texttemplate": "%{value:.2s}",
         "type": "histogram",
         "x": [
          "gaussian"
         ],
         "xaxis": "x11",
         "y": [
          0.33082372666679777
         ],
         "yaxis": "y11"
        },
        {
         "alignmentgroup": "True",
         "bingroup": "x",
         "cliponaxis": false,
         "histfunc": "sum",
         "hovertemplate": "method=pcg<br>sketch_fn=%{x}<br>n=2048<br>deff=1024<br>sum of time=%{y}<extra></extra>",
         "legendgroup": "pcg, gaussian",
         "marker": {
          "color": "#ab63fa",
          "pattern": {
           "shape": ""
          }
         },
         "name": "pcg, gaussian",
         "offsetgroup": "pcg, gaussian",
         "orientation": "v",
         "showlegend": false,
         "textangle": 0,
         "textposition": "outside",
         "texttemplate": "%{value:.2s}",
         "type": "histogram",
         "x": [
          "gaussian"
         ],
         "xaxis": "x12",
         "y": [
          0.3494134900000366
         ],
         "yaxis": "y12"
        },
        {
         "alignmentgroup": "True",
         "bingroup": "x",
         "cliponaxis": false,
         "histfunc": "sum",
         "hovertemplate": "method=pcg<br>sketch_fn=%{x}<br>n=4096<br>deff=32<br>sum of time=%{y}<extra></extra>",
         "legendgroup": "pcg, gaussian",
         "marker": {
          "color": "#ab63fa",
          "pattern": {
           "shape": ""
          }
         },
         "name": "pcg, gaussian",
         "offsetgroup": "pcg, gaussian",
         "orientation": "v",
         "showlegend": false,
         "textangle": 0,
         "textposition": "outside",
         "texttemplate": "%{value:.2s}",
         "type": "histogram",
         "x": [
          "gaussian"
         ],
         "xaxis": "x",
         "y": [
          0.54429385433347
         ],
         "yaxis": "y"
        },
        {
         "alignmentgroup": "True",
         "bingroup": "x",
         "cliponaxis": false,
         "histfunc": "sum",
         "hovertemplate": "method=pcg<br>sketch_fn=%{x}<br>n=4096<br>deff=64<br>sum of time=%{y}<extra></extra>",
         "legendgroup": "pcg, gaussian",
         "marker": {
          "color": "#ab63fa",
          "pattern": {
           "shape": ""
          }
         },
         "name": "pcg, gaussian",
         "offsetgroup": "pcg, gaussian",
         "orientation": "v",
         "showlegend": false,
         "textangle": 0,
         "textposition": "outside",
         "texttemplate": "%{value:.2s}",
         "type": "histogram",
         "x": [
          "gaussian"
         ],
         "xaxis": "x2",
         "y": [
          0.5490083873331362
         ],
         "yaxis": "y2"
        },
        {
         "alignmentgroup": "True",
         "bingroup": "x",
         "cliponaxis": false,
         "histfunc": "sum",
         "hovertemplate": "method=pcg<br>sketch_fn=%{x}<br>n=4096<br>deff=128<br>sum of time=%{y}<extra></extra>",
         "legendgroup": "pcg, gaussian",
         "marker": {
          "color": "#ab63fa",
          "pattern": {
           "shape": ""
          }
         },
         "name": "pcg, gaussian",
         "offsetgroup": "pcg, gaussian",
         "orientation": "v",
         "showlegend": false,
         "textangle": 0,
         "textposition": "outside",
         "texttemplate": "%{value:.2s}",
         "type": "histogram",
         "x": [
          "gaussian"
         ],
         "xaxis": "x3",
         "y": [
          0.5423198213338765
         ],
         "yaxis": "y3"
        },
        {
         "alignmentgroup": "True",
         "bingroup": "x",
         "cliponaxis": false,
         "histfunc": "sum",
         "hovertemplate": "method=pcg<br>sketch_fn=%{x}<br>n=4096<br>deff=256<br>sum of time=%{y}<extra></extra>",
         "legendgroup": "pcg, gaussian",
         "marker": {
          "color": "#ab63fa",
          "pattern": {
           "shape": ""
          }
         },
         "name": "pcg, gaussian",
         "offsetgroup": "pcg, gaussian",
         "orientation": "v",
         "showlegend": false,
         "textangle": 0,
         "textposition": "outside",
         "texttemplate": "%{value:.2s}",
         "type": "histogram",
         "x": [
          "gaussian"
         ],
         "xaxis": "x4",
         "y": [
          0.5544108846667465
         ],
         "yaxis": "y4"
        },
        {
         "alignmentgroup": "True",
         "bingroup": "x",
         "cliponaxis": false,
         "histfunc": "sum",
         "hovertemplate": "method=pcg<br>sketch_fn=%{x}<br>n=4096<br>deff=512<br>sum of time=%{y}<extra></extra>",
         "legendgroup": "pcg, gaussian",
         "marker": {
          "color": "#ab63fa",
          "pattern": {
           "shape": ""
          }
         },
         "name": "pcg, gaussian",
         "offsetgroup": "pcg, gaussian",
         "orientation": "v",
         "showlegend": false,
         "textangle": 0,
         "textposition": "outside",
         "texttemplate": "%{value:.2s}",
         "type": "histogram",
         "x": [
          "gaussian"
         ],
         "xaxis": "x5",
         "y": [
          0.5603042800000063
         ],
         "yaxis": "y5"
        },
        {
         "alignmentgroup": "True",
         "bingroup": "x",
         "cliponaxis": false,
         "histfunc": "sum",
         "hovertemplate": "method=pcg<br>sketch_fn=%{x}<br>n=4096<br>deff=1024<br>sum of time=%{y}<extra></extra>",
         "legendgroup": "pcg, gaussian",
         "marker": {
          "color": "#ab63fa",
          "pattern": {
           "shape": ""
          }
         },
         "name": "pcg, gaussian",
         "offsetgroup": "pcg, gaussian",
         "orientation": "v",
         "showlegend": false,
         "textangle": 0,
         "textposition": "outside",
         "texttemplate": "%{value:.2s}",
         "type": "histogram",
         "x": [
          "gaussian"
         ],
         "xaxis": "x6",
         "y": [
          0.5993726286675761
         ],
         "yaxis": "y6"
        },
        {
         "alignmentgroup": "True",
         "bingroup": "x",
         "cliponaxis": false,
         "histfunc": "sum",
         "hovertemplate": "method=pcg<br>sketch_fn=%{x}<br>n=2048<br>deff=32<br>sum of time=%{y}<extra></extra>",
         "legendgroup": "pcg, sjlt",
         "marker": {
          "color": "#ab63fa",
          "pattern": {
           "shape": "/"
          }
         },
         "name": "pcg, sjlt",
         "offsetgroup": "pcg, sjlt",
         "orientation": "v",
         "showlegend": true,
         "textangle": 0,
         "textposition": "outside",
         "texttemplate": "%{value:.2s}",
         "type": "histogram",
         "x": [
          "sjlt"
         ],
         "xaxis": "x7",
         "y": [
          0.13378767866667354
         ],
         "yaxis": "y7"
        },
        {
         "alignmentgroup": "True",
         "bingroup": "x",
         "cliponaxis": false,
         "histfunc": "sum",
         "hovertemplate": "method=pcg<br>sketch_fn=%{x}<br>n=2048<br>deff=64<br>sum of time=%{y}<extra></extra>",
         "legendgroup": "pcg, sjlt",
         "marker": {
          "color": "#ab63fa",
          "pattern": {
           "shape": "/"
          }
         },
         "name": "pcg, sjlt",
         "offsetgroup": "pcg, sjlt",
         "orientation": "v",
         "showlegend": false,
         "textangle": 0,
         "textposition": "outside",
         "texttemplate": "%{value:.2s}",
         "type": "histogram",
         "x": [
          "sjlt"
         ],
         "xaxis": "x8",
         "y": [
          0.13684692033333096
         ],
         "yaxis": "y8"
        },
        {
         "alignmentgroup": "True",
         "bingroup": "x",
         "cliponaxis": false,
         "histfunc": "sum",
         "hovertemplate": "method=pcg<br>sketch_fn=%{x}<br>n=2048<br>deff=128<br>sum of time=%{y}<extra></extra>",
         "legendgroup": "pcg, sjlt",
         "marker": {
          "color": "#ab63fa",
          "pattern": {
           "shape": "/"
          }
         },
         "name": "pcg, sjlt",
         "offsetgroup": "pcg, sjlt",
         "orientation": "v",
         "showlegend": false,
         "textangle": 0,
         "textposition": "outside",
         "texttemplate": "%{value:.2s}",
         "type": "histogram",
         "x": [
          "sjlt"
         ],
         "xaxis": "x9",
         "y": [
          0.13442279000006843
         ],
         "yaxis": "y9"
        },
        {
         "alignmentgroup": "True",
         "bingroup": "x",
         "cliponaxis": false,
         "histfunc": "sum",
         "hovertemplate": "method=pcg<br>sketch_fn=%{x}<br>n=2048<br>deff=256<br>sum of time=%{y}<extra></extra>",
         "legendgroup": "pcg, sjlt",
         "marker": {
          "color": "#ab63fa",
          "pattern": {
           "shape": "/"
          }
         },
         "name": "pcg, sjlt",
         "offsetgroup": "pcg, sjlt",
         "orientation": "v",
         "showlegend": false,
         "textangle": 0,
         "textposition": "outside",
         "texttemplate": "%{value:.2s}",
         "type": "histogram",
         "x": [
          "sjlt"
         ],
         "xaxis": "x10",
         "y": [
          0.14334293299998535
         ],
         "yaxis": "y10"
        },
        {
         "alignmentgroup": "True",
         "bingroup": "x",
         "cliponaxis": false,
         "histfunc": "sum",
         "hovertemplate": "method=pcg<br>sketch_fn=%{x}<br>n=2048<br>deff=512<br>sum of time=%{y}<extra></extra>",
         "legendgroup": "pcg, sjlt",
         "marker": {
          "color": "#ab63fa",
          "pattern": {
           "shape": "/"
          }
         },
         "name": "pcg, sjlt",
         "offsetgroup": "pcg, sjlt",
         "orientation": "v",
         "showlegend": false,
         "textangle": 0,
         "textposition": "outside",
         "texttemplate": "%{value:.2s}",
         "type": "histogram",
         "x": [
          "sjlt"
         ],
         "xaxis": "x11",
         "y": [
          0.16178587666672684
         ],
         "yaxis": "y11"
        },
        {
         "alignmentgroup": "True",
         "bingroup": "x",
         "cliponaxis": false,
         "histfunc": "sum",
         "hovertemplate": "method=pcg<br>sketch_fn=%{x}<br>n=2048<br>deff=1024<br>sum of time=%{y}<extra></extra>",
         "legendgroup": "pcg, sjlt",
         "marker": {
          "color": "#ab63fa",
          "pattern": {
           "shape": "/"
          }
         },
         "name": "pcg, sjlt",
         "offsetgroup": "pcg, sjlt",
         "orientation": "v",
         "showlegend": false,
         "textangle": 0,
         "textposition": "outside",
         "texttemplate": "%{value:.2s}",
         "type": "histogram",
         "x": [
          "sjlt"
         ],
         "xaxis": "x12",
         "y": [
          0.3448980006667928
         ],
         "yaxis": "y12"
        },
        {
         "alignmentgroup": "True",
         "bingroup": "x",
         "cliponaxis": false,
         "histfunc": "sum",
         "hovertemplate": "method=pcg<br>sketch_fn=%{x}<br>n=4096<br>deff=32<br>sum of time=%{y}<extra></extra>",
         "legendgroup": "pcg, sjlt",
         "marker": {
          "color": "#ab63fa",
          "pattern": {
           "shape": "/"
          }
         },
         "name": "pcg, sjlt",
         "offsetgroup": "pcg, sjlt",
         "orientation": "v",
         "showlegend": false,
         "textangle": 0,
         "textposition": "outside",
         "texttemplate": "%{value:.2s}",
         "type": "histogram",
         "x": [
          "sjlt"
         ],
         "xaxis": "x",
         "y": [
          0.16394105733343167
         ],
         "yaxis": "y"
        },
        {
         "alignmentgroup": "True",
         "bingroup": "x",
         "cliponaxis": false,
         "histfunc": "sum",
         "hovertemplate": "method=pcg<br>sketch_fn=%{x}<br>n=4096<br>deff=64<br>sum of time=%{y}<extra></extra>",
         "legendgroup": "pcg, sjlt",
         "marker": {
          "color": "#ab63fa",
          "pattern": {
           "shape": "/"
          }
         },
         "name": "pcg, sjlt",
         "offsetgroup": "pcg, sjlt",
         "orientation": "v",
         "showlegend": false,
         "textangle": 0,
         "textposition": "outside",
         "texttemplate": "%{value:.2s}",
         "type": "histogram",
         "x": [
          "sjlt"
         ],
         "xaxis": "x2",
         "y": [
          0.16695695799990062
         ],
         "yaxis": "y2"
        },
        {
         "alignmentgroup": "True",
         "bingroup": "x",
         "cliponaxis": false,
         "histfunc": "sum",
         "hovertemplate": "method=pcg<br>sketch_fn=%{x}<br>n=4096<br>deff=128<br>sum of time=%{y}<extra></extra>",
         "legendgroup": "pcg, sjlt",
         "marker": {
          "color": "#ab63fa",
          "pattern": {
           "shape": "/"
          }
         },
         "name": "pcg, sjlt",
         "offsetgroup": "pcg, sjlt",
         "orientation": "v",
         "showlegend": false,
         "textangle": 0,
         "textposition": "outside",
         "texttemplate": "%{value:.2s}",
         "type": "histogram",
         "x": [
          "sjlt"
         ],
         "xaxis": "x3",
         "y": [
          0.17053923433316714
         ],
         "yaxis": "y3"
        },
        {
         "alignmentgroup": "True",
         "bingroup": "x",
         "cliponaxis": false,
         "histfunc": "sum",
         "hovertemplate": "method=pcg<br>sketch_fn=%{x}<br>n=4096<br>deff=256<br>sum of time=%{y}<extra></extra>",
         "legendgroup": "pcg, sjlt",
         "marker": {
          "color": "#ab63fa",
          "pattern": {
           "shape": "/"
          }
         },
         "name": "pcg, sjlt",
         "offsetgroup": "pcg, sjlt",
         "orientation": "v",
         "showlegend": false,
         "textangle": 0,
         "textposition": "outside",
         "texttemplate": "%{value:.2s}",
         "type": "histogram",
         "x": [
          "sjlt"
         ],
         "xaxis": "x4",
         "y": [
          0.18228690533336095
         ],
         "yaxis": "y4"
        },
        {
         "alignmentgroup": "True",
         "bingroup": "x",
         "cliponaxis": false,
         "histfunc": "sum",
         "hovertemplate": "method=pcg<br>sketch_fn=%{x}<br>n=4096<br>deff=512<br>sum of time=%{y}<extra></extra>",
         "legendgroup": "pcg, sjlt",
         "marker": {
          "color": "#ab63fa",
          "pattern": {
           "shape": "/"
          }
         },
         "name": "pcg, sjlt",
         "offsetgroup": "pcg, sjlt",
         "orientation": "v",
         "showlegend": false,
         "textangle": 0,
         "textposition": "outside",
         "texttemplate": "%{value:.2s}",
         "type": "histogram",
         "x": [
          "sjlt"
         ],
         "xaxis": "x5",
         "y": [
          0.20322910033246444
         ],
         "yaxis": "y5"
        },
        {
         "alignmentgroup": "True",
         "bingroup": "x",
         "cliponaxis": false,
         "histfunc": "sum",
         "hovertemplate": "method=pcg<br>sketch_fn=%{x}<br>n=4096<br>deff=1024<br>sum of time=%{y}<extra></extra>",
         "legendgroup": "pcg, sjlt",
         "marker": {
          "color": "#ab63fa",
          "pattern": {
           "shape": "/"
          }
         },
         "name": "pcg, sjlt",
         "offsetgroup": "pcg, sjlt",
         "orientation": "v",
         "showlegend": false,
         "textangle": 0,
         "textposition": "outside",
         "texttemplate": "%{value:.2s}",
         "type": "histogram",
         "x": [
          "sjlt"
         ],
         "xaxis": "x6",
         "y": [
          0.29879357533294143
         ],
         "yaxis": "y6"
        },
        {
         "alignmentgroup": "True",
         "bingroup": "x",
         "cliponaxis": false,
         "histfunc": "sum",
         "hovertemplate": "method=pcg<br>sketch_fn=%{x}<br>n=2048<br>deff=32<br>sum of time=%{y}<extra></extra>",
         "legendgroup": "pcg, srht",
         "marker": {
          "color": "#ab63fa",
          "pattern": {
           "shape": "\\"
          }
         },
         "name": "pcg, srht",
         "offsetgroup": "pcg, srht",
         "orientation": "v",
         "showlegend": true,
         "textangle": 0,
         "textposition": "outside",
         "texttemplate": "%{value:.2s}",
         "type": "histogram",
         "x": [
          "srht"
         ],
         "xaxis": "x7",
         "y": [
          0.254587226999926
         ],
         "yaxis": "y7"
        },
        {
         "alignmentgroup": "True",
         "bingroup": "x",
         "cliponaxis": false,
         "histfunc": "sum",
         "hovertemplate": "method=pcg<br>sketch_fn=%{x}<br>n=2048<br>deff=64<br>sum of time=%{y}<extra></extra>",
         "legendgroup": "pcg, srht",
         "marker": {
          "color": "#ab63fa",
          "pattern": {
           "shape": "\\"
          }
         },
         "name": "pcg, srht",
         "offsetgroup": "pcg, srht",
         "orientation": "v",
         "showlegend": false,
         "textangle": 0,
         "textposition": "outside",
         "texttemplate": "%{value:.2s}",
         "type": "histogram",
         "x": [
          "srht"
         ],
         "xaxis": "x8",
         "y": [
          0.25804882400007045
         ],
         "yaxis": "y8"
        },
        {
         "alignmentgroup": "True",
         "bingroup": "x",
         "cliponaxis": false,
         "histfunc": "sum",
         "hovertemplate": "method=pcg<br>sketch_fn=%{x}<br>n=2048<br>deff=128<br>sum of time=%{y}<extra></extra>",
         "legendgroup": "pcg, srht",
         "marker": {
          "color": "#ab63fa",
          "pattern": {
           "shape": "\\"
          }
         },
         "name": "pcg, srht",
         "offsetgroup": "pcg, srht",
         "orientation": "v",
         "showlegend": false,
         "textangle": 0,
         "textposition": "outside",
         "texttemplate": "%{value:.2s}",
         "type": "histogram",
         "x": [
          "srht"
         ],
         "xaxis": "x9",
         "y": [
          0.2479430510000687
         ],
         "yaxis": "y9"
        },
        {
         "alignmentgroup": "True",
         "bingroup": "x",
         "cliponaxis": false,
         "histfunc": "sum",
         "hovertemplate": "method=pcg<br>sketch_fn=%{x}<br>n=2048<br>deff=256<br>sum of time=%{y}<extra></extra>",
         "legendgroup": "pcg, srht",
         "marker": {
          "color": "#ab63fa",
          "pattern": {
           "shape": "\\"
          }
         },
         "name": "pcg, srht",
         "offsetgroup": "pcg, srht",
         "orientation": "v",
         "showlegend": false,
         "textangle": 0,
         "textposition": "outside",
         "texttemplate": "%{value:.2s}",
         "type": "histogram",
         "x": [
          "srht"
         ],
         "xaxis": "x10",
         "y": [
          0.24836464500018943
         ],
         "yaxis": "y10"
        },
        {
         "alignmentgroup": "True",
         "bingroup": "x",
         "cliponaxis": false,
         "histfunc": "sum",
         "hovertemplate": "method=pcg<br>sketch_fn=%{x}<br>n=2048<br>deff=512<br>sum of time=%{y}<extra></extra>",
         "legendgroup": "pcg, srht",
         "marker": {
          "color": "#ab63fa",
          "pattern": {
           "shape": "\\"
          }
         },
         "name": "pcg, srht",
         "offsetgroup": "pcg, srht",
         "orientation": "v",
         "showlegend": false,
         "textangle": 0,
         "textposition": "outside",
         "texttemplate": "%{value:.2s}",
         "type": "histogram",
         "x": [
          "srht"
         ],
         "xaxis": "x11",
         "y": [
          0.24857453466665902
         ],
         "yaxis": "y11"
        },
        {
         "alignmentgroup": "True",
         "bingroup": "x",
         "cliponaxis": false,
         "histfunc": "sum",
         "hovertemplate": "method=pcg<br>sketch_fn=%{x}<br>n=2048<br>deff=1024<br>sum of time=%{y}<extra></extra>",
         "legendgroup": "pcg, srht",
         "marker": {
          "color": "#ab63fa",
          "pattern": {
           "shape": "\\"
          }
         },
         "name": "pcg, srht",
         "offsetgroup": "pcg, srht",
         "orientation": "v",
         "showlegend": false,
         "textangle": 0,
         "textposition": "outside",
         "texttemplate": "%{value:.2s}",
         "type": "histogram",
         "x": [
          "srht"
         ],
         "xaxis": "x12",
         "y": [
          0.24871263733317994
         ],
         "yaxis": "y12"
        },
        {
         "alignmentgroup": "True",
         "bingroup": "x",
         "cliponaxis": false,
         "histfunc": "sum",
         "hovertemplate": "method=pcg<br>sketch_fn=%{x}<br>n=4096<br>deff=32<br>sum of time=%{y}<extra></extra>",
         "legendgroup": "pcg, srht",
         "marker": {
          "color": "#ab63fa",
          "pattern": {
           "shape": "\\"
          }
         },
         "name": "pcg, srht",
         "offsetgroup": "pcg, srht",
         "orientation": "v",
         "showlegend": false,
         "textangle": 0,
         "textposition": "outside",
         "texttemplate": "%{value:.2s}",
         "type": "histogram",
         "x": [
          "srht"
         ],
         "xaxis": "x",
         "y": [
          0.3687201410002672
         ],
         "yaxis": "y"
        },
        {
         "alignmentgroup": "True",
         "bingroup": "x",
         "cliponaxis": false,
         "histfunc": "sum",
         "hovertemplate": "method=pcg<br>sketch_fn=%{x}<br>n=4096<br>deff=64<br>sum of time=%{y}<extra></extra>",
         "legendgroup": "pcg, srht",
         "marker": {
          "color": "#ab63fa",
          "pattern": {
           "shape": "\\"
          }
         },
         "name": "pcg, srht",
         "offsetgroup": "pcg, srht",
         "orientation": "v",
         "showlegend": false,
         "textangle": 0,
         "textposition": "outside",
         "texttemplate": "%{value:.2s}",
         "type": "histogram",
         "x": [
          "srht"
         ],
         "xaxis": "x2",
         "y": [
          0.37277289366678207
         ],
         "yaxis": "y2"
        },
        {
         "alignmentgroup": "True",
         "bingroup": "x",
         "cliponaxis": false,
         "histfunc": "sum",
         "hovertemplate": "method=pcg<br>sketch_fn=%{x}<br>n=4096<br>deff=128<br>sum of time=%{y}<extra></extra>",
         "legendgroup": "pcg, srht",
         "marker": {
          "color": "#ab63fa",
          "pattern": {
           "shape": "\\"
          }
         },
         "name": "pcg, srht",
         "offsetgroup": "pcg, srht",
         "orientation": "v",
         "showlegend": false,
         "textangle": 0,
         "textposition": "outside",
         "texttemplate": "%{value:.2s}",
         "type": "histogram",
         "x": [
          "srht"
         ],
         "xaxis": "x3",
         "y": [
          0.3705407526673904
         ],
         "yaxis": "y3"
        },
        {
         "alignmentgroup": "True",
         "bingroup": "x",
         "cliponaxis": false,
         "histfunc": "sum",
         "hovertemplate": "method=pcg<br>sketch_fn=%{x}<br>n=4096<br>deff=256<br>sum of time=%{y}<extra></extra>",
         "legendgroup": "pcg, srht",
         "marker": {
          "color": "#ab63fa",
          "pattern": {
           "shape": "\\"
          }
         },
         "name": "pcg, srht",
         "offsetgroup": "pcg, srht",
         "orientation": "v",
         "showlegend": false,
         "textangle": 0,
         "textposition": "outside",
         "texttemplate": "%{value:.2s}",
         "type": "histogram",
         "x": [
          "srht"
         ],
         "xaxis": "x4",
         "y": [
          0.37551704633309174
         ],
         "yaxis": "y4"
        },
        {
         "alignmentgroup": "True",
         "bingroup": "x",
         "cliponaxis": false,
         "histfunc": "sum",
         "hovertemplate": "method=pcg<br>sketch_fn=%{x}<br>n=4096<br>deff=512<br>sum of time=%{y}<extra></extra>",
         "legendgroup": "pcg, srht",
         "marker": {
          "color": "#ab63fa",
          "pattern": {
           "shape": "\\"
          }
         },
         "name": "pcg, srht",
         "offsetgroup": "pcg, srht",
         "orientation": "v",
         "showlegend": false,
         "textangle": 0,
         "textposition": "outside",
         "texttemplate": "%{value:.2s}",
         "type": "histogram",
         "x": [
          "srht"
         ],
         "xaxis": "x5",
         "y": [
          0.3839346413339323
         ],
         "yaxis": "y5"
        },
        {
         "alignmentgroup": "True",
         "bingroup": "x",
         "cliponaxis": false,
         "histfunc": "sum",
         "hovertemplate": "method=pcg<br>sketch_fn=%{x}<br>n=4096<br>deff=1024<br>sum of time=%{y}<extra></extra>",
         "legendgroup": "pcg, srht",
         "marker": {
          "color": "#ab63fa",
          "pattern": {
           "shape": "\\"
          }
         },
         "name": "pcg, srht",
         "offsetgroup": "pcg, srht",
         "orientation": "v",
         "showlegend": false,
         "textangle": 0,
         "textposition": "outside",
         "texttemplate": "%{value:.2s}",
         "type": "histogram",
         "x": [
          "srht"
         ],
         "xaxis": "x6",
         "y": [
          0.40270571733344696
         ],
         "yaxis": "y6"
        }
       ],
       "layout": {
        "annotations": [
         {
          "font": {},
          "showarrow": false,
          "text": "deff=32",
          "x": 0.07333333333333333,
          "xanchor": "center",
          "xref": "paper",
          "y": 1,
          "yanchor": "bottom",
          "yref": "paper"
         },
         {
          "font": {},
          "showarrow": false,
          "text": "deff=64",
          "x": 0.24,
          "xanchor": "center",
          "xref": "paper",
          "y": 1,
          "yanchor": "bottom",
          "yref": "paper"
         },
         {
          "font": {},
          "showarrow": false,
          "text": "deff=128",
          "x": 0.4066666666666666,
          "xanchor": "center",
          "xref": "paper",
          "y": 1,
          "yanchor": "bottom",
          "yref": "paper"
         },
         {
          "font": {},
          "showarrow": false,
          "text": "deff=256",
          "x": 0.5733333333333334,
          "xanchor": "center",
          "xref": "paper",
          "y": 1,
          "yanchor": "bottom",
          "yref": "paper"
         },
         {
          "font": {},
          "showarrow": false,
          "text": "deff=512",
          "x": 0.74,
          "xanchor": "center",
          "xref": "paper",
          "y": 1,
          "yanchor": "bottom",
          "yref": "paper"
         },
         {
          "font": {},
          "showarrow": false,
          "text": "deff=1024",
          "x": 0.9066666666666667,
          "xanchor": "center",
          "xref": "paper",
          "y": 1,
          "yanchor": "bottom",
          "yref": "paper"
         },
         {
          "font": {},
          "showarrow": false,
          "text": "n=4096",
          "textangle": 90,
          "x": 0.98,
          "xanchor": "left",
          "xref": "paper",
          "y": 0.2425,
          "yanchor": "middle",
          "yref": "paper"
         },
         {
          "font": {},
          "showarrow": false,
          "text": "n=2048",
          "textangle": 90,
          "x": 0.98,
          "xanchor": "left",
          "xref": "paper",
          "y": 0.7575000000000001,
          "yanchor": "middle",
          "yref": "paper"
         }
        ],
        "barmode": "group",
        "height": 700,
        "legend": {
         "title": {
          "text": "method, sketch_fn"
         },
         "tracegroupgap": 0
        },
        "margin": {
         "t": 60
        },
        "template": {
         "data": {
          "bar": [
           {
            "error_x": {
             "color": "#2a3f5f"
            },
            "error_y": {
             "color": "#2a3f5f"
            },
            "marker": {
             "line": {
              "color": "#E5ECF6",
              "width": 0.5
             },
             "pattern": {
              "fillmode": "overlay",
              "size": 10,
              "solidity": 0.2
             }
            },
            "type": "bar"
           }
          ],
          "barpolar": [
           {
            "marker": {
             "line": {
              "color": "#E5ECF6",
              "width": 0.5
             },
             "pattern": {
              "fillmode": "overlay",
              "size": 10,
              "solidity": 0.2
             }
            },
            "type": "barpolar"
           }
          ],
          "carpet": [
           {
            "aaxis": {
             "endlinecolor": "#2a3f5f",
             "gridcolor": "white",
             "linecolor": "white",
             "minorgridcolor": "white",
             "startlinecolor": "#2a3f5f"
            },
            "baxis": {
             "endlinecolor": "#2a3f5f",
             "gridcolor": "white",
             "linecolor": "white",
             "minorgridcolor": "white",
             "startlinecolor": "#2a3f5f"
            },
            "type": "carpet"
           }
          ],
          "choropleth": [
           {
            "colorbar": {
             "outlinewidth": 0,
             "ticks": ""
            },
            "type": "choropleth"
           }
          ],
          "contour": [
           {
            "colorbar": {
             "outlinewidth": 0,
             "ticks": ""
            },
            "colorscale": [
             [
              0,
              "#0d0887"
             ],
             [
              0.1111111111111111,
              "#46039f"
             ],
             [
              0.2222222222222222,
              "#7201a8"
             ],
             [
              0.3333333333333333,
              "#9c179e"
             ],
             [
              0.4444444444444444,
              "#bd3786"
             ],
             [
              0.5555555555555556,
              "#d8576b"
             ],
             [
              0.6666666666666666,
              "#ed7953"
             ],
             [
              0.7777777777777778,
              "#fb9f3a"
             ],
             [
              0.8888888888888888,
              "#fdca26"
             ],
             [
              1,
              "#f0f921"
             ]
            ],
            "type": "contour"
           }
          ],
          "contourcarpet": [
           {
            "colorbar": {
             "outlinewidth": 0,
             "ticks": ""
            },
            "type": "contourcarpet"
           }
          ],
          "heatmap": [
           {
            "colorbar": {
             "outlinewidth": 0,
             "ticks": ""
            },
            "colorscale": [
             [
              0,
              "#0d0887"
             ],
             [
              0.1111111111111111,
              "#46039f"
             ],
             [
              0.2222222222222222,
              "#7201a8"
             ],
             [
              0.3333333333333333,
              "#9c179e"
             ],
             [
              0.4444444444444444,
              "#bd3786"
             ],
             [
              0.5555555555555556,
              "#d8576b"
             ],
             [
              0.6666666666666666,
              "#ed7953"
             ],
             [
              0.7777777777777778,
              "#fb9f3a"
             ],
             [
              0.8888888888888888,
              "#fdca26"
             ],
             [
              1,
              "#f0f921"
             ]
            ],
            "type": "heatmap"
           }
          ],
          "heatmapgl": [
           {
            "colorbar": {
             "outlinewidth": 0,
             "ticks": ""
            },
            "colorscale": [
             [
              0,
              "#0d0887"
             ],
             [
              0.1111111111111111,
              "#46039f"
             ],
             [
              0.2222222222222222,
              "#7201a8"
             ],
             [
              0.3333333333333333,
              "#9c179e"
             ],
             [
              0.4444444444444444,
              "#bd3786"
             ],
             [
              0.5555555555555556,
              "#d8576b"
             ],
             [
              0.6666666666666666,
              "#ed7953"
             ],
             [
              0.7777777777777778,
              "#fb9f3a"
             ],
             [
              0.8888888888888888,
              "#fdca26"
             ],
             [
              1,
              "#f0f921"
             ]
            ],
            "type": "heatmapgl"
           }
          ],
          "histogram": [
           {
            "marker": {
             "pattern": {
              "fillmode": "overlay",
              "size": 10,
              "solidity": 0.2
             }
            },
            "type": "histogram"
           }
          ],
          "histogram2d": [
           {
            "colorbar": {
             "outlinewidth": 0,
             "ticks": ""
            },
            "colorscale": [
             [
              0,
              "#0d0887"
             ],
             [
              0.1111111111111111,
              "#46039f"
             ],
             [
              0.2222222222222222,
              "#7201a8"
             ],
             [
              0.3333333333333333,
              "#9c179e"
             ],
             [
              0.4444444444444444,
              "#bd3786"
             ],
             [
              0.5555555555555556,
              "#d8576b"
             ],
             [
              0.6666666666666666,
              "#ed7953"
             ],
             [
              0.7777777777777778,
              "#fb9f3a"
             ],
             [
              0.8888888888888888,
              "#fdca26"
             ],
             [
              1,
              "#f0f921"
             ]
            ],
            "type": "histogram2d"
           }
          ],
          "histogram2dcontour": [
           {
            "colorbar": {
             "outlinewidth": 0,
             "ticks": ""
            },
            "colorscale": [
             [
              0,
              "#0d0887"
             ],
             [
              0.1111111111111111,
              "#46039f"
             ],
             [
              0.2222222222222222,
              "#7201a8"
             ],
             [
              0.3333333333333333,
              "#9c179e"
             ],
             [
              0.4444444444444444,
              "#bd3786"
             ],
             [
              0.5555555555555556,
              "#d8576b"
             ],
             [
              0.6666666666666666,
              "#ed7953"
             ],
             [
              0.7777777777777778,
              "#fb9f3a"
             ],
             [
              0.8888888888888888,
              "#fdca26"
             ],
             [
              1,
              "#f0f921"
             ]
            ],
            "type": "histogram2dcontour"
           }
          ],
          "mesh3d": [
           {
            "colorbar": {
             "outlinewidth": 0,
             "ticks": ""
            },
            "type": "mesh3d"
           }
          ],
          "parcoords": [
           {
            "line": {
             "colorbar": {
              "outlinewidth": 0,
              "ticks": ""
             }
            },
            "type": "parcoords"
           }
          ],
          "pie": [
           {
            "automargin": true,
            "type": "pie"
           }
          ],
          "scatter": [
           {
            "fillpattern": {
             "fillmode": "overlay",
             "size": 10,
             "solidity": 0.2
            },
            "type": "scatter"
           }
          ],
          "scatter3d": [
           {
            "line": {
             "colorbar": {
              "outlinewidth": 0,
              "ticks": ""
             }
            },
            "marker": {
             "colorbar": {
              "outlinewidth": 0,
              "ticks": ""
             }
            },
            "type": "scatter3d"
           }
          ],
          "scattercarpet": [
           {
            "marker": {
             "colorbar": {
              "outlinewidth": 0,
              "ticks": ""
             }
            },
            "type": "scattercarpet"
           }
          ],
          "scattergeo": [
           {
            "marker": {
             "colorbar": {
              "outlinewidth": 0,
              "ticks": ""
             }
            },
            "type": "scattergeo"
           }
          ],
          "scattergl": [
           {
            "marker": {
             "colorbar": {
              "outlinewidth": 0,
              "ticks": ""
             }
            },
            "type": "scattergl"
           }
          ],
          "scattermapbox": [
           {
            "marker": {
             "colorbar": {
              "outlinewidth": 0,
              "ticks": ""
             }
            },
            "type": "scattermapbox"
           }
          ],
          "scatterpolar": [
           {
            "marker": {
             "colorbar": {
              "outlinewidth": 0,
              "ticks": ""
             }
            },
            "type": "scatterpolar"
           }
          ],
          "scatterpolargl": [
           {
            "marker": {
             "colorbar": {
              "outlinewidth": 0,
              "ticks": ""
             }
            },
            "type": "scatterpolargl"
           }
          ],
          "scatterternary": [
           {
            "marker": {
             "colorbar": {
              "outlinewidth": 0,
              "ticks": ""
             }
            },
            "type": "scatterternary"
           }
          ],
          "surface": [
           {
            "colorbar": {
             "outlinewidth": 0,
             "ticks": ""
            },
            "colorscale": [
             [
              0,
              "#0d0887"
             ],
             [
              0.1111111111111111,
              "#46039f"
             ],
             [
              0.2222222222222222,
              "#7201a8"
             ],
             [
              0.3333333333333333,
              "#9c179e"
             ],
             [
              0.4444444444444444,
              "#bd3786"
             ],
             [
              0.5555555555555556,
              "#d8576b"
             ],
             [
              0.6666666666666666,
              "#ed7953"
             ],
             [
              0.7777777777777778,
              "#fb9f3a"
             ],
             [
              0.8888888888888888,
              "#fdca26"
             ],
             [
              1,
              "#f0f921"
             ]
            ],
            "type": "surface"
           }
          ],
          "table": [
           {
            "cells": {
             "fill": {
              "color": "#EBF0F8"
             },
             "line": {
              "color": "white"
             }
            },
            "header": {
             "fill": {
              "color": "#C8D4E3"
             },
             "line": {
              "color": "white"
             }
            },
            "type": "table"
           }
          ]
         },
         "layout": {
          "annotationdefaults": {
           "arrowcolor": "#2a3f5f",
           "arrowhead": 0,
           "arrowwidth": 1
          },
          "autotypenumbers": "strict",
          "coloraxis": {
           "colorbar": {
            "outlinewidth": 0,
            "ticks": ""
           }
          },
          "colorscale": {
           "diverging": [
            [
             0,
             "#8e0152"
            ],
            [
             0.1,
             "#c51b7d"
            ],
            [
             0.2,
             "#de77ae"
            ],
            [
             0.3,
             "#f1b6da"
            ],
            [
             0.4,
             "#fde0ef"
            ],
            [
             0.5,
             "#f7f7f7"
            ],
            [
             0.6,
             "#e6f5d0"
            ],
            [
             0.7,
             "#b8e186"
            ],
            [
             0.8,
             "#7fbc41"
            ],
            [
             0.9,
             "#4d9221"
            ],
            [
             1,
             "#276419"
            ]
           ],
           "sequential": [
            [
             0,
             "#0d0887"
            ],
            [
             0.1111111111111111,
             "#46039f"
            ],
            [
             0.2222222222222222,
             "#7201a8"
            ],
            [
             0.3333333333333333,
             "#9c179e"
            ],
            [
             0.4444444444444444,
             "#bd3786"
            ],
            [
             0.5555555555555556,
             "#d8576b"
            ],
            [
             0.6666666666666666,
             "#ed7953"
            ],
            [
             0.7777777777777778,
             "#fb9f3a"
            ],
            [
             0.8888888888888888,
             "#fdca26"
            ],
            [
             1,
             "#f0f921"
            ]
           ],
           "sequentialminus": [
            [
             0,
             "#0d0887"
            ],
            [
             0.1111111111111111,
             "#46039f"
            ],
            [
             0.2222222222222222,
             "#7201a8"
            ],
            [
             0.3333333333333333,
             "#9c179e"
            ],
            [
             0.4444444444444444,
             "#bd3786"
            ],
            [
             0.5555555555555556,
             "#d8576b"
            ],
            [
             0.6666666666666666,
             "#ed7953"
            ],
            [
             0.7777777777777778,
             "#fb9f3a"
            ],
            [
             0.8888888888888888,
             "#fdca26"
            ],
            [
             1,
             "#f0f921"
            ]
           ]
          },
          "colorway": [
           "#636efa",
           "#EF553B",
           "#00cc96",
           "#ab63fa",
           "#FFA15A",
           "#19d3f3",
           "#FF6692",
           "#B6E880",
           "#FF97FF",
           "#FECB52"
          ],
          "font": {
           "color": "#2a3f5f"
          },
          "geo": {
           "bgcolor": "white",
           "lakecolor": "white",
           "landcolor": "#E5ECF6",
           "showlakes": true,
           "showland": true,
           "subunitcolor": "white"
          },
          "hoverlabel": {
           "align": "left"
          },
          "hovermode": "closest",
          "mapbox": {
           "style": "light"
          },
          "paper_bgcolor": "white",
          "plot_bgcolor": "#E5ECF6",
          "polar": {
           "angularaxis": {
            "gridcolor": "white",
            "linecolor": "white",
            "ticks": ""
           },
           "bgcolor": "#E5ECF6",
           "radialaxis": {
            "gridcolor": "white",
            "linecolor": "white",
            "ticks": ""
           }
          },
          "scene": {
           "xaxis": {
            "backgroundcolor": "#E5ECF6",
            "gridcolor": "white",
            "gridwidth": 2,
            "linecolor": "white",
            "showbackground": true,
            "ticks": "",
            "zerolinecolor": "white"
           },
           "yaxis": {
            "backgroundcolor": "#E5ECF6",
            "gridcolor": "white",
            "gridwidth": 2,
            "linecolor": "white",
            "showbackground": true,
            "ticks": "",
            "zerolinecolor": "white"
           },
           "zaxis": {
            "backgroundcolor": "#E5ECF6",
            "gridcolor": "white",
            "gridwidth": 2,
            "linecolor": "white",
            "showbackground": true,
            "ticks": "",
            "zerolinecolor": "white"
           }
          },
          "shapedefaults": {
           "line": {
            "color": "#2a3f5f"
           }
          },
          "ternary": {
           "aaxis": {
            "gridcolor": "white",
            "linecolor": "white",
            "ticks": ""
           },
           "baxis": {
            "gridcolor": "white",
            "linecolor": "white",
            "ticks": ""
           },
           "bgcolor": "#E5ECF6",
           "caxis": {
            "gridcolor": "white",
            "linecolor": "white",
            "ticks": ""
           }
          },
          "title": {
           "x": 0.05
          },
          "xaxis": {
           "automargin": true,
           "gridcolor": "white",
           "linecolor": "white",
           "ticks": "",
           "title": {
            "standoff": 15
           },
           "zerolinecolor": "white",
           "zerolinewidth": 2
          },
          "yaxis": {
           "automargin": true,
           "gridcolor": "white",
           "linecolor": "white",
           "ticks": "",
           "title": {
            "standoff": 15
           },
           "zerolinecolor": "white",
           "zerolinewidth": 2
          }
         }
        },
        "xaxis": {
         "anchor": "y",
         "categoryarray": [
          "gaussian",
          "sjlt",
          "srht",
          "none"
         ],
         "categoryorder": "array",
         "domain": [
          0,
          0.14666666666666667
         ],
         "title": {
          "text": "sketch_fn"
         }
        },
        "xaxis10": {
         "anchor": "y10",
         "domain": [
          0.5,
          0.6466666666666667
         ],
         "matches": "x",
         "showticklabels": false
        },
        "xaxis11": {
         "anchor": "y11",
         "domain": [
          0.6666666666666666,
          0.8133333333333332
         ],
         "matches": "x",
         "showticklabels": false
        },
        "xaxis12": {
         "anchor": "y12",
         "domain": [
          0.8333333333333334,
          0.98
         ],
         "matches": "x",
         "showticklabels": false
        },
        "xaxis2": {
         "anchor": "y2",
         "categoryarray": [
          "gaussian",
          "sjlt",
          "srht",
          "none"
         ],
         "categoryorder": "array",
         "domain": [
          0.16666666666666666,
          0.31333333333333335
         ],
         "matches": "x",
         "title": {
          "text": "sketch_fn"
         }
        },
        "xaxis3": {
         "anchor": "y3",
         "categoryarray": [
          "gaussian",
          "sjlt",
          "srht",
          "none"
         ],
         "categoryorder": "array",
         "domain": [
          0.3333333333333333,
          0.48
         ],
         "matches": "x",
         "title": {
          "text": "sketch_fn"
         }
        },
        "xaxis4": {
         "anchor": "y4",
         "categoryarray": [
          "gaussian",
          "sjlt",
          "srht",
          "none"
         ],
         "categoryorder": "array",
         "domain": [
          0.5,
          0.6466666666666667
         ],
         "matches": "x",
         "title": {
          "text": "sketch_fn"
         }
        },
        "xaxis5": {
         "anchor": "y5",
         "categoryarray": [
          "gaussian",
          "sjlt",
          "srht",
          "none"
         ],
         "categoryorder": "array",
         "domain": [
          0.6666666666666666,
          0.8133333333333332
         ],
         "matches": "x",
         "title": {
          "text": "sketch_fn"
         }
        },
        "xaxis6": {
         "anchor": "y6",
         "categoryarray": [
          "gaussian",
          "sjlt",
          "srht",
          "none"
         ],
         "categoryorder": "array",
         "domain": [
          0.8333333333333334,
          0.98
         ],
         "matches": "x",
         "title": {
          "text": "sketch_fn"
         }
        },
        "xaxis7": {
         "anchor": "y7",
         "domain": [
          0,
          0.14666666666666667
         ],
         "matches": "x",
         "showticklabels": false
        },
        "xaxis8": {
         "anchor": "y8",
         "domain": [
          0.16666666666666666,
          0.31333333333333335
         ],
         "matches": "x",
         "showticklabels": false
        },
        "xaxis9": {
         "anchor": "y9",
         "domain": [
          0.3333333333333333,
          0.48
         ],
         "matches": "x",
         "showticklabels": false
        },
        "yaxis": {
         "anchor": "x",
         "domain": [
          0,
          0.485
         ],
         "title": {
          "text": "sum of time"
         }
        },
        "yaxis10": {
         "anchor": "x10",
         "domain": [
          0.515,
          1
         ],
         "matches": "y",
         "showticklabels": false
        },
        "yaxis11": {
         "anchor": "x11",
         "domain": [
          0.515,
          1
         ],
         "matches": "y",
         "showticklabels": false
        },
        "yaxis12": {
         "anchor": "x12",
         "domain": [
          0.515,
          1
         ],
         "matches": "y",
         "showticklabels": false
        },
        "yaxis2": {
         "anchor": "x2",
         "domain": [
          0,
          0.485
         ],
         "matches": "y",
         "showticklabels": false
        },
        "yaxis3": {
         "anchor": "x3",
         "domain": [
          0,
          0.485
         ],
         "matches": "y",
         "showticklabels": false
        },
        "yaxis4": {
         "anchor": "x4",
         "domain": [
          0,
          0.485
         ],
         "matches": "y",
         "showticklabels": false
        },
        "yaxis5": {
         "anchor": "x5",
         "domain": [
          0,
          0.485
         ],
         "matches": "y",
         "showticklabels": false
        },
        "yaxis6": {
         "anchor": "x6",
         "domain": [
          0,
          0.485
         ],
         "matches": "y",
         "showticklabels": false
        },
        "yaxis7": {
         "anchor": "x7",
         "domain": [
          0.515,
          1
         ],
         "matches": "y",
         "title": {
          "text": "sum of time"
         }
        },
        "yaxis8": {
         "anchor": "x8",
         "domain": [
          0.515,
          1
         ],
         "matches": "y",
         "showticklabels": false
        },
        "yaxis9": {
         "anchor": "x9",
         "domain": [
          0.515,
          1
         ],
         "matches": "y",
         "showticklabels": false
        }
       }
      },
      "text/html": [
       "<div>                            <div id=\"039ec5db-8ac3-4607-b5e1-f5be0e5782ff\" class=\"plotly-graph-div\" style=\"height:700px; width:100%;\"></div>            <script type=\"text/javascript\">                require([\"plotly\"], function(Plotly) {                    window.PLOTLYENV=window.PLOTLYENV || {};                                    if (document.getElementById(\"039ec5db-8ac3-4607-b5e1-f5be0e5782ff\")) {                    Plotly.newPlot(                        \"039ec5db-8ac3-4607-b5e1-f5be0e5782ff\",                        [{\"alignmentgroup\":\"True\",\"bingroup\":\"x\",\"histfunc\":\"sum\",\"hovertemplate\":\"method=adacg\\u003cbr\\u003esketch_fn=%{x}\\u003cbr\\u003en=2048\\u003cbr\\u003edeff=32\\u003cbr\\u003esum of time=%{y}\\u003cextra\\u003e\\u003c\\u002fextra\\u003e\",\"legendgroup\":\"adacg, gaussian\",\"marker\":{\"color\":\"#636efa\",\"pattern\":{\"shape\":\"\"}},\"name\":\"adacg, gaussian\",\"offsetgroup\":\"adacg, gaussian\",\"orientation\":\"v\",\"showlegend\":true,\"texttemplate\":\"%{value:.2s}\",\"x\":[\"gaussian\"],\"xaxis\":\"x7\",\"y\":[0.09714892466687766],\"yaxis\":\"y7\",\"type\":\"histogram\",\"cliponaxis\":false,\"textangle\":0,\"textposition\":\"outside\"},{\"alignmentgroup\":\"True\",\"bingroup\":\"x\",\"histfunc\":\"sum\",\"hovertemplate\":\"method=adacg\\u003cbr\\u003esketch_fn=%{x}\\u003cbr\\u003en=2048\\u003cbr\\u003edeff=64\\u003cbr\\u003esum of time=%{y}\\u003cextra\\u003e\\u003c\\u002fextra\\u003e\",\"legendgroup\":\"adacg, gaussian\",\"marker\":{\"color\":\"#636efa\",\"pattern\":{\"shape\":\"\"}},\"name\":\"adacg, gaussian\",\"offsetgroup\":\"adacg, gaussian\",\"orientation\":\"v\",\"showlegend\":false,\"texttemplate\":\"%{value:.2s}\",\"x\":[\"gaussian\"],\"xaxis\":\"x8\",\"y\":[0.10881390199998955],\"yaxis\":\"y8\",\"type\":\"histogram\",\"cliponaxis\":false,\"textangle\":0,\"textposition\":\"outside\"},{\"alignmentgroup\":\"True\",\"bingroup\":\"x\",\"histfunc\":\"sum\",\"hovertemplate\":\"method=adacg\\u003cbr\\u003esketch_fn=%{x}\\u003cbr\\u003en=2048\\u003cbr\\u003edeff=128\\u003cbr\\u003esum of time=%{y}\\u003cextra\\u003e\\u003c\\u002fextra\\u003e\",\"legendgroup\":\"adacg, gaussian\",\"marker\":{\"color\":\"#636efa\",\"pattern\":{\"shape\":\"\"}},\"name\":\"adacg, gaussian\",\"offsetgroup\":\"adacg, gaussian\",\"orientation\":\"v\",\"showlegend\":false,\"texttemplate\":\"%{value:.2s}\",\"x\":[\"gaussian\"],\"xaxis\":\"x9\",\"y\":[0.08897842866660235],\"yaxis\":\"y9\",\"type\":\"histogram\",\"cliponaxis\":false,\"textangle\":0,\"textposition\":\"outside\"},{\"alignmentgroup\":\"True\",\"bingroup\":\"x\",\"histfunc\":\"sum\",\"hovertemplate\":\"method=adacg\\u003cbr\\u003esketch_fn=%{x}\\u003cbr\\u003en=2048\\u003cbr\\u003edeff=256\\u003cbr\\u003esum of time=%{y}\\u003cextra\\u003e\\u003c\\u002fextra\\u003e\",\"legendgroup\":\"adacg, gaussian\",\"marker\":{\"color\":\"#636efa\",\"pattern\":{\"shape\":\"\"}},\"name\":\"adacg, gaussian\",\"offsetgroup\":\"adacg, gaussian\",\"orientation\":\"v\",\"showlegend\":false,\"texttemplate\":\"%{value:.2s}\",\"x\":[\"gaussian\"],\"xaxis\":\"x10\",\"y\":[0.13095803933356365],\"yaxis\":\"y10\",\"type\":\"histogram\",\"cliponaxis\":false,\"textangle\":0,\"textposition\":\"outside\"},{\"alignmentgroup\":\"True\",\"bingroup\":\"x\",\"histfunc\":\"sum\",\"hovertemplate\":\"method=adacg\\u003cbr\\u003esketch_fn=%{x}\\u003cbr\\u003en=2048\\u003cbr\\u003edeff=512\\u003cbr\\u003esum of time=%{y}\\u003cextra\\u003e\\u003c\\u002fextra\\u003e\",\"legendgroup\":\"adacg, gaussian\",\"marker\":{\"color\":\"#636efa\",\"pattern\":{\"shape\":\"\"}},\"name\":\"adacg, gaussian\",\"offsetgroup\":\"adacg, gaussian\",\"orientation\":\"v\",\"showlegend\":false,\"texttemplate\":\"%{value:.2s}\",\"x\":[\"gaussian\"],\"xaxis\":\"x11\",\"y\":[0.13345072766651356],\"yaxis\":\"y11\",\"type\":\"histogram\",\"cliponaxis\":false,\"textangle\":0,\"textposition\":\"outside\"},{\"alignmentgroup\":\"True\",\"bingroup\":\"x\",\"histfunc\":\"sum\",\"hovertemplate\":\"method=adacg\\u003cbr\\u003esketch_fn=%{x}\\u003cbr\\u003en=2048\\u003cbr\\u003edeff=1024\\u003cbr\\u003esum of time=%{y}\\u003cextra\\u003e\\u003c\\u002fextra\\u003e\",\"legendgroup\":\"adacg, gaussian\",\"marker\":{\"color\":\"#636efa\",\"pattern\":{\"shape\":\"\"}},\"name\":\"adacg, gaussian\",\"offsetgroup\":\"adacg, gaussian\",\"orientation\":\"v\",\"showlegend\":false,\"texttemplate\":\"%{value:.2s}\",\"x\":[\"gaussian\"],\"xaxis\":\"x12\",\"y\":[0.13277800733339973],\"yaxis\":\"y12\",\"type\":\"histogram\",\"cliponaxis\":false,\"textangle\":0,\"textposition\":\"outside\"},{\"alignmentgroup\":\"True\",\"bingroup\":\"x\",\"histfunc\":\"sum\",\"hovertemplate\":\"method=adacg\\u003cbr\\u003esketch_fn=%{x}\\u003cbr\\u003en=4096\\u003cbr\\u003edeff=32\\u003cbr\\u003esum of time=%{y}\\u003cextra\\u003e\\u003c\\u002fextra\\u003e\",\"legendgroup\":\"adacg, gaussian\",\"marker\":{\"color\":\"#636efa\",\"pattern\":{\"shape\":\"\"}},\"name\":\"adacg, gaussian\",\"offsetgroup\":\"adacg, gaussian\",\"orientation\":\"v\",\"showlegend\":false,\"texttemplate\":\"%{value:.2s}\",\"x\":[\"gaussian\"],\"xaxis\":\"x\",\"y\":[0.13389760200031256],\"yaxis\":\"y\",\"type\":\"histogram\",\"cliponaxis\":false,\"textangle\":0,\"textposition\":\"outside\"},{\"alignmentgroup\":\"True\",\"bingroup\":\"x\",\"histfunc\":\"sum\",\"hovertemplate\":\"method=adacg\\u003cbr\\u003esketch_fn=%{x}\\u003cbr\\u003en=4096\\u003cbr\\u003edeff=64\\u003cbr\\u003esum of time=%{y}\\u003cextra\\u003e\\u003c\\u002fextra\\u003e\",\"legendgroup\":\"adacg, gaussian\",\"marker\":{\"color\":\"#636efa\",\"pattern\":{\"shape\":\"\"}},\"name\":\"adacg, gaussian\",\"offsetgroup\":\"adacg, gaussian\",\"orientation\":\"v\",\"showlegend\":false,\"texttemplate\":\"%{value:.2s}\",\"x\":[\"gaussian\"],\"xaxis\":\"x2\",\"y\":[0.15965624966702308],\"yaxis\":\"y2\",\"type\":\"histogram\",\"cliponaxis\":false,\"textangle\":0,\"textposition\":\"outside\"},{\"alignmentgroup\":\"True\",\"bingroup\":\"x\",\"histfunc\":\"sum\",\"hovertemplate\":\"method=adacg\\u003cbr\\u003esketch_fn=%{x}\\u003cbr\\u003en=4096\\u003cbr\\u003edeff=128\\u003cbr\\u003esum of time=%{y}\\u003cextra\\u003e\\u003c\\u002fextra\\u003e\",\"legendgroup\":\"adacg, gaussian\",\"marker\":{\"color\":\"#636efa\",\"pattern\":{\"shape\":\"\"}},\"name\":\"adacg, gaussian\",\"offsetgroup\":\"adacg, gaussian\",\"orientation\":\"v\",\"showlegend\":false,\"texttemplate\":\"%{value:.2s}\",\"x\":[\"gaussian\"],\"xaxis\":\"x3\",\"y\":[0.2380721079989598],\"yaxis\":\"y3\",\"type\":\"histogram\",\"cliponaxis\":false,\"textangle\":0,\"textposition\":\"outside\"},{\"alignmentgroup\":\"True\",\"bingroup\":\"x\",\"histfunc\":\"sum\",\"hovertemplate\":\"method=adacg\\u003cbr\\u003esketch_fn=%{x}\\u003cbr\\u003en=4096\\u003cbr\\u003edeff=256\\u003cbr\\u003esum of time=%{y}\\u003cextra\\u003e\\u003c\\u002fextra\\u003e\",\"legendgroup\":\"adacg, gaussian\",\"marker\":{\"color\":\"#636efa\",\"pattern\":{\"shape\":\"\"}},\"name\":\"adacg, gaussian\",\"offsetgroup\":\"adacg, gaussian\",\"orientation\":\"v\",\"showlegend\":false,\"texttemplate\":\"%{value:.2s}\",\"x\":[\"gaussian\"],\"xaxis\":\"x4\",\"y\":[0.2470567813325033],\"yaxis\":\"y4\",\"type\":\"histogram\",\"cliponaxis\":false,\"textangle\":0,\"textposition\":\"outside\"},{\"alignmentgroup\":\"True\",\"bingroup\":\"x\",\"histfunc\":\"sum\",\"hovertemplate\":\"method=adacg\\u003cbr\\u003esketch_fn=%{x}\\u003cbr\\u003en=4096\\u003cbr\\u003edeff=512\\u003cbr\\u003esum of time=%{y}\\u003cextra\\u003e\\u003c\\u002fextra\\u003e\",\"legendgroup\":\"adacg, gaussian\",\"marker\":{\"color\":\"#636efa\",\"pattern\":{\"shape\":\"\"}},\"name\":\"adacg, gaussian\",\"offsetgroup\":\"adacg, gaussian\",\"orientation\":\"v\",\"showlegend\":false,\"texttemplate\":\"%{value:.2s}\",\"x\":[\"gaussian\"],\"xaxis\":\"x5\",\"y\":[0.23907847766652895],\"yaxis\":\"y5\",\"type\":\"histogram\",\"cliponaxis\":false,\"textangle\":0,\"textposition\":\"outside\"},{\"alignmentgroup\":\"True\",\"bingroup\":\"x\",\"histfunc\":\"sum\",\"hovertemplate\":\"method=adacg\\u003cbr\\u003esketch_fn=%{x}\\u003cbr\\u003en=4096\\u003cbr\\u003edeff=1024\\u003cbr\\u003esum of time=%{y}\\u003cextra\\u003e\\u003c\\u002fextra\\u003e\",\"legendgroup\":\"adacg, gaussian\",\"marker\":{\"color\":\"#636efa\",\"pattern\":{\"shape\":\"\"}},\"name\":\"adacg, gaussian\",\"offsetgroup\":\"adacg, gaussian\",\"orientation\":\"v\",\"showlegend\":false,\"texttemplate\":\"%{value:.2s}\",\"x\":[\"gaussian\"],\"xaxis\":\"x6\",\"y\":[0.2446185993333832],\"yaxis\":\"y6\",\"type\":\"histogram\",\"cliponaxis\":false,\"textangle\":0,\"textposition\":\"outside\"},{\"alignmentgroup\":\"True\",\"bingroup\":\"x\",\"histfunc\":\"sum\",\"hovertemplate\":\"method=adacg\\u003cbr\\u003esketch_fn=%{x}\\u003cbr\\u003en=2048\\u003cbr\\u003edeff=32\\u003cbr\\u003esum of time=%{y}\\u003cextra\\u003e\\u003c\\u002fextra\\u003e\",\"legendgroup\":\"adacg, sjlt\",\"marker\":{\"color\":\"#636efa\",\"pattern\":{\"shape\":\"\\u002f\"}},\"name\":\"adacg, sjlt\",\"offsetgroup\":\"adacg, sjlt\",\"orientation\":\"v\",\"showlegend\":true,\"texttemplate\":\"%{value:.2s}\",\"x\":[\"sjlt\"],\"xaxis\":\"x7\",\"y\":[0.09487118000000312],\"yaxis\":\"y7\",\"type\":\"histogram\",\"cliponaxis\":false,\"textangle\":0,\"textposition\":\"outside\"},{\"alignmentgroup\":\"True\",\"bingroup\":\"x\",\"histfunc\":\"sum\",\"hovertemplate\":\"method=adacg\\u003cbr\\u003esketch_fn=%{x}\\u003cbr\\u003en=2048\\u003cbr\\u003edeff=64\\u003cbr\\u003esum of time=%{y}\\u003cextra\\u003e\\u003c\\u002fextra\\u003e\",\"legendgroup\":\"adacg, sjlt\",\"marker\":{\"color\":\"#636efa\",\"pattern\":{\"shape\":\"\\u002f\"}},\"name\":\"adacg, sjlt\",\"offsetgroup\":\"adacg, sjlt\",\"orientation\":\"v\",\"showlegend\":false,\"texttemplate\":\"%{value:.2s}\",\"x\":[\"sjlt\"],\"xaxis\":\"x8\",\"y\":[0.1056188893332243],\"yaxis\":\"y8\",\"type\":\"histogram\",\"cliponaxis\":false,\"textangle\":0,\"textposition\":\"outside\"},{\"alignmentgroup\":\"True\",\"bingroup\":\"x\",\"histfunc\":\"sum\",\"hovertemplate\":\"method=adacg\\u003cbr\\u003esketch_fn=%{x}\\u003cbr\\u003en=2048\\u003cbr\\u003edeff=128\\u003cbr\\u003esum of time=%{y}\\u003cextra\\u003e\\u003c\\u002fextra\\u003e\",\"legendgroup\":\"adacg, sjlt\",\"marker\":{\"color\":\"#636efa\",\"pattern\":{\"shape\":\"\\u002f\"}},\"name\":\"adacg, sjlt\",\"offsetgroup\":\"adacg, sjlt\",\"orientation\":\"v\",\"showlegend\":false,\"texttemplate\":\"%{value:.2s}\",\"x\":[\"sjlt\"],\"xaxis\":\"x9\",\"y\":[0.1322744813336006],\"yaxis\":\"y9\",\"type\":\"histogram\",\"cliponaxis\":false,\"textangle\":0,\"textposition\":\"outside\"},{\"alignmentgroup\":\"True\",\"bingroup\":\"x\",\"histfunc\":\"sum\",\"hovertemplate\":\"method=adacg\\u003cbr\\u003esketch_fn=%{x}\\u003cbr\\u003en=2048\\u003cbr\\u003edeff=256\\u003cbr\\u003esum of time=%{y}\\u003cextra\\u003e\\u003c\\u002fextra\\u003e\",\"legendgroup\":\"adacg, sjlt\",\"marker\":{\"color\":\"#636efa\",\"pattern\":{\"shape\":\"\\u002f\"}},\"name\":\"adacg, sjlt\",\"offsetgroup\":\"adacg, sjlt\",\"orientation\":\"v\",\"showlegend\":false,\"texttemplate\":\"%{value:.2s}\",\"x\":[\"sjlt\"],\"xaxis\":\"x10\",\"y\":[0.13895606133337424],\"yaxis\":\"y10\",\"type\":\"histogram\",\"cliponaxis\":false,\"textangle\":0,\"textposition\":\"outside\"},{\"alignmentgroup\":\"True\",\"bingroup\":\"x\",\"histfunc\":\"sum\",\"hovertemplate\":\"method=adacg\\u003cbr\\u003esketch_fn=%{x}\\u003cbr\\u003en=2048\\u003cbr\\u003edeff=512\\u003cbr\\u003esum of time=%{y}\\u003cextra\\u003e\\u003c\\u002fextra\\u003e\",\"legendgroup\":\"adacg, sjlt\",\"marker\":{\"color\":\"#636efa\",\"pattern\":{\"shape\":\"\\u002f\"}},\"name\":\"adacg, sjlt\",\"offsetgroup\":\"adacg, sjlt\",\"orientation\":\"v\",\"showlegend\":false,\"texttemplate\":\"%{value:.2s}\",\"x\":[\"sjlt\"],\"xaxis\":\"x11\",\"y\":[0.12992496233331013],\"yaxis\":\"y11\",\"type\":\"histogram\",\"cliponaxis\":false,\"textangle\":0,\"textposition\":\"outside\"},{\"alignmentgroup\":\"True\",\"bingroup\":\"x\",\"histfunc\":\"sum\",\"hovertemplate\":\"method=adacg\\u003cbr\\u003esketch_fn=%{x}\\u003cbr\\u003en=2048\\u003cbr\\u003edeff=1024\\u003cbr\\u003esum of time=%{y}\\u003cextra\\u003e\\u003c\\u002fextra\\u003e\",\"legendgroup\":\"adacg, sjlt\",\"marker\":{\"color\":\"#636efa\",\"pattern\":{\"shape\":\"\\u002f\"}},\"name\":\"adacg, sjlt\",\"offsetgroup\":\"adacg, sjlt\",\"orientation\":\"v\",\"showlegend\":false,\"texttemplate\":\"%{value:.2s}\",\"x\":[\"sjlt\"],\"xaxis\":\"x12\",\"y\":[0.13090880233342733],\"yaxis\":\"y12\",\"type\":\"histogram\",\"cliponaxis\":false,\"textangle\":0,\"textposition\":\"outside\"},{\"alignmentgroup\":\"True\",\"bingroup\":\"x\",\"histfunc\":\"sum\",\"hovertemplate\":\"method=adacg\\u003cbr\\u003esketch_fn=%{x}\\u003cbr\\u003en=4096\\u003cbr\\u003edeff=32\\u003cbr\\u003esum of time=%{y}\\u003cextra\\u003e\\u003c\\u002fextra\\u003e\",\"legendgroup\":\"adacg, sjlt\",\"marker\":{\"color\":\"#636efa\",\"pattern\":{\"shape\":\"\\u002f\"}},\"name\":\"adacg, sjlt\",\"offsetgroup\":\"adacg, sjlt\",\"orientation\":\"v\",\"showlegend\":false,\"texttemplate\":\"%{value:.2s}\",\"x\":[\"sjlt\"],\"xaxis\":\"x\",\"y\":[0.1892803646666531],\"yaxis\":\"y\",\"type\":\"histogram\",\"cliponaxis\":false,\"textangle\":0,\"textposition\":\"outside\"},{\"alignmentgroup\":\"True\",\"bingroup\":\"x\",\"histfunc\":\"sum\",\"hovertemplate\":\"method=adacg\\u003cbr\\u003esketch_fn=%{x}\\u003cbr\\u003en=4096\\u003cbr\\u003edeff=64\\u003cbr\\u003esum of time=%{y}\\u003cextra\\u003e\\u003c\\u002fextra\\u003e\",\"legendgroup\":\"adacg, sjlt\",\"marker\":{\"color\":\"#636efa\",\"pattern\":{\"shape\":\"\\u002f\"}},\"name\":\"adacg, sjlt\",\"offsetgroup\":\"adacg, sjlt\",\"orientation\":\"v\",\"showlegend\":false,\"texttemplate\":\"%{value:.2s}\",\"x\":[\"sjlt\"],\"xaxis\":\"x2\",\"y\":[0.1515001853334373],\"yaxis\":\"y2\",\"type\":\"histogram\",\"cliponaxis\":false,\"textangle\":0,\"textposition\":\"outside\"},{\"alignmentgroup\":\"True\",\"bingroup\":\"x\",\"histfunc\":\"sum\",\"hovertemplate\":\"method=adacg\\u003cbr\\u003esketch_fn=%{x}\\u003cbr\\u003en=4096\\u003cbr\\u003edeff=128\\u003cbr\\u003esum of time=%{y}\\u003cextra\\u003e\\u003c\\u002fextra\\u003e\",\"legendgroup\":\"adacg, sjlt\",\"marker\":{\"color\":\"#636efa\",\"pattern\":{\"shape\":\"\\u002f\"}},\"name\":\"adacg, sjlt\",\"offsetgroup\":\"adacg, sjlt\",\"orientation\":\"v\",\"showlegend\":false,\"texttemplate\":\"%{value:.2s}\",\"x\":[\"sjlt\"],\"xaxis\":\"x3\",\"y\":[0.2341853399999915],\"yaxis\":\"y3\",\"type\":\"histogram\",\"cliponaxis\":false,\"textangle\":0,\"textposition\":\"outside\"},{\"alignmentgroup\":\"True\",\"bingroup\":\"x\",\"histfunc\":\"sum\",\"hovertemplate\":\"method=adacg\\u003cbr\\u003esketch_fn=%{x}\\u003cbr\\u003en=4096\\u003cbr\\u003edeff=256\\u003cbr\\u003esum of time=%{y}\\u003cextra\\u003e\\u003c\\u002fextra\\u003e\",\"legendgroup\":\"adacg, sjlt\",\"marker\":{\"color\":\"#636efa\",\"pattern\":{\"shape\":\"\\u002f\"}},\"name\":\"adacg, sjlt\",\"offsetgroup\":\"adacg, sjlt\",\"orientation\":\"v\",\"showlegend\":false,\"texttemplate\":\"%{value:.2s}\",\"x\":[\"sjlt\"],\"xaxis\":\"x4\",\"y\":[0.23614022166596743],\"yaxis\":\"y4\",\"type\":\"histogram\",\"cliponaxis\":false,\"textangle\":0,\"textposition\":\"outside\"},{\"alignmentgroup\":\"True\",\"bingroup\":\"x\",\"histfunc\":\"sum\",\"hovertemplate\":\"method=adacg\\u003cbr\\u003esketch_fn=%{x}\\u003cbr\\u003en=4096\\u003cbr\\u003edeff=512\\u003cbr\\u003esum of time=%{y}\\u003cextra\\u003e\\u003c\\u002fextra\\u003e\",\"legendgroup\":\"adacg, sjlt\",\"marker\":{\"color\":\"#636efa\",\"pattern\":{\"shape\":\"\\u002f\"}},\"name\":\"adacg, sjlt\",\"offsetgroup\":\"adacg, sjlt\",\"orientation\":\"v\",\"showlegend\":false,\"texttemplate\":\"%{value:.2s}\",\"x\":[\"sjlt\"],\"xaxis\":\"x5\",\"y\":[0.2381705336665618],\"yaxis\":\"y5\",\"type\":\"histogram\",\"cliponaxis\":false,\"textangle\":0,\"textposition\":\"outside\"},{\"alignmentgroup\":\"True\",\"bingroup\":\"x\",\"histfunc\":\"sum\",\"hovertemplate\":\"method=adacg\\u003cbr\\u003esketch_fn=%{x}\\u003cbr\\u003en=4096\\u003cbr\\u003edeff=1024\\u003cbr\\u003esum of time=%{y}\\u003cextra\\u003e\\u003c\\u002fextra\\u003e\",\"legendgroup\":\"adacg, sjlt\",\"marker\":{\"color\":\"#636efa\",\"pattern\":{\"shape\":\"\\u002f\"}},\"name\":\"adacg, sjlt\",\"offsetgroup\":\"adacg, sjlt\",\"orientation\":\"v\",\"showlegend\":false,\"texttemplate\":\"%{value:.2s}\",\"x\":[\"sjlt\"],\"xaxis\":\"x6\",\"y\":[0.23471965166694037],\"yaxis\":\"y6\",\"type\":\"histogram\",\"cliponaxis\":false,\"textangle\":0,\"textposition\":\"outside\"},{\"alignmentgroup\":\"True\",\"bingroup\":\"x\",\"histfunc\":\"sum\",\"hovertemplate\":\"method=adacg\\u003cbr\\u003esketch_fn=%{x}\\u003cbr\\u003en=2048\\u003cbr\\u003edeff=32\\u003cbr\\u003esum of time=%{y}\\u003cextra\\u003e\\u003c\\u002fextra\\u003e\",\"legendgroup\":\"adacg, srht\",\"marker\":{\"color\":\"#636efa\",\"pattern\":{\"shape\":\"\\\\\"}},\"name\":\"adacg, srht\",\"offsetgroup\":\"adacg, srht\",\"orientation\":\"v\",\"showlegend\":true,\"texttemplate\":\"%{value:.2s}\",\"x\":[\"srht\"],\"xaxis\":\"x7\",\"y\":[0.10342729199980263],\"yaxis\":\"y7\",\"type\":\"histogram\",\"cliponaxis\":false,\"textangle\":0,\"textposition\":\"outside\"},{\"alignmentgroup\":\"True\",\"bingroup\":\"x\",\"histfunc\":\"sum\",\"hovertemplate\":\"method=adacg\\u003cbr\\u003esketch_fn=%{x}\\u003cbr\\u003en=2048\\u003cbr\\u003edeff=64\\u003cbr\\u003esum of time=%{y}\\u003cextra\\u003e\\u003c\\u002fextra\\u003e\",\"legendgroup\":\"adacg, srht\",\"marker\":{\"color\":\"#636efa\",\"pattern\":{\"shape\":\"\\\\\"}},\"name\":\"adacg, srht\",\"offsetgroup\":\"adacg, srht\",\"orientation\":\"v\",\"showlegend\":false,\"texttemplate\":\"%{value:.2s}\",\"x\":[\"srht\"],\"xaxis\":\"x8\",\"y\":[0.1402757849999337],\"yaxis\":\"y8\",\"type\":\"histogram\",\"cliponaxis\":false,\"textangle\":0,\"textposition\":\"outside\"},{\"alignmentgroup\":\"True\",\"bingroup\":\"x\",\"histfunc\":\"sum\",\"hovertemplate\":\"method=adacg\\u003cbr\\u003esketch_fn=%{x}\\u003cbr\\u003en=2048\\u003cbr\\u003edeff=128\\u003cbr\\u003esum of time=%{y}\\u003cextra\\u003e\\u003c\\u002fextra\\u003e\",\"legendgroup\":\"adacg, srht\",\"marker\":{\"color\":\"#636efa\",\"pattern\":{\"shape\":\"\\\\\"}},\"name\":\"adacg, srht\",\"offsetgroup\":\"adacg, srht\",\"orientation\":\"v\",\"showlegend\":false,\"texttemplate\":\"%{value:.2s}\",\"x\":[\"srht\"],\"xaxis\":\"x9\",\"y\":[0.1402712593333793],\"yaxis\":\"y9\",\"type\":\"histogram\",\"cliponaxis\":false,\"textangle\":0,\"textposition\":\"outside\"},{\"alignmentgroup\":\"True\",\"bingroup\":\"x\",\"histfunc\":\"sum\",\"hovertemplate\":\"method=adacg\\u003cbr\\u003esketch_fn=%{x}\\u003cbr\\u003en=2048\\u003cbr\\u003edeff=256\\u003cbr\\u003esum of time=%{y}\\u003cextra\\u003e\\u003c\\u002fextra\\u003e\",\"legendgroup\":\"adacg, srht\",\"marker\":{\"color\":\"#636efa\",\"pattern\":{\"shape\":\"\\\\\"}},\"name\":\"adacg, srht\",\"offsetgroup\":\"adacg, srht\",\"orientation\":\"v\",\"showlegend\":false,\"texttemplate\":\"%{value:.2s}\",\"x\":[\"srht\"],\"xaxis\":\"x10\",\"y\":[0.13964078133312796],\"yaxis\":\"y10\",\"type\":\"histogram\",\"cliponaxis\":false,\"textangle\":0,\"textposition\":\"outside\"},{\"alignmentgroup\":\"True\",\"bingroup\":\"x\",\"histfunc\":\"sum\",\"hovertemplate\":\"method=adacg\\u003cbr\\u003esketch_fn=%{x}\\u003cbr\\u003en=2048\\u003cbr\\u003edeff=512\\u003cbr\\u003esum of time=%{y}\\u003cextra\\u003e\\u003c\\u002fextra\\u003e\",\"legendgroup\":\"adacg, srht\",\"marker\":{\"color\":\"#636efa\",\"pattern\":{\"shape\":\"\\\\\"}},\"name\":\"adacg, srht\",\"offsetgroup\":\"adacg, srht\",\"orientation\":\"v\",\"showlegend\":false,\"texttemplate\":\"%{value:.2s}\",\"x\":[\"srht\"],\"xaxis\":\"x11\",\"y\":[0.13931588833323377],\"yaxis\":\"y11\",\"type\":\"histogram\",\"cliponaxis\":false,\"textangle\":0,\"textposition\":\"outside\"},{\"alignmentgroup\":\"True\",\"bingroup\":\"x\",\"histfunc\":\"sum\",\"hovertemplate\":\"method=adacg\\u003cbr\\u003esketch_fn=%{x}\\u003cbr\\u003en=2048\\u003cbr\\u003edeff=1024\\u003cbr\\u003esum of time=%{y}\\u003cextra\\u003e\\u003c\\u002fextra\\u003e\",\"legendgroup\":\"adacg, srht\",\"marker\":{\"color\":\"#636efa\",\"pattern\":{\"shape\":\"\\\\\"}},\"name\":\"adacg, srht\",\"offsetgroup\":\"adacg, srht\",\"orientation\":\"v\",\"showlegend\":false,\"texttemplate\":\"%{value:.2s}\",\"x\":[\"srht\"],\"xaxis\":\"x12\",\"y\":[0.1405468859998109],\"yaxis\":\"y12\",\"type\":\"histogram\",\"cliponaxis\":false,\"textangle\":0,\"textposition\":\"outside\"},{\"alignmentgroup\":\"True\",\"bingroup\":\"x\",\"histfunc\":\"sum\",\"hovertemplate\":\"method=adacg\\u003cbr\\u003esketch_fn=%{x}\\u003cbr\\u003en=4096\\u003cbr\\u003edeff=32\\u003cbr\\u003esum of time=%{y}\\u003cextra\\u003e\\u003c\\u002fextra\\u003e\",\"legendgroup\":\"adacg, srht\",\"marker\":{\"color\":\"#636efa\",\"pattern\":{\"shape\":\"\\\\\"}},\"name\":\"adacg, srht\",\"offsetgroup\":\"adacg, srht\",\"orientation\":\"v\",\"showlegend\":false,\"texttemplate\":\"%{value:.2s}\",\"x\":[\"srht\"],\"xaxis\":\"x\",\"y\":[0.17843932699997822],\"yaxis\":\"y\",\"type\":\"histogram\",\"cliponaxis\":false,\"textangle\":0,\"textposition\":\"outside\"},{\"alignmentgroup\":\"True\",\"bingroup\":\"x\",\"histfunc\":\"sum\",\"hovertemplate\":\"method=adacg\\u003cbr\\u003esketch_fn=%{x}\\u003cbr\\u003en=4096\\u003cbr\\u003edeff=64\\u003cbr\\u003esum of time=%{y}\\u003cextra\\u003e\\u003c\\u002fextra\\u003e\",\"legendgroup\":\"adacg, srht\",\"marker\":{\"color\":\"#636efa\",\"pattern\":{\"shape\":\"\\\\\"}},\"name\":\"adacg, srht\",\"offsetgroup\":\"adacg, srht\",\"orientation\":\"v\",\"showlegend\":false,\"texttemplate\":\"%{value:.2s}\",\"x\":[\"srht\"],\"xaxis\":\"x2\",\"y\":[0.2680256349995034],\"yaxis\":\"y2\",\"type\":\"histogram\",\"cliponaxis\":false,\"textangle\":0,\"textposition\":\"outside\"},{\"alignmentgroup\":\"True\",\"bingroup\":\"x\",\"histfunc\":\"sum\",\"hovertemplate\":\"method=adacg\\u003cbr\\u003esketch_fn=%{x}\\u003cbr\\u003en=4096\\u003cbr\\u003edeff=128\\u003cbr\\u003esum of time=%{y}\\u003cextra\\u003e\\u003c\\u002fextra\\u003e\",\"legendgroup\":\"adacg, srht\",\"marker\":{\"color\":\"#636efa\",\"pattern\":{\"shape\":\"\\\\\"}},\"name\":\"adacg, srht\",\"offsetgroup\":\"adacg, srht\",\"orientation\":\"v\",\"showlegend\":false,\"texttemplate\":\"%{value:.2s}\",\"x\":[\"srht\"],\"xaxis\":\"x3\",\"y\":[0.257641816665758],\"yaxis\":\"y3\",\"type\":\"histogram\",\"cliponaxis\":false,\"textangle\":0,\"textposition\":\"outside\"},{\"alignmentgroup\":\"True\",\"bingroup\":\"x\",\"histfunc\":\"sum\",\"hovertemplate\":\"method=adacg\\u003cbr\\u003esketch_fn=%{x}\\u003cbr\\u003en=4096\\u003cbr\\u003edeff=256\\u003cbr\\u003esum of time=%{y}\\u003cextra\\u003e\\u003c\\u002fextra\\u003e\",\"legendgroup\":\"adacg, srht\",\"marker\":{\"color\":\"#636efa\",\"pattern\":{\"shape\":\"\\\\\"}},\"name\":\"adacg, srht\",\"offsetgroup\":\"adacg, srht\",\"orientation\":\"v\",\"showlegend\":false,\"texttemplate\":\"%{value:.2s}\",\"x\":[\"srht\"],\"xaxis\":\"x4\",\"y\":[0.2695093356669531],\"yaxis\":\"y4\",\"type\":\"histogram\",\"cliponaxis\":false,\"textangle\":0,\"textposition\":\"outside\"},{\"alignmentgroup\":\"True\",\"bingroup\":\"x\",\"histfunc\":\"sum\",\"hovertemplate\":\"method=adacg\\u003cbr\\u003esketch_fn=%{x}\\u003cbr\\u003en=4096\\u003cbr\\u003edeff=512\\u003cbr\\u003esum of time=%{y}\\u003cextra\\u003e\\u003c\\u002fextra\\u003e\",\"legendgroup\":\"adacg, srht\",\"marker\":{\"color\":\"#636efa\",\"pattern\":{\"shape\":\"\\\\\"}},\"name\":\"adacg, srht\",\"offsetgroup\":\"adacg, srht\",\"orientation\":\"v\",\"showlegend\":false,\"texttemplate\":\"%{value:.2s}\",\"x\":[\"srht\"],\"xaxis\":\"x5\",\"y\":[0.2723953409998406],\"yaxis\":\"y5\",\"type\":\"histogram\",\"cliponaxis\":false,\"textangle\":0,\"textposition\":\"outside\"},{\"alignmentgroup\":\"True\",\"bingroup\":\"x\",\"histfunc\":\"sum\",\"hovertemplate\":\"method=adacg\\u003cbr\\u003esketch_fn=%{x}\\u003cbr\\u003en=4096\\u003cbr\\u003edeff=1024\\u003cbr\\u003esum of time=%{y}\\u003cextra\\u003e\\u003c\\u002fextra\\u003e\",\"legendgroup\":\"adacg, srht\",\"marker\":{\"color\":\"#636efa\",\"pattern\":{\"shape\":\"\\\\\"}},\"name\":\"adacg, srht\",\"offsetgroup\":\"adacg, srht\",\"orientation\":\"v\",\"showlegend\":false,\"texttemplate\":\"%{value:.2s}\",\"x\":[\"srht\"],\"xaxis\":\"x6\",\"y\":[0.2652517566669606],\"yaxis\":\"y6\",\"type\":\"histogram\",\"cliponaxis\":false,\"textangle\":0,\"textposition\":\"outside\"},{\"alignmentgroup\":\"True\",\"bingroup\":\"x\",\"histfunc\":\"sum\",\"hovertemplate\":\"method=cg\\u003cbr\\u003esketch_fn=%{x}\\u003cbr\\u003en=2048\\u003cbr\\u003edeff=32\\u003cbr\\u003esum of time=%{y}\\u003cextra\\u003e\\u003c\\u002fextra\\u003e\",\"legendgroup\":\"cg, none\",\"marker\":{\"color\":\"#EF553B\",\"pattern\":{\"shape\":\"x\"}},\"name\":\"cg, none\",\"offsetgroup\":\"cg, none\",\"orientation\":\"v\",\"showlegend\":true,\"texttemplate\":\"%{value:.2s}\",\"x\":[\"none\"],\"xaxis\":\"x7\",\"y\":[0.06565510566679222],\"yaxis\":\"y7\",\"type\":\"histogram\",\"cliponaxis\":false,\"textangle\":0,\"textposition\":\"outside\"},{\"alignmentgroup\":\"True\",\"bingroup\":\"x\",\"histfunc\":\"sum\",\"hovertemplate\":\"method=cg\\u003cbr\\u003esketch_fn=%{x}\\u003cbr\\u003en=2048\\u003cbr\\u003edeff=64\\u003cbr\\u003esum of time=%{y}\\u003cextra\\u003e\\u003c\\u002fextra\\u003e\",\"legendgroup\":\"cg, none\",\"marker\":{\"color\":\"#EF553B\",\"pattern\":{\"shape\":\"x\"}},\"name\":\"cg, none\",\"offsetgroup\":\"cg, none\",\"orientation\":\"v\",\"showlegend\":false,\"texttemplate\":\"%{value:.2s}\",\"x\":[\"none\"],\"xaxis\":\"x8\",\"y\":[0.5192365713332947],\"yaxis\":\"y8\",\"type\":\"histogram\",\"cliponaxis\":false,\"textangle\":0,\"textposition\":\"outside\"},{\"alignmentgroup\":\"True\",\"bingroup\":\"x\",\"histfunc\":\"sum\",\"hovertemplate\":\"method=cg\\u003cbr\\u003esketch_fn=%{x}\\u003cbr\\u003en=2048\\u003cbr\\u003edeff=128\\u003cbr\\u003esum of time=%{y}\\u003cextra\\u003e\\u003c\\u002fextra\\u003e\",\"legendgroup\":\"cg, none\",\"marker\":{\"color\":\"#EF553B\",\"pattern\":{\"shape\":\"x\"}},\"name\":\"cg, none\",\"offsetgroup\":\"cg, none\",\"orientation\":\"v\",\"showlegend\":false,\"texttemplate\":\"%{value:.2s}\",\"x\":[\"none\"],\"xaxis\":\"x9\",\"y\":[0.6021630006663751],\"yaxis\":\"y9\",\"type\":\"histogram\",\"cliponaxis\":false,\"textangle\":0,\"textposition\":\"outside\"},{\"alignmentgroup\":\"True\",\"bingroup\":\"x\",\"histfunc\":\"sum\",\"hovertemplate\":\"method=cg\\u003cbr\\u003esketch_fn=%{x}\\u003cbr\\u003en=2048\\u003cbr\\u003edeff=256\\u003cbr\\u003esum of time=%{y}\\u003cextra\\u003e\\u003c\\u002fextra\\u003e\",\"legendgroup\":\"cg, none\",\"marker\":{\"color\":\"#EF553B\",\"pattern\":{\"shape\":\"x\"}},\"name\":\"cg, none\",\"offsetgroup\":\"cg, none\",\"orientation\":\"v\",\"showlegend\":false,\"texttemplate\":\"%{value:.2s}\",\"x\":[\"none\"],\"xaxis\":\"x10\",\"y\":[1.1319206950000382],\"yaxis\":\"y10\",\"type\":\"histogram\",\"cliponaxis\":false,\"textangle\":0,\"textposition\":\"outside\"},{\"alignmentgroup\":\"True\",\"bingroup\":\"x\",\"histfunc\":\"sum\",\"hovertemplate\":\"method=cg\\u003cbr\\u003esketch_fn=%{x}\\u003cbr\\u003en=2048\\u003cbr\\u003edeff=512\\u003cbr\\u003esum of time=%{y}\\u003cextra\\u003e\\u003c\\u002fextra\\u003e\",\"legendgroup\":\"cg, none\",\"marker\":{\"color\":\"#EF553B\",\"pattern\":{\"shape\":\"x\"}},\"name\":\"cg, none\",\"offsetgroup\":\"cg, none\",\"orientation\":\"v\",\"showlegend\":false,\"texttemplate\":\"%{value:.2s}\",\"x\":[\"none\"],\"xaxis\":\"x11\",\"y\":[1.3101928499998696],\"yaxis\":\"y11\",\"type\":\"histogram\",\"cliponaxis\":false,\"textangle\":0,\"textposition\":\"outside\"},{\"alignmentgroup\":\"True\",\"bingroup\":\"x\",\"histfunc\":\"sum\",\"hovertemplate\":\"method=cg\\u003cbr\\u003esketch_fn=%{x}\\u003cbr\\u003en=2048\\u003cbr\\u003edeff=1024\\u003cbr\\u003esum of time=%{y}\\u003cextra\\u003e\\u003c\\u002fextra\\u003e\",\"legendgroup\":\"cg, none\",\"marker\":{\"color\":\"#EF553B\",\"pattern\":{\"shape\":\"x\"}},\"name\":\"cg, none\",\"offsetgroup\":\"cg, none\",\"orientation\":\"v\",\"showlegend\":false,\"texttemplate\":\"%{value:.2s}\",\"x\":[\"none\"],\"xaxis\":\"x12\",\"y\":[1.2966934503331988],\"yaxis\":\"y12\",\"type\":\"histogram\",\"cliponaxis\":false,\"textangle\":0,\"textposition\":\"outside\"},{\"alignmentgroup\":\"True\",\"bingroup\":\"x\",\"histfunc\":\"sum\",\"hovertemplate\":\"method=cg\\u003cbr\\u003esketch_fn=%{x}\\u003cbr\\u003en=4096\\u003cbr\\u003edeff=32\\u003cbr\\u003esum of time=%{y}\\u003cextra\\u003e\\u003c\\u002fextra\\u003e\",\"legendgroup\":\"cg, none\",\"marker\":{\"color\":\"#EF553B\",\"pattern\":{\"shape\":\"x\"}},\"name\":\"cg, none\",\"offsetgroup\":\"cg, none\",\"orientation\":\"v\",\"showlegend\":false,\"texttemplate\":\"%{value:.2s}\",\"x\":[\"none\"],\"xaxis\":\"x\",\"y\":[0.12340000300021832],\"yaxis\":\"y\",\"type\":\"histogram\",\"cliponaxis\":false,\"textangle\":0,\"textposition\":\"outside\"},{\"alignmentgroup\":\"True\",\"bingroup\":\"x\",\"histfunc\":\"sum\",\"hovertemplate\":\"method=cg\\u003cbr\\u003esketch_fn=%{x}\\u003cbr\\u003en=4096\\u003cbr\\u003edeff=64\\u003cbr\\u003esum of time=%{y}\\u003cextra\\u003e\\u003c\\u002fextra\\u003e\",\"legendgroup\":\"cg, none\",\"marker\":{\"color\":\"#EF553B\",\"pattern\":{\"shape\":\"x\"}},\"name\":\"cg, none\",\"offsetgroup\":\"cg, none\",\"orientation\":\"v\",\"showlegend\":false,\"texttemplate\":\"%{value:.2s}\",\"x\":[\"none\"],\"xaxis\":\"x2\",\"y\":[0.42319101033353945],\"yaxis\":\"y2\",\"type\":\"histogram\",\"cliponaxis\":false,\"textangle\":0,\"textposition\":\"outside\"},{\"alignmentgroup\":\"True\",\"bingroup\":\"x\",\"histfunc\":\"sum\",\"hovertemplate\":\"method=cg\\u003cbr\\u003esketch_fn=%{x}\\u003cbr\\u003en=4096\\u003cbr\\u003edeff=128\\u003cbr\\u003esum of time=%{y}\\u003cextra\\u003e\\u003c\\u002fextra\\u003e\",\"legendgroup\":\"cg, none\",\"marker\":{\"color\":\"#EF553B\",\"pattern\":{\"shape\":\"x\"}},\"name\":\"cg, none\",\"offsetgroup\":\"cg, none\",\"orientation\":\"v\",\"showlegend\":false,\"texttemplate\":\"%{value:.2s}\",\"x\":[\"none\"],\"xaxis\":\"x3\",\"y\":[1.3839534436665417],\"yaxis\":\"y3\",\"type\":\"histogram\",\"cliponaxis\":false,\"textangle\":0,\"textposition\":\"outside\"},{\"alignmentgroup\":\"True\",\"bingroup\":\"x\",\"histfunc\":\"sum\",\"hovertemplate\":\"method=cg\\u003cbr\\u003esketch_fn=%{x}\\u003cbr\\u003en=4096\\u003cbr\\u003edeff=256\\u003cbr\\u003esum of time=%{y}\\u003cextra\\u003e\\u003c\\u002fextra\\u003e\",\"legendgroup\":\"cg, none\",\"marker\":{\"color\":\"#EF553B\",\"pattern\":{\"shape\":\"x\"}},\"name\":\"cg, none\",\"offsetgroup\":\"cg, none\",\"orientation\":\"v\",\"showlegend\":false,\"texttemplate\":\"%{value:.2s}\",\"x\":[\"none\"],\"xaxis\":\"x4\",\"y\":[2.3770946826668173],\"yaxis\":\"y4\",\"type\":\"histogram\",\"cliponaxis\":false,\"textangle\":0,\"textposition\":\"outside\"},{\"alignmentgroup\":\"True\",\"bingroup\":\"x\",\"histfunc\":\"sum\",\"hovertemplate\":\"method=cg\\u003cbr\\u003esketch_fn=%{x}\\u003cbr\\u003en=4096\\u003cbr\\u003edeff=512\\u003cbr\\u003esum of time=%{y}\\u003cextra\\u003e\\u003c\\u002fextra\\u003e\",\"legendgroup\":\"cg, none\",\"marker\":{\"color\":\"#EF553B\",\"pattern\":{\"shape\":\"x\"}},\"name\":\"cg, none\",\"offsetgroup\":\"cg, none\",\"orientation\":\"v\",\"showlegend\":false,\"texttemplate\":\"%{value:.2s}\",\"x\":[\"none\"],\"xaxis\":\"x5\",\"y\":[2.7743497839995443],\"yaxis\":\"y5\",\"type\":\"histogram\",\"cliponaxis\":false,\"textangle\":0,\"textposition\":\"outside\"},{\"alignmentgroup\":\"True\",\"bingroup\":\"x\",\"histfunc\":\"sum\",\"hovertemplate\":\"method=cg\\u003cbr\\u003esketch_fn=%{x}\\u003cbr\\u003en=4096\\u003cbr\\u003edeff=1024\\u003cbr\\u003esum of time=%{y}\\u003cextra\\u003e\\u003c\\u002fextra\\u003e\",\"legendgroup\":\"cg, none\",\"marker\":{\"color\":\"#EF553B\",\"pattern\":{\"shape\":\"x\"}},\"name\":\"cg, none\",\"offsetgroup\":\"cg, none\",\"orientation\":\"v\",\"showlegend\":false,\"texttemplate\":\"%{value:.2s}\",\"x\":[\"none\"],\"xaxis\":\"x6\",\"y\":[2.7734719983339646],\"yaxis\":\"y6\",\"type\":\"histogram\",\"cliponaxis\":false,\"textangle\":0,\"textposition\":\"outside\"},{\"alignmentgroup\":\"True\",\"bingroup\":\"x\",\"histfunc\":\"sum\",\"hovertemplate\":\"method=dm\\u003cbr\\u003esketch_fn=%{x}\\u003cbr\\u003en=2048\\u003cbr\\u003edeff=32\\u003cbr\\u003esum of time=%{y}\\u003cextra\\u003e\\u003c\\u002fextra\\u003e\",\"legendgroup\":\"dm, none\",\"marker\":{\"color\":\"#00cc96\",\"pattern\":{\"shape\":\"x\"}},\"name\":\"dm, none\",\"offsetgroup\":\"dm, none\",\"orientation\":\"v\",\"showlegend\":true,\"texttemplate\":\"%{value:.2s}\",\"x\":[\"none\"],\"xaxis\":\"x7\",\"y\":[0.08732061999990037],\"yaxis\":\"y7\",\"type\":\"histogram\",\"cliponaxis\":false,\"textangle\":0,\"textposition\":\"outside\"},{\"alignmentgroup\":\"True\",\"bingroup\":\"x\",\"histfunc\":\"sum\",\"hovertemplate\":\"method=dm\\u003cbr\\u003esketch_fn=%{x}\\u003cbr\\u003en=2048\\u003cbr\\u003edeff=64\\u003cbr\\u003esum of time=%{y}\\u003cextra\\u003e\\u003c\\u002fextra\\u003e\",\"legendgroup\":\"dm, none\",\"marker\":{\"color\":\"#00cc96\",\"pattern\":{\"shape\":\"x\"}},\"name\":\"dm, none\",\"offsetgroup\":\"dm, none\",\"orientation\":\"v\",\"showlegend\":false,\"texttemplate\":\"%{value:.2s}\",\"x\":[\"none\"],\"xaxis\":\"x8\",\"y\":[0.11577182800010632],\"yaxis\":\"y8\",\"type\":\"histogram\",\"cliponaxis\":false,\"textangle\":0,\"textposition\":\"outside\"},{\"alignmentgroup\":\"True\",\"bingroup\":\"x\",\"histfunc\":\"sum\",\"hovertemplate\":\"method=dm\\u003cbr\\u003esketch_fn=%{x}\\u003cbr\\u003en=2048\\u003cbr\\u003edeff=128\\u003cbr\\u003esum of time=%{y}\\u003cextra\\u003e\\u003c\\u002fextra\\u003e\",\"legendgroup\":\"dm, none\",\"marker\":{\"color\":\"#00cc96\",\"pattern\":{\"shape\":\"x\"}},\"name\":\"dm, none\",\"offsetgroup\":\"dm, none\",\"orientation\":\"v\",\"showlegend\":false,\"texttemplate\":\"%{value:.2s}\",\"x\":[\"none\"],\"xaxis\":\"x9\",\"y\":[0.087824750999971],\"yaxis\":\"y9\",\"type\":\"histogram\",\"cliponaxis\":false,\"textangle\":0,\"textposition\":\"outside\"},{\"alignmentgroup\":\"True\",\"bingroup\":\"x\",\"histfunc\":\"sum\",\"hovertemplate\":\"method=dm\\u003cbr\\u003esketch_fn=%{x}\\u003cbr\\u003en=2048\\u003cbr\\u003edeff=256\\u003cbr\\u003esum of time=%{y}\\u003cextra\\u003e\\u003c\\u002fextra\\u003e\",\"legendgroup\":\"dm, none\",\"marker\":{\"color\":\"#00cc96\",\"pattern\":{\"shape\":\"x\"}},\"name\":\"dm, none\",\"offsetgroup\":\"dm, none\",\"orientation\":\"v\",\"showlegend\":false,\"texttemplate\":\"%{value:.2s}\",\"x\":[\"none\"],\"xaxis\":\"x10\",\"y\":[0.08880930400027864],\"yaxis\":\"y10\",\"type\":\"histogram\",\"cliponaxis\":false,\"textangle\":0,\"textposition\":\"outside\"},{\"alignmentgroup\":\"True\",\"bingroup\":\"x\",\"histfunc\":\"sum\",\"hovertemplate\":\"method=dm\\u003cbr\\u003esketch_fn=%{x}\\u003cbr\\u003en=2048\\u003cbr\\u003edeff=512\\u003cbr\\u003esum of time=%{y}\\u003cextra\\u003e\\u003c\\u002fextra\\u003e\",\"legendgroup\":\"dm, none\",\"marker\":{\"color\":\"#00cc96\",\"pattern\":{\"shape\":\"x\"}},\"name\":\"dm, none\",\"offsetgroup\":\"dm, none\",\"orientation\":\"v\",\"showlegend\":false,\"texttemplate\":\"%{value:.2s}\",\"x\":[\"none\"],\"xaxis\":\"x11\",\"y\":[0.08850668500008396],\"yaxis\":\"y11\",\"type\":\"histogram\",\"cliponaxis\":false,\"textangle\":0,\"textposition\":\"outside\"},{\"alignmentgroup\":\"True\",\"bingroup\":\"x\",\"histfunc\":\"sum\",\"hovertemplate\":\"method=dm\\u003cbr\\u003esketch_fn=%{x}\\u003cbr\\u003en=2048\\u003cbr\\u003edeff=1024\\u003cbr\\u003esum of time=%{y}\\u003cextra\\u003e\\u003c\\u002fextra\\u003e\",\"legendgroup\":\"dm, none\",\"marker\":{\"color\":\"#00cc96\",\"pattern\":{\"shape\":\"x\"}},\"name\":\"dm, none\",\"offsetgroup\":\"dm, none\",\"orientation\":\"v\",\"showlegend\":false,\"texttemplate\":\"%{value:.2s}\",\"x\":[\"none\"],\"xaxis\":\"x12\",\"y\":[0.08674777800024458],\"yaxis\":\"y12\",\"type\":\"histogram\",\"cliponaxis\":false,\"textangle\":0,\"textposition\":\"outside\"},{\"alignmentgroup\":\"True\",\"bingroup\":\"x\",\"histfunc\":\"sum\",\"hovertemplate\":\"method=dm\\u003cbr\\u003esketch_fn=%{x}\\u003cbr\\u003en=4096\\u003cbr\\u003edeff=32\\u003cbr\\u003esum of time=%{y}\\u003cextra\\u003e\\u003c\\u002fextra\\u003e\",\"legendgroup\":\"dm, none\",\"marker\":{\"color\":\"#00cc96\",\"pattern\":{\"shape\":\"x\"}},\"name\":\"dm, none\",\"offsetgroup\":\"dm, none\",\"orientation\":\"v\",\"showlegend\":false,\"texttemplate\":\"%{value:.2s}\",\"x\":[\"none\"],\"xaxis\":\"x\",\"y\":[0.16752472200005286],\"yaxis\":\"y\",\"type\":\"histogram\",\"cliponaxis\":false,\"textangle\":0,\"textposition\":\"outside\"},{\"alignmentgroup\":\"True\",\"bingroup\":\"x\",\"histfunc\":\"sum\",\"hovertemplate\":\"method=dm\\u003cbr\\u003esketch_fn=%{x}\\u003cbr\\u003en=4096\\u003cbr\\u003edeff=64\\u003cbr\\u003esum of time=%{y}\\u003cextra\\u003e\\u003c\\u002fextra\\u003e\",\"legendgroup\":\"dm, none\",\"marker\":{\"color\":\"#00cc96\",\"pattern\":{\"shape\":\"x\"}},\"name\":\"dm, none\",\"offsetgroup\":\"dm, none\",\"orientation\":\"v\",\"showlegend\":false,\"texttemplate\":\"%{value:.2s}\",\"x\":[\"none\"],\"xaxis\":\"x2\",\"y\":[0.15777270200032945],\"yaxis\":\"y2\",\"type\":\"histogram\",\"cliponaxis\":false,\"textangle\":0,\"textposition\":\"outside\"},{\"alignmentgroup\":\"True\",\"bingroup\":\"x\",\"histfunc\":\"sum\",\"hovertemplate\":\"method=dm\\u003cbr\\u003esketch_fn=%{x}\\u003cbr\\u003en=4096\\u003cbr\\u003edeff=128\\u003cbr\\u003esum of time=%{y}\\u003cextra\\u003e\\u003c\\u002fextra\\u003e\",\"legendgroup\":\"dm, none\",\"marker\":{\"color\":\"#00cc96\",\"pattern\":{\"shape\":\"x\"}},\"name\":\"dm, none\",\"offsetgroup\":\"dm, none\",\"orientation\":\"v\",\"showlegend\":false,\"texttemplate\":\"%{value:.2s}\",\"x\":[\"none\"],\"xaxis\":\"x3\",\"y\":[0.15713302699987253],\"yaxis\":\"y3\",\"type\":\"histogram\",\"cliponaxis\":false,\"textangle\":0,\"textposition\":\"outside\"},{\"alignmentgroup\":\"True\",\"bingroup\":\"x\",\"histfunc\":\"sum\",\"hovertemplate\":\"method=dm\\u003cbr\\u003esketch_fn=%{x}\\u003cbr\\u003en=4096\\u003cbr\\u003edeff=256\\u003cbr\\u003esum of time=%{y}\\u003cextra\\u003e\\u003c\\u002fextra\\u003e\",\"legendgroup\":\"dm, none\",\"marker\":{\"color\":\"#00cc96\",\"pattern\":{\"shape\":\"x\"}},\"name\":\"dm, none\",\"offsetgroup\":\"dm, none\",\"orientation\":\"v\",\"showlegend\":false,\"texttemplate\":\"%{value:.2s}\",\"x\":[\"none\"],\"xaxis\":\"x4\",\"y\":[0.15989879399967322],\"yaxis\":\"y4\",\"type\":\"histogram\",\"cliponaxis\":false,\"textangle\":0,\"textposition\":\"outside\"},{\"alignmentgroup\":\"True\",\"bingroup\":\"x\",\"histfunc\":\"sum\",\"hovertemplate\":\"method=dm\\u003cbr\\u003esketch_fn=%{x}\\u003cbr\\u003en=4096\\u003cbr\\u003edeff=512\\u003cbr\\u003esum of time=%{y}\\u003cextra\\u003e\\u003c\\u002fextra\\u003e\",\"legendgroup\":\"dm, none\",\"marker\":{\"color\":\"#00cc96\",\"pattern\":{\"shape\":\"x\"}},\"name\":\"dm, none\",\"offsetgroup\":\"dm, none\",\"orientation\":\"v\",\"showlegend\":false,\"texttemplate\":\"%{value:.2s}\",\"x\":[\"none\"],\"xaxis\":\"x5\",\"y\":[0.15855049600031634],\"yaxis\":\"y5\",\"type\":\"histogram\",\"cliponaxis\":false,\"textangle\":0,\"textposition\":\"outside\"},{\"alignmentgroup\":\"True\",\"bingroup\":\"x\",\"histfunc\":\"sum\",\"hovertemplate\":\"method=dm\\u003cbr\\u003esketch_fn=%{x}\\u003cbr\\u003en=4096\\u003cbr\\u003edeff=1024\\u003cbr\\u003esum of time=%{y}\\u003cextra\\u003e\\u003c\\u002fextra\\u003e\",\"legendgroup\":\"dm, none\",\"marker\":{\"color\":\"#00cc96\",\"pattern\":{\"shape\":\"x\"}},\"name\":\"dm, none\",\"offsetgroup\":\"dm, none\",\"orientation\":\"v\",\"showlegend\":false,\"texttemplate\":\"%{value:.2s}\",\"x\":[\"none\"],\"xaxis\":\"x6\",\"y\":[0.155210792001526],\"yaxis\":\"y6\",\"type\":\"histogram\",\"cliponaxis\":false,\"textangle\":0,\"textposition\":\"outside\"},{\"alignmentgroup\":\"True\",\"bingroup\":\"x\",\"histfunc\":\"sum\",\"hovertemplate\":\"method=pcg\\u003cbr\\u003esketch_fn=%{x}\\u003cbr\\u003en=2048\\u003cbr\\u003edeff=32\\u003cbr\\u003esum of time=%{y}\\u003cextra\\u003e\\u003c\\u002fextra\\u003e\",\"legendgroup\":\"pcg, gaussian\",\"marker\":{\"color\":\"#ab63fa\",\"pattern\":{\"shape\":\"\"}},\"name\":\"pcg, gaussian\",\"offsetgroup\":\"pcg, gaussian\",\"orientation\":\"v\",\"showlegend\":true,\"texttemplate\":\"%{value:.2s}\",\"x\":[\"gaussian\"],\"xaxis\":\"x7\",\"y\":[0.32642610866666166],\"yaxis\":\"y7\",\"type\":\"histogram\",\"cliponaxis\":false,\"textangle\":0,\"textposition\":\"outside\"},{\"alignmentgroup\":\"True\",\"bingroup\":\"x\",\"histfunc\":\"sum\",\"hovertemplate\":\"method=pcg\\u003cbr\\u003esketch_fn=%{x}\\u003cbr\\u003en=2048\\u003cbr\\u003edeff=64\\u003cbr\\u003esum of time=%{y}\\u003cextra\\u003e\\u003c\\u002fextra\\u003e\",\"legendgroup\":\"pcg, gaussian\",\"marker\":{\"color\":\"#ab63fa\",\"pattern\":{\"shape\":\"\"}},\"name\":\"pcg, gaussian\",\"offsetgroup\":\"pcg, gaussian\",\"orientation\":\"v\",\"showlegend\":false,\"texttemplate\":\"%{value:.2s}\",\"x\":[\"gaussian\"],\"xaxis\":\"x8\",\"y\":[0.3340481660000781],\"yaxis\":\"y8\",\"type\":\"histogram\",\"cliponaxis\":false,\"textangle\":0,\"textposition\":\"outside\"},{\"alignmentgroup\":\"True\",\"bingroup\":\"x\",\"histfunc\":\"sum\",\"hovertemplate\":\"method=pcg\\u003cbr\\u003esketch_fn=%{x}\\u003cbr\\u003en=2048\\u003cbr\\u003edeff=128\\u003cbr\\u003esum of time=%{y}\\u003cextra\\u003e\\u003c\\u002fextra\\u003e\",\"legendgroup\":\"pcg, gaussian\",\"marker\":{\"color\":\"#ab63fa\",\"pattern\":{\"shape\":\"\"}},\"name\":\"pcg, gaussian\",\"offsetgroup\":\"pcg, gaussian\",\"orientation\":\"v\",\"showlegend\":false,\"texttemplate\":\"%{value:.2s}\",\"x\":[\"gaussian\"],\"xaxis\":\"x9\",\"y\":[0.3197435106667399],\"yaxis\":\"y9\",\"type\":\"histogram\",\"cliponaxis\":false,\"textangle\":0,\"textposition\":\"outside\"},{\"alignmentgroup\":\"True\",\"bingroup\":\"x\",\"histfunc\":\"sum\",\"hovertemplate\":\"method=pcg\\u003cbr\\u003esketch_fn=%{x}\\u003cbr\\u003en=2048\\u003cbr\\u003edeff=256\\u003cbr\\u003esum of time=%{y}\\u003cextra\\u003e\\u003c\\u002fextra\\u003e\",\"legendgroup\":\"pcg, gaussian\",\"marker\":{\"color\":\"#ab63fa\",\"pattern\":{\"shape\":\"\"}},\"name\":\"pcg, gaussian\",\"offsetgroup\":\"pcg, gaussian\",\"orientation\":\"v\",\"showlegend\":false,\"texttemplate\":\"%{value:.2s}\",\"x\":[\"gaussian\"],\"xaxis\":\"x10\",\"y\":[0.3358192943334567],\"yaxis\":\"y10\",\"type\":\"histogram\",\"cliponaxis\":false,\"textangle\":0,\"textposition\":\"outside\"},{\"alignmentgroup\":\"True\",\"bingroup\":\"x\",\"histfunc\":\"sum\",\"hovertemplate\":\"method=pcg\\u003cbr\\u003esketch_fn=%{x}\\u003cbr\\u003en=2048\\u003cbr\\u003edeff=512\\u003cbr\\u003esum of time=%{y}\\u003cextra\\u003e\\u003c\\u002fextra\\u003e\",\"legendgroup\":\"pcg, gaussian\",\"marker\":{\"color\":\"#ab63fa\",\"pattern\":{\"shape\":\"\"}},\"name\":\"pcg, gaussian\",\"offsetgroup\":\"pcg, gaussian\",\"orientation\":\"v\",\"showlegend\":false,\"texttemplate\":\"%{value:.2s}\",\"x\":[\"gaussian\"],\"xaxis\":\"x11\",\"y\":[0.33082372666679777],\"yaxis\":\"y11\",\"type\":\"histogram\",\"cliponaxis\":false,\"textangle\":0,\"textposition\":\"outside\"},{\"alignmentgroup\":\"True\",\"bingroup\":\"x\",\"histfunc\":\"sum\",\"hovertemplate\":\"method=pcg\\u003cbr\\u003esketch_fn=%{x}\\u003cbr\\u003en=2048\\u003cbr\\u003edeff=1024\\u003cbr\\u003esum of time=%{y}\\u003cextra\\u003e\\u003c\\u002fextra\\u003e\",\"legendgroup\":\"pcg, gaussian\",\"marker\":{\"color\":\"#ab63fa\",\"pattern\":{\"shape\":\"\"}},\"name\":\"pcg, gaussian\",\"offsetgroup\":\"pcg, gaussian\",\"orientation\":\"v\",\"showlegend\":false,\"texttemplate\":\"%{value:.2s}\",\"x\":[\"gaussian\"],\"xaxis\":\"x12\",\"y\":[0.3494134900000366],\"yaxis\":\"y12\",\"type\":\"histogram\",\"cliponaxis\":false,\"textangle\":0,\"textposition\":\"outside\"},{\"alignmentgroup\":\"True\",\"bingroup\":\"x\",\"histfunc\":\"sum\",\"hovertemplate\":\"method=pcg\\u003cbr\\u003esketch_fn=%{x}\\u003cbr\\u003en=4096\\u003cbr\\u003edeff=32\\u003cbr\\u003esum of time=%{y}\\u003cextra\\u003e\\u003c\\u002fextra\\u003e\",\"legendgroup\":\"pcg, gaussian\",\"marker\":{\"color\":\"#ab63fa\",\"pattern\":{\"shape\":\"\"}},\"name\":\"pcg, gaussian\",\"offsetgroup\":\"pcg, gaussian\",\"orientation\":\"v\",\"showlegend\":false,\"texttemplate\":\"%{value:.2s}\",\"x\":[\"gaussian\"],\"xaxis\":\"x\",\"y\":[0.54429385433347],\"yaxis\":\"y\",\"type\":\"histogram\",\"cliponaxis\":false,\"textangle\":0,\"textposition\":\"outside\"},{\"alignmentgroup\":\"True\",\"bingroup\":\"x\",\"histfunc\":\"sum\",\"hovertemplate\":\"method=pcg\\u003cbr\\u003esketch_fn=%{x}\\u003cbr\\u003en=4096\\u003cbr\\u003edeff=64\\u003cbr\\u003esum of time=%{y}\\u003cextra\\u003e\\u003c\\u002fextra\\u003e\",\"legendgroup\":\"pcg, gaussian\",\"marker\":{\"color\":\"#ab63fa\",\"pattern\":{\"shape\":\"\"}},\"name\":\"pcg, gaussian\",\"offsetgroup\":\"pcg, gaussian\",\"orientation\":\"v\",\"showlegend\":false,\"texttemplate\":\"%{value:.2s}\",\"x\":[\"gaussian\"],\"xaxis\":\"x2\",\"y\":[0.5490083873331362],\"yaxis\":\"y2\",\"type\":\"histogram\",\"cliponaxis\":false,\"textangle\":0,\"textposition\":\"outside\"},{\"alignmentgroup\":\"True\",\"bingroup\":\"x\",\"histfunc\":\"sum\",\"hovertemplate\":\"method=pcg\\u003cbr\\u003esketch_fn=%{x}\\u003cbr\\u003en=4096\\u003cbr\\u003edeff=128\\u003cbr\\u003esum of time=%{y}\\u003cextra\\u003e\\u003c\\u002fextra\\u003e\",\"legendgroup\":\"pcg, gaussian\",\"marker\":{\"color\":\"#ab63fa\",\"pattern\":{\"shape\":\"\"}},\"name\":\"pcg, gaussian\",\"offsetgroup\":\"pcg, gaussian\",\"orientation\":\"v\",\"showlegend\":false,\"texttemplate\":\"%{value:.2s}\",\"x\":[\"gaussian\"],\"xaxis\":\"x3\",\"y\":[0.5423198213338765],\"yaxis\":\"y3\",\"type\":\"histogram\",\"cliponaxis\":false,\"textangle\":0,\"textposition\":\"outside\"},{\"alignmentgroup\":\"True\",\"bingroup\":\"x\",\"histfunc\":\"sum\",\"hovertemplate\":\"method=pcg\\u003cbr\\u003esketch_fn=%{x}\\u003cbr\\u003en=4096\\u003cbr\\u003edeff=256\\u003cbr\\u003esum of time=%{y}\\u003cextra\\u003e\\u003c\\u002fextra\\u003e\",\"legendgroup\":\"pcg, gaussian\",\"marker\":{\"color\":\"#ab63fa\",\"pattern\":{\"shape\":\"\"}},\"name\":\"pcg, gaussian\",\"offsetgroup\":\"pcg, gaussian\",\"orientation\":\"v\",\"showlegend\":false,\"texttemplate\":\"%{value:.2s}\",\"x\":[\"gaussian\"],\"xaxis\":\"x4\",\"y\":[0.5544108846667465],\"yaxis\":\"y4\",\"type\":\"histogram\",\"cliponaxis\":false,\"textangle\":0,\"textposition\":\"outside\"},{\"alignmentgroup\":\"True\",\"bingroup\":\"x\",\"histfunc\":\"sum\",\"hovertemplate\":\"method=pcg\\u003cbr\\u003esketch_fn=%{x}\\u003cbr\\u003en=4096\\u003cbr\\u003edeff=512\\u003cbr\\u003esum of time=%{y}\\u003cextra\\u003e\\u003c\\u002fextra\\u003e\",\"legendgroup\":\"pcg, gaussian\",\"marker\":{\"color\":\"#ab63fa\",\"pattern\":{\"shape\":\"\"}},\"name\":\"pcg, gaussian\",\"offsetgroup\":\"pcg, gaussian\",\"orientation\":\"v\",\"showlegend\":false,\"texttemplate\":\"%{value:.2s}\",\"x\":[\"gaussian\"],\"xaxis\":\"x5\",\"y\":[0.5603042800000063],\"yaxis\":\"y5\",\"type\":\"histogram\",\"cliponaxis\":false,\"textangle\":0,\"textposition\":\"outside\"},{\"alignmentgroup\":\"True\",\"bingroup\":\"x\",\"histfunc\":\"sum\",\"hovertemplate\":\"method=pcg\\u003cbr\\u003esketch_fn=%{x}\\u003cbr\\u003en=4096\\u003cbr\\u003edeff=1024\\u003cbr\\u003esum of time=%{y}\\u003cextra\\u003e\\u003c\\u002fextra\\u003e\",\"legendgroup\":\"pcg, gaussian\",\"marker\":{\"color\":\"#ab63fa\",\"pattern\":{\"shape\":\"\"}},\"name\":\"pcg, gaussian\",\"offsetgroup\":\"pcg, gaussian\",\"orientation\":\"v\",\"showlegend\":false,\"texttemplate\":\"%{value:.2s}\",\"x\":[\"gaussian\"],\"xaxis\":\"x6\",\"y\":[0.5993726286675761],\"yaxis\":\"y6\",\"type\":\"histogram\",\"cliponaxis\":false,\"textangle\":0,\"textposition\":\"outside\"},{\"alignmentgroup\":\"True\",\"bingroup\":\"x\",\"histfunc\":\"sum\",\"hovertemplate\":\"method=pcg\\u003cbr\\u003esketch_fn=%{x}\\u003cbr\\u003en=2048\\u003cbr\\u003edeff=32\\u003cbr\\u003esum of time=%{y}\\u003cextra\\u003e\\u003c\\u002fextra\\u003e\",\"legendgroup\":\"pcg, sjlt\",\"marker\":{\"color\":\"#ab63fa\",\"pattern\":{\"shape\":\"\\u002f\"}},\"name\":\"pcg, sjlt\",\"offsetgroup\":\"pcg, sjlt\",\"orientation\":\"v\",\"showlegend\":true,\"texttemplate\":\"%{value:.2s}\",\"x\":[\"sjlt\"],\"xaxis\":\"x7\",\"y\":[0.13378767866667354],\"yaxis\":\"y7\",\"type\":\"histogram\",\"cliponaxis\":false,\"textangle\":0,\"textposition\":\"outside\"},{\"alignmentgroup\":\"True\",\"bingroup\":\"x\",\"histfunc\":\"sum\",\"hovertemplate\":\"method=pcg\\u003cbr\\u003esketch_fn=%{x}\\u003cbr\\u003en=2048\\u003cbr\\u003edeff=64\\u003cbr\\u003esum of time=%{y}\\u003cextra\\u003e\\u003c\\u002fextra\\u003e\",\"legendgroup\":\"pcg, sjlt\",\"marker\":{\"color\":\"#ab63fa\",\"pattern\":{\"shape\":\"\\u002f\"}},\"name\":\"pcg, sjlt\",\"offsetgroup\":\"pcg, sjlt\",\"orientation\":\"v\",\"showlegend\":false,\"texttemplate\":\"%{value:.2s}\",\"x\":[\"sjlt\"],\"xaxis\":\"x8\",\"y\":[0.13684692033333096],\"yaxis\":\"y8\",\"type\":\"histogram\",\"cliponaxis\":false,\"textangle\":0,\"textposition\":\"outside\"},{\"alignmentgroup\":\"True\",\"bingroup\":\"x\",\"histfunc\":\"sum\",\"hovertemplate\":\"method=pcg\\u003cbr\\u003esketch_fn=%{x}\\u003cbr\\u003en=2048\\u003cbr\\u003edeff=128\\u003cbr\\u003esum of time=%{y}\\u003cextra\\u003e\\u003c\\u002fextra\\u003e\",\"legendgroup\":\"pcg, sjlt\",\"marker\":{\"color\":\"#ab63fa\",\"pattern\":{\"shape\":\"\\u002f\"}},\"name\":\"pcg, sjlt\",\"offsetgroup\":\"pcg, sjlt\",\"orientation\":\"v\",\"showlegend\":false,\"texttemplate\":\"%{value:.2s}\",\"x\":[\"sjlt\"],\"xaxis\":\"x9\",\"y\":[0.13442279000006843],\"yaxis\":\"y9\",\"type\":\"histogram\",\"cliponaxis\":false,\"textangle\":0,\"textposition\":\"outside\"},{\"alignmentgroup\":\"True\",\"bingroup\":\"x\",\"histfunc\":\"sum\",\"hovertemplate\":\"method=pcg\\u003cbr\\u003esketch_fn=%{x}\\u003cbr\\u003en=2048\\u003cbr\\u003edeff=256\\u003cbr\\u003esum of time=%{y}\\u003cextra\\u003e\\u003c\\u002fextra\\u003e\",\"legendgroup\":\"pcg, sjlt\",\"marker\":{\"color\":\"#ab63fa\",\"pattern\":{\"shape\":\"\\u002f\"}},\"name\":\"pcg, sjlt\",\"offsetgroup\":\"pcg, sjlt\",\"orientation\":\"v\",\"showlegend\":false,\"texttemplate\":\"%{value:.2s}\",\"x\":[\"sjlt\"],\"xaxis\":\"x10\",\"y\":[0.14334293299998535],\"yaxis\":\"y10\",\"type\":\"histogram\",\"cliponaxis\":false,\"textangle\":0,\"textposition\":\"outside\"},{\"alignmentgroup\":\"True\",\"bingroup\":\"x\",\"histfunc\":\"sum\",\"hovertemplate\":\"method=pcg\\u003cbr\\u003esketch_fn=%{x}\\u003cbr\\u003en=2048\\u003cbr\\u003edeff=512\\u003cbr\\u003esum of time=%{y}\\u003cextra\\u003e\\u003c\\u002fextra\\u003e\",\"legendgroup\":\"pcg, sjlt\",\"marker\":{\"color\":\"#ab63fa\",\"pattern\":{\"shape\":\"\\u002f\"}},\"name\":\"pcg, sjlt\",\"offsetgroup\":\"pcg, sjlt\",\"orientation\":\"v\",\"showlegend\":false,\"texttemplate\":\"%{value:.2s}\",\"x\":[\"sjlt\"],\"xaxis\":\"x11\",\"y\":[0.16178587666672684],\"yaxis\":\"y11\",\"type\":\"histogram\",\"cliponaxis\":false,\"textangle\":0,\"textposition\":\"outside\"},{\"alignmentgroup\":\"True\",\"bingroup\":\"x\",\"histfunc\":\"sum\",\"hovertemplate\":\"method=pcg\\u003cbr\\u003esketch_fn=%{x}\\u003cbr\\u003en=2048\\u003cbr\\u003edeff=1024\\u003cbr\\u003esum of time=%{y}\\u003cextra\\u003e\\u003c\\u002fextra\\u003e\",\"legendgroup\":\"pcg, sjlt\",\"marker\":{\"color\":\"#ab63fa\",\"pattern\":{\"shape\":\"\\u002f\"}},\"name\":\"pcg, sjlt\",\"offsetgroup\":\"pcg, sjlt\",\"orientation\":\"v\",\"showlegend\":false,\"texttemplate\":\"%{value:.2s}\",\"x\":[\"sjlt\"],\"xaxis\":\"x12\",\"y\":[0.3448980006667928],\"yaxis\":\"y12\",\"type\":\"histogram\",\"cliponaxis\":false,\"textangle\":0,\"textposition\":\"outside\"},{\"alignmentgroup\":\"True\",\"bingroup\":\"x\",\"histfunc\":\"sum\",\"hovertemplate\":\"method=pcg\\u003cbr\\u003esketch_fn=%{x}\\u003cbr\\u003en=4096\\u003cbr\\u003edeff=32\\u003cbr\\u003esum of time=%{y}\\u003cextra\\u003e\\u003c\\u002fextra\\u003e\",\"legendgroup\":\"pcg, sjlt\",\"marker\":{\"color\":\"#ab63fa\",\"pattern\":{\"shape\":\"\\u002f\"}},\"name\":\"pcg, sjlt\",\"offsetgroup\":\"pcg, sjlt\",\"orientation\":\"v\",\"showlegend\":false,\"texttemplate\":\"%{value:.2s}\",\"x\":[\"sjlt\"],\"xaxis\":\"x\",\"y\":[0.16394105733343167],\"yaxis\":\"y\",\"type\":\"histogram\",\"cliponaxis\":false,\"textangle\":0,\"textposition\":\"outside\"},{\"alignmentgroup\":\"True\",\"bingroup\":\"x\",\"histfunc\":\"sum\",\"hovertemplate\":\"method=pcg\\u003cbr\\u003esketch_fn=%{x}\\u003cbr\\u003en=4096\\u003cbr\\u003edeff=64\\u003cbr\\u003esum of time=%{y}\\u003cextra\\u003e\\u003c\\u002fextra\\u003e\",\"legendgroup\":\"pcg, sjlt\",\"marker\":{\"color\":\"#ab63fa\",\"pattern\":{\"shape\":\"\\u002f\"}},\"name\":\"pcg, sjlt\",\"offsetgroup\":\"pcg, sjlt\",\"orientation\":\"v\",\"showlegend\":false,\"texttemplate\":\"%{value:.2s}\",\"x\":[\"sjlt\"],\"xaxis\":\"x2\",\"y\":[0.16695695799990062],\"yaxis\":\"y2\",\"type\":\"histogram\",\"cliponaxis\":false,\"textangle\":0,\"textposition\":\"outside\"},{\"alignmentgroup\":\"True\",\"bingroup\":\"x\",\"histfunc\":\"sum\",\"hovertemplate\":\"method=pcg\\u003cbr\\u003esketch_fn=%{x}\\u003cbr\\u003en=4096\\u003cbr\\u003edeff=128\\u003cbr\\u003esum of time=%{y}\\u003cextra\\u003e\\u003c\\u002fextra\\u003e\",\"legendgroup\":\"pcg, sjlt\",\"marker\":{\"color\":\"#ab63fa\",\"pattern\":{\"shape\":\"\\u002f\"}},\"name\":\"pcg, sjlt\",\"offsetgroup\":\"pcg, sjlt\",\"orientation\":\"v\",\"showlegend\":false,\"texttemplate\":\"%{value:.2s}\",\"x\":[\"sjlt\"],\"xaxis\":\"x3\",\"y\":[0.17053923433316714],\"yaxis\":\"y3\",\"type\":\"histogram\",\"cliponaxis\":false,\"textangle\":0,\"textposition\":\"outside\"},{\"alignmentgroup\":\"True\",\"bingroup\":\"x\",\"histfunc\":\"sum\",\"hovertemplate\":\"method=pcg\\u003cbr\\u003esketch_fn=%{x}\\u003cbr\\u003en=4096\\u003cbr\\u003edeff=256\\u003cbr\\u003esum of time=%{y}\\u003cextra\\u003e\\u003c\\u002fextra\\u003e\",\"legendgroup\":\"pcg, sjlt\",\"marker\":{\"color\":\"#ab63fa\",\"pattern\":{\"shape\":\"\\u002f\"}},\"name\":\"pcg, sjlt\",\"offsetgroup\":\"pcg, sjlt\",\"orientation\":\"v\",\"showlegend\":false,\"texttemplate\":\"%{value:.2s}\",\"x\":[\"sjlt\"],\"xaxis\":\"x4\",\"y\":[0.18228690533336095],\"yaxis\":\"y4\",\"type\":\"histogram\",\"cliponaxis\":false,\"textangle\":0,\"textposition\":\"outside\"},{\"alignmentgroup\":\"True\",\"bingroup\":\"x\",\"histfunc\":\"sum\",\"hovertemplate\":\"method=pcg\\u003cbr\\u003esketch_fn=%{x}\\u003cbr\\u003en=4096\\u003cbr\\u003edeff=512\\u003cbr\\u003esum of time=%{y}\\u003cextra\\u003e\\u003c\\u002fextra\\u003e\",\"legendgroup\":\"pcg, sjlt\",\"marker\":{\"color\":\"#ab63fa\",\"pattern\":{\"shape\":\"\\u002f\"}},\"name\":\"pcg, sjlt\",\"offsetgroup\":\"pcg, sjlt\",\"orientation\":\"v\",\"showlegend\":false,\"texttemplate\":\"%{value:.2s}\",\"x\":[\"sjlt\"],\"xaxis\":\"x5\",\"y\":[0.20322910033246444],\"yaxis\":\"y5\",\"type\":\"histogram\",\"cliponaxis\":false,\"textangle\":0,\"textposition\":\"outside\"},{\"alignmentgroup\":\"True\",\"bingroup\":\"x\",\"histfunc\":\"sum\",\"hovertemplate\":\"method=pcg\\u003cbr\\u003esketch_fn=%{x}\\u003cbr\\u003en=4096\\u003cbr\\u003edeff=1024\\u003cbr\\u003esum of time=%{y}\\u003cextra\\u003e\\u003c\\u002fextra\\u003e\",\"legendgroup\":\"pcg, sjlt\",\"marker\":{\"color\":\"#ab63fa\",\"pattern\":{\"shape\":\"\\u002f\"}},\"name\":\"pcg, sjlt\",\"offsetgroup\":\"pcg, sjlt\",\"orientation\":\"v\",\"showlegend\":false,\"texttemplate\":\"%{value:.2s}\",\"x\":[\"sjlt\"],\"xaxis\":\"x6\",\"y\":[0.29879357533294143],\"yaxis\":\"y6\",\"type\":\"histogram\",\"cliponaxis\":false,\"textangle\":0,\"textposition\":\"outside\"},{\"alignmentgroup\":\"True\",\"bingroup\":\"x\",\"histfunc\":\"sum\",\"hovertemplate\":\"method=pcg\\u003cbr\\u003esketch_fn=%{x}\\u003cbr\\u003en=2048\\u003cbr\\u003edeff=32\\u003cbr\\u003esum of time=%{y}\\u003cextra\\u003e\\u003c\\u002fextra\\u003e\",\"legendgroup\":\"pcg, srht\",\"marker\":{\"color\":\"#ab63fa\",\"pattern\":{\"shape\":\"\\\\\"}},\"name\":\"pcg, srht\",\"offsetgroup\":\"pcg, srht\",\"orientation\":\"v\",\"showlegend\":true,\"texttemplate\":\"%{value:.2s}\",\"x\":[\"srht\"],\"xaxis\":\"x7\",\"y\":[0.254587226999926],\"yaxis\":\"y7\",\"type\":\"histogram\",\"cliponaxis\":false,\"textangle\":0,\"textposition\":\"outside\"},{\"alignmentgroup\":\"True\",\"bingroup\":\"x\",\"histfunc\":\"sum\",\"hovertemplate\":\"method=pcg\\u003cbr\\u003esketch_fn=%{x}\\u003cbr\\u003en=2048\\u003cbr\\u003edeff=64\\u003cbr\\u003esum of time=%{y}\\u003cextra\\u003e\\u003c\\u002fextra\\u003e\",\"legendgroup\":\"pcg, srht\",\"marker\":{\"color\":\"#ab63fa\",\"pattern\":{\"shape\":\"\\\\\"}},\"name\":\"pcg, srht\",\"offsetgroup\":\"pcg, srht\",\"orientation\":\"v\",\"showlegend\":false,\"texttemplate\":\"%{value:.2s}\",\"x\":[\"srht\"],\"xaxis\":\"x8\",\"y\":[0.25804882400007045],\"yaxis\":\"y8\",\"type\":\"histogram\",\"cliponaxis\":false,\"textangle\":0,\"textposition\":\"outside\"},{\"alignmentgroup\":\"True\",\"bingroup\":\"x\",\"histfunc\":\"sum\",\"hovertemplate\":\"method=pcg\\u003cbr\\u003esketch_fn=%{x}\\u003cbr\\u003en=2048\\u003cbr\\u003edeff=128\\u003cbr\\u003esum of time=%{y}\\u003cextra\\u003e\\u003c\\u002fextra\\u003e\",\"legendgroup\":\"pcg, srht\",\"marker\":{\"color\":\"#ab63fa\",\"pattern\":{\"shape\":\"\\\\\"}},\"name\":\"pcg, srht\",\"offsetgroup\":\"pcg, srht\",\"orientation\":\"v\",\"showlegend\":false,\"texttemplate\":\"%{value:.2s}\",\"x\":[\"srht\"],\"xaxis\":\"x9\",\"y\":[0.2479430510000687],\"yaxis\":\"y9\",\"type\":\"histogram\",\"cliponaxis\":false,\"textangle\":0,\"textposition\":\"outside\"},{\"alignmentgroup\":\"True\",\"bingroup\":\"x\",\"histfunc\":\"sum\",\"hovertemplate\":\"method=pcg\\u003cbr\\u003esketch_fn=%{x}\\u003cbr\\u003en=2048\\u003cbr\\u003edeff=256\\u003cbr\\u003esum of time=%{y}\\u003cextra\\u003e\\u003c\\u002fextra\\u003e\",\"legendgroup\":\"pcg, srht\",\"marker\":{\"color\":\"#ab63fa\",\"pattern\":{\"shape\":\"\\\\\"}},\"name\":\"pcg, srht\",\"offsetgroup\":\"pcg, srht\",\"orientation\":\"v\",\"showlegend\":false,\"texttemplate\":\"%{value:.2s}\",\"x\":[\"srht\"],\"xaxis\":\"x10\",\"y\":[0.24836464500018943],\"yaxis\":\"y10\",\"type\":\"histogram\",\"cliponaxis\":false,\"textangle\":0,\"textposition\":\"outside\"},{\"alignmentgroup\":\"True\",\"bingroup\":\"x\",\"histfunc\":\"sum\",\"hovertemplate\":\"method=pcg\\u003cbr\\u003esketch_fn=%{x}\\u003cbr\\u003en=2048\\u003cbr\\u003edeff=512\\u003cbr\\u003esum of time=%{y}\\u003cextra\\u003e\\u003c\\u002fextra\\u003e\",\"legendgroup\":\"pcg, srht\",\"marker\":{\"color\":\"#ab63fa\",\"pattern\":{\"shape\":\"\\\\\"}},\"name\":\"pcg, srht\",\"offsetgroup\":\"pcg, srht\",\"orientation\":\"v\",\"showlegend\":false,\"texttemplate\":\"%{value:.2s}\",\"x\":[\"srht\"],\"xaxis\":\"x11\",\"y\":[0.24857453466665902],\"yaxis\":\"y11\",\"type\":\"histogram\",\"cliponaxis\":false,\"textangle\":0,\"textposition\":\"outside\"},{\"alignmentgroup\":\"True\",\"bingroup\":\"x\",\"histfunc\":\"sum\",\"hovertemplate\":\"method=pcg\\u003cbr\\u003esketch_fn=%{x}\\u003cbr\\u003en=2048\\u003cbr\\u003edeff=1024\\u003cbr\\u003esum of time=%{y}\\u003cextra\\u003e\\u003c\\u002fextra\\u003e\",\"legendgroup\":\"pcg, srht\",\"marker\":{\"color\":\"#ab63fa\",\"pattern\":{\"shape\":\"\\\\\"}},\"name\":\"pcg, srht\",\"offsetgroup\":\"pcg, srht\",\"orientation\":\"v\",\"showlegend\":false,\"texttemplate\":\"%{value:.2s}\",\"x\":[\"srht\"],\"xaxis\":\"x12\",\"y\":[0.24871263733317994],\"yaxis\":\"y12\",\"type\":\"histogram\",\"cliponaxis\":false,\"textangle\":0,\"textposition\":\"outside\"},{\"alignmentgroup\":\"True\",\"bingroup\":\"x\",\"histfunc\":\"sum\",\"hovertemplate\":\"method=pcg\\u003cbr\\u003esketch_fn=%{x}\\u003cbr\\u003en=4096\\u003cbr\\u003edeff=32\\u003cbr\\u003esum of time=%{y}\\u003cextra\\u003e\\u003c\\u002fextra\\u003e\",\"legendgroup\":\"pcg, srht\",\"marker\":{\"color\":\"#ab63fa\",\"pattern\":{\"shape\":\"\\\\\"}},\"name\":\"pcg, srht\",\"offsetgroup\":\"pcg, srht\",\"orientation\":\"v\",\"showlegend\":false,\"texttemplate\":\"%{value:.2s}\",\"x\":[\"srht\"],\"xaxis\":\"x\",\"y\":[0.3687201410002672],\"yaxis\":\"y\",\"type\":\"histogram\",\"cliponaxis\":false,\"textangle\":0,\"textposition\":\"outside\"},{\"alignmentgroup\":\"True\",\"bingroup\":\"x\",\"histfunc\":\"sum\",\"hovertemplate\":\"method=pcg\\u003cbr\\u003esketch_fn=%{x}\\u003cbr\\u003en=4096\\u003cbr\\u003edeff=64\\u003cbr\\u003esum of time=%{y}\\u003cextra\\u003e\\u003c\\u002fextra\\u003e\",\"legendgroup\":\"pcg, srht\",\"marker\":{\"color\":\"#ab63fa\",\"pattern\":{\"shape\":\"\\\\\"}},\"name\":\"pcg, srht\",\"offsetgroup\":\"pcg, srht\",\"orientation\":\"v\",\"showlegend\":false,\"texttemplate\":\"%{value:.2s}\",\"x\":[\"srht\"],\"xaxis\":\"x2\",\"y\":[0.37277289366678207],\"yaxis\":\"y2\",\"type\":\"histogram\",\"cliponaxis\":false,\"textangle\":0,\"textposition\":\"outside\"},{\"alignmentgroup\":\"True\",\"bingroup\":\"x\",\"histfunc\":\"sum\",\"hovertemplate\":\"method=pcg\\u003cbr\\u003esketch_fn=%{x}\\u003cbr\\u003en=4096\\u003cbr\\u003edeff=128\\u003cbr\\u003esum of time=%{y}\\u003cextra\\u003e\\u003c\\u002fextra\\u003e\",\"legendgroup\":\"pcg, srht\",\"marker\":{\"color\":\"#ab63fa\",\"pattern\":{\"shape\":\"\\\\\"}},\"name\":\"pcg, srht\",\"offsetgroup\":\"pcg, srht\",\"orientation\":\"v\",\"showlegend\":false,\"texttemplate\":\"%{value:.2s}\",\"x\":[\"srht\"],\"xaxis\":\"x3\",\"y\":[0.3705407526673904],\"yaxis\":\"y3\",\"type\":\"histogram\",\"cliponaxis\":false,\"textangle\":0,\"textposition\":\"outside\"},{\"alignmentgroup\":\"True\",\"bingroup\":\"x\",\"histfunc\":\"sum\",\"hovertemplate\":\"method=pcg\\u003cbr\\u003esketch_fn=%{x}\\u003cbr\\u003en=4096\\u003cbr\\u003edeff=256\\u003cbr\\u003esum of time=%{y}\\u003cextra\\u003e\\u003c\\u002fextra\\u003e\",\"legendgroup\":\"pcg, srht\",\"marker\":{\"color\":\"#ab63fa\",\"pattern\":{\"shape\":\"\\\\\"}},\"name\":\"pcg, srht\",\"offsetgroup\":\"pcg, srht\",\"orientation\":\"v\",\"showlegend\":false,\"texttemplate\":\"%{value:.2s}\",\"x\":[\"srht\"],\"xaxis\":\"x4\",\"y\":[0.37551704633309174],\"yaxis\":\"y4\",\"type\":\"histogram\",\"cliponaxis\":false,\"textangle\":0,\"textposition\":\"outside\"},{\"alignmentgroup\":\"True\",\"bingroup\":\"x\",\"histfunc\":\"sum\",\"hovertemplate\":\"method=pcg\\u003cbr\\u003esketch_fn=%{x}\\u003cbr\\u003en=4096\\u003cbr\\u003edeff=512\\u003cbr\\u003esum of time=%{y}\\u003cextra\\u003e\\u003c\\u002fextra\\u003e\",\"legendgroup\":\"pcg, srht\",\"marker\":{\"color\":\"#ab63fa\",\"pattern\":{\"shape\":\"\\\\\"}},\"name\":\"pcg, srht\",\"offsetgroup\":\"pcg, srht\",\"orientation\":\"v\",\"showlegend\":false,\"texttemplate\":\"%{value:.2s}\",\"x\":[\"srht\"],\"xaxis\":\"x5\",\"y\":[0.3839346413339323],\"yaxis\":\"y5\",\"type\":\"histogram\",\"cliponaxis\":false,\"textangle\":0,\"textposition\":\"outside\"},{\"alignmentgroup\":\"True\",\"bingroup\":\"x\",\"histfunc\":\"sum\",\"hovertemplate\":\"method=pcg\\u003cbr\\u003esketch_fn=%{x}\\u003cbr\\u003en=4096\\u003cbr\\u003edeff=1024\\u003cbr\\u003esum of time=%{y}\\u003cextra\\u003e\\u003c\\u002fextra\\u003e\",\"legendgroup\":\"pcg, srht\",\"marker\":{\"color\":\"#ab63fa\",\"pattern\":{\"shape\":\"\\\\\"}},\"name\":\"pcg, srht\",\"offsetgroup\":\"pcg, srht\",\"orientation\":\"v\",\"showlegend\":false,\"texttemplate\":\"%{value:.2s}\",\"x\":[\"srht\"],\"xaxis\":\"x6\",\"y\":[0.40270571733344696],\"yaxis\":\"y6\",\"type\":\"histogram\",\"cliponaxis\":false,\"textangle\":0,\"textposition\":\"outside\"}],                        {\"template\":{\"data\":{\"histogram2dcontour\":[{\"type\":\"histogram2dcontour\",\"colorbar\":{\"outlinewidth\":0,\"ticks\":\"\"},\"colorscale\":[[0.0,\"#0d0887\"],[0.1111111111111111,\"#46039f\"],[0.2222222222222222,\"#7201a8\"],[0.3333333333333333,\"#9c179e\"],[0.4444444444444444,\"#bd3786\"],[0.5555555555555556,\"#d8576b\"],[0.6666666666666666,\"#ed7953\"],[0.7777777777777778,\"#fb9f3a\"],[0.8888888888888888,\"#fdca26\"],[1.0,\"#f0f921\"]]}],\"choropleth\":[{\"type\":\"choropleth\",\"colorbar\":{\"outlinewidth\":0,\"ticks\":\"\"}}],\"histogram2d\":[{\"type\":\"histogram2d\",\"colorbar\":{\"outlinewidth\":0,\"ticks\":\"\"},\"colorscale\":[[0.0,\"#0d0887\"],[0.1111111111111111,\"#46039f\"],[0.2222222222222222,\"#7201a8\"],[0.3333333333333333,\"#9c179e\"],[0.4444444444444444,\"#bd3786\"],[0.5555555555555556,\"#d8576b\"],[0.6666666666666666,\"#ed7953\"],[0.7777777777777778,\"#fb9f3a\"],[0.8888888888888888,\"#fdca26\"],[1.0,\"#f0f921\"]]}],\"heatmap\":[{\"type\":\"heatmap\",\"colorbar\":{\"outlinewidth\":0,\"ticks\":\"\"},\"colorscale\":[[0.0,\"#0d0887\"],[0.1111111111111111,\"#46039f\"],[0.2222222222222222,\"#7201a8\"],[0.3333333333333333,\"#9c179e\"],[0.4444444444444444,\"#bd3786\"],[0.5555555555555556,\"#d8576b\"],[0.6666666666666666,\"#ed7953\"],[0.7777777777777778,\"#fb9f3a\"],[0.8888888888888888,\"#fdca26\"],[1.0,\"#f0f921\"]]}],\"heatmapgl\":[{\"type\":\"heatmapgl\",\"colorbar\":{\"outlinewidth\":0,\"ticks\":\"\"},\"colorscale\":[[0.0,\"#0d0887\"],[0.1111111111111111,\"#46039f\"],[0.2222222222222222,\"#7201a8\"],[0.3333333333333333,\"#9c179e\"],[0.4444444444444444,\"#bd3786\"],[0.5555555555555556,\"#d8576b\"],[0.6666666666666666,\"#ed7953\"],[0.7777777777777778,\"#fb9f3a\"],[0.8888888888888888,\"#fdca26\"],[1.0,\"#f0f921\"]]}],\"contourcarpet\":[{\"type\":\"contourcarpet\",\"colorbar\":{\"outlinewidth\":0,\"ticks\":\"\"}}],\"contour\":[{\"type\":\"contour\",\"colorbar\":{\"outlinewidth\":0,\"ticks\":\"\"},\"colorscale\":[[0.0,\"#0d0887\"],[0.1111111111111111,\"#46039f\"],[0.2222222222222222,\"#7201a8\"],[0.3333333333333333,\"#9c179e\"],[0.4444444444444444,\"#bd3786\"],[0.5555555555555556,\"#d8576b\"],[0.6666666666666666,\"#ed7953\"],[0.7777777777777778,\"#fb9f3a\"],[0.8888888888888888,\"#fdca26\"],[1.0,\"#f0f921\"]]}],\"surface\":[{\"type\":\"surface\",\"colorbar\":{\"outlinewidth\":0,\"ticks\":\"\"},\"colorscale\":[[0.0,\"#0d0887\"],[0.1111111111111111,\"#46039f\"],[0.2222222222222222,\"#7201a8\"],[0.3333333333333333,\"#9c179e\"],[0.4444444444444444,\"#bd3786\"],[0.5555555555555556,\"#d8576b\"],[0.6666666666666666,\"#ed7953\"],[0.7777777777777778,\"#fb9f3a\"],[0.8888888888888888,\"#fdca26\"],[1.0,\"#f0f921\"]]}],\"mesh3d\":[{\"type\":\"mesh3d\",\"colorbar\":{\"outlinewidth\":0,\"ticks\":\"\"}}],\"scatter\":[{\"fillpattern\":{\"fillmode\":\"overlay\",\"size\":10,\"solidity\":0.2},\"type\":\"scatter\"}],\"parcoords\":[{\"type\":\"parcoords\",\"line\":{\"colorbar\":{\"outlinewidth\":0,\"ticks\":\"\"}}}],\"scatterpolargl\":[{\"type\":\"scatterpolargl\",\"marker\":{\"colorbar\":{\"outlinewidth\":0,\"ticks\":\"\"}}}],\"bar\":[{\"error_x\":{\"color\":\"#2a3f5f\"},\"error_y\":{\"color\":\"#2a3f5f\"},\"marker\":{\"line\":{\"color\":\"#E5ECF6\",\"width\":0.5},\"pattern\":{\"fillmode\":\"overlay\",\"size\":10,\"solidity\":0.2}},\"type\":\"bar\"}],\"scattergeo\":[{\"type\":\"scattergeo\",\"marker\":{\"colorbar\":{\"outlinewidth\":0,\"ticks\":\"\"}}}],\"scatterpolar\":[{\"type\":\"scatterpolar\",\"marker\":{\"colorbar\":{\"outlinewidth\":0,\"ticks\":\"\"}}}],\"histogram\":[{\"marker\":{\"pattern\":{\"fillmode\":\"overlay\",\"size\":10,\"solidity\":0.2}},\"type\":\"histogram\"}],\"scattergl\":[{\"type\":\"scattergl\",\"marker\":{\"colorbar\":{\"outlinewidth\":0,\"ticks\":\"\"}}}],\"scatter3d\":[{\"type\":\"scatter3d\",\"line\":{\"colorbar\":{\"outlinewidth\":0,\"ticks\":\"\"}},\"marker\":{\"colorbar\":{\"outlinewidth\":0,\"ticks\":\"\"}}}],\"scattermapbox\":[{\"type\":\"scattermapbox\",\"marker\":{\"colorbar\":{\"outlinewidth\":0,\"ticks\":\"\"}}}],\"scatterternary\":[{\"type\":\"scatterternary\",\"marker\":{\"colorbar\":{\"outlinewidth\":0,\"ticks\":\"\"}}}],\"scattercarpet\":[{\"type\":\"scattercarpet\",\"marker\":{\"colorbar\":{\"outlinewidth\":0,\"ticks\":\"\"}}}],\"carpet\":[{\"aaxis\":{\"endlinecolor\":\"#2a3f5f\",\"gridcolor\":\"white\",\"linecolor\":\"white\",\"minorgridcolor\":\"white\",\"startlinecolor\":\"#2a3f5f\"},\"baxis\":{\"endlinecolor\":\"#2a3f5f\",\"gridcolor\":\"white\",\"linecolor\":\"white\",\"minorgridcolor\":\"white\",\"startlinecolor\":\"#2a3f5f\"},\"type\":\"carpet\"}],\"table\":[{\"cells\":{\"fill\":{\"color\":\"#EBF0F8\"},\"line\":{\"color\":\"white\"}},\"header\":{\"fill\":{\"color\":\"#C8D4E3\"},\"line\":{\"color\":\"white\"}},\"type\":\"table\"}],\"barpolar\":[{\"marker\":{\"line\":{\"color\":\"#E5ECF6\",\"width\":0.5},\"pattern\":{\"fillmode\":\"overlay\",\"size\":10,\"solidity\":0.2}},\"type\":\"barpolar\"}],\"pie\":[{\"automargin\":true,\"type\":\"pie\"}]},\"layout\":{\"autotypenumbers\":\"strict\",\"colorway\":[\"#636efa\",\"#EF553B\",\"#00cc96\",\"#ab63fa\",\"#FFA15A\",\"#19d3f3\",\"#FF6692\",\"#B6E880\",\"#FF97FF\",\"#FECB52\"],\"font\":{\"color\":\"#2a3f5f\"},\"hovermode\":\"closest\",\"hoverlabel\":{\"align\":\"left\"},\"paper_bgcolor\":\"white\",\"plot_bgcolor\":\"#E5ECF6\",\"polar\":{\"bgcolor\":\"#E5ECF6\",\"angularaxis\":{\"gridcolor\":\"white\",\"linecolor\":\"white\",\"ticks\":\"\"},\"radialaxis\":{\"gridcolor\":\"white\",\"linecolor\":\"white\",\"ticks\":\"\"}},\"ternary\":{\"bgcolor\":\"#E5ECF6\",\"aaxis\":{\"gridcolor\":\"white\",\"linecolor\":\"white\",\"ticks\":\"\"},\"baxis\":{\"gridcolor\":\"white\",\"linecolor\":\"white\",\"ticks\":\"\"},\"caxis\":{\"gridcolor\":\"white\",\"linecolor\":\"white\",\"ticks\":\"\"}},\"coloraxis\":{\"colorbar\":{\"outlinewidth\":0,\"ticks\":\"\"}},\"colorscale\":{\"sequential\":[[0.0,\"#0d0887\"],[0.1111111111111111,\"#46039f\"],[0.2222222222222222,\"#7201a8\"],[0.3333333333333333,\"#9c179e\"],[0.4444444444444444,\"#bd3786\"],[0.5555555555555556,\"#d8576b\"],[0.6666666666666666,\"#ed7953\"],[0.7777777777777778,\"#fb9f3a\"],[0.8888888888888888,\"#fdca26\"],[1.0,\"#f0f921\"]],\"sequentialminus\":[[0.0,\"#0d0887\"],[0.1111111111111111,\"#46039f\"],[0.2222222222222222,\"#7201a8\"],[0.3333333333333333,\"#9c179e\"],[0.4444444444444444,\"#bd3786\"],[0.5555555555555556,\"#d8576b\"],[0.6666666666666666,\"#ed7953\"],[0.7777777777777778,\"#fb9f3a\"],[0.8888888888888888,\"#fdca26\"],[1.0,\"#f0f921\"]],\"diverging\":[[0,\"#8e0152\"],[0.1,\"#c51b7d\"],[0.2,\"#de77ae\"],[0.3,\"#f1b6da\"],[0.4,\"#fde0ef\"],[0.5,\"#f7f7f7\"],[0.6,\"#e6f5d0\"],[0.7,\"#b8e186\"],[0.8,\"#7fbc41\"],[0.9,\"#4d9221\"],[1,\"#276419\"]]},\"xaxis\":{\"gridcolor\":\"white\",\"linecolor\":\"white\",\"ticks\":\"\",\"title\":{\"standoff\":15},\"zerolinecolor\":\"white\",\"automargin\":true,\"zerolinewidth\":2},\"yaxis\":{\"gridcolor\":\"white\",\"linecolor\":\"white\",\"ticks\":\"\",\"title\":{\"standoff\":15},\"zerolinecolor\":\"white\",\"automargin\":true,\"zerolinewidth\":2},\"scene\":{\"xaxis\":{\"backgroundcolor\":\"#E5ECF6\",\"gridcolor\":\"white\",\"linecolor\":\"white\",\"showbackground\":true,\"ticks\":\"\",\"zerolinecolor\":\"white\",\"gridwidth\":2},\"yaxis\":{\"backgroundcolor\":\"#E5ECF6\",\"gridcolor\":\"white\",\"linecolor\":\"white\",\"showbackground\":true,\"ticks\":\"\",\"zerolinecolor\":\"white\",\"gridwidth\":2},\"zaxis\":{\"backgroundcolor\":\"#E5ECF6\",\"gridcolor\":\"white\",\"linecolor\":\"white\",\"showbackground\":true,\"ticks\":\"\",\"zerolinecolor\":\"white\",\"gridwidth\":2}},\"shapedefaults\":{\"line\":{\"color\":\"#2a3f5f\"}},\"annotationdefaults\":{\"arrowcolor\":\"#2a3f5f\",\"arrowhead\":0,\"arrowwidth\":1},\"geo\":{\"bgcolor\":\"white\",\"landcolor\":\"#E5ECF6\",\"subunitcolor\":\"white\",\"showland\":true,\"showlakes\":true,\"lakecolor\":\"white\"},\"title\":{\"x\":0.05},\"mapbox\":{\"style\":\"light\"}}},\"xaxis\":{\"anchor\":\"y\",\"domain\":[0.0,0.14666666666666667],\"title\":{\"text\":\"sketch_fn\"},\"categoryorder\":\"array\",\"categoryarray\":[\"gaussian\",\"sjlt\",\"srht\",\"none\"]},\"yaxis\":{\"anchor\":\"x\",\"domain\":[0.0,0.485],\"title\":{\"text\":\"sum of time\"}},\"xaxis2\":{\"anchor\":\"y2\",\"domain\":[0.16666666666666666,0.31333333333333335],\"matches\":\"x\",\"title\":{\"text\":\"sketch_fn\"},\"categoryorder\":\"array\",\"categoryarray\":[\"gaussian\",\"sjlt\",\"srht\",\"none\"]},\"yaxis2\":{\"anchor\":\"x2\",\"domain\":[0.0,0.485],\"matches\":\"y\",\"showticklabels\":false},\"xaxis3\":{\"anchor\":\"y3\",\"domain\":[0.3333333333333333,0.48],\"matches\":\"x\",\"title\":{\"text\":\"sketch_fn\"},\"categoryorder\":\"array\",\"categoryarray\":[\"gaussian\",\"sjlt\",\"srht\",\"none\"]},\"yaxis3\":{\"anchor\":\"x3\",\"domain\":[0.0,0.485],\"matches\":\"y\",\"showticklabels\":false},\"xaxis4\":{\"anchor\":\"y4\",\"domain\":[0.5,0.6466666666666667],\"matches\":\"x\",\"title\":{\"text\":\"sketch_fn\"},\"categoryorder\":\"array\",\"categoryarray\":[\"gaussian\",\"sjlt\",\"srht\",\"none\"]},\"yaxis4\":{\"anchor\":\"x4\",\"domain\":[0.0,0.485],\"matches\":\"y\",\"showticklabels\":false},\"xaxis5\":{\"anchor\":\"y5\",\"domain\":[0.6666666666666666,0.8133333333333332],\"matches\":\"x\",\"title\":{\"text\":\"sketch_fn\"},\"categoryorder\":\"array\",\"categoryarray\":[\"gaussian\",\"sjlt\",\"srht\",\"none\"]},\"yaxis5\":{\"anchor\":\"x5\",\"domain\":[0.0,0.485],\"matches\":\"y\",\"showticklabels\":false},\"xaxis6\":{\"anchor\":\"y6\",\"domain\":[0.8333333333333334,0.98],\"matches\":\"x\",\"title\":{\"text\":\"sketch_fn\"},\"categoryorder\":\"array\",\"categoryarray\":[\"gaussian\",\"sjlt\",\"srht\",\"none\"]},\"yaxis6\":{\"anchor\":\"x6\",\"domain\":[0.0,0.485],\"matches\":\"y\",\"showticklabels\":false},\"xaxis7\":{\"anchor\":\"y7\",\"domain\":[0.0,0.14666666666666667],\"matches\":\"x\",\"showticklabels\":false},\"yaxis7\":{\"anchor\":\"x7\",\"domain\":[0.515,1.0],\"matches\":\"y\",\"title\":{\"text\":\"sum of time\"}},\"xaxis8\":{\"anchor\":\"y8\",\"domain\":[0.16666666666666666,0.31333333333333335],\"matches\":\"x\",\"showticklabels\":false},\"yaxis8\":{\"anchor\":\"x8\",\"domain\":[0.515,1.0],\"matches\":\"y\",\"showticklabels\":false},\"xaxis9\":{\"anchor\":\"y9\",\"domain\":[0.3333333333333333,0.48],\"matches\":\"x\",\"showticklabels\":false},\"yaxis9\":{\"anchor\":\"x9\",\"domain\":[0.515,1.0],\"matches\":\"y\",\"showticklabels\":false},\"xaxis10\":{\"anchor\":\"y10\",\"domain\":[0.5,0.6466666666666667],\"matches\":\"x\",\"showticklabels\":false},\"yaxis10\":{\"anchor\":\"x10\",\"domain\":[0.515,1.0],\"matches\":\"y\",\"showticklabels\":false},\"xaxis11\":{\"anchor\":\"y11\",\"domain\":[0.6666666666666666,0.8133333333333332],\"matches\":\"x\",\"showticklabels\":false},\"yaxis11\":{\"anchor\":\"x11\",\"domain\":[0.515,1.0],\"matches\":\"y\",\"showticklabels\":false},\"xaxis12\":{\"anchor\":\"y12\",\"domain\":[0.8333333333333334,0.98],\"matches\":\"x\",\"showticklabels\":false},\"yaxis12\":{\"anchor\":\"x12\",\"domain\":[0.515,1.0],\"matches\":\"y\",\"showticklabels\":false},\"annotations\":[{\"font\":{},\"showarrow\":false,\"text\":\"deff=32\",\"x\":0.07333333333333333,\"xanchor\":\"center\",\"xref\":\"paper\",\"y\":1.0,\"yanchor\":\"bottom\",\"yref\":\"paper\"},{\"font\":{},\"showarrow\":false,\"text\":\"deff=64\",\"x\":0.24,\"xanchor\":\"center\",\"xref\":\"paper\",\"y\":1.0,\"yanchor\":\"bottom\",\"yref\":\"paper\"},{\"font\":{},\"showarrow\":false,\"text\":\"deff=128\",\"x\":0.4066666666666666,\"xanchor\":\"center\",\"xref\":\"paper\",\"y\":1.0,\"yanchor\":\"bottom\",\"yref\":\"paper\"},{\"font\":{},\"showarrow\":false,\"text\":\"deff=256\",\"x\":0.5733333333333334,\"xanchor\":\"center\",\"xref\":\"paper\",\"y\":1.0,\"yanchor\":\"bottom\",\"yref\":\"paper\"},{\"font\":{},\"showarrow\":false,\"text\":\"deff=512\",\"x\":0.74,\"xanchor\":\"center\",\"xref\":\"paper\",\"y\":1.0,\"yanchor\":\"bottom\",\"yref\":\"paper\"},{\"font\":{},\"showarrow\":false,\"text\":\"deff=1024\",\"x\":0.9066666666666667,\"xanchor\":\"center\",\"xref\":\"paper\",\"y\":1.0,\"yanchor\":\"bottom\",\"yref\":\"paper\"},{\"font\":{},\"showarrow\":false,\"text\":\"n=4096\",\"textangle\":90,\"x\":0.98,\"xanchor\":\"left\",\"xref\":\"paper\",\"y\":0.2425,\"yanchor\":\"middle\",\"yref\":\"paper\"},{\"font\":{},\"showarrow\":false,\"text\":\"n=2048\",\"textangle\":90,\"x\":0.98,\"xanchor\":\"left\",\"xref\":\"paper\",\"y\":0.7575000000000001,\"yanchor\":\"middle\",\"yref\":\"paper\"}],\"legend\":{\"title\":{\"text\":\"method, sketch_fn\"},\"tracegroupgap\":0},\"margin\":{\"t\":60},\"barmode\":\"group\",\"height\":700},                        {\"responsive\": true}                    ).then(function(){\n",
       "                            \n",
       "var gd = document.getElementById('039ec5db-8ac3-4607-b5e1-f5be0e5782ff');\n",
       "var x = new MutationObserver(function (mutations, observer) {{\n",
       "        var display = window.getComputedStyle(gd).display;\n",
       "        if (!display || display === 'none') {{\n",
       "            console.log([gd, 'removed!']);\n",
       "            Plotly.purge(gd);\n",
       "            observer.disconnect();\n",
       "        }}\n",
       "}});\n",
       "\n",
       "// Listen for the removal of the full notebook cells\n",
       "var notebookContainer = gd.closest('#notebook-container');\n",
       "if (notebookContainer) {{\n",
       "    x.observe(notebookContainer, {childList: true});\n",
       "}}\n",
       "\n",
       "// Listen for the clearing of the current output cell\n",
       "var outputEl = gd.closest('.output');\n",
       "if (outputEl) {{\n",
       "    x.observe(outputEl, {childList: true});\n",
       "}}\n",
       "\n",
       "                        })                };                });            </script>        </div>"
      ]
     },
     "metadata": {},
     "output_type": "display_data"
    },
    {
     "name": "stdout",
     "output_type": "stream",
     "text": [
      "d=2048\n"
     ]
    },
    {
     "data": {
      "application/vnd.plotly.v1+json": {
       "config": {
        "plotlyServerURL": "https://plot.ly"
       },
       "data": [
        {
         "alignmentgroup": "True",
         "bingroup": "x",
         "cliponaxis": false,
         "histfunc": "sum",
         "hovertemplate": "method=adacg<br>sketch_fn=%{x}<br>n=2048<br>deff=32<br>sum of time=%{y}<extra></extra>",
         "legendgroup": "adacg, gaussian",
         "marker": {
          "color": "#636efa",
          "pattern": {
           "shape": ""
          }
         },
         "name": "adacg, gaussian",
         "offsetgroup": "adacg, gaussian",
         "orientation": "v",
         "showlegend": true,
         "textangle": 0,
         "textposition": "outside",
         "texttemplate": "%{value:.2s}",
         "type": "histogram",
         "x": [
          "gaussian"
         ],
         "xaxis": "x8",
         "y": [
          0.1529403346668611
         ],
         "yaxis": "y8"
        },
        {
         "alignmentgroup": "True",
         "bingroup": "x",
         "cliponaxis": false,
         "histfunc": "sum",
         "hovertemplate": "method=adacg<br>sketch_fn=%{x}<br>n=2048<br>deff=64<br>sum of time=%{y}<extra></extra>",
         "legendgroup": "adacg, gaussian",
         "marker": {
          "color": "#636efa",
          "pattern": {
           "shape": ""
          }
         },
         "name": "adacg, gaussian",
         "offsetgroup": "adacg, gaussian",
         "orientation": "v",
         "showlegend": false,
         "textangle": 0,
         "textposition": "outside",
         "texttemplate": "%{value:.2s}",
         "type": "histogram",
         "x": [
          "gaussian"
         ],
         "xaxis": "x9",
         "y": [
          0.1967434010001246
         ],
         "yaxis": "y9"
        },
        {
         "alignmentgroup": "True",
         "bingroup": "x",
         "cliponaxis": false,
         "histfunc": "sum",
         "hovertemplate": "method=adacg<br>sketch_fn=%{x}<br>n=2048<br>deff=128<br>sum of time=%{y}<extra></extra>",
         "legendgroup": "adacg, gaussian",
         "marker": {
          "color": "#636efa",
          "pattern": {
           "shape": ""
          }
         },
         "name": "adacg, gaussian",
         "offsetgroup": "adacg, gaussian",
         "orientation": "v",
         "showlegend": false,
         "textangle": 0,
         "textposition": "outside",
         "texttemplate": "%{value:.2s}",
         "type": "histogram",
         "x": [
          "gaussian"
         ],
         "xaxis": "x10",
         "y": [
          0.325454149000052
         ],
         "yaxis": "y10"
        },
        {
         "alignmentgroup": "True",
         "bingroup": "x",
         "cliponaxis": false,
         "histfunc": "sum",
         "hovertemplate": "method=adacg<br>sketch_fn=%{x}<br>n=2048<br>deff=256<br>sum of time=%{y}<extra></extra>",
         "legendgroup": "adacg, gaussian",
         "marker": {
          "color": "#636efa",
          "pattern": {
           "shape": ""
          }
         },
         "name": "adacg, gaussian",
         "offsetgroup": "adacg, gaussian",
         "orientation": "v",
         "showlegend": false,
         "textangle": 0,
         "textposition": "outside",
         "texttemplate": "%{value:.2s}",
         "type": "histogram",
         "x": [
          "gaussian"
         ],
         "xaxis": "x11",
         "y": [
          0.32327142300012685
         ],
         "yaxis": "y11"
        },
        {
         "alignmentgroup": "True",
         "bingroup": "x",
         "cliponaxis": false,
         "histfunc": "sum",
         "hovertemplate": "method=adacg<br>sketch_fn=%{x}<br>n=2048<br>deff=512<br>sum of time=%{y}<extra></extra>",
         "legendgroup": "adacg, gaussian",
         "marker": {
          "color": "#636efa",
          "pattern": {
           "shape": ""
          }
         },
         "name": "adacg, gaussian",
         "offsetgroup": "adacg, gaussian",
         "orientation": "v",
         "showlegend": false,
         "textangle": 0,
         "textposition": "outside",
         "texttemplate": "%{value:.2s}",
         "type": "histogram",
         "x": [
          "gaussian"
         ],
         "xaxis": "x12",
         "y": [
          0.5573548243337427
         ],
         "yaxis": "y12"
        },
        {
         "alignmentgroup": "True",
         "bingroup": "x",
         "cliponaxis": false,
         "histfunc": "sum",
         "hovertemplate": "method=adacg<br>sketch_fn=%{x}<br>n=2048<br>deff=1024<br>sum of time=%{y}<extra></extra>",
         "legendgroup": "adacg, gaussian",
         "marker": {
          "color": "#636efa",
          "pattern": {
           "shape": ""
          }
         },
         "name": "adacg, gaussian",
         "offsetgroup": "adacg, gaussian",
         "orientation": "v",
         "showlegend": false,
         "textangle": 0,
         "textposition": "outside",
         "texttemplate": "%{value:.2s}",
         "type": "histogram",
         "x": [
          "gaussian"
         ],
         "xaxis": "x13",
         "y": [
          0.5662673029998283
         ],
         "yaxis": "y13"
        },
        {
         "alignmentgroup": "True",
         "bingroup": "x",
         "cliponaxis": false,
         "histfunc": "sum",
         "hovertemplate": "method=adacg<br>sketch_fn=%{x}<br>n=2048<br>deff=2048<br>sum of time=%{y}<extra></extra>",
         "legendgroup": "adacg, gaussian",
         "marker": {
          "color": "#636efa",
          "pattern": {
           "shape": ""
          }
         },
         "name": "adacg, gaussian",
         "offsetgroup": "adacg, gaussian",
         "orientation": "v",
         "showlegend": false,
         "textangle": 0,
         "textposition": "outside",
         "texttemplate": "%{value:.2s}",
         "type": "histogram",
         "x": [
          "gaussian"
         ],
         "xaxis": "x14",
         "y": [
          0.5643194493328944
         ],
         "yaxis": "y14"
        },
        {
         "alignmentgroup": "True",
         "bingroup": "x",
         "cliponaxis": false,
         "histfunc": "sum",
         "hovertemplate": "method=adacg<br>sketch_fn=%{x}<br>n=4096<br>deff=32<br>sum of time=%{y}<extra></extra>",
         "legendgroup": "adacg, gaussian",
         "marker": {
          "color": "#636efa",
          "pattern": {
           "shape": ""
          }
         },
         "name": "adacg, gaussian",
         "offsetgroup": "adacg, gaussian",
         "orientation": "v",
         "showlegend": false,
         "textangle": 0,
         "textposition": "outside",
         "texttemplate": "%{value:.2s}",
         "type": "histogram",
         "x": [
          "gaussian"
         ],
         "xaxis": "x",
         "y": [
          0.2842086856665749
         ],
         "yaxis": "y"
        },
        {
         "alignmentgroup": "True",
         "bingroup": "x",
         "cliponaxis": false,
         "histfunc": "sum",
         "hovertemplate": "method=adacg<br>sketch_fn=%{x}<br>n=4096<br>deff=64<br>sum of time=%{y}<extra></extra>",
         "legendgroup": "adacg, gaussian",
         "marker": {
          "color": "#636efa",
          "pattern": {
           "shape": ""
          }
         },
         "name": "adacg, gaussian",
         "offsetgroup": "adacg, gaussian",
         "orientation": "v",
         "showlegend": false,
         "textangle": 0,
         "textposition": "outside",
         "texttemplate": "%{value:.2s}",
         "type": "histogram",
         "x": [
          "gaussian"
         ],
         "xaxis": "x2",
         "y": [
          0.3384597020000607
         ],
         "yaxis": "y2"
        },
        {
         "alignmentgroup": "True",
         "bingroup": "x",
         "cliponaxis": false,
         "histfunc": "sum",
         "hovertemplate": "method=adacg<br>sketch_fn=%{x}<br>n=4096<br>deff=128<br>sum of time=%{y}<extra></extra>",
         "legendgroup": "adacg, gaussian",
         "marker": {
          "color": "#636efa",
          "pattern": {
           "shape": ""
          }
         },
         "name": "adacg, gaussian",
         "offsetgroup": "adacg, gaussian",
         "orientation": "v",
         "showlegend": false,
         "textangle": 0,
         "textposition": "outside",
         "texttemplate": "%{value:.2s}",
         "type": "histogram",
         "x": [
          "gaussian"
         ],
         "xaxis": "x3",
         "y": [
          0.3351654299998093
         ],
         "yaxis": "y3"
        },
        {
         "alignmentgroup": "True",
         "bingroup": "x",
         "cliponaxis": false,
         "histfunc": "sum",
         "hovertemplate": "method=adacg<br>sketch_fn=%{x}<br>n=4096<br>deff=256<br>sum of time=%{y}<extra></extra>",
         "legendgroup": "adacg, gaussian",
         "marker": {
          "color": "#636efa",
          "pattern": {
           "shape": ""
          }
         },
         "name": "adacg, gaussian",
         "offsetgroup": "adacg, gaussian",
         "orientation": "v",
         "showlegend": false,
         "textangle": 0,
         "textposition": "outside",
         "texttemplate": "%{value:.2s}",
         "type": "histogram",
         "x": [
          "gaussian"
         ],
         "xaxis": "x4",
         "y": [
          0.6004047429996717
         ],
         "yaxis": "y4"
        },
        {
         "alignmentgroup": "True",
         "bingroup": "x",
         "cliponaxis": false,
         "histfunc": "sum",
         "hovertemplate": "method=adacg<br>sketch_fn=%{x}<br>n=4096<br>deff=512<br>sum of time=%{y}<extra></extra>",
         "legendgroup": "adacg, gaussian",
         "marker": {
          "color": "#636efa",
          "pattern": {
           "shape": ""
          }
         },
         "name": "adacg, gaussian",
         "offsetgroup": "adacg, gaussian",
         "orientation": "v",
         "showlegend": false,
         "textangle": 0,
         "textposition": "outside",
         "texttemplate": "%{value:.2s}",
         "type": "histogram",
         "x": [
          "gaussian"
         ],
         "xaxis": "x5",
         "y": [
          0.9738511686664423
         ],
         "yaxis": "y5"
        },
        {
         "alignmentgroup": "True",
         "bingroup": "x",
         "cliponaxis": false,
         "histfunc": "sum",
         "hovertemplate": "method=adacg<br>sketch_fn=%{x}<br>n=4096<br>deff=1024<br>sum of time=%{y}<extra></extra>",
         "legendgroup": "adacg, gaussian",
         "marker": {
          "color": "#636efa",
          "pattern": {
           "shape": ""
          }
         },
         "name": "adacg, gaussian",
         "offsetgroup": "adacg, gaussian",
         "orientation": "v",
         "showlegend": false,
         "textangle": 0,
         "textposition": "outside",
         "texttemplate": "%{value:.2s}",
         "type": "histogram",
         "x": [
          "gaussian"
         ],
         "xaxis": "x6",
         "y": [
          0.9829557766667373
         ],
         "yaxis": "y6"
        },
        {
         "alignmentgroup": "True",
         "bingroup": "x",
         "cliponaxis": false,
         "histfunc": "sum",
         "hovertemplate": "method=adacg<br>sketch_fn=%{x}<br>n=4096<br>deff=2048<br>sum of time=%{y}<extra></extra>",
         "legendgroup": "adacg, gaussian",
         "marker": {
          "color": "#636efa",
          "pattern": {
           "shape": ""
          }
         },
         "name": "adacg, gaussian",
         "offsetgroup": "adacg, gaussian",
         "orientation": "v",
         "showlegend": false,
         "textangle": 0,
         "textposition": "outside",
         "texttemplate": "%{value:.2s}",
         "type": "histogram",
         "x": [
          "gaussian"
         ],
         "xaxis": "x7",
         "y": [
          1.0493970176660998
         ],
         "yaxis": "y7"
        },
        {
         "alignmentgroup": "True",
         "bingroup": "x",
         "cliponaxis": false,
         "histfunc": "sum",
         "hovertemplate": "method=adacg<br>sketch_fn=%{x}<br>n=2048<br>deff=32<br>sum of time=%{y}<extra></extra>",
         "legendgroup": "adacg, sjlt",
         "marker": {
          "color": "#636efa",
          "pattern": {
           "shape": "/"
          }
         },
         "name": "adacg, sjlt",
         "offsetgroup": "adacg, sjlt",
         "orientation": "v",
         "showlegend": true,
         "textangle": 0,
         "textposition": "outside",
         "texttemplate": "%{value:.2s}",
         "type": "histogram",
         "x": [
          "sjlt"
         ],
         "xaxis": "x8",
         "y": [
          0.1314517569999225
         ],
         "yaxis": "y8"
        },
        {
         "alignmentgroup": "True",
         "bingroup": "x",
         "cliponaxis": false,
         "histfunc": "sum",
         "hovertemplate": "method=adacg<br>sketch_fn=%{x}<br>n=2048<br>deff=64<br>sum of time=%{y}<extra></extra>",
         "legendgroup": "adacg, sjlt",
         "marker": {
          "color": "#636efa",
          "pattern": {
           "shape": "/"
          }
         },
         "name": "adacg, sjlt",
         "offsetgroup": "adacg, sjlt",
         "orientation": "v",
         "showlegend": false,
         "textangle": 0,
         "textposition": "outside",
         "texttemplate": "%{value:.2s}",
         "type": "histogram",
         "x": [
          "sjlt"
         ],
         "xaxis": "x9",
         "y": [
          0.19565731866653852
         ],
         "yaxis": "y9"
        },
        {
         "alignmentgroup": "True",
         "bingroup": "x",
         "cliponaxis": false,
         "histfunc": "sum",
         "hovertemplate": "method=adacg<br>sketch_fn=%{x}<br>n=2048<br>deff=128<br>sum of time=%{y}<extra></extra>",
         "legendgroup": "adacg, sjlt",
         "marker": {
          "color": "#636efa",
          "pattern": {
           "shape": "/"
          }
         },
         "name": "adacg, sjlt",
         "offsetgroup": "adacg, sjlt",
         "orientation": "v",
         "showlegend": false,
         "textangle": 0,
         "textposition": "outside",
         "texttemplate": "%{value:.2s}",
         "type": "histogram",
         "x": [
          "sjlt"
         ],
         "xaxis": "x10",
         "y": [
          0.19939187533342798
         ],
         "yaxis": "y10"
        },
        {
         "alignmentgroup": "True",
         "bingroup": "x",
         "cliponaxis": false,
         "histfunc": "sum",
         "hovertemplate": "method=adacg<br>sketch_fn=%{x}<br>n=2048<br>deff=256<br>sum of time=%{y}<extra></extra>",
         "legendgroup": "adacg, sjlt",
         "marker": {
          "color": "#636efa",
          "pattern": {
           "shape": "/"
          }
         },
         "name": "adacg, sjlt",
         "offsetgroup": "adacg, sjlt",
         "orientation": "v",
         "showlegend": false,
         "textangle": 0,
         "textposition": "outside",
         "texttemplate": "%{value:.2s}",
         "type": "histogram",
         "x": [
          "sjlt"
         ],
         "xaxis": "x11",
         "y": [
          0.3135059996663282
         ],
         "yaxis": "y11"
        },
        {
         "alignmentgroup": "True",
         "bingroup": "x",
         "cliponaxis": false,
         "histfunc": "sum",
         "hovertemplate": "method=adacg<br>sketch_fn=%{x}<br>n=2048<br>deff=512<br>sum of time=%{y}<extra></extra>",
         "legendgroup": "adacg, sjlt",
         "marker": {
          "color": "#636efa",
          "pattern": {
           "shape": "/"
          }
         },
         "name": "adacg, sjlt",
         "offsetgroup": "adacg, sjlt",
         "orientation": "v",
         "showlegend": false,
         "textangle": 0,
         "textposition": "outside",
         "texttemplate": "%{value:.2s}",
         "type": "histogram",
         "x": [
          "sjlt"
         ],
         "xaxis": "x12",
         "y": [
          0.36666877933354647
         ],
         "yaxis": "y12"
        },
        {
         "alignmentgroup": "True",
         "bingroup": "x",
         "cliponaxis": false,
         "histfunc": "sum",
         "hovertemplate": "method=adacg<br>sketch_fn=%{x}<br>n=2048<br>deff=1024<br>sum of time=%{y}<extra></extra>",
         "legendgroup": "adacg, sjlt",
         "marker": {
          "color": "#636efa",
          "pattern": {
           "shape": "/"
          }
         },
         "name": "adacg, sjlt",
         "offsetgroup": "adacg, sjlt",
         "orientation": "v",
         "showlegend": false,
         "textangle": 0,
         "textposition": "outside",
         "texttemplate": "%{value:.2s}",
         "type": "histogram",
         "x": [
          "sjlt"
         ],
         "xaxis": "x13",
         "y": [
          0.5376748423332174
         ],
         "yaxis": "y13"
        },
        {
         "alignmentgroup": "True",
         "bingroup": "x",
         "cliponaxis": false,
         "histfunc": "sum",
         "hovertemplate": "method=adacg<br>sketch_fn=%{x}<br>n=2048<br>deff=2048<br>sum of time=%{y}<extra></extra>",
         "legendgroup": "adacg, sjlt",
         "marker": {
          "color": "#636efa",
          "pattern": {
           "shape": "/"
          }
         },
         "name": "adacg, sjlt",
         "offsetgroup": "adacg, sjlt",
         "orientation": "v",
         "showlegend": false,
         "textangle": 0,
         "textposition": "outside",
         "texttemplate": "%{value:.2s}",
         "type": "histogram",
         "x": [
          "sjlt"
         ],
         "xaxis": "x14",
         "y": [
          0.5393497253332195
         ],
         "yaxis": "y14"
        },
        {
         "alignmentgroup": "True",
         "bingroup": "x",
         "cliponaxis": false,
         "histfunc": "sum",
         "hovertemplate": "method=adacg<br>sketch_fn=%{x}<br>n=4096<br>deff=32<br>sum of time=%{y}<extra></extra>",
         "legendgroup": "adacg, sjlt",
         "marker": {
          "color": "#636efa",
          "pattern": {
           "shape": "/"
          }
         },
         "name": "adacg, sjlt",
         "offsetgroup": "adacg, sjlt",
         "orientation": "v",
         "showlegend": false,
         "textangle": 0,
         "textposition": "outside",
         "texttemplate": "%{value:.2s}",
         "type": "histogram",
         "x": [
          "sjlt"
         ],
         "xaxis": "x",
         "y": [
          0.31607944266700844
         ],
         "yaxis": "y"
        },
        {
         "alignmentgroup": "True",
         "bingroup": "x",
         "cliponaxis": false,
         "histfunc": "sum",
         "hovertemplate": "method=adacg<br>sketch_fn=%{x}<br>n=4096<br>deff=64<br>sum of time=%{y}<extra></extra>",
         "legendgroup": "adacg, sjlt",
         "marker": {
          "color": "#636efa",
          "pattern": {
           "shape": "/"
          }
         },
         "name": "adacg, sjlt",
         "offsetgroup": "adacg, sjlt",
         "orientation": "v",
         "showlegend": false,
         "textangle": 0,
         "textposition": "outside",
         "texttemplate": "%{value:.2s}",
         "type": "histogram",
         "x": [
          "sjlt"
         ],
         "xaxis": "x2",
         "y": [
          0.44415442300002417
         ],
         "yaxis": "y2"
        },
        {
         "alignmentgroup": "True",
         "bingroup": "x",
         "cliponaxis": false,
         "histfunc": "sum",
         "hovertemplate": "method=adacg<br>sketch_fn=%{x}<br>n=4096<br>deff=128<br>sum of time=%{y}<extra></extra>",
         "legendgroup": "adacg, sjlt",
         "marker": {
          "color": "#636efa",
          "pattern": {
           "shape": "/"
          }
         },
         "name": "adacg, sjlt",
         "offsetgroup": "adacg, sjlt",
         "orientation": "v",
         "showlegend": false,
         "textangle": 0,
         "textposition": "outside",
         "texttemplate": "%{value:.2s}",
         "type": "histogram",
         "x": [
          "sjlt"
         ],
         "xaxis": "x3",
         "y": [
          0.4735978086670608
         ],
         "yaxis": "y3"
        },
        {
         "alignmentgroup": "True",
         "bingroup": "x",
         "cliponaxis": false,
         "histfunc": "sum",
         "hovertemplate": "method=adacg<br>sketch_fn=%{x}<br>n=4096<br>deff=256<br>sum of time=%{y}<extra></extra>",
         "legendgroup": "adacg, sjlt",
         "marker": {
          "color": "#636efa",
          "pattern": {
           "shape": "/"
          }
         },
         "name": "adacg, sjlt",
         "offsetgroup": "adacg, sjlt",
         "orientation": "v",
         "showlegend": false,
         "textangle": 0,
         "textposition": "outside",
         "texttemplate": "%{value:.2s}",
         "type": "histogram",
         "x": [
          "sjlt"
         ],
         "xaxis": "x4",
         "y": [
          0.5219972536669957
         ],
         "yaxis": "y4"
        },
        {
         "alignmentgroup": "True",
         "bingroup": "x",
         "cliponaxis": false,
         "histfunc": "sum",
         "hovertemplate": "method=adacg<br>sketch_fn=%{x}<br>n=4096<br>deff=512<br>sum of time=%{y}<extra></extra>",
         "legendgroup": "adacg, sjlt",
         "marker": {
          "color": "#636efa",
          "pattern": {
           "shape": "/"
          }
         },
         "name": "adacg, sjlt",
         "offsetgroup": "adacg, sjlt",
         "orientation": "v",
         "showlegend": false,
         "textangle": 0,
         "textposition": "outside",
         "texttemplate": "%{value:.2s}",
         "type": "histogram",
         "x": [
          "sjlt"
         ],
         "xaxis": "x5",
         "y": [
          0.5955382489998251
         ],
         "yaxis": "y5"
        },
        {
         "alignmentgroup": "True",
         "bingroup": "x",
         "cliponaxis": false,
         "histfunc": "sum",
         "hovertemplate": "method=adacg<br>sketch_fn=%{x}<br>n=4096<br>deff=1024<br>sum of time=%{y}<extra></extra>",
         "legendgroup": "adacg, sjlt",
         "marker": {
          "color": "#636efa",
          "pattern": {
           "shape": "/"
          }
         },
         "name": "adacg, sjlt",
         "offsetgroup": "adacg, sjlt",
         "orientation": "v",
         "showlegend": false,
         "textangle": 0,
         "textposition": "outside",
         "texttemplate": "%{value:.2s}",
         "type": "histogram",
         "x": [
          "sjlt"
         ],
         "xaxis": "x6",
         "y": [
          0.9674542429996411
         ],
         "yaxis": "y6"
        },
        {
         "alignmentgroup": "True",
         "bingroup": "x",
         "cliponaxis": false,
         "histfunc": "sum",
         "hovertemplate": "method=adacg<br>sketch_fn=%{x}<br>n=4096<br>deff=2048<br>sum of time=%{y}<extra></extra>",
         "legendgroup": "adacg, sjlt",
         "marker": {
          "color": "#636efa",
          "pattern": {
           "shape": "/"
          }
         },
         "name": "adacg, sjlt",
         "offsetgroup": "adacg, sjlt",
         "orientation": "v",
         "showlegend": false,
         "textangle": 0,
         "textposition": "outside",
         "texttemplate": "%{value:.2s}",
         "type": "histogram",
         "x": [
          "sjlt"
         ],
         "xaxis": "x7",
         "y": [
          1.037484811666824
         ],
         "yaxis": "y7"
        },
        {
         "alignmentgroup": "True",
         "bingroup": "x",
         "cliponaxis": false,
         "histfunc": "sum",
         "hovertemplate": "method=adacg<br>sketch_fn=%{x}<br>n=2048<br>deff=32<br>sum of time=%{y}<extra></extra>",
         "legendgroup": "adacg, srht",
         "marker": {
          "color": "#636efa",
          "pattern": {
           "shape": "\\"
          }
         },
         "name": "adacg, srht",
         "offsetgroup": "adacg, srht",
         "orientation": "v",
         "showlegend": true,
         "textangle": 0,
         "textposition": "outside",
         "texttemplate": "%{value:.2s}",
         "type": "histogram",
         "x": [
          "srht"
         ],
         "xaxis": "x8",
         "y": [
          0.17404522033333097
         ],
         "yaxis": "y8"
        },
        {
         "alignmentgroup": "True",
         "bingroup": "x",
         "cliponaxis": false,
         "histfunc": "sum",
         "hovertemplate": "method=adacg<br>sketch_fn=%{x}<br>n=2048<br>deff=64<br>sum of time=%{y}<extra></extra>",
         "legendgroup": "adacg, srht",
         "marker": {
          "color": "#636efa",
          "pattern": {
           "shape": "\\"
          }
         },
         "name": "adacg, srht",
         "offsetgroup": "adacg, srht",
         "orientation": "v",
         "showlegend": false,
         "textangle": 0,
         "textposition": "outside",
         "texttemplate": "%{value:.2s}",
         "type": "histogram",
         "x": [
          "srht"
         ],
         "xaxis": "x9",
         "y": [
          0.33524405600004076
         ],
         "yaxis": "y9"
        },
        {
         "alignmentgroup": "True",
         "bingroup": "x",
         "cliponaxis": false,
         "histfunc": "sum",
         "hovertemplate": "method=adacg<br>sketch_fn=%{x}<br>n=2048<br>deff=128<br>sum of time=%{y}<extra></extra>",
         "legendgroup": "adacg, srht",
         "marker": {
          "color": "#636efa",
          "pattern": {
           "shape": "\\"
          }
         },
         "name": "adacg, srht",
         "offsetgroup": "adacg, srht",
         "orientation": "v",
         "showlegend": false,
         "textangle": 0,
         "textposition": "outside",
         "texttemplate": "%{value:.2s}",
         "type": "histogram",
         "x": [
          "srht"
         ],
         "xaxis": "x10",
         "y": [
          0.3588618150000305
         ],
         "yaxis": "y10"
        },
        {
         "alignmentgroup": "True",
         "bingroup": "x",
         "cliponaxis": false,
         "histfunc": "sum",
         "hovertemplate": "method=adacg<br>sketch_fn=%{x}<br>n=2048<br>deff=256<br>sum of time=%{y}<extra></extra>",
         "legendgroup": "adacg, srht",
         "marker": {
          "color": "#636efa",
          "pattern": {
           "shape": "\\"
          }
         },
         "name": "adacg, srht",
         "offsetgroup": "adacg, srht",
         "orientation": "v",
         "showlegend": false,
         "textangle": 0,
         "textposition": "outside",
         "texttemplate": "%{value:.2s}",
         "type": "histogram",
         "x": [
          "srht"
         ],
         "xaxis": "x11",
         "y": [
          0.41636652466695523
         ],
         "yaxis": "y11"
        },
        {
         "alignmentgroup": "True",
         "bingroup": "x",
         "cliponaxis": false,
         "histfunc": "sum",
         "hovertemplate": "method=adacg<br>sketch_fn=%{x}<br>n=2048<br>deff=512<br>sum of time=%{y}<extra></extra>",
         "legendgroup": "adacg, srht",
         "marker": {
          "color": "#636efa",
          "pattern": {
           "shape": "\\"
          }
         },
         "name": "adacg, srht",
         "offsetgroup": "adacg, srht",
         "orientation": "v",
         "showlegend": false,
         "textangle": 0,
         "textposition": "outside",
         "texttemplate": "%{value:.2s}",
         "type": "histogram",
         "x": [
          "srht"
         ],
         "xaxis": "x12",
         "y": [
          0.6090869436666253
         ],
         "yaxis": "y12"
        },
        {
         "alignmentgroup": "True",
         "bingroup": "x",
         "cliponaxis": false,
         "histfunc": "sum",
         "hovertemplate": "method=adacg<br>sketch_fn=%{x}<br>n=2048<br>deff=1024<br>sum of time=%{y}<extra></extra>",
         "legendgroup": "adacg, srht",
         "marker": {
          "color": "#636efa",
          "pattern": {
           "shape": "\\"
          }
         },
         "name": "adacg, srht",
         "offsetgroup": "adacg, srht",
         "orientation": "v",
         "showlegend": false,
         "textangle": 0,
         "textposition": "outside",
         "texttemplate": "%{value:.2s}",
         "type": "histogram",
         "x": [
          "srht"
         ],
         "xaxis": "x13",
         "y": [
          0.6030274473329579
         ],
         "yaxis": "y13"
        },
        {
         "alignmentgroup": "True",
         "bingroup": "x",
         "cliponaxis": false,
         "histfunc": "sum",
         "hovertemplate": "method=adacg<br>sketch_fn=%{x}<br>n=2048<br>deff=2048<br>sum of time=%{y}<extra></extra>",
         "legendgroup": "adacg, srht",
         "marker": {
          "color": "#636efa",
          "pattern": {
           "shape": "\\"
          }
         },
         "name": "adacg, srht",
         "offsetgroup": "adacg, srht",
         "orientation": "v",
         "showlegend": false,
         "textangle": 0,
         "textposition": "outside",
         "texttemplate": "%{value:.2s}",
         "type": "histogram",
         "x": [
          "srht"
         ],
         "xaxis": "x14",
         "y": [
          0.6053224139996018
         ],
         "yaxis": "y14"
        },
        {
         "alignmentgroup": "True",
         "bingroup": "x",
         "cliponaxis": false,
         "histfunc": "sum",
         "hovertemplate": "method=adacg<br>sketch_fn=%{x}<br>n=4096<br>deff=32<br>sum of time=%{y}<extra></extra>",
         "legendgroup": "adacg, srht",
         "marker": {
          "color": "#636efa",
          "pattern": {
           "shape": "\\"
          }
         },
         "name": "adacg, srht",
         "offsetgroup": "adacg, srht",
         "orientation": "v",
         "showlegend": false,
         "textangle": 0,
         "textposition": "outside",
         "texttemplate": "%{value:.2s}",
         "type": "histogram",
         "x": [
          "srht"
         ],
         "xaxis": "x",
         "y": [
          0.37499856766711065
         ],
         "yaxis": "y"
        },
        {
         "alignmentgroup": "True",
         "bingroup": "x",
         "cliponaxis": false,
         "histfunc": "sum",
         "hovertemplate": "method=adacg<br>sketch_fn=%{x}<br>n=4096<br>deff=64<br>sum of time=%{y}<extra></extra>",
         "legendgroup": "adacg, srht",
         "marker": {
          "color": "#636efa",
          "pattern": {
           "shape": "\\"
          }
         },
         "name": "adacg, srht",
         "offsetgroup": "adacg, srht",
         "orientation": "v",
         "showlegend": false,
         "textangle": 0,
         "textposition": "outside",
         "texttemplate": "%{value:.2s}",
         "type": "histogram",
         "x": [
          "srht"
         ],
         "xaxis": "x2",
         "y": [
          0.6527991159994901
         ],
         "yaxis": "y2"
        },
        {
         "alignmentgroup": "True",
         "bingroup": "x",
         "cliponaxis": false,
         "histfunc": "sum",
         "hovertemplate": "method=adacg<br>sketch_fn=%{x}<br>n=4096<br>deff=128<br>sum of time=%{y}<extra></extra>",
         "legendgroup": "adacg, srht",
         "marker": {
          "color": "#636efa",
          "pattern": {
           "shape": "\\"
          }
         },
         "name": "adacg, srht",
         "offsetgroup": "adacg, srht",
         "orientation": "v",
         "showlegend": false,
         "textangle": 0,
         "textposition": "outside",
         "texttemplate": "%{value:.2s}",
         "type": "histogram",
         "x": [
          "srht"
         ],
         "xaxis": "x3",
         "y": [
          0.6867074839998774
         ],
         "yaxis": "y3"
        },
        {
         "alignmentgroup": "True",
         "bingroup": "x",
         "cliponaxis": false,
         "histfunc": "sum",
         "hovertemplate": "method=adacg<br>sketch_fn=%{x}<br>n=4096<br>deff=256<br>sum of time=%{y}<extra></extra>",
         "legendgroup": "adacg, srht",
         "marker": {
          "color": "#636efa",
          "pattern": {
           "shape": "\\"
          }
         },
         "name": "adacg, srht",
         "offsetgroup": "adacg, srht",
         "orientation": "v",
         "showlegend": false,
         "textangle": 0,
         "textposition": "outside",
         "texttemplate": "%{value:.2s}",
         "type": "histogram",
         "x": [
          "srht"
         ],
         "xaxis": "x4",
         "y": [
          0.717279701333003
         ],
         "yaxis": "y4"
        },
        {
         "alignmentgroup": "True",
         "bingroup": "x",
         "cliponaxis": false,
         "histfunc": "sum",
         "hovertemplate": "method=adacg<br>sketch_fn=%{x}<br>n=4096<br>deff=512<br>sum of time=%{y}<extra></extra>",
         "legendgroup": "adacg, srht",
         "marker": {
          "color": "#636efa",
          "pattern": {
           "shape": "\\"
          }
         },
         "name": "adacg, srht",
         "offsetgroup": "adacg, srht",
         "orientation": "v",
         "showlegend": false,
         "textangle": 0,
         "textposition": "outside",
         "texttemplate": "%{value:.2s}",
         "type": "histogram",
         "x": [
          "srht"
         ],
         "xaxis": "x5",
         "y": [
          1.0663238446662338
         ],
         "yaxis": "y5"
        },
        {
         "alignmentgroup": "True",
         "bingroup": "x",
         "cliponaxis": false,
         "histfunc": "sum",
         "hovertemplate": "method=adacg<br>sketch_fn=%{x}<br>n=4096<br>deff=1024<br>sum of time=%{y}<extra></extra>",
         "legendgroup": "adacg, srht",
         "marker": {
          "color": "#636efa",
          "pattern": {
           "shape": "\\"
          }
         },
         "name": "adacg, srht",
         "offsetgroup": "adacg, srht",
         "orientation": "v",
         "showlegend": false,
         "textangle": 0,
         "textposition": "outside",
         "texttemplate": "%{value:.2s}",
         "type": "histogram",
         "x": [
          "srht"
         ],
         "xaxis": "x6",
         "y": [
          1.069327151333103
         ],
         "yaxis": "y6"
        },
        {
         "alignmentgroup": "True",
         "bingroup": "x",
         "cliponaxis": false,
         "histfunc": "sum",
         "hovertemplate": "method=adacg<br>sketch_fn=%{x}<br>n=4096<br>deff=2048<br>sum of time=%{y}<extra></extra>",
         "legendgroup": "adacg, srht",
         "marker": {
          "color": "#636efa",
          "pattern": {
           "shape": "\\"
          }
         },
         "name": "adacg, srht",
         "offsetgroup": "adacg, srht",
         "orientation": "v",
         "showlegend": false,
         "textangle": 0,
         "textposition": "outside",
         "texttemplate": "%{value:.2s}",
         "type": "histogram",
         "x": [
          "srht"
         ],
         "xaxis": "x7",
         "y": [
          1.2088883729999602
         ],
         "yaxis": "y7"
        },
        {
         "alignmentgroup": "True",
         "bingroup": "x",
         "cliponaxis": false,
         "histfunc": "sum",
         "hovertemplate": "method=cg<br>sketch_fn=%{x}<br>n=2048<br>deff=32<br>sum of time=%{y}<extra></extra>",
         "legendgroup": "cg, none",
         "marker": {
          "color": "#EF553B",
          "pattern": {
           "shape": "x"
          }
         },
         "name": "cg, none",
         "offsetgroup": "cg, none",
         "orientation": "v",
         "showlegend": true,
         "textangle": 0,
         "textposition": "outside",
         "texttemplate": "%{value:.2s}",
         "type": "histogram",
         "x": [
          "none"
         ],
         "xaxis": "x8",
         "y": [
          0.09100165333332673
         ],
         "yaxis": "y8"
        },
        {
         "alignmentgroup": "True",
         "bingroup": "x",
         "cliponaxis": false,
         "histfunc": "sum",
         "hovertemplate": "method=cg<br>sketch_fn=%{x}<br>n=2048<br>deff=64<br>sum of time=%{y}<extra></extra>",
         "legendgroup": "cg, none",
         "marker": {
          "color": "#EF553B",
          "pattern": {
           "shape": "x"
          }
         },
         "name": "cg, none",
         "offsetgroup": "cg, none",
         "orientation": "v",
         "showlegend": false,
         "textangle": 0,
         "textposition": "outside",
         "texttemplate": "%{value:.2s}",
         "type": "histogram",
         "x": [
          "none"
         ],
         "xaxis": "x9",
         "y": [
          0.234206845333271
         ],
         "yaxis": "y9"
        },
        {
         "alignmentgroup": "True",
         "bingroup": "x",
         "cliponaxis": false,
         "histfunc": "sum",
         "hovertemplate": "method=cg<br>sketch_fn=%{x}<br>n=2048<br>deff=128<br>sum of time=%{y}<extra></extra>",
         "legendgroup": "cg, none",
         "marker": {
          "color": "#EF553B",
          "pattern": {
           "shape": "x"
          }
         },
         "name": "cg, none",
         "offsetgroup": "cg, none",
         "orientation": "v",
         "showlegend": false,
         "textangle": 0,
         "textposition": "outside",
         "texttemplate": "%{value:.2s}",
         "type": "histogram",
         "x": [
          "none"
         ],
         "xaxis": "x10",
         "y": [
          1.0927896786667284
         ],
         "yaxis": "y10"
        },
        {
         "alignmentgroup": "True",
         "bingroup": "x",
         "cliponaxis": false,
         "histfunc": "sum",
         "hovertemplate": "method=cg<br>sketch_fn=%{x}<br>n=2048<br>deff=256<br>sum of time=%{y}<extra></extra>",
         "legendgroup": "cg, none",
         "marker": {
          "color": "#EF553B",
          "pattern": {
           "shape": "x"
          }
         },
         "name": "cg, none",
         "offsetgroup": "cg, none",
         "orientation": "v",
         "showlegend": false,
         "textangle": 0,
         "textposition": "outside",
         "texttemplate": "%{value:.2s}",
         "type": "histogram",
         "x": [
          "none"
         ],
         "xaxis": "x11",
         "y": [
          2.4578778523330884
         ],
         "yaxis": "y11"
        },
        {
         "alignmentgroup": "True",
         "bingroup": "x",
         "cliponaxis": false,
         "histfunc": "sum",
         "hovertemplate": "method=cg<br>sketch_fn=%{x}<br>n=2048<br>deff=512<br>sum of time=%{y}<extra></extra>",
         "legendgroup": "cg, none",
         "marker": {
          "color": "#EF553B",
          "pattern": {
           "shape": "x"
          }
         },
         "name": "cg, none",
         "offsetgroup": "cg, none",
         "orientation": "v",
         "showlegend": false,
         "textangle": 0,
         "textposition": "outside",
         "texttemplate": "%{value:.2s}",
         "type": "histogram",
         "x": [
          "none"
         ],
         "xaxis": "x12",
         "y": [
          2.7694473566665083
         ],
         "yaxis": "y12"
        },
        {
         "alignmentgroup": "True",
         "bingroup": "x",
         "cliponaxis": false,
         "histfunc": "sum",
         "hovertemplate": "method=cg<br>sketch_fn=%{x}<br>n=2048<br>deff=1024<br>sum of time=%{y}<extra></extra>",
         "legendgroup": "cg, none",
         "marker": {
          "color": "#EF553B",
          "pattern": {
           "shape": "x"
          }
         },
         "name": "cg, none",
         "offsetgroup": "cg, none",
         "orientation": "v",
         "showlegend": false,
         "textangle": 0,
         "textposition": "outside",
         "texttemplate": "%{value:.2s}",
         "type": "histogram",
         "x": [
          "none"
         ],
         "xaxis": "x13",
         "y": [
          2.7617952553331024
         ],
         "yaxis": "y13"
        },
        {
         "alignmentgroup": "True",
         "bingroup": "x",
         "cliponaxis": false,
         "histfunc": "sum",
         "hovertemplate": "method=cg<br>sketch_fn=%{x}<br>n=2048<br>deff=2048<br>sum of time=%{y}<extra></extra>",
         "legendgroup": "cg, none",
         "marker": {
          "color": "#EF553B",
          "pattern": {
           "shape": "x"
          }
         },
         "name": "cg, none",
         "offsetgroup": "cg, none",
         "orientation": "v",
         "showlegend": false,
         "textangle": 0,
         "textposition": "outside",
         "texttemplate": "%{value:.2s}",
         "type": "histogram",
         "x": [
          "none"
         ],
         "xaxis": "x14",
         "y": [
          2.7347294829999855
         ],
         "yaxis": "y14"
        },
        {
         "alignmentgroup": "True",
         "bingroup": "x",
         "cliponaxis": false,
         "histfunc": "sum",
         "hovertemplate": "method=cg<br>sketch_fn=%{x}<br>n=4096<br>deff=32<br>sum of time=%{y}<extra></extra>",
         "legendgroup": "cg, none",
         "marker": {
          "color": "#EF553B",
          "pattern": {
           "shape": "x"
          }
         },
         "name": "cg, none",
         "offsetgroup": "cg, none",
         "orientation": "v",
         "showlegend": false,
         "textangle": 0,
         "textposition": "outside",
         "texttemplate": "%{value:.2s}",
         "type": "histogram",
         "x": [
          "none"
         ],
         "xaxis": "x",
         "y": [
          0.21109571799994833
         ],
         "yaxis": "y"
        },
        {
         "alignmentgroup": "True",
         "bingroup": "x",
         "cliponaxis": false,
         "histfunc": "sum",
         "hovertemplate": "method=cg<br>sketch_fn=%{x}<br>n=4096<br>deff=64<br>sum of time=%{y}<extra></extra>",
         "legendgroup": "cg, none",
         "marker": {
          "color": "#EF553B",
          "pattern": {
           "shape": "x"
          }
         },
         "name": "cg, none",
         "offsetgroup": "cg, none",
         "orientation": "v",
         "showlegend": false,
         "textangle": 0,
         "textposition": "outside",
         "texttemplate": "%{value:.2s}",
         "type": "histogram",
         "x": [
          "none"
         ],
         "xaxis": "x2",
         "y": [
          0.4892569260003559
         ],
         "yaxis": "y2"
        },
        {
         "alignmentgroup": "True",
         "bingroup": "x",
         "cliponaxis": false,
         "histfunc": "sum",
         "hovertemplate": "method=cg<br>sketch_fn=%{x}<br>n=4096<br>deff=128<br>sum of time=%{y}<extra></extra>",
         "legendgroup": "cg, none",
         "marker": {
          "color": "#EF553B",
          "pattern": {
           "shape": "x"
          }
         },
         "name": "cg, none",
         "offsetgroup": "cg, none",
         "orientation": "v",
         "showlegend": false,
         "textangle": 0,
         "textposition": "outside",
         "texttemplate": "%{value:.2s}",
         "type": "histogram",
         "x": [
          "none"
         ],
         "xaxis": "x3",
         "y": [
          2.285746705000444
         ],
         "yaxis": "y3"
        },
        {
         "alignmentgroup": "True",
         "bingroup": "x",
         "cliponaxis": false,
         "histfunc": "sum",
         "hovertemplate": "method=cg<br>sketch_fn=%{x}<br>n=4096<br>deff=256<br>sum of time=%{y}<extra></extra>",
         "legendgroup": "cg, none",
         "marker": {
          "color": "#EF553B",
          "pattern": {
           "shape": "x"
          }
         },
         "name": "cg, none",
         "offsetgroup": "cg, none",
         "orientation": "v",
         "showlegend": false,
         "textangle": 0,
         "textposition": "outside",
         "texttemplate": "%{value:.2s}",
         "type": "histogram",
         "x": [
          "none"
         ],
         "xaxis": "x4",
         "y": [
          4.736599034333267
         ],
         "yaxis": "y4"
        },
        {
         "alignmentgroup": "True",
         "bingroup": "x",
         "cliponaxis": false,
         "histfunc": "sum",
         "hovertemplate": "method=cg<br>sketch_fn=%{x}<br>n=4096<br>deff=512<br>sum of time=%{y}<extra></extra>",
         "legendgroup": "cg, none",
         "marker": {
          "color": "#EF553B",
          "pattern": {
           "shape": "x"
          }
         },
         "name": "cg, none",
         "offsetgroup": "cg, none",
         "orientation": "v",
         "showlegend": false,
         "textangle": 0,
         "textposition": "outside",
         "texttemplate": "%{value:.2s}",
         "type": "histogram",
         "x": [
          "none"
         ],
         "xaxis": "x5",
         "y": [
          6.15836160900047
         ],
         "yaxis": "y5"
        },
        {
         "alignmentgroup": "True",
         "bingroup": "x",
         "cliponaxis": false,
         "histfunc": "sum",
         "hovertemplate": "method=cg<br>sketch_fn=%{x}<br>n=4096<br>deff=1024<br>sum of time=%{y}<extra></extra>",
         "legendgroup": "cg, none",
         "marker": {
          "color": "#EF553B",
          "pattern": {
           "shape": "x"
          }
         },
         "name": "cg, none",
         "offsetgroup": "cg, none",
         "orientation": "v",
         "showlegend": false,
         "textangle": 0,
         "textposition": "outside",
         "texttemplate": "%{value:.2s}",
         "type": "histogram",
         "x": [
          "none"
         ],
         "xaxis": "x6",
         "y": [
          6.17049582433295
         ],
         "yaxis": "y6"
        },
        {
         "alignmentgroup": "True",
         "bingroup": "x",
         "cliponaxis": false,
         "histfunc": "sum",
         "hovertemplate": "method=cg<br>sketch_fn=%{x}<br>n=4096<br>deff=2048<br>sum of time=%{y}<extra></extra>",
         "legendgroup": "cg, none",
         "marker": {
          "color": "#EF553B",
          "pattern": {
           "shape": "x"
          }
         },
         "name": "cg, none",
         "offsetgroup": "cg, none",
         "orientation": "v",
         "showlegend": false,
         "textangle": 0,
         "textposition": "outside",
         "texttemplate": "%{value:.2s}",
         "type": "histogram",
         "x": [
          "none"
         ],
         "xaxis": "x7",
         "y": [
          7.918150335333848
         ],
         "yaxis": "y7"
        },
        {
         "alignmentgroup": "True",
         "bingroup": "x",
         "cliponaxis": false,
         "histfunc": "sum",
         "hovertemplate": "method=dm<br>sketch_fn=%{x}<br>n=2048<br>deff=32<br>sum of time=%{y}<extra></extra>",
         "legendgroup": "dm, none",
         "marker": {
          "color": "#00cc96",
          "pattern": {
           "shape": "x"
          }
         },
         "name": "dm, none",
         "offsetgroup": "dm, none",
         "orientation": "v",
         "showlegend": true,
         "textangle": 0,
         "textposition": "outside",
         "texttemplate": "%{value:.2s}",
         "type": "histogram",
         "x": [
          "none"
         ],
         "xaxis": "x8",
         "y": [
          0.3750777069999458
         ],
         "yaxis": "y8"
        },
        {
         "alignmentgroup": "True",
         "bingroup": "x",
         "cliponaxis": false,
         "histfunc": "sum",
         "hovertemplate": "method=dm<br>sketch_fn=%{x}<br>n=2048<br>deff=64<br>sum of time=%{y}<extra></extra>",
         "legendgroup": "dm, none",
         "marker": {
          "color": "#00cc96",
          "pattern": {
           "shape": "x"
          }
         },
         "name": "dm, none",
         "offsetgroup": "dm, none",
         "orientation": "v",
         "showlegend": false,
         "textangle": 0,
         "textposition": "outside",
         "texttemplate": "%{value:.2s}",
         "type": "histogram",
         "x": [
          "none"
         ],
         "xaxis": "x9",
         "y": [
          0.37607070100011697
         ],
         "yaxis": "y9"
        },
        {
         "alignmentgroup": "True",
         "bingroup": "x",
         "cliponaxis": false,
         "histfunc": "sum",
         "hovertemplate": "method=dm<br>sketch_fn=%{x}<br>n=2048<br>deff=128<br>sum of time=%{y}<extra></extra>",
         "legendgroup": "dm, none",
         "marker": {
          "color": "#00cc96",
          "pattern": {
           "shape": "x"
          }
         },
         "name": "dm, none",
         "offsetgroup": "dm, none",
         "orientation": "v",
         "showlegend": false,
         "textangle": 0,
         "textposition": "outside",
         "texttemplate": "%{value:.2s}",
         "type": "histogram",
         "x": [
          "none"
         ],
         "xaxis": "x10",
         "y": [
          0.3946093570002631
         ],
         "yaxis": "y10"
        },
        {
         "alignmentgroup": "True",
         "bingroup": "x",
         "cliponaxis": false,
         "histfunc": "sum",
         "hovertemplate": "method=dm<br>sketch_fn=%{x}<br>n=2048<br>deff=256<br>sum of time=%{y}<extra></extra>",
         "legendgroup": "dm, none",
         "marker": {
          "color": "#00cc96",
          "pattern": {
           "shape": "x"
          }
         },
         "name": "dm, none",
         "offsetgroup": "dm, none",
         "orientation": "v",
         "showlegend": false,
         "textangle": 0,
         "textposition": "outside",
         "texttemplate": "%{value:.2s}",
         "type": "histogram",
         "x": [
          "none"
         ],
         "xaxis": "x11",
         "y": [
          0.38437765999969997
         ],
         "yaxis": "y11"
        },
        {
         "alignmentgroup": "True",
         "bingroup": "x",
         "cliponaxis": false,
         "histfunc": "sum",
         "hovertemplate": "method=dm<br>sketch_fn=%{x}<br>n=2048<br>deff=512<br>sum of time=%{y}<extra></extra>",
         "legendgroup": "dm, none",
         "marker": {
          "color": "#00cc96",
          "pattern": {
           "shape": "x"
          }
         },
         "name": "dm, none",
         "offsetgroup": "dm, none",
         "orientation": "v",
         "showlegend": false,
         "textangle": 0,
         "textposition": "outside",
         "texttemplate": "%{value:.2s}",
         "type": "histogram",
         "x": [
          "none"
         ],
         "xaxis": "x12",
         "y": [
          0.3773334130000876
         ],
         "yaxis": "y12"
        },
        {
         "alignmentgroup": "True",
         "bingroup": "x",
         "cliponaxis": false,
         "histfunc": "sum",
         "hovertemplate": "method=dm<br>sketch_fn=%{x}<br>n=2048<br>deff=1024<br>sum of time=%{y}<extra></extra>",
         "legendgroup": "dm, none",
         "marker": {
          "color": "#00cc96",
          "pattern": {
           "shape": "x"
          }
         },
         "name": "dm, none",
         "offsetgroup": "dm, none",
         "orientation": "v",
         "showlegend": false,
         "textangle": 0,
         "textposition": "outside",
         "texttemplate": "%{value:.2s}",
         "type": "histogram",
         "x": [
          "none"
         ],
         "xaxis": "x13",
         "y": [
          0.3994282060002661
         ],
         "yaxis": "y13"
        },
        {
         "alignmentgroup": "True",
         "bingroup": "x",
         "cliponaxis": false,
         "histfunc": "sum",
         "hovertemplate": "method=dm<br>sketch_fn=%{x}<br>n=2048<br>deff=2048<br>sum of time=%{y}<extra></extra>",
         "legendgroup": "dm, none",
         "marker": {
          "color": "#00cc96",
          "pattern": {
           "shape": "x"
          }
         },
         "name": "dm, none",
         "offsetgroup": "dm, none",
         "orientation": "v",
         "showlegend": false,
         "textangle": 0,
         "textposition": "outside",
         "texttemplate": "%{value:.2s}",
         "type": "histogram",
         "x": [
          "none"
         ],
         "xaxis": "x14",
         "y": [
          0.4020539180000924
         ],
         "yaxis": "y14"
        },
        {
         "alignmentgroup": "True",
         "bingroup": "x",
         "cliponaxis": false,
         "histfunc": "sum",
         "hovertemplate": "method=dm<br>sketch_fn=%{x}<br>n=4096<br>deff=32<br>sum of time=%{y}<extra></extra>",
         "legendgroup": "dm, none",
         "marker": {
          "color": "#00cc96",
          "pattern": {
           "shape": "x"
          }
         },
         "name": "dm, none",
         "offsetgroup": "dm, none",
         "orientation": "v",
         "showlegend": false,
         "textangle": 0,
         "textposition": "outside",
         "texttemplate": "%{value:.2s}",
         "type": "histogram",
         "x": [
          "none"
         ],
         "xaxis": "x",
         "y": [
          0.6619589270012511
         ],
         "yaxis": "y"
        },
        {
         "alignmentgroup": "True",
         "bingroup": "x",
         "cliponaxis": false,
         "histfunc": "sum",
         "hovertemplate": "method=dm<br>sketch_fn=%{x}<br>n=4096<br>deff=64<br>sum of time=%{y}<extra></extra>",
         "legendgroup": "dm, none",
         "marker": {
          "color": "#00cc96",
          "pattern": {
           "shape": "x"
          }
         },
         "name": "dm, none",
         "offsetgroup": "dm, none",
         "orientation": "v",
         "showlegend": false,
         "textangle": 0,
         "textposition": "outside",
         "texttemplate": "%{value:.2s}",
         "type": "histogram",
         "x": [
          "none"
         ],
         "xaxis": "x2",
         "y": [
          0.6383898620006221
         ],
         "yaxis": "y2"
        },
        {
         "alignmentgroup": "True",
         "bingroup": "x",
         "cliponaxis": false,
         "histfunc": "sum",
         "hovertemplate": "method=dm<br>sketch_fn=%{x}<br>n=4096<br>deff=128<br>sum of time=%{y}<extra></extra>",
         "legendgroup": "dm, none",
         "marker": {
          "color": "#00cc96",
          "pattern": {
           "shape": "x"
          }
         },
         "name": "dm, none",
         "offsetgroup": "dm, none",
         "orientation": "v",
         "showlegend": false,
         "textangle": 0,
         "textposition": "outside",
         "texttemplate": "%{value:.2s}",
         "type": "histogram",
         "x": [
          "none"
         ],
         "xaxis": "x3",
         "y": [
          0.6438474560000031
         ],
         "yaxis": "y3"
        },
        {
         "alignmentgroup": "True",
         "bingroup": "x",
         "cliponaxis": false,
         "histfunc": "sum",
         "hovertemplate": "method=dm<br>sketch_fn=%{x}<br>n=4096<br>deff=256<br>sum of time=%{y}<extra></extra>",
         "legendgroup": "dm, none",
         "marker": {
          "color": "#00cc96",
          "pattern": {
           "shape": "x"
          }
         },
         "name": "dm, none",
         "offsetgroup": "dm, none",
         "orientation": "v",
         "showlegend": false,
         "textangle": 0,
         "textposition": "outside",
         "texttemplate": "%{value:.2s}",
         "type": "histogram",
         "x": [
          "none"
         ],
         "xaxis": "x4",
         "y": [
          0.6522969260004174
         ],
         "yaxis": "y4"
        },
        {
         "alignmentgroup": "True",
         "bingroup": "x",
         "cliponaxis": false,
         "histfunc": "sum",
         "hovertemplate": "method=dm<br>sketch_fn=%{x}<br>n=4096<br>deff=512<br>sum of time=%{y}<extra></extra>",
         "legendgroup": "dm, none",
         "marker": {
          "color": "#00cc96",
          "pattern": {
           "shape": "x"
          }
         },
         "name": "dm, none",
         "offsetgroup": "dm, none",
         "orientation": "v",
         "showlegend": false,
         "textangle": 0,
         "textposition": "outside",
         "texttemplate": "%{value:.2s}",
         "type": "histogram",
         "x": [
          "none"
         ],
         "xaxis": "x5",
         "y": [
          0.6665357930014579
         ],
         "yaxis": "y5"
        },
        {
         "alignmentgroup": "True",
         "bingroup": "x",
         "cliponaxis": false,
         "histfunc": "sum",
         "hovertemplate": "method=dm<br>sketch_fn=%{x}<br>n=4096<br>deff=1024<br>sum of time=%{y}<extra></extra>",
         "legendgroup": "dm, none",
         "marker": {
          "color": "#00cc96",
          "pattern": {
           "shape": "x"
          }
         },
         "name": "dm, none",
         "offsetgroup": "dm, none",
         "orientation": "v",
         "showlegend": false,
         "textangle": 0,
         "textposition": "outside",
         "texttemplate": "%{value:.2s}",
         "type": "histogram",
         "x": [
          "none"
         ],
         "xaxis": "x6",
         "y": [
          0.6747258970008261
         ],
         "yaxis": "y6"
        },
        {
         "alignmentgroup": "True",
         "bingroup": "x",
         "cliponaxis": false,
         "histfunc": "sum",
         "hovertemplate": "method=dm<br>sketch_fn=%{x}<br>n=4096<br>deff=2048<br>sum of time=%{y}<extra></extra>",
         "legendgroup": "dm, none",
         "marker": {
          "color": "#00cc96",
          "pattern": {
           "shape": "x"
          }
         },
         "name": "dm, none",
         "offsetgroup": "dm, none",
         "orientation": "v",
         "showlegend": false,
         "textangle": 0,
         "textposition": "outside",
         "texttemplate": "%{value:.2s}",
         "type": "histogram",
         "x": [
          "none"
         ],
         "xaxis": "x7",
         "y": [
          1.0519902940013708
         ],
         "yaxis": "y7"
        },
        {
         "alignmentgroup": "True",
         "bingroup": "x",
         "cliponaxis": false,
         "histfunc": "sum",
         "hovertemplate": "method=pcg<br>sketch_fn=%{x}<br>n=2048<br>deff=32<br>sum of time=%{y}<extra></extra>",
         "legendgroup": "pcg, gaussian",
         "marker": {
          "color": "#ab63fa",
          "pattern": {
           "shape": ""
          }
         },
         "name": "pcg, gaussian",
         "offsetgroup": "pcg, gaussian",
         "orientation": "v",
         "showlegend": true,
         "textangle": 0,
         "textposition": "outside",
         "texttemplate": "%{value:.2s}",
         "type": "histogram",
         "x": [
          "gaussian"
         ],
         "xaxis": "x8",
         "y": [
          0.8058033733332195
         ],
         "yaxis": "y8"
        },
        {
         "alignmentgroup": "True",
         "bingroup": "x",
         "cliponaxis": false,
         "histfunc": "sum",
         "hovertemplate": "method=pcg<br>sketch_fn=%{x}<br>n=2048<br>deff=64<br>sum of time=%{y}<extra></extra>",
         "legendgroup": "pcg, gaussian",
         "marker": {
          "color": "#ab63fa",
          "pattern": {
           "shape": ""
          }
         },
         "name": "pcg, gaussian",
         "offsetgroup": "pcg, gaussian",
         "orientation": "v",
         "showlegend": false,
         "textangle": 0,
         "textposition": "outside",
         "texttemplate": "%{value:.2s}",
         "type": "histogram",
         "x": [
          "gaussian"
         ],
         "xaxis": "x9",
         "y": [
          0.8010710006666764
         ],
         "yaxis": "y9"
        },
        {
         "alignmentgroup": "True",
         "bingroup": "x",
         "cliponaxis": false,
         "histfunc": "sum",
         "hovertemplate": "method=pcg<br>sketch_fn=%{x}<br>n=2048<br>deff=128<br>sum of time=%{y}<extra></extra>",
         "legendgroup": "pcg, gaussian",
         "marker": {
          "color": "#ab63fa",
          "pattern": {
           "shape": ""
          }
         },
         "name": "pcg, gaussian",
         "offsetgroup": "pcg, gaussian",
         "orientation": "v",
         "showlegend": false,
         "textangle": 0,
         "textposition": "outside",
         "texttemplate": "%{value:.2s}",
         "type": "histogram",
         "x": [
          "gaussian"
         ],
         "xaxis": "x10",
         "y": [
          0.8174031956667325
         ],
         "yaxis": "y10"
        },
        {
         "alignmentgroup": "True",
         "bingroup": "x",
         "cliponaxis": false,
         "histfunc": "sum",
         "hovertemplate": "method=pcg<br>sketch_fn=%{x}<br>n=2048<br>deff=256<br>sum of time=%{y}<extra></extra>",
         "legendgroup": "pcg, gaussian",
         "marker": {
          "color": "#ab63fa",
          "pattern": {
           "shape": ""
          }
         },
         "name": "pcg, gaussian",
         "offsetgroup": "pcg, gaussian",
         "orientation": "v",
         "showlegend": false,
         "textangle": 0,
         "textposition": "outside",
         "texttemplate": "%{value:.2s}",
         "type": "histogram",
         "x": [
          "gaussian"
         ],
         "xaxis": "x11",
         "y": [
          0.8431158069997763
         ],
         "yaxis": "y11"
        },
        {
         "alignmentgroup": "True",
         "bingroup": "x",
         "cliponaxis": false,
         "histfunc": "sum",
         "hovertemplate": "method=pcg<br>sketch_fn=%{x}<br>n=2048<br>deff=512<br>sum of time=%{y}<extra></extra>",
         "legendgroup": "pcg, gaussian",
         "marker": {
          "color": "#ab63fa",
          "pattern": {
           "shape": ""
          }
         },
         "name": "pcg, gaussian",
         "offsetgroup": "pcg, gaussian",
         "orientation": "v",
         "showlegend": false,
         "textangle": 0,
         "textposition": "outside",
         "texttemplate": "%{value:.2s}",
         "type": "histogram",
         "x": [
          "gaussian"
         ],
         "xaxis": "x12",
         "y": [
          0.8429927193334756
         ],
         "yaxis": "y12"
        },
        {
         "alignmentgroup": "True",
         "bingroup": "x",
         "cliponaxis": false,
         "histfunc": "sum",
         "hovertemplate": "method=pcg<br>sketch_fn=%{x}<br>n=2048<br>deff=1024<br>sum of time=%{y}<extra></extra>",
         "legendgroup": "pcg, gaussian",
         "marker": {
          "color": "#ab63fa",
          "pattern": {
           "shape": ""
          }
         },
         "name": "pcg, gaussian",
         "offsetgroup": "pcg, gaussian",
         "orientation": "v",
         "showlegend": false,
         "textangle": 0,
         "textposition": "outside",
         "texttemplate": "%{value:.2s}",
         "type": "histogram",
         "x": [
          "gaussian"
         ],
         "xaxis": "x13",
         "y": [
          0.9093891723335521
         ],
         "yaxis": "y13"
        },
        {
         "alignmentgroup": "True",
         "bingroup": "x",
         "cliponaxis": false,
         "histfunc": "sum",
         "hovertemplate": "method=pcg<br>sketch_fn=%{x}<br>n=2048<br>deff=2048<br>sum of time=%{y}<extra></extra>",
         "legendgroup": "pcg, gaussian",
         "marker": {
          "color": "#ab63fa",
          "pattern": {
           "shape": ""
          }
         },
         "name": "pcg, gaussian",
         "offsetgroup": "pcg, gaussian",
         "orientation": "v",
         "showlegend": false,
         "textangle": 0,
         "textposition": "outside",
         "texttemplate": "%{value:.2s}",
         "type": "histogram",
         "x": [
          "gaussian"
         ],
         "xaxis": "x14",
         "y": [
          2.0807059700000536
         ],
         "yaxis": "y14"
        },
        {
         "alignmentgroup": "True",
         "bingroup": "x",
         "cliponaxis": false,
         "histfunc": "sum",
         "hovertemplate": "method=pcg<br>sketch_fn=%{x}<br>n=4096<br>deff=32<br>sum of time=%{y}<extra></extra>",
         "legendgroup": "pcg, gaussian",
         "marker": {
          "color": "#ab63fa",
          "pattern": {
           "shape": ""
          }
         },
         "name": "pcg, gaussian",
         "offsetgroup": "pcg, gaussian",
         "orientation": "v",
         "showlegend": false,
         "textangle": 0,
         "textposition": "outside",
         "texttemplate": "%{value:.2s}",
         "type": "histogram",
         "x": [
          "gaussian"
         ],
         "xaxis": "x",
         "y": [
          2.0966222263335412
         ],
         "yaxis": "y"
        },
        {
         "alignmentgroup": "True",
         "bingroup": "x",
         "cliponaxis": false,
         "histfunc": "sum",
         "hovertemplate": "method=pcg<br>sketch_fn=%{x}<br>n=4096<br>deff=64<br>sum of time=%{y}<extra></extra>",
         "legendgroup": "pcg, gaussian",
         "marker": {
          "color": "#ab63fa",
          "pattern": {
           "shape": ""
          }
         },
         "name": "pcg, gaussian",
         "offsetgroup": "pcg, gaussian",
         "orientation": "v",
         "showlegend": false,
         "textangle": 0,
         "textposition": "outside",
         "texttemplate": "%{value:.2s}",
         "type": "histogram",
         "x": [
          "gaussian"
         ],
         "xaxis": "x2",
         "y": [
          2.0660163336676
         ],
         "yaxis": "y2"
        },
        {
         "alignmentgroup": "True",
         "bingroup": "x",
         "cliponaxis": false,
         "histfunc": "sum",
         "hovertemplate": "method=pcg<br>sketch_fn=%{x}<br>n=4096<br>deff=128<br>sum of time=%{y}<extra></extra>",
         "legendgroup": "pcg, gaussian",
         "marker": {
          "color": "#ab63fa",
          "pattern": {
           "shape": ""
          }
         },
         "name": "pcg, gaussian",
         "offsetgroup": "pcg, gaussian",
         "orientation": "v",
         "showlegend": false,
         "textangle": 0,
         "textposition": "outside",
         "texttemplate": "%{value:.2s}",
         "type": "histogram",
         "x": [
          "gaussian"
         ],
         "xaxis": "x3",
         "y": [
          2.0809950339995944
         ],
         "yaxis": "y3"
        },
        {
         "alignmentgroup": "True",
         "bingroup": "x",
         "cliponaxis": false,
         "histfunc": "sum",
         "hovertemplate": "method=pcg<br>sketch_fn=%{x}<br>n=4096<br>deff=256<br>sum of time=%{y}<extra></extra>",
         "legendgroup": "pcg, gaussian",
         "marker": {
          "color": "#ab63fa",
          "pattern": {
           "shape": ""
          }
         },
         "name": "pcg, gaussian",
         "offsetgroup": "pcg, gaussian",
         "orientation": "v",
         "showlegend": false,
         "textangle": 0,
         "textposition": "outside",
         "texttemplate": "%{value:.2s}",
         "type": "histogram",
         "x": [
          "gaussian"
         ],
         "xaxis": "x4",
         "y": [
          2.1520906103329858
         ],
         "yaxis": "y4"
        },
        {
         "alignmentgroup": "True",
         "bingroup": "x",
         "cliponaxis": false,
         "histfunc": "sum",
         "hovertemplate": "method=pcg<br>sketch_fn=%{x}<br>n=4096<br>deff=512<br>sum of time=%{y}<extra></extra>",
         "legendgroup": "pcg, gaussian",
         "marker": {
          "color": "#ab63fa",
          "pattern": {
           "shape": ""
          }
         },
         "name": "pcg, gaussian",
         "offsetgroup": "pcg, gaussian",
         "orientation": "v",
         "showlegend": false,
         "textangle": 0,
         "textposition": "outside",
         "texttemplate": "%{value:.2s}",
         "type": "histogram",
         "x": [
          "gaussian"
         ],
         "xaxis": "x5",
         "y": [
          2.1459318929998212
         ],
         "yaxis": "y5"
        },
        {
         "alignmentgroup": "True",
         "bingroup": "x",
         "cliponaxis": false,
         "histfunc": "sum",
         "hovertemplate": "method=pcg<br>sketch_fn=%{x}<br>n=4096<br>deff=1024<br>sum of time=%{y}<extra></extra>",
         "legendgroup": "pcg, gaussian",
         "marker": {
          "color": "#ab63fa",
          "pattern": {
           "shape": ""
          }
         },
         "name": "pcg, gaussian",
         "offsetgroup": "pcg, gaussian",
         "orientation": "v",
         "showlegend": false,
         "textangle": 0,
         "textposition": "outside",
         "texttemplate": "%{value:.2s}",
         "type": "histogram",
         "x": [
          "gaussian"
         ],
         "xaxis": "x6",
         "y": [
          2.1448743123334375
         ],
         "yaxis": "y6"
        },
        {
         "alignmentgroup": "True",
         "bingroup": "x",
         "cliponaxis": false,
         "histfunc": "sum",
         "hovertemplate": "method=pcg<br>sketch_fn=%{x}<br>n=4096<br>deff=2048<br>sum of time=%{y}<extra></extra>",
         "legendgroup": "pcg, gaussian",
         "marker": {
          "color": "#ab63fa",
          "pattern": {
           "shape": ""
          }
         },
         "name": "pcg, gaussian",
         "offsetgroup": "pcg, gaussian",
         "orientation": "v",
         "showlegend": false,
         "textangle": 0,
         "textposition": "outside",
         "texttemplate": "%{value:.2s}",
         "type": "histogram",
         "x": [
          "gaussian"
         ],
         "xaxis": "x7",
         "y": [
          2.3940465673337408
         ],
         "yaxis": "y7"
        },
        {
         "alignmentgroup": "True",
         "bingroup": "x",
         "cliponaxis": false,
         "histfunc": "sum",
         "hovertemplate": "method=pcg<br>sketch_fn=%{x}<br>n=2048<br>deff=32<br>sum of time=%{y}<extra></extra>",
         "legendgroup": "pcg, sjlt",
         "marker": {
          "color": "#ab63fa",
          "pattern": {
           "shape": "/"
          }
         },
         "name": "pcg, sjlt",
         "offsetgroup": "pcg, sjlt",
         "orientation": "v",
         "showlegend": true,
         "textangle": 0,
         "textposition": "outside",
         "texttemplate": "%{value:.2s}",
         "type": "histogram",
         "x": [
          "sjlt"
         ],
         "xaxis": "x8",
         "y": [
          0.473818367666657
         ],
         "yaxis": "y8"
        },
        {
         "alignmentgroup": "True",
         "bingroup": "x",
         "cliponaxis": false,
         "histfunc": "sum",
         "hovertemplate": "method=pcg<br>sketch_fn=%{x}<br>n=2048<br>deff=64<br>sum of time=%{y}<extra></extra>",
         "legendgroup": "pcg, sjlt",
         "marker": {
          "color": "#ab63fa",
          "pattern": {
           "shape": "/"
          }
         },
         "name": "pcg, sjlt",
         "offsetgroup": "pcg, sjlt",
         "orientation": "v",
         "showlegend": false,
         "textangle": 0,
         "textposition": "outside",
         "texttemplate": "%{value:.2s}",
         "type": "histogram",
         "x": [
          "sjlt"
         ],
         "xaxis": "x9",
         "y": [
          0.480362553000153
         ],
         "yaxis": "y9"
        },
        {
         "alignmentgroup": "True",
         "bingroup": "x",
         "cliponaxis": false,
         "histfunc": "sum",
         "hovertemplate": "method=pcg<br>sketch_fn=%{x}<br>n=2048<br>deff=128<br>sum of time=%{y}<extra></extra>",
         "legendgroup": "pcg, sjlt",
         "marker": {
          "color": "#ab63fa",
          "pattern": {
           "shape": "/"
          }
         },
         "name": "pcg, sjlt",
         "offsetgroup": "pcg, sjlt",
         "orientation": "v",
         "showlegend": false,
         "textangle": 0,
         "textposition": "outside",
         "texttemplate": "%{value:.2s}",
         "type": "histogram",
         "x": [
          "sjlt"
         ],
         "xaxis": "x10",
         "y": [
          0.5110561990001466
         ],
         "yaxis": "y10"
        },
        {
         "alignmentgroup": "True",
         "bingroup": "x",
         "cliponaxis": false,
         "histfunc": "sum",
         "hovertemplate": "method=pcg<br>sketch_fn=%{x}<br>n=2048<br>deff=256<br>sum of time=%{y}<extra></extra>",
         "legendgroup": "pcg, sjlt",
         "marker": {
          "color": "#ab63fa",
          "pattern": {
           "shape": "/"
          }
         },
         "name": "pcg, sjlt",
         "offsetgroup": "pcg, sjlt",
         "orientation": "v",
         "showlegend": false,
         "textangle": 0,
         "textposition": "outside",
         "texttemplate": "%{value:.2s}",
         "type": "histogram",
         "x": [
          "sjlt"
         ],
         "xaxis": "x11",
         "y": [
          0.5425923716669179
         ],
         "yaxis": "y11"
        },
        {
         "alignmentgroup": "True",
         "bingroup": "x",
         "cliponaxis": false,
         "histfunc": "sum",
         "hovertemplate": "method=pcg<br>sketch_fn=%{x}<br>n=2048<br>deff=512<br>sum of time=%{y}<extra></extra>",
         "legendgroup": "pcg, sjlt",
         "marker": {
          "color": "#ab63fa",
          "pattern": {
           "shape": "/"
          }
         },
         "name": "pcg, sjlt",
         "offsetgroup": "pcg, sjlt",
         "orientation": "v",
         "showlegend": false,
         "textangle": 0,
         "textposition": "outside",
         "texttemplate": "%{value:.2s}",
         "type": "histogram",
         "x": [
          "sjlt"
         ],
         "xaxis": "x12",
         "y": [
          0.6011989299998579
         ],
         "yaxis": "y12"
        },
        {
         "alignmentgroup": "True",
         "bingroup": "x",
         "cliponaxis": false,
         "histfunc": "sum",
         "hovertemplate": "method=pcg<br>sketch_fn=%{x}<br>n=2048<br>deff=1024<br>sum of time=%{y}<extra></extra>",
         "legendgroup": "pcg, sjlt",
         "marker": {
          "color": "#ab63fa",
          "pattern": {
           "shape": "/"
          }
         },
         "name": "pcg, sjlt",
         "offsetgroup": "pcg, sjlt",
         "orientation": "v",
         "showlegend": false,
         "textangle": 0,
         "textposition": "outside",
         "texttemplate": "%{value:.2s}",
         "type": "histogram",
         "x": [
          "sjlt"
         ],
         "xaxis": "x13",
         "y": [
          0.939442044000316
         ],
         "yaxis": "y13"
        },
        {
         "alignmentgroup": "True",
         "bingroup": "x",
         "cliponaxis": false,
         "histfunc": "sum",
         "hovertemplate": "method=pcg<br>sketch_fn=%{x}<br>n=2048<br>deff=2048<br>sum of time=%{y}<extra></extra>",
         "legendgroup": "pcg, sjlt",
         "marker": {
          "color": "#ab63fa",
          "pattern": {
           "shape": "/"
          }
         },
         "name": "pcg, sjlt",
         "offsetgroup": "pcg, sjlt",
         "orientation": "v",
         "showlegend": false,
         "textangle": 0,
         "textposition": "outside",
         "texttemplate": "%{value:.2s}",
         "type": "histogram",
         "x": [
          "sjlt"
         ],
         "xaxis": "x14",
         "y": [
          2.039017649000016
         ],
         "yaxis": "y14"
        },
        {
         "alignmentgroup": "True",
         "bingroup": "x",
         "cliponaxis": false,
         "histfunc": "sum",
         "hovertemplate": "method=pcg<br>sketch_fn=%{x}<br>n=4096<br>deff=32<br>sum of time=%{y}<extra></extra>",
         "legendgroup": "pcg, sjlt",
         "marker": {
          "color": "#ab63fa",
          "pattern": {
           "shape": "/"
          }
         },
         "name": "pcg, sjlt",
         "offsetgroup": "pcg, sjlt",
         "orientation": "v",
         "showlegend": false,
         "textangle": 0,
         "textposition": "outside",
         "texttemplate": "%{value:.2s}",
         "type": "histogram",
         "x": [
          "sjlt"
         ],
         "xaxis": "x",
         "y": [
          0.7682500720002281
         ],
         "yaxis": "y"
        },
        {
         "alignmentgroup": "True",
         "bingroup": "x",
         "cliponaxis": false,
         "histfunc": "sum",
         "hovertemplate": "method=pcg<br>sketch_fn=%{x}<br>n=4096<br>deff=64<br>sum of time=%{y}<extra></extra>",
         "legendgroup": "pcg, sjlt",
         "marker": {
          "color": "#ab63fa",
          "pattern": {
           "shape": "/"
          }
         },
         "name": "pcg, sjlt",
         "offsetgroup": "pcg, sjlt",
         "orientation": "v",
         "showlegend": false,
         "textangle": 0,
         "textposition": "outside",
         "texttemplate": "%{value:.2s}",
         "type": "histogram",
         "x": [
          "sjlt"
         ],
         "xaxis": "x2",
         "y": [
          0.7613172750006925
         ],
         "yaxis": "y2"
        },
        {
         "alignmentgroup": "True",
         "bingroup": "x",
         "cliponaxis": false,
         "histfunc": "sum",
         "hovertemplate": "method=pcg<br>sketch_fn=%{x}<br>n=4096<br>deff=128<br>sum of time=%{y}<extra></extra>",
         "legendgroup": "pcg, sjlt",
         "marker": {
          "color": "#ab63fa",
          "pattern": {
           "shape": "/"
          }
         },
         "name": "pcg, sjlt",
         "offsetgroup": "pcg, sjlt",
         "orientation": "v",
         "showlegend": false,
         "textangle": 0,
         "textposition": "outside",
         "texttemplate": "%{value:.2s}",
         "type": "histogram",
         "x": [
          "sjlt"
         ],
         "xaxis": "x3",
         "y": [
          0.7786396560004505
         ],
         "yaxis": "y3"
        },
        {
         "alignmentgroup": "True",
         "bingroup": "x",
         "cliponaxis": false,
         "histfunc": "sum",
         "hovertemplate": "method=pcg<br>sketch_fn=%{x}<br>n=4096<br>deff=256<br>sum of time=%{y}<extra></extra>",
         "legendgroup": "pcg, sjlt",
         "marker": {
          "color": "#ab63fa",
          "pattern": {
           "shape": "/"
          }
         },
         "name": "pcg, sjlt",
         "offsetgroup": "pcg, sjlt",
         "orientation": "v",
         "showlegend": false,
         "textangle": 0,
         "textposition": "outside",
         "texttemplate": "%{value:.2s}",
         "type": "histogram",
         "x": [
          "sjlt"
         ],
         "xaxis": "x4",
         "y": [
          0.8429415040003125
         ],
         "yaxis": "y4"
        },
        {
         "alignmentgroup": "True",
         "bingroup": "x",
         "cliponaxis": false,
         "histfunc": "sum",
         "hovertemplate": "method=pcg<br>sketch_fn=%{x}<br>n=4096<br>deff=512<br>sum of time=%{y}<extra></extra>",
         "legendgroup": "pcg, sjlt",
         "marker": {
          "color": "#ab63fa",
          "pattern": {
           "shape": "/"
          }
         },
         "name": "pcg, sjlt",
         "offsetgroup": "pcg, sjlt",
         "orientation": "v",
         "showlegend": false,
         "textangle": 0,
         "textposition": "outside",
         "texttemplate": "%{value:.2s}",
         "type": "histogram",
         "x": [
          "sjlt"
         ],
         "xaxis": "x5",
         "y": [
          0.8512488849998286
         ],
         "yaxis": "y5"
        },
        {
         "alignmentgroup": "True",
         "bingroup": "x",
         "cliponaxis": false,
         "histfunc": "sum",
         "hovertemplate": "method=pcg<br>sketch_fn=%{x}<br>n=4096<br>deff=1024<br>sum of time=%{y}<extra></extra>",
         "legendgroup": "pcg, sjlt",
         "marker": {
          "color": "#ab63fa",
          "pattern": {
           "shape": "/"
          }
         },
         "name": "pcg, sjlt",
         "offsetgroup": "pcg, sjlt",
         "orientation": "v",
         "showlegend": false,
         "textangle": 0,
         "textposition": "outside",
         "texttemplate": "%{value:.2s}",
         "type": "histogram",
         "x": [
          "sjlt"
         ],
         "xaxis": "x6",
         "y": [
          0.9373700796665312
         ],
         "yaxis": "y6"
        },
        {
         "alignmentgroup": "True",
         "bingroup": "x",
         "cliponaxis": false,
         "histfunc": "sum",
         "hovertemplate": "method=pcg<br>sketch_fn=%{x}<br>n=4096<br>deff=2048<br>sum of time=%{y}<extra></extra>",
         "legendgroup": "pcg, sjlt",
         "marker": {
          "color": "#ab63fa",
          "pattern": {
           "shape": "/"
          }
         },
         "name": "pcg, sjlt",
         "offsetgroup": "pcg, sjlt",
         "orientation": "v",
         "showlegend": false,
         "textangle": 0,
         "textposition": "outside",
         "texttemplate": "%{value:.2s}",
         "type": "histogram",
         "x": [
          "sjlt"
         ],
         "xaxis": "x7",
         "y": [
          2.0810305389998875
         ],
         "yaxis": "y7"
        },
        {
         "alignmentgroup": "True",
         "bingroup": "x",
         "cliponaxis": false,
         "histfunc": "sum",
         "hovertemplate": "method=pcg<br>sketch_fn=%{x}<br>n=2048<br>deff=32<br>sum of time=%{y}<extra></extra>",
         "legendgroup": "pcg, srht",
         "marker": {
          "color": "#ab63fa",
          "pattern": {
           "shape": "\\"
          }
         },
         "name": "pcg, srht",
         "offsetgroup": "pcg, srht",
         "orientation": "v",
         "showlegend": true,
         "textangle": 0,
         "textposition": "outside",
         "texttemplate": "%{value:.2s}",
         "type": "histogram",
         "x": [
          "srht"
         ],
         "xaxis": "x8",
         "y": [
          0.6679445663332141
         ],
         "yaxis": "y8"
        },
        {
         "alignmentgroup": "True",
         "bingroup": "x",
         "cliponaxis": false,
         "histfunc": "sum",
         "hovertemplate": "method=pcg<br>sketch_fn=%{x}<br>n=2048<br>deff=64<br>sum of time=%{y}<extra></extra>",
         "legendgroup": "pcg, srht",
         "marker": {
          "color": "#ab63fa",
          "pattern": {
           "shape": "\\"
          }
         },
         "name": "pcg, srht",
         "offsetgroup": "pcg, srht",
         "orientation": "v",
         "showlegend": false,
         "textangle": 0,
         "textposition": "outside",
         "texttemplate": "%{value:.2s}",
         "type": "histogram",
         "x": [
          "srht"
         ],
         "xaxis": "x9",
         "y": [
          0.6643436970001251
         ],
         "yaxis": "y9"
        },
        {
         "alignmentgroup": "True",
         "bingroup": "x",
         "cliponaxis": false,
         "histfunc": "sum",
         "hovertemplate": "method=pcg<br>sketch_fn=%{x}<br>n=2048<br>deff=128<br>sum of time=%{y}<extra></extra>",
         "legendgroup": "pcg, srht",
         "marker": {
          "color": "#ab63fa",
          "pattern": {
           "shape": "\\"
          }
         },
         "name": "pcg, srht",
         "offsetgroup": "pcg, srht",
         "orientation": "v",
         "showlegend": false,
         "textangle": 0,
         "textposition": "outside",
         "texttemplate": "%{value:.2s}",
         "type": "histogram",
         "x": [
          "srht"
         ],
         "xaxis": "x10",
         "y": [
          0.6651278836667794
         ],
         "yaxis": "y10"
        },
        {
         "alignmentgroup": "True",
         "bingroup": "x",
         "cliponaxis": false,
         "histfunc": "sum",
         "hovertemplate": "method=pcg<br>sketch_fn=%{x}<br>n=2048<br>deff=256<br>sum of time=%{y}<extra></extra>",
         "legendgroup": "pcg, srht",
         "marker": {
          "color": "#ab63fa",
          "pattern": {
           "shape": "\\"
          }
         },
         "name": "pcg, srht",
         "offsetgroup": "pcg, srht",
         "orientation": "v",
         "showlegend": false,
         "textangle": 0,
         "textposition": "outside",
         "texttemplate": "%{value:.2s}",
         "type": "histogram",
         "x": [
          "srht"
         ],
         "xaxis": "x11",
         "y": [
          0.6687962420000986
         ],
         "yaxis": "y11"
        },
        {
         "alignmentgroup": "True",
         "bingroup": "x",
         "cliponaxis": false,
         "histfunc": "sum",
         "hovertemplate": "method=pcg<br>sketch_fn=%{x}<br>n=2048<br>deff=512<br>sum of time=%{y}<extra></extra>",
         "legendgroup": "pcg, srht",
         "marker": {
          "color": "#ab63fa",
          "pattern": {
           "shape": "\\"
          }
         },
         "name": "pcg, srht",
         "offsetgroup": "pcg, srht",
         "orientation": "v",
         "showlegend": false,
         "textangle": 0,
         "textposition": "outside",
         "texttemplate": "%{value:.2s}",
         "type": "histogram",
         "x": [
          "srht"
         ],
         "xaxis": "x12",
         "y": [
          0.658335714999642
         ],
         "yaxis": "y12"
        },
        {
         "alignmentgroup": "True",
         "bingroup": "x",
         "cliponaxis": false,
         "histfunc": "sum",
         "hovertemplate": "method=pcg<br>sketch_fn=%{x}<br>n=2048<br>deff=1024<br>sum of time=%{y}<extra></extra>",
         "legendgroup": "pcg, srht",
         "marker": {
          "color": "#ab63fa",
          "pattern": {
           "shape": "\\"
          }
         },
         "name": "pcg, srht",
         "offsetgroup": "pcg, srht",
         "orientation": "v",
         "showlegend": false,
         "textangle": 0,
         "textposition": "outside",
         "texttemplate": "%{value:.2s}",
         "type": "histogram",
         "x": [
          "srht"
         ],
         "xaxis": "x13",
         "y": [
          0.661743258666623
         ],
         "yaxis": "y13"
        },
        {
         "alignmentgroup": "True",
         "bingroup": "x",
         "cliponaxis": false,
         "histfunc": "sum",
         "hovertemplate": "method=pcg<br>sketch_fn=%{x}<br>n=2048<br>deff=2048<br>sum of time=%{y}<extra></extra>",
         "legendgroup": "pcg, srht",
         "marker": {
          "color": "#ab63fa",
          "pattern": {
           "shape": "\\"
          }
         },
         "name": "pcg, srht",
         "offsetgroup": "pcg, srht",
         "orientation": "v",
         "showlegend": false,
         "textangle": 0,
         "textposition": "outside",
         "texttemplate": "%{value:.2s}",
         "type": "histogram",
         "x": [
          "srht"
         ],
         "xaxis": "x14",
         "y": [
          0.6574143286667701
         ],
         "yaxis": "y14"
        },
        {
         "alignmentgroup": "True",
         "bingroup": "x",
         "cliponaxis": false,
         "histfunc": "sum",
         "hovertemplate": "method=pcg<br>sketch_fn=%{x}<br>n=4096<br>deff=32<br>sum of time=%{y}<extra></extra>",
         "legendgroup": "pcg, srht",
         "marker": {
          "color": "#ab63fa",
          "pattern": {
           "shape": "\\"
          }
         },
         "name": "pcg, srht",
         "offsetgroup": "pcg, srht",
         "orientation": "v",
         "showlegend": false,
         "textangle": 0,
         "textposition": "outside",
         "texttemplate": "%{value:.2s}",
         "type": "histogram",
         "x": [
          "srht"
         ],
         "xaxis": "x",
         "y": [
          1.2098904726669084
         ],
         "yaxis": "y"
        },
        {
         "alignmentgroup": "True",
         "bingroup": "x",
         "cliponaxis": false,
         "histfunc": "sum",
         "hovertemplate": "method=pcg<br>sketch_fn=%{x}<br>n=4096<br>deff=64<br>sum of time=%{y}<extra></extra>",
         "legendgroup": "pcg, srht",
         "marker": {
          "color": "#ab63fa",
          "pattern": {
           "shape": "\\"
          }
         },
         "name": "pcg, srht",
         "offsetgroup": "pcg, srht",
         "orientation": "v",
         "showlegend": false,
         "textangle": 0,
         "textposition": "outside",
         "texttemplate": "%{value:.2s}",
         "type": "histogram",
         "x": [
          "srht"
         ],
         "xaxis": "x2",
         "y": [
          1.2007531553329802
         ],
         "yaxis": "y2"
        },
        {
         "alignmentgroup": "True",
         "bingroup": "x",
         "cliponaxis": false,
         "histfunc": "sum",
         "hovertemplate": "method=pcg<br>sketch_fn=%{x}<br>n=4096<br>deff=128<br>sum of time=%{y}<extra></extra>",
         "legendgroup": "pcg, srht",
         "marker": {
          "color": "#ab63fa",
          "pattern": {
           "shape": "\\"
          }
         },
         "name": "pcg, srht",
         "offsetgroup": "pcg, srht",
         "orientation": "v",
         "showlegend": false,
         "textangle": 0,
         "textposition": "outside",
         "texttemplate": "%{value:.2s}",
         "type": "histogram",
         "x": [
          "srht"
         ],
         "xaxis": "x3",
         "y": [
          1.2050007213323017
         ],
         "yaxis": "y3"
        },
        {
         "alignmentgroup": "True",
         "bingroup": "x",
         "cliponaxis": false,
         "histfunc": "sum",
         "hovertemplate": "method=pcg<br>sketch_fn=%{x}<br>n=4096<br>deff=256<br>sum of time=%{y}<extra></extra>",
         "legendgroup": "pcg, srht",
         "marker": {
          "color": "#ab63fa",
          "pattern": {
           "shape": "\\"
          }
         },
         "name": "pcg, srht",
         "offsetgroup": "pcg, srht",
         "orientation": "v",
         "showlegend": false,
         "textangle": 0,
         "textposition": "outside",
         "texttemplate": "%{value:.2s}",
         "type": "histogram",
         "x": [
          "srht"
         ],
         "xaxis": "x4",
         "y": [
          1.2064755889993344
         ],
         "yaxis": "y4"
        },
        {
         "alignmentgroup": "True",
         "bingroup": "x",
         "cliponaxis": false,
         "histfunc": "sum",
         "hovertemplate": "method=pcg<br>sketch_fn=%{x}<br>n=4096<br>deff=512<br>sum of time=%{y}<extra></extra>",
         "legendgroup": "pcg, srht",
         "marker": {
          "color": "#ab63fa",
          "pattern": {
           "shape": "\\"
          }
         },
         "name": "pcg, srht",
         "offsetgroup": "pcg, srht",
         "orientation": "v",
         "showlegend": false,
         "textangle": 0,
         "textposition": "outside",
         "texttemplate": "%{value:.2s}",
         "type": "histogram",
         "x": [
          "srht"
         ],
         "xaxis": "x5",
         "y": [
          1.2168387056669112
         ],
         "yaxis": "y5"
        },
        {
         "alignmentgroup": "True",
         "bingroup": "x",
         "cliponaxis": false,
         "histfunc": "sum",
         "hovertemplate": "method=pcg<br>sketch_fn=%{x}<br>n=4096<br>deff=1024<br>sum of time=%{y}<extra></extra>",
         "legendgroup": "pcg, srht",
         "marker": {
          "color": "#ab63fa",
          "pattern": {
           "shape": "\\"
          }
         },
         "name": "pcg, srht",
         "offsetgroup": "pcg, srht",
         "orientation": "v",
         "showlegend": false,
         "textangle": 0,
         "textposition": "outside",
         "texttemplate": "%{value:.2s}",
         "type": "histogram",
         "x": [
          "srht"
         ],
         "xaxis": "x6",
         "y": [
          1.2164661193334418
         ],
         "yaxis": "y6"
        },
        {
         "alignmentgroup": "True",
         "bingroup": "x",
         "cliponaxis": false,
         "histfunc": "sum",
         "hovertemplate": "method=pcg<br>sketch_fn=%{x}<br>n=4096<br>deff=2048<br>sum of time=%{y}<extra></extra>",
         "legendgroup": "pcg, srht",
         "marker": {
          "color": "#ab63fa",
          "pattern": {
           "shape": "\\"
          }
         },
         "name": "pcg, srht",
         "offsetgroup": "pcg, srht",
         "orientation": "v",
         "showlegend": false,
         "textangle": 0,
         "textposition": "outside",
         "texttemplate": "%{value:.2s}",
         "type": "histogram",
         "x": [
          "srht"
         ],
         "xaxis": "x7",
         "y": [
          1.395250199999282
         ],
         "yaxis": "y7"
        }
       ],
       "layout": {
        "annotations": [
         {
          "font": {},
          "showarrow": false,
          "text": "deff=32",
          "x": 0.06142857142857142,
          "xanchor": "center",
          "xref": "paper",
          "y": 1,
          "yanchor": "bottom",
          "yref": "paper"
         },
         {
          "font": {},
          "showarrow": false,
          "text": "deff=64",
          "x": 0.20428571428571426,
          "xanchor": "center",
          "xref": "paper",
          "y": 1,
          "yanchor": "bottom",
          "yref": "paper"
         },
         {
          "font": {},
          "showarrow": false,
          "text": "deff=128",
          "x": 0.3471428571428571,
          "xanchor": "center",
          "xref": "paper",
          "y": 1,
          "yanchor": "bottom",
          "yref": "paper"
         },
         {
          "font": {},
          "showarrow": false,
          "text": "deff=256",
          "x": 0.49,
          "xanchor": "center",
          "xref": "paper",
          "y": 1,
          "yanchor": "bottom",
          "yref": "paper"
         },
         {
          "font": {},
          "showarrow": false,
          "text": "deff=512",
          "x": 0.6328571428571428,
          "xanchor": "center",
          "xref": "paper",
          "y": 1,
          "yanchor": "bottom",
          "yref": "paper"
         },
         {
          "font": {},
          "showarrow": false,
          "text": "deff=1024",
          "x": 0.7757142857142856,
          "xanchor": "center",
          "xref": "paper",
          "y": 1,
          "yanchor": "bottom",
          "yref": "paper"
         },
         {
          "font": {},
          "showarrow": false,
          "text": "deff=2048",
          "x": 0.9185714285714286,
          "xanchor": "center",
          "xref": "paper",
          "y": 1,
          "yanchor": "bottom",
          "yref": "paper"
         },
         {
          "font": {},
          "showarrow": false,
          "text": "n=4096",
          "textangle": 90,
          "x": 0.98,
          "xanchor": "left",
          "xref": "paper",
          "y": 0.2425,
          "yanchor": "middle",
          "yref": "paper"
         },
         {
          "font": {},
          "showarrow": false,
          "text": "n=2048",
          "textangle": 90,
          "x": 0.98,
          "xanchor": "left",
          "xref": "paper",
          "y": 0.7575000000000001,
          "yanchor": "middle",
          "yref": "paper"
         }
        ],
        "barmode": "group",
        "height": 700,
        "legend": {
         "title": {
          "text": "method, sketch_fn"
         },
         "tracegroupgap": 0
        },
        "margin": {
         "t": 60
        },
        "template": {
         "data": {
          "bar": [
           {
            "error_x": {
             "color": "#2a3f5f"
            },
            "error_y": {
             "color": "#2a3f5f"
            },
            "marker": {
             "line": {
              "color": "#E5ECF6",
              "width": 0.5
             },
             "pattern": {
              "fillmode": "overlay",
              "size": 10,
              "solidity": 0.2
             }
            },
            "type": "bar"
           }
          ],
          "barpolar": [
           {
            "marker": {
             "line": {
              "color": "#E5ECF6",
              "width": 0.5
             },
             "pattern": {
              "fillmode": "overlay",
              "size": 10,
              "solidity": 0.2
             }
            },
            "type": "barpolar"
           }
          ],
          "carpet": [
           {
            "aaxis": {
             "endlinecolor": "#2a3f5f",
             "gridcolor": "white",
             "linecolor": "white",
             "minorgridcolor": "white",
             "startlinecolor": "#2a3f5f"
            },
            "baxis": {
             "endlinecolor": "#2a3f5f",
             "gridcolor": "white",
             "linecolor": "white",
             "minorgridcolor": "white",
             "startlinecolor": "#2a3f5f"
            },
            "type": "carpet"
           }
          ],
          "choropleth": [
           {
            "colorbar": {
             "outlinewidth": 0,
             "ticks": ""
            },
            "type": "choropleth"
           }
          ],
          "contour": [
           {
            "colorbar": {
             "outlinewidth": 0,
             "ticks": ""
            },
            "colorscale": [
             [
              0,
              "#0d0887"
             ],
             [
              0.1111111111111111,
              "#46039f"
             ],
             [
              0.2222222222222222,
              "#7201a8"
             ],
             [
              0.3333333333333333,
              "#9c179e"
             ],
             [
              0.4444444444444444,
              "#bd3786"
             ],
             [
              0.5555555555555556,
              "#d8576b"
             ],
             [
              0.6666666666666666,
              "#ed7953"
             ],
             [
              0.7777777777777778,
              "#fb9f3a"
             ],
             [
              0.8888888888888888,
              "#fdca26"
             ],
             [
              1,
              "#f0f921"
             ]
            ],
            "type": "contour"
           }
          ],
          "contourcarpet": [
           {
            "colorbar": {
             "outlinewidth": 0,
             "ticks": ""
            },
            "type": "contourcarpet"
           }
          ],
          "heatmap": [
           {
            "colorbar": {
             "outlinewidth": 0,
             "ticks": ""
            },
            "colorscale": [
             [
              0,
              "#0d0887"
             ],
             [
              0.1111111111111111,
              "#46039f"
             ],
             [
              0.2222222222222222,
              "#7201a8"
             ],
             [
              0.3333333333333333,
              "#9c179e"
             ],
             [
              0.4444444444444444,
              "#bd3786"
             ],
             [
              0.5555555555555556,
              "#d8576b"
             ],
             [
              0.6666666666666666,
              "#ed7953"
             ],
             [
              0.7777777777777778,
              "#fb9f3a"
             ],
             [
              0.8888888888888888,
              "#fdca26"
             ],
             [
              1,
              "#f0f921"
             ]
            ],
            "type": "heatmap"
           }
          ],
          "heatmapgl": [
           {
            "colorbar": {
             "outlinewidth": 0,
             "ticks": ""
            },
            "colorscale": [
             [
              0,
              "#0d0887"
             ],
             [
              0.1111111111111111,
              "#46039f"
             ],
             [
              0.2222222222222222,
              "#7201a8"
             ],
             [
              0.3333333333333333,
              "#9c179e"
             ],
             [
              0.4444444444444444,
              "#bd3786"
             ],
             [
              0.5555555555555556,
              "#d8576b"
             ],
             [
              0.6666666666666666,
              "#ed7953"
             ],
             [
              0.7777777777777778,
              "#fb9f3a"
             ],
             [
              0.8888888888888888,
              "#fdca26"
             ],
             [
              1,
              "#f0f921"
             ]
            ],
            "type": "heatmapgl"
           }
          ],
          "histogram": [
           {
            "marker": {
             "pattern": {
              "fillmode": "overlay",
              "size": 10,
              "solidity": 0.2
             }
            },
            "type": "histogram"
           }
          ],
          "histogram2d": [
           {
            "colorbar": {
             "outlinewidth": 0,
             "ticks": ""
            },
            "colorscale": [
             [
              0,
              "#0d0887"
             ],
             [
              0.1111111111111111,
              "#46039f"
             ],
             [
              0.2222222222222222,
              "#7201a8"
             ],
             [
              0.3333333333333333,
              "#9c179e"
             ],
             [
              0.4444444444444444,
              "#bd3786"
             ],
             [
              0.5555555555555556,
              "#d8576b"
             ],
             [
              0.6666666666666666,
              "#ed7953"
             ],
             [
              0.7777777777777778,
              "#fb9f3a"
             ],
             [
              0.8888888888888888,
              "#fdca26"
             ],
             [
              1,
              "#f0f921"
             ]
            ],
            "type": "histogram2d"
           }
          ],
          "histogram2dcontour": [
           {
            "colorbar": {
             "outlinewidth": 0,
             "ticks": ""
            },
            "colorscale": [
             [
              0,
              "#0d0887"
             ],
             [
              0.1111111111111111,
              "#46039f"
             ],
             [
              0.2222222222222222,
              "#7201a8"
             ],
             [
              0.3333333333333333,
              "#9c179e"
             ],
             [
              0.4444444444444444,
              "#bd3786"
             ],
             [
              0.5555555555555556,
              "#d8576b"
             ],
             [
              0.6666666666666666,
              "#ed7953"
             ],
             [
              0.7777777777777778,
              "#fb9f3a"
             ],
             [
              0.8888888888888888,
              "#fdca26"
             ],
             [
              1,
              "#f0f921"
             ]
            ],
            "type": "histogram2dcontour"
           }
          ],
          "mesh3d": [
           {
            "colorbar": {
             "outlinewidth": 0,
             "ticks": ""
            },
            "type": "mesh3d"
           }
          ],
          "parcoords": [
           {
            "line": {
             "colorbar": {
              "outlinewidth": 0,
              "ticks": ""
             }
            },
            "type": "parcoords"
           }
          ],
          "pie": [
           {
            "automargin": true,
            "type": "pie"
           }
          ],
          "scatter": [
           {
            "fillpattern": {
             "fillmode": "overlay",
             "size": 10,
             "solidity": 0.2
            },
            "type": "scatter"
           }
          ],
          "scatter3d": [
           {
            "line": {
             "colorbar": {
              "outlinewidth": 0,
              "ticks": ""
             }
            },
            "marker": {
             "colorbar": {
              "outlinewidth": 0,
              "ticks": ""
             }
            },
            "type": "scatter3d"
           }
          ],
          "scattercarpet": [
           {
            "marker": {
             "colorbar": {
              "outlinewidth": 0,
              "ticks": ""
             }
            },
            "type": "scattercarpet"
           }
          ],
          "scattergeo": [
           {
            "marker": {
             "colorbar": {
              "outlinewidth": 0,
              "ticks": ""
             }
            },
            "type": "scattergeo"
           }
          ],
          "scattergl": [
           {
            "marker": {
             "colorbar": {
              "outlinewidth": 0,
              "ticks": ""
             }
            },
            "type": "scattergl"
           }
          ],
          "scattermapbox": [
           {
            "marker": {
             "colorbar": {
              "outlinewidth": 0,
              "ticks": ""
             }
            },
            "type": "scattermapbox"
           }
          ],
          "scatterpolar": [
           {
            "marker": {
             "colorbar": {
              "outlinewidth": 0,
              "ticks": ""
             }
            },
            "type": "scatterpolar"
           }
          ],
          "scatterpolargl": [
           {
            "marker": {
             "colorbar": {
              "outlinewidth": 0,
              "ticks": ""
             }
            },
            "type": "scatterpolargl"
           }
          ],
          "scatterternary": [
           {
            "marker": {
             "colorbar": {
              "outlinewidth": 0,
              "ticks": ""
             }
            },
            "type": "scatterternary"
           }
          ],
          "surface": [
           {
            "colorbar": {
             "outlinewidth": 0,
             "ticks": ""
            },
            "colorscale": [
             [
              0,
              "#0d0887"
             ],
             [
              0.1111111111111111,
              "#46039f"
             ],
             [
              0.2222222222222222,
              "#7201a8"
             ],
             [
              0.3333333333333333,
              "#9c179e"
             ],
             [
              0.4444444444444444,
              "#bd3786"
             ],
             [
              0.5555555555555556,
              "#d8576b"
             ],
             [
              0.6666666666666666,
              "#ed7953"
             ],
             [
              0.7777777777777778,
              "#fb9f3a"
             ],
             [
              0.8888888888888888,
              "#fdca26"
             ],
             [
              1,
              "#f0f921"
             ]
            ],
            "type": "surface"
           }
          ],
          "table": [
           {
            "cells": {
             "fill": {
              "color": "#EBF0F8"
             },
             "line": {
              "color": "white"
             }
            },
            "header": {
             "fill": {
              "color": "#C8D4E3"
             },
             "line": {
              "color": "white"
             }
            },
            "type": "table"
           }
          ]
         },
         "layout": {
          "annotationdefaults": {
           "arrowcolor": "#2a3f5f",
           "arrowhead": 0,
           "arrowwidth": 1
          },
          "autotypenumbers": "strict",
          "coloraxis": {
           "colorbar": {
            "outlinewidth": 0,
            "ticks": ""
           }
          },
          "colorscale": {
           "diverging": [
            [
             0,
             "#8e0152"
            ],
            [
             0.1,
             "#c51b7d"
            ],
            [
             0.2,
             "#de77ae"
            ],
            [
             0.3,
             "#f1b6da"
            ],
            [
             0.4,
             "#fde0ef"
            ],
            [
             0.5,
             "#f7f7f7"
            ],
            [
             0.6,
             "#e6f5d0"
            ],
            [
             0.7,
             "#b8e186"
            ],
            [
             0.8,
             "#7fbc41"
            ],
            [
             0.9,
             "#4d9221"
            ],
            [
             1,
             "#276419"
            ]
           ],
           "sequential": [
            [
             0,
             "#0d0887"
            ],
            [
             0.1111111111111111,
             "#46039f"
            ],
            [
             0.2222222222222222,
             "#7201a8"
            ],
            [
             0.3333333333333333,
             "#9c179e"
            ],
            [
             0.4444444444444444,
             "#bd3786"
            ],
            [
             0.5555555555555556,
             "#d8576b"
            ],
            [
             0.6666666666666666,
             "#ed7953"
            ],
            [
             0.7777777777777778,
             "#fb9f3a"
            ],
            [
             0.8888888888888888,
             "#fdca26"
            ],
            [
             1,
             "#f0f921"
            ]
           ],
           "sequentialminus": [
            [
             0,
             "#0d0887"
            ],
            [
             0.1111111111111111,
             "#46039f"
            ],
            [
             0.2222222222222222,
             "#7201a8"
            ],
            [
             0.3333333333333333,
             "#9c179e"
            ],
            [
             0.4444444444444444,
             "#bd3786"
            ],
            [
             0.5555555555555556,
             "#d8576b"
            ],
            [
             0.6666666666666666,
             "#ed7953"
            ],
            [
             0.7777777777777778,
             "#fb9f3a"
            ],
            [
             0.8888888888888888,
             "#fdca26"
            ],
            [
             1,
             "#f0f921"
            ]
           ]
          },
          "colorway": [
           "#636efa",
           "#EF553B",
           "#00cc96",
           "#ab63fa",
           "#FFA15A",
           "#19d3f3",
           "#FF6692",
           "#B6E880",
           "#FF97FF",
           "#FECB52"
          ],
          "font": {
           "color": "#2a3f5f"
          },
          "geo": {
           "bgcolor": "white",
           "lakecolor": "white",
           "landcolor": "#E5ECF6",
           "showlakes": true,
           "showland": true,
           "subunitcolor": "white"
          },
          "hoverlabel": {
           "align": "left"
          },
          "hovermode": "closest",
          "mapbox": {
           "style": "light"
          },
          "paper_bgcolor": "white",
          "plot_bgcolor": "#E5ECF6",
          "polar": {
           "angularaxis": {
            "gridcolor": "white",
            "linecolor": "white",
            "ticks": ""
           },
           "bgcolor": "#E5ECF6",
           "radialaxis": {
            "gridcolor": "white",
            "linecolor": "white",
            "ticks": ""
           }
          },
          "scene": {
           "xaxis": {
            "backgroundcolor": "#E5ECF6",
            "gridcolor": "white",
            "gridwidth": 2,
            "linecolor": "white",
            "showbackground": true,
            "ticks": "",
            "zerolinecolor": "white"
           },
           "yaxis": {
            "backgroundcolor": "#E5ECF6",
            "gridcolor": "white",
            "gridwidth": 2,
            "linecolor": "white",
            "showbackground": true,
            "ticks": "",
            "zerolinecolor": "white"
           },
           "zaxis": {
            "backgroundcolor": "#E5ECF6",
            "gridcolor": "white",
            "gridwidth": 2,
            "linecolor": "white",
            "showbackground": true,
            "ticks": "",
            "zerolinecolor": "white"
           }
          },
          "shapedefaults": {
           "line": {
            "color": "#2a3f5f"
           }
          },
          "ternary": {
           "aaxis": {
            "gridcolor": "white",
            "linecolor": "white",
            "ticks": ""
           },
           "baxis": {
            "gridcolor": "white",
            "linecolor": "white",
            "ticks": ""
           },
           "bgcolor": "#E5ECF6",
           "caxis": {
            "gridcolor": "white",
            "linecolor": "white",
            "ticks": ""
           }
          },
          "title": {
           "x": 0.05
          },
          "xaxis": {
           "automargin": true,
           "gridcolor": "white",
           "linecolor": "white",
           "ticks": "",
           "title": {
            "standoff": 15
           },
           "zerolinecolor": "white",
           "zerolinewidth": 2
          },
          "yaxis": {
           "automargin": true,
           "gridcolor": "white",
           "linecolor": "white",
           "ticks": "",
           "title": {
            "standoff": 15
           },
           "zerolinecolor": "white",
           "zerolinewidth": 2
          }
         }
        },
        "xaxis": {
         "anchor": "y",
         "categoryarray": [
          "gaussian",
          "sjlt",
          "srht",
          "none"
         ],
         "categoryorder": "array",
         "domain": [
          0,
          0.12285714285714285
         ],
         "title": {
          "text": "sketch_fn"
         }
        },
        "xaxis10": {
         "anchor": "y10",
         "domain": [
          0.2857142857142857,
          0.40857142857142853
         ],
         "matches": "x",
         "showticklabels": false
        },
        "xaxis11": {
         "anchor": "y11",
         "domain": [
          0.42857142857142855,
          0.5514285714285714
         ],
         "matches": "x",
         "showticklabels": false
        },
        "xaxis12": {
         "anchor": "y12",
         "domain": [
          0.5714285714285714,
          0.6942857142857143
         ],
         "matches": "x",
         "showticklabels": false
        },
        "xaxis13": {
         "anchor": "y13",
         "domain": [
          0.7142857142857142,
          0.8371428571428571
         ],
         "matches": "x",
         "showticklabels": false
        },
        "xaxis14": {
         "anchor": "y14",
         "domain": [
          0.8571428571428571,
          0.98
         ],
         "matches": "x",
         "showticklabels": false
        },
        "xaxis2": {
         "anchor": "y2",
         "categoryarray": [
          "gaussian",
          "sjlt",
          "srht",
          "none"
         ],
         "categoryorder": "array",
         "domain": [
          0.14285714285714285,
          0.2657142857142857
         ],
         "matches": "x",
         "title": {
          "text": "sketch_fn"
         }
        },
        "xaxis3": {
         "anchor": "y3",
         "categoryarray": [
          "gaussian",
          "sjlt",
          "srht",
          "none"
         ],
         "categoryorder": "array",
         "domain": [
          0.2857142857142857,
          0.40857142857142853
         ],
         "matches": "x",
         "title": {
          "text": "sketch_fn"
         }
        },
        "xaxis4": {
         "anchor": "y4",
         "categoryarray": [
          "gaussian",
          "sjlt",
          "srht",
          "none"
         ],
         "categoryorder": "array",
         "domain": [
          0.42857142857142855,
          0.5514285714285714
         ],
         "matches": "x",
         "title": {
          "text": "sketch_fn"
         }
        },
        "xaxis5": {
         "anchor": "y5",
         "categoryarray": [
          "gaussian",
          "sjlt",
          "srht",
          "none"
         ],
         "categoryorder": "array",
         "domain": [
          0.5714285714285714,
          0.6942857142857143
         ],
         "matches": "x",
         "title": {
          "text": "sketch_fn"
         }
        },
        "xaxis6": {
         "anchor": "y6",
         "categoryarray": [
          "gaussian",
          "sjlt",
          "srht",
          "none"
         ],
         "categoryorder": "array",
         "domain": [
          0.7142857142857142,
          0.8371428571428571
         ],
         "matches": "x",
         "title": {
          "text": "sketch_fn"
         }
        },
        "xaxis7": {
         "anchor": "y7",
         "categoryarray": [
          "gaussian",
          "sjlt",
          "srht",
          "none"
         ],
         "categoryorder": "array",
         "domain": [
          0.8571428571428571,
          0.98
         ],
         "matches": "x",
         "title": {
          "text": "sketch_fn"
         }
        },
        "xaxis8": {
         "anchor": "y8",
         "domain": [
          0,
          0.12285714285714285
         ],
         "matches": "x",
         "showticklabels": false
        },
        "xaxis9": {
         "anchor": "y9",
         "domain": [
          0.14285714285714285,
          0.2657142857142857
         ],
         "matches": "x",
         "showticklabels": false
        },
        "yaxis": {
         "anchor": "x",
         "domain": [
          0,
          0.485
         ],
         "title": {
          "text": "sum of time"
         }
        },
        "yaxis10": {
         "anchor": "x10",
         "domain": [
          0.515,
          1
         ],
         "matches": "y",
         "showticklabels": false
        },
        "yaxis11": {
         "anchor": "x11",
         "domain": [
          0.515,
          1
         ],
         "matches": "y",
         "showticklabels": false
        },
        "yaxis12": {
         "anchor": "x12",
         "domain": [
          0.515,
          1
         ],
         "matches": "y",
         "showticklabels": false
        },
        "yaxis13": {
         "anchor": "x13",
         "domain": [
          0.515,
          1
         ],
         "matches": "y",
         "showticklabels": false
        },
        "yaxis14": {
         "anchor": "x14",
         "domain": [
          0.515,
          1
         ],
         "matches": "y",
         "showticklabels": false
        },
        "yaxis2": {
         "anchor": "x2",
         "domain": [
          0,
          0.485
         ],
         "matches": "y",
         "showticklabels": false
        },
        "yaxis3": {
         "anchor": "x3",
         "domain": [
          0,
          0.485
         ],
         "matches": "y",
         "showticklabels": false
        },
        "yaxis4": {
         "anchor": "x4",
         "domain": [
          0,
          0.485
         ],
         "matches": "y",
         "showticklabels": false
        },
        "yaxis5": {
         "anchor": "x5",
         "domain": [
          0,
          0.485
         ],
         "matches": "y",
         "showticklabels": false
        },
        "yaxis6": {
         "anchor": "x6",
         "domain": [
          0,
          0.485
         ],
         "matches": "y",
         "showticklabels": false
        },
        "yaxis7": {
         "anchor": "x7",
         "domain": [
          0,
          0.485
         ],
         "matches": "y",
         "showticklabels": false
        },
        "yaxis8": {
         "anchor": "x8",
         "domain": [
          0.515,
          1
         ],
         "matches": "y",
         "title": {
          "text": "sum of time"
         }
        },
        "yaxis9": {
         "anchor": "x9",
         "domain": [
          0.515,
          1
         ],
         "matches": "y",
         "showticklabels": false
        }
       }
      },
      "text/html": [
       "<div>                            <div id=\"829ab663-8a15-4a19-9af4-05bb7484acfc\" class=\"plotly-graph-div\" style=\"height:700px; width:100%;\"></div>            <script type=\"text/javascript\">                require([\"plotly\"], function(Plotly) {                    window.PLOTLYENV=window.PLOTLYENV || {};                                    if (document.getElementById(\"829ab663-8a15-4a19-9af4-05bb7484acfc\")) {                    Plotly.newPlot(                        \"829ab663-8a15-4a19-9af4-05bb7484acfc\",                        [{\"alignmentgroup\":\"True\",\"bingroup\":\"x\",\"histfunc\":\"sum\",\"hovertemplate\":\"method=adacg\\u003cbr\\u003esketch_fn=%{x}\\u003cbr\\u003en=2048\\u003cbr\\u003edeff=32\\u003cbr\\u003esum of time=%{y}\\u003cextra\\u003e\\u003c\\u002fextra\\u003e\",\"legendgroup\":\"adacg, gaussian\",\"marker\":{\"color\":\"#636efa\",\"pattern\":{\"shape\":\"\"}},\"name\":\"adacg, gaussian\",\"offsetgroup\":\"adacg, gaussian\",\"orientation\":\"v\",\"showlegend\":true,\"texttemplate\":\"%{value:.2s}\",\"x\":[\"gaussian\"],\"xaxis\":\"x8\",\"y\":[0.1529403346668611],\"yaxis\":\"y8\",\"type\":\"histogram\",\"cliponaxis\":false,\"textangle\":0,\"textposition\":\"outside\"},{\"alignmentgroup\":\"True\",\"bingroup\":\"x\",\"histfunc\":\"sum\",\"hovertemplate\":\"method=adacg\\u003cbr\\u003esketch_fn=%{x}\\u003cbr\\u003en=2048\\u003cbr\\u003edeff=64\\u003cbr\\u003esum of time=%{y}\\u003cextra\\u003e\\u003c\\u002fextra\\u003e\",\"legendgroup\":\"adacg, gaussian\",\"marker\":{\"color\":\"#636efa\",\"pattern\":{\"shape\":\"\"}},\"name\":\"adacg, gaussian\",\"offsetgroup\":\"adacg, gaussian\",\"orientation\":\"v\",\"showlegend\":false,\"texttemplate\":\"%{value:.2s}\",\"x\":[\"gaussian\"],\"xaxis\":\"x9\",\"y\":[0.1967434010001246],\"yaxis\":\"y9\",\"type\":\"histogram\",\"cliponaxis\":false,\"textangle\":0,\"textposition\":\"outside\"},{\"alignmentgroup\":\"True\",\"bingroup\":\"x\",\"histfunc\":\"sum\",\"hovertemplate\":\"method=adacg\\u003cbr\\u003esketch_fn=%{x}\\u003cbr\\u003en=2048\\u003cbr\\u003edeff=128\\u003cbr\\u003esum of time=%{y}\\u003cextra\\u003e\\u003c\\u002fextra\\u003e\",\"legendgroup\":\"adacg, gaussian\",\"marker\":{\"color\":\"#636efa\",\"pattern\":{\"shape\":\"\"}},\"name\":\"adacg, gaussian\",\"offsetgroup\":\"adacg, gaussian\",\"orientation\":\"v\",\"showlegend\":false,\"texttemplate\":\"%{value:.2s}\",\"x\":[\"gaussian\"],\"xaxis\":\"x10\",\"y\":[0.325454149000052],\"yaxis\":\"y10\",\"type\":\"histogram\",\"cliponaxis\":false,\"textangle\":0,\"textposition\":\"outside\"},{\"alignmentgroup\":\"True\",\"bingroup\":\"x\",\"histfunc\":\"sum\",\"hovertemplate\":\"method=adacg\\u003cbr\\u003esketch_fn=%{x}\\u003cbr\\u003en=2048\\u003cbr\\u003edeff=256\\u003cbr\\u003esum of time=%{y}\\u003cextra\\u003e\\u003c\\u002fextra\\u003e\",\"legendgroup\":\"adacg, gaussian\",\"marker\":{\"color\":\"#636efa\",\"pattern\":{\"shape\":\"\"}},\"name\":\"adacg, gaussian\",\"offsetgroup\":\"adacg, gaussian\",\"orientation\":\"v\",\"showlegend\":false,\"texttemplate\":\"%{value:.2s}\",\"x\":[\"gaussian\"],\"xaxis\":\"x11\",\"y\":[0.32327142300012685],\"yaxis\":\"y11\",\"type\":\"histogram\",\"cliponaxis\":false,\"textangle\":0,\"textposition\":\"outside\"},{\"alignmentgroup\":\"True\",\"bingroup\":\"x\",\"histfunc\":\"sum\",\"hovertemplate\":\"method=adacg\\u003cbr\\u003esketch_fn=%{x}\\u003cbr\\u003en=2048\\u003cbr\\u003edeff=512\\u003cbr\\u003esum of time=%{y}\\u003cextra\\u003e\\u003c\\u002fextra\\u003e\",\"legendgroup\":\"adacg, gaussian\",\"marker\":{\"color\":\"#636efa\",\"pattern\":{\"shape\":\"\"}},\"name\":\"adacg, gaussian\",\"offsetgroup\":\"adacg, gaussian\",\"orientation\":\"v\",\"showlegend\":false,\"texttemplate\":\"%{value:.2s}\",\"x\":[\"gaussian\"],\"xaxis\":\"x12\",\"y\":[0.5573548243337427],\"yaxis\":\"y12\",\"type\":\"histogram\",\"cliponaxis\":false,\"textangle\":0,\"textposition\":\"outside\"},{\"alignmentgroup\":\"True\",\"bingroup\":\"x\",\"histfunc\":\"sum\",\"hovertemplate\":\"method=adacg\\u003cbr\\u003esketch_fn=%{x}\\u003cbr\\u003en=2048\\u003cbr\\u003edeff=1024\\u003cbr\\u003esum of time=%{y}\\u003cextra\\u003e\\u003c\\u002fextra\\u003e\",\"legendgroup\":\"adacg, gaussian\",\"marker\":{\"color\":\"#636efa\",\"pattern\":{\"shape\":\"\"}},\"name\":\"adacg, gaussian\",\"offsetgroup\":\"adacg, gaussian\",\"orientation\":\"v\",\"showlegend\":false,\"texttemplate\":\"%{value:.2s}\",\"x\":[\"gaussian\"],\"xaxis\":\"x13\",\"y\":[0.5662673029998283],\"yaxis\":\"y13\",\"type\":\"histogram\",\"cliponaxis\":false,\"textangle\":0,\"textposition\":\"outside\"},{\"alignmentgroup\":\"True\",\"bingroup\":\"x\",\"histfunc\":\"sum\",\"hovertemplate\":\"method=adacg\\u003cbr\\u003esketch_fn=%{x}\\u003cbr\\u003en=2048\\u003cbr\\u003edeff=2048\\u003cbr\\u003esum of time=%{y}\\u003cextra\\u003e\\u003c\\u002fextra\\u003e\",\"legendgroup\":\"adacg, gaussian\",\"marker\":{\"color\":\"#636efa\",\"pattern\":{\"shape\":\"\"}},\"name\":\"adacg, gaussian\",\"offsetgroup\":\"adacg, gaussian\",\"orientation\":\"v\",\"showlegend\":false,\"texttemplate\":\"%{value:.2s}\",\"x\":[\"gaussian\"],\"xaxis\":\"x14\",\"y\":[0.5643194493328944],\"yaxis\":\"y14\",\"type\":\"histogram\",\"cliponaxis\":false,\"textangle\":0,\"textposition\":\"outside\"},{\"alignmentgroup\":\"True\",\"bingroup\":\"x\",\"histfunc\":\"sum\",\"hovertemplate\":\"method=adacg\\u003cbr\\u003esketch_fn=%{x}\\u003cbr\\u003en=4096\\u003cbr\\u003edeff=32\\u003cbr\\u003esum of time=%{y}\\u003cextra\\u003e\\u003c\\u002fextra\\u003e\",\"legendgroup\":\"adacg, gaussian\",\"marker\":{\"color\":\"#636efa\",\"pattern\":{\"shape\":\"\"}},\"name\":\"adacg, gaussian\",\"offsetgroup\":\"adacg, gaussian\",\"orientation\":\"v\",\"showlegend\":false,\"texttemplate\":\"%{value:.2s}\",\"x\":[\"gaussian\"],\"xaxis\":\"x\",\"y\":[0.2842086856665749],\"yaxis\":\"y\",\"type\":\"histogram\",\"cliponaxis\":false,\"textangle\":0,\"textposition\":\"outside\"},{\"alignmentgroup\":\"True\",\"bingroup\":\"x\",\"histfunc\":\"sum\",\"hovertemplate\":\"method=adacg\\u003cbr\\u003esketch_fn=%{x}\\u003cbr\\u003en=4096\\u003cbr\\u003edeff=64\\u003cbr\\u003esum of time=%{y}\\u003cextra\\u003e\\u003c\\u002fextra\\u003e\",\"legendgroup\":\"adacg, gaussian\",\"marker\":{\"color\":\"#636efa\",\"pattern\":{\"shape\":\"\"}},\"name\":\"adacg, gaussian\",\"offsetgroup\":\"adacg, gaussian\",\"orientation\":\"v\",\"showlegend\":false,\"texttemplate\":\"%{value:.2s}\",\"x\":[\"gaussian\"],\"xaxis\":\"x2\",\"y\":[0.3384597020000607],\"yaxis\":\"y2\",\"type\":\"histogram\",\"cliponaxis\":false,\"textangle\":0,\"textposition\":\"outside\"},{\"alignmentgroup\":\"True\",\"bingroup\":\"x\",\"histfunc\":\"sum\",\"hovertemplate\":\"method=adacg\\u003cbr\\u003esketch_fn=%{x}\\u003cbr\\u003en=4096\\u003cbr\\u003edeff=128\\u003cbr\\u003esum of time=%{y}\\u003cextra\\u003e\\u003c\\u002fextra\\u003e\",\"legendgroup\":\"adacg, gaussian\",\"marker\":{\"color\":\"#636efa\",\"pattern\":{\"shape\":\"\"}},\"name\":\"adacg, gaussian\",\"offsetgroup\":\"adacg, gaussian\",\"orientation\":\"v\",\"showlegend\":false,\"texttemplate\":\"%{value:.2s}\",\"x\":[\"gaussian\"],\"xaxis\":\"x3\",\"y\":[0.3351654299998093],\"yaxis\":\"y3\",\"type\":\"histogram\",\"cliponaxis\":false,\"textangle\":0,\"textposition\":\"outside\"},{\"alignmentgroup\":\"True\",\"bingroup\":\"x\",\"histfunc\":\"sum\",\"hovertemplate\":\"method=adacg\\u003cbr\\u003esketch_fn=%{x}\\u003cbr\\u003en=4096\\u003cbr\\u003edeff=256\\u003cbr\\u003esum of time=%{y}\\u003cextra\\u003e\\u003c\\u002fextra\\u003e\",\"legendgroup\":\"adacg, gaussian\",\"marker\":{\"color\":\"#636efa\",\"pattern\":{\"shape\":\"\"}},\"name\":\"adacg, gaussian\",\"offsetgroup\":\"adacg, gaussian\",\"orientation\":\"v\",\"showlegend\":false,\"texttemplate\":\"%{value:.2s}\",\"x\":[\"gaussian\"],\"xaxis\":\"x4\",\"y\":[0.6004047429996717],\"yaxis\":\"y4\",\"type\":\"histogram\",\"cliponaxis\":false,\"textangle\":0,\"textposition\":\"outside\"},{\"alignmentgroup\":\"True\",\"bingroup\":\"x\",\"histfunc\":\"sum\",\"hovertemplate\":\"method=adacg\\u003cbr\\u003esketch_fn=%{x}\\u003cbr\\u003en=4096\\u003cbr\\u003edeff=512\\u003cbr\\u003esum of time=%{y}\\u003cextra\\u003e\\u003c\\u002fextra\\u003e\",\"legendgroup\":\"adacg, gaussian\",\"marker\":{\"color\":\"#636efa\",\"pattern\":{\"shape\":\"\"}},\"name\":\"adacg, gaussian\",\"offsetgroup\":\"adacg, gaussian\",\"orientation\":\"v\",\"showlegend\":false,\"texttemplate\":\"%{value:.2s}\",\"x\":[\"gaussian\"],\"xaxis\":\"x5\",\"y\":[0.9738511686664423],\"yaxis\":\"y5\",\"type\":\"histogram\",\"cliponaxis\":false,\"textangle\":0,\"textposition\":\"outside\"},{\"alignmentgroup\":\"True\",\"bingroup\":\"x\",\"histfunc\":\"sum\",\"hovertemplate\":\"method=adacg\\u003cbr\\u003esketch_fn=%{x}\\u003cbr\\u003en=4096\\u003cbr\\u003edeff=1024\\u003cbr\\u003esum of time=%{y}\\u003cextra\\u003e\\u003c\\u002fextra\\u003e\",\"legendgroup\":\"adacg, gaussian\",\"marker\":{\"color\":\"#636efa\",\"pattern\":{\"shape\":\"\"}},\"name\":\"adacg, gaussian\",\"offsetgroup\":\"adacg, gaussian\",\"orientation\":\"v\",\"showlegend\":false,\"texttemplate\":\"%{value:.2s}\",\"x\":[\"gaussian\"],\"xaxis\":\"x6\",\"y\":[0.9829557766667373],\"yaxis\":\"y6\",\"type\":\"histogram\",\"cliponaxis\":false,\"textangle\":0,\"textposition\":\"outside\"},{\"alignmentgroup\":\"True\",\"bingroup\":\"x\",\"histfunc\":\"sum\",\"hovertemplate\":\"method=adacg\\u003cbr\\u003esketch_fn=%{x}\\u003cbr\\u003en=4096\\u003cbr\\u003edeff=2048\\u003cbr\\u003esum of time=%{y}\\u003cextra\\u003e\\u003c\\u002fextra\\u003e\",\"legendgroup\":\"adacg, gaussian\",\"marker\":{\"color\":\"#636efa\",\"pattern\":{\"shape\":\"\"}},\"name\":\"adacg, gaussian\",\"offsetgroup\":\"adacg, gaussian\",\"orientation\":\"v\",\"showlegend\":false,\"texttemplate\":\"%{value:.2s}\",\"x\":[\"gaussian\"],\"xaxis\":\"x7\",\"y\":[1.0493970176660998],\"yaxis\":\"y7\",\"type\":\"histogram\",\"cliponaxis\":false,\"textangle\":0,\"textposition\":\"outside\"},{\"alignmentgroup\":\"True\",\"bingroup\":\"x\",\"histfunc\":\"sum\",\"hovertemplate\":\"method=adacg\\u003cbr\\u003esketch_fn=%{x}\\u003cbr\\u003en=2048\\u003cbr\\u003edeff=32\\u003cbr\\u003esum of time=%{y}\\u003cextra\\u003e\\u003c\\u002fextra\\u003e\",\"legendgroup\":\"adacg, sjlt\",\"marker\":{\"color\":\"#636efa\",\"pattern\":{\"shape\":\"\\u002f\"}},\"name\":\"adacg, sjlt\",\"offsetgroup\":\"adacg, sjlt\",\"orientation\":\"v\",\"showlegend\":true,\"texttemplate\":\"%{value:.2s}\",\"x\":[\"sjlt\"],\"xaxis\":\"x8\",\"y\":[0.1314517569999225],\"yaxis\":\"y8\",\"type\":\"histogram\",\"cliponaxis\":false,\"textangle\":0,\"textposition\":\"outside\"},{\"alignmentgroup\":\"True\",\"bingroup\":\"x\",\"histfunc\":\"sum\",\"hovertemplate\":\"method=adacg\\u003cbr\\u003esketch_fn=%{x}\\u003cbr\\u003en=2048\\u003cbr\\u003edeff=64\\u003cbr\\u003esum of time=%{y}\\u003cextra\\u003e\\u003c\\u002fextra\\u003e\",\"legendgroup\":\"adacg, sjlt\",\"marker\":{\"color\":\"#636efa\",\"pattern\":{\"shape\":\"\\u002f\"}},\"name\":\"adacg, sjlt\",\"offsetgroup\":\"adacg, sjlt\",\"orientation\":\"v\",\"showlegend\":false,\"texttemplate\":\"%{value:.2s}\",\"x\":[\"sjlt\"],\"xaxis\":\"x9\",\"y\":[0.19565731866653852],\"yaxis\":\"y9\",\"type\":\"histogram\",\"cliponaxis\":false,\"textangle\":0,\"textposition\":\"outside\"},{\"alignmentgroup\":\"True\",\"bingroup\":\"x\",\"histfunc\":\"sum\",\"hovertemplate\":\"method=adacg\\u003cbr\\u003esketch_fn=%{x}\\u003cbr\\u003en=2048\\u003cbr\\u003edeff=128\\u003cbr\\u003esum of time=%{y}\\u003cextra\\u003e\\u003c\\u002fextra\\u003e\",\"legendgroup\":\"adacg, sjlt\",\"marker\":{\"color\":\"#636efa\",\"pattern\":{\"shape\":\"\\u002f\"}},\"name\":\"adacg, sjlt\",\"offsetgroup\":\"adacg, sjlt\",\"orientation\":\"v\",\"showlegend\":false,\"texttemplate\":\"%{value:.2s}\",\"x\":[\"sjlt\"],\"xaxis\":\"x10\",\"y\":[0.19939187533342798],\"yaxis\":\"y10\",\"type\":\"histogram\",\"cliponaxis\":false,\"textangle\":0,\"textposition\":\"outside\"},{\"alignmentgroup\":\"True\",\"bingroup\":\"x\",\"histfunc\":\"sum\",\"hovertemplate\":\"method=adacg\\u003cbr\\u003esketch_fn=%{x}\\u003cbr\\u003en=2048\\u003cbr\\u003edeff=256\\u003cbr\\u003esum of time=%{y}\\u003cextra\\u003e\\u003c\\u002fextra\\u003e\",\"legendgroup\":\"adacg, sjlt\",\"marker\":{\"color\":\"#636efa\",\"pattern\":{\"shape\":\"\\u002f\"}},\"name\":\"adacg, sjlt\",\"offsetgroup\":\"adacg, sjlt\",\"orientation\":\"v\",\"showlegend\":false,\"texttemplate\":\"%{value:.2s}\",\"x\":[\"sjlt\"],\"xaxis\":\"x11\",\"y\":[0.3135059996663282],\"yaxis\":\"y11\",\"type\":\"histogram\",\"cliponaxis\":false,\"textangle\":0,\"textposition\":\"outside\"},{\"alignmentgroup\":\"True\",\"bingroup\":\"x\",\"histfunc\":\"sum\",\"hovertemplate\":\"method=adacg\\u003cbr\\u003esketch_fn=%{x}\\u003cbr\\u003en=2048\\u003cbr\\u003edeff=512\\u003cbr\\u003esum of time=%{y}\\u003cextra\\u003e\\u003c\\u002fextra\\u003e\",\"legendgroup\":\"adacg, sjlt\",\"marker\":{\"color\":\"#636efa\",\"pattern\":{\"shape\":\"\\u002f\"}},\"name\":\"adacg, sjlt\",\"offsetgroup\":\"adacg, sjlt\",\"orientation\":\"v\",\"showlegend\":false,\"texttemplate\":\"%{value:.2s}\",\"x\":[\"sjlt\"],\"xaxis\":\"x12\",\"y\":[0.36666877933354647],\"yaxis\":\"y12\",\"type\":\"histogram\",\"cliponaxis\":false,\"textangle\":0,\"textposition\":\"outside\"},{\"alignmentgroup\":\"True\",\"bingroup\":\"x\",\"histfunc\":\"sum\",\"hovertemplate\":\"method=adacg\\u003cbr\\u003esketch_fn=%{x}\\u003cbr\\u003en=2048\\u003cbr\\u003edeff=1024\\u003cbr\\u003esum of time=%{y}\\u003cextra\\u003e\\u003c\\u002fextra\\u003e\",\"legendgroup\":\"adacg, sjlt\",\"marker\":{\"color\":\"#636efa\",\"pattern\":{\"shape\":\"\\u002f\"}},\"name\":\"adacg, sjlt\",\"offsetgroup\":\"adacg, sjlt\",\"orientation\":\"v\",\"showlegend\":false,\"texttemplate\":\"%{value:.2s}\",\"x\":[\"sjlt\"],\"xaxis\":\"x13\",\"y\":[0.5376748423332174],\"yaxis\":\"y13\",\"type\":\"histogram\",\"cliponaxis\":false,\"textangle\":0,\"textposition\":\"outside\"},{\"alignmentgroup\":\"True\",\"bingroup\":\"x\",\"histfunc\":\"sum\",\"hovertemplate\":\"method=adacg\\u003cbr\\u003esketch_fn=%{x}\\u003cbr\\u003en=2048\\u003cbr\\u003edeff=2048\\u003cbr\\u003esum of time=%{y}\\u003cextra\\u003e\\u003c\\u002fextra\\u003e\",\"legendgroup\":\"adacg, sjlt\",\"marker\":{\"color\":\"#636efa\",\"pattern\":{\"shape\":\"\\u002f\"}},\"name\":\"adacg, sjlt\",\"offsetgroup\":\"adacg, sjlt\",\"orientation\":\"v\",\"showlegend\":false,\"texttemplate\":\"%{value:.2s}\",\"x\":[\"sjlt\"],\"xaxis\":\"x14\",\"y\":[0.5393497253332195],\"yaxis\":\"y14\",\"type\":\"histogram\",\"cliponaxis\":false,\"textangle\":0,\"textposition\":\"outside\"},{\"alignmentgroup\":\"True\",\"bingroup\":\"x\",\"histfunc\":\"sum\",\"hovertemplate\":\"method=adacg\\u003cbr\\u003esketch_fn=%{x}\\u003cbr\\u003en=4096\\u003cbr\\u003edeff=32\\u003cbr\\u003esum of time=%{y}\\u003cextra\\u003e\\u003c\\u002fextra\\u003e\",\"legendgroup\":\"adacg, sjlt\",\"marker\":{\"color\":\"#636efa\",\"pattern\":{\"shape\":\"\\u002f\"}},\"name\":\"adacg, sjlt\",\"offsetgroup\":\"adacg, sjlt\",\"orientation\":\"v\",\"showlegend\":false,\"texttemplate\":\"%{value:.2s}\",\"x\":[\"sjlt\"],\"xaxis\":\"x\",\"y\":[0.31607944266700844],\"yaxis\":\"y\",\"type\":\"histogram\",\"cliponaxis\":false,\"textangle\":0,\"textposition\":\"outside\"},{\"alignmentgroup\":\"True\",\"bingroup\":\"x\",\"histfunc\":\"sum\",\"hovertemplate\":\"method=adacg\\u003cbr\\u003esketch_fn=%{x}\\u003cbr\\u003en=4096\\u003cbr\\u003edeff=64\\u003cbr\\u003esum of time=%{y}\\u003cextra\\u003e\\u003c\\u002fextra\\u003e\",\"legendgroup\":\"adacg, sjlt\",\"marker\":{\"color\":\"#636efa\",\"pattern\":{\"shape\":\"\\u002f\"}},\"name\":\"adacg, sjlt\",\"offsetgroup\":\"adacg, sjlt\",\"orientation\":\"v\",\"showlegend\":false,\"texttemplate\":\"%{value:.2s}\",\"x\":[\"sjlt\"],\"xaxis\":\"x2\",\"y\":[0.44415442300002417],\"yaxis\":\"y2\",\"type\":\"histogram\",\"cliponaxis\":false,\"textangle\":0,\"textposition\":\"outside\"},{\"alignmentgroup\":\"True\",\"bingroup\":\"x\",\"histfunc\":\"sum\",\"hovertemplate\":\"method=adacg\\u003cbr\\u003esketch_fn=%{x}\\u003cbr\\u003en=4096\\u003cbr\\u003edeff=128\\u003cbr\\u003esum of time=%{y}\\u003cextra\\u003e\\u003c\\u002fextra\\u003e\",\"legendgroup\":\"adacg, sjlt\",\"marker\":{\"color\":\"#636efa\",\"pattern\":{\"shape\":\"\\u002f\"}},\"name\":\"adacg, sjlt\",\"offsetgroup\":\"adacg, sjlt\",\"orientation\":\"v\",\"showlegend\":false,\"texttemplate\":\"%{value:.2s}\",\"x\":[\"sjlt\"],\"xaxis\":\"x3\",\"y\":[0.4735978086670608],\"yaxis\":\"y3\",\"type\":\"histogram\",\"cliponaxis\":false,\"textangle\":0,\"textposition\":\"outside\"},{\"alignmentgroup\":\"True\",\"bingroup\":\"x\",\"histfunc\":\"sum\",\"hovertemplate\":\"method=adacg\\u003cbr\\u003esketch_fn=%{x}\\u003cbr\\u003en=4096\\u003cbr\\u003edeff=256\\u003cbr\\u003esum of time=%{y}\\u003cextra\\u003e\\u003c\\u002fextra\\u003e\",\"legendgroup\":\"adacg, sjlt\",\"marker\":{\"color\":\"#636efa\",\"pattern\":{\"shape\":\"\\u002f\"}},\"name\":\"adacg, sjlt\",\"offsetgroup\":\"adacg, sjlt\",\"orientation\":\"v\",\"showlegend\":false,\"texttemplate\":\"%{value:.2s}\",\"x\":[\"sjlt\"],\"xaxis\":\"x4\",\"y\":[0.5219972536669957],\"yaxis\":\"y4\",\"type\":\"histogram\",\"cliponaxis\":false,\"textangle\":0,\"textposition\":\"outside\"},{\"alignmentgroup\":\"True\",\"bingroup\":\"x\",\"histfunc\":\"sum\",\"hovertemplate\":\"method=adacg\\u003cbr\\u003esketch_fn=%{x}\\u003cbr\\u003en=4096\\u003cbr\\u003edeff=512\\u003cbr\\u003esum of time=%{y}\\u003cextra\\u003e\\u003c\\u002fextra\\u003e\",\"legendgroup\":\"adacg, sjlt\",\"marker\":{\"color\":\"#636efa\",\"pattern\":{\"shape\":\"\\u002f\"}},\"name\":\"adacg, sjlt\",\"offsetgroup\":\"adacg, sjlt\",\"orientation\":\"v\",\"showlegend\":false,\"texttemplate\":\"%{value:.2s}\",\"x\":[\"sjlt\"],\"xaxis\":\"x5\",\"y\":[0.5955382489998251],\"yaxis\":\"y5\",\"type\":\"histogram\",\"cliponaxis\":false,\"textangle\":0,\"textposition\":\"outside\"},{\"alignmentgroup\":\"True\",\"bingroup\":\"x\",\"histfunc\":\"sum\",\"hovertemplate\":\"method=adacg\\u003cbr\\u003esketch_fn=%{x}\\u003cbr\\u003en=4096\\u003cbr\\u003edeff=1024\\u003cbr\\u003esum of time=%{y}\\u003cextra\\u003e\\u003c\\u002fextra\\u003e\",\"legendgroup\":\"adacg, sjlt\",\"marker\":{\"color\":\"#636efa\",\"pattern\":{\"shape\":\"\\u002f\"}},\"name\":\"adacg, sjlt\",\"offsetgroup\":\"adacg, sjlt\",\"orientation\":\"v\",\"showlegend\":false,\"texttemplate\":\"%{value:.2s}\",\"x\":[\"sjlt\"],\"xaxis\":\"x6\",\"y\":[0.9674542429996411],\"yaxis\":\"y6\",\"type\":\"histogram\",\"cliponaxis\":false,\"textangle\":0,\"textposition\":\"outside\"},{\"alignmentgroup\":\"True\",\"bingroup\":\"x\",\"histfunc\":\"sum\",\"hovertemplate\":\"method=adacg\\u003cbr\\u003esketch_fn=%{x}\\u003cbr\\u003en=4096\\u003cbr\\u003edeff=2048\\u003cbr\\u003esum of time=%{y}\\u003cextra\\u003e\\u003c\\u002fextra\\u003e\",\"legendgroup\":\"adacg, sjlt\",\"marker\":{\"color\":\"#636efa\",\"pattern\":{\"shape\":\"\\u002f\"}},\"name\":\"adacg, sjlt\",\"offsetgroup\":\"adacg, sjlt\",\"orientation\":\"v\",\"showlegend\":false,\"texttemplate\":\"%{value:.2s}\",\"x\":[\"sjlt\"],\"xaxis\":\"x7\",\"y\":[1.037484811666824],\"yaxis\":\"y7\",\"type\":\"histogram\",\"cliponaxis\":false,\"textangle\":0,\"textposition\":\"outside\"},{\"alignmentgroup\":\"True\",\"bingroup\":\"x\",\"histfunc\":\"sum\",\"hovertemplate\":\"method=adacg\\u003cbr\\u003esketch_fn=%{x}\\u003cbr\\u003en=2048\\u003cbr\\u003edeff=32\\u003cbr\\u003esum of time=%{y}\\u003cextra\\u003e\\u003c\\u002fextra\\u003e\",\"legendgroup\":\"adacg, srht\",\"marker\":{\"color\":\"#636efa\",\"pattern\":{\"shape\":\"\\\\\"}},\"name\":\"adacg, srht\",\"offsetgroup\":\"adacg, srht\",\"orientation\":\"v\",\"showlegend\":true,\"texttemplate\":\"%{value:.2s}\",\"x\":[\"srht\"],\"xaxis\":\"x8\",\"y\":[0.17404522033333097],\"yaxis\":\"y8\",\"type\":\"histogram\",\"cliponaxis\":false,\"textangle\":0,\"textposition\":\"outside\"},{\"alignmentgroup\":\"True\",\"bingroup\":\"x\",\"histfunc\":\"sum\",\"hovertemplate\":\"method=adacg\\u003cbr\\u003esketch_fn=%{x}\\u003cbr\\u003en=2048\\u003cbr\\u003edeff=64\\u003cbr\\u003esum of time=%{y}\\u003cextra\\u003e\\u003c\\u002fextra\\u003e\",\"legendgroup\":\"adacg, srht\",\"marker\":{\"color\":\"#636efa\",\"pattern\":{\"shape\":\"\\\\\"}},\"name\":\"adacg, srht\",\"offsetgroup\":\"adacg, srht\",\"orientation\":\"v\",\"showlegend\":false,\"texttemplate\":\"%{value:.2s}\",\"x\":[\"srht\"],\"xaxis\":\"x9\",\"y\":[0.33524405600004076],\"yaxis\":\"y9\",\"type\":\"histogram\",\"cliponaxis\":false,\"textangle\":0,\"textposition\":\"outside\"},{\"alignmentgroup\":\"True\",\"bingroup\":\"x\",\"histfunc\":\"sum\",\"hovertemplate\":\"method=adacg\\u003cbr\\u003esketch_fn=%{x}\\u003cbr\\u003en=2048\\u003cbr\\u003edeff=128\\u003cbr\\u003esum of time=%{y}\\u003cextra\\u003e\\u003c\\u002fextra\\u003e\",\"legendgroup\":\"adacg, srht\",\"marker\":{\"color\":\"#636efa\",\"pattern\":{\"shape\":\"\\\\\"}},\"name\":\"adacg, srht\",\"offsetgroup\":\"adacg, srht\",\"orientation\":\"v\",\"showlegend\":false,\"texttemplate\":\"%{value:.2s}\",\"x\":[\"srht\"],\"xaxis\":\"x10\",\"y\":[0.3588618150000305],\"yaxis\":\"y10\",\"type\":\"histogram\",\"cliponaxis\":false,\"textangle\":0,\"textposition\":\"outside\"},{\"alignmentgroup\":\"True\",\"bingroup\":\"x\",\"histfunc\":\"sum\",\"hovertemplate\":\"method=adacg\\u003cbr\\u003esketch_fn=%{x}\\u003cbr\\u003en=2048\\u003cbr\\u003edeff=256\\u003cbr\\u003esum of time=%{y}\\u003cextra\\u003e\\u003c\\u002fextra\\u003e\",\"legendgroup\":\"adacg, srht\",\"marker\":{\"color\":\"#636efa\",\"pattern\":{\"shape\":\"\\\\\"}},\"name\":\"adacg, srht\",\"offsetgroup\":\"adacg, srht\",\"orientation\":\"v\",\"showlegend\":false,\"texttemplate\":\"%{value:.2s}\",\"x\":[\"srht\"],\"xaxis\":\"x11\",\"y\":[0.41636652466695523],\"yaxis\":\"y11\",\"type\":\"histogram\",\"cliponaxis\":false,\"textangle\":0,\"textposition\":\"outside\"},{\"alignmentgroup\":\"True\",\"bingroup\":\"x\",\"histfunc\":\"sum\",\"hovertemplate\":\"method=adacg\\u003cbr\\u003esketch_fn=%{x}\\u003cbr\\u003en=2048\\u003cbr\\u003edeff=512\\u003cbr\\u003esum of time=%{y}\\u003cextra\\u003e\\u003c\\u002fextra\\u003e\",\"legendgroup\":\"adacg, srht\",\"marker\":{\"color\":\"#636efa\",\"pattern\":{\"shape\":\"\\\\\"}},\"name\":\"adacg, srht\",\"offsetgroup\":\"adacg, srht\",\"orientation\":\"v\",\"showlegend\":false,\"texttemplate\":\"%{value:.2s}\",\"x\":[\"srht\"],\"xaxis\":\"x12\",\"y\":[0.6090869436666253],\"yaxis\":\"y12\",\"type\":\"histogram\",\"cliponaxis\":false,\"textangle\":0,\"textposition\":\"outside\"},{\"alignmentgroup\":\"True\",\"bingroup\":\"x\",\"histfunc\":\"sum\",\"hovertemplate\":\"method=adacg\\u003cbr\\u003esketch_fn=%{x}\\u003cbr\\u003en=2048\\u003cbr\\u003edeff=1024\\u003cbr\\u003esum of time=%{y}\\u003cextra\\u003e\\u003c\\u002fextra\\u003e\",\"legendgroup\":\"adacg, srht\",\"marker\":{\"color\":\"#636efa\",\"pattern\":{\"shape\":\"\\\\\"}},\"name\":\"adacg, srht\",\"offsetgroup\":\"adacg, srht\",\"orientation\":\"v\",\"showlegend\":false,\"texttemplate\":\"%{value:.2s}\",\"x\":[\"srht\"],\"xaxis\":\"x13\",\"y\":[0.6030274473329579],\"yaxis\":\"y13\",\"type\":\"histogram\",\"cliponaxis\":false,\"textangle\":0,\"textposition\":\"outside\"},{\"alignmentgroup\":\"True\",\"bingroup\":\"x\",\"histfunc\":\"sum\",\"hovertemplate\":\"method=adacg\\u003cbr\\u003esketch_fn=%{x}\\u003cbr\\u003en=2048\\u003cbr\\u003edeff=2048\\u003cbr\\u003esum of time=%{y}\\u003cextra\\u003e\\u003c\\u002fextra\\u003e\",\"legendgroup\":\"adacg, srht\",\"marker\":{\"color\":\"#636efa\",\"pattern\":{\"shape\":\"\\\\\"}},\"name\":\"adacg, srht\",\"offsetgroup\":\"adacg, srht\",\"orientation\":\"v\",\"showlegend\":false,\"texttemplate\":\"%{value:.2s}\",\"x\":[\"srht\"],\"xaxis\":\"x14\",\"y\":[0.6053224139996018],\"yaxis\":\"y14\",\"type\":\"histogram\",\"cliponaxis\":false,\"textangle\":0,\"textposition\":\"outside\"},{\"alignmentgroup\":\"True\",\"bingroup\":\"x\",\"histfunc\":\"sum\",\"hovertemplate\":\"method=adacg\\u003cbr\\u003esketch_fn=%{x}\\u003cbr\\u003en=4096\\u003cbr\\u003edeff=32\\u003cbr\\u003esum of time=%{y}\\u003cextra\\u003e\\u003c\\u002fextra\\u003e\",\"legendgroup\":\"adacg, srht\",\"marker\":{\"color\":\"#636efa\",\"pattern\":{\"shape\":\"\\\\\"}},\"name\":\"adacg, srht\",\"offsetgroup\":\"adacg, srht\",\"orientation\":\"v\",\"showlegend\":false,\"texttemplate\":\"%{value:.2s}\",\"x\":[\"srht\"],\"xaxis\":\"x\",\"y\":[0.37499856766711065],\"yaxis\":\"y\",\"type\":\"histogram\",\"cliponaxis\":false,\"textangle\":0,\"textposition\":\"outside\"},{\"alignmentgroup\":\"True\",\"bingroup\":\"x\",\"histfunc\":\"sum\",\"hovertemplate\":\"method=adacg\\u003cbr\\u003esketch_fn=%{x}\\u003cbr\\u003en=4096\\u003cbr\\u003edeff=64\\u003cbr\\u003esum of time=%{y}\\u003cextra\\u003e\\u003c\\u002fextra\\u003e\",\"legendgroup\":\"adacg, srht\",\"marker\":{\"color\":\"#636efa\",\"pattern\":{\"shape\":\"\\\\\"}},\"name\":\"adacg, srht\",\"offsetgroup\":\"adacg, srht\",\"orientation\":\"v\",\"showlegend\":false,\"texttemplate\":\"%{value:.2s}\",\"x\":[\"srht\"],\"xaxis\":\"x2\",\"y\":[0.6527991159994901],\"yaxis\":\"y2\",\"type\":\"histogram\",\"cliponaxis\":false,\"textangle\":0,\"textposition\":\"outside\"},{\"alignmentgroup\":\"True\",\"bingroup\":\"x\",\"histfunc\":\"sum\",\"hovertemplate\":\"method=adacg\\u003cbr\\u003esketch_fn=%{x}\\u003cbr\\u003en=4096\\u003cbr\\u003edeff=128\\u003cbr\\u003esum of time=%{y}\\u003cextra\\u003e\\u003c\\u002fextra\\u003e\",\"legendgroup\":\"adacg, srht\",\"marker\":{\"color\":\"#636efa\",\"pattern\":{\"shape\":\"\\\\\"}},\"name\":\"adacg, srht\",\"offsetgroup\":\"adacg, srht\",\"orientation\":\"v\",\"showlegend\":false,\"texttemplate\":\"%{value:.2s}\",\"x\":[\"srht\"],\"xaxis\":\"x3\",\"y\":[0.6867074839998774],\"yaxis\":\"y3\",\"type\":\"histogram\",\"cliponaxis\":false,\"textangle\":0,\"textposition\":\"outside\"},{\"alignmentgroup\":\"True\",\"bingroup\":\"x\",\"histfunc\":\"sum\",\"hovertemplate\":\"method=adacg\\u003cbr\\u003esketch_fn=%{x}\\u003cbr\\u003en=4096\\u003cbr\\u003edeff=256\\u003cbr\\u003esum of time=%{y}\\u003cextra\\u003e\\u003c\\u002fextra\\u003e\",\"legendgroup\":\"adacg, srht\",\"marker\":{\"color\":\"#636efa\",\"pattern\":{\"shape\":\"\\\\\"}},\"name\":\"adacg, srht\",\"offsetgroup\":\"adacg, srht\",\"orientation\":\"v\",\"showlegend\":false,\"texttemplate\":\"%{value:.2s}\",\"x\":[\"srht\"],\"xaxis\":\"x4\",\"y\":[0.717279701333003],\"yaxis\":\"y4\",\"type\":\"histogram\",\"cliponaxis\":false,\"textangle\":0,\"textposition\":\"outside\"},{\"alignmentgroup\":\"True\",\"bingroup\":\"x\",\"histfunc\":\"sum\",\"hovertemplate\":\"method=adacg\\u003cbr\\u003esketch_fn=%{x}\\u003cbr\\u003en=4096\\u003cbr\\u003edeff=512\\u003cbr\\u003esum of time=%{y}\\u003cextra\\u003e\\u003c\\u002fextra\\u003e\",\"legendgroup\":\"adacg, srht\",\"marker\":{\"color\":\"#636efa\",\"pattern\":{\"shape\":\"\\\\\"}},\"name\":\"adacg, srht\",\"offsetgroup\":\"adacg, srht\",\"orientation\":\"v\",\"showlegend\":false,\"texttemplate\":\"%{value:.2s}\",\"x\":[\"srht\"],\"xaxis\":\"x5\",\"y\":[1.0663238446662338],\"yaxis\":\"y5\",\"type\":\"histogram\",\"cliponaxis\":false,\"textangle\":0,\"textposition\":\"outside\"},{\"alignmentgroup\":\"True\",\"bingroup\":\"x\",\"histfunc\":\"sum\",\"hovertemplate\":\"method=adacg\\u003cbr\\u003esketch_fn=%{x}\\u003cbr\\u003en=4096\\u003cbr\\u003edeff=1024\\u003cbr\\u003esum of time=%{y}\\u003cextra\\u003e\\u003c\\u002fextra\\u003e\",\"legendgroup\":\"adacg, srht\",\"marker\":{\"color\":\"#636efa\",\"pattern\":{\"shape\":\"\\\\\"}},\"name\":\"adacg, srht\",\"offsetgroup\":\"adacg, srht\",\"orientation\":\"v\",\"showlegend\":false,\"texttemplate\":\"%{value:.2s}\",\"x\":[\"srht\"],\"xaxis\":\"x6\",\"y\":[1.069327151333103],\"yaxis\":\"y6\",\"type\":\"histogram\",\"cliponaxis\":false,\"textangle\":0,\"textposition\":\"outside\"},{\"alignmentgroup\":\"True\",\"bingroup\":\"x\",\"histfunc\":\"sum\",\"hovertemplate\":\"method=adacg\\u003cbr\\u003esketch_fn=%{x}\\u003cbr\\u003en=4096\\u003cbr\\u003edeff=2048\\u003cbr\\u003esum of time=%{y}\\u003cextra\\u003e\\u003c\\u002fextra\\u003e\",\"legendgroup\":\"adacg, srht\",\"marker\":{\"color\":\"#636efa\",\"pattern\":{\"shape\":\"\\\\\"}},\"name\":\"adacg, srht\",\"offsetgroup\":\"adacg, srht\",\"orientation\":\"v\",\"showlegend\":false,\"texttemplate\":\"%{value:.2s}\",\"x\":[\"srht\"],\"xaxis\":\"x7\",\"y\":[1.2088883729999602],\"yaxis\":\"y7\",\"type\":\"histogram\",\"cliponaxis\":false,\"textangle\":0,\"textposition\":\"outside\"},{\"alignmentgroup\":\"True\",\"bingroup\":\"x\",\"histfunc\":\"sum\",\"hovertemplate\":\"method=cg\\u003cbr\\u003esketch_fn=%{x}\\u003cbr\\u003en=2048\\u003cbr\\u003edeff=32\\u003cbr\\u003esum of time=%{y}\\u003cextra\\u003e\\u003c\\u002fextra\\u003e\",\"legendgroup\":\"cg, none\",\"marker\":{\"color\":\"#EF553B\",\"pattern\":{\"shape\":\"x\"}},\"name\":\"cg, none\",\"offsetgroup\":\"cg, none\",\"orientation\":\"v\",\"showlegend\":true,\"texttemplate\":\"%{value:.2s}\",\"x\":[\"none\"],\"xaxis\":\"x8\",\"y\":[0.09100165333332673],\"yaxis\":\"y8\",\"type\":\"histogram\",\"cliponaxis\":false,\"textangle\":0,\"textposition\":\"outside\"},{\"alignmentgroup\":\"True\",\"bingroup\":\"x\",\"histfunc\":\"sum\",\"hovertemplate\":\"method=cg\\u003cbr\\u003esketch_fn=%{x}\\u003cbr\\u003en=2048\\u003cbr\\u003edeff=64\\u003cbr\\u003esum of time=%{y}\\u003cextra\\u003e\\u003c\\u002fextra\\u003e\",\"legendgroup\":\"cg, none\",\"marker\":{\"color\":\"#EF553B\",\"pattern\":{\"shape\":\"x\"}},\"name\":\"cg, none\",\"offsetgroup\":\"cg, none\",\"orientation\":\"v\",\"showlegend\":false,\"texttemplate\":\"%{value:.2s}\",\"x\":[\"none\"],\"xaxis\":\"x9\",\"y\":[0.234206845333271],\"yaxis\":\"y9\",\"type\":\"histogram\",\"cliponaxis\":false,\"textangle\":0,\"textposition\":\"outside\"},{\"alignmentgroup\":\"True\",\"bingroup\":\"x\",\"histfunc\":\"sum\",\"hovertemplate\":\"method=cg\\u003cbr\\u003esketch_fn=%{x}\\u003cbr\\u003en=2048\\u003cbr\\u003edeff=128\\u003cbr\\u003esum of time=%{y}\\u003cextra\\u003e\\u003c\\u002fextra\\u003e\",\"legendgroup\":\"cg, none\",\"marker\":{\"color\":\"#EF553B\",\"pattern\":{\"shape\":\"x\"}},\"name\":\"cg, none\",\"offsetgroup\":\"cg, none\",\"orientation\":\"v\",\"showlegend\":false,\"texttemplate\":\"%{value:.2s}\",\"x\":[\"none\"],\"xaxis\":\"x10\",\"y\":[1.0927896786667284],\"yaxis\":\"y10\",\"type\":\"histogram\",\"cliponaxis\":false,\"textangle\":0,\"textposition\":\"outside\"},{\"alignmentgroup\":\"True\",\"bingroup\":\"x\",\"histfunc\":\"sum\",\"hovertemplate\":\"method=cg\\u003cbr\\u003esketch_fn=%{x}\\u003cbr\\u003en=2048\\u003cbr\\u003edeff=256\\u003cbr\\u003esum of time=%{y}\\u003cextra\\u003e\\u003c\\u002fextra\\u003e\",\"legendgroup\":\"cg, none\",\"marker\":{\"color\":\"#EF553B\",\"pattern\":{\"shape\":\"x\"}},\"name\":\"cg, none\",\"offsetgroup\":\"cg, none\",\"orientation\":\"v\",\"showlegend\":false,\"texttemplate\":\"%{value:.2s}\",\"x\":[\"none\"],\"xaxis\":\"x11\",\"y\":[2.4578778523330884],\"yaxis\":\"y11\",\"type\":\"histogram\",\"cliponaxis\":false,\"textangle\":0,\"textposition\":\"outside\"},{\"alignmentgroup\":\"True\",\"bingroup\":\"x\",\"histfunc\":\"sum\",\"hovertemplate\":\"method=cg\\u003cbr\\u003esketch_fn=%{x}\\u003cbr\\u003en=2048\\u003cbr\\u003edeff=512\\u003cbr\\u003esum of time=%{y}\\u003cextra\\u003e\\u003c\\u002fextra\\u003e\",\"legendgroup\":\"cg, none\",\"marker\":{\"color\":\"#EF553B\",\"pattern\":{\"shape\":\"x\"}},\"name\":\"cg, none\",\"offsetgroup\":\"cg, none\",\"orientation\":\"v\",\"showlegend\":false,\"texttemplate\":\"%{value:.2s}\",\"x\":[\"none\"],\"xaxis\":\"x12\",\"y\":[2.7694473566665083],\"yaxis\":\"y12\",\"type\":\"histogram\",\"cliponaxis\":false,\"textangle\":0,\"textposition\":\"outside\"},{\"alignmentgroup\":\"True\",\"bingroup\":\"x\",\"histfunc\":\"sum\",\"hovertemplate\":\"method=cg\\u003cbr\\u003esketch_fn=%{x}\\u003cbr\\u003en=2048\\u003cbr\\u003edeff=1024\\u003cbr\\u003esum of time=%{y}\\u003cextra\\u003e\\u003c\\u002fextra\\u003e\",\"legendgroup\":\"cg, none\",\"marker\":{\"color\":\"#EF553B\",\"pattern\":{\"shape\":\"x\"}},\"name\":\"cg, none\",\"offsetgroup\":\"cg, none\",\"orientation\":\"v\",\"showlegend\":false,\"texttemplate\":\"%{value:.2s}\",\"x\":[\"none\"],\"xaxis\":\"x13\",\"y\":[2.7617952553331024],\"yaxis\":\"y13\",\"type\":\"histogram\",\"cliponaxis\":false,\"textangle\":0,\"textposition\":\"outside\"},{\"alignmentgroup\":\"True\",\"bingroup\":\"x\",\"histfunc\":\"sum\",\"hovertemplate\":\"method=cg\\u003cbr\\u003esketch_fn=%{x}\\u003cbr\\u003en=2048\\u003cbr\\u003edeff=2048\\u003cbr\\u003esum of time=%{y}\\u003cextra\\u003e\\u003c\\u002fextra\\u003e\",\"legendgroup\":\"cg, none\",\"marker\":{\"color\":\"#EF553B\",\"pattern\":{\"shape\":\"x\"}},\"name\":\"cg, none\",\"offsetgroup\":\"cg, none\",\"orientation\":\"v\",\"showlegend\":false,\"texttemplate\":\"%{value:.2s}\",\"x\":[\"none\"],\"xaxis\":\"x14\",\"y\":[2.7347294829999855],\"yaxis\":\"y14\",\"type\":\"histogram\",\"cliponaxis\":false,\"textangle\":0,\"textposition\":\"outside\"},{\"alignmentgroup\":\"True\",\"bingroup\":\"x\",\"histfunc\":\"sum\",\"hovertemplate\":\"method=cg\\u003cbr\\u003esketch_fn=%{x}\\u003cbr\\u003en=4096\\u003cbr\\u003edeff=32\\u003cbr\\u003esum of time=%{y}\\u003cextra\\u003e\\u003c\\u002fextra\\u003e\",\"legendgroup\":\"cg, none\",\"marker\":{\"color\":\"#EF553B\",\"pattern\":{\"shape\":\"x\"}},\"name\":\"cg, none\",\"offsetgroup\":\"cg, none\",\"orientation\":\"v\",\"showlegend\":false,\"texttemplate\":\"%{value:.2s}\",\"x\":[\"none\"],\"xaxis\":\"x\",\"y\":[0.21109571799994833],\"yaxis\":\"y\",\"type\":\"histogram\",\"cliponaxis\":false,\"textangle\":0,\"textposition\":\"outside\"},{\"alignmentgroup\":\"True\",\"bingroup\":\"x\",\"histfunc\":\"sum\",\"hovertemplate\":\"method=cg\\u003cbr\\u003esketch_fn=%{x}\\u003cbr\\u003en=4096\\u003cbr\\u003edeff=64\\u003cbr\\u003esum of time=%{y}\\u003cextra\\u003e\\u003c\\u002fextra\\u003e\",\"legendgroup\":\"cg, none\",\"marker\":{\"color\":\"#EF553B\",\"pattern\":{\"shape\":\"x\"}},\"name\":\"cg, none\",\"offsetgroup\":\"cg, none\",\"orientation\":\"v\",\"showlegend\":false,\"texttemplate\":\"%{value:.2s}\",\"x\":[\"none\"],\"xaxis\":\"x2\",\"y\":[0.4892569260003559],\"yaxis\":\"y2\",\"type\":\"histogram\",\"cliponaxis\":false,\"textangle\":0,\"textposition\":\"outside\"},{\"alignmentgroup\":\"True\",\"bingroup\":\"x\",\"histfunc\":\"sum\",\"hovertemplate\":\"method=cg\\u003cbr\\u003esketch_fn=%{x}\\u003cbr\\u003en=4096\\u003cbr\\u003edeff=128\\u003cbr\\u003esum of time=%{y}\\u003cextra\\u003e\\u003c\\u002fextra\\u003e\",\"legendgroup\":\"cg, none\",\"marker\":{\"color\":\"#EF553B\",\"pattern\":{\"shape\":\"x\"}},\"name\":\"cg, none\",\"offsetgroup\":\"cg, none\",\"orientation\":\"v\",\"showlegend\":false,\"texttemplate\":\"%{value:.2s}\",\"x\":[\"none\"],\"xaxis\":\"x3\",\"y\":[2.285746705000444],\"yaxis\":\"y3\",\"type\":\"histogram\",\"cliponaxis\":false,\"textangle\":0,\"textposition\":\"outside\"},{\"alignmentgroup\":\"True\",\"bingroup\":\"x\",\"histfunc\":\"sum\",\"hovertemplate\":\"method=cg\\u003cbr\\u003esketch_fn=%{x}\\u003cbr\\u003en=4096\\u003cbr\\u003edeff=256\\u003cbr\\u003esum of time=%{y}\\u003cextra\\u003e\\u003c\\u002fextra\\u003e\",\"legendgroup\":\"cg, none\",\"marker\":{\"color\":\"#EF553B\",\"pattern\":{\"shape\":\"x\"}},\"name\":\"cg, none\",\"offsetgroup\":\"cg, none\",\"orientation\":\"v\",\"showlegend\":false,\"texttemplate\":\"%{value:.2s}\",\"x\":[\"none\"],\"xaxis\":\"x4\",\"y\":[4.736599034333267],\"yaxis\":\"y4\",\"type\":\"histogram\",\"cliponaxis\":false,\"textangle\":0,\"textposition\":\"outside\"},{\"alignmentgroup\":\"True\",\"bingroup\":\"x\",\"histfunc\":\"sum\",\"hovertemplate\":\"method=cg\\u003cbr\\u003esketch_fn=%{x}\\u003cbr\\u003en=4096\\u003cbr\\u003edeff=512\\u003cbr\\u003esum of time=%{y}\\u003cextra\\u003e\\u003c\\u002fextra\\u003e\",\"legendgroup\":\"cg, none\",\"marker\":{\"color\":\"#EF553B\",\"pattern\":{\"shape\":\"x\"}},\"name\":\"cg, none\",\"offsetgroup\":\"cg, none\",\"orientation\":\"v\",\"showlegend\":false,\"texttemplate\":\"%{value:.2s}\",\"x\":[\"none\"],\"xaxis\":\"x5\",\"y\":[6.15836160900047],\"yaxis\":\"y5\",\"type\":\"histogram\",\"cliponaxis\":false,\"textangle\":0,\"textposition\":\"outside\"},{\"alignmentgroup\":\"True\",\"bingroup\":\"x\",\"histfunc\":\"sum\",\"hovertemplate\":\"method=cg\\u003cbr\\u003esketch_fn=%{x}\\u003cbr\\u003en=4096\\u003cbr\\u003edeff=1024\\u003cbr\\u003esum of time=%{y}\\u003cextra\\u003e\\u003c\\u002fextra\\u003e\",\"legendgroup\":\"cg, none\",\"marker\":{\"color\":\"#EF553B\",\"pattern\":{\"shape\":\"x\"}},\"name\":\"cg, none\",\"offsetgroup\":\"cg, none\",\"orientation\":\"v\",\"showlegend\":false,\"texttemplate\":\"%{value:.2s}\",\"x\":[\"none\"],\"xaxis\":\"x6\",\"y\":[6.17049582433295],\"yaxis\":\"y6\",\"type\":\"histogram\",\"cliponaxis\":false,\"textangle\":0,\"textposition\":\"outside\"},{\"alignmentgroup\":\"True\",\"bingroup\":\"x\",\"histfunc\":\"sum\",\"hovertemplate\":\"method=cg\\u003cbr\\u003esketch_fn=%{x}\\u003cbr\\u003en=4096\\u003cbr\\u003edeff=2048\\u003cbr\\u003esum of time=%{y}\\u003cextra\\u003e\\u003c\\u002fextra\\u003e\",\"legendgroup\":\"cg, none\",\"marker\":{\"color\":\"#EF553B\",\"pattern\":{\"shape\":\"x\"}},\"name\":\"cg, none\",\"offsetgroup\":\"cg, none\",\"orientation\":\"v\",\"showlegend\":false,\"texttemplate\":\"%{value:.2s}\",\"x\":[\"none\"],\"xaxis\":\"x7\",\"y\":[7.918150335333848],\"yaxis\":\"y7\",\"type\":\"histogram\",\"cliponaxis\":false,\"textangle\":0,\"textposition\":\"outside\"},{\"alignmentgroup\":\"True\",\"bingroup\":\"x\",\"histfunc\":\"sum\",\"hovertemplate\":\"method=dm\\u003cbr\\u003esketch_fn=%{x}\\u003cbr\\u003en=2048\\u003cbr\\u003edeff=32\\u003cbr\\u003esum of time=%{y}\\u003cextra\\u003e\\u003c\\u002fextra\\u003e\",\"legendgroup\":\"dm, none\",\"marker\":{\"color\":\"#00cc96\",\"pattern\":{\"shape\":\"x\"}},\"name\":\"dm, none\",\"offsetgroup\":\"dm, none\",\"orientation\":\"v\",\"showlegend\":true,\"texttemplate\":\"%{value:.2s}\",\"x\":[\"none\"],\"xaxis\":\"x8\",\"y\":[0.3750777069999458],\"yaxis\":\"y8\",\"type\":\"histogram\",\"cliponaxis\":false,\"textangle\":0,\"textposition\":\"outside\"},{\"alignmentgroup\":\"True\",\"bingroup\":\"x\",\"histfunc\":\"sum\",\"hovertemplate\":\"method=dm\\u003cbr\\u003esketch_fn=%{x}\\u003cbr\\u003en=2048\\u003cbr\\u003edeff=64\\u003cbr\\u003esum of time=%{y}\\u003cextra\\u003e\\u003c\\u002fextra\\u003e\",\"legendgroup\":\"dm, none\",\"marker\":{\"color\":\"#00cc96\",\"pattern\":{\"shape\":\"x\"}},\"name\":\"dm, none\",\"offsetgroup\":\"dm, none\",\"orientation\":\"v\",\"showlegend\":false,\"texttemplate\":\"%{value:.2s}\",\"x\":[\"none\"],\"xaxis\":\"x9\",\"y\":[0.37607070100011697],\"yaxis\":\"y9\",\"type\":\"histogram\",\"cliponaxis\":false,\"textangle\":0,\"textposition\":\"outside\"},{\"alignmentgroup\":\"True\",\"bingroup\":\"x\",\"histfunc\":\"sum\",\"hovertemplate\":\"method=dm\\u003cbr\\u003esketch_fn=%{x}\\u003cbr\\u003en=2048\\u003cbr\\u003edeff=128\\u003cbr\\u003esum of time=%{y}\\u003cextra\\u003e\\u003c\\u002fextra\\u003e\",\"legendgroup\":\"dm, none\",\"marker\":{\"color\":\"#00cc96\",\"pattern\":{\"shape\":\"x\"}},\"name\":\"dm, none\",\"offsetgroup\":\"dm, none\",\"orientation\":\"v\",\"showlegend\":false,\"texttemplate\":\"%{value:.2s}\",\"x\":[\"none\"],\"xaxis\":\"x10\",\"y\":[0.3946093570002631],\"yaxis\":\"y10\",\"type\":\"histogram\",\"cliponaxis\":false,\"textangle\":0,\"textposition\":\"outside\"},{\"alignmentgroup\":\"True\",\"bingroup\":\"x\",\"histfunc\":\"sum\",\"hovertemplate\":\"method=dm\\u003cbr\\u003esketch_fn=%{x}\\u003cbr\\u003en=2048\\u003cbr\\u003edeff=256\\u003cbr\\u003esum of time=%{y}\\u003cextra\\u003e\\u003c\\u002fextra\\u003e\",\"legendgroup\":\"dm, none\",\"marker\":{\"color\":\"#00cc96\",\"pattern\":{\"shape\":\"x\"}},\"name\":\"dm, none\",\"offsetgroup\":\"dm, none\",\"orientation\":\"v\",\"showlegend\":false,\"texttemplate\":\"%{value:.2s}\",\"x\":[\"none\"],\"xaxis\":\"x11\",\"y\":[0.38437765999969997],\"yaxis\":\"y11\",\"type\":\"histogram\",\"cliponaxis\":false,\"textangle\":0,\"textposition\":\"outside\"},{\"alignmentgroup\":\"True\",\"bingroup\":\"x\",\"histfunc\":\"sum\",\"hovertemplate\":\"method=dm\\u003cbr\\u003esketch_fn=%{x}\\u003cbr\\u003en=2048\\u003cbr\\u003edeff=512\\u003cbr\\u003esum of time=%{y}\\u003cextra\\u003e\\u003c\\u002fextra\\u003e\",\"legendgroup\":\"dm, none\",\"marker\":{\"color\":\"#00cc96\",\"pattern\":{\"shape\":\"x\"}},\"name\":\"dm, none\",\"offsetgroup\":\"dm, none\",\"orientation\":\"v\",\"showlegend\":false,\"texttemplate\":\"%{value:.2s}\",\"x\":[\"none\"],\"xaxis\":\"x12\",\"y\":[0.3773334130000876],\"yaxis\":\"y12\",\"type\":\"histogram\",\"cliponaxis\":false,\"textangle\":0,\"textposition\":\"outside\"},{\"alignmentgroup\":\"True\",\"bingroup\":\"x\",\"histfunc\":\"sum\",\"hovertemplate\":\"method=dm\\u003cbr\\u003esketch_fn=%{x}\\u003cbr\\u003en=2048\\u003cbr\\u003edeff=1024\\u003cbr\\u003esum of time=%{y}\\u003cextra\\u003e\\u003c\\u002fextra\\u003e\",\"legendgroup\":\"dm, none\",\"marker\":{\"color\":\"#00cc96\",\"pattern\":{\"shape\":\"x\"}},\"name\":\"dm, none\",\"offsetgroup\":\"dm, none\",\"orientation\":\"v\",\"showlegend\":false,\"texttemplate\":\"%{value:.2s}\",\"x\":[\"none\"],\"xaxis\":\"x13\",\"y\":[0.3994282060002661],\"yaxis\":\"y13\",\"type\":\"histogram\",\"cliponaxis\":false,\"textangle\":0,\"textposition\":\"outside\"},{\"alignmentgroup\":\"True\",\"bingroup\":\"x\",\"histfunc\":\"sum\",\"hovertemplate\":\"method=dm\\u003cbr\\u003esketch_fn=%{x}\\u003cbr\\u003en=2048\\u003cbr\\u003edeff=2048\\u003cbr\\u003esum of time=%{y}\\u003cextra\\u003e\\u003c\\u002fextra\\u003e\",\"legendgroup\":\"dm, none\",\"marker\":{\"color\":\"#00cc96\",\"pattern\":{\"shape\":\"x\"}},\"name\":\"dm, none\",\"offsetgroup\":\"dm, none\",\"orientation\":\"v\",\"showlegend\":false,\"texttemplate\":\"%{value:.2s}\",\"x\":[\"none\"],\"xaxis\":\"x14\",\"y\":[0.4020539180000924],\"yaxis\":\"y14\",\"type\":\"histogram\",\"cliponaxis\":false,\"textangle\":0,\"textposition\":\"outside\"},{\"alignmentgroup\":\"True\",\"bingroup\":\"x\",\"histfunc\":\"sum\",\"hovertemplate\":\"method=dm\\u003cbr\\u003esketch_fn=%{x}\\u003cbr\\u003en=4096\\u003cbr\\u003edeff=32\\u003cbr\\u003esum of time=%{y}\\u003cextra\\u003e\\u003c\\u002fextra\\u003e\",\"legendgroup\":\"dm, none\",\"marker\":{\"color\":\"#00cc96\",\"pattern\":{\"shape\":\"x\"}},\"name\":\"dm, none\",\"offsetgroup\":\"dm, none\",\"orientation\":\"v\",\"showlegend\":false,\"texttemplate\":\"%{value:.2s}\",\"x\":[\"none\"],\"xaxis\":\"x\",\"y\":[0.6619589270012511],\"yaxis\":\"y\",\"type\":\"histogram\",\"cliponaxis\":false,\"textangle\":0,\"textposition\":\"outside\"},{\"alignmentgroup\":\"True\",\"bingroup\":\"x\",\"histfunc\":\"sum\",\"hovertemplate\":\"method=dm\\u003cbr\\u003esketch_fn=%{x}\\u003cbr\\u003en=4096\\u003cbr\\u003edeff=64\\u003cbr\\u003esum of time=%{y}\\u003cextra\\u003e\\u003c\\u002fextra\\u003e\",\"legendgroup\":\"dm, none\",\"marker\":{\"color\":\"#00cc96\",\"pattern\":{\"shape\":\"x\"}},\"name\":\"dm, none\",\"offsetgroup\":\"dm, none\",\"orientation\":\"v\",\"showlegend\":false,\"texttemplate\":\"%{value:.2s}\",\"x\":[\"none\"],\"xaxis\":\"x2\",\"y\":[0.6383898620006221],\"yaxis\":\"y2\",\"type\":\"histogram\",\"cliponaxis\":false,\"textangle\":0,\"textposition\":\"outside\"},{\"alignmentgroup\":\"True\",\"bingroup\":\"x\",\"histfunc\":\"sum\",\"hovertemplate\":\"method=dm\\u003cbr\\u003esketch_fn=%{x}\\u003cbr\\u003en=4096\\u003cbr\\u003edeff=128\\u003cbr\\u003esum of time=%{y}\\u003cextra\\u003e\\u003c\\u002fextra\\u003e\",\"legendgroup\":\"dm, none\",\"marker\":{\"color\":\"#00cc96\",\"pattern\":{\"shape\":\"x\"}},\"name\":\"dm, none\",\"offsetgroup\":\"dm, none\",\"orientation\":\"v\",\"showlegend\":false,\"texttemplate\":\"%{value:.2s}\",\"x\":[\"none\"],\"xaxis\":\"x3\",\"y\":[0.6438474560000031],\"yaxis\":\"y3\",\"type\":\"histogram\",\"cliponaxis\":false,\"textangle\":0,\"textposition\":\"outside\"},{\"alignmentgroup\":\"True\",\"bingroup\":\"x\",\"histfunc\":\"sum\",\"hovertemplate\":\"method=dm\\u003cbr\\u003esketch_fn=%{x}\\u003cbr\\u003en=4096\\u003cbr\\u003edeff=256\\u003cbr\\u003esum of time=%{y}\\u003cextra\\u003e\\u003c\\u002fextra\\u003e\",\"legendgroup\":\"dm, none\",\"marker\":{\"color\":\"#00cc96\",\"pattern\":{\"shape\":\"x\"}},\"name\":\"dm, none\",\"offsetgroup\":\"dm, none\",\"orientation\":\"v\",\"showlegend\":false,\"texttemplate\":\"%{value:.2s}\",\"x\":[\"none\"],\"xaxis\":\"x4\",\"y\":[0.6522969260004174],\"yaxis\":\"y4\",\"type\":\"histogram\",\"cliponaxis\":false,\"textangle\":0,\"textposition\":\"outside\"},{\"alignmentgroup\":\"True\",\"bingroup\":\"x\",\"histfunc\":\"sum\",\"hovertemplate\":\"method=dm\\u003cbr\\u003esketch_fn=%{x}\\u003cbr\\u003en=4096\\u003cbr\\u003edeff=512\\u003cbr\\u003esum of time=%{y}\\u003cextra\\u003e\\u003c\\u002fextra\\u003e\",\"legendgroup\":\"dm, none\",\"marker\":{\"color\":\"#00cc96\",\"pattern\":{\"shape\":\"x\"}},\"name\":\"dm, none\",\"offsetgroup\":\"dm, none\",\"orientation\":\"v\",\"showlegend\":false,\"texttemplate\":\"%{value:.2s}\",\"x\":[\"none\"],\"xaxis\":\"x5\",\"y\":[0.6665357930014579],\"yaxis\":\"y5\",\"type\":\"histogram\",\"cliponaxis\":false,\"textangle\":0,\"textposition\":\"outside\"},{\"alignmentgroup\":\"True\",\"bingroup\":\"x\",\"histfunc\":\"sum\",\"hovertemplate\":\"method=dm\\u003cbr\\u003esketch_fn=%{x}\\u003cbr\\u003en=4096\\u003cbr\\u003edeff=1024\\u003cbr\\u003esum of time=%{y}\\u003cextra\\u003e\\u003c\\u002fextra\\u003e\",\"legendgroup\":\"dm, none\",\"marker\":{\"color\":\"#00cc96\",\"pattern\":{\"shape\":\"x\"}},\"name\":\"dm, none\",\"offsetgroup\":\"dm, none\",\"orientation\":\"v\",\"showlegend\":false,\"texttemplate\":\"%{value:.2s}\",\"x\":[\"none\"],\"xaxis\":\"x6\",\"y\":[0.6747258970008261],\"yaxis\":\"y6\",\"type\":\"histogram\",\"cliponaxis\":false,\"textangle\":0,\"textposition\":\"outside\"},{\"alignmentgroup\":\"True\",\"bingroup\":\"x\",\"histfunc\":\"sum\",\"hovertemplate\":\"method=dm\\u003cbr\\u003esketch_fn=%{x}\\u003cbr\\u003en=4096\\u003cbr\\u003edeff=2048\\u003cbr\\u003esum of time=%{y}\\u003cextra\\u003e\\u003c\\u002fextra\\u003e\",\"legendgroup\":\"dm, none\",\"marker\":{\"color\":\"#00cc96\",\"pattern\":{\"shape\":\"x\"}},\"name\":\"dm, none\",\"offsetgroup\":\"dm, none\",\"orientation\":\"v\",\"showlegend\":false,\"texttemplate\":\"%{value:.2s}\",\"x\":[\"none\"],\"xaxis\":\"x7\",\"y\":[1.0519902940013708],\"yaxis\":\"y7\",\"type\":\"histogram\",\"cliponaxis\":false,\"textangle\":0,\"textposition\":\"outside\"},{\"alignmentgroup\":\"True\",\"bingroup\":\"x\",\"histfunc\":\"sum\",\"hovertemplate\":\"method=pcg\\u003cbr\\u003esketch_fn=%{x}\\u003cbr\\u003en=2048\\u003cbr\\u003edeff=32\\u003cbr\\u003esum of time=%{y}\\u003cextra\\u003e\\u003c\\u002fextra\\u003e\",\"legendgroup\":\"pcg, gaussian\",\"marker\":{\"color\":\"#ab63fa\",\"pattern\":{\"shape\":\"\"}},\"name\":\"pcg, gaussian\",\"offsetgroup\":\"pcg, gaussian\",\"orientation\":\"v\",\"showlegend\":true,\"texttemplate\":\"%{value:.2s}\",\"x\":[\"gaussian\"],\"xaxis\":\"x8\",\"y\":[0.8058033733332195],\"yaxis\":\"y8\",\"type\":\"histogram\",\"cliponaxis\":false,\"textangle\":0,\"textposition\":\"outside\"},{\"alignmentgroup\":\"True\",\"bingroup\":\"x\",\"histfunc\":\"sum\",\"hovertemplate\":\"method=pcg\\u003cbr\\u003esketch_fn=%{x}\\u003cbr\\u003en=2048\\u003cbr\\u003edeff=64\\u003cbr\\u003esum of time=%{y}\\u003cextra\\u003e\\u003c\\u002fextra\\u003e\",\"legendgroup\":\"pcg, gaussian\",\"marker\":{\"color\":\"#ab63fa\",\"pattern\":{\"shape\":\"\"}},\"name\":\"pcg, gaussian\",\"offsetgroup\":\"pcg, gaussian\",\"orientation\":\"v\",\"showlegend\":false,\"texttemplate\":\"%{value:.2s}\",\"x\":[\"gaussian\"],\"xaxis\":\"x9\",\"y\":[0.8010710006666764],\"yaxis\":\"y9\",\"type\":\"histogram\",\"cliponaxis\":false,\"textangle\":0,\"textposition\":\"outside\"},{\"alignmentgroup\":\"True\",\"bingroup\":\"x\",\"histfunc\":\"sum\",\"hovertemplate\":\"method=pcg\\u003cbr\\u003esketch_fn=%{x}\\u003cbr\\u003en=2048\\u003cbr\\u003edeff=128\\u003cbr\\u003esum of time=%{y}\\u003cextra\\u003e\\u003c\\u002fextra\\u003e\",\"legendgroup\":\"pcg, gaussian\",\"marker\":{\"color\":\"#ab63fa\",\"pattern\":{\"shape\":\"\"}},\"name\":\"pcg, gaussian\",\"offsetgroup\":\"pcg, gaussian\",\"orientation\":\"v\",\"showlegend\":false,\"texttemplate\":\"%{value:.2s}\",\"x\":[\"gaussian\"],\"xaxis\":\"x10\",\"y\":[0.8174031956667325],\"yaxis\":\"y10\",\"type\":\"histogram\",\"cliponaxis\":false,\"textangle\":0,\"textposition\":\"outside\"},{\"alignmentgroup\":\"True\",\"bingroup\":\"x\",\"histfunc\":\"sum\",\"hovertemplate\":\"method=pcg\\u003cbr\\u003esketch_fn=%{x}\\u003cbr\\u003en=2048\\u003cbr\\u003edeff=256\\u003cbr\\u003esum of time=%{y}\\u003cextra\\u003e\\u003c\\u002fextra\\u003e\",\"legendgroup\":\"pcg, gaussian\",\"marker\":{\"color\":\"#ab63fa\",\"pattern\":{\"shape\":\"\"}},\"name\":\"pcg, gaussian\",\"offsetgroup\":\"pcg, gaussian\",\"orientation\":\"v\",\"showlegend\":false,\"texttemplate\":\"%{value:.2s}\",\"x\":[\"gaussian\"],\"xaxis\":\"x11\",\"y\":[0.8431158069997763],\"yaxis\":\"y11\",\"type\":\"histogram\",\"cliponaxis\":false,\"textangle\":0,\"textposition\":\"outside\"},{\"alignmentgroup\":\"True\",\"bingroup\":\"x\",\"histfunc\":\"sum\",\"hovertemplate\":\"method=pcg\\u003cbr\\u003esketch_fn=%{x}\\u003cbr\\u003en=2048\\u003cbr\\u003edeff=512\\u003cbr\\u003esum of time=%{y}\\u003cextra\\u003e\\u003c\\u002fextra\\u003e\",\"legendgroup\":\"pcg, gaussian\",\"marker\":{\"color\":\"#ab63fa\",\"pattern\":{\"shape\":\"\"}},\"name\":\"pcg, gaussian\",\"offsetgroup\":\"pcg, gaussian\",\"orientation\":\"v\",\"showlegend\":false,\"texttemplate\":\"%{value:.2s}\",\"x\":[\"gaussian\"],\"xaxis\":\"x12\",\"y\":[0.8429927193334756],\"yaxis\":\"y12\",\"type\":\"histogram\",\"cliponaxis\":false,\"textangle\":0,\"textposition\":\"outside\"},{\"alignmentgroup\":\"True\",\"bingroup\":\"x\",\"histfunc\":\"sum\",\"hovertemplate\":\"method=pcg\\u003cbr\\u003esketch_fn=%{x}\\u003cbr\\u003en=2048\\u003cbr\\u003edeff=1024\\u003cbr\\u003esum of time=%{y}\\u003cextra\\u003e\\u003c\\u002fextra\\u003e\",\"legendgroup\":\"pcg, gaussian\",\"marker\":{\"color\":\"#ab63fa\",\"pattern\":{\"shape\":\"\"}},\"name\":\"pcg, gaussian\",\"offsetgroup\":\"pcg, gaussian\",\"orientation\":\"v\",\"showlegend\":false,\"texttemplate\":\"%{value:.2s}\",\"x\":[\"gaussian\"],\"xaxis\":\"x13\",\"y\":[0.9093891723335521],\"yaxis\":\"y13\",\"type\":\"histogram\",\"cliponaxis\":false,\"textangle\":0,\"textposition\":\"outside\"},{\"alignmentgroup\":\"True\",\"bingroup\":\"x\",\"histfunc\":\"sum\",\"hovertemplate\":\"method=pcg\\u003cbr\\u003esketch_fn=%{x}\\u003cbr\\u003en=2048\\u003cbr\\u003edeff=2048\\u003cbr\\u003esum of time=%{y}\\u003cextra\\u003e\\u003c\\u002fextra\\u003e\",\"legendgroup\":\"pcg, gaussian\",\"marker\":{\"color\":\"#ab63fa\",\"pattern\":{\"shape\":\"\"}},\"name\":\"pcg, gaussian\",\"offsetgroup\":\"pcg, gaussian\",\"orientation\":\"v\",\"showlegend\":false,\"texttemplate\":\"%{value:.2s}\",\"x\":[\"gaussian\"],\"xaxis\":\"x14\",\"y\":[2.0807059700000536],\"yaxis\":\"y14\",\"type\":\"histogram\",\"cliponaxis\":false,\"textangle\":0,\"textposition\":\"outside\"},{\"alignmentgroup\":\"True\",\"bingroup\":\"x\",\"histfunc\":\"sum\",\"hovertemplate\":\"method=pcg\\u003cbr\\u003esketch_fn=%{x}\\u003cbr\\u003en=4096\\u003cbr\\u003edeff=32\\u003cbr\\u003esum of time=%{y}\\u003cextra\\u003e\\u003c\\u002fextra\\u003e\",\"legendgroup\":\"pcg, gaussian\",\"marker\":{\"color\":\"#ab63fa\",\"pattern\":{\"shape\":\"\"}},\"name\":\"pcg, gaussian\",\"offsetgroup\":\"pcg, gaussian\",\"orientation\":\"v\",\"showlegend\":false,\"texttemplate\":\"%{value:.2s}\",\"x\":[\"gaussian\"],\"xaxis\":\"x\",\"y\":[2.0966222263335412],\"yaxis\":\"y\",\"type\":\"histogram\",\"cliponaxis\":false,\"textangle\":0,\"textposition\":\"outside\"},{\"alignmentgroup\":\"True\",\"bingroup\":\"x\",\"histfunc\":\"sum\",\"hovertemplate\":\"method=pcg\\u003cbr\\u003esketch_fn=%{x}\\u003cbr\\u003en=4096\\u003cbr\\u003edeff=64\\u003cbr\\u003esum of time=%{y}\\u003cextra\\u003e\\u003c\\u002fextra\\u003e\",\"legendgroup\":\"pcg, gaussian\",\"marker\":{\"color\":\"#ab63fa\",\"pattern\":{\"shape\":\"\"}},\"name\":\"pcg, gaussian\",\"offsetgroup\":\"pcg, gaussian\",\"orientation\":\"v\",\"showlegend\":false,\"texttemplate\":\"%{value:.2s}\",\"x\":[\"gaussian\"],\"xaxis\":\"x2\",\"y\":[2.0660163336676],\"yaxis\":\"y2\",\"type\":\"histogram\",\"cliponaxis\":false,\"textangle\":0,\"textposition\":\"outside\"},{\"alignmentgroup\":\"True\",\"bingroup\":\"x\",\"histfunc\":\"sum\",\"hovertemplate\":\"method=pcg\\u003cbr\\u003esketch_fn=%{x}\\u003cbr\\u003en=4096\\u003cbr\\u003edeff=128\\u003cbr\\u003esum of time=%{y}\\u003cextra\\u003e\\u003c\\u002fextra\\u003e\",\"legendgroup\":\"pcg, gaussian\",\"marker\":{\"color\":\"#ab63fa\",\"pattern\":{\"shape\":\"\"}},\"name\":\"pcg, gaussian\",\"offsetgroup\":\"pcg, gaussian\",\"orientation\":\"v\",\"showlegend\":false,\"texttemplate\":\"%{value:.2s}\",\"x\":[\"gaussian\"],\"xaxis\":\"x3\",\"y\":[2.0809950339995944],\"yaxis\":\"y3\",\"type\":\"histogram\",\"cliponaxis\":false,\"textangle\":0,\"textposition\":\"outside\"},{\"alignmentgroup\":\"True\",\"bingroup\":\"x\",\"histfunc\":\"sum\",\"hovertemplate\":\"method=pcg\\u003cbr\\u003esketch_fn=%{x}\\u003cbr\\u003en=4096\\u003cbr\\u003edeff=256\\u003cbr\\u003esum of time=%{y}\\u003cextra\\u003e\\u003c\\u002fextra\\u003e\",\"legendgroup\":\"pcg, gaussian\",\"marker\":{\"color\":\"#ab63fa\",\"pattern\":{\"shape\":\"\"}},\"name\":\"pcg, gaussian\",\"offsetgroup\":\"pcg, gaussian\",\"orientation\":\"v\",\"showlegend\":false,\"texttemplate\":\"%{value:.2s}\",\"x\":[\"gaussian\"],\"xaxis\":\"x4\",\"y\":[2.1520906103329858],\"yaxis\":\"y4\",\"type\":\"histogram\",\"cliponaxis\":false,\"textangle\":0,\"textposition\":\"outside\"},{\"alignmentgroup\":\"True\",\"bingroup\":\"x\",\"histfunc\":\"sum\",\"hovertemplate\":\"method=pcg\\u003cbr\\u003esketch_fn=%{x}\\u003cbr\\u003en=4096\\u003cbr\\u003edeff=512\\u003cbr\\u003esum of time=%{y}\\u003cextra\\u003e\\u003c\\u002fextra\\u003e\",\"legendgroup\":\"pcg, gaussian\",\"marker\":{\"color\":\"#ab63fa\",\"pattern\":{\"shape\":\"\"}},\"name\":\"pcg, gaussian\",\"offsetgroup\":\"pcg, gaussian\",\"orientation\":\"v\",\"showlegend\":false,\"texttemplate\":\"%{value:.2s}\",\"x\":[\"gaussian\"],\"xaxis\":\"x5\",\"y\":[2.1459318929998212],\"yaxis\":\"y5\",\"type\":\"histogram\",\"cliponaxis\":false,\"textangle\":0,\"textposition\":\"outside\"},{\"alignmentgroup\":\"True\",\"bingroup\":\"x\",\"histfunc\":\"sum\",\"hovertemplate\":\"method=pcg\\u003cbr\\u003esketch_fn=%{x}\\u003cbr\\u003en=4096\\u003cbr\\u003edeff=1024\\u003cbr\\u003esum of time=%{y}\\u003cextra\\u003e\\u003c\\u002fextra\\u003e\",\"legendgroup\":\"pcg, gaussian\",\"marker\":{\"color\":\"#ab63fa\",\"pattern\":{\"shape\":\"\"}},\"name\":\"pcg, gaussian\",\"offsetgroup\":\"pcg, gaussian\",\"orientation\":\"v\",\"showlegend\":false,\"texttemplate\":\"%{value:.2s}\",\"x\":[\"gaussian\"],\"xaxis\":\"x6\",\"y\":[2.1448743123334375],\"yaxis\":\"y6\",\"type\":\"histogram\",\"cliponaxis\":false,\"textangle\":0,\"textposition\":\"outside\"},{\"alignmentgroup\":\"True\",\"bingroup\":\"x\",\"histfunc\":\"sum\",\"hovertemplate\":\"method=pcg\\u003cbr\\u003esketch_fn=%{x}\\u003cbr\\u003en=4096\\u003cbr\\u003edeff=2048\\u003cbr\\u003esum of time=%{y}\\u003cextra\\u003e\\u003c\\u002fextra\\u003e\",\"legendgroup\":\"pcg, gaussian\",\"marker\":{\"color\":\"#ab63fa\",\"pattern\":{\"shape\":\"\"}},\"name\":\"pcg, gaussian\",\"offsetgroup\":\"pcg, gaussian\",\"orientation\":\"v\",\"showlegend\":false,\"texttemplate\":\"%{value:.2s}\",\"x\":[\"gaussian\"],\"xaxis\":\"x7\",\"y\":[2.3940465673337408],\"yaxis\":\"y7\",\"type\":\"histogram\",\"cliponaxis\":false,\"textangle\":0,\"textposition\":\"outside\"},{\"alignmentgroup\":\"True\",\"bingroup\":\"x\",\"histfunc\":\"sum\",\"hovertemplate\":\"method=pcg\\u003cbr\\u003esketch_fn=%{x}\\u003cbr\\u003en=2048\\u003cbr\\u003edeff=32\\u003cbr\\u003esum of time=%{y}\\u003cextra\\u003e\\u003c\\u002fextra\\u003e\",\"legendgroup\":\"pcg, sjlt\",\"marker\":{\"color\":\"#ab63fa\",\"pattern\":{\"shape\":\"\\u002f\"}},\"name\":\"pcg, sjlt\",\"offsetgroup\":\"pcg, sjlt\",\"orientation\":\"v\",\"showlegend\":true,\"texttemplate\":\"%{value:.2s}\",\"x\":[\"sjlt\"],\"xaxis\":\"x8\",\"y\":[0.473818367666657],\"yaxis\":\"y8\",\"type\":\"histogram\",\"cliponaxis\":false,\"textangle\":0,\"textposition\":\"outside\"},{\"alignmentgroup\":\"True\",\"bingroup\":\"x\",\"histfunc\":\"sum\",\"hovertemplate\":\"method=pcg\\u003cbr\\u003esketch_fn=%{x}\\u003cbr\\u003en=2048\\u003cbr\\u003edeff=64\\u003cbr\\u003esum of time=%{y}\\u003cextra\\u003e\\u003c\\u002fextra\\u003e\",\"legendgroup\":\"pcg, sjlt\",\"marker\":{\"color\":\"#ab63fa\",\"pattern\":{\"shape\":\"\\u002f\"}},\"name\":\"pcg, sjlt\",\"offsetgroup\":\"pcg, sjlt\",\"orientation\":\"v\",\"showlegend\":false,\"texttemplate\":\"%{value:.2s}\",\"x\":[\"sjlt\"],\"xaxis\":\"x9\",\"y\":[0.480362553000153],\"yaxis\":\"y9\",\"type\":\"histogram\",\"cliponaxis\":false,\"textangle\":0,\"textposition\":\"outside\"},{\"alignmentgroup\":\"True\",\"bingroup\":\"x\",\"histfunc\":\"sum\",\"hovertemplate\":\"method=pcg\\u003cbr\\u003esketch_fn=%{x}\\u003cbr\\u003en=2048\\u003cbr\\u003edeff=128\\u003cbr\\u003esum of time=%{y}\\u003cextra\\u003e\\u003c\\u002fextra\\u003e\",\"legendgroup\":\"pcg, sjlt\",\"marker\":{\"color\":\"#ab63fa\",\"pattern\":{\"shape\":\"\\u002f\"}},\"name\":\"pcg, sjlt\",\"offsetgroup\":\"pcg, sjlt\",\"orientation\":\"v\",\"showlegend\":false,\"texttemplate\":\"%{value:.2s}\",\"x\":[\"sjlt\"],\"xaxis\":\"x10\",\"y\":[0.5110561990001466],\"yaxis\":\"y10\",\"type\":\"histogram\",\"cliponaxis\":false,\"textangle\":0,\"textposition\":\"outside\"},{\"alignmentgroup\":\"True\",\"bingroup\":\"x\",\"histfunc\":\"sum\",\"hovertemplate\":\"method=pcg\\u003cbr\\u003esketch_fn=%{x}\\u003cbr\\u003en=2048\\u003cbr\\u003edeff=256\\u003cbr\\u003esum of time=%{y}\\u003cextra\\u003e\\u003c\\u002fextra\\u003e\",\"legendgroup\":\"pcg, sjlt\",\"marker\":{\"color\":\"#ab63fa\",\"pattern\":{\"shape\":\"\\u002f\"}},\"name\":\"pcg, sjlt\",\"offsetgroup\":\"pcg, sjlt\",\"orientation\":\"v\",\"showlegend\":false,\"texttemplate\":\"%{value:.2s}\",\"x\":[\"sjlt\"],\"xaxis\":\"x11\",\"y\":[0.5425923716669179],\"yaxis\":\"y11\",\"type\":\"histogram\",\"cliponaxis\":false,\"textangle\":0,\"textposition\":\"outside\"},{\"alignmentgroup\":\"True\",\"bingroup\":\"x\",\"histfunc\":\"sum\",\"hovertemplate\":\"method=pcg\\u003cbr\\u003esketch_fn=%{x}\\u003cbr\\u003en=2048\\u003cbr\\u003edeff=512\\u003cbr\\u003esum of time=%{y}\\u003cextra\\u003e\\u003c\\u002fextra\\u003e\",\"legendgroup\":\"pcg, sjlt\",\"marker\":{\"color\":\"#ab63fa\",\"pattern\":{\"shape\":\"\\u002f\"}},\"name\":\"pcg, sjlt\",\"offsetgroup\":\"pcg, sjlt\",\"orientation\":\"v\",\"showlegend\":false,\"texttemplate\":\"%{value:.2s}\",\"x\":[\"sjlt\"],\"xaxis\":\"x12\",\"y\":[0.6011989299998579],\"yaxis\":\"y12\",\"type\":\"histogram\",\"cliponaxis\":false,\"textangle\":0,\"textposition\":\"outside\"},{\"alignmentgroup\":\"True\",\"bingroup\":\"x\",\"histfunc\":\"sum\",\"hovertemplate\":\"method=pcg\\u003cbr\\u003esketch_fn=%{x}\\u003cbr\\u003en=2048\\u003cbr\\u003edeff=1024\\u003cbr\\u003esum of time=%{y}\\u003cextra\\u003e\\u003c\\u002fextra\\u003e\",\"legendgroup\":\"pcg, sjlt\",\"marker\":{\"color\":\"#ab63fa\",\"pattern\":{\"shape\":\"\\u002f\"}},\"name\":\"pcg, sjlt\",\"offsetgroup\":\"pcg, sjlt\",\"orientation\":\"v\",\"showlegend\":false,\"texttemplate\":\"%{value:.2s}\",\"x\":[\"sjlt\"],\"xaxis\":\"x13\",\"y\":[0.939442044000316],\"yaxis\":\"y13\",\"type\":\"histogram\",\"cliponaxis\":false,\"textangle\":0,\"textposition\":\"outside\"},{\"alignmentgroup\":\"True\",\"bingroup\":\"x\",\"histfunc\":\"sum\",\"hovertemplate\":\"method=pcg\\u003cbr\\u003esketch_fn=%{x}\\u003cbr\\u003en=2048\\u003cbr\\u003edeff=2048\\u003cbr\\u003esum of time=%{y}\\u003cextra\\u003e\\u003c\\u002fextra\\u003e\",\"legendgroup\":\"pcg, sjlt\",\"marker\":{\"color\":\"#ab63fa\",\"pattern\":{\"shape\":\"\\u002f\"}},\"name\":\"pcg, sjlt\",\"offsetgroup\":\"pcg, sjlt\",\"orientation\":\"v\",\"showlegend\":false,\"texttemplate\":\"%{value:.2s}\",\"x\":[\"sjlt\"],\"xaxis\":\"x14\",\"y\":[2.039017649000016],\"yaxis\":\"y14\",\"type\":\"histogram\",\"cliponaxis\":false,\"textangle\":0,\"textposition\":\"outside\"},{\"alignmentgroup\":\"True\",\"bingroup\":\"x\",\"histfunc\":\"sum\",\"hovertemplate\":\"method=pcg\\u003cbr\\u003esketch_fn=%{x}\\u003cbr\\u003en=4096\\u003cbr\\u003edeff=32\\u003cbr\\u003esum of time=%{y}\\u003cextra\\u003e\\u003c\\u002fextra\\u003e\",\"legendgroup\":\"pcg, sjlt\",\"marker\":{\"color\":\"#ab63fa\",\"pattern\":{\"shape\":\"\\u002f\"}},\"name\":\"pcg, sjlt\",\"offsetgroup\":\"pcg, sjlt\",\"orientation\":\"v\",\"showlegend\":false,\"texttemplate\":\"%{value:.2s}\",\"x\":[\"sjlt\"],\"xaxis\":\"x\",\"y\":[0.7682500720002281],\"yaxis\":\"y\",\"type\":\"histogram\",\"cliponaxis\":false,\"textangle\":0,\"textposition\":\"outside\"},{\"alignmentgroup\":\"True\",\"bingroup\":\"x\",\"histfunc\":\"sum\",\"hovertemplate\":\"method=pcg\\u003cbr\\u003esketch_fn=%{x}\\u003cbr\\u003en=4096\\u003cbr\\u003edeff=64\\u003cbr\\u003esum of time=%{y}\\u003cextra\\u003e\\u003c\\u002fextra\\u003e\",\"legendgroup\":\"pcg, sjlt\",\"marker\":{\"color\":\"#ab63fa\",\"pattern\":{\"shape\":\"\\u002f\"}},\"name\":\"pcg, sjlt\",\"offsetgroup\":\"pcg, sjlt\",\"orientation\":\"v\",\"showlegend\":false,\"texttemplate\":\"%{value:.2s}\",\"x\":[\"sjlt\"],\"xaxis\":\"x2\",\"y\":[0.7613172750006925],\"yaxis\":\"y2\",\"type\":\"histogram\",\"cliponaxis\":false,\"textangle\":0,\"textposition\":\"outside\"},{\"alignmentgroup\":\"True\",\"bingroup\":\"x\",\"histfunc\":\"sum\",\"hovertemplate\":\"method=pcg\\u003cbr\\u003esketch_fn=%{x}\\u003cbr\\u003en=4096\\u003cbr\\u003edeff=128\\u003cbr\\u003esum of time=%{y}\\u003cextra\\u003e\\u003c\\u002fextra\\u003e\",\"legendgroup\":\"pcg, sjlt\",\"marker\":{\"color\":\"#ab63fa\",\"pattern\":{\"shape\":\"\\u002f\"}},\"name\":\"pcg, sjlt\",\"offsetgroup\":\"pcg, sjlt\",\"orientation\":\"v\",\"showlegend\":false,\"texttemplate\":\"%{value:.2s}\",\"x\":[\"sjlt\"],\"xaxis\":\"x3\",\"y\":[0.7786396560004505],\"yaxis\":\"y3\",\"type\":\"histogram\",\"cliponaxis\":false,\"textangle\":0,\"textposition\":\"outside\"},{\"alignmentgroup\":\"True\",\"bingroup\":\"x\",\"histfunc\":\"sum\",\"hovertemplate\":\"method=pcg\\u003cbr\\u003esketch_fn=%{x}\\u003cbr\\u003en=4096\\u003cbr\\u003edeff=256\\u003cbr\\u003esum of time=%{y}\\u003cextra\\u003e\\u003c\\u002fextra\\u003e\",\"legendgroup\":\"pcg, sjlt\",\"marker\":{\"color\":\"#ab63fa\",\"pattern\":{\"shape\":\"\\u002f\"}},\"name\":\"pcg, sjlt\",\"offsetgroup\":\"pcg, sjlt\",\"orientation\":\"v\",\"showlegend\":false,\"texttemplate\":\"%{value:.2s}\",\"x\":[\"sjlt\"],\"xaxis\":\"x4\",\"y\":[0.8429415040003125],\"yaxis\":\"y4\",\"type\":\"histogram\",\"cliponaxis\":false,\"textangle\":0,\"textposition\":\"outside\"},{\"alignmentgroup\":\"True\",\"bingroup\":\"x\",\"histfunc\":\"sum\",\"hovertemplate\":\"method=pcg\\u003cbr\\u003esketch_fn=%{x}\\u003cbr\\u003en=4096\\u003cbr\\u003edeff=512\\u003cbr\\u003esum of time=%{y}\\u003cextra\\u003e\\u003c\\u002fextra\\u003e\",\"legendgroup\":\"pcg, sjlt\",\"marker\":{\"color\":\"#ab63fa\",\"pattern\":{\"shape\":\"\\u002f\"}},\"name\":\"pcg, sjlt\",\"offsetgroup\":\"pcg, sjlt\",\"orientation\":\"v\",\"showlegend\":false,\"texttemplate\":\"%{value:.2s}\",\"x\":[\"sjlt\"],\"xaxis\":\"x5\",\"y\":[0.8512488849998286],\"yaxis\":\"y5\",\"type\":\"histogram\",\"cliponaxis\":false,\"textangle\":0,\"textposition\":\"outside\"},{\"alignmentgroup\":\"True\",\"bingroup\":\"x\",\"histfunc\":\"sum\",\"hovertemplate\":\"method=pcg\\u003cbr\\u003esketch_fn=%{x}\\u003cbr\\u003en=4096\\u003cbr\\u003edeff=1024\\u003cbr\\u003esum of time=%{y}\\u003cextra\\u003e\\u003c\\u002fextra\\u003e\",\"legendgroup\":\"pcg, sjlt\",\"marker\":{\"color\":\"#ab63fa\",\"pattern\":{\"shape\":\"\\u002f\"}},\"name\":\"pcg, sjlt\",\"offsetgroup\":\"pcg, sjlt\",\"orientation\":\"v\",\"showlegend\":false,\"texttemplate\":\"%{value:.2s}\",\"x\":[\"sjlt\"],\"xaxis\":\"x6\",\"y\":[0.9373700796665312],\"yaxis\":\"y6\",\"type\":\"histogram\",\"cliponaxis\":false,\"textangle\":0,\"textposition\":\"outside\"},{\"alignmentgroup\":\"True\",\"bingroup\":\"x\",\"histfunc\":\"sum\",\"hovertemplate\":\"method=pcg\\u003cbr\\u003esketch_fn=%{x}\\u003cbr\\u003en=4096\\u003cbr\\u003edeff=2048\\u003cbr\\u003esum of time=%{y}\\u003cextra\\u003e\\u003c\\u002fextra\\u003e\",\"legendgroup\":\"pcg, sjlt\",\"marker\":{\"color\":\"#ab63fa\",\"pattern\":{\"shape\":\"\\u002f\"}},\"name\":\"pcg, sjlt\",\"offsetgroup\":\"pcg, sjlt\",\"orientation\":\"v\",\"showlegend\":false,\"texttemplate\":\"%{value:.2s}\",\"x\":[\"sjlt\"],\"xaxis\":\"x7\",\"y\":[2.0810305389998875],\"yaxis\":\"y7\",\"type\":\"histogram\",\"cliponaxis\":false,\"textangle\":0,\"textposition\":\"outside\"},{\"alignmentgroup\":\"True\",\"bingroup\":\"x\",\"histfunc\":\"sum\",\"hovertemplate\":\"method=pcg\\u003cbr\\u003esketch_fn=%{x}\\u003cbr\\u003en=2048\\u003cbr\\u003edeff=32\\u003cbr\\u003esum of time=%{y}\\u003cextra\\u003e\\u003c\\u002fextra\\u003e\",\"legendgroup\":\"pcg, srht\",\"marker\":{\"color\":\"#ab63fa\",\"pattern\":{\"shape\":\"\\\\\"}},\"name\":\"pcg, srht\",\"offsetgroup\":\"pcg, srht\",\"orientation\":\"v\",\"showlegend\":true,\"texttemplate\":\"%{value:.2s}\",\"x\":[\"srht\"],\"xaxis\":\"x8\",\"y\":[0.6679445663332141],\"yaxis\":\"y8\",\"type\":\"histogram\",\"cliponaxis\":false,\"textangle\":0,\"textposition\":\"outside\"},{\"alignmentgroup\":\"True\",\"bingroup\":\"x\",\"histfunc\":\"sum\",\"hovertemplate\":\"method=pcg\\u003cbr\\u003esketch_fn=%{x}\\u003cbr\\u003en=2048\\u003cbr\\u003edeff=64\\u003cbr\\u003esum of time=%{y}\\u003cextra\\u003e\\u003c\\u002fextra\\u003e\",\"legendgroup\":\"pcg, srht\",\"marker\":{\"color\":\"#ab63fa\",\"pattern\":{\"shape\":\"\\\\\"}},\"name\":\"pcg, srht\",\"offsetgroup\":\"pcg, srht\",\"orientation\":\"v\",\"showlegend\":false,\"texttemplate\":\"%{value:.2s}\",\"x\":[\"srht\"],\"xaxis\":\"x9\",\"y\":[0.6643436970001251],\"yaxis\":\"y9\",\"type\":\"histogram\",\"cliponaxis\":false,\"textangle\":0,\"textposition\":\"outside\"},{\"alignmentgroup\":\"True\",\"bingroup\":\"x\",\"histfunc\":\"sum\",\"hovertemplate\":\"method=pcg\\u003cbr\\u003esketch_fn=%{x}\\u003cbr\\u003en=2048\\u003cbr\\u003edeff=128\\u003cbr\\u003esum of time=%{y}\\u003cextra\\u003e\\u003c\\u002fextra\\u003e\",\"legendgroup\":\"pcg, srht\",\"marker\":{\"color\":\"#ab63fa\",\"pattern\":{\"shape\":\"\\\\\"}},\"name\":\"pcg, srht\",\"offsetgroup\":\"pcg, srht\",\"orientation\":\"v\",\"showlegend\":false,\"texttemplate\":\"%{value:.2s}\",\"x\":[\"srht\"],\"xaxis\":\"x10\",\"y\":[0.6651278836667794],\"yaxis\":\"y10\",\"type\":\"histogram\",\"cliponaxis\":false,\"textangle\":0,\"textposition\":\"outside\"},{\"alignmentgroup\":\"True\",\"bingroup\":\"x\",\"histfunc\":\"sum\",\"hovertemplate\":\"method=pcg\\u003cbr\\u003esketch_fn=%{x}\\u003cbr\\u003en=2048\\u003cbr\\u003edeff=256\\u003cbr\\u003esum of time=%{y}\\u003cextra\\u003e\\u003c\\u002fextra\\u003e\",\"legendgroup\":\"pcg, srht\",\"marker\":{\"color\":\"#ab63fa\",\"pattern\":{\"shape\":\"\\\\\"}},\"name\":\"pcg, srht\",\"offsetgroup\":\"pcg, srht\",\"orientation\":\"v\",\"showlegend\":false,\"texttemplate\":\"%{value:.2s}\",\"x\":[\"srht\"],\"xaxis\":\"x11\",\"y\":[0.6687962420000986],\"yaxis\":\"y11\",\"type\":\"histogram\",\"cliponaxis\":false,\"textangle\":0,\"textposition\":\"outside\"},{\"alignmentgroup\":\"True\",\"bingroup\":\"x\",\"histfunc\":\"sum\",\"hovertemplate\":\"method=pcg\\u003cbr\\u003esketch_fn=%{x}\\u003cbr\\u003en=2048\\u003cbr\\u003edeff=512\\u003cbr\\u003esum of time=%{y}\\u003cextra\\u003e\\u003c\\u002fextra\\u003e\",\"legendgroup\":\"pcg, srht\",\"marker\":{\"color\":\"#ab63fa\",\"pattern\":{\"shape\":\"\\\\\"}},\"name\":\"pcg, srht\",\"offsetgroup\":\"pcg, srht\",\"orientation\":\"v\",\"showlegend\":false,\"texttemplate\":\"%{value:.2s}\",\"x\":[\"srht\"],\"xaxis\":\"x12\",\"y\":[0.658335714999642],\"yaxis\":\"y12\",\"type\":\"histogram\",\"cliponaxis\":false,\"textangle\":0,\"textposition\":\"outside\"},{\"alignmentgroup\":\"True\",\"bingroup\":\"x\",\"histfunc\":\"sum\",\"hovertemplate\":\"method=pcg\\u003cbr\\u003esketch_fn=%{x}\\u003cbr\\u003en=2048\\u003cbr\\u003edeff=1024\\u003cbr\\u003esum of time=%{y}\\u003cextra\\u003e\\u003c\\u002fextra\\u003e\",\"legendgroup\":\"pcg, srht\",\"marker\":{\"color\":\"#ab63fa\",\"pattern\":{\"shape\":\"\\\\\"}},\"name\":\"pcg, srht\",\"offsetgroup\":\"pcg, srht\",\"orientation\":\"v\",\"showlegend\":false,\"texttemplate\":\"%{value:.2s}\",\"x\":[\"srht\"],\"xaxis\":\"x13\",\"y\":[0.661743258666623],\"yaxis\":\"y13\",\"type\":\"histogram\",\"cliponaxis\":false,\"textangle\":0,\"textposition\":\"outside\"},{\"alignmentgroup\":\"True\",\"bingroup\":\"x\",\"histfunc\":\"sum\",\"hovertemplate\":\"method=pcg\\u003cbr\\u003esketch_fn=%{x}\\u003cbr\\u003en=2048\\u003cbr\\u003edeff=2048\\u003cbr\\u003esum of time=%{y}\\u003cextra\\u003e\\u003c\\u002fextra\\u003e\",\"legendgroup\":\"pcg, srht\",\"marker\":{\"color\":\"#ab63fa\",\"pattern\":{\"shape\":\"\\\\\"}},\"name\":\"pcg, srht\",\"offsetgroup\":\"pcg, srht\",\"orientation\":\"v\",\"showlegend\":false,\"texttemplate\":\"%{value:.2s}\",\"x\":[\"srht\"],\"xaxis\":\"x14\",\"y\":[0.6574143286667701],\"yaxis\":\"y14\",\"type\":\"histogram\",\"cliponaxis\":false,\"textangle\":0,\"textposition\":\"outside\"},{\"alignmentgroup\":\"True\",\"bingroup\":\"x\",\"histfunc\":\"sum\",\"hovertemplate\":\"method=pcg\\u003cbr\\u003esketch_fn=%{x}\\u003cbr\\u003en=4096\\u003cbr\\u003edeff=32\\u003cbr\\u003esum of time=%{y}\\u003cextra\\u003e\\u003c\\u002fextra\\u003e\",\"legendgroup\":\"pcg, srht\",\"marker\":{\"color\":\"#ab63fa\",\"pattern\":{\"shape\":\"\\\\\"}},\"name\":\"pcg, srht\",\"offsetgroup\":\"pcg, srht\",\"orientation\":\"v\",\"showlegend\":false,\"texttemplate\":\"%{value:.2s}\",\"x\":[\"srht\"],\"xaxis\":\"x\",\"y\":[1.2098904726669084],\"yaxis\":\"y\",\"type\":\"histogram\",\"cliponaxis\":false,\"textangle\":0,\"textposition\":\"outside\"},{\"alignmentgroup\":\"True\",\"bingroup\":\"x\",\"histfunc\":\"sum\",\"hovertemplate\":\"method=pcg\\u003cbr\\u003esketch_fn=%{x}\\u003cbr\\u003en=4096\\u003cbr\\u003edeff=64\\u003cbr\\u003esum of time=%{y}\\u003cextra\\u003e\\u003c\\u002fextra\\u003e\",\"legendgroup\":\"pcg, srht\",\"marker\":{\"color\":\"#ab63fa\",\"pattern\":{\"shape\":\"\\\\\"}},\"name\":\"pcg, srht\",\"offsetgroup\":\"pcg, srht\",\"orientation\":\"v\",\"showlegend\":false,\"texttemplate\":\"%{value:.2s}\",\"x\":[\"srht\"],\"xaxis\":\"x2\",\"y\":[1.2007531553329802],\"yaxis\":\"y2\",\"type\":\"histogram\",\"cliponaxis\":false,\"textangle\":0,\"textposition\":\"outside\"},{\"alignmentgroup\":\"True\",\"bingroup\":\"x\",\"histfunc\":\"sum\",\"hovertemplate\":\"method=pcg\\u003cbr\\u003esketch_fn=%{x}\\u003cbr\\u003en=4096\\u003cbr\\u003edeff=128\\u003cbr\\u003esum of time=%{y}\\u003cextra\\u003e\\u003c\\u002fextra\\u003e\",\"legendgroup\":\"pcg, srht\",\"marker\":{\"color\":\"#ab63fa\",\"pattern\":{\"shape\":\"\\\\\"}},\"name\":\"pcg, srht\",\"offsetgroup\":\"pcg, srht\",\"orientation\":\"v\",\"showlegend\":false,\"texttemplate\":\"%{value:.2s}\",\"x\":[\"srht\"],\"xaxis\":\"x3\",\"y\":[1.2050007213323017],\"yaxis\":\"y3\",\"type\":\"histogram\",\"cliponaxis\":false,\"textangle\":0,\"textposition\":\"outside\"},{\"alignmentgroup\":\"True\",\"bingroup\":\"x\",\"histfunc\":\"sum\",\"hovertemplate\":\"method=pcg\\u003cbr\\u003esketch_fn=%{x}\\u003cbr\\u003en=4096\\u003cbr\\u003edeff=256\\u003cbr\\u003esum of time=%{y}\\u003cextra\\u003e\\u003c\\u002fextra\\u003e\",\"legendgroup\":\"pcg, srht\",\"marker\":{\"color\":\"#ab63fa\",\"pattern\":{\"shape\":\"\\\\\"}},\"name\":\"pcg, srht\",\"offsetgroup\":\"pcg, srht\",\"orientation\":\"v\",\"showlegend\":false,\"texttemplate\":\"%{value:.2s}\",\"x\":[\"srht\"],\"xaxis\":\"x4\",\"y\":[1.2064755889993344],\"yaxis\":\"y4\",\"type\":\"histogram\",\"cliponaxis\":false,\"textangle\":0,\"textposition\":\"outside\"},{\"alignmentgroup\":\"True\",\"bingroup\":\"x\",\"histfunc\":\"sum\",\"hovertemplate\":\"method=pcg\\u003cbr\\u003esketch_fn=%{x}\\u003cbr\\u003en=4096\\u003cbr\\u003edeff=512\\u003cbr\\u003esum of time=%{y}\\u003cextra\\u003e\\u003c\\u002fextra\\u003e\",\"legendgroup\":\"pcg, srht\",\"marker\":{\"color\":\"#ab63fa\",\"pattern\":{\"shape\":\"\\\\\"}},\"name\":\"pcg, srht\",\"offsetgroup\":\"pcg, srht\",\"orientation\":\"v\",\"showlegend\":false,\"texttemplate\":\"%{value:.2s}\",\"x\":[\"srht\"],\"xaxis\":\"x5\",\"y\":[1.2168387056669112],\"yaxis\":\"y5\",\"type\":\"histogram\",\"cliponaxis\":false,\"textangle\":0,\"textposition\":\"outside\"},{\"alignmentgroup\":\"True\",\"bingroup\":\"x\",\"histfunc\":\"sum\",\"hovertemplate\":\"method=pcg\\u003cbr\\u003esketch_fn=%{x}\\u003cbr\\u003en=4096\\u003cbr\\u003edeff=1024\\u003cbr\\u003esum of time=%{y}\\u003cextra\\u003e\\u003c\\u002fextra\\u003e\",\"legendgroup\":\"pcg, srht\",\"marker\":{\"color\":\"#ab63fa\",\"pattern\":{\"shape\":\"\\\\\"}},\"name\":\"pcg, srht\",\"offsetgroup\":\"pcg, srht\",\"orientation\":\"v\",\"showlegend\":false,\"texttemplate\":\"%{value:.2s}\",\"x\":[\"srht\"],\"xaxis\":\"x6\",\"y\":[1.2164661193334418],\"yaxis\":\"y6\",\"type\":\"histogram\",\"cliponaxis\":false,\"textangle\":0,\"textposition\":\"outside\"},{\"alignmentgroup\":\"True\",\"bingroup\":\"x\",\"histfunc\":\"sum\",\"hovertemplate\":\"method=pcg\\u003cbr\\u003esketch_fn=%{x}\\u003cbr\\u003en=4096\\u003cbr\\u003edeff=2048\\u003cbr\\u003esum of time=%{y}\\u003cextra\\u003e\\u003c\\u002fextra\\u003e\",\"legendgroup\":\"pcg, srht\",\"marker\":{\"color\":\"#ab63fa\",\"pattern\":{\"shape\":\"\\\\\"}},\"name\":\"pcg, srht\",\"offsetgroup\":\"pcg, srht\",\"orientation\":\"v\",\"showlegend\":false,\"texttemplate\":\"%{value:.2s}\",\"x\":[\"srht\"],\"xaxis\":\"x7\",\"y\":[1.395250199999282],\"yaxis\":\"y7\",\"type\":\"histogram\",\"cliponaxis\":false,\"textangle\":0,\"textposition\":\"outside\"}],                        {\"template\":{\"data\":{\"histogram2dcontour\":[{\"type\":\"histogram2dcontour\",\"colorbar\":{\"outlinewidth\":0,\"ticks\":\"\"},\"colorscale\":[[0.0,\"#0d0887\"],[0.1111111111111111,\"#46039f\"],[0.2222222222222222,\"#7201a8\"],[0.3333333333333333,\"#9c179e\"],[0.4444444444444444,\"#bd3786\"],[0.5555555555555556,\"#d8576b\"],[0.6666666666666666,\"#ed7953\"],[0.7777777777777778,\"#fb9f3a\"],[0.8888888888888888,\"#fdca26\"],[1.0,\"#f0f921\"]]}],\"choropleth\":[{\"type\":\"choropleth\",\"colorbar\":{\"outlinewidth\":0,\"ticks\":\"\"}}],\"histogram2d\":[{\"type\":\"histogram2d\",\"colorbar\":{\"outlinewidth\":0,\"ticks\":\"\"},\"colorscale\":[[0.0,\"#0d0887\"],[0.1111111111111111,\"#46039f\"],[0.2222222222222222,\"#7201a8\"],[0.3333333333333333,\"#9c179e\"],[0.4444444444444444,\"#bd3786\"],[0.5555555555555556,\"#d8576b\"],[0.6666666666666666,\"#ed7953\"],[0.7777777777777778,\"#fb9f3a\"],[0.8888888888888888,\"#fdca26\"],[1.0,\"#f0f921\"]]}],\"heatmap\":[{\"type\":\"heatmap\",\"colorbar\":{\"outlinewidth\":0,\"ticks\":\"\"},\"colorscale\":[[0.0,\"#0d0887\"],[0.1111111111111111,\"#46039f\"],[0.2222222222222222,\"#7201a8\"],[0.3333333333333333,\"#9c179e\"],[0.4444444444444444,\"#bd3786\"],[0.5555555555555556,\"#d8576b\"],[0.6666666666666666,\"#ed7953\"],[0.7777777777777778,\"#fb9f3a\"],[0.8888888888888888,\"#fdca26\"],[1.0,\"#f0f921\"]]}],\"heatmapgl\":[{\"type\":\"heatmapgl\",\"colorbar\":{\"outlinewidth\":0,\"ticks\":\"\"},\"colorscale\":[[0.0,\"#0d0887\"],[0.1111111111111111,\"#46039f\"],[0.2222222222222222,\"#7201a8\"],[0.3333333333333333,\"#9c179e\"],[0.4444444444444444,\"#bd3786\"],[0.5555555555555556,\"#d8576b\"],[0.6666666666666666,\"#ed7953\"],[0.7777777777777778,\"#fb9f3a\"],[0.8888888888888888,\"#fdca26\"],[1.0,\"#f0f921\"]]}],\"contourcarpet\":[{\"type\":\"contourcarpet\",\"colorbar\":{\"outlinewidth\":0,\"ticks\":\"\"}}],\"contour\":[{\"type\":\"contour\",\"colorbar\":{\"outlinewidth\":0,\"ticks\":\"\"},\"colorscale\":[[0.0,\"#0d0887\"],[0.1111111111111111,\"#46039f\"],[0.2222222222222222,\"#7201a8\"],[0.3333333333333333,\"#9c179e\"],[0.4444444444444444,\"#bd3786\"],[0.5555555555555556,\"#d8576b\"],[0.6666666666666666,\"#ed7953\"],[0.7777777777777778,\"#fb9f3a\"],[0.8888888888888888,\"#fdca26\"],[1.0,\"#f0f921\"]]}],\"surface\":[{\"type\":\"surface\",\"colorbar\":{\"outlinewidth\":0,\"ticks\":\"\"},\"colorscale\":[[0.0,\"#0d0887\"],[0.1111111111111111,\"#46039f\"],[0.2222222222222222,\"#7201a8\"],[0.3333333333333333,\"#9c179e\"],[0.4444444444444444,\"#bd3786\"],[0.5555555555555556,\"#d8576b\"],[0.6666666666666666,\"#ed7953\"],[0.7777777777777778,\"#fb9f3a\"],[0.8888888888888888,\"#fdca26\"],[1.0,\"#f0f921\"]]}],\"mesh3d\":[{\"type\":\"mesh3d\",\"colorbar\":{\"outlinewidth\":0,\"ticks\":\"\"}}],\"scatter\":[{\"fillpattern\":{\"fillmode\":\"overlay\",\"size\":10,\"solidity\":0.2},\"type\":\"scatter\"}],\"parcoords\":[{\"type\":\"parcoords\",\"line\":{\"colorbar\":{\"outlinewidth\":0,\"ticks\":\"\"}}}],\"scatterpolargl\":[{\"type\":\"scatterpolargl\",\"marker\":{\"colorbar\":{\"outlinewidth\":0,\"ticks\":\"\"}}}],\"bar\":[{\"error_x\":{\"color\":\"#2a3f5f\"},\"error_y\":{\"color\":\"#2a3f5f\"},\"marker\":{\"line\":{\"color\":\"#E5ECF6\",\"width\":0.5},\"pattern\":{\"fillmode\":\"overlay\",\"size\":10,\"solidity\":0.2}},\"type\":\"bar\"}],\"scattergeo\":[{\"type\":\"scattergeo\",\"marker\":{\"colorbar\":{\"outlinewidth\":0,\"ticks\":\"\"}}}],\"scatterpolar\":[{\"type\":\"scatterpolar\",\"marker\":{\"colorbar\":{\"outlinewidth\":0,\"ticks\":\"\"}}}],\"histogram\":[{\"marker\":{\"pattern\":{\"fillmode\":\"overlay\",\"size\":10,\"solidity\":0.2}},\"type\":\"histogram\"}],\"scattergl\":[{\"type\":\"scattergl\",\"marker\":{\"colorbar\":{\"outlinewidth\":0,\"ticks\":\"\"}}}],\"scatter3d\":[{\"type\":\"scatter3d\",\"line\":{\"colorbar\":{\"outlinewidth\":0,\"ticks\":\"\"}},\"marker\":{\"colorbar\":{\"outlinewidth\":0,\"ticks\":\"\"}}}],\"scattermapbox\":[{\"type\":\"scattermapbox\",\"marker\":{\"colorbar\":{\"outlinewidth\":0,\"ticks\":\"\"}}}],\"scatterternary\":[{\"type\":\"scatterternary\",\"marker\":{\"colorbar\":{\"outlinewidth\":0,\"ticks\":\"\"}}}],\"scattercarpet\":[{\"type\":\"scattercarpet\",\"marker\":{\"colorbar\":{\"outlinewidth\":0,\"ticks\":\"\"}}}],\"carpet\":[{\"aaxis\":{\"endlinecolor\":\"#2a3f5f\",\"gridcolor\":\"white\",\"linecolor\":\"white\",\"minorgridcolor\":\"white\",\"startlinecolor\":\"#2a3f5f\"},\"baxis\":{\"endlinecolor\":\"#2a3f5f\",\"gridcolor\":\"white\",\"linecolor\":\"white\",\"minorgridcolor\":\"white\",\"startlinecolor\":\"#2a3f5f\"},\"type\":\"carpet\"}],\"table\":[{\"cells\":{\"fill\":{\"color\":\"#EBF0F8\"},\"line\":{\"color\":\"white\"}},\"header\":{\"fill\":{\"color\":\"#C8D4E3\"},\"line\":{\"color\":\"white\"}},\"type\":\"table\"}],\"barpolar\":[{\"marker\":{\"line\":{\"color\":\"#E5ECF6\",\"width\":0.5},\"pattern\":{\"fillmode\":\"overlay\",\"size\":10,\"solidity\":0.2}},\"type\":\"barpolar\"}],\"pie\":[{\"automargin\":true,\"type\":\"pie\"}]},\"layout\":{\"autotypenumbers\":\"strict\",\"colorway\":[\"#636efa\",\"#EF553B\",\"#00cc96\",\"#ab63fa\",\"#FFA15A\",\"#19d3f3\",\"#FF6692\",\"#B6E880\",\"#FF97FF\",\"#FECB52\"],\"font\":{\"color\":\"#2a3f5f\"},\"hovermode\":\"closest\",\"hoverlabel\":{\"align\":\"left\"},\"paper_bgcolor\":\"white\",\"plot_bgcolor\":\"#E5ECF6\",\"polar\":{\"bgcolor\":\"#E5ECF6\",\"angularaxis\":{\"gridcolor\":\"white\",\"linecolor\":\"white\",\"ticks\":\"\"},\"radialaxis\":{\"gridcolor\":\"white\",\"linecolor\":\"white\",\"ticks\":\"\"}},\"ternary\":{\"bgcolor\":\"#E5ECF6\",\"aaxis\":{\"gridcolor\":\"white\",\"linecolor\":\"white\",\"ticks\":\"\"},\"baxis\":{\"gridcolor\":\"white\",\"linecolor\":\"white\",\"ticks\":\"\"},\"caxis\":{\"gridcolor\":\"white\",\"linecolor\":\"white\",\"ticks\":\"\"}},\"coloraxis\":{\"colorbar\":{\"outlinewidth\":0,\"ticks\":\"\"}},\"colorscale\":{\"sequential\":[[0.0,\"#0d0887\"],[0.1111111111111111,\"#46039f\"],[0.2222222222222222,\"#7201a8\"],[0.3333333333333333,\"#9c179e\"],[0.4444444444444444,\"#bd3786\"],[0.5555555555555556,\"#d8576b\"],[0.6666666666666666,\"#ed7953\"],[0.7777777777777778,\"#fb9f3a\"],[0.8888888888888888,\"#fdca26\"],[1.0,\"#f0f921\"]],\"sequentialminus\":[[0.0,\"#0d0887\"],[0.1111111111111111,\"#46039f\"],[0.2222222222222222,\"#7201a8\"],[0.3333333333333333,\"#9c179e\"],[0.4444444444444444,\"#bd3786\"],[0.5555555555555556,\"#d8576b\"],[0.6666666666666666,\"#ed7953\"],[0.7777777777777778,\"#fb9f3a\"],[0.8888888888888888,\"#fdca26\"],[1.0,\"#f0f921\"]],\"diverging\":[[0,\"#8e0152\"],[0.1,\"#c51b7d\"],[0.2,\"#de77ae\"],[0.3,\"#f1b6da\"],[0.4,\"#fde0ef\"],[0.5,\"#f7f7f7\"],[0.6,\"#e6f5d0\"],[0.7,\"#b8e186\"],[0.8,\"#7fbc41\"],[0.9,\"#4d9221\"],[1,\"#276419\"]]},\"xaxis\":{\"gridcolor\":\"white\",\"linecolor\":\"white\",\"ticks\":\"\",\"title\":{\"standoff\":15},\"zerolinecolor\":\"white\",\"automargin\":true,\"zerolinewidth\":2},\"yaxis\":{\"gridcolor\":\"white\",\"linecolor\":\"white\",\"ticks\":\"\",\"title\":{\"standoff\":15},\"zerolinecolor\":\"white\",\"automargin\":true,\"zerolinewidth\":2},\"scene\":{\"xaxis\":{\"backgroundcolor\":\"#E5ECF6\",\"gridcolor\":\"white\",\"linecolor\":\"white\",\"showbackground\":true,\"ticks\":\"\",\"zerolinecolor\":\"white\",\"gridwidth\":2},\"yaxis\":{\"backgroundcolor\":\"#E5ECF6\",\"gridcolor\":\"white\",\"linecolor\":\"white\",\"showbackground\":true,\"ticks\":\"\",\"zerolinecolor\":\"white\",\"gridwidth\":2},\"zaxis\":{\"backgroundcolor\":\"#E5ECF6\",\"gridcolor\":\"white\",\"linecolor\":\"white\",\"showbackground\":true,\"ticks\":\"\",\"zerolinecolor\":\"white\",\"gridwidth\":2}},\"shapedefaults\":{\"line\":{\"color\":\"#2a3f5f\"}},\"annotationdefaults\":{\"arrowcolor\":\"#2a3f5f\",\"arrowhead\":0,\"arrowwidth\":1},\"geo\":{\"bgcolor\":\"white\",\"landcolor\":\"#E5ECF6\",\"subunitcolor\":\"white\",\"showland\":true,\"showlakes\":true,\"lakecolor\":\"white\"},\"title\":{\"x\":0.05},\"mapbox\":{\"style\":\"light\"}}},\"xaxis\":{\"anchor\":\"y\",\"domain\":[0.0,0.12285714285714285],\"title\":{\"text\":\"sketch_fn\"},\"categoryorder\":\"array\",\"categoryarray\":[\"gaussian\",\"sjlt\",\"srht\",\"none\"]},\"yaxis\":{\"anchor\":\"x\",\"domain\":[0.0,0.485],\"title\":{\"text\":\"sum of time\"}},\"xaxis2\":{\"anchor\":\"y2\",\"domain\":[0.14285714285714285,0.2657142857142857],\"matches\":\"x\",\"title\":{\"text\":\"sketch_fn\"},\"categoryorder\":\"array\",\"categoryarray\":[\"gaussian\",\"sjlt\",\"srht\",\"none\"]},\"yaxis2\":{\"anchor\":\"x2\",\"domain\":[0.0,0.485],\"matches\":\"y\",\"showticklabels\":false},\"xaxis3\":{\"anchor\":\"y3\",\"domain\":[0.2857142857142857,0.40857142857142853],\"matches\":\"x\",\"title\":{\"text\":\"sketch_fn\"},\"categoryorder\":\"array\",\"categoryarray\":[\"gaussian\",\"sjlt\",\"srht\",\"none\"]},\"yaxis3\":{\"anchor\":\"x3\",\"domain\":[0.0,0.485],\"matches\":\"y\",\"showticklabels\":false},\"xaxis4\":{\"anchor\":\"y4\",\"domain\":[0.42857142857142855,0.5514285714285714],\"matches\":\"x\",\"title\":{\"text\":\"sketch_fn\"},\"categoryorder\":\"array\",\"categoryarray\":[\"gaussian\",\"sjlt\",\"srht\",\"none\"]},\"yaxis4\":{\"anchor\":\"x4\",\"domain\":[0.0,0.485],\"matches\":\"y\",\"showticklabels\":false},\"xaxis5\":{\"anchor\":\"y5\",\"domain\":[0.5714285714285714,0.6942857142857143],\"matches\":\"x\",\"title\":{\"text\":\"sketch_fn\"},\"categoryorder\":\"array\",\"categoryarray\":[\"gaussian\",\"sjlt\",\"srht\",\"none\"]},\"yaxis5\":{\"anchor\":\"x5\",\"domain\":[0.0,0.485],\"matches\":\"y\",\"showticklabels\":false},\"xaxis6\":{\"anchor\":\"y6\",\"domain\":[0.7142857142857142,0.8371428571428571],\"matches\":\"x\",\"title\":{\"text\":\"sketch_fn\"},\"categoryorder\":\"array\",\"categoryarray\":[\"gaussian\",\"sjlt\",\"srht\",\"none\"]},\"yaxis6\":{\"anchor\":\"x6\",\"domain\":[0.0,0.485],\"matches\":\"y\",\"showticklabels\":false},\"xaxis7\":{\"anchor\":\"y7\",\"domain\":[0.8571428571428571,0.98],\"matches\":\"x\",\"title\":{\"text\":\"sketch_fn\"},\"categoryorder\":\"array\",\"categoryarray\":[\"gaussian\",\"sjlt\",\"srht\",\"none\"]},\"yaxis7\":{\"anchor\":\"x7\",\"domain\":[0.0,0.485],\"matches\":\"y\",\"showticklabels\":false},\"xaxis8\":{\"anchor\":\"y8\",\"domain\":[0.0,0.12285714285714285],\"matches\":\"x\",\"showticklabels\":false},\"yaxis8\":{\"anchor\":\"x8\",\"domain\":[0.515,1.0],\"matches\":\"y\",\"title\":{\"text\":\"sum of time\"}},\"xaxis9\":{\"anchor\":\"y9\",\"domain\":[0.14285714285714285,0.2657142857142857],\"matches\":\"x\",\"showticklabels\":false},\"yaxis9\":{\"anchor\":\"x9\",\"domain\":[0.515,1.0],\"matches\":\"y\",\"showticklabels\":false},\"xaxis10\":{\"anchor\":\"y10\",\"domain\":[0.2857142857142857,0.40857142857142853],\"matches\":\"x\",\"showticklabels\":false},\"yaxis10\":{\"anchor\":\"x10\",\"domain\":[0.515,1.0],\"matches\":\"y\",\"showticklabels\":false},\"xaxis11\":{\"anchor\":\"y11\",\"domain\":[0.42857142857142855,0.5514285714285714],\"matches\":\"x\",\"showticklabels\":false},\"yaxis11\":{\"anchor\":\"x11\",\"domain\":[0.515,1.0],\"matches\":\"y\",\"showticklabels\":false},\"xaxis12\":{\"anchor\":\"y12\",\"domain\":[0.5714285714285714,0.6942857142857143],\"matches\":\"x\",\"showticklabels\":false},\"yaxis12\":{\"anchor\":\"x12\",\"domain\":[0.515,1.0],\"matches\":\"y\",\"showticklabels\":false},\"xaxis13\":{\"anchor\":\"y13\",\"domain\":[0.7142857142857142,0.8371428571428571],\"matches\":\"x\",\"showticklabels\":false},\"yaxis13\":{\"anchor\":\"x13\",\"domain\":[0.515,1.0],\"matches\":\"y\",\"showticklabels\":false},\"xaxis14\":{\"anchor\":\"y14\",\"domain\":[0.8571428571428571,0.98],\"matches\":\"x\",\"showticklabels\":false},\"yaxis14\":{\"anchor\":\"x14\",\"domain\":[0.515,1.0],\"matches\":\"y\",\"showticklabels\":false},\"annotations\":[{\"font\":{},\"showarrow\":false,\"text\":\"deff=32\",\"x\":0.06142857142857142,\"xanchor\":\"center\",\"xref\":\"paper\",\"y\":1.0,\"yanchor\":\"bottom\",\"yref\":\"paper\"},{\"font\":{},\"showarrow\":false,\"text\":\"deff=64\",\"x\":0.20428571428571426,\"xanchor\":\"center\",\"xref\":\"paper\",\"y\":1.0,\"yanchor\":\"bottom\",\"yref\":\"paper\"},{\"font\":{},\"showarrow\":false,\"text\":\"deff=128\",\"x\":0.3471428571428571,\"xanchor\":\"center\",\"xref\":\"paper\",\"y\":1.0,\"yanchor\":\"bottom\",\"yref\":\"paper\"},{\"font\":{},\"showarrow\":false,\"text\":\"deff=256\",\"x\":0.49,\"xanchor\":\"center\",\"xref\":\"paper\",\"y\":1.0,\"yanchor\":\"bottom\",\"yref\":\"paper\"},{\"font\":{},\"showarrow\":false,\"text\":\"deff=512\",\"x\":0.6328571428571428,\"xanchor\":\"center\",\"xref\":\"paper\",\"y\":1.0,\"yanchor\":\"bottom\",\"yref\":\"paper\"},{\"font\":{},\"showarrow\":false,\"text\":\"deff=1024\",\"x\":0.7757142857142856,\"xanchor\":\"center\",\"xref\":\"paper\",\"y\":1.0,\"yanchor\":\"bottom\",\"yref\":\"paper\"},{\"font\":{},\"showarrow\":false,\"text\":\"deff=2048\",\"x\":0.9185714285714286,\"xanchor\":\"center\",\"xref\":\"paper\",\"y\":1.0,\"yanchor\":\"bottom\",\"yref\":\"paper\"},{\"font\":{},\"showarrow\":false,\"text\":\"n=4096\",\"textangle\":90,\"x\":0.98,\"xanchor\":\"left\",\"xref\":\"paper\",\"y\":0.2425,\"yanchor\":\"middle\",\"yref\":\"paper\"},{\"font\":{},\"showarrow\":false,\"text\":\"n=2048\",\"textangle\":90,\"x\":0.98,\"xanchor\":\"left\",\"xref\":\"paper\",\"y\":0.7575000000000001,\"yanchor\":\"middle\",\"yref\":\"paper\"}],\"legend\":{\"title\":{\"text\":\"method, sketch_fn\"},\"tracegroupgap\":0},\"margin\":{\"t\":60},\"barmode\":\"group\",\"height\":700},                        {\"responsive\": true}                    ).then(function(){\n",
       "                            \n",
       "var gd = document.getElementById('829ab663-8a15-4a19-9af4-05bb7484acfc');\n",
       "var x = new MutationObserver(function (mutations, observer) {{\n",
       "        var display = window.getComputedStyle(gd).display;\n",
       "        if (!display || display === 'none') {{\n",
       "            console.log([gd, 'removed!']);\n",
       "            Plotly.purge(gd);\n",
       "            observer.disconnect();\n",
       "        }}\n",
       "}});\n",
       "\n",
       "// Listen for the removal of the full notebook cells\n",
       "var notebookContainer = gd.closest('#notebook-container');\n",
       "if (notebookContainer) {{\n",
       "    x.observe(notebookContainer, {childList: true});\n",
       "}}\n",
       "\n",
       "// Listen for the clearing of the current output cell\n",
       "var outputEl = gd.closest('.output');\n",
       "if (outputEl) {{\n",
       "    x.observe(outputEl, {childList: true});\n",
       "}}\n",
       "\n",
       "                        })                };                });            </script>        </div>"
      ]
     },
     "metadata": {},
     "output_type": "display_data"
    },
    {
     "name": "stdout",
     "output_type": "stream",
     "text": [
      "d=4096\n"
     ]
    },
    {
     "data": {
      "application/vnd.plotly.v1+json": {
       "config": {
        "plotlyServerURL": "https://plot.ly"
       },
       "data": [],
       "layout": {
        "barmode": "group",
        "height": 700,
        "legend": {
         "tracegroupgap": 0
        },
        "margin": {
         "t": 60
        },
        "template": {
         "data": {
          "bar": [
           {
            "error_x": {
             "color": "#2a3f5f"
            },
            "error_y": {
             "color": "#2a3f5f"
            },
            "marker": {
             "line": {
              "color": "#E5ECF6",
              "width": 0.5
             },
             "pattern": {
              "fillmode": "overlay",
              "size": 10,
              "solidity": 0.2
             }
            },
            "type": "bar"
           }
          ],
          "barpolar": [
           {
            "marker": {
             "line": {
              "color": "#E5ECF6",
              "width": 0.5
             },
             "pattern": {
              "fillmode": "overlay",
              "size": 10,
              "solidity": 0.2
             }
            },
            "type": "barpolar"
           }
          ],
          "carpet": [
           {
            "aaxis": {
             "endlinecolor": "#2a3f5f",
             "gridcolor": "white",
             "linecolor": "white",
             "minorgridcolor": "white",
             "startlinecolor": "#2a3f5f"
            },
            "baxis": {
             "endlinecolor": "#2a3f5f",
             "gridcolor": "white",
             "linecolor": "white",
             "minorgridcolor": "white",
             "startlinecolor": "#2a3f5f"
            },
            "type": "carpet"
           }
          ],
          "choropleth": [
           {
            "colorbar": {
             "outlinewidth": 0,
             "ticks": ""
            },
            "type": "choropleth"
           }
          ],
          "contour": [
           {
            "colorbar": {
             "outlinewidth": 0,
             "ticks": ""
            },
            "colorscale": [
             [
              0,
              "#0d0887"
             ],
             [
              0.1111111111111111,
              "#46039f"
             ],
             [
              0.2222222222222222,
              "#7201a8"
             ],
             [
              0.3333333333333333,
              "#9c179e"
             ],
             [
              0.4444444444444444,
              "#bd3786"
             ],
             [
              0.5555555555555556,
              "#d8576b"
             ],
             [
              0.6666666666666666,
              "#ed7953"
             ],
             [
              0.7777777777777778,
              "#fb9f3a"
             ],
             [
              0.8888888888888888,
              "#fdca26"
             ],
             [
              1,
              "#f0f921"
             ]
            ],
            "type": "contour"
           }
          ],
          "contourcarpet": [
           {
            "colorbar": {
             "outlinewidth": 0,
             "ticks": ""
            },
            "type": "contourcarpet"
           }
          ],
          "heatmap": [
           {
            "colorbar": {
             "outlinewidth": 0,
             "ticks": ""
            },
            "colorscale": [
             [
              0,
              "#0d0887"
             ],
             [
              0.1111111111111111,
              "#46039f"
             ],
             [
              0.2222222222222222,
              "#7201a8"
             ],
             [
              0.3333333333333333,
              "#9c179e"
             ],
             [
              0.4444444444444444,
              "#bd3786"
             ],
             [
              0.5555555555555556,
              "#d8576b"
             ],
             [
              0.6666666666666666,
              "#ed7953"
             ],
             [
              0.7777777777777778,
              "#fb9f3a"
             ],
             [
              0.8888888888888888,
              "#fdca26"
             ],
             [
              1,
              "#f0f921"
             ]
            ],
            "type": "heatmap"
           }
          ],
          "heatmapgl": [
           {
            "colorbar": {
             "outlinewidth": 0,
             "ticks": ""
            },
            "colorscale": [
             [
              0,
              "#0d0887"
             ],
             [
              0.1111111111111111,
              "#46039f"
             ],
             [
              0.2222222222222222,
              "#7201a8"
             ],
             [
              0.3333333333333333,
              "#9c179e"
             ],
             [
              0.4444444444444444,
              "#bd3786"
             ],
             [
              0.5555555555555556,
              "#d8576b"
             ],
             [
              0.6666666666666666,
              "#ed7953"
             ],
             [
              0.7777777777777778,
              "#fb9f3a"
             ],
             [
              0.8888888888888888,
              "#fdca26"
             ],
             [
              1,
              "#f0f921"
             ]
            ],
            "type": "heatmapgl"
           }
          ],
          "histogram": [
           {
            "marker": {
             "pattern": {
              "fillmode": "overlay",
              "size": 10,
              "solidity": 0.2
             }
            },
            "type": "histogram"
           }
          ],
          "histogram2d": [
           {
            "colorbar": {
             "outlinewidth": 0,
             "ticks": ""
            },
            "colorscale": [
             [
              0,
              "#0d0887"
             ],
             [
              0.1111111111111111,
              "#46039f"
             ],
             [
              0.2222222222222222,
              "#7201a8"
             ],
             [
              0.3333333333333333,
              "#9c179e"
             ],
             [
              0.4444444444444444,
              "#bd3786"
             ],
             [
              0.5555555555555556,
              "#d8576b"
             ],
             [
              0.6666666666666666,
              "#ed7953"
             ],
             [
              0.7777777777777778,
              "#fb9f3a"
             ],
             [
              0.8888888888888888,
              "#fdca26"
             ],
             [
              1,
              "#f0f921"
             ]
            ],
            "type": "histogram2d"
           }
          ],
          "histogram2dcontour": [
           {
            "colorbar": {
             "outlinewidth": 0,
             "ticks": ""
            },
            "colorscale": [
             [
              0,
              "#0d0887"
             ],
             [
              0.1111111111111111,
              "#46039f"
             ],
             [
              0.2222222222222222,
              "#7201a8"
             ],
             [
              0.3333333333333333,
              "#9c179e"
             ],
             [
              0.4444444444444444,
              "#bd3786"
             ],
             [
              0.5555555555555556,
              "#d8576b"
             ],
             [
              0.6666666666666666,
              "#ed7953"
             ],
             [
              0.7777777777777778,
              "#fb9f3a"
             ],
             [
              0.8888888888888888,
              "#fdca26"
             ],
             [
              1,
              "#f0f921"
             ]
            ],
            "type": "histogram2dcontour"
           }
          ],
          "mesh3d": [
           {
            "colorbar": {
             "outlinewidth": 0,
             "ticks": ""
            },
            "type": "mesh3d"
           }
          ],
          "parcoords": [
           {
            "line": {
             "colorbar": {
              "outlinewidth": 0,
              "ticks": ""
             }
            },
            "type": "parcoords"
           }
          ],
          "pie": [
           {
            "automargin": true,
            "type": "pie"
           }
          ],
          "scatter": [
           {
            "fillpattern": {
             "fillmode": "overlay",
             "size": 10,
             "solidity": 0.2
            },
            "type": "scatter"
           }
          ],
          "scatter3d": [
           {
            "line": {
             "colorbar": {
              "outlinewidth": 0,
              "ticks": ""
             }
            },
            "marker": {
             "colorbar": {
              "outlinewidth": 0,
              "ticks": ""
             }
            },
            "type": "scatter3d"
           }
          ],
          "scattercarpet": [
           {
            "marker": {
             "colorbar": {
              "outlinewidth": 0,
              "ticks": ""
             }
            },
            "type": "scattercarpet"
           }
          ],
          "scattergeo": [
           {
            "marker": {
             "colorbar": {
              "outlinewidth": 0,
              "ticks": ""
             }
            },
            "type": "scattergeo"
           }
          ],
          "scattergl": [
           {
            "marker": {
             "colorbar": {
              "outlinewidth": 0,
              "ticks": ""
             }
            },
            "type": "scattergl"
           }
          ],
          "scattermapbox": [
           {
            "marker": {
             "colorbar": {
              "outlinewidth": 0,
              "ticks": ""
             }
            },
            "type": "scattermapbox"
           }
          ],
          "scatterpolar": [
           {
            "marker": {
             "colorbar": {
              "outlinewidth": 0,
              "ticks": ""
             }
            },
            "type": "scatterpolar"
           }
          ],
          "scatterpolargl": [
           {
            "marker": {
             "colorbar": {
              "outlinewidth": 0,
              "ticks": ""
             }
            },
            "type": "scatterpolargl"
           }
          ],
          "scatterternary": [
           {
            "marker": {
             "colorbar": {
              "outlinewidth": 0,
              "ticks": ""
             }
            },
            "type": "scatterternary"
           }
          ],
          "surface": [
           {
            "colorbar": {
             "outlinewidth": 0,
             "ticks": ""
            },
            "colorscale": [
             [
              0,
              "#0d0887"
             ],
             [
              0.1111111111111111,
              "#46039f"
             ],
             [
              0.2222222222222222,
              "#7201a8"
             ],
             [
              0.3333333333333333,
              "#9c179e"
             ],
             [
              0.4444444444444444,
              "#bd3786"
             ],
             [
              0.5555555555555556,
              "#d8576b"
             ],
             [
              0.6666666666666666,
              "#ed7953"
             ],
             [
              0.7777777777777778,
              "#fb9f3a"
             ],
             [
              0.8888888888888888,
              "#fdca26"
             ],
             [
              1,
              "#f0f921"
             ]
            ],
            "type": "surface"
           }
          ],
          "table": [
           {
            "cells": {
             "fill": {
              "color": "#EBF0F8"
             },
             "line": {
              "color": "white"
             }
            },
            "header": {
             "fill": {
              "color": "#C8D4E3"
             },
             "line": {
              "color": "white"
             }
            },
            "type": "table"
           }
          ]
         },
         "layout": {
          "annotationdefaults": {
           "arrowcolor": "#2a3f5f",
           "arrowhead": 0,
           "arrowwidth": 1
          },
          "autotypenumbers": "strict",
          "coloraxis": {
           "colorbar": {
            "outlinewidth": 0,
            "ticks": ""
           }
          },
          "colorscale": {
           "diverging": [
            [
             0,
             "#8e0152"
            ],
            [
             0.1,
             "#c51b7d"
            ],
            [
             0.2,
             "#de77ae"
            ],
            [
             0.3,
             "#f1b6da"
            ],
            [
             0.4,
             "#fde0ef"
            ],
            [
             0.5,
             "#f7f7f7"
            ],
            [
             0.6,
             "#e6f5d0"
            ],
            [
             0.7,
             "#b8e186"
            ],
            [
             0.8,
             "#7fbc41"
            ],
            [
             0.9,
             "#4d9221"
            ],
            [
             1,
             "#276419"
            ]
           ],
           "sequential": [
            [
             0,
             "#0d0887"
            ],
            [
             0.1111111111111111,
             "#46039f"
            ],
            [
             0.2222222222222222,
             "#7201a8"
            ],
            [
             0.3333333333333333,
             "#9c179e"
            ],
            [
             0.4444444444444444,
             "#bd3786"
            ],
            [
             0.5555555555555556,
             "#d8576b"
            ],
            [
             0.6666666666666666,
             "#ed7953"
            ],
            [
             0.7777777777777778,
             "#fb9f3a"
            ],
            [
             0.8888888888888888,
             "#fdca26"
            ],
            [
             1,
             "#f0f921"
            ]
           ],
           "sequentialminus": [
            [
             0,
             "#0d0887"
            ],
            [
             0.1111111111111111,
             "#46039f"
            ],
            [
             0.2222222222222222,
             "#7201a8"
            ],
            [
             0.3333333333333333,
             "#9c179e"
            ],
            [
             0.4444444444444444,
             "#bd3786"
            ],
            [
             0.5555555555555556,
             "#d8576b"
            ],
            [
             0.6666666666666666,
             "#ed7953"
            ],
            [
             0.7777777777777778,
             "#fb9f3a"
            ],
            [
             0.8888888888888888,
             "#fdca26"
            ],
            [
             1,
             "#f0f921"
            ]
           ]
          },
          "colorway": [
           "#636efa",
           "#EF553B",
           "#00cc96",
           "#ab63fa",
           "#FFA15A",
           "#19d3f3",
           "#FF6692",
           "#B6E880",
           "#FF97FF",
           "#FECB52"
          ],
          "font": {
           "color": "#2a3f5f"
          },
          "geo": {
           "bgcolor": "white",
           "lakecolor": "white",
           "landcolor": "#E5ECF6",
           "showlakes": true,
           "showland": true,
           "subunitcolor": "white"
          },
          "hoverlabel": {
           "align": "left"
          },
          "hovermode": "closest",
          "mapbox": {
           "style": "light"
          },
          "paper_bgcolor": "white",
          "plot_bgcolor": "#E5ECF6",
          "polar": {
           "angularaxis": {
            "gridcolor": "white",
            "linecolor": "white",
            "ticks": ""
           },
           "bgcolor": "#E5ECF6",
           "radialaxis": {
            "gridcolor": "white",
            "linecolor": "white",
            "ticks": ""
           }
          },
          "scene": {
           "xaxis": {
            "backgroundcolor": "#E5ECF6",
            "gridcolor": "white",
            "gridwidth": 2,
            "linecolor": "white",
            "showbackground": true,
            "ticks": "",
            "zerolinecolor": "white"
           },
           "yaxis": {
            "backgroundcolor": "#E5ECF6",
            "gridcolor": "white",
            "gridwidth": 2,
            "linecolor": "white",
            "showbackground": true,
            "ticks": "",
            "zerolinecolor": "white"
           },
           "zaxis": {
            "backgroundcolor": "#E5ECF6",
            "gridcolor": "white",
            "gridwidth": 2,
            "linecolor": "white",
            "showbackground": true,
            "ticks": "",
            "zerolinecolor": "white"
           }
          },
          "shapedefaults": {
           "line": {
            "color": "#2a3f5f"
           }
          },
          "ternary": {
           "aaxis": {
            "gridcolor": "white",
            "linecolor": "white",
            "ticks": ""
           },
           "baxis": {
            "gridcolor": "white",
            "linecolor": "white",
            "ticks": ""
           },
           "bgcolor": "#E5ECF6",
           "caxis": {
            "gridcolor": "white",
            "linecolor": "white",
            "ticks": ""
           }
          },
          "title": {
           "x": 0.05
          },
          "xaxis": {
           "automargin": true,
           "gridcolor": "white",
           "linecolor": "white",
           "ticks": "",
           "title": {
            "standoff": 15
           },
           "zerolinecolor": "white",
           "zerolinewidth": 2
          },
          "yaxis": {
           "automargin": true,
           "gridcolor": "white",
           "linecolor": "white",
           "ticks": "",
           "title": {
            "standoff": 15
           },
           "zerolinecolor": "white",
           "zerolinewidth": 2
          }
         }
        },
        "xaxis": {
         "anchor": "y",
         "categoryarray": [],
         "categoryorder": "array",
         "domain": [
          0,
          1
         ],
         "title": {
          "text": "sketch_fn"
         }
        },
        "yaxis": {
         "anchor": "x",
         "domain": [
          0,
          1
         ],
         "title": {
          "text": "sum of time"
         }
        }
       }
      },
      "text/html": [
       "<div>                            <div id=\"d99d096c-0272-4e31-9611-2d174e36594b\" class=\"plotly-graph-div\" style=\"height:700px; width:100%;\"></div>            <script type=\"text/javascript\">                require([\"plotly\"], function(Plotly) {                    window.PLOTLYENV=window.PLOTLYENV || {};                                    if (document.getElementById(\"d99d096c-0272-4e31-9611-2d174e36594b\")) {                    Plotly.newPlot(                        \"d99d096c-0272-4e31-9611-2d174e36594b\",                        [],                        {\"template\":{\"data\":{\"histogram2dcontour\":[{\"type\":\"histogram2dcontour\",\"colorbar\":{\"outlinewidth\":0,\"ticks\":\"\"},\"colorscale\":[[0.0,\"#0d0887\"],[0.1111111111111111,\"#46039f\"],[0.2222222222222222,\"#7201a8\"],[0.3333333333333333,\"#9c179e\"],[0.4444444444444444,\"#bd3786\"],[0.5555555555555556,\"#d8576b\"],[0.6666666666666666,\"#ed7953\"],[0.7777777777777778,\"#fb9f3a\"],[0.8888888888888888,\"#fdca26\"],[1.0,\"#f0f921\"]]}],\"choropleth\":[{\"type\":\"choropleth\",\"colorbar\":{\"outlinewidth\":0,\"ticks\":\"\"}}],\"histogram2d\":[{\"type\":\"histogram2d\",\"colorbar\":{\"outlinewidth\":0,\"ticks\":\"\"},\"colorscale\":[[0.0,\"#0d0887\"],[0.1111111111111111,\"#46039f\"],[0.2222222222222222,\"#7201a8\"],[0.3333333333333333,\"#9c179e\"],[0.4444444444444444,\"#bd3786\"],[0.5555555555555556,\"#d8576b\"],[0.6666666666666666,\"#ed7953\"],[0.7777777777777778,\"#fb9f3a\"],[0.8888888888888888,\"#fdca26\"],[1.0,\"#f0f921\"]]}],\"heatmap\":[{\"type\":\"heatmap\",\"colorbar\":{\"outlinewidth\":0,\"ticks\":\"\"},\"colorscale\":[[0.0,\"#0d0887\"],[0.1111111111111111,\"#46039f\"],[0.2222222222222222,\"#7201a8\"],[0.3333333333333333,\"#9c179e\"],[0.4444444444444444,\"#bd3786\"],[0.5555555555555556,\"#d8576b\"],[0.6666666666666666,\"#ed7953\"],[0.7777777777777778,\"#fb9f3a\"],[0.8888888888888888,\"#fdca26\"],[1.0,\"#f0f921\"]]}],\"heatmapgl\":[{\"type\":\"heatmapgl\",\"colorbar\":{\"outlinewidth\":0,\"ticks\":\"\"},\"colorscale\":[[0.0,\"#0d0887\"],[0.1111111111111111,\"#46039f\"],[0.2222222222222222,\"#7201a8\"],[0.3333333333333333,\"#9c179e\"],[0.4444444444444444,\"#bd3786\"],[0.5555555555555556,\"#d8576b\"],[0.6666666666666666,\"#ed7953\"],[0.7777777777777778,\"#fb9f3a\"],[0.8888888888888888,\"#fdca26\"],[1.0,\"#f0f921\"]]}],\"contourcarpet\":[{\"type\":\"contourcarpet\",\"colorbar\":{\"outlinewidth\":0,\"ticks\":\"\"}}],\"contour\":[{\"type\":\"contour\",\"colorbar\":{\"outlinewidth\":0,\"ticks\":\"\"},\"colorscale\":[[0.0,\"#0d0887\"],[0.1111111111111111,\"#46039f\"],[0.2222222222222222,\"#7201a8\"],[0.3333333333333333,\"#9c179e\"],[0.4444444444444444,\"#bd3786\"],[0.5555555555555556,\"#d8576b\"],[0.6666666666666666,\"#ed7953\"],[0.7777777777777778,\"#fb9f3a\"],[0.8888888888888888,\"#fdca26\"],[1.0,\"#f0f921\"]]}],\"surface\":[{\"type\":\"surface\",\"colorbar\":{\"outlinewidth\":0,\"ticks\":\"\"},\"colorscale\":[[0.0,\"#0d0887\"],[0.1111111111111111,\"#46039f\"],[0.2222222222222222,\"#7201a8\"],[0.3333333333333333,\"#9c179e\"],[0.4444444444444444,\"#bd3786\"],[0.5555555555555556,\"#d8576b\"],[0.6666666666666666,\"#ed7953\"],[0.7777777777777778,\"#fb9f3a\"],[0.8888888888888888,\"#fdca26\"],[1.0,\"#f0f921\"]]}],\"mesh3d\":[{\"type\":\"mesh3d\",\"colorbar\":{\"outlinewidth\":0,\"ticks\":\"\"}}],\"scatter\":[{\"fillpattern\":{\"fillmode\":\"overlay\",\"size\":10,\"solidity\":0.2},\"type\":\"scatter\"}],\"parcoords\":[{\"type\":\"parcoords\",\"line\":{\"colorbar\":{\"outlinewidth\":0,\"ticks\":\"\"}}}],\"scatterpolargl\":[{\"type\":\"scatterpolargl\",\"marker\":{\"colorbar\":{\"outlinewidth\":0,\"ticks\":\"\"}}}],\"bar\":[{\"error_x\":{\"color\":\"#2a3f5f\"},\"error_y\":{\"color\":\"#2a3f5f\"},\"marker\":{\"line\":{\"color\":\"#E5ECF6\",\"width\":0.5},\"pattern\":{\"fillmode\":\"overlay\",\"size\":10,\"solidity\":0.2}},\"type\":\"bar\"}],\"scattergeo\":[{\"type\":\"scattergeo\",\"marker\":{\"colorbar\":{\"outlinewidth\":0,\"ticks\":\"\"}}}],\"scatterpolar\":[{\"type\":\"scatterpolar\",\"marker\":{\"colorbar\":{\"outlinewidth\":0,\"ticks\":\"\"}}}],\"histogram\":[{\"marker\":{\"pattern\":{\"fillmode\":\"overlay\",\"size\":10,\"solidity\":0.2}},\"type\":\"histogram\"}],\"scattergl\":[{\"type\":\"scattergl\",\"marker\":{\"colorbar\":{\"outlinewidth\":0,\"ticks\":\"\"}}}],\"scatter3d\":[{\"type\":\"scatter3d\",\"line\":{\"colorbar\":{\"outlinewidth\":0,\"ticks\":\"\"}},\"marker\":{\"colorbar\":{\"outlinewidth\":0,\"ticks\":\"\"}}}],\"scattermapbox\":[{\"type\":\"scattermapbox\",\"marker\":{\"colorbar\":{\"outlinewidth\":0,\"ticks\":\"\"}}}],\"scatterternary\":[{\"type\":\"scatterternary\",\"marker\":{\"colorbar\":{\"outlinewidth\":0,\"ticks\":\"\"}}}],\"scattercarpet\":[{\"type\":\"scattercarpet\",\"marker\":{\"colorbar\":{\"outlinewidth\":0,\"ticks\":\"\"}}}],\"carpet\":[{\"aaxis\":{\"endlinecolor\":\"#2a3f5f\",\"gridcolor\":\"white\",\"linecolor\":\"white\",\"minorgridcolor\":\"white\",\"startlinecolor\":\"#2a3f5f\"},\"baxis\":{\"endlinecolor\":\"#2a3f5f\",\"gridcolor\":\"white\",\"linecolor\":\"white\",\"minorgridcolor\":\"white\",\"startlinecolor\":\"#2a3f5f\"},\"type\":\"carpet\"}],\"table\":[{\"cells\":{\"fill\":{\"color\":\"#EBF0F8\"},\"line\":{\"color\":\"white\"}},\"header\":{\"fill\":{\"color\":\"#C8D4E3\"},\"line\":{\"color\":\"white\"}},\"type\":\"table\"}],\"barpolar\":[{\"marker\":{\"line\":{\"color\":\"#E5ECF6\",\"width\":0.5},\"pattern\":{\"fillmode\":\"overlay\",\"size\":10,\"solidity\":0.2}},\"type\":\"barpolar\"}],\"pie\":[{\"automargin\":true,\"type\":\"pie\"}]},\"layout\":{\"autotypenumbers\":\"strict\",\"colorway\":[\"#636efa\",\"#EF553B\",\"#00cc96\",\"#ab63fa\",\"#FFA15A\",\"#19d3f3\",\"#FF6692\",\"#B6E880\",\"#FF97FF\",\"#FECB52\"],\"font\":{\"color\":\"#2a3f5f\"},\"hovermode\":\"closest\",\"hoverlabel\":{\"align\":\"left\"},\"paper_bgcolor\":\"white\",\"plot_bgcolor\":\"#E5ECF6\",\"polar\":{\"bgcolor\":\"#E5ECF6\",\"angularaxis\":{\"gridcolor\":\"white\",\"linecolor\":\"white\",\"ticks\":\"\"},\"radialaxis\":{\"gridcolor\":\"white\",\"linecolor\":\"white\",\"ticks\":\"\"}},\"ternary\":{\"bgcolor\":\"#E5ECF6\",\"aaxis\":{\"gridcolor\":\"white\",\"linecolor\":\"white\",\"ticks\":\"\"},\"baxis\":{\"gridcolor\":\"white\",\"linecolor\":\"white\",\"ticks\":\"\"},\"caxis\":{\"gridcolor\":\"white\",\"linecolor\":\"white\",\"ticks\":\"\"}},\"coloraxis\":{\"colorbar\":{\"outlinewidth\":0,\"ticks\":\"\"}},\"colorscale\":{\"sequential\":[[0.0,\"#0d0887\"],[0.1111111111111111,\"#46039f\"],[0.2222222222222222,\"#7201a8\"],[0.3333333333333333,\"#9c179e\"],[0.4444444444444444,\"#bd3786\"],[0.5555555555555556,\"#d8576b\"],[0.6666666666666666,\"#ed7953\"],[0.7777777777777778,\"#fb9f3a\"],[0.8888888888888888,\"#fdca26\"],[1.0,\"#f0f921\"]],\"sequentialminus\":[[0.0,\"#0d0887\"],[0.1111111111111111,\"#46039f\"],[0.2222222222222222,\"#7201a8\"],[0.3333333333333333,\"#9c179e\"],[0.4444444444444444,\"#bd3786\"],[0.5555555555555556,\"#d8576b\"],[0.6666666666666666,\"#ed7953\"],[0.7777777777777778,\"#fb9f3a\"],[0.8888888888888888,\"#fdca26\"],[1.0,\"#f0f921\"]],\"diverging\":[[0,\"#8e0152\"],[0.1,\"#c51b7d\"],[0.2,\"#de77ae\"],[0.3,\"#f1b6da\"],[0.4,\"#fde0ef\"],[0.5,\"#f7f7f7\"],[0.6,\"#e6f5d0\"],[0.7,\"#b8e186\"],[0.8,\"#7fbc41\"],[0.9,\"#4d9221\"],[1,\"#276419\"]]},\"xaxis\":{\"gridcolor\":\"white\",\"linecolor\":\"white\",\"ticks\":\"\",\"title\":{\"standoff\":15},\"zerolinecolor\":\"white\",\"automargin\":true,\"zerolinewidth\":2},\"yaxis\":{\"gridcolor\":\"white\",\"linecolor\":\"white\",\"ticks\":\"\",\"title\":{\"standoff\":15},\"zerolinecolor\":\"white\",\"automargin\":true,\"zerolinewidth\":2},\"scene\":{\"xaxis\":{\"backgroundcolor\":\"#E5ECF6\",\"gridcolor\":\"white\",\"linecolor\":\"white\",\"showbackground\":true,\"ticks\":\"\",\"zerolinecolor\":\"white\",\"gridwidth\":2},\"yaxis\":{\"backgroundcolor\":\"#E5ECF6\",\"gridcolor\":\"white\",\"linecolor\":\"white\",\"showbackground\":true,\"ticks\":\"\",\"zerolinecolor\":\"white\",\"gridwidth\":2},\"zaxis\":{\"backgroundcolor\":\"#E5ECF6\",\"gridcolor\":\"white\",\"linecolor\":\"white\",\"showbackground\":true,\"ticks\":\"\",\"zerolinecolor\":\"white\",\"gridwidth\":2}},\"shapedefaults\":{\"line\":{\"color\":\"#2a3f5f\"}},\"annotationdefaults\":{\"arrowcolor\":\"#2a3f5f\",\"arrowhead\":0,\"arrowwidth\":1},\"geo\":{\"bgcolor\":\"white\",\"landcolor\":\"#E5ECF6\",\"subunitcolor\":\"white\",\"showland\":true,\"showlakes\":true,\"lakecolor\":\"white\"},\"title\":{\"x\":0.05},\"mapbox\":{\"style\":\"light\"}}},\"xaxis\":{\"anchor\":\"y\",\"domain\":[0.0,1.0],\"title\":{\"text\":\"sketch_fn\"},\"categoryorder\":\"array\",\"categoryarray\":[]},\"yaxis\":{\"anchor\":\"x\",\"domain\":[0.0,1.0],\"title\":{\"text\":\"sum of time\"}},\"legend\":{\"tracegroupgap\":0},\"margin\":{\"t\":60},\"barmode\":\"group\",\"height\":700},                        {\"responsive\": true}                    ).then(function(){\n",
       "                            \n",
       "var gd = document.getElementById('d99d096c-0272-4e31-9611-2d174e36594b');\n",
       "var x = new MutationObserver(function (mutations, observer) {{\n",
       "        var display = window.getComputedStyle(gd).display;\n",
       "        if (!display || display === 'none') {{\n",
       "            console.log([gd, 'removed!']);\n",
       "            Plotly.purge(gd);\n",
       "            observer.disconnect();\n",
       "        }}\n",
       "}});\n",
       "\n",
       "// Listen for the removal of the full notebook cells\n",
       "var notebookContainer = gd.closest('#notebook-container');\n",
       "if (notebookContainer) {{\n",
       "    x.observe(notebookContainer, {childList: true});\n",
       "}}\n",
       "\n",
       "// Listen for the clearing of the current output cell\n",
       "var outputEl = gd.closest('.output');\n",
       "if (outputEl) {{\n",
       "    x.observe(outputEl, {childList: true});\n",
       "}}\n",
       "\n",
       "                        })                };                });            </script>        </div>"
      ]
     },
     "metadata": {},
     "output_type": "display_data"
    }
   ],
   "source": [
    "for d in np.unique(df.d):\n",
    "    print(f\"{d=}\")\n",
    "    df_ = df[(df.d==d)&(df.cn==1024)]\n",
    "    fig = px.histogram(df_, \n",
    "                       x=\"sketch_fn\", \n",
    "                       y=\"time\",\n",
    "                       color=\"method\", \n",
    "                       pattern_shape=\"sketch_fn\",\n",
    "                       barmode='group',\n",
    "                       text_auto='.2s',\n",
    "                       facet_row='n',\n",
    "                       facet_col='deff',\n",
    "                       #log_y=True,\n",
    "                      )\n",
    "\n",
    "    fig.update_traces(textangle=0, textposition=\"outside\", cliponaxis=False)\n",
    "\n",
    "    fig.update_layout(height=700)\n",
    "    fig.show()"
   ]
  },
  {
   "cell_type": "code",
   "execution_count": 193,
   "metadata": {},
   "outputs": [
    {
     "data": {
      "text/html": [
       "<div>\n",
       "<style scoped>\n",
       "    .dataframe tbody tr th:only-of-type {\n",
       "        vertical-align: middle;\n",
       "    }\n",
       "\n",
       "    .dataframe tbody tr th {\n",
       "        vertical-align: top;\n",
       "    }\n",
       "\n",
       "    .dataframe thead th {\n",
       "        text-align: right;\n",
       "    }\n",
       "</style>\n",
       "<table border=\"1\" class=\"dataframe\">\n",
       "  <thead>\n",
       "    <tr style=\"text-align: right;\">\n",
       "      <th></th>\n",
       "      <th>n</th>\n",
       "      <th>d</th>\n",
       "      <th>deff</th>\n",
       "      <th>cn</th>\n",
       "      <th>reg_param</th>\n",
       "      <th>pcg_sketch_size</th>\n",
       "      <th>ada_sketch_size</th>\n",
       "      <th>max_sketch_size</th>\n",
       "      <th>tolerance</th>\n",
       "      <th>tolerance_warmup</th>\n",
       "      <th>n_iterations</th>\n",
       "      <th>n_iterations_cg</th>\n",
       "      <th>num_workers</th>\n",
       "      <th>dtype</th>\n",
       "      <th>time</th>\n",
       "      <th>method</th>\n",
       "      <th>sketch_fn</th>\n",
       "    </tr>\n",
       "  </thead>\n",
       "  <tbody>\n",
       "    <tr>\n",
       "      <th>104</th>\n",
       "      <td>2048</td>\n",
       "      <td>64</td>\n",
       "      <td>63.668717</td>\n",
       "      <td>2048</td>\n",
       "      <td>0.000122</td>\n",
       "      <td>256</td>\n",
       "      <td>32</td>\n",
       "      <td>256</td>\n",
       "      <td>0.000001</td>\n",
       "      <td>0.0001</td>\n",
       "      <td>200</td>\n",
       "      <td>1000</td>\n",
       "      <td>1</td>\n",
       "      <td>float64</td>\n",
       "      <td>0.000837</td>\n",
       "      <td>dm</td>\n",
       "      <td>none</td>\n",
       "    </tr>\n",
       "    <tr>\n",
       "      <th>184</th>\n",
       "      <td>2048</td>\n",
       "      <td>64</td>\n",
       "      <td>31.972399</td>\n",
       "      <td>2048</td>\n",
       "      <td>0.000488</td>\n",
       "      <td>256</td>\n",
       "      <td>32</td>\n",
       "      <td>256</td>\n",
       "      <td>0.000001</td>\n",
       "      <td>0.0001</td>\n",
       "      <td>200</td>\n",
       "      <td>1000</td>\n",
       "      <td>1</td>\n",
       "      <td>float64</td>\n",
       "      <td>0.000860</td>\n",
       "      <td>dm</td>\n",
       "      <td>none</td>\n",
       "    </tr>\n",
       "  </tbody>\n",
       "</table>\n",
       "</div>"
      ],
      "text/plain": [
       "        n   d       deff    cn  reg_param  pcg_sketch_size  ada_sketch_size  \\\n",
       "104  2048  64  63.668717  2048   0.000122              256               32   \n",
       "184  2048  64  31.972399  2048   0.000488              256               32   \n",
       "\n",
       "     max_sketch_size  tolerance  tolerance_warmup  n_iterations  \\\n",
       "104              256   0.000001            0.0001           200   \n",
       "184              256   0.000001            0.0001           200   \n",
       "\n",
       "     n_iterations_cg  num_workers    dtype      time method sketch_fn  \n",
       "104             1000            1  float64  0.000837     dm      none  \n",
       "184             1000            1  float64  0.000860     dm      none  "
      ]
     },
     "execution_count": 193,
     "metadata": {},
     "output_type": "execute_result"
    }
   ],
   "source": [
    "df[(df.n==2048)&(df.d==64)&(df.cn==2048)&(df.method=='dm')]"
   ]
  },
  {
   "cell_type": "code",
   "execution_count": null,
   "metadata": {},
   "outputs": [],
   "source": []
  },
  {
   "cell_type": "markdown",
   "metadata": {},
   "source": [
    "# Sparse Cholesky decomposition"
   ]
  },
  {
   "cell_type": "code",
   "execution_count": 6,
   "metadata": {},
   "outputs": [],
   "source": [
    "a, b = load_real_data(dataset_name='rcv1')\n",
    "ns = 10000\n",
    "ds = 200\n",
    "ab = a[:ns, :ds]\n",
    "bb = b[:ns]\n",
    "rescale_data = True\n",
    "check_reg_param = True"
   ]
  },
  {
   "cell_type": "code",
   "execution_count": 7,
   "metadata": {
    "scrolled": true
   },
   "outputs": [
    {
     "name": "stderr",
     "output_type": "stream",
     "text": [
      "INFO:root:Rescaling data by max singular value: sigma_top=0.002423529515111234\n",
      "INFO:root:direct method using sparse LU decomposition\n"
     ]
    }
   ],
   "source": [
    "#start = time()\n",
    "dm = DirectMethod(a=ab, b=bb, reg_param=1e-2, rescale_data=rescale_data, check_reg_param=check_reg_param)\n",
    "dm.fit()\n",
    "#print(f\"within notebook: solve time = {time()-start}\")\n",
    "#print(f\"within script: solve time = {t_}\")"
   ]
  },
  {
   "cell_type": "code",
   "execution_count": 8,
   "metadata": {
    "scrolled": true
   },
   "outputs": [
    {
     "name": "stderr",
     "output_type": "stream",
     "text": [
      "INFO:root:Rescaling data by max singular value: sigma_top=0.002544724042674037\n"
     ]
    },
    {
     "name": "stdout",
     "output_type": "stream",
     "text": [
      "dict_keys(['average_gradient_norms', 'exit_code'])\n"
     ]
    }
   ],
   "source": [
    "cg = CG(a=ab, b=bb, reg_param=1e-3, rescale_data=rescale_data, check_reg_param=check_reg_param)\n",
    "\n",
    "fit_params = {\n",
    "    'tolerance': 1e-10,\n",
    "    'n_iterations': 100,\n",
    "    'get_full_metrics': False\n",
    "}\n",
    "cg.fit(**fit_params)\n",
    "print(cg.metrics.keys())"
   ]
  },
  {
   "cell_type": "code",
   "execution_count": null,
   "metadata": {},
   "outputs": [],
   "source": []
  },
  {
   "cell_type": "code",
   "execution_count": null,
   "metadata": {},
   "outputs": [],
   "source": []
  },
  {
   "cell_type": "code",
   "execution_count": null,
   "metadata": {},
   "outputs": [],
   "source": []
  },
  {
   "cell_type": "code",
   "execution_count": 145,
   "metadata": {
    "scrolled": true
   },
   "outputs": [
    {
     "name": "stderr",
     "output_type": "stream",
     "text": [
      "INFO:root:Rescaling data by max singular value: sigma_top=0.15448754352051494\n",
      "INFO:root:preconditioned conjugate gradient method: sketch_fn='sjlt', sketch_size=1024, tolerance=1e-10, n_iterations=100\n"
     ]
    },
    {
     "name": "stdout",
     "output_type": "stream",
     "text": [
      "within notebook: init time = 5.202043281999977\n"
     ]
    },
    {
     "name": "stderr",
     "output_type": "stream",
     "text": [
      "INFO:root:termination: maximum number of iterations - tolerance=1e-10, mean_err=1.5536731833112043e-05\n"
     ]
    },
    {
     "name": "stdout",
     "output_type": "stream",
     "text": [
      "within notebook: solve time = 34.565725970999665\n",
      "within script: solve time = 24.467998789999\n",
      "within notebook: total time = 39.768233457999486\n"
     ]
    }
   ],
   "source": [
    "start_ = time()\n",
    "pcg = PCG(a=ab, b=bb, reg_param=1e-3, rescale_data=rescale_data, check_reg_param=check_reg_param)\n",
    "print(f\"within notebook: init time = {time()-start_}\")\n",
    "start = time()\n",
    "x_opt, errors, residuals, times, iters_, ssizes = pcg.solve(sketch_size=1024, \n",
    "                                                            sketch_fn='sjlt', \n",
    "                                                            n_iterations=100, \n",
    "                                                            tolerance=1e-10, \n",
    "                                                            get_metrics=True)\n",
    "print(f\"within notebook: solve time = {time()-start}\")\n",
    "print(f\"within script: solve time = {np.cumsum(times)[-1]}\")\n",
    "print(f\"within notebook: total time = {time()-start_}\")"
   ]
  },
  {
   "cell_type": "code",
   "execution_count": 146,
   "metadata": {},
   "outputs": [
    {
     "name": "stderr",
     "output_type": "stream",
     "text": [
      "INFO:root:Rescaling data by max singular value: sigma_top=0.1539839004410614\n",
      "INFO:root:preconditioned conjugate gradient method: sketch_fn='sjlt', sketch_size=1024, tolerance=1e-10, n_iterations=100\n"
     ]
    },
    {
     "name": "stdout",
     "output_type": "stream",
     "text": [
      "within notebook: init time = 5.48554232099923\n",
      "within notebook: solve time = 25.53425026199966\n",
      "within notebook: total time = 31.02022687799945\n"
     ]
    }
   ],
   "source": [
    "start_ = time()\n",
    "pcg = PCG(a=ab, b=bb, reg_param=1e-3, rescale_data=rescale_data, check_reg_param=check_reg_param)\n",
    "print(f\"within notebook: init time = {time()-start_}\")\n",
    "start = time()\n",
    "x_opt, mean_err, exit_code = pcg.solve(sketch_size=1024, \n",
    "                                        sketch_fn='sjlt', \n",
    "                                        n_iterations=100, \n",
    "                                        tolerance=1e-10, \n",
    "                                        get_metrics=False)\n",
    "print(f\"within notebook: solve time = {time()-start}\")\n",
    "print(f\"within notebook: total time = {time()-start_}\")"
   ]
  },
  {
   "cell_type": "code",
   "execution_count": null,
   "metadata": {},
   "outputs": [],
   "source": []
  },
  {
   "cell_type": "code",
   "execution_count": null,
   "metadata": {},
   "outputs": [],
   "source": []
  },
  {
   "cell_type": "code",
   "execution_count": null,
   "metadata": {},
   "outputs": [],
   "source": []
  },
  {
   "cell_type": "code",
   "execution_count": null,
   "metadata": {},
   "outputs": [],
   "source": []
  },
  {
   "cell_type": "code",
   "execution_count": null,
   "metadata": {},
   "outputs": [],
   "source": []
  },
  {
   "cell_type": "code",
   "execution_count": 4,
   "metadata": {},
   "outputs": [
    {
     "data": {
      "text/plain": [
       "<804414x10000 sparse matrix of type '<class 'numpy.float64'>'\n",
       "\twith 12762973 stored elements in Compressed Sparse Row format>"
      ]
     },
     "execution_count": 4,
     "metadata": {},
     "output_type": "execute_result"
    }
   ],
   "source": [
    "ab = a[:,:10000]\n",
    "ab"
   ]
  },
  {
   "cell_type": "code",
   "execution_count": 5,
   "metadata": {},
   "outputs": [
    {
     "data": {
      "text/plain": [
       "<2000x10000 sparse matrix of type '<class 'numpy.float64'>'\n",
       "\twith 2725407 stored elements in Compressed Sparse Column format>"
      ]
     },
     "execution_count": 5,
     "metadata": {},
     "output_type": "execute_result"
    }
   ],
   "source": [
    "sab = sjlt(a=ab, sketch_size=2000)\n",
    "#sab_t = sab.T\n",
    "sab"
   ]
  },
  {
   "cell_type": "code",
   "execution_count": 46,
   "metadata": {},
   "outputs": [
    {
     "name": "stdout",
     "output_type": "stream",
     "text": [
      "0.1362609\n",
      "0.001586617463147086\n",
      "1.0\n"
     ]
    }
   ],
   "source": [
    "print(sab.nnz / (sab.shape[0]*sab.shape[1]))\n",
    "print(ab.nnz / (ab.shape[0]*ab.shape[1]))\n",
    "\n",
    "h = sab @ sab.T #+ 1e-2 * sparse_identity_matrix(sab.shape[0])\n",
    "\n",
    "print(h.nnz / (h.shape[0]*h.shape[1]))"
   ]
  },
  {
   "cell_type": "code",
   "execution_count": null,
   "metadata": {
    "scrolled": true
   },
   "outputs": [
    {
     "name": "stdout",
     "output_type": "stream",
     "text": [
      "\n",
      "d_=20000, sketch_size=128\n",
      "\n",
      "method1: sa.nnz/(sa.shape[0]*sa.shape[1])=0.447492578125\n",
      "947 ms ± 15.4 ms per loop (mean ± std. dev. of 7 runs, 1 loop each)\n",
      "\n",
      "method2: sasa.nnz/(sasa.shape[0]*sasa.shape[1])=1.0\n",
      "1.16 s ± 36.7 ms per loop (mean ± std. dev. of 7 runs, 1 loop each)\n",
      "\n",
      "method 3: h.nnz/(h.shape[0]*h.shape[1])=1.0\n",
      "1.14 s ± 15.7 ms per loop (mean ± std. dev. of 7 runs, 1 loop each)\n",
      "\n",
      "method 4: h.nnz/(h.shape[0]*h.shape[1])=1.0\n",
      "1.13 s ± 36.4 ms per loop (mean ± std. dev. of 7 runs, 1 loop each)\n",
      "\n",
      "d_=20000, sketch_size=256\n",
      "\n",
      "method1: sa.nnz/(sa.shape[0]*sa.shape[1])=0.3489388671875\n",
      "960 ms ± 24.4 ms per loop (mean ± std. dev. of 7 runs, 1 loop each)\n",
      "\n",
      "method2: sasa.nnz/(sasa.shape[0]*sasa.shape[1])=1.0\n",
      "1.56 s ± 14.1 ms per loop (mean ± std. dev. of 7 runs, 1 loop each)\n",
      "\n",
      "method 3: h.nnz/(h.shape[0]*h.shape[1])=1.0\n",
      "1.61 s ± 70.6 ms per loop (mean ± std. dev. of 7 runs, 1 loop each)\n",
      "\n",
      "method 4: h.nnz/(h.shape[0]*h.shape[1])=1.0\n",
      "1.6 s ± 52.9 ms per loop (mean ± std. dev. of 7 runs, 1 loop each)\n",
      "\n",
      "d_=20000, sketch_size=512\n",
      "\n",
      "method1: sa.nnz/(sa.shape[0]*sa.shape[1])=0.26259912109375\n",
      "1 s ± 48.9 ms per loop (mean ± std. dev. of 7 runs, 1 loop each)\n",
      "\n",
      "method2: sasa.nnz/(sasa.shape[0]*sasa.shape[1])=1.0\n",
      "2.55 s ± 57.9 ms per loop (mean ± std. dev. of 7 runs, 1 loop each)\n",
      "\n",
      "method 3: h.nnz/(h.shape[0]*h.shape[1])=1.0\n",
      "2.61 s ± 24.3 ms per loop (mean ± std. dev. of 7 runs, 1 loop each)\n",
      "\n",
      "method 4: h.nnz/(h.shape[0]*h.shape[1])=1.0\n",
      "2.53 s ± 25.7 ms per loop (mean ± std. dev. of 7 runs, 1 loop each)\n",
      "\n",
      "d_=20000, sketch_size=1024\n",
      "\n",
      "method1: sa.nnz/(sa.shape[0]*sa.shape[1])=0.191842236328125\n",
      "1.11 s ± 21.8 ms per loop (mean ± std. dev. of 7 runs, 1 loop each)\n",
      "\n",
      "method2: sasa.nnz/(sasa.shape[0]*sasa.shape[1])=1.0\n",
      "5.43 s ± 76.4 ms per loop (mean ± std. dev. of 7 runs, 1 loop each)\n",
      "\n",
      "method 3: h.nnz/(h.shape[0]*h.shape[1])=1.0\n",
      "5.38 s ± 45 ms per loop (mean ± std. dev. of 7 runs, 1 loop each)\n",
      "\n",
      "method 4: h.nnz/(h.shape[0]*h.shape[1])=1.0\n",
      "6.24 s ± 450 ms per loop (mean ± std. dev. of 7 runs, 1 loop each)\n",
      "\n",
      "d_=20000, sketch_size=2048\n",
      "\n",
      "method1: sa.nnz/(sa.shape[0]*sa.shape[1])=0.1369605224609375\n",
      "1.87 s ± 326 ms per loop (mean ± std. dev. of 7 runs, 1 loop each)\n",
      "\n",
      "method2: sasa.nnz/(sasa.shape[0]*sasa.shape[1])=1.0\n",
      "15.1 s ± 251 ms per loop (mean ± std. dev. of 7 runs, 1 loop each)\n",
      "\n",
      "method 3: h.nnz/(h.shape[0]*h.shape[1])=1.0\n",
      "15.1 s ± 300 ms per loop (mean ± std. dev. of 7 runs, 1 loop each)\n",
      "\n",
      "method 4: h.nnz/(h.shape[0]*h.shape[1])=1.0\n",
      "15.9 s ± 284 ms per loop (mean ± std. dev. of 7 runs, 1 loop each)\n",
      "\n",
      "d_=20000, sketch_size=4096\n",
      "\n",
      "method1: sa.nnz/(sa.shape[0]*sa.shape[1])=0.09558074951171874\n",
      "4.04 s ± 303 ms per loop (mean ± std. dev. of 7 runs, 1 loop each)\n",
      "\n",
      "method2: sasa.nnz/(sasa.shape[0]*sasa.shape[1])=1.0\n",
      "33.8 s ± 2.72 s per loop (mean ± std. dev. of 7 runs, 1 loop each)\n",
      "\n",
      "method 3: h.nnz/(h.shape[0]*h.shape[1])=1.0\n",
      "33.7 s ± 158 ms per loop (mean ± std. dev. of 7 runs, 1 loop each)\n",
      "\n",
      "method 4: h.nnz/(h.shape[0]*h.shape[1])=1.0\n",
      "39 s ± 325 ms per loop (mean ± std. dev. of 7 runs, 1 loop each)\n",
      "\n",
      "d_=20000, sketch_size=8192\n",
      "\n",
      "method1: sa.nnz/(sa.shape[0]*sa.shape[1])=0.06488899536132813\n",
      "11.3 s ± 87.6 ms per loop (mean ± std. dev. of 7 runs, 1 loop each)\n",
      "\n",
      "method2: sasa.nnz/(sasa.shape[0]*sasa.shape[1])=1.0\n",
      "1min 39s ± 368 ms per loop (mean ± std. dev. of 7 runs, 1 loop each)\n",
      "\n",
      "method 3: h.nnz/(h.shape[0]*h.shape[1])=1.0\n",
      "1min 37s ± 420 ms per loop (mean ± std. dev. of 7 runs, 1 loop each)\n",
      "\n",
      "method 4: h.nnz/(h.shape[0]*h.shape[1])=1.0\n",
      "2min 21s ± 8.77 s per loop (mean ± std. dev. of 7 runs, 1 loop each)\n",
      "\n",
      "d_=40000, sketch_size=128\n",
      "\n",
      "method1: sa.nnz/(sa.shape[0]*sa.shape[1])=0.437979296875\n",
      "2.44 s ± 405 ms per loop (mean ± std. dev. of 7 runs, 1 loop each)\n",
      "\n",
      "method2: sasa.nnz/(sasa.shape[0]*sasa.shape[1])=1.0\n",
      "2.76 s ± 276 ms per loop (mean ± std. dev. of 7 runs, 1 loop each)\n",
      "\n",
      "method 3: h.nnz/(h.shape[0]*h.shape[1])=1.0\n",
      "2.6 s ± 71.2 ms per loop (mean ± std. dev. of 7 runs, 1 loop each)\n",
      "\n",
      "method 4: h.nnz/(h.shape[0]*h.shape[1])=1.0\n",
      "3.08 s ± 378 ms per loop (mean ± std. dev. of 7 runs, 1 loop each)\n",
      "\n",
      "d_=40000, sketch_size=256\n",
      "\n",
      "method1: sa.nnz/(sa.shape[0]*sa.shape[1])=0.33963466796875\n",
      "2.42 s ± 347 ms per loop (mean ± std. dev. of 7 runs, 1 loop each)\n",
      "\n",
      "method2: sasa.nnz/(sasa.shape[0]*sasa.shape[1])=1.0\n",
      "3.53 s ± 333 ms per loop (mean ± std. dev. of 7 runs, 1 loop each)\n",
      "\n",
      "method 3: h.nnz/(h.shape[0]*h.shape[1])=1.0\n",
      "3.75 s ± 495 ms per loop (mean ± std. dev. of 7 runs, 1 loop each)\n",
      "\n",
      "method 4: h.nnz/(h.shape[0]*h.shape[1])=1.0\n",
      "4.17 s ± 405 ms per loop (mean ± std. dev. of 7 runs, 1 loop each)\n",
      "\n",
      "d_=40000, sketch_size=512\n",
      "\n",
      "method1: sa.nnz/(sa.shape[0]*sa.shape[1])=0.2540046875\n",
      "2.64 s ± 148 ms per loop (mean ± std. dev. of 7 runs, 1 loop each)\n",
      "\n",
      "method2: sasa.nnz/(sasa.shape[0]*sasa.shape[1])=1.0\n",
      "6.34 s ± 102 ms per loop (mean ± std. dev. of 7 runs, 1 loop each)\n",
      "\n",
      "method 3: h.nnz/(h.shape[0]*h.shape[1])=1.0\n",
      "6.38 s ± 378 ms per loop (mean ± std. dev. of 7 runs, 1 loop each)\n",
      "\n",
      "method 4: h.nnz/(h.shape[0]*h.shape[1])=1.0\n",
      "6.86 s ± 437 ms per loop (mean ± std. dev. of 7 runs, 1 loop each)\n",
      "\n",
      "d_=40000, sketch_size=1024\n",
      "\n",
      "method1: sa.nnz/(sa.shape[0]*sa.shape[1])=0.184648583984375\n",
      "2.86 s ± 128 ms per loop (mean ± std. dev. of 7 runs, 1 loop each)\n",
      "\n",
      "method2: sasa.nnz/(sasa.shape[0]*sasa.shape[1])=1.0\n",
      "13 s ± 178 ms per loop (mean ± std. dev. of 7 runs, 1 loop each)\n",
      "\n",
      "method 3: h.nnz/(h.shape[0]*h.shape[1])=1.0\n",
      "12.9 s ± 119 ms per loop (mean ± std. dev. of 7 runs, 1 loop each)\n",
      "\n",
      "method 4: h.nnz/(h.shape[0]*h.shape[1])=1.0\n",
      "14.4 s ± 1.59 s per loop (mean ± std. dev. of 7 runs, 1 loop each)\n",
      "\n",
      "d_=40000, sketch_size=2048\n",
      "\n",
      "method1: sa.nnz/(sa.shape[0]*sa.shape[1])=0.13120751953125\n",
      "4.09 s ± 498 ms per loop (mean ± std. dev. of 7 runs, 1 loop each)\n",
      "\n",
      "method2: sasa.nnz/(sasa.shape[0]*sasa.shape[1])=1.0\n",
      "29.1 s ± 553 ms per loop (mean ± std. dev. of 7 runs, 1 loop each)\n",
      "\n",
      "method 3: h.nnz/(h.shape[0]*h.shape[1])=1.0\n",
      "29.2 s ± 936 ms per loop (mean ± std. dev. of 7 runs, 1 loop each)\n",
      "\n",
      "method 4: h.nnz/(h.shape[0]*h.shape[1])=1.0\n",
      "31 s ± 1.21 s per loop (mean ± std. dev. of 7 runs, 1 loop each)\n",
      "\n",
      "d_=40000, sketch_size=4096\n",
      "\n",
      "method1: sa.nnz/(sa.shape[0]*sa.shape[1])=0.09126668090820313\n",
      "6.98 s ± 394 ms per loop (mean ± std. dev. of 7 runs, 1 loop each)\n",
      "\n",
      "method2: sasa.nnz/(sasa.shape[0]*sasa.shape[1])=1.0\n",
      "1min 15s ± 1.76 s per loop (mean ± std. dev. of 7 runs, 1 loop each)\n",
      "\n",
      "method 3: h.nnz/(h.shape[0]*h.shape[1])=1.0\n",
      "1min 13s ± 3.3 s per loop (mean ± std. dev. of 7 runs, 1 loop each)\n",
      "\n",
      "method 4: h.nnz/(h.shape[0]*h.shape[1])=1.0\n",
      "1min 19s ± 2.71 s per loop (mean ± std. dev. of 7 runs, 1 loop each)\n",
      "\n",
      "d_=40000, sketch_size=8192\n",
      "\n",
      "method1: sa.nnz/(sa.shape[0]*sa.shape[1])=0.061923654174804686\n",
      "22.1 s ± 716 ms per loop (mean ± std. dev. of 7 runs, 1 loop each)\n",
      "\n",
      "method2: sasa.nnz/(sasa.shape[0]*sasa.shape[1])=1.0\n"
     ]
    }
   ],
   "source": [
    "for d_ in [20000, 40000]:\n",
    "    ab = a[:,:d_]\n",
    "    for sketch_size in [128, 256, 512, 1024, 2048, 4096, 8192]:\n",
    "        print(f\"\\n{d_=}, {sketch_size=}\")\n",
    "        method1(ab, sketch_size=sketch_size, verbose=True)\n",
    "        %timeit upper_mat = method1(ab, sketch_size=sketch_size, verbose=False)\n",
    "        method2(ab, sketch_size=sketch_size, verbose=True)\n",
    "        %timeit upper_mat = method2(ab, sketch_size=sketch_size, verbose=False)\n",
    "        method3(ab, sketch_size=sketch_size, verbose=True)\n",
    "        %timeit upper_mat = method3(ab, sketch_size=sketch_size, verbose=False)\n",
    "        method4(ab, sketch_size=sketch_size, verbose=True)\n",
    "        %timeit upper_mat = method4(ab, sketch_size=sketch_size, verbose=False)"
   ]
  },
  {
   "cell_type": "code",
   "execution_count": 64,
   "metadata": {},
   "outputs": [],
   "source": [
    "def method1(aa, sketch_size=2000, verbose=False):\n",
    "    sa = sjlt(a=aa, sketch_size=sketch_size)\n",
    "    if verbose: print(f\"\\nmethod1: {sa.nnz/(sa.shape[0]*sa.shape[1])=}\")\n",
    "    sa_d = sa.todense()\n",
    "    m, d = sa_d.shape\n",
    "    if m > d:\n",
    "        h = sa_d.T @ sa_d + 0.1 * np.eye(d)\n",
    "    else:\n",
    "        h = sa_d @ sa_d.T + 0.1 * np.eye(m)\n",
    "    upper_mat = np.linalg.cholesky(h)\n",
    "    return upper_mat\n",
    "\n",
    "def method2(aa, sketch_size=2000, verbose=False):\n",
    "    sa = sjlt(a=aa, sketch_size=sketch_size)\n",
    "    m, d = sa.shape\n",
    "    if m > d:\n",
    "        sasa = sa.T @ sa\n",
    "        if verbose: print(f\"\\nmethod2: {sasa.nnz/(sasa.shape[0]*sasa.shape[1])=}\")\n",
    "        h = sasa.todense() + 0.1 * np.eye(d)\n",
    "    else:\n",
    "        sasa = sa @ sa.T\n",
    "        if verbose: print(f\"\\nmethod2: {sasa.nnz/(sasa.shape[0]*sasa.shape[1])=}\")\n",
    "        h = sasa.todense() + 0.1 * np.eye(m)\n",
    "    return np.linalg.cholesky(h)\n",
    "\n",
    "def method3(aa, sketch_size=2000, verbose=False):\n",
    "    sa = sjlt(a=aa, sketch_size=sketch_size)\n",
    "    m, d = sa.shape\n",
    "    if m > d:\n",
    "        h = sa.T @ sa + 0.1 * sparse_identity_matrix(d)\n",
    "    else:\n",
    "        h = sa @ sa.T + 0.1 * sparse_identity_matrix(m)\n",
    "    if verbose: print(f\"\\nmethod 3: {h.nnz/(h.shape[0]*h.shape[1])=}\")\n",
    "    return np.linalg.cholesky(h.todense())\n",
    "\n",
    "def method4(aa, sketch_size=2000, verbose=False):\n",
    "    sa = sjlt(a=aa, sketch_size=sketch_size)\n",
    "    m, d = sa.shape\n",
    "    if m > d:\n",
    "        h = sa.T @ sa + 0.1 * sparse_identity_matrix(d)\n",
    "    else:\n",
    "        h = sa @ sa.T + 0.1 * sparse_identity_matrix(m)\n",
    "    if verbose: print(f\"\\nmethod 4: {h.nnz/(h.shape[0]*h.shape[1])=}\")\n",
    "    return sparse_factorization(h.tocsc())"
   ]
  },
  {
   "cell_type": "code",
   "execution_count": null,
   "metadata": {},
   "outputs": [],
   "source": []
  },
  {
   "cell_type": "code",
   "execution_count": null,
   "metadata": {},
   "outputs": [],
   "source": []
  },
  {
   "cell_type": "code",
   "execution_count": 33,
   "metadata": {},
   "outputs": [
    {
     "name": "stdout",
     "output_type": "stream",
     "text": [
      "1.99 s ± 22.3 ms per loop (mean ± std. dev. of 7 runs, 1 loop each)\n",
      "18.6 s ± 1.87 s per loop (mean ± std. dev. of 7 runs, 1 loop each)\n",
      "597 ms ± 5.67 ms per loop (mean ± std. dev. of 7 runs, 1 loop each)\n",
      "453 ms ± 7.94 ms per loop (mean ± std. dev. of 7 runs, 1 loop each)\n",
      "2.45 s ± 104 ms per loop (mean ± std. dev. of 7 runs, 1 loop each)\n",
      "3.37 s ± 229 ms per loop (mean ± std. dev. of 7 runs, 1 loop each)\n"
     ]
    }
   ],
   "source": [
    "%timeit sab_t.T @ sab_t\n",
    "%timeit r_mat = sparseqr.qr(sab_t.tocoo(), economy=True)[1]\n",
    "\n",
    "r_mat = sparseqr.qr(sab_t.tocoo(), economy=True)[1]\n",
    "%timeit sparse_factorization((r_mat.T.tocsr() @ r_mat.tocsc() + 0.1*sparse_identity_matrix(r_mat.shape[1])).tocsc())\n",
    "\n",
    "%timeit sjlt(a=ab, sketch_size=2000)\n",
    "%timeit sparse_factorization(sab @ sab.T + 1e-2 * sparse_identity_matrix(sab.shape[0]))\n",
    "%timeit cholesky_AAt(sab, beta=1e-2)"
   ]
  },
  {
   "cell_type": "code",
   "execution_count": 36,
   "metadata": {},
   "outputs": [],
   "source": [
    "z = np.random.randn(sab.shape[0])\n",
    "\n",
    "cg_inner = CG(a=sab.T.tocsc(), b=z, reg_param=1e-1, least_squares=False, rescale_data=False, check_reg_param=False)"
   ]
  },
  {
   "cell_type": "code",
   "execution_count": 38,
   "metadata": {},
   "outputs": [
    {
     "name": "stderr",
     "output_type": "stream",
     "text": [
      "INFO:root:conjugate gradient method: n_iterations=10, tolerance=1e-10\n",
      "INFO:root:success: CG gradient norms <= tolerance\n"
     ]
    }
   ],
   "source": [
    "x_opt = cg_inner.solve(n_iterations=10)[0]"
   ]
  },
  {
   "cell_type": "code",
   "execution_count": 39,
   "metadata": {},
   "outputs": [
    {
     "data": {
      "text/plain": [
       "array([[ 13.7714368 ],\n",
       "       [225.5460754 ],\n",
       "       [ 18.27657872],\n",
       "       ...,\n",
       "       [ -3.69530684],\n",
       "       [ 46.21919365],\n",
       "       [ 60.88713896]])"
      ]
     },
     "execution_count": 39,
     "metadata": {},
     "output_type": "execute_result"
    }
   ],
   "source": [
    "x_opt"
   ]
  },
  {
   "cell_type": "code",
   "execution_count": null,
   "metadata": {},
   "outputs": [],
   "source": []
  },
  {
   "cell_type": "code",
   "execution_count": 24,
   "metadata": {},
   "outputs": [
    {
     "name": "stdout",
     "output_type": "stream",
     "text": [
      "336 ms ± 2.97 ms per loop (mean ± std. dev. of 7 runs, 1 loop each)\n"
     ]
    }
   ],
   "source": [
    "%timeit r_mat = sparseqr.qr(sab_t, economy=True)[1]"
   ]
  },
  {
   "cell_type": "code",
   "execution_count": 27,
   "metadata": {},
   "outputs": [
    {
     "name": "stdout",
     "output_type": "stream",
     "text": [
      "552 ms ± 9.67 ms per loop (mean ± std. dev. of 7 runs, 1 loop each)\n"
     ]
    }
   ],
   "source": [
    "%timeit sparse_factorization((r_mat.T.tocsr() @ r_mat.tocsc() + 0.1*sparse_identity_matrix(r_mat.shape[1])).tocsc())"
   ]
  },
  {
   "cell_type": "code",
   "execution_count": 28,
   "metadata": {},
   "outputs": [
    {
     "name": "stdout",
     "output_type": "stream",
     "text": [
      "18 ms ± 162 µs per loop (mean ± std. dev. of 7 runs, 100 loops each)\n"
     ]
    }
   ],
   "source": [
    "%timeit sab_t.T @ sab_t"
   ]
  },
  {
   "cell_type": "code",
   "execution_count": null,
   "metadata": {},
   "outputs": [],
   "source": []
  },
  {
   "cell_type": "code",
   "execution_count": 9,
   "metadata": {},
   "outputs": [
    {
     "data": {
      "text/plain": [
       "numpy.matrix"
      ]
     },
     "execution_count": 9,
     "metadata": {},
     "output_type": "execute_result"
    }
   ],
   "source": [
    "type(sab.todense())"
   ]
  },
  {
   "cell_type": "code",
   "execution_count": null,
   "metadata": {},
   "outputs": [],
   "source": []
  }
 ],
 "metadata": {
  "kernelspec": {
   "display_name": "Python 3",
   "language": "python",
   "name": "python3"
  },
  "language_info": {
   "codemirror_mode": {
    "name": "ipython",
    "version": 3
   },
   "file_extension": ".py",
   "mimetype": "text/x-python",
   "name": "python",
   "nbconvert_exporter": "python",
   "pygments_lexer": "ipython3",
   "version": "3.8.5"
  }
 },
 "nbformat": 4,
 "nbformat_minor": 4
}
